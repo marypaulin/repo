{
 "cells": [
  {
   "cell_type": "markdown",
   "metadata": {},
   "source": [
    "# Rule Mining"
   ]
  },
  {
   "cell_type": "markdown",
   "metadata": {},
   "source": [
    "#### Dependencies"
   ]
  },
  {
   "cell_type": "code",
   "execution_count": null,
   "metadata": {},
   "outputs": [],
   "source": [
    "# third-party imports\n",
    "import math\n",
    "import pandas as pd\n",
    "import numpy as np\n",
    "import matplotlib.pyplot as plt\n",
    "from sklearn.tree import DecisionTreeClassifier\n",
    "\n",
    "\n",
    "# local imports\n",
    "from lib.model import OSDT\n",
    "from lib.model_selection import train_cross_validate\n",
    "from lib.data_processing import read_dataset"
   ]
  },
  {
   "cell_type": "markdown",
   "metadata": {},
   "source": [
    "#### Load Dataset"
   ]
  },
  {
   "cell_type": "code",
   "execution_count": null,
   "metadata": {},
   "outputs": [],
   "source": [
    "dataset = read_dataset('data/preprocessed/compas-binary.csv')\n",
    "(n, m) = dataset.shape\n",
    "X = dataset.values[:,:-1]\n",
    "y = dataset.values[:,-1]"
   ]
  },
  {
   "cell_type": "markdown",
   "metadata": {},
   "source": [
    "# Association Rule Mining (Only one feature)"
   ]
  },
  {
   "cell_type": "code",
   "execution_count": null,
   "metadata": {},
   "outputs": [],
   "source": [
    "# support\n",
    "support_1 = [(dataset.values[:,i] * y).mean() for i in range(m)]\n",
    "print('support_1', support_1)\n",
    "\n",
    "support_0 = [((1 - dataset.values[:,i]) * y).mean() for i in range(m)]\n",
    "print('support_0', support_0)\n",
    "\n",
    "# confidence\n",
    "confidence_1 = [sum(dataset.values[:,i] * y) / sum(dataset.values[:,i]) for i in range(m)]\n",
    "print('confidence_1', confidence_1)\n",
    "\n",
    "confidence_0 = [sum((dataset.values[:,i]==0) * y) / sum(dataset.values[:,i]==0) for i in range(m)]\n",
    "print('confidence_0', confidence_0)\n",
    "\n",
    "idx_mine = [(confidence_1[i]>=0.5) or (confidence_0[i]>=0.5) for i in range(m)]\n",
    "print('idx_mine', idx_mine)\n",
    "\n",
    "# Not sure if this is just an experiment?\n",
    "# x_idx_mine[9]=True\n",
    "# x_idx_mine"
   ]
  },
  {
   "cell_type": "markdown",
   "metadata": {},
   "source": [
    "###### Manually selected features (Uncomment the one you want to use)"
   ]
  },
  {
   "cell_type": "code",
   "execution_count": null,
   "metadata": {},
   "outputs": [],
   "source": [
    "# Manaually select out 5 features, accoring to CORELS paper when lambda=0.01\n",
    "# sex:Female, age:18-20,age:21-22, juvenile-crimes:=0, priors:>3\n",
    "# idx_mine = [0,1,2,8,12]\n",
    "\n",
    "# sex:Female, age:18-20,age:21-22, priors:2-3, priors:>3\n",
    "# idx_mine = [0,1,2,9,12]\n",
    "\n",
    "# Manaually select out 6 features, accoring to CORELS paper when lambda=0.01\n",
    "# sex:Female, age:18-20,age:21-22, juvenile-crimes:=0, priors:2-3, priors:>3\n",
    "# idx_mine = [0,1,2,8,9,12]\n",
    "\n",
    "# Manaually select out 8 features, accoring to CORELS paper when lambda=0.01\n",
    "# sex:Female, age:18-20,age:21-22, juvenile-crimes:=0, priors:2-3, priors:=0, priors:>3\n",
    "# idx_mine = [0,1,2,7,8,9,10,12]\n",
    "\n",
    "# Manaually select out 7 features, accoring to CORELS paper when lambda=0.01\n",
    "# sex:Female, age:18-20,age:21-22, juvenile-crimes:=0, priors:2-3, priors:=0, priors:>3\n",
    "# idx_mine = [0,1,2,8,9,10,12]"
   ]
  },
  {
   "cell_type": "markdown",
   "metadata": {},
   "source": [
    "# OSDT objective using mined rules (Tree trained using CART)"
   ]
  },
  {
   "cell_type": "code",
   "execution_count": null,
   "metadata": {},
   "outputs": [],
   "source": [
    "# Resulting selected features\n",
    "X_mine = dataset.values[:,idx_mine]\n",
    "print('X_mine', X_mine)\n",
    "\n",
    "lamb = 0.0035\n",
    "\n",
    "model = DecisionTreeClassifier(\n",
    "    max_depth = 5,\n",
    "    min_samples_split = math.ceil(lamb * 2 * n),\n",
    "    min_samples_leaf = math.ceil(lamb * n))\n",
    "model.fit(X_mine, y)\n",
    "training_accuracy = model.score(X_mine, y)\n",
    "\n",
    "# Compute what the tree objective would be if evaluated using the OSDT objective definition\n",
    "leaf_count = (model.tree_.node_count + 1) / 2\n",
    "risk = 1 - training_accuracy + lamb * leaf_count\n",
    "risk\n",
    "print('R_c', risk)"
   ]
  },
  {
   "cell_type": "code",
   "execution_count": null,
   "metadata": {},
   "outputs": [],
   "source": [
    "# TODO: There are some experiments going on below that we'll need to refactor"
   ]
  },
  {
   "cell_type": "markdown",
   "metadata": {},
   "source": [
    "## OSDT without similar support bound"
   ]
  },
  {
   "cell_type": "code",
   "execution_count": null,
   "metadata": {},
   "outputs": [],
   "source": [
    "from osdt import bbound\n",
    "from osdt_penalize_depth import bbound_penalize_depth"
   ]
  },
  {
   "cell_type": "code",
   "execution_count": null,
   "metadata": {},
   "outputs": [],
   "source": [
    "bbound(x_compas1, y_compas1, lamb=100/6907, prior_metric=\"curiosity\", init_cart=False, logon=True)"
   ]
  },
  {
   "cell_type": "code",
   "execution_count": 21,
   "metadata": {},
   "outputs": [],
   "source": [
    "bbound(x_compas1, y_compas1, lamb=100/6907, prior_metric=\"curiosity\", init_cart=False)"
   ]
  },
  {
   "cell_type": "code",
   "execution_count": null,
   "metadata": {
    "scrolled": false
   },
   "outputs": [],
   "source": [
    "bbound(x_compas1, y_compas1, lamb=48/6907, prior_metric=\"curiosity\", init_cart=False)"
   ]
  },
  {
   "cell_type": "code",
   "execution_count": null,
   "metadata": {},
   "outputs": [],
   "source": [
    "bbound(x_compas1, y_compas1, lamb=48/6907, prior_metric=\"curiosity\", init_cart=False, MAXDEPTH=3)"
   ]
  },
  {
   "cell_type": "code",
   "execution_count": null,
   "metadata": {},
   "outputs": [],
   "source": []
  },
  {
   "cell_type": "code",
   "execution_count": null,
   "metadata": {},
   "outputs": [],
   "source": [
    "bbound(x_compas1, y_compas1, lamb=100/6907, prior_metric=\"curiosity\", init_cart=False, MAXDEPTH=2)"
   ]
  },
  {
   "cell_type": "code",
   "execution_count": null,
   "metadata": {},
   "outputs": [],
   "source": [
    "bbound(x_compas1, y_compas1, lamb=0.005, prior_metric=\"curiosity\", init_cart=False, \n",
    "       support=False, accu_support=False, incre_support=False)"
   ]
  },
  {
   "cell_type": "code",
   "execution_count": null,
   "metadata": {},
   "outputs": [],
   "source": [
    "bbound_penalize_depth(x_compas1, y_compas1, lamb=0.02, prior_metric=\"curiosity\", init_cart=False, \n",
    "                    support=False, accu_support=False, incre_support=False)"
   ]
  },
  {
   "cell_type": "code",
   "execution_count": null,
   "metadata": {},
   "outputs": [],
   "source": [
    "bbound_penalize_depth(x_compas1, y_compas1, lamb=0.019, prior_metric=\"curiosity\", init_cart=False, \n",
    "                      support=False, accu_support=False, incre_support=False)"
   ]
  },
  {
   "cell_type": "code",
   "execution_count": null,
   "metadata": {},
   "outputs": [],
   "source": []
  },
  {
   "cell_type": "code",
   "execution_count": null,
   "metadata": {},
   "outputs": [],
   "source": []
  },
  {
   "cell_type": "code",
   "execution_count": null,
   "metadata": {},
   "outputs": [],
   "source": [
    "import cProfile"
   ]
  },
  {
   "cell_type": "code",
   "execution_count": null,
   "metadata": {},
   "outputs": [],
   "source": [
    "# 2019\n",
    "# compas1, all 12 feature\n",
    "cProfile.run('bbound(x_compas1, y_compas1, lamb=0.005, prior_metric=\"curiosity\")')\n",
    "#####  "
   ]
  },
  {
   "cell_type": "code",
   "execution_count": null,
   "metadata": {},
   "outputs": [],
   "source": [
    "# 2019\n",
    "# compas1, all 12 feature\n",
    "cProfile.run('bbound(x_compas1, y_compas1, lamb=0.0025, prior_metric=\"curiosity\")')\n",
    "#####  "
   ]
  },
  {
   "cell_type": "code",
   "execution_count": null,
   "metadata": {},
   "outputs": [],
   "source": []
  },
  {
   "cell_type": "code",
   "execution_count": null,
   "metadata": {},
   "outputs": [],
   "source": []
  },
  {
   "cell_type": "code",
   "execution_count": null,
   "metadata": {},
   "outputs": [],
   "source": []
  },
  {
   "cell_type": "code",
   "execution_count": null,
   "metadata": {},
   "outputs": [],
   "source": []
  },
  {
   "cell_type": "code",
   "execution_count": null,
   "metadata": {},
   "outputs": [],
   "source": [
    "# compas1, all 12 feature\n",
    "bbound_nosimilar_multicopies(x_compas1, y_compas1, lamb=0.005, prior_metric=\"objective\", support=False)\n",
    "#####  "
   ]
  },
  {
   "cell_type": "code",
   "execution_count": null,
   "metadata": {},
   "outputs": [],
   "source": [
    "# compas1, all 12 feature\n",
    "bbound_nosimilar_multicopies(x_compas1, y_compas1, lamb=0.005, prior_metric=\"objective\", accu_support=False)\n",
    "#####  "
   ]
  },
  {
   "cell_type": "code",
   "execution_count": null,
   "metadata": {},
   "outputs": [],
   "source": [
    "# compas1, all 12 feature\n",
    "bbound_nosimilar_multicopies(x_compas1, y_compas1, lamb=0.005, prior_metric=\"objective\", incre_support=False)\n",
    "#####  "
   ]
  },
  {
   "cell_type": "code",
   "execution_count": null,
   "metadata": {},
   "outputs": [],
   "source": [
    "# compas1, all 12 feature\n",
    "bbound_nosimilar_multicopies(x_compas1, y_compas1, lamb=0.005, prior_metric=\"objective\", equiv_points=False)\n",
    "#####  "
   ]
  },
  {
   "cell_type": "code",
   "execution_count": null,
   "metadata": {},
   "outputs": [],
   "source": [
    "# compas1, all 12 feature\n",
    "bbound_nosimilar_multicopies(x_compas1, y_compas1, lamb=0.005, prior_metric=\"objective\", lookahead=False)\n",
    "#####  "
   ]
  },
  {
   "cell_type": "code",
   "execution_count": null,
   "metadata": {},
   "outputs": [],
   "source": []
  },
  {
   "cell_type": "code",
   "execution_count": null,
   "metadata": {},
   "outputs": [],
   "source": []
  },
  {
   "cell_type": "code",
   "execution_count": null,
   "metadata": {},
   "outputs": [],
   "source": []
  },
  {
   "cell_type": "code",
   "execution_count": null,
   "metadata": {},
   "outputs": [],
   "source": []
  },
  {
   "cell_type": "code",
   "execution_count": null,
   "metadata": {
    "scrolled": false
   },
   "outputs": [],
   "source": [
    "# compas1\n",
    "bbound_nosimilar_multicopies(x_compas1, y_compas1, lamb=0.0025, prior_metric=\"objective\")\n",
    "#####  "
   ]
  },
  {
   "cell_type": "code",
   "execution_count": null,
   "metadata": {},
   "outputs": [],
   "source": [
    "# compas1, 4 features\n",
    "bbound_nosimilar_multicopies(x_compas1[:,idx4], y_compas1, lamb=0.005, prior_metric=\"objective\")\n",
    "#####  "
   ]
  },
  {
   "cell_type": "code",
   "execution_count": null,
   "metadata": {},
   "outputs": [],
   "source": [
    "# compas1, 5 features\n",
    "bbound_nosimilar_multicopies(x_compas1[:,idx5], y_compas1, lamb=0.005, prior_metric=\"objective\")\n",
    "#####  "
   ]
  },
  {
   "cell_type": "code",
   "execution_count": null,
   "metadata": {},
   "outputs": [],
   "source": [
    "# compas1, 6 features\n",
    "bbound_nosimilar_multicopies(x_compas1[:,idx6], y_compas1, lamb=0.005, prior_metric=\"objective\")\n",
    "#####  "
   ]
  },
  {
   "cell_type": "code",
   "execution_count": null,
   "metadata": {},
   "outputs": [],
   "source": [
    "# compas1, 7 features\n",
    "bbound_nosimilar_multicopies(x_compas1[:,idx7], y_compas1, lamb=0.005, prior_metric=\"objective\")\n",
    "#####  "
   ]
  },
  {
   "cell_type": "code",
   "execution_count": null,
   "metadata": {},
   "outputs": [],
   "source": [
    "# compas1, 8 features\n",
    "bbound_nosimilar_multicopies(x_compas1[:,idx8], y_compas1, lamb=0.005, prior_metric=\"objective\")\n",
    "#####  "
   ]
  },
  {
   "cell_type": "code",
   "execution_count": null,
   "metadata": {},
   "outputs": [],
   "source": [
    "# compas1, 9 features\n",
    "bbound_nosimilar_multicopies(x_compas1[:,idx9], y_compas1, lamb=0.005, prior_metric=\"objective\")\n",
    "#####  "
   ]
  },
  {
   "cell_type": "code",
   "execution_count": null,
   "metadata": {},
   "outputs": [],
   "source": [
    "# compas1, 10 features\n",
    "bbound_nosimilar_multicopies(x_compas1[:,idx10], y_compas1, lamb=0.005, prior_metric=\"objective\")\n",
    "#####  "
   ]
  },
  {
   "cell_type": "code",
   "execution_count": null,
   "metadata": {},
   "outputs": [],
   "source": [
    "# compas1, 11 features\n",
    "bbound_nosimilar_multicopies(x_compas1[:,idx11], y_compas1, lamb=0.005, prior_metric=\"objective\")\n",
    "#####  "
   ]
  },
  {
   "cell_type": "code",
   "execution_count": null,
   "metadata": {},
   "outputs": [],
   "source": []
  },
  {
   "cell_type": "code",
   "execution_count": null,
   "metadata": {},
   "outputs": [],
   "source": []
  },
  {
   "cell_type": "code",
   "execution_count": null,
   "metadata": {},
   "outputs": [],
   "source": []
  },
  {
   "cell_type": "code",
   "execution_count": null,
   "metadata": {},
   "outputs": [],
   "source": []
  },
  {
   "cell_type": "code",
   "execution_count": null,
   "metadata": {},
   "outputs": [],
   "source": [
    "# compas1\n",
    "bbound_nosimilar_multicopies(x_compas1, y_compas1, lamb=0.01, prior_metric=\"objective\")\n",
    "#####  "
   ]
  },
  {
   "cell_type": "code",
   "execution_count": null,
   "metadata": {},
   "outputs": [],
   "source": []
  },
  {
   "cell_type": "code",
   "execution_count": null,
   "metadata": {},
   "outputs": [],
   "source": []
  },
  {
   "cell_type": "code",
   "execution_count": null,
   "metadata": {},
   "outputs": [],
   "source": [
    "# monk1\n",
    "bbound_nosimilar_multicopies(x_monk1, y_monk1, lamb=0.05, prior_metric=\"objective\")\n",
    "#####  "
   ]
  },
  {
   "cell_type": "code",
   "execution_count": null,
   "metadata": {},
   "outputs": [],
   "source": [
    "# monk1\n",
    "bbound_nosimilar_multicopies(x_monk1, y_monk1, lamb=0.02, prior_metric=\"objective\")\n",
    "#####  "
   ]
  },
  {
   "cell_type": "code",
   "execution_count": null,
   "metadata": {},
   "outputs": [],
   "source": []
  },
  {
   "cell_type": "code",
   "execution_count": null,
   "metadata": {},
   "outputs": [],
   "source": [
    "# monk2\n",
    "bbound_nosimilar_multicopies(x_monk2, y_monk2, lamb=0.025, prior_metric=\"objective\")\n",
    "#####  "
   ]
  },
  {
   "cell_type": "code",
   "execution_count": null,
   "metadata": {},
   "outputs": [],
   "source": [
    "# monk2\n",
    "bbound_nosimilar_multicopies(x_monk2, y_monk2, lamb=0.035, prior_metric=\"objective\")\n",
    "#####  "
   ]
  },
  {
   "cell_type": "code",
   "execution_count": null,
   "metadata": {},
   "outputs": [],
   "source": []
  },
  {
   "cell_type": "code",
   "execution_count": null,
   "metadata": {},
   "outputs": [],
   "source": [
    "# monk3\n",
    "bbound_nosimilar_multicopies(x_monk3, y_monk3, lamb=0.02, prior_metric=\"objective\")\n",
    "#####  "
   ]
  },
  {
   "cell_type": "code",
   "execution_count": null,
   "metadata": {},
   "outputs": [],
   "source": [
    "# monk3\n",
    "bbound_nosimilar_multicopies(x_monk3, y_monk3, lamb=0.025, prior_metric=\"objective\")\n",
    "#####  "
   ]
  },
  {
   "cell_type": "code",
   "execution_count": null,
   "metadata": {},
   "outputs": [],
   "source": [
    "# monk3\n",
    "bbound_nosimilar_multicopies(x_monk3, y_monk3, lamb=0.03, prior_metric=\"objective\")\n",
    "#####  "
   ]
  },
  {
   "cell_type": "code",
   "execution_count": null,
   "metadata": {},
   "outputs": [],
   "source": []
  },
  {
   "cell_type": "code",
   "execution_count": null,
   "metadata": {},
   "outputs": [],
   "source": []
  },
  {
   "cell_type": "code",
   "execution_count": null,
   "metadata": {},
   "outputs": [],
   "source": [
    "# voting-records\n",
    "bbound_nosimilar_multicopies(x_votes, y_votes, lamb=0.005, prior_metric=\"objective\")\n",
    "#####  "
   ]
  },
  {
   "cell_type": "code",
   "execution_count": null,
   "metadata": {},
   "outputs": [],
   "source": [
    "# voting-records\n",
    "bbound_nosimilar_multicopies(x_votes, y_votes, lamb=0.0035, prior_metric=\"objective\")\n",
    "#####  "
   ]
  },
  {
   "cell_type": "code",
   "execution_count": null,
   "metadata": {},
   "outputs": [],
   "source": []
  },
  {
   "cell_type": "code",
   "execution_count": null,
   "metadata": {},
   "outputs": [],
   "source": []
  },
  {
   "cell_type": "code",
   "execution_count": null,
   "metadata": {},
   "outputs": [],
   "source": []
  },
  {
   "cell_type": "code",
   "execution_count": null,
   "metadata": {
    "scrolled": false
   },
   "outputs": [],
   "source": [
    "### 11.3######################## \n",
    "# order x's columns according to gini_reduction\n",
    "bbound_nosimilar_multicopies(x_all, y, lamb=0.0035, prior_metric=\"objective\", MAXDEPTH = 13, R_c0=1)\n",
    "#####  "
   ]
  },
  {
   "cell_type": "code",
   "execution_count": null,
   "metadata": {
    "scrolled": false
   },
   "outputs": [],
   "source": [
    "### 11.3######################## \n",
    "# order x's columns according to gini_reduction\n",
    "bbound_nosimilar_multicopies(x_all, y, lamb=0.005, prior_metric=\"objective\", MAXDEPTH = 13, R_c0=1)\n",
    "#####  "
   ]
  },
  {
   "cell_type": "code",
   "execution_count": null,
   "metadata": {
    "scrolled": false
   },
   "outputs": [],
   "source": [
    "### 11.3######################## \n",
    "# order x's columns according to gini_reduction\n",
    "bbound_nosimilar_multicopies(x_all, y, lamb=0.004, prior_metric=\"objective\", MAXDEPTH = 13, R_c0=1)\n",
    "#####  "
   ]
  },
  {
   "cell_type": "code",
   "execution_count": null,
   "metadata": {},
   "outputs": [],
   "source": [
    "### 11.3######################## \n",
    "# order x's columns according to gini_reduction\n",
    "bbound_nosimilar_multicopies(x_all, y, lamb=0.0045, prior_metric=\"objective\", MAXDEPTH = 13, R_c0=1)\n",
    "#####  "
   ]
  },
  {
   "cell_type": "code",
   "execution_count": null,
   "metadata": {},
   "outputs": [],
   "source": [
    "### 11.3######################## \n",
    "# order x's columns according to gini_reduction\n",
    "bbound_nosimilar_multicopies(x_all, y, lamb=0.005, prior_metric=\"objective\", MAXDEPTH = 13, R_c0=1)\n",
    "#####  "
   ]
  },
  {
   "cell_type": "code",
   "execution_count": null,
   "metadata": {},
   "outputs": [],
   "source": [
    "### 11.3######################## \n",
    "# order x's columns according to gini_reduction\n",
    "bbound_nosimilar_multicopies(x_all, y, lamb=0.00475, prior_metric=\"objective\", MAXDEPTH = 13, R_c0=1)\n",
    "#####  "
   ]
  },
  {
   "cell_type": "code",
   "execution_count": null,
   "metadata": {},
   "outputs": [],
   "source": [
    "### 11.3######################## \n",
    "# order x's columns according to gini_reduction\n",
    "bbound_nosimilar_multicopies(x_all, y, lamb=0.00465, prior_metric=\"objective\", MAXDEPTH = 13, R_c0=1)\n",
    "#####  "
   ]
  },
  {
   "cell_type": "code",
   "execution_count": null,
   "metadata": {},
   "outputs": [],
   "source": [
    "### 11.3######################## \n",
    "# order x's columns according to gini_reduction\n",
    "bbound_nosimilar_multicopies(x_all, y, lamb=0.05, prior_metric=\"objective\", MAXDEPTH = 13, R_c0=1)\n",
    "#####  "
   ]
  },
  {
   "cell_type": "code",
   "execution_count": null,
   "metadata": {},
   "outputs": [],
   "source": []
  }
 ],
 "metadata": {
  "kernelspec": {
   "display_name": "Python 3",
   "language": "python",
   "name": "python3"
  },
  "language_info": {
   "codemirror_mode": {
    "name": "ipython",
    "version": 3
   },
   "file_extension": ".py",
   "mimetype": "text/x-python",
   "name": "python",
   "nbconvert_exporter": "python",
   "pygments_lexer": "ipython3",
   "version": "3.6.4"
  }
 },
 "nbformat": 4,
 "nbformat_minor": 2
}
