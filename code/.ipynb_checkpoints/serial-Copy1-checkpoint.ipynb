{
 "cells": [
  {
   "cell_type": "code",
   "execution_count": null,
   "metadata": {},
   "outputs": [],
   "source": [
    "#A brute force implementation of Algorithm1"
   ]
  },
  {
   "cell_type": "code",
   "execution_count": 17,
   "metadata": {},
   "outputs": [],
   "source": [
    "import pandas as pd\n",
    "import numpy as np\n",
    "from random import sample,seed"
   ]
  },
  {
   "cell_type": "code",
   "execution_count": 18,
   "metadata": {},
   "outputs": [],
   "source": [
    "df = pd.DataFrame(pd.read_csv('../data/compas-binary.csv'))\n",
    "df\n",
    "\n",
    "seed(10)\n",
    "\n",
    "idx = sample(range(df.shape[0]),df.shape[0])"
   ]
  },
  {
   "cell_type": "code",
   "execution_count": 19,
   "metadata": {},
   "outputs": [],
   "source": [
    "x = df.as_matrix()[:,:13]\n",
    "\n",
    "y = df.as_matrix()[:,13]"
   ]
  },
  {
   "cell_type": "code",
   "execution_count": 20,
   "metadata": {},
   "outputs": [],
   "source": [
    "# calculate the bound with dp=all leaves except leaf l\n",
    "def bound(tree, x, y, l, lamb = 0.02):\n",
    "    return (sum(tree.get_cap()[:l]+tree.get_cap()[l+1:])-\n",
    "            sum(tree.get_ncc()[:l]+tree.get_ncc()[l+1:]))/len(y) + lamb*len(tree.get_prefix())\n",
    "\n",
    "# calculate the risk\n",
    "def Risk(tree, x, y, lamb = 0.02):\n",
    "    return 1-sum(tree.get_ncc())/len(y) + + lamb*len(tree.get_prefix())"
   ]
  },
  {
   "cell_type": "code",
   "execution_count": 212,
   "metadata": {},
   "outputs": [],
   "source": [
    "def calcul(prefix, x, y):\n",
    "    \"\"\"\n",
    "    Function for calculating the predictions, number of data captured,\n",
    "    and number of data correctly captured by the leaves.\n",
    "    \"\"\"\n",
    "    prediction = []\n",
    "    num_captured = []\n",
    "    num_captured_correct = []\n",
    "    for i in range(len(prefix)):\n",
    "        tag = np.array([True]*len(y))\n",
    "        for j in range(len(prefix[i])):\n",
    "            rule_index = abs(prefix[i][j])-1\n",
    "            rule_label = int(prefix[i][j]>0)\n",
    "            #print(\"prefix:\",prefix)\n",
    "            #print(\"rule_index:\",rule_index)\n",
    "            #print(\"x:\",x)\n",
    "            tag = (x[:,rule_index] == rule_label)*tag\n",
    "            \n",
    "        # the y's of these data captured by leaf i\n",
    "        y_leaf = y[tag]\n",
    "        \n",
    "        num_cap = len(y_leaf)\n",
    "        num_captured.append(num_cap)\n",
    "        \n",
    "        if len(y_leaf)>0:\n",
    "            pred = int(y_leaf.sum()/len(y_leaf) > 0.5)\n",
    "            prediction.append(pred)\n",
    "            num_cap_cor = sum(y_leaf == pred)\n",
    "            num_captured_correct.append(num_cap_cor)\n",
    "        else:\n",
    "            prediction.append(0)\n",
    "            num_captured_correct.append(0)\n",
    "        \n",
    "    return prediction, num_captured, num_captured_correct"
   ]
  },
  {
   "cell_type": "code",
   "execution_count": 150,
   "metadata": {},
   "outputs": [],
   "source": [
    "class CacheTree:\n",
    "    \"\"\"\n",
    "    A tree data structure.\n",
    "    prefix: a 2-d tuple to record the prefixes of leaves\n",
    "    prediction: a list to record the predictions of leaves\n",
    "    num_captured: a list to record number of data captured by the leaves\n",
    "    num_captured_correct: a list to record number of data correctly captured by the leaves\n",
    "    \"\"\"\n",
    "    def __init__(self, prefix, \n",
    "                 prediction=None,\n",
    "                 num_captured=None,\n",
    "                 num_captured_correct=None,\n",
    "                 x=x, y=y,\n",
    "                 split=None):\n",
    "        self.prefix = prefix\n",
    "        self.prediction = prediction\n",
    "        self.num_captured = num_captured\n",
    "        self.num_captured_correct = num_captured_correct\n",
    "        self.split = split\n",
    "        if split==None:\n",
    "            self.split = [1]*len(prefix)\n",
    "        if prediction==None:\n",
    "            self.prediction, self.num_captured, self.num_captured_correct = calcul(self.prefix, x, y)\n",
    "            \n",
    "    def get_prefix(self):\n",
    "        return self.prefix\n",
    "    \n",
    "    def get_pred(self):\n",
    "        return self.prediction\n",
    "    \n",
    "    def get_cap(self):\n",
    "        return self.num_captured\n",
    "    \n",
    "    def get_ncc(self):\n",
    "        return self.num_captured_correct\n",
    "    \n",
    "    def get_split(self):\n",
    "        return self.split\n",
    "    \n",
    "    def wont_split(self,i):\n",
    "        self.split[i] = 0"
   ]
  },
  {
   "cell_type": "code",
   "execution_count": 149,
   "metadata": {},
   "outputs": [
    {
     "data": {
      "text/plain": [
       "[1, 1, 1, 1, 1, 1, 1, 1]"
      ]
     },
     "execution_count": 149,
     "metadata": {},
     "output_type": "execute_result"
    }
   ],
   "source": [
    "[1]*8"
   ]
  },
  {
   "cell_type": "code",
   "execution_count": 134,
   "metadata": {},
   "outputs": [
    {
     "data": {
      "text/plain": [
       "array([1, 1, 1, 1, 1, 1, 1, 1, 1, 1])"
      ]
     },
     "execution_count": 134,
     "metadata": {},
     "output_type": "execute_result"
    }
   ],
   "source": []
  },
  {
   "cell_type": "code",
   "execution_count": 23,
   "metadata": {},
   "outputs": [],
   "source": [
    "class Eliminate:\n",
    "    \"\"\"\n",
    "    A data structure to record and identify\n",
    "    whether a tree has been visited/pruned\n",
    "    \"\"\"\n",
    "    def __init__(self, elim_dict = None, \n",
    "                 eliminated = None):\n",
    "        self.elim_dict = {}\n",
    "        self.eliminated = []\n",
    "        \n",
    "    def eliminate(self, prefix):\n",
    "        self.elim_dict[prefix] = 1\n",
    "    \n",
    "    def eliminate_children(self, dp):\n",
    "        self.eliminated.append(dp)\n",
    "        \n",
    "    def is_eliminated(self, prefix):\n",
    "        if prefix in self.elim_dict.keys():\n",
    "            #print(\"Eliminated!\")\n",
    "            return True\n",
    "        \n",
    "        for i in range(len(self.eliminated)):\n",
    "            if all([r in prefix for r in self.eliminated[i]]):\n",
    "                #print(\"Eliminated!\")\n",
    "                return True\n",
    "        \n",
    "        return False"
   ]
  },
  {
   "cell_type": "code",
   "execution_count": 24,
   "metadata": {},
   "outputs": [],
   "source": [
    "import time"
   ]
  },
  {
   "cell_type": "code",
   "execution_count": 25,
   "metadata": {
    "scrolled": true
   },
   "outputs": [
    {
     "ename": "SyntaxError",
     "evalue": "invalid syntax (<ipython-input-25-7f0b510e97d4>, line 14)",
     "output_type": "error",
     "traceback": [
      "\u001b[0;36m  File \u001b[0;32m\"<ipython-input-25-7f0b510e97d4>\"\u001b[0;36m, line \u001b[0;32m14\u001b[0m\n\u001b[0;31m    cache[((),)] = CacheTree(prefix = ((),), prediction = pred),\u001b[0m\n\u001b[0m        ^\u001b[0m\n\u001b[0;31mSyntaxError\u001b[0m\u001b[0;31m:\u001b[0m invalid syntax\n"
     ]
    }
   ],
   "source": [
    "def algorithm1(x, y, lamb):\n",
    "    \"\"\"\n",
    "    A brute forece implementation of Algorithm1\n",
    "    \"\"\"\n",
    "    \n",
    "    d_c = None\n",
    "    R_c = 1\n",
    "\n",
    "    nrule = x.shape[1]\n",
    "\n",
    "    cache = {}\n",
    "    \n",
    "    pred = int(y.sum()/len(y) > 0.5\n",
    "    cache[((),)] = CacheTree(prefix = ((),), prediction = pred),\n",
    "                            num_captured = len(y),\n",
    "                            num_captured_correct = sum(y==pred))\n",
    "    \n",
    "    \n",
    "    for i in range(1, max_prefix_length + 1):\n",
    "        prefix_list = [p for p in cache.keys() if (len(p) == (i - 1))]\n",
    "        \n",
    "        for prefix_start in prefix_list:\n",
    "            cache_prefix = cache[prefix_start]\n",
    "            \n",
    "            d = cache_prefix.get_prefix()\n",
    "            if E.is_eliminated(d):\n",
    "                continue\n",
    "            else:\n",
    "                E.eliminate(d)\n",
    "                \n",
    "            R = Risk(cache_prefix,x,y,lamb)\n",
    "            if R<R_c:\n",
    "                d_c = d\n",
    "                R_c = R\n",
    "                \n",
    "            \n",
    "            \n",
    "    \n",
    "    \n",
    "    # initialize the queue to include all trees of just one split\n",
    "    queue = [CacheTree(prefix = ((-r,),(r,)), x = x, y = y) for r in range(1, nrule+1)]\n",
    "\n",
    "    E = Eliminate()\n",
    "\n",
    "    while (queue):\n",
    "        tree = queue.pop(0)\n",
    "        d = tree.get_prefix()\n",
    "        if E.is_eliminated(d):\n",
    "            continue\n",
    "        else:\n",
    "            E.eliminate(d)\n",
    "        R = Risk(tree,x,y,lamb)\n",
    "        if R<R_c:\n",
    "            d_c = d\n",
    "            R_c = R\n",
    "\n",
    "        #print(\"d\",d)\n",
    "        #print(\"R\",R)\n",
    "        #print(\"R_c\",R_c)\n",
    "        #print(tree.get_pred())\n",
    "\n",
    "        for i in range(len(d)):\n",
    "            d0 = d[i]\n",
    "            dp = d[:i]+d[i+1:]\n",
    "            #print(\"bound\", bound(tree,x,y,i))\n",
    "            #print(\"R_c\", R_c)\n",
    "            if bound(tree,x,y,i,lamb)<R_c:\n",
    "                for j in range(1, nrule+1):\n",
    "                    if (j not in d0)and(-j not in d0):\n",
    "                        l1 = d0+(-j,)\n",
    "                        l2 = d0+(j,)\n",
    "                        t = dp+(l1, l2)\n",
    "                        #print(\"t\",t)\n",
    "                        if (not E.is_eliminated(t)):\n",
    "                            pred_l, cap_l, corr_l = calcul((l1,l2),x,y)\n",
    "                            queue.append(\n",
    "                                CacheTree(prefix = t,\n",
    "                                          prediction = tree.get_pred()[:i]+tree.get_pred()[i+1:]+pred_l,\n",
    "                                          num_captured = tree.get_cap()[:i]+tree.get_cap()[i+1:]+cap_l,\n",
    "                                          num_captured_correct = tree.get_ncc()[:i]+tree.get_ncc()[i+1:]+corr_l)\n",
    "                            )\n",
    "            else:\n",
    "                E.eliminate_children(dp)\n",
    "                #print(\"Children Elim\")\n",
    "\n",
    "    print(d_c)\n",
    "    print(\"R_c\", R_c)"
   ]
  },
  {
   "cell_type": "code",
   "execution_count": 210,
   "metadata": {},
   "outputs": [],
   "source": [
    "\n",
    "def generate_new_trees(d0,dp,i,tree,E,queue,nrule):\n",
    "    for j in range(1, nrule+1):\n",
    "        if (j not in d0)and(-j not in d0):\n",
    "            l1 = d0+(-j,)\n",
    "            l2 = d0+(j,)\n",
    "            t = dp+(l1, l2)\n",
    "            #print(\"t\",t)\n",
    "            \n",
    "            if (not E.is_eliminated(t)):\n",
    "                pred_l, cap_l, corr_l = calcul((l1,l2),x,y)\n",
    "                queue.append(\n",
    "                    CacheTree(prefix = t,\n",
    "                              prediction = tree.get_pred()[:i]+tree.get_pred()[i+1:]+pred_l,\n",
    "                              num_captured = tree.get_cap()[:i]+tree.get_cap()[i+1:]+cap_l,\n",
    "                              num_captured_correct = tree.get_ncc()[:i]+tree.get_ncc()[i+1:]+corr_l,\n",
    "                              split = tree.get_split()[:i]+tree.get_split()[i+1:]+[1,1])\n",
    "                )      \n",
    "    return\n",
    "\n",
    "\n",
    "def bound_theorem11(l1,l2,t,tree,E,queue,nrule):\n",
    "    E.eliminate_children((l1,l2))\n",
    "    \n",
    "    idx_1 = t.index(l1)\n",
    "    idx_2 = t.index(l2)\n",
    "    \n",
    "    d0 = t[idx_1]\n",
    "    dp = t[:idx_1]+t[idx_1+1:]\n",
    "    generate_new_trees(d0,dp,idx_1,tree,E,queue,nrule)\n",
    "    \n",
    "    d0 = t[idx_2]\n",
    "    dp = t[:idx_2]+t[idx_2+1:]\n",
    "    generate_new_trees(d0,dp,idx_2,tree,E,queue,nrule)\n",
    "                \n",
    "    return# E\n",
    "\n",
    "def generate_new_trees_2splits(d0_a,dp_a,i_a,d0_b,tree,E,queue,nrule):\n",
    "    for j in range(1, nrule+1):\n",
    "        if (j not in d0_a)and(-j not in d0_a):\n",
    "            l1 = d0_a+(-j,)\n",
    "            l2 = d0_a+(j,)\n",
    "            t = dp_a+(l1, l2)\n",
    "            #print(\"t\",t)\n",
    "            \n",
    "            pred_l, cap_l, corr_l = calcul((l1,l2),x,y)\n",
    "            tree_new1 = CacheTree(prefix = t,\n",
    "                                  prediction = tree.get_pred()[:i_a]+tree.get_pred()[i_a+1:]+pred_l,\n",
    "                                  num_captured = tree.get_cap()[:i_a]+tree.get_cap()[i_a+1:]+cap_l,\n",
    "                                  num_captured_correct = tree.get_ncc()[:i_a]+tree.get_ncc()[i_a+1:]+corr_l,\n",
    "                                  split = tree.get_split()[:i_a]+tree.get_split()[i_a+1:]+[1,1])\n",
    "            \n",
    "            idx_v = t.index(d0_b)\n",
    "            dp_b = t[:idx_v]+t[idx_v+1:]\n",
    "            for j1 in range(1, nrule+1):\n",
    "                if (j1 not in d0_b)and(-j not in d0_b):\n",
    "                    lv1 = d0_b+(-j1,)\n",
    "                    lv2 = d0_b+(j1,)\n",
    "                    t1 = dp_b+(lv1, lv2)\n",
    "                    \n",
    "                    if (not E.is_eliminated(t1)):\n",
    "                        pred_lv, cap_lv, corr_lv = calcul((lv1,lv2),x,y)\n",
    "                        queue.append(CacheTree(prefix = t,\n",
    "                                               prediction = tree_new1.get_pred()[:idx_v]+tree_new1.get_pred()[idx_v+1:]+pred_lv,\n",
    "                                               num_captured = tree_new1.get_cap()[:idx_v]+tree_new1.get_cap()[idx_v+1:]+cap_lv,\n",
    "                                               num_captured_correct = tree_new1.get_ncc()[:idx_v]+tree_new1.get_ncc()[idx_v+1:]+corr_lv,\n",
    "                                               split = tree_new1.get_split()[:idx_v]+tree_new1.get_split()[idx_v+1:]+[1,1]))\n",
    "                  \n",
    "    return\n",
    "\n",
    "def bound_theorem11_2splits(l1,l2,l3,l4,t,tree,E,queue,nrule):\n",
    "    idx_1 = t.index(l1)\n",
    "    idx_2 = t.index(l2)\n",
    "    idx_3 = t.index(l3)\n",
    "    idx_4 = t.index(l4)\n",
    "    \n",
    "    d01 = t[idx_1]\n",
    "    dp1 = t[:idx_1]+t[idx_1+1:]\n",
    "    d02 = t[idx_2]\n",
    "    dp2 = t[:idx_2]+t[idx_2+1:]\n",
    "    d03 = t[idx_3]\n",
    "    dp3 = t[:idx_3]+t[idx_3+1:]\n",
    "    d04 = t[idx_4]\n",
    "    dp4 = t[:idx_4]+t[idx_4+1:]\n",
    "    \n",
    "    generate_new_trees_2splits(d01,dp1,idx_1,d03,tree,E,queue,nrule)\n",
    "    generate_new_trees_2splits(d01,dp1,idx_1,d04,tree,E,queue,nrule)\n",
    "    generate_new_trees_2splits(d02,dp2,idx_2,d03,tree,E,queue,nrule)\n",
    "    generate_new_trees_2splits(d02,dp2,idx_2,d04,tree,E,queue,nrule)\n",
    "    \n",
    "    return"
   ]
  },
  {
   "cell_type": "code",
   "execution_count": 171,
   "metadata": {},
   "outputs": [
    {
     "name": "stdout",
     "output_type": "stream",
     "text": [
      "[100, 1]\n",
      "[100, 1]\n"
     ]
    }
   ],
   "source": [
    "aaaa=[100]\n",
    "\n",
    "def fuc():\n",
    "    aaaa.append(1)\n",
    "    print(aaaa)\n",
    "    \n",
    "fuc()\n",
    "print(aaaa)"
   ]
  },
  {
   "cell_type": "code",
   "execution_count": 202,
   "metadata": {},
   "outputs": [],
   "source": [
    "def algorithm1_2splits(x, y, lamb):\n",
    "    \"\"\"\n",
    "    A brute forece implementation of Algorithm1\n",
    "    \"\"\"\n",
    "    \n",
    "    d_c = None\n",
    "    R_c = 1\n",
    "\n",
    "    nrule = x.shape[1]\n",
    "    ndata = len(y)\n",
    "    print(\"ndata:\", ndata)\n",
    "\n",
    "    # initialize the queue to include all trees of just one split\n",
    "    queue = [CacheTree(prefix = ((-r,),(r,)), x = x, y = y) for r in range(1, nrule+1)]\n",
    "\n",
    "    E = Eliminate()\n",
    "\n",
    "    while (queue):\n",
    "        tree = queue.pop(0)\n",
    "        d = tree.get_prefix()\n",
    "        if E.is_eliminated(d):\n",
    "            continue\n",
    "        else:\n",
    "            E.eliminate(d)\n",
    "        R = Risk(tree,x,y,lamb)\n",
    "        if R<R_c:\n",
    "            d_c = d\n",
    "            R_c = R\n",
    "\n",
    "        #print(\"d\",d)\n",
    "        #print(\"R\",R)\n",
    "        #print(\"R_c\",R_c)\n",
    "        #print(tree.get_pred())\n",
    "        \n",
    "        V = []\n",
    "        for i in range(len(d)):\n",
    "            if tree.get_split()[i]==0:\n",
    "                continue\n",
    "            \n",
    "            #(Lower bound on antecedent support)\n",
    "            if tree.get_cap()[i]/ndata/2 < lamb:\n",
    "                tree.wont_split(i)\n",
    "                continue\n",
    "            \n",
    "            d0 = d[i]\n",
    "            dp = d[:i]+d[i+1:]\n",
    "            #print(\"bound\", bound(tree,x,y,i))\n",
    "            #print(\"R_c\", R_c)\n",
    "            \n",
    "            \n",
    "            if bound(tree,x,y,i,lamb)<R_c:\n",
    "                for j in range(1, nrule+1):\n",
    "                    if (j not in d0)and(-j not in d0):\n",
    "                        l1 = d0+(-j,)\n",
    "                        l2 = d0+(j,)\n",
    "                        t = dp+(l1, l2)\n",
    "                        #print(\"t\",t)\n",
    "                        pred_l, cap_l, corr_l = calcul((l1,l2),x,y)\n",
    "                        \n",
    "                        tree_new = CacheTree(prefix = t,\n",
    "                                             prediction = tree.get_pred()[:i]+tree.get_pred()[i+1:]+pred_l,\n",
    "                                             num_captured = tree.get_cap()[:i]+tree.get_cap()[i+1:]+cap_l,\n",
    "                                             num_captured_correct = tree.get_ncc()[:i]+tree.get_ncc()[i+1:]+corr_l,\n",
    "                                             split = tree.get_split()[:i]+tree.get_split()[i+1:]+[1,1])\n",
    "                        \n",
    "                        \n",
    "                        #(Lower bound on accurate antecedent support)\n",
    "                        a_l = sum(corr_l)/ndata - sum(cap_l)/ndata/2\n",
    "                        if a_l < lamb:\n",
    "                            bound_theorem11(l1,l2,t,tree_new,E,queue,nrule)\n",
    "                        #    E.eliminate_children((l1,l2))\n",
    "                            ########### split l1/l2??????????????????????????????????????\n",
    "                        elif (not E.is_eliminated(t)):\n",
    "                            #pred_l, cap_l, corr_l = calcul((l1,l2),x,y)\n",
    "                            queue.append(tree_new)\n",
    "            else:\n",
    "                E.eliminate_children(dp)\n",
    "                if len(V)>0:\n",
    "                    for j in range(1, nrule+1):\n",
    "                        if (j not in d0)and(-j not in d0):\n",
    "                            l1 = d0+(-j,)\n",
    "                            l2 = d0+(j,)\n",
    "                            t = dp+(l1, l2)\n",
    "                            \n",
    "                            pred_l, cap_l, corr_l = calcul((l1,l2),x,y)\n",
    "                            \n",
    "                            #(Lower bound on accurate antecedent support)\n",
    "                            a_l = sum(corr_l)/ndata - sum(cap_l)/ndata/2\n",
    "                            #if a_l < lamb:\n",
    "                            #    E.eliminate_children((l1,l2))\n",
    "                                ########### split l1/l2??????????????????????????????????????\n",
    "                            \n",
    "                            \n",
    "                            t_prediction = tree.get_pred()[:i]+tree.get_pred()[i+1:]+pred_l\n",
    "                            t_num_captured = tree.get_cap()[:i]+tree.get_cap()[i+1:]+cap_l\n",
    "                            t_num_captured_correct = tree.get_ncc()[:i]+tree.get_ncc()[i+1:]+corr_l\n",
    "                            t_split = tree.get_split()[:i]+tree.get_split()[i+1:]+[1,1]\n",
    "                            \n",
    "                            for iv in range(len(V)):\n",
    "                                lv = V[iv]\n",
    "                                idx_lv = t.index(lv)\n",
    "                                idx_lv_tree = d.index(lv)\n",
    "                                \n",
    "                                \n",
    "                                for jv in range(1, nrule+1):\n",
    "                                    #print(\"jv, lv\",jv, lv)\n",
    "                                    if (jv not in lv)and(-jv not in lv):\n",
    "                                        lv1 = lv+(-jv,)\n",
    "                                        lv2 = lv+(jv,)\n",
    "                                        t1 = t[:idx_lv]+t[idx_lv+1:]+(lv1, lv2)\n",
    "                                        #print(\"t1\",t1)\n",
    "                                        \n",
    "                                        pred_lv, cap_lv, corr_lv = calcul((lv1,lv2),x,y)\n",
    "                                        \n",
    "                                        #(Lower bound on accurate antecedent support)\n",
    "                                        a_lv = sum(corr_lv)/ndata - sum(cap_lv)/ndata/2\n",
    "                                        #if a_lv < lamb:\n",
    "                                        #    E.eliminate_children((lv1,lv2))\n",
    "                                            ########### split lv1/lv2??????????????????????????????????????\n",
    "                                            \n",
    "                                        tree_new = CacheTree(prefix = t1,\n",
    "                                                             prediction = t_prediction[:idx_lv]+t_prediction[idx_lv+1:]+pred_lv,\n",
    "                                                             num_captured = t_num_captured[:idx_lv]+t_num_captured[idx_lv+1:]+cap_lv,\n",
    "                                                             num_captured_correct = t_num_captured_correct[:idx_lv]+t_num_captured_correct[idx_lv+1:]+corr_lv,\n",
    "                                                             split = t_split[:idx_lv]+t_split[idx_lv+1:]+[1,1])\n",
    "                                        \n",
    "                                        if (a_l>=lamb)and(a_lv>=lamb):\n",
    "                                            if (not E.is_eliminated(t1)):\n",
    "                                                #pred_lv, cap_lv, corr_lv = calcul((lv1,lv2),x,y)\n",
    "                                                queue.append(tree_new)\n",
    "                                        elif (a_l<lamb)and(a_lv>=lamb):\n",
    "                                            bound_theorem11(l1,l2,t1,tree_new,E,queue,nrule)\n",
    "                                        elif (a_l>=lamb)and(a_lv<lamb):\n",
    "                                            bound_theorem11(lv1,lv2,t1,tree_new,E,queue,nrule)\n",
    "                                        else:\n",
    "                                            bound_theorem11_2splits(l1,l2,lv1,lv2,t1,tree_new,E,queue,nrule)\n",
    "                                            \n",
    "                V.append(d0)\n",
    "                #print(\"Children Elim\")\n",
    "\n",
    "    print(d_c)\n",
    "    print(\"R_c\", R_c)"
   ]
  },
  {
   "cell_type": "code",
   "execution_count": 27,
   "metadata": {},
   "outputs": [
    {
     "data": {
      "text/plain": [
       "3"
      ]
     },
     "execution_count": 27,
     "metadata": {},
     "output_type": "execute_result"
    }
   ],
   "source": [
    "sum([1,2])"
   ]
  },
  {
   "cell_type": "markdown",
   "metadata": {},
   "source": [
    "#### for 3 rules, 25 data, lambda = 0.04\n",
    "algorithm  algorithm1  algorithm1_2splits  algorithm1_nobound\n",
    "time     20.7ms    51.9ms          217ms"
   ]
  },
  {
   "cell_type": "code",
   "execution_count": 28,
   "metadata": {},
   "outputs": [],
   "source": [
    "aaaaaa = ((1,2),(3,4))\n"
   ]
  },
  {
   "cell_type": "code",
   "execution_count": 29,
   "metadata": {},
   "outputs": [
    {
     "data": {
      "text/plain": [
       "0"
      ]
     },
     "execution_count": 29,
     "metadata": {},
     "output_type": "execute_result"
    }
   ],
   "source": [
    "aaaaaa.index((1,2))"
   ]
  },
  {
   "cell_type": "code",
   "execution_count": 30,
   "metadata": {},
   "outputs": [],
   "source": [
    "rule_idx = sample(range(13),13)"
   ]
  },
  {
   "cell_type": "code",
   "execution_count": 215,
   "metadata": {},
   "outputs": [
    {
     "name": "stdout",
     "output_type": "stream",
     "text": [
      "ndata: 100\n",
      "((1, -4, -2), (1, -4, 2), (1, 4, 2), (1, 4, -2, -3), (1, 4, -2, 3), (-1, 2, 4), (-1, -2, -3), (-1, -2, 3), (-1, 2, -4, -3), (-1, 2, -4, 3))\n",
      "R_c -11.12\n",
      "CPU times: user 3.87 s, sys: 4 ms, total: 3.88 s\n",
      "Wall time: 3.88 s\n"
     ]
    }
   ],
   "source": [
    "%%time\n",
    "# algorithm1_2splits, 3 rules, 25 data, lambda = 0.04\n",
    "\n",
    "algorithm1_2splits(x[:,rule_idx[:4]][idx[:100]],y[idx[:100]],lamb=0.04)"
   ]
  },
  {
   "cell_type": "code",
   "execution_count": 158,
   "metadata": {},
   "outputs": [
    {
     "name": "stdout",
     "output_type": "stream",
     "text": [
      "ndata: 6907\n",
      "((-4,), (4,))\n",
      "R_c 0.48495149847980307\n",
      "CPU times: user 31.6 s, sys: 12 ms, total: 31.6 s\n",
      "Wall time: 31.7 s\n"
     ]
    }
   ],
   "source": [
    "%%time\n",
    "# algorithm1_2splits, 3 rules, 25 data, lambda = 0.04\n",
    "\n",
    "algorithm1_2splits(x[:,rule_idx[:4]],y,lamb=0.04)"
   ]
  },
  {
   "cell_type": "code",
   "execution_count": 49,
   "metadata": {},
   "outputs": [
    {
     "name": "stdout",
     "output_type": "stream",
     "text": [
      "((-1,), (1,))\n",
      "R_c 0.48000000000000004\n",
      "CPU times: user 20 ms, sys: 0 ns, total: 20 ms\n",
      "Wall time: 20.7 ms\n"
     ]
    }
   ],
   "source": [
    "%%time\n",
    "# 3 rules, 25 data, lambda = 0.04\n",
    "\n",
    "algorithm1(x[:,rule_idx[:3]][idx[:25]],y[idx[:25]],lamb=0.04)"
   ]
  },
  {
   "cell_type": "code",
   "execution_count": 14,
   "metadata": {},
   "outputs": [
    {
     "name": "stdout",
     "output_type": "stream",
     "text": [
      "((-1,), (1,))\n",
      "R_c 0.48000000000000004\n",
      "CPU times: user 392 ms, sys: 0 ns, total: 392 ms\n",
      "Wall time: 394 ms\n"
     ]
    }
   ],
   "source": [
    "%%time\n",
    "# 4 rules, 25 data, lambda = 0.04\n",
    "\n",
    "algorithm1(x[:,rule_idx[:4]][idx[:25]],y[idx[:25]],lamb=0.04)"
   ]
  },
  {
   "cell_type": "code",
   "execution_count": 15,
   "metadata": {},
   "outputs": [
    {
     "name": "stdout",
     "output_type": "stream",
     "text": [
      "((-1,), (1,))\n",
      "R_c 0.48000000000000004\n",
      "CPU times: user 4.64 s, sys: 0 ns, total: 4.64 s\n",
      "Wall time: 4.64 s\n"
     ]
    }
   ],
   "source": [
    "%%time\n",
    "# 5 rules, 25 data, lambda = 0.04\n",
    "\n",
    "algorithm1(x[:,rule_idx[:5]][idx[:25]],y[idx[:25]],lamb=0.04)"
   ]
  },
  {
   "cell_type": "code",
   "execution_count": 16,
   "metadata": {},
   "outputs": [
    {
     "name": "stdout",
     "output_type": "stream",
     "text": [
      "((-6,), (6,))\n",
      "R_c 0.36000000000000004\n",
      "CPU times: user 12.4 s, sys: 12 ms, total: 12.4 s\n",
      "Wall time: 12.5 s\n"
     ]
    }
   ],
   "source": [
    "%%time\n",
    "# 6 rules, 25 data, lambda = 0.04\n",
    "\n",
    "algorithm1(x[:,rule_idx[:6]][idx[:25]],y[idx[:25]],lamb=0.04)"
   ]
  },
  {
   "cell_type": "code",
   "execution_count": 17,
   "metadata": {},
   "outputs": [
    {
     "name": "stdout",
     "output_type": "stream",
     "text": [
      "((-6,), (6,))\n",
      "R_c 0.36000000000000004\n",
      "CPU times: user 2min 29s, sys: 36 ms, total: 2min 29s\n",
      "Wall time: 2min 30s\n"
     ]
    }
   ],
   "source": [
    "%%time\n",
    "# 7 rules, 25 data, lambda = 0.04\n",
    "\n",
    "algorithm1(x[:,rule_idx[:7]][idx[:25]],y[idx[:25]],lamb=0.04)"
   ]
  },
  {
   "cell_type": "code",
   "execution_count": 18,
   "metadata": {},
   "outputs": [
    {
     "name": "stdout",
     "output_type": "stream",
     "text": [
      "((-6,), (6,))\n",
      "R_c 0.36000000000000004\n",
      "CPU times: user 22min 48s, sys: 544 ms, total: 22min 48s\n",
      "Wall time: 22min 49s\n"
     ]
    }
   ],
   "source": [
    "%%time\n",
    "# 8 rules, 25 data, lambda = 0.04\n",
    "\n",
    "algorithm1(x[:,rule_idx[:8]][idx[:25]],y[idx[:25]],lamb=0.04)"
   ]
  },
  {
   "cell_type": "code",
   "execution_count": 19,
   "metadata": {},
   "outputs": [
    {
     "ename": "KeyboardInterrupt",
     "evalue": "",
     "output_type": "error",
     "traceback": [
      "\u001b[0;31m\u001b[0m",
      "\u001b[0;31mKeyboardInterrupt\u001b[0mTraceback (most recent call last)",
      "\u001b[0;32m<timed eval>\u001b[0m in \u001b[0;36m<module>\u001b[0;34m()\u001b[0m\n",
      "\u001b[0;32m<ipython-input-10-4f8da4786dc4>\u001b[0m in \u001b[0;36malgorithm1\u001b[0;34m(x, y, lamb)\u001b[0m\n\u001b[1;32m     17\u001b[0m         \u001b[0mtree\u001b[0m \u001b[0;34m=\u001b[0m \u001b[0mqueue\u001b[0m\u001b[0;34m.\u001b[0m\u001b[0mpop\u001b[0m\u001b[0;34m(\u001b[0m\u001b[0;36m0\u001b[0m\u001b[0;34m)\u001b[0m\u001b[0;34m\u001b[0m\u001b[0m\n\u001b[1;32m     18\u001b[0m         \u001b[0md\u001b[0m \u001b[0;34m=\u001b[0m \u001b[0mtree\u001b[0m\u001b[0;34m.\u001b[0m\u001b[0mget_prefix\u001b[0m\u001b[0;34m(\u001b[0m\u001b[0;34m)\u001b[0m\u001b[0;34m\u001b[0m\u001b[0m\n\u001b[0;32m---> 19\u001b[0;31m         \u001b[0;32mif\u001b[0m \u001b[0mE\u001b[0m\u001b[0;34m.\u001b[0m\u001b[0mis_eliminated\u001b[0m\u001b[0;34m(\u001b[0m\u001b[0md\u001b[0m\u001b[0;34m)\u001b[0m\u001b[0;34m:\u001b[0m\u001b[0;34m\u001b[0m\u001b[0m\n\u001b[0m\u001b[1;32m     20\u001b[0m             \u001b[0;32mcontinue\u001b[0m\u001b[0;34m\u001b[0m\u001b[0m\n\u001b[1;32m     21\u001b[0m         \u001b[0;32melse\u001b[0m\u001b[0;34m:\u001b[0m\u001b[0;34m\u001b[0m\u001b[0m\n",
      "\u001b[0;32m<ipython-input-8-6c1d5257ac4a>\u001b[0m in \u001b[0;36mis_eliminated\u001b[0;34m(self, prefix)\u001b[0m\n\u001b[1;32m     21\u001b[0m \u001b[0;34m\u001b[0m\u001b[0m\n\u001b[1;32m     22\u001b[0m         \u001b[0;32mfor\u001b[0m \u001b[0mi\u001b[0m \u001b[0;32min\u001b[0m \u001b[0mrange\u001b[0m\u001b[0;34m(\u001b[0m\u001b[0mlen\u001b[0m\u001b[0;34m(\u001b[0m\u001b[0mself\u001b[0m\u001b[0;34m.\u001b[0m\u001b[0meliminated\u001b[0m\u001b[0;34m)\u001b[0m\u001b[0;34m)\u001b[0m\u001b[0;34m:\u001b[0m\u001b[0;34m\u001b[0m\u001b[0m\n\u001b[0;32m---> 23\u001b[0;31m             \u001b[0;32mif\u001b[0m \u001b[0mall\u001b[0m\u001b[0;34m(\u001b[0m\u001b[0;34m[\u001b[0m\u001b[0mr\u001b[0m \u001b[0;32min\u001b[0m \u001b[0mprefix\u001b[0m \u001b[0;32mfor\u001b[0m \u001b[0mr\u001b[0m \u001b[0;32min\u001b[0m \u001b[0mself\u001b[0m\u001b[0;34m.\u001b[0m\u001b[0meliminated\u001b[0m\u001b[0;34m[\u001b[0m\u001b[0mi\u001b[0m\u001b[0;34m]\u001b[0m\u001b[0;34m]\u001b[0m\u001b[0;34m)\u001b[0m\u001b[0;34m:\u001b[0m\u001b[0;34m\u001b[0m\u001b[0m\n\u001b[0m\u001b[1;32m     24\u001b[0m                 \u001b[0;31m#print(\"Eliminated!\")\u001b[0m\u001b[0;34m\u001b[0m\u001b[0;34m\u001b[0m\u001b[0m\n\u001b[1;32m     25\u001b[0m                 \u001b[0;32mreturn\u001b[0m \u001b[0;32mTrue\u001b[0m\u001b[0;34m\u001b[0m\u001b[0m\n",
      "\u001b[0;31mKeyboardInterrupt\u001b[0m: "
     ]
    }
   ],
   "source": [
    "%%time\n",
    "# 9 rules, 25 data, lambda = 0.04\n",
    "\n",
    "algorithm1(x[:,rule_idx[:9]][idx[:25]],y[idx[:25]],lamb=0.04)"
   ]
  },
  {
   "cell_type": "code",
   "execution_count": 20,
   "metadata": {},
   "outputs": [
    {
     "ename": "KeyboardInterrupt",
     "evalue": "",
     "output_type": "error",
     "traceback": [
      "\u001b[0;31m\u001b[0m",
      "\u001b[0;31mKeyboardInterrupt\u001b[0mTraceback (most recent call last)",
      "\u001b[0;32m<timed eval>\u001b[0m in \u001b[0;36m<module>\u001b[0;34m()\u001b[0m\n",
      "\u001b[0;32m<ipython-input-10-4f8da4786dc4>\u001b[0m in \u001b[0;36malgorithm1\u001b[0;34m(x, y, lamb)\u001b[0m\n\u001b[1;32m     17\u001b[0m         \u001b[0mtree\u001b[0m \u001b[0;34m=\u001b[0m \u001b[0mqueue\u001b[0m\u001b[0;34m.\u001b[0m\u001b[0mpop\u001b[0m\u001b[0;34m(\u001b[0m\u001b[0;36m0\u001b[0m\u001b[0;34m)\u001b[0m\u001b[0;34m\u001b[0m\u001b[0m\n\u001b[1;32m     18\u001b[0m         \u001b[0md\u001b[0m \u001b[0;34m=\u001b[0m \u001b[0mtree\u001b[0m\u001b[0;34m.\u001b[0m\u001b[0mget_prefix\u001b[0m\u001b[0;34m(\u001b[0m\u001b[0;34m)\u001b[0m\u001b[0;34m\u001b[0m\u001b[0m\n\u001b[0;32m---> 19\u001b[0;31m         \u001b[0;32mif\u001b[0m \u001b[0mE\u001b[0m\u001b[0;34m.\u001b[0m\u001b[0mis_eliminated\u001b[0m\u001b[0;34m(\u001b[0m\u001b[0md\u001b[0m\u001b[0;34m)\u001b[0m\u001b[0;34m:\u001b[0m\u001b[0;34m\u001b[0m\u001b[0m\n\u001b[0m\u001b[1;32m     20\u001b[0m             \u001b[0;32mcontinue\u001b[0m\u001b[0;34m\u001b[0m\u001b[0m\n\u001b[1;32m     21\u001b[0m         \u001b[0;32melse\u001b[0m\u001b[0;34m:\u001b[0m\u001b[0;34m\u001b[0m\u001b[0m\n",
      "\u001b[0;32m<ipython-input-8-6c1d5257ac4a>\u001b[0m in \u001b[0;36mis_eliminated\u001b[0;34m(self, prefix)\u001b[0m\n\u001b[1;32m     21\u001b[0m \u001b[0;34m\u001b[0m\u001b[0m\n\u001b[1;32m     22\u001b[0m         \u001b[0;32mfor\u001b[0m \u001b[0mi\u001b[0m \u001b[0;32min\u001b[0m \u001b[0mrange\u001b[0m\u001b[0;34m(\u001b[0m\u001b[0mlen\u001b[0m\u001b[0;34m(\u001b[0m\u001b[0mself\u001b[0m\u001b[0;34m.\u001b[0m\u001b[0meliminated\u001b[0m\u001b[0;34m)\u001b[0m\u001b[0;34m)\u001b[0m\u001b[0;34m:\u001b[0m\u001b[0;34m\u001b[0m\u001b[0m\n\u001b[0;32m---> 23\u001b[0;31m             \u001b[0;32mif\u001b[0m \u001b[0mall\u001b[0m\u001b[0;34m(\u001b[0m\u001b[0;34m[\u001b[0m\u001b[0mr\u001b[0m \u001b[0;32min\u001b[0m \u001b[0mprefix\u001b[0m \u001b[0;32mfor\u001b[0m \u001b[0mr\u001b[0m \u001b[0;32min\u001b[0m \u001b[0mself\u001b[0m\u001b[0;34m.\u001b[0m\u001b[0meliminated\u001b[0m\u001b[0;34m[\u001b[0m\u001b[0mi\u001b[0m\u001b[0;34m]\u001b[0m\u001b[0;34m]\u001b[0m\u001b[0;34m)\u001b[0m\u001b[0;34m:\u001b[0m\u001b[0;34m\u001b[0m\u001b[0m\n\u001b[0m\u001b[1;32m     24\u001b[0m                 \u001b[0;31m#print(\"Eliminated!\")\u001b[0m\u001b[0;34m\u001b[0m\u001b[0;34m\u001b[0m\u001b[0m\n\u001b[1;32m     25\u001b[0m                 \u001b[0;32mreturn\u001b[0m \u001b[0;32mTrue\u001b[0m\u001b[0;34m\u001b[0m\u001b[0m\n",
      "\u001b[0;31mKeyboardInterrupt\u001b[0m: "
     ]
    }
   ],
   "source": [
    "%%time\n",
    "# all 13 rules, 25 data, lambda = 0.04\n",
    "\n",
    "algorithm1(x[idx[:25]],y[idx[:25]],lamb=0.04)"
   ]
  },
  {
   "cell_type": "code",
   "execution_count": 21,
   "metadata": {},
   "outputs": [
    {
     "name": "stdout",
     "output_type": "stream",
     "text": [
      "((-6,), (6,))\n",
      "R_c 0.34\n",
      "CPU times: user 15.2 s, sys: 4 ms, total: 15.2 s\n",
      "Wall time: 15.2 s\n"
     ]
    }
   ],
   "source": [
    "%%time\n",
    "# 6 rules, 25 data, lambda = 0.03\n",
    "\n",
    "algorithm1(x[:,rule_idx[:6]][idx[:25]],y[idx[:25]],lamb=0.03)"
   ]
  },
  {
   "cell_type": "code",
   "execution_count": 22,
   "metadata": {},
   "outputs": [
    {
     "name": "stdout",
     "output_type": "stream",
     "text": [
      "((-5, -6), (-5, 6), (5, 1), (5, -1, -2), (5, -1, 2))\n",
      "R_c 0.29999999999999993\n",
      "CPU times: user 27 s, sys: 0 ns, total: 27 s\n",
      "Wall time: 27 s\n"
     ]
    }
   ],
   "source": [
    "%%time\n",
    "# 6 rules, 25 data, lambda = 0.02\n",
    "\n",
    "algorithm1(x[:,rule_idx[:6]][idx[:25]],y[idx[:25]],lamb=0.02)"
   ]
  },
  {
   "cell_type": "code",
   "execution_count": 23,
   "metadata": {},
   "outputs": [
    {
     "name": "stdout",
     "output_type": "stream",
     "text": [
      "((-5, -6), (-5, 6), (5, 1), (5, -1, -2), (5, -1, 2))\n",
      "R_c 0.24999999999999994\n",
      "CPU times: user 31.4 s, sys: 20 ms, total: 31.4 s\n",
      "Wall time: 31.4 s\n"
     ]
    }
   ],
   "source": [
    "%%time\n",
    "# 6 rules, 25 data, lambda = 0.01\n",
    "\n",
    "algorithm1(x[:,rule_idx[:6]][idx[:25]],y[idx[:25]],lamb=0.01)"
   ]
  },
  {
   "cell_type": "code",
   "execution_count": 16,
   "metadata": {},
   "outputs": [],
   "source": [
    "def algorithm1_nobound(x, y, lamb):\n",
    "    \"\"\"\n",
    "    A brute forece implementation of Algorithm1 without the bound of Theorem1\n",
    "    \"\"\"\n",
    "    \n",
    "    d_c = None\n",
    "    R_c = 1\n",
    "\n",
    "    nrule = x.shape[1]\n",
    "\n",
    "    # initialize the queue to include all trees of just one split\n",
    "    queue = [CacheTree(prefix = ((-r,),(r,)), x = x, y = y) for r in range(1, nrule+1)]\n",
    "\n",
    "    E = Eliminate()\n",
    "\n",
    "    while (queue):\n",
    "        tree = queue.pop(0)\n",
    "        d = tree.get_prefix()\n",
    "        if E.is_eliminated(d):\n",
    "            continue\n",
    "        else:\n",
    "            E.eliminate(d)\n",
    "        R = Risk(tree,x,y,lamb)\n",
    "        if R<R_c:\n",
    "            d_c = d\n",
    "            R_c = R\n",
    "\n",
    "        #print(\"d\",d)\n",
    "        #print(\"R\",R)\n",
    "        #print(\"R_c\",R_c)\n",
    "        #print(tree.get_pred())\n",
    "\n",
    "        for i in range(len(d)):\n",
    "            d0 = d[i]\n",
    "            dp = d[:i]+d[i+1:]\n",
    "            #print(\"bound\", bound(tree,x,y,i))\n",
    "            #print(\"R_c\", R_c)\n",
    "            #if bound(tree,x,y,i,lamb)<R_c:\n",
    "            for j in range(1, nrule+1):\n",
    "                if (j not in d0)and(-j not in d0):\n",
    "                    l1 = d0+(-j,)\n",
    "                    l2 = d0+(j,)\n",
    "                    t = dp+(l1, l2)\n",
    "                    #print(\"t\",t)\n",
    "                    if (not E.is_eliminated(t)):\n",
    "                        pred_l, cap_l, corr_l = calcul((l1,l2),x,y)\n",
    "                        queue.append(\n",
    "                            CacheTree(prefix = t,\n",
    "                                      prediction = tree.get_pred()[:i]+tree.get_pred()[i+1:]+pred_l,\n",
    "                                      num_captured = tree.get_cap()[:i]+tree.get_cap()[i+1:]+cap_l,\n",
    "                                      num_captured_correct = tree.get_ncc()[:i]+tree.get_ncc()[i+1:]+corr_l)\n",
    "                        )\n",
    "            #else:\n",
    "                #E.eliminate_children(dp)\n",
    "                #print(\"Children Elim\")\n",
    "\n",
    "    print(d_c)\n",
    "    print(\"R_c\", R_c)"
   ]
  },
  {
   "cell_type": "code",
   "execution_count": 50,
   "metadata": {},
   "outputs": [
    {
     "name": "stdout",
     "output_type": "stream",
     "text": [
      "((-1,), (1,))\n",
      "R_c 0.48000000000000004\n",
      "CPU times: user 208 ms, sys: 8 ms, total: 216 ms\n",
      "Wall time: 217 ms\n"
     ]
    }
   ],
   "source": [
    "%%time\n",
    "# algorithm1 without the bound, 3 rules, 25 data, lambda = 0.04\n",
    "\n",
    "algorithm1_nobound(x[:,rule_idx[:3]][idx[:25]],y[idx[:25]],lamb=0.04)"
   ]
  },
  {
   "cell_type": "code",
   "execution_count": 29,
   "metadata": {},
   "outputs": [
    {
     "ename": "KeyboardInterrupt",
     "evalue": "",
     "output_type": "error",
     "traceback": [
      "\u001b[0;31m\u001b[0m",
      "\u001b[0;31mKeyboardInterrupt\u001b[0mTraceback (most recent call last)",
      "\u001b[0;32m<timed eval>\u001b[0m in \u001b[0;36m<module>\u001b[0;34m()\u001b[0m\n",
      "\u001b[0;32m<ipython-input-16-cb02204f2cd8>\u001b[0m in \u001b[0;36malgorithm1_nobound\u001b[0;34m(x, y, lamb)\u001b[0m\n\u001b[1;32m     37\u001b[0m             \u001b[0;31m#print(\"R_c\", R_c)\u001b[0m\u001b[0;34m\u001b[0m\u001b[0;34m\u001b[0m\u001b[0m\n\u001b[1;32m     38\u001b[0m             \u001b[0;31m#if bound(tree,x,y,i,lamb)<R_c:\u001b[0m\u001b[0;34m\u001b[0m\u001b[0;34m\u001b[0m\u001b[0m\n\u001b[0;32m---> 39\u001b[0;31m             \u001b[0;32mfor\u001b[0m \u001b[0mj\u001b[0m \u001b[0;32min\u001b[0m \u001b[0mrange\u001b[0m\u001b[0;34m(\u001b[0m\u001b[0;36m1\u001b[0m\u001b[0;34m,\u001b[0m \u001b[0mnrule\u001b[0m\u001b[0;34m+\u001b[0m\u001b[0;36m1\u001b[0m\u001b[0;34m)\u001b[0m\u001b[0;34m:\u001b[0m\u001b[0;34m\u001b[0m\u001b[0m\n\u001b[0m\u001b[1;32m     40\u001b[0m                 \u001b[0;32mif\u001b[0m \u001b[0;34m(\u001b[0m\u001b[0mj\u001b[0m \u001b[0;32mnot\u001b[0m \u001b[0;32min\u001b[0m \u001b[0md0\u001b[0m\u001b[0;34m)\u001b[0m\u001b[0;32mand\u001b[0m\u001b[0;34m(\u001b[0m\u001b[0;34m-\u001b[0m\u001b[0mj\u001b[0m \u001b[0;32mnot\u001b[0m \u001b[0;32min\u001b[0m \u001b[0md0\u001b[0m\u001b[0;34m)\u001b[0m\u001b[0;34m:\u001b[0m\u001b[0;34m\u001b[0m\u001b[0m\n\u001b[1;32m     41\u001b[0m                     \u001b[0ml1\u001b[0m \u001b[0;34m=\u001b[0m \u001b[0md0\u001b[0m\u001b[0;34m+\u001b[0m\u001b[0;34m(\u001b[0m\u001b[0;34m-\u001b[0m\u001b[0mj\u001b[0m\u001b[0;34m,\u001b[0m\u001b[0;34m)\u001b[0m\u001b[0;34m\u001b[0m\u001b[0m\n",
      "\u001b[0;31mKeyboardInterrupt\u001b[0m: "
     ]
    }
   ],
   "source": [
    "%%time\n",
    "# algorithm1 without the bound, 4 rules, 25 data, lambda = 0.04\n",
    "\n",
    "algorithm1_nobound(x[:,rule_idx[:4]][idx[:25]],y[idx[:25]],lamb=0.04)"
   ]
  }
 ],
 "metadata": {
  "kernelspec": {
   "display_name": "Python 3",
   "language": "python",
   "name": "python3"
  },
  "language_info": {
   "codemirror_mode": {
    "name": "ipython",
    "version": 3
   },
   "file_extension": ".py",
   "mimetype": "text/x-python",
   "name": "python",
   "nbconvert_exporter": "python",
   "pygments_lexer": "ipython3",
   "version": "3.6.5"
  }
 },
 "nbformat": 4,
 "nbformat_minor": 2
}
