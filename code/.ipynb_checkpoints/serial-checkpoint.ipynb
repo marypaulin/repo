{
 "cells": [
  {
   "cell_type": "code",
   "execution_count": null,
   "metadata": {},
   "outputs": [],
   "source": [
    "#A brute force implementation of Algorithm1"
   ]
  },
  {
   "cell_type": "code",
   "execution_count": 4,
   "metadata": {},
   "outputs": [],
   "source": [
    "import pandas as pd\n",
    "import numpy as np\n",
    "from random import sample,seed"
   ]
  },
  {
   "cell_type": "code",
   "execution_count": 5,
   "metadata": {},
   "outputs": [],
   "source": [
    "df = pd.DataFrame(pd.read_csv('../data/compas-binary.csv'))\n",
    "df\n",
    "\n",
    "seed(10)\n",
    "\n",
    "idx = sample(range(df.shape[0]),df.shape[0])"
   ]
  },
  {
   "cell_type": "code",
   "execution_count": 6,
   "metadata": {},
   "outputs": [],
   "source": [
    "x = df.as_matrix()[:,:13]\n",
    "\n",
    "y = df.as_matrix()[:,13]"
   ]
  },
  {
   "cell_type": "code",
   "execution_count": 7,
   "metadata": {},
   "outputs": [],
   "source": [
    "# calculate the bound with dp=all leaves except leaf l\n",
    "def bound(tree, x, y, l, lamb = 0.02):\n",
    "    return (sum(tree.get_cap()[:l]+tree.get_cap()[l+1:])-\n",
    "            sum(tree.get_ncc()[:l]+tree.get_ncc()[l+1:]))/len(y) + lamb*len(tree.get_prefix())\n",
    "\n",
    "# calculate the risk\n",
    "def Risk(tree, x, y, lamb = 0.02):\n",
    "    return 1-sum(tree.get_ncc())/len(y) + + lamb*len(tree.get_prefix())"
   ]
  },
  {
   "cell_type": "code",
   "execution_count": 8,
   "metadata": {},
   "outputs": [],
   "source": [
    "def calcul(prefix, x, y):\n",
    "    \"\"\"\n",
    "    Function for calculating the predictions, number of data captured,\n",
    "    and number of data correctly captured by the leaves.\n",
    "    \"\"\"\n",
    "    prediction = []\n",
    "    num_captured = []\n",
    "    num_captured_correct = []\n",
    "    for i in range(len(prefix)):\n",
    "        tag = np.array([True]*len(y))\n",
    "        for j in range(len(prefix[i])):\n",
    "            rule_index = abs(prefix[i][j])-1\n",
    "            rule_label = int(prefix[i][j]>0)\n",
    "            tag = (x[:,rule_index] == rule_label)*tag\n",
    "            \n",
    "        # the y's of these data captured by leaf i\n",
    "        y_leaf = y[tag]\n",
    "        \n",
    "        num_cap = len(y_leaf)\n",
    "        num_captured.append(num_cap)\n",
    "        \n",
    "        if len(y_leaf)>0:\n",
    "            pred = int(y_leaf.sum()/len(y_leaf) > 0.5)\n",
    "            prediction.append(pred)\n",
    "            num_cap_cor = sum(y_leaf == pred)\n",
    "            num_captured_correct.append(num_cap_cor)\n",
    "        else:\n",
    "            prediction.append(0)\n",
    "            num_captured_correct.append(0)\n",
    "        \n",
    "    return prediction, num_captured, num_captured_correct"
   ]
  },
  {
   "cell_type": "code",
   "execution_count": 9,
   "metadata": {},
   "outputs": [],
   "source": [
    "class CacheTree:\n",
    "    \"\"\"\n",
    "    A tree data structure.\n",
    "    prefix: a 2-d tuple to record the prefixes of leaves\n",
    "    prediction: a list to record the predictions of leaves\n",
    "    num_captured: a list to record number of data captured by the leaves\n",
    "    num_captured_correct: a list to record number of data correctly captured by the leaves\n",
    "    \"\"\"\n",
    "    def __init__(self, prefix=None, \n",
    "                 prediction=None,\n",
    "                 num_captured=None,\n",
    "                 num_captured_correct=None,\n",
    "                 x=None, y=None):\n",
    "        self.prefix = prefix\n",
    "        self.prediction = prediction\n",
    "        self.num_captured = num_captured\n",
    "        self.num_captured_correct = num_captured_correct\n",
    "        if prediction==None:\n",
    "            self.prediction, self.num_captured, self.num_captured_correct = calcul(self.prefix, x, y)\n",
    "            \n",
    "    def get_prefix(self):\n",
    "        return self.prefix\n",
    "    \n",
    "    def get_pred(self):\n",
    "        return self.prediction\n",
    "    \n",
    "    def get_cap(self):\n",
    "        return self.num_captured\n",
    "    \n",
    "    def get_ncc(self):\n",
    "        return self.num_captured_correct"
   ]
  },
  {
   "cell_type": "code",
   "execution_count": 10,
   "metadata": {},
   "outputs": [],
   "source": [
    "class Eliminate:\n",
    "    \"\"\"\n",
    "    A data structure to record and identify\n",
    "    whether a tree has been visited/pruned\n",
    "    \"\"\"\n",
    "    def __init__(self, elim_dict = None, \n",
    "                 eliminated = None):\n",
    "        self.elim_dict = {}\n",
    "        self.eliminated = []\n",
    "        \n",
    "    def eliminate(self, prefix):\n",
    "        self.elim_dict[prefix] = 1\n",
    "    \n",
    "    def eliminate_children(self, dp):\n",
    "        self.eliminated.append(dp)\n",
    "        \n",
    "    def is_eliminated(self, prefix):\n",
    "        if prefix in self.elim_dict.keys():\n",
    "            #print(\"Eliminated!\")\n",
    "            return True\n",
    "        \n",
    "        for i in range(len(self.eliminated)):\n",
    "            if all([r in prefix for r in self.eliminated[i]]):\n",
    "                #print(\"Eliminated!\")\n",
    "                return True\n",
    "        \n",
    "        return False"
   ]
  },
  {
   "cell_type": "code",
   "execution_count": 11,
   "metadata": {},
   "outputs": [],
   "source": [
    "import time"
   ]
  },
  {
   "cell_type": "code",
   "execution_count": 12,
   "metadata": {
    "scrolled": true
   },
   "outputs": [],
   "source": [
    "def algorithm1(x, y, lamb):\n",
    "    \"\"\"\n",
    "    A brute forece implementation of Algorithm1\n",
    "    \"\"\"\n",
    "    \n",
    "    d_c = None\n",
    "    R_c = 1\n",
    "\n",
    "    nrule = x.shape[1]\n",
    "\n",
    "    # initialize the queue to include all trees of just one split\n",
    "    queue = [CacheTree(prefix = ((-r,),(r,)), x = x, y = y) for r in range(1, nrule+1)]\n",
    "\n",
    "    E = Eliminate()\n",
    "\n",
    "    while (queue):\n",
    "        tree = queue.pop(0)\n",
    "        d = tree.get_prefix()\n",
    "        if E.is_eliminated(d):\n",
    "            continue\n",
    "        else:\n",
    "            E.eliminate(d)\n",
    "        R = Risk(tree,x,y,lamb)\n",
    "        if R<R_c:\n",
    "            d_c = d\n",
    "            R_c = R\n",
    "\n",
    "        #print(\"d\",d)\n",
    "        #print(\"R\",R)\n",
    "        #print(\"R_c\",R_c)\n",
    "        #print(tree.get_pred())\n",
    "\n",
    "        for i in range(len(d)):\n",
    "            d0 = d[i]\n",
    "            dp = d[:i]+d[i+1:]\n",
    "            #print(\"bound\", bound(tree,x,y,i))\n",
    "            #print(\"R_c\", R_c)\n",
    "            if bound(tree,x,y,i,lamb)<R_c:\n",
    "                for j in range(1, nrule+1):\n",
    "                    if (j not in d0)and(-j not in d0):\n",
    "                        l1 = d0+(-j,)\n",
    "                        l2 = d0+(j,)\n",
    "                        t = dp+(l1, l2)\n",
    "                        #print(\"t\",t)\n",
    "                        if (not E.is_eliminated(t)):\n",
    "                            pred_l, cap_l, corr_l = calcul((l1,l2),x,y)\n",
    "                            queue.append(\n",
    "                                CacheTree(prefix = t,\n",
    "                                          prediction = tree.get_pred()[:i]+tree.get_pred()[i+1:]+pred_l,\n",
    "                                          num_captured = tree.get_cap()[:i]+tree.get_cap()[i+1:]+cap_l,\n",
    "                                          num_captured_correct = tree.get_ncc()[:i]+tree.get_ncc()[i+1:]+corr_l)\n",
    "                            )\n",
    "            else:\n",
    "                E.eliminate_children(dp)\n",
    "                #print(\"Children Elim\")\n",
    "\n",
    "    print(d_c)\n",
    "    print(\"R_c\", R_c)"
   ]
  },
  {
   "cell_type": "code",
   "execution_count": 27,
   "metadata": {},
   "outputs": [],
   "source": [
    "def algorithm1_2splits(x, y, lamb):\n",
    "    \"\"\"\n",
    "    A brute forece implementation of Algorithm1\n",
    "    \"\"\"\n",
    "    \n",
    "    d_c = None\n",
    "    R_c = 1\n",
    "\n",
    "    nrule = x.shape[1]\n",
    "\n",
    "    # initialize the queue to include all trees of just one split\n",
    "    queue = [CacheTree(prefix = ((-r,),(r,)), x = x, y = y) for r in range(1, nrule+1)]\n",
    "\n",
    "    E = Eliminate()\n",
    "\n",
    "    while (queue):\n",
    "        tree = queue.pop(0)\n",
    "        d = tree.get_prefix()\n",
    "        if E.is_eliminated(d):\n",
    "            continue\n",
    "        else:\n",
    "            E.eliminate(d)\n",
    "        R = Risk(tree,x,y,lamb)\n",
    "        if R<R_c:\n",
    "            d_c = d\n",
    "            R_c = R\n",
    "\n",
    "        print(\"d\",d)\n",
    "        #print(\"R\",R)\n",
    "        #print(\"R_c\",R_c)\n",
    "        #print(tree.get_pred())\n",
    "        \n",
    "        V = []\n",
    "        for i in range(len(d)):\n",
    "            d0 = d[i]\n",
    "            dp = d[:i]+d[i+1:]\n",
    "            #print(\"bound\", bound(tree,x,y,i))\n",
    "            #print(\"R_c\", R_c)\n",
    "            if bound(tree,x,y,i,lamb)<R_c:\n",
    "                for j in range(1, nrule+1):\n",
    "                    if (j not in d0)and(-j not in d0):\n",
    "                        l1 = d0+(-j,)\n",
    "                        l2 = d0+(j,)\n",
    "                        t = dp+(l1, l2)\n",
    "                        #print(\"t\",t)\n",
    "                        if (not E.is_eliminated(t)):\n",
    "                            pred_l, cap_l, corr_l = calcul((l1,l2),x,y)\n",
    "                            queue.append(\n",
    "                                CacheTree(prefix = t,\n",
    "                                          prediction = tree.get_pred()[:i]+tree.get_pred()[i+1:]+pred_l,\n",
    "                                          num_captured = tree.get_cap()[:i]+tree.get_cap()[i+1:]+cap_l,\n",
    "                                          num_captured_correct = tree.get_ncc()[:i]+tree.get_ncc()[i+1:]+corr_l)\n",
    "                            )\n",
    "            else:\n",
    "                E.eliminate_children(dp)\n",
    "                if len(V)>0:\n",
    "                    for j in range(1, nrule+1):\n",
    "                        if (j not in d0)and(-j not in d0):\n",
    "                            l1 = d0+(-j,)\n",
    "                            l2 = d0+(j,)\n",
    "                            t = dp+(l1, l2)\n",
    "                            \n",
    "                            pred_l, cap_l, corr_l = calcul((l1,l2),x,y)\n",
    "                            t_prediction = tree.get_pred()[:i]+tree.get_pred()[i+1:]+pred_l\n",
    "                            t_num_captured = tree.get_cap()[:i]+tree.get_cap()[i+1:]+cap_l\n",
    "                            t_num_captured_correct = tree.get_ncc()[:i]+tree.get_ncc()[i+1:]+corr_l\n",
    "                            \n",
    "                            for iv in range(len(V)):\n",
    "                                lv = V[iv]\n",
    "                                idx_lv = t.index(lv)\n",
    "                                \n",
    "                                for jv in range(1, nrule+1):\n",
    "                                    print(\"jv, lv\",jv, lv)\n",
    "                                    if (jv not in lv)and(-jv not in lv):\n",
    "                                        lv1 = lv+(-jv,)\n",
    "                                        lv2 = lv+(jv,)\n",
    "                                        t1 = t[:idx_lv]+t[idx_lv+1:]+(lv1, lv2)\n",
    "                                        print(\"t1\",t1)\n",
    "                                        if (not E.is_eliminated(t1)):\n",
    "                                            pred_lv, cap_lv, corr_lv = calcul((lv1,lv2),x,y)\n",
    "                                            queue.append(\n",
    "                                                CacheTree(prefix = t1,\n",
    "                                                          prediction = t_prediction[:idx_lv]+t_prediction[idx_lv+1:]+pred_lv,\n",
    "                                                          num_captured = t_num_captured[:idx_lv]+t_num_captured[idx_lv+1:]+cap_lv,\n",
    "                                                          num_captured_correct = t_num_captured_correct[:idx_lv]+t_num_captured_correct[idx_lv+1:]+corr_lv)\n",
    "                                            )\n",
    "                V.append(d0)\n",
    "                #print(\"Children Elim\")\n",
    "\n",
    "    print(d_c)\n",
    "    print(\"R_c\", R_c)"
   ]
  },
  {
   "cell_type": "code",
   "execution_count": 1,
   "metadata": {},
   "outputs": [],
   "source": [
    "aaaaaa = ((1,2),(3,4))\n"
   ]
  },
  {
   "cell_type": "code",
   "execution_count": 3,
   "metadata": {},
   "outputs": [
    {
     "data": {
      "text/plain": [
       "0"
      ]
     },
     "execution_count": 3,
     "metadata": {},
     "output_type": "execute_result"
    }
   ],
   "source": [
    "aaaaaa.index((1,2))"
   ]
  },
  {
   "cell_type": "code",
   "execution_count": 14,
   "metadata": {},
   "outputs": [],
   "source": [
    "rule_idx = sample(range(13),13)"
   ]
  },
  {
   "cell_type": "code",
   "execution_count": 32,
   "metadata": {},
   "outputs": [
    {
     "name": "stdout",
     "output_type": "stream",
     "text": [
      "d ((-1,), (1,))\n",
      "d ((-2,), (2,))\n",
      "d ((-3,), (3,))\n",
      "d ((1,), (-1, -2), (-1, 2))\n",
      "d ((1,), (-1, -3), (-1, 3))\n",
      "d ((-1,), (1, -2), (1, 2))\n",
      "d ((-1,), (1, -3), (1, 3))\n",
      "d ((2,), (-2, -1), (-2, 1))\n",
      "d ((2,), (-2, -3), (-2, 3))\n",
      "d ((-2,), (2, -1), (2, 1))\n",
      "d ((-2,), (2, -3), (2, 3))\n",
      "d ((3,), (-3, -1), (-3, 1))\n",
      "d ((3,), (-3, -2), (-3, 2))\n",
      "d ((-1, -2), (-1, 2), (1, -2), (1, 2))\n",
      "d ((-1, -2), (-1, 2), (1, -3), (1, 3))\n",
      "d ((1,), (-1, 2), (-1, -2, -3), (-1, -2, 3))\n",
      "d ((1,), (-1, -2), (-1, 2, -3), (-1, 2, 3))\n",
      "d ((-1, -3), (-1, 3), (1, -2), (1, 2))\n",
      "jv, lv 1 (-1, 3)\n",
      "jv, lv 2 (-1, 3)\n",
      "t1 ((-1, -3), (1, -2), (1, 2, -3), (1, 2, 3), (-1, 3, -2), (-1, 3, 2))\n",
      "jv, lv 3 (-1, 3)\n",
      "d ((-1, -3), (-1, 3), (1, -3), (1, 3))\n",
      "jv, lv 1 (-1, 3)\n",
      "jv, lv 2 (-1, 3)\n",
      "t1 ((-1, -3), (1, -3), (1, 3, -2), (1, 3, 2), (-1, 3, -2), (-1, 3, 2))\n",
      "jv, lv 3 (-1, 3)\n",
      "d ((1,), (-1, 3), (-1, -3, -2), (-1, -3, 2))\n",
      "d ((-1,), (1, 2), (1, -2, -3), (1, -2, 3))\n",
      "d ((-1,), (1, 3), (1, -3, -2), (1, -3, 2))\n",
      "d ((-2, -1), (-2, 1), (2, -1), (2, 1))\n",
      "d ((-2, -1), (-2, 1), (2, -3), (2, 3))\n",
      "d ((2,), (-2, 1), (-2, -1, -3), (-2, -1, 3))\n",
      "d ((2,), (-2, -1), (-2, 1, -3), (-2, 1, 3))\n",
      "d ((-2, -3), (-2, 3), (2, -1), (2, 1))\n",
      "jv, lv 1 (-2, 3)\n",
      "t1 ((-2, -3), (2, -1), (2, 1, -3), (2, 1, 3), (-2, 3, -1), (-2, 3, 1))\n",
      "jv, lv 2 (-2, 3)\n",
      "jv, lv 3 (-2, 3)\n",
      "d ((-2, -3), (-2, 3), (2, -3), (2, 3))\n",
      "jv, lv 1 (-2, 3)\n",
      "t1 ((-2, -3), (2, -3), (2, 3, -1), (2, 3, 1), (-2, 3, -1), (-2, 3, 1))\n",
      "jv, lv 2 (-2, 3)\n",
      "jv, lv 3 (-2, 3)\n",
      "d ((2,), (-2, 3), (-2, -3, -1), (-2, -3, 1))\n",
      "d ((-2,), (2, 1), (2, -1, -3), (2, -1, 3))\n",
      "d ((-2,), (2, 3), (2, -3, -1), (2, -3, 1))\n",
      "d ((3,), (-3, 1), (-3, -1, -2), (-3, -1, 2))\n",
      "d ((3,), (-3, -1), (-3, 1, -2), (-3, 1, 2))\n",
      "d ((3,), (-3, 2), (-3, -2, -1), (-3, -2, 1))\n",
      "d ((3,), (-3, -2), (-3, 2, -1), (-3, 2, 1))\n",
      "d ((-1, 2), (1, -2), (1, 2), (-1, -2, -3), (-1, -2, 3))\n",
      "jv, lv 1 (-1, 2)\n",
      "jv, lv 2 (-1, 2)\n",
      "jv, lv 3 (-1, 2)\n",
      "t1 ((1, 2), (-1, -2, -3), (-1, -2, 3), (1, -2, -3), (1, -2, 3), (-1, 2, -3), (-1, 2, 3))\n",
      "jv, lv 1 (-1, 2)\n",
      "jv, lv 2 (-1, 2)\n",
      "jv, lv 3 (-1, 2)\n",
      "t1 ((1, -2), (-1, -2, -3), (-1, -2, 3), (1, 2, -3), (1, 2, 3), (-1, 2, -3), (-1, 2, 3))\n",
      "jv, lv 1 (1, -2)\n",
      "jv, lv 2 (1, -2)\n",
      "jv, lv 3 (1, -2)\n",
      "t1 ((-1, 2), (-1, -2, -3), (-1, -2, 3), (1, 2, -3), (1, 2, 3), (1, -2, -3), (1, -2, 3))\n",
      "d ((-1, -2), (1, -2), (1, 2), (-1, 2, -3), (-1, 2, 3))\n",
      "jv, lv 1 (1, -2)\n",
      "jv, lv 2 (1, -2)\n",
      "jv, lv 3 (1, -2)\n",
      "t1 ((-1, -2), (-1, 2, -3), (-1, 2, 3), (1, 2, -3), (1, 2, 3), (1, -2, -3), (1, -2, 3))\n",
      "d ((-1, -2), (-1, 2), (1, 2), (1, -2, -3), (1, -2, 3))\n",
      "jv, lv 1 (-1, 2)\n",
      "jv, lv 2 (-1, 2)\n",
      "jv, lv 3 (-1, 2)\n",
      "t1 ((-1, -2), (1, -2, -3), (1, -2, 3), (1, 2, -3), (1, 2, 3), (-1, 2, -3), (-1, 2, 3))\n",
      "d ((-1, 2), (1, -3), (1, 3), (-1, -2, -3), (-1, -2, 3))\n",
      "jv, lv 1 (-1, 2)\n",
      "jv, lv 2 (-1, 2)\n",
      "jv, lv 3 (-1, 2)\n",
      "t1 ((1, 3), (-1, -2, -3), (-1, -2, 3), (1, -3, -2), (1, -3, 2), (-1, 2, -3), (-1, 2, 3))\n",
      "jv, lv 1 (-1, 2)\n",
      "jv, lv 2 (-1, 2)\n",
      "jv, lv 3 (-1, 2)\n",
      "t1 ((1, -3), (-1, -2, -3), (-1, -2, 3), (1, 3, -2), (1, 3, 2), (-1, 2, -3), (-1, 2, 3))\n",
      "jv, lv 1 (1, -3)\n",
      "jv, lv 2 (1, -3)\n",
      "t1 ((-1, 2), (-1, -2, -3), (-1, -2, 3), (1, 3, -2), (1, 3, 2), (1, -3, -2), (1, -3, 2))\n",
      "jv, lv 3 (1, -3)\n",
      "d ((-1, -2), (1, -3), (1, 3), (-1, 2, -3), (-1, 2, 3))\n",
      "jv, lv 1 (1, -3)\n",
      "jv, lv 2 (1, -3)\n",
      "t1 ((-1, -2), (-1, 2, -3), (-1, 2, 3), (1, 3, -2), (1, 3, 2), (1, -3, -2), (1, -3, 2))\n",
      "jv, lv 3 (1, -3)\n",
      "d ((-1, -2), (-1, 2), (1, 3), (1, -3, -2), (1, -3, 2))\n",
      "jv, lv 1 (-1, 2)\n",
      "jv, lv 2 (-1, 2)\n",
      "jv, lv 3 (-1, 2)\n",
      "t1 ((-1, -2), (1, -3, -2), (1, -3, 2), (1, 3, -2), (1, 3, 2), (-1, 2, -3), (-1, 2, 3))\n",
      "d ((1,), (-1, -2, -3), (-1, -2, 3), (-1, 2, -3), (-1, 2, 3))\n",
      "d ((-1, 3), (1, -2), (1, 2), (-1, -3, -2), (-1, -3, 2))\n",
      "jv, lv 1 (-1, 3)\n",
      "jv, lv 2 (-1, 3)\n",
      "t1 ((1, 2), (-1, -3, -2), (-1, -3, 2), (1, -2, -3), (1, -2, 3), (-1, 3, -2), (-1, 3, 2))\n",
      "jv, lv 3 (-1, 3)\n",
      "jv, lv 1 (-1, 3)\n",
      "jv, lv 2 (-1, 3)\n",
      "t1 ((1, -2), (-1, -3, -2), (-1, -3, 2), (1, 2, -3), (1, 2, 3), (-1, 3, -2), (-1, 3, 2))\n",
      "jv, lv 3 (-1, 3)\n",
      "jv, lv 1 (1, -2)\n",
      "jv, lv 2 (1, -2)\n",
      "jv, lv 3 (1, -2)\n",
      "t1 ((-1, 3), (-1, -3, -2), (-1, -3, 2), (1, 2, -3), (1, 2, 3), (1, -2, -3), (1, -2, 3))\n",
      "d ((-1, -3), (-1, 3), (1, 2), (1, -2, -3), (1, -2, 3))\n",
      "jv, lv 1 (-1, 3)\n",
      "jv, lv 2 (-1, 3)\n",
      "t1 ((-1, -3), (1, -2, -3), (1, -2, 3), (1, 2, -3), (1, 2, 3), (-1, 3, -2), (-1, 3, 2))\n",
      "jv, lv 3 (-1, 3)\n",
      "d ((-1, -3), (1, -2), (1, 2, -3), (1, 2, 3), (-1, 3, -2), (-1, 3, 2))\n",
      "d ((-1, 3), (1, -3), (1, 3), (-1, -3, -2), (-1, -3, 2))\n",
      "jv, lv 1 (-1, 3)\n",
      "jv, lv 2 (-1, 3)\n",
      "t1 ((1, 3), (-1, -3, -2), (-1, -3, 2), (1, -3, -2), (1, -3, 2), (-1, 3, -2), (-1, 3, 2))\n",
      "jv, lv 3 (-1, 3)\n",
      "jv, lv 1 (-1, 3)\n",
      "jv, lv 2 (-1, 3)\n",
      "t1 ((1, -3), (-1, -3, -2), (-1, -3, 2), (1, 3, -2), (1, 3, 2), (-1, 3, -2), (-1, 3, 2))\n",
      "jv, lv 3 (-1, 3)\n",
      "jv, lv 1 (1, -3)\n",
      "jv, lv 2 (1, -3)\n",
      "t1 ((-1, 3), (-1, -3, -2), (-1, -3, 2), (1, 3, -2), (1, 3, 2), (1, -3, -2), (1, -3, 2))\n",
      "jv, lv 3 (1, -3)\n",
      "d ((-1, -3), (-1, 3), (1, 3), (1, -3, -2), (1, -3, 2))\n",
      "jv, lv 1 (-1, 3)\n",
      "jv, lv 2 (-1, 3)\n",
      "t1 ((-1, -3), (1, -3, -2), (1, -3, 2), (1, 3, -2), (1, 3, 2), (-1, 3, -2), (-1, 3, 2))\n",
      "jv, lv 3 (-1, 3)\n",
      "d ((-1, -3), (1, -3), (1, 3, -2), (1, 3, 2), (-1, 3, -2), (-1, 3, 2))\n",
      "d ((-2, 1), (2, -1), (2, 1), (-2, -1, -3), (-2, -1, 3))\n",
      "jv, lv 1 (-2, 1)\n",
      "jv, lv 2 (-2, 1)\n",
      "jv, lv 3 (-2, 1)\n",
      "t1 ((2, 1), (-2, -1, -3), (-2, -1, 3), (2, -1, -3), (2, -1, 3), (-2, 1, -3), (-2, 1, 3))\n",
      "jv, lv 1 (-2, 1)\n",
      "jv, lv 2 (-2, 1)\n",
      "jv, lv 3 (-2, 1)\n",
      "t1 ((2, -1), (-2, -1, -3), (-2, -1, 3), (2, 1, -3), (2, 1, 3), (-2, 1, -3), (-2, 1, 3))\n",
      "jv, lv 1 (2, -1)\n",
      "jv, lv 2 (2, -1)\n",
      "jv, lv 3 (2, -1)\n",
      "t1 ((-2, 1), (-2, -1, -3), (-2, -1, 3), (2, 1, -3), (2, 1, 3), (2, -1, -3), (2, -1, 3))\n",
      "d ((-2, -1), (2, -1), (2, 1), (-2, 1, -3), (-2, 1, 3))\n",
      "jv, lv 1 (2, -1)\n",
      "jv, lv 2 (2, -1)\n",
      "jv, lv 3 (2, -1)\n",
      "t1 ((-2, -1), (-2, 1, -3), (-2, 1, 3), (2, 1, -3), (2, 1, 3), (2, -1, -3), (2, -1, 3))\n",
      "d ((-2, -1), (-2, 1), (2, 1), (2, -1, -3), (2, -1, 3))\n",
      "jv, lv 1 (-2, 1)\n",
      "jv, lv 2 (-2, 1)\n",
      "jv, lv 3 (-2, 1)\n",
      "t1 ((-2, -1), (2, -1, -3), (2, -1, 3), (2, 1, -3), (2, 1, 3), (-2, 1, -3), (-2, 1, 3))\n",
      "d ((-2, 1), (2, -3), (2, 3), (-2, -1, -3), (-2, -1, 3))\n",
      "jv, lv 1 (-2, 1)\n",
      "jv, lv 2 (-2, 1)\n",
      "jv, lv 3 (-2, 1)\n",
      "t1 ((2, 3), (-2, -1, -3), (-2, -1, 3), (2, -3, -1), (2, -3, 1), (-2, 1, -3), (-2, 1, 3))\n",
      "jv, lv 1 (-2, 1)\n",
      "jv, lv 2 (-2, 1)\n",
      "jv, lv 3 (-2, 1)\n",
      "t1 ((2, -3), (-2, -1, -3), (-2, -1, 3), (2, 3, -1), (2, 3, 1), (-2, 1, -3), (-2, 1, 3))\n",
      "jv, lv 1 (2, -3)\n",
      "t1 ((-2, 1), (-2, -1, -3), (-2, -1, 3), (2, 3, -1), (2, 3, 1), (2, -3, -1), (2, -3, 1))\n",
      "jv, lv 2 (2, -3)\n",
      "jv, lv 3 (2, -3)\n",
      "d ((-2, -1), (2, -3), (2, 3), (-2, 1, -3), (-2, 1, 3))\n",
      "jv, lv 1 (2, -3)\n",
      "t1 ((-2, -1), (-2, 1, -3), (-2, 1, 3), (2, 3, -1), (2, 3, 1), (2, -3, -1), (2, -3, 1))\n",
      "jv, lv 2 (2, -3)\n",
      "jv, lv 3 (2, -3)\n",
      "d ((-2, -1), (-2, 1), (2, 3), (2, -3, -1), (2, -3, 1))\n",
      "jv, lv 1 (-2, 1)\n",
      "jv, lv 2 (-2, 1)\n",
      "jv, lv 3 (-2, 1)\n",
      "t1 ((-2, -1), (2, -3, -1), (2, -3, 1), (2, 3, -1), (2, 3, 1), (-2, 1, -3), (-2, 1, 3))\n",
      "d ((2,), (-2, -1, -3), (-2, -1, 3), (-2, 1, -3), (-2, 1, 3))\n",
      "d ((-2, 3), (2, -1), (2, 1), (-2, -3, -1), (-2, -3, 1))\n",
      "jv, lv 1 (-2, 3)\n",
      "t1 ((2, 1), (-2, -3, -1), (-2, -3, 1), (2, -1, -3), (2, -1, 3), (-2, 3, -1), (-2, 3, 1))\n",
      "jv, lv 2 (-2, 3)\n",
      "jv, lv 3 (-2, 3)\n",
      "jv, lv 1 (-2, 3)\n",
      "t1 ((2, -1), (-2, -3, -1), (-2, -3, 1), (2, 1, -3), (2, 1, 3), (-2, 3, -1), (-2, 3, 1))\n",
      "jv, lv 2 (-2, 3)\n",
      "jv, lv 3 (-2, 3)\n",
      "jv, lv 1 (2, -1)\n",
      "jv, lv 2 (2, -1)\n",
      "jv, lv 3 (2, -1)\n",
      "t1 ((-2, 3), (-2, -3, -1), (-2, -3, 1), (2, 1, -3), (2, 1, 3), (2, -1, -3), (2, -1, 3))\n",
      "d ((-2, -3), (-2, 3), (2, 1), (2, -1, -3), (2, -1, 3))\n",
      "jv, lv 1 (-2, 3)\n",
      "t1 ((-2, -3), (2, -1, -3), (2, -1, 3), (2, 1, -3), (2, 1, 3), (-2, 3, -1), (-2, 3, 1))\n",
      "jv, lv 2 (-2, 3)\n",
      "jv, lv 3 (-2, 3)\n",
      "d ((-2, -3), (2, -1), (2, 1, -3), (2, 1, 3), (-2, 3, -1), (-2, 3, 1))\n",
      "d ((-2, 3), (2, -3), (2, 3), (-2, -3, -1), (-2, -3, 1))\n",
      "jv, lv 1 (-2, 3)\n",
      "t1 ((2, 3), (-2, -3, -1), (-2, -3, 1), (2, -3, -1), (2, -3, 1), (-2, 3, -1), (-2, 3, 1))\n",
      "jv, lv 2 (-2, 3)\n",
      "jv, lv 3 (-2, 3)\n",
      "jv, lv 1 (-2, 3)\n",
      "t1 ((2, -3), (-2, -3, -1), (-2, -3, 1), (2, 3, -1), (2, 3, 1), (-2, 3, -1), (-2, 3, 1))\n",
      "jv, lv 2 (-2, 3)\n",
      "jv, lv 3 (-2, 3)\n",
      "jv, lv 1 (2, -3)\n",
      "t1 ((-2, 3), (-2, -3, -1), (-2, -3, 1), (2, 3, -1), (2, 3, 1), (2, -3, -1), (2, -3, 1))\n",
      "jv, lv 2 (2, -3)\n",
      "jv, lv 3 (2, -3)\n",
      "d ((-2, -3), (-2, 3), (2, 3), (2, -3, -1), (2, -3, 1))\n",
      "jv, lv 1 (-2, 3)\n",
      "t1 ((-2, -3), (2, -3, -1), (2, -3, 1), (2, 3, -1), (2, 3, 1), (-2, 3, -1), (-2, 3, 1))\n",
      "jv, lv 2 (-2, 3)\n",
      "jv, lv 3 (-2, 3)\n",
      "d ((-2, -3), (2, -3), (2, 3, -1), (2, 3, 1), (-2, 3, -1), (-2, 3, 1))\n",
      "d ((3,), (-3, -1, -2), (-3, -1, 2), (-3, 1, -2), (-3, 1, 2))\n",
      "d ((3,), (-3, -2, -1), (-3, -2, 1), (-3, 2, -1), (-3, 2, 1))\n",
      "d ((-1, 2), (-1, -2, -3), (-1, -2, 3), (1, 2, -3), (1, 2, 3), (1, -2, -3), (1, -2, 3))\n",
      "d ((-1, -2), (-1, 2, -3), (-1, 2, 3), (1, 2, -3), (1, 2, 3), (1, -2, -3), (1, -2, 3))\n",
      "d ((-1, 2), (-1, -2, -3), (-1, -2, 3), (1, 3, -2), (1, 3, 2), (1, -3, -2), (1, -3, 2))\n",
      "d ((-1, -2), (-1, 2, -3), (-1, 2, 3), (1, 3, -2), (1, 3, 2), (1, -3, -2), (1, -3, 2))\n",
      "d ((1, 2), (-1, -3, -2), (-1, -3, 2), (1, -2, -3), (1, -2, 3), (-1, 3, -2), (-1, 3, 2))\n",
      "d ((1, -2), (-1, -3, -2), (-1, -3, 2), (1, 2, -3), (1, 2, 3), (-1, 3, -2), (-1, 3, 2))\n",
      "d ((-1, 3), (-1, -3, -2), (-1, -3, 2), (1, 2, -3), (1, 2, 3), (1, -2, -3), (1, -2, 3))\n",
      "d ((1, 3), (-1, -3, -2), (-1, -3, 2), (1, -3, -2), (1, -3, 2), (-1, 3, -2), (-1, 3, 2))\n",
      "d ((1, -3), (-1, -3, -2), (-1, -3, 2), (1, 3, -2), (1, 3, 2), (-1, 3, -2), (-1, 3, 2))\n",
      "d ((-1, 3), (-1, -3, -2), (-1, -3, 2), (1, 3, -2), (1, 3, 2), (1, -3, -2), (1, -3, 2))\n",
      "d ((-2, 1), (-2, -1, -3), (-2, -1, 3), (2, 1, -3), (2, 1, 3), (2, -1, -3), (2, -1, 3))\n",
      "d ((-2, -1), (-2, 1, -3), (-2, 1, 3), (2, 1, -3), (2, 1, 3), (2, -1, -3), (2, -1, 3))\n",
      "d ((-2, 1), (-2, -1, -3), (-2, -1, 3), (2, 3, -1), (2, 3, 1), (2, -3, -1), (2, -3, 1))\n",
      "d ((-2, -1), (-2, 1, -3), (-2, 1, 3), (2, 3, -1), (2, 3, 1), (2, -3, -1), (2, -3, 1))\n",
      "d ((2, 1), (-2, -3, -1), (-2, -3, 1), (2, -1, -3), (2, -1, 3), (-2, 3, -1), (-2, 3, 1))\n",
      "d ((2, -1), (-2, -3, -1), (-2, -3, 1), (2, 1, -3), (2, 1, 3), (-2, 3, -1), (-2, 3, 1))\n",
      "d ((-2, 3), (-2, -3, -1), (-2, -3, 1), (2, 1, -3), (2, 1, 3), (2, -1, -3), (2, -1, 3))\n",
      "d ((2, 3), (-2, -3, -1), (-2, -3, 1), (2, -3, -1), (2, -3, 1), (-2, 3, -1), (-2, 3, 1))\n",
      "d ((2, -3), (-2, -3, -1), (-2, -3, 1), (2, 3, -1), (2, 3, 1), (-2, 3, -1), (-2, 3, 1))\n",
      "d ((-2, 3), (-2, -3, -1), (-2, -3, 1), (2, 3, -1), (2, 3, 1), (2, -3, -1), (2, -3, 1))\n",
      "((-1,), (1,))\n",
      "R_c 0.48000000000000004\n",
      "CPU times: user 180 ms, sys: 52 ms, total: 232 ms\n",
      "Wall time: 210 ms\n"
     ]
    }
   ],
   "source": [
    "%%time\n",
    "# algorithm1_2splits, 3 rules, 25 data, lambda = 0.04\n",
    "\n",
    "algorithm1_2splits(x[:,rule_idx[:3]][idx[:25]],y[idx[:25]],lamb=0.04)"
   ]
  },
  {
   "cell_type": "code",
   "execution_count": 15,
   "metadata": {},
   "outputs": [
    {
     "name": "stdout",
     "output_type": "stream",
     "text": [
      "((-1,), (1,))\n",
      "R_c 0.48000000000000004\n",
      "CPU times: user 20 ms, sys: 4 ms, total: 24 ms\n",
      "Wall time: 23.3 ms\n"
     ]
    }
   ],
   "source": [
    "%%time\n",
    "# 3 rules, 25 data, lambda = 0.04\n",
    "\n",
    "algorithm1(x[:,rule_idx[:3]][idx[:25]],y[idx[:25]],lamb=0.04)"
   ]
  },
  {
   "cell_type": "code",
   "execution_count": 14,
   "metadata": {},
   "outputs": [
    {
     "name": "stdout",
     "output_type": "stream",
     "text": [
      "((-1,), (1,))\n",
      "R_c 0.48000000000000004\n",
      "CPU times: user 392 ms, sys: 0 ns, total: 392 ms\n",
      "Wall time: 394 ms\n"
     ]
    }
   ],
   "source": [
    "%%time\n",
    "# 4 rules, 25 data, lambda = 0.04\n",
    "\n",
    "algorithm1(x[:,rule_idx[:4]][idx[:25]],y[idx[:25]],lamb=0.04)"
   ]
  },
  {
   "cell_type": "code",
   "execution_count": 15,
   "metadata": {},
   "outputs": [
    {
     "name": "stdout",
     "output_type": "stream",
     "text": [
      "((-1,), (1,))\n",
      "R_c 0.48000000000000004\n",
      "CPU times: user 4.64 s, sys: 0 ns, total: 4.64 s\n",
      "Wall time: 4.64 s\n"
     ]
    }
   ],
   "source": [
    "%%time\n",
    "# 5 rules, 25 data, lambda = 0.04\n",
    "\n",
    "algorithm1(x[:,rule_idx[:5]][idx[:25]],y[idx[:25]],lamb=0.04)"
   ]
  },
  {
   "cell_type": "code",
   "execution_count": 16,
   "metadata": {},
   "outputs": [
    {
     "name": "stdout",
     "output_type": "stream",
     "text": [
      "((-6,), (6,))\n",
      "R_c 0.36000000000000004\n",
      "CPU times: user 12.4 s, sys: 12 ms, total: 12.4 s\n",
      "Wall time: 12.5 s\n"
     ]
    }
   ],
   "source": [
    "%%time\n",
    "# 6 rules, 25 data, lambda = 0.04\n",
    "\n",
    "algorithm1(x[:,rule_idx[:6]][idx[:25]],y[idx[:25]],lamb=0.04)"
   ]
  },
  {
   "cell_type": "code",
   "execution_count": 17,
   "metadata": {},
   "outputs": [
    {
     "name": "stdout",
     "output_type": "stream",
     "text": [
      "((-6,), (6,))\n",
      "R_c 0.36000000000000004\n",
      "CPU times: user 2min 29s, sys: 36 ms, total: 2min 29s\n",
      "Wall time: 2min 30s\n"
     ]
    }
   ],
   "source": [
    "%%time\n",
    "# 7 rules, 25 data, lambda = 0.04\n",
    "\n",
    "algorithm1(x[:,rule_idx[:7]][idx[:25]],y[idx[:25]],lamb=0.04)"
   ]
  },
  {
   "cell_type": "code",
   "execution_count": 18,
   "metadata": {},
   "outputs": [
    {
     "name": "stdout",
     "output_type": "stream",
     "text": [
      "((-6,), (6,))\n",
      "R_c 0.36000000000000004\n",
      "CPU times: user 22min 48s, sys: 544 ms, total: 22min 48s\n",
      "Wall time: 22min 49s\n"
     ]
    }
   ],
   "source": [
    "%%time\n",
    "# 8 rules, 25 data, lambda = 0.04\n",
    "\n",
    "algorithm1(x[:,rule_idx[:8]][idx[:25]],y[idx[:25]],lamb=0.04)"
   ]
  },
  {
   "cell_type": "code",
   "execution_count": 19,
   "metadata": {},
   "outputs": [
    {
     "ename": "KeyboardInterrupt",
     "evalue": "",
     "output_type": "error",
     "traceback": [
      "\u001b[0;31m\u001b[0m",
      "\u001b[0;31mKeyboardInterrupt\u001b[0mTraceback (most recent call last)",
      "\u001b[0;32m<timed eval>\u001b[0m in \u001b[0;36m<module>\u001b[0;34m()\u001b[0m\n",
      "\u001b[0;32m<ipython-input-10-4f8da4786dc4>\u001b[0m in \u001b[0;36malgorithm1\u001b[0;34m(x, y, lamb)\u001b[0m\n\u001b[1;32m     17\u001b[0m         \u001b[0mtree\u001b[0m \u001b[0;34m=\u001b[0m \u001b[0mqueue\u001b[0m\u001b[0;34m.\u001b[0m\u001b[0mpop\u001b[0m\u001b[0;34m(\u001b[0m\u001b[0;36m0\u001b[0m\u001b[0;34m)\u001b[0m\u001b[0;34m\u001b[0m\u001b[0m\n\u001b[1;32m     18\u001b[0m         \u001b[0md\u001b[0m \u001b[0;34m=\u001b[0m \u001b[0mtree\u001b[0m\u001b[0;34m.\u001b[0m\u001b[0mget_prefix\u001b[0m\u001b[0;34m(\u001b[0m\u001b[0;34m)\u001b[0m\u001b[0;34m\u001b[0m\u001b[0m\n\u001b[0;32m---> 19\u001b[0;31m         \u001b[0;32mif\u001b[0m \u001b[0mE\u001b[0m\u001b[0;34m.\u001b[0m\u001b[0mis_eliminated\u001b[0m\u001b[0;34m(\u001b[0m\u001b[0md\u001b[0m\u001b[0;34m)\u001b[0m\u001b[0;34m:\u001b[0m\u001b[0;34m\u001b[0m\u001b[0m\n\u001b[0m\u001b[1;32m     20\u001b[0m             \u001b[0;32mcontinue\u001b[0m\u001b[0;34m\u001b[0m\u001b[0m\n\u001b[1;32m     21\u001b[0m         \u001b[0;32melse\u001b[0m\u001b[0;34m:\u001b[0m\u001b[0;34m\u001b[0m\u001b[0m\n",
      "\u001b[0;32m<ipython-input-8-6c1d5257ac4a>\u001b[0m in \u001b[0;36mis_eliminated\u001b[0;34m(self, prefix)\u001b[0m\n\u001b[1;32m     21\u001b[0m \u001b[0;34m\u001b[0m\u001b[0m\n\u001b[1;32m     22\u001b[0m         \u001b[0;32mfor\u001b[0m \u001b[0mi\u001b[0m \u001b[0;32min\u001b[0m \u001b[0mrange\u001b[0m\u001b[0;34m(\u001b[0m\u001b[0mlen\u001b[0m\u001b[0;34m(\u001b[0m\u001b[0mself\u001b[0m\u001b[0;34m.\u001b[0m\u001b[0meliminated\u001b[0m\u001b[0;34m)\u001b[0m\u001b[0;34m)\u001b[0m\u001b[0;34m:\u001b[0m\u001b[0;34m\u001b[0m\u001b[0m\n\u001b[0;32m---> 23\u001b[0;31m             \u001b[0;32mif\u001b[0m \u001b[0mall\u001b[0m\u001b[0;34m(\u001b[0m\u001b[0;34m[\u001b[0m\u001b[0mr\u001b[0m \u001b[0;32min\u001b[0m \u001b[0mprefix\u001b[0m \u001b[0;32mfor\u001b[0m \u001b[0mr\u001b[0m \u001b[0;32min\u001b[0m \u001b[0mself\u001b[0m\u001b[0;34m.\u001b[0m\u001b[0meliminated\u001b[0m\u001b[0;34m[\u001b[0m\u001b[0mi\u001b[0m\u001b[0;34m]\u001b[0m\u001b[0;34m]\u001b[0m\u001b[0;34m)\u001b[0m\u001b[0;34m:\u001b[0m\u001b[0;34m\u001b[0m\u001b[0m\n\u001b[0m\u001b[1;32m     24\u001b[0m                 \u001b[0;31m#print(\"Eliminated!\")\u001b[0m\u001b[0;34m\u001b[0m\u001b[0;34m\u001b[0m\u001b[0m\n\u001b[1;32m     25\u001b[0m                 \u001b[0;32mreturn\u001b[0m \u001b[0;32mTrue\u001b[0m\u001b[0;34m\u001b[0m\u001b[0m\n",
      "\u001b[0;31mKeyboardInterrupt\u001b[0m: "
     ]
    }
   ],
   "source": [
    "%%time\n",
    "# 9 rules, 25 data, lambda = 0.04\n",
    "\n",
    "algorithm1(x[:,rule_idx[:9]][idx[:25]],y[idx[:25]],lamb=0.04)"
   ]
  },
  {
   "cell_type": "code",
   "execution_count": 20,
   "metadata": {},
   "outputs": [
    {
     "ename": "KeyboardInterrupt",
     "evalue": "",
     "output_type": "error",
     "traceback": [
      "\u001b[0;31m\u001b[0m",
      "\u001b[0;31mKeyboardInterrupt\u001b[0mTraceback (most recent call last)",
      "\u001b[0;32m<timed eval>\u001b[0m in \u001b[0;36m<module>\u001b[0;34m()\u001b[0m\n",
      "\u001b[0;32m<ipython-input-10-4f8da4786dc4>\u001b[0m in \u001b[0;36malgorithm1\u001b[0;34m(x, y, lamb)\u001b[0m\n\u001b[1;32m     17\u001b[0m         \u001b[0mtree\u001b[0m \u001b[0;34m=\u001b[0m \u001b[0mqueue\u001b[0m\u001b[0;34m.\u001b[0m\u001b[0mpop\u001b[0m\u001b[0;34m(\u001b[0m\u001b[0;36m0\u001b[0m\u001b[0;34m)\u001b[0m\u001b[0;34m\u001b[0m\u001b[0m\n\u001b[1;32m     18\u001b[0m         \u001b[0md\u001b[0m \u001b[0;34m=\u001b[0m \u001b[0mtree\u001b[0m\u001b[0;34m.\u001b[0m\u001b[0mget_prefix\u001b[0m\u001b[0;34m(\u001b[0m\u001b[0;34m)\u001b[0m\u001b[0;34m\u001b[0m\u001b[0m\n\u001b[0;32m---> 19\u001b[0;31m         \u001b[0;32mif\u001b[0m \u001b[0mE\u001b[0m\u001b[0;34m.\u001b[0m\u001b[0mis_eliminated\u001b[0m\u001b[0;34m(\u001b[0m\u001b[0md\u001b[0m\u001b[0;34m)\u001b[0m\u001b[0;34m:\u001b[0m\u001b[0;34m\u001b[0m\u001b[0m\n\u001b[0m\u001b[1;32m     20\u001b[0m             \u001b[0;32mcontinue\u001b[0m\u001b[0;34m\u001b[0m\u001b[0m\n\u001b[1;32m     21\u001b[0m         \u001b[0;32melse\u001b[0m\u001b[0;34m:\u001b[0m\u001b[0;34m\u001b[0m\u001b[0m\n",
      "\u001b[0;32m<ipython-input-8-6c1d5257ac4a>\u001b[0m in \u001b[0;36mis_eliminated\u001b[0;34m(self, prefix)\u001b[0m\n\u001b[1;32m     21\u001b[0m \u001b[0;34m\u001b[0m\u001b[0m\n\u001b[1;32m     22\u001b[0m         \u001b[0;32mfor\u001b[0m \u001b[0mi\u001b[0m \u001b[0;32min\u001b[0m \u001b[0mrange\u001b[0m\u001b[0;34m(\u001b[0m\u001b[0mlen\u001b[0m\u001b[0;34m(\u001b[0m\u001b[0mself\u001b[0m\u001b[0;34m.\u001b[0m\u001b[0meliminated\u001b[0m\u001b[0;34m)\u001b[0m\u001b[0;34m)\u001b[0m\u001b[0;34m:\u001b[0m\u001b[0;34m\u001b[0m\u001b[0m\n\u001b[0;32m---> 23\u001b[0;31m             \u001b[0;32mif\u001b[0m \u001b[0mall\u001b[0m\u001b[0;34m(\u001b[0m\u001b[0;34m[\u001b[0m\u001b[0mr\u001b[0m \u001b[0;32min\u001b[0m \u001b[0mprefix\u001b[0m \u001b[0;32mfor\u001b[0m \u001b[0mr\u001b[0m \u001b[0;32min\u001b[0m \u001b[0mself\u001b[0m\u001b[0;34m.\u001b[0m\u001b[0meliminated\u001b[0m\u001b[0;34m[\u001b[0m\u001b[0mi\u001b[0m\u001b[0;34m]\u001b[0m\u001b[0;34m]\u001b[0m\u001b[0;34m)\u001b[0m\u001b[0;34m:\u001b[0m\u001b[0;34m\u001b[0m\u001b[0m\n\u001b[0m\u001b[1;32m     24\u001b[0m                 \u001b[0;31m#print(\"Eliminated!\")\u001b[0m\u001b[0;34m\u001b[0m\u001b[0;34m\u001b[0m\u001b[0m\n\u001b[1;32m     25\u001b[0m                 \u001b[0;32mreturn\u001b[0m \u001b[0;32mTrue\u001b[0m\u001b[0;34m\u001b[0m\u001b[0m\n",
      "\u001b[0;31mKeyboardInterrupt\u001b[0m: "
     ]
    }
   ],
   "source": [
    "%%time\n",
    "# all 13 rules, 25 data, lambda = 0.04\n",
    "\n",
    "algorithm1(x[idx[:25]],y[idx[:25]],lamb=0.04)"
   ]
  },
  {
   "cell_type": "code",
   "execution_count": 21,
   "metadata": {},
   "outputs": [
    {
     "name": "stdout",
     "output_type": "stream",
     "text": [
      "((-6,), (6,))\n",
      "R_c 0.34\n",
      "CPU times: user 15.2 s, sys: 4 ms, total: 15.2 s\n",
      "Wall time: 15.2 s\n"
     ]
    }
   ],
   "source": [
    "%%time\n",
    "# 6 rules, 25 data, lambda = 0.03\n",
    "\n",
    "algorithm1(x[:,rule_idx[:6]][idx[:25]],y[idx[:25]],lamb=0.03)"
   ]
  },
  {
   "cell_type": "code",
   "execution_count": 22,
   "metadata": {},
   "outputs": [
    {
     "name": "stdout",
     "output_type": "stream",
     "text": [
      "((-5, -6), (-5, 6), (5, 1), (5, -1, -2), (5, -1, 2))\n",
      "R_c 0.29999999999999993\n",
      "CPU times: user 27 s, sys: 0 ns, total: 27 s\n",
      "Wall time: 27 s\n"
     ]
    }
   ],
   "source": [
    "%%time\n",
    "# 6 rules, 25 data, lambda = 0.02\n",
    "\n",
    "algorithm1(x[:,rule_idx[:6]][idx[:25]],y[idx[:25]],lamb=0.02)"
   ]
  },
  {
   "cell_type": "code",
   "execution_count": 23,
   "metadata": {},
   "outputs": [
    {
     "name": "stdout",
     "output_type": "stream",
     "text": [
      "((-5, -6), (-5, 6), (5, 1), (5, -1, -2), (5, -1, 2))\n",
      "R_c 0.24999999999999994\n",
      "CPU times: user 31.4 s, sys: 20 ms, total: 31.4 s\n",
      "Wall time: 31.4 s\n"
     ]
    }
   ],
   "source": [
    "%%time\n",
    "# 6 rules, 25 data, lambda = 0.01\n",
    "\n",
    "algorithm1(x[:,rule_idx[:6]][idx[:25]],y[idx[:25]],lamb=0.01)"
   ]
  },
  {
   "cell_type": "code",
   "execution_count": 16,
   "metadata": {},
   "outputs": [],
   "source": [
    "def algorithm1_nobound(x, y, lamb):\n",
    "    \"\"\"\n",
    "    A brute forece implementation of Algorithm1 without the bound of Theorem1\n",
    "    \"\"\"\n",
    "    \n",
    "    d_c = None\n",
    "    R_c = 1\n",
    "\n",
    "    nrule = x.shape[1]\n",
    "\n",
    "    # initialize the queue to include all trees of just one split\n",
    "    queue = [CacheTree(prefix = ((-r,),(r,)), x = x, y = y) for r in range(1, nrule+1)]\n",
    "\n",
    "    E = Eliminate()\n",
    "\n",
    "    while (queue):\n",
    "        tree = queue.pop(0)\n",
    "        d = tree.get_prefix()\n",
    "        if E.is_eliminated(d):\n",
    "            continue\n",
    "        else:\n",
    "            E.eliminate(d)\n",
    "        R = Risk(tree,x,y,lamb)\n",
    "        if R<R_c:\n",
    "            d_c = d\n",
    "            R_c = R\n",
    "\n",
    "        #print(\"d\",d)\n",
    "        #print(\"R\",R)\n",
    "        #print(\"R_c\",R_c)\n",
    "        #print(tree.get_pred())\n",
    "\n",
    "        for i in range(len(d)):\n",
    "            d0 = d[i]\n",
    "            dp = d[:i]+d[i+1:]\n",
    "            #print(\"bound\", bound(tree,x,y,i))\n",
    "            #print(\"R_c\", R_c)\n",
    "            #if bound(tree,x,y,i,lamb)<R_c:\n",
    "            for j in range(1, nrule+1):\n",
    "                if (j not in d0)and(-j not in d0):\n",
    "                    l1 = d0+(-j,)\n",
    "                    l2 = d0+(j,)\n",
    "                    t = dp+(l1, l2)\n",
    "                    #print(\"t\",t)\n",
    "                    if (not E.is_eliminated(t)):\n",
    "                        pred_l, cap_l, corr_l = calcul((l1,l2),x,y)\n",
    "                        queue.append(\n",
    "                            CacheTree(prefix = t,\n",
    "                                      prediction = tree.get_pred()[:i]+tree.get_pred()[i+1:]+pred_l,\n",
    "                                      num_captured = tree.get_cap()[:i]+tree.get_cap()[i+1:]+cap_l,\n",
    "                                      num_captured_correct = tree.get_ncc()[:i]+tree.get_ncc()[i+1:]+corr_l)\n",
    "                        )\n",
    "            #else:\n",
    "                #E.eliminate_children(dp)\n",
    "                #print(\"Children Elim\")\n",
    "\n",
    "    print(d_c)\n",
    "    print(\"R_c\", R_c)"
   ]
  },
  {
   "cell_type": "code",
   "execution_count": 33,
   "metadata": {},
   "outputs": [
    {
     "name": "stdout",
     "output_type": "stream",
     "text": [
      "((-1,), (1,))\n",
      "R_c 0.48000000000000004\n",
      "CPU times: user 212 ms, sys: 0 ns, total: 212 ms\n",
      "Wall time: 212 ms\n"
     ]
    }
   ],
   "source": [
    "%%time\n",
    "# algorithm1 without the bound, 3 rules, 25 data, lambda = 0.04\n",
    "\n",
    "algorithm1_nobound(x[:,rule_idx[:3]][idx[:25]],y[idx[:25]],lamb=0.04)"
   ]
  },
  {
   "cell_type": "code",
   "execution_count": 29,
   "metadata": {},
   "outputs": [
    {
     "ename": "KeyboardInterrupt",
     "evalue": "",
     "output_type": "error",
     "traceback": [
      "\u001b[0;31m\u001b[0m",
      "\u001b[0;31mKeyboardInterrupt\u001b[0mTraceback (most recent call last)",
      "\u001b[0;32m<timed eval>\u001b[0m in \u001b[0;36m<module>\u001b[0;34m()\u001b[0m\n",
      "\u001b[0;32m<ipython-input-16-cb02204f2cd8>\u001b[0m in \u001b[0;36malgorithm1_nobound\u001b[0;34m(x, y, lamb)\u001b[0m\n\u001b[1;32m     37\u001b[0m             \u001b[0;31m#print(\"R_c\", R_c)\u001b[0m\u001b[0;34m\u001b[0m\u001b[0;34m\u001b[0m\u001b[0m\n\u001b[1;32m     38\u001b[0m             \u001b[0;31m#if bound(tree,x,y,i,lamb)<R_c:\u001b[0m\u001b[0;34m\u001b[0m\u001b[0;34m\u001b[0m\u001b[0m\n\u001b[0;32m---> 39\u001b[0;31m             \u001b[0;32mfor\u001b[0m \u001b[0mj\u001b[0m \u001b[0;32min\u001b[0m \u001b[0mrange\u001b[0m\u001b[0;34m(\u001b[0m\u001b[0;36m1\u001b[0m\u001b[0;34m,\u001b[0m \u001b[0mnrule\u001b[0m\u001b[0;34m+\u001b[0m\u001b[0;36m1\u001b[0m\u001b[0;34m)\u001b[0m\u001b[0;34m:\u001b[0m\u001b[0;34m\u001b[0m\u001b[0m\n\u001b[0m\u001b[1;32m     40\u001b[0m                 \u001b[0;32mif\u001b[0m \u001b[0;34m(\u001b[0m\u001b[0mj\u001b[0m \u001b[0;32mnot\u001b[0m \u001b[0;32min\u001b[0m \u001b[0md0\u001b[0m\u001b[0;34m)\u001b[0m\u001b[0;32mand\u001b[0m\u001b[0;34m(\u001b[0m\u001b[0;34m-\u001b[0m\u001b[0mj\u001b[0m \u001b[0;32mnot\u001b[0m \u001b[0;32min\u001b[0m \u001b[0md0\u001b[0m\u001b[0;34m)\u001b[0m\u001b[0;34m:\u001b[0m\u001b[0;34m\u001b[0m\u001b[0m\n\u001b[1;32m     41\u001b[0m                     \u001b[0ml1\u001b[0m \u001b[0;34m=\u001b[0m \u001b[0md0\u001b[0m\u001b[0;34m+\u001b[0m\u001b[0;34m(\u001b[0m\u001b[0;34m-\u001b[0m\u001b[0mj\u001b[0m\u001b[0;34m,\u001b[0m\u001b[0;34m)\u001b[0m\u001b[0;34m\u001b[0m\u001b[0m\n",
      "\u001b[0;31mKeyboardInterrupt\u001b[0m: "
     ]
    }
   ],
   "source": [
    "%%time\n",
    "# algorithm1 without the bound, 4 rules, 25 data, lambda = 0.04\n",
    "\n",
    "algorithm1_nobound(x[:,rule_idx[:4]][idx[:25]],y[idx[:25]],lamb=0.04)"
   ]
  }
 ],
 "metadata": {
  "kernelspec": {
   "display_name": "Python 3",
   "language": "python",
   "name": "python3"
  },
  "language_info": {
   "codemirror_mode": {
    "name": "ipython",
    "version": 3
   },
   "file_extension": ".py",
   "mimetype": "text/x-python",
   "name": "python",
   "nbconvert_exporter": "python",
   "pygments_lexer": "ipython3",
   "version": "3.6.5"
  }
 },
 "nbformat": 4,
 "nbformat_minor": 2
}
