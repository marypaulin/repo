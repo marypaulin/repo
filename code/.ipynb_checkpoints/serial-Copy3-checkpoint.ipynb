{
 "cells": [
  {
   "cell_type": "code",
   "execution_count": 105,
   "metadata": {},
   "outputs": [],
   "source": [
    "#A brute force implementation of Algorithm1"
   ]
  },
  {
   "cell_type": "code",
   "execution_count": 106,
   "metadata": {},
   "outputs": [],
   "source": [
    "import pandas as pd\n",
    "import numpy as np\n",
    "from random import sample,seed\n",
    "import time\n",
    "import itertools"
   ]
  },
  {
   "cell_type": "code",
   "execution_count": 107,
   "metadata": {},
   "outputs": [],
   "source": [
    "LAMB = 0.04"
   ]
  },
  {
   "cell_type": "code",
   "execution_count": 108,
   "metadata": {},
   "outputs": [],
   "source": [
    "df = pd.DataFrame(pd.read_csv('../data/compas-binary.csv'))\n",
    "df\n",
    "\n",
    "seed(10)\n",
    "\n",
    "idx = sample(range(df.shape[0]),df.shape[0])"
   ]
  },
  {
   "cell_type": "code",
   "execution_count": 109,
   "metadata": {},
   "outputs": [],
   "source": [
    "x = df.as_matrix()[:,:13]\n",
    "\n",
    "y = df.as_matrix()[:,13]"
   ]
  },
  {
   "cell_type": "code",
   "execution_count": 110,
   "metadata": {},
   "outputs": [
    {
     "data": {
      "text/plain": [
       "[0.07050818010713769,\n",
       " 0.05993919212393224,\n",
       " 0.049804546112639354,\n",
       " 0.06906037353409585,\n",
       " 0.2265817286810482,\n",
       " 0.057333140292456924,\n",
       " 0.4327493846822065,\n",
       " 0.420587809468655,\n",
       " 0.36557115969306503,\n",
       " 0.09497611119154481,\n",
       " 0.08817142029824815,\n",
       " 0.07137686405096279,\n",
       " 0.20819458520341683]"
      ]
     },
     "execution_count": 110,
     "metadata": {},
     "output_type": "execute_result"
    }
   ],
   "source": [
    "#support\n",
    "supp = [(x[:,i]*y).mean() for i in range(13)]\n",
    "supp"
   ]
  },
  {
   "cell_type": "code",
   "execution_count": 111,
   "metadata": {},
   "outputs": [
    {
     "data": {
      "text/plain": [
       "[0.3667168674698795,\n",
       " 0.592274678111588,\n",
       " 0.5300462249614792,\n",
       " 0.5184782608695652,\n",
       " 0.45773618016964024,\n",
       " 0.32459016393442625,\n",
       " 0.45069360675512665,\n",
       " 0.44644229291532195,\n",
       " 0.4233735747820255,\n",
       " 0.4932330827067669,\n",
       " 0.28986197049024276,\n",
       " 0.37864823348694315,\n",
       " 0.6614535418583257]"
      ]
     },
     "execution_count": 111,
     "metadata": {},
     "output_type": "execute_result"
    }
   ],
   "source": [
    "#confidence\n",
    "conf1 = [sum(x[:,i]*y)/sum(x[:,i]) for i in range(13)]\n",
    "conf1"
   ]
  },
  {
   "cell_type": "code",
   "execution_count": 112,
   "metadata": {},
   "outputs": [
    {
     "data": {
      "text/plain": [
       "[0.48557089084065247,\n",
       " 0.4481314432989691,\n",
       " 0.45573665707893896,\n",
       " 0.45415065976281943,\n",
       " 0.4676032110091743,\n",
       " 0.4923509759099701,\n",
       " 0.7527272727272727,\n",
       " 0.7275,\n",
       " 0.711558854718982,\n",
       " 0.45544199390353235,\n",
       " 0.5382854764877236,\n",
       " 0.4822479928635147,\n",
       " 0.37143460807099093]"
      ]
     },
     "execution_count": 112,
     "metadata": {},
     "output_type": "execute_result"
    }
   ],
   "source": [
    "#confidence\n",
    "conf2 = [sum((x[:,i]==0)*y)/sum((x[:,i]==0)) for i in range(13)]\n",
    "conf2"
   ]
  },
  {
   "cell_type": "code",
   "execution_count": null,
   "metadata": {},
   "outputs": [],
   "source": []
  },
  {
   "cell_type": "code",
   "execution_count": 113,
   "metadata": {},
   "outputs": [
    {
     "data": {
      "text/plain": [
       "[True,\n",
       " True,\n",
       " True,\n",
       " True,\n",
       " False,\n",
       " False,\n",
       " False,\n",
       " False,\n",
       " False,\n",
       " False,\n",
       " False,\n",
       " False,\n",
       " True]"
      ]
     },
     "execution_count": 113,
     "metadata": {},
     "output_type": "execute_result"
    }
   ],
   "source": [
    "#x_idx = [conf1[i]>0.5 or conf2[i]>0.5 for i in range(len(conf1))]\n",
    "x_idx = [conf1[i]>0.5 for i in range(len(conf1))]\n",
    "x_idx[0] = True\n",
    "x_idx"
   ]
  },
  {
   "cell_type": "code",
   "execution_count": 114,
   "metadata": {},
   "outputs": [],
   "source": [
    "x = x[:,x_idx]"
   ]
  },
  {
   "cell_type": "code",
   "execution_count": 115,
   "metadata": {},
   "outputs": [],
   "source": [
    "# calculate the bound with dp=all leaves except leaf l\n",
    "def bound(tree, x, y, l, lamb = LAMB):\n",
    "    return (sum(tree.get_ncc()[:l]+tree.get_ncc()[l+1:]))/len(y) + lamb*len(tree.get_prefix())\n",
    "\n",
    "# calculate the risk\n",
    "#def Risk(tree, x, y, lamb = LAMB):\n",
    "#    return 1-sum(tree.get_ncc())/len(y) + + lamb*tree.get_depth()"
   ]
  },
  {
   "cell_type": "code",
   "execution_count": 116,
   "metadata": {},
   "outputs": [],
   "source": [
    "def calcul(prefix, x, y):\n",
    "    \"\"\"\n",
    "    Function for calculating the predictions, number of data captured,\n",
    "    and number of data correctly captured by the leaves.\n",
    "    \"\"\"\n",
    "    prediction = []\n",
    "    num_captured = []\n",
    "    num_captured_incorrect = []\n",
    "    for i in range(len(prefix)):\n",
    "        tag = np.array([True]*len(y))\n",
    "        for j in range(len(prefix[i])):\n",
    "            rule_index = abs(prefix[i][j])-1\n",
    "            rule_label = int(prefix[i][j]>0)\n",
    "            #print(\"prefix:\",prefix)\n",
    "            #print(\"rule_index:\",rule_index)\n",
    "            #print(\"x:\",x)\n",
    "            tag = (x[:,rule_index] == rule_label)*tag\n",
    "            \n",
    "        # the y's of these data captured by leaf i\n",
    "        y_leaf = y[tag]\n",
    "        \n",
    "        num_cap = len(y_leaf)\n",
    "        num_captured.append(num_cap)\n",
    "        \n",
    "        if len(y_leaf)>0:\n",
    "            pred = int(y_leaf.sum()/len(y_leaf) > 0.5)\n",
    "            prediction.append(pred)\n",
    "            num_cap_incor = sum(y_leaf != pred)\n",
    "            num_captured_incorrect.append(num_cap_incor)\n",
    "        else:\n",
    "            prediction.append(0)\n",
    "            num_captured_incorrect.append(0)\n",
    "        \n",
    "    return prediction, num_captured, num_captured_incorrect"
   ]
  },
  {
   "cell_type": "code",
   "execution_count": 146,
   "metadata": {},
   "outputs": [],
   "source": [
    "class CacheTree:\n",
    "    \"\"\"\n",
    "    A tree data structure.\n",
    "    prefix: a 2-d tuple to record the prefixes of leaves\n",
    "    prediction: a list to record the predictions of leaves\n",
    "    num_captured: a list to record number of data captured by the leaves\n",
    "    num_captured_correct: a list to record number of data correctly captured by the leaves\n",
    "    \"\"\"\n",
    "    def __init__(self, x, y, prefix, \n",
    "                 prediction=None,\n",
    "                 num_captured=None,\n",
    "                 num_captured_incorrect=None,\n",
    "                 deadleaf = None,\n",
    "                 splitleaf = None,\n",
    "                 lbound=None,lamb=LAMB,tag = False):\n",
    "        self.prefix = prefix\n",
    "        self.prediction = prediction\n",
    "        self.num_captured = num_captured\n",
    "        self.num_captured_incorrect = num_captured_incorrect\n",
    "        #self.split = split #which leaf to split\n",
    "        self.deadleaf = deadleaf #a list indicate which leaves will never be split (support bound)\n",
    "        self.splitleaf = splitleaf #a list indicate which leaves will be split\n",
    "        self.lbound = lbound #a list of lower bound\n",
    "        #self.tag = tag\n",
    "        #self.depth = max([len(l) for l in self.prefix])\n",
    "        \n",
    "        if prediction==None:\n",
    "            l = len(prefix)\n",
    "            self.prediction, self.num_captured, self.num_captured_incorrect = calcul(self.prefix, x, y)\n",
    "            self.deadleaf = [0]*l\n",
    "            #self.splitleaf = [[0]*l]\n",
    "            self.lbound = [sum(self.num_captured_incorrect[:i]+self.num_captured_incorrect[i+1:])/len(y) + lamb*l \n",
    "                           for i in range(l)]\n",
    "            \n",
    "    def get_prefix(self):\n",
    "        return self.prefix\n",
    "    \n",
    "    def get_pred(self):\n",
    "        return self.prediction\n",
    "    \n",
    "    def get_cap(self):\n",
    "        return self.num_captured\n",
    "    \n",
    "    def get_ncc(self):\n",
    "        return self.num_captured_incorrect\n",
    "    \n",
    "    def get_deadleaf(self):\n",
    "        return self.deadleaf\n",
    "    \n",
    "    def get_splitleaf(self):\n",
    "        return self.splitleaf\n",
    "    \n",
    "    def set_deadleaf(self,i):\n",
    "        self.deadleaf[i] = 1\n",
    "        return\n",
    "    \n",
    "    def set_not_splitleaf(self,i):\n",
    "        self.splitleaf[i] = 0\n",
    "        return\n",
    "        \n",
    "    def get_lbound(self):\n",
    "        return self.lbound\n",
    "    \n",
    "    #def get_tag(self):\n",
    "    #    return self.tag\n",
    "    \n",
    "    #def get_depth(self):\n",
    "    #    return self.depth"
   ]
  },
  {
   "cell_type": "code",
   "execution_count": 118,
   "metadata": {},
   "outputs": [
    {
     "data": {
      "text/plain": [
       "[[1, 1]]"
      ]
     },
     "execution_count": 118,
     "metadata": {},
     "output_type": "execute_result"
    }
   ],
   "source": [
    "[[1]*2]"
   ]
  },
  {
   "cell_type": "code",
   "execution_count": 119,
   "metadata": {},
   "outputs": [],
   "source": [
    "from gmpy2 import mpz\n",
    "from gmpy2 import mpfr\n",
    "import gmpy2"
   ]
  },
  {
   "cell_type": "code",
   "execution_count": 120,
   "metadata": {},
   "outputs": [],
   "source": [
    "gmpy2.get_context().precision=100"
   ]
  },
  {
   "cell_type": "code",
   "execution_count": 121,
   "metadata": {},
   "outputs": [],
   "source": [
    "aaa=mpfr('2')\n",
    "bbb=mpfr('0.3')"
   ]
  },
  {
   "cell_type": "code",
   "execution_count": 151,
   "metadata": {},
   "outputs": [],
   "source": [
    "class Eliminate:\n",
    "    \"\"\"\n",
    "    A data structure to record and identify\n",
    "    whether a tree has been visited/pruned\n",
    "    \"\"\"\n",
    "    def __init__(self, elim_dict = None, \n",
    "                 eliminated = None):\n",
    "        self.elim_dict = {}\n",
    "        self.eliminated = []\n",
    "        \n",
    "    def eliminate(self, tree):\n",
    "        prefix = tree.get_prefix()\n",
    "        i = tree.get_splitleaf()[0].index(1)\n",
    "        self.elim_dict[tuple(sorted(prefix+(prefix[i],)))] = 1\n",
    "    \n",
    "    def eliminate_children(self, dp):\n",
    "        self.eliminated.append(dp)\n",
    "        \n",
    "    #def is_duplicated(self, tree):\n",
    "        \n",
    "        \n",
    "        #return False\n",
    "        \n",
    "    def is_eliminated(self, tree):\n",
    "        prefix = tree.get_prefix()\n",
    "        i = tree.get_splitleaf()[0].index(1)\n",
    "        key = tuple(sorted(prefix+(prefix[i],)))\n",
    "        if key in self.elim_dict.keys():\n",
    "            print(\"001 Eliminated!\")\n",
    "            print(tuple(sorted(prefix)))\n",
    "            return True\n",
    "        \n",
    "        for i in range(len(self.eliminated)):\n",
    "            if all([r in prefix for r in self.eliminated[i]]):\n",
    "                idx = [prefix.index(r) for r in self.eliminated[i]]\n",
    "                splitleaf_list = tree.get_splitleaf()\n",
    "                splitleaf_array = np.array(splitleaf_list)\n",
    "                if len(splitleaf_list)<=0 or splitleaf_array[:,idx].sum()<=0:\n",
    "                    print(\"002 Eliminated!\")\n",
    "                    #print(\"prefix::\", tree.get_prefix())\n",
    "                    #print(splitleaf_list)\n",
    "                    return True\n",
    "        \n",
    "        return False\n",
    "    \n",
    "    def get_elim_dict(self):\n",
    "        return self.elim_dict"
   ]
  },
  {
   "cell_type": "code",
   "execution_count": 123,
   "metadata": {},
   "outputs": [
    {
     "ename": "TypeError",
     "evalue": "ord() expected string of length 1, but tuple found",
     "output_type": "error",
     "traceback": [
      "\u001b[0;31m\u001b[0m",
      "\u001b[0;31mTypeError\u001b[0mTraceback (most recent call last)",
      "\u001b[0;32m<ipython-input-123-8377aa8ce0d8>\u001b[0m in \u001b[0;36m<module>\u001b[0;34m()\u001b[0m\n\u001b[0;32m----> 1\u001b[0;31m \u001b[0mord\u001b[0m\u001b[0;34m(\u001b[0m\u001b[0;34m(\u001b[0m\u001b[0;34m(\u001b[0m\u001b[0;36m4\u001b[0m\u001b[0;34m,\u001b[0m \u001b[0;34m-\u001b[0m\u001b[0;36m2\u001b[0m\u001b[0;34m)\u001b[0m\u001b[0;34m,\u001b[0m \u001b[0;34m(\u001b[0m\u001b[0;36m4\u001b[0m\u001b[0;34m,\u001b[0m \u001b[0;36m2\u001b[0m\u001b[0;34m)\u001b[0m\u001b[0;34m,\u001b[0m \u001b[0;34m(\u001b[0m\u001b[0;34m-\u001b[0m\u001b[0;36m4\u001b[0m\u001b[0;34m,\u001b[0m \u001b[0;34m-\u001b[0m\u001b[0;36m1\u001b[0m\u001b[0;34m)\u001b[0m\u001b[0;34m,\u001b[0m \u001b[0;34m(\u001b[0m\u001b[0;34m-\u001b[0m\u001b[0;36m4\u001b[0m\u001b[0;34m,\u001b[0m \u001b[0;36m1\u001b[0m\u001b[0;34m)\u001b[0m\u001b[0;34m)\u001b[0m\u001b[0;34m)\u001b[0m\u001b[0;34m\u001b[0m\u001b[0m\n\u001b[0m",
      "\u001b[0;31mTypeError\u001b[0m: ord() expected string of length 1, but tuple found"
     ]
    }
   ],
   "source": [
    "ord(((4, -2), (4, 2), (-4, -1), (-4, 1)))"
   ]
  },
  {
   "cell_type": "code",
   "execution_count": null,
   "metadata": {},
   "outputs": [],
   "source": [
    "aaaa = {1:0}\n",
    "aaaa[1]"
   ]
  },
  {
   "cell_type": "code",
   "execution_count": 124,
   "metadata": {},
   "outputs": [],
   "source": [
    "import numpy as np"
   ]
  },
  {
   "cell_type": "code",
   "execution_count": 125,
   "metadata": {},
   "outputs": [],
   "source": [
    "aaaaa = np.array(aaaa)"
   ]
  },
  {
   "cell_type": "code",
   "execution_count": 126,
   "metadata": {},
   "outputs": [
    {
     "ename": "IndexError",
     "evalue": "too many indices for array",
     "output_type": "error",
     "traceback": [
      "\u001b[0;31m\u001b[0m",
      "\u001b[0;31mIndexError\u001b[0mTraceback (most recent call last)",
      "\u001b[0;32m<ipython-input-126-160e0d056287>\u001b[0m in \u001b[0;36m<module>\u001b[0;34m()\u001b[0m\n\u001b[0;32m----> 1\u001b[0;31m \u001b[0maaaaa\u001b[0m\u001b[0;34m[\u001b[0m\u001b[0;34m:\u001b[0m\u001b[0;34m,\u001b[0m\u001b[0;36m0\u001b[0m\u001b[0;34m:\u001b[0m\u001b[0;36m1\u001b[0m\u001b[0;34m]\u001b[0m\u001b[0;34m.\u001b[0m\u001b[0msum\u001b[0m\u001b[0;34m(\u001b[0m\u001b[0;34m)\u001b[0m\u001b[0;34m\u001b[0m\u001b[0m\n\u001b[0m",
      "\u001b[0;31mIndexError\u001b[0m: too many indices for array"
     ]
    }
   ],
   "source": [
    "aaaaa[:,0:1].sum()"
   ]
  },
  {
   "cell_type": "code",
   "execution_count": 127,
   "metadata": {},
   "outputs": [],
   "source": [
    "bbb = [0,0,0,1,0]"
   ]
  },
  {
   "cell_type": "code",
   "execution_count": 128,
   "metadata": {},
   "outputs": [],
   "source": [
    "aaa = [[0,1,0],[1,1,0]]"
   ]
  },
  {
   "cell_type": "code",
   "execution_count": null,
   "metadata": {},
   "outputs": [],
   "source": []
  },
  {
   "cell_type": "code",
   "execution_count": 129,
   "metadata": {},
   "outputs": [
    {
     "data": {
      "text/plain": [
       "[3]"
      ]
     },
     "execution_count": 129,
     "metadata": {},
     "output_type": "execute_result"
    }
   ],
   "source": [
    "[ i for i, x in enumerate(bbb) if x == 1 ]"
   ]
  },
  {
   "cell_type": "code",
   "execution_count": 153,
   "metadata": {},
   "outputs": [],
   "source": [
    "def push_copies(n_split, x, y, t, new_prediction, new_num_captured, new_num_captured_incorrect, new_deadleaf, sl,\n",
    "               new_lbound, E, queue, split_2, nt):\n",
    "    if n_split==0:\n",
    "        tree_new = CacheTree(x = x, y = y, prefix = t,\n",
    "                     prediction = new_prediction,\n",
    "                     num_captured = new_num_captured,\n",
    "                     num_captured_incorrect = new_num_captured_incorrect,\n",
    "                     deadleaf = new_deadleaf,\n",
    "                     splitleaf = sl,\n",
    "                     lbound = new_lbound)\n",
    "        if (not E.is_eliminated(tree_new)):\n",
    "            #pred_l, cap_l, corr_l = calcul((l1,l2),x,y)\n",
    "            queue.append(tree_new)\n",
    "            #print(\"push::\", t)\n",
    "            #print(\"111\",tree_new.get_splitleaf())\n",
    "    else:\n",
    "        row_idx = [ i for i, x in enumerate(split_2) if x == True ]\n",
    "        lst = list(itertools.product([0, 1], repeat=n_split))\n",
    "        for i_lst in range(len(lst)):\n",
    "            sl_new = sl.copy()\n",
    "            for i_r in range(len(row_idx)):\n",
    "                print(\"i_lst\",i_lst)\n",
    "                print(\"i_r\",i_r)\n",
    "                print(\"lst\",lst)\n",
    "                sl_new[row_idx[i_r]] = [0]*nt\n",
    "                sl_new[row_idx[i_r]][-lst[i_lst][i_r]-1] = 1\n",
    "            tree_new = CacheTree(x = x, y = y, prefix = t,\n",
    "                         prediction = new_prediction,\n",
    "                         num_captured = new_num_captured,\n",
    "                         num_captured_incorrect = new_num_captured_incorrect,\n",
    "                         deadleaf = new_deadleaf,\n",
    "                         splitleaf = sl_new,\n",
    "                         lbound = new_lbound)\n",
    "            if (not E.is_eliminated(tree_new)):\n",
    "                #pred_l, cap_l, corr_l = calcul((l1,l2),x,y)\n",
    "                queue.append(tree_new)\n",
    "                #print(\"push::\", t)\n",
    "                #print(\"111\",tree_new.get_splitleaf())"
   ]
  },
  {
   "cell_type": "code",
   "execution_count": 154,
   "metadata": {},
   "outputs": [],
   "source": [
    "def algorithm1_multi(x, y, lamb = LAMB):\n",
    "    \"\"\"\n",
    "    A brute forece implementation of Algorithm1\n",
    "    ## multiple copies of tree\n",
    "    ## mark which leaf to split\n",
    "    \"\"\"\n",
    "    \n",
    "    d_c = None\n",
    "    R_c = 1\n",
    "\n",
    "    nrule = x.shape[1]\n",
    "    ndata = len(y)\n",
    "    print(\"nrule:\", nrule)\n",
    "    print(\"ndata:\", ndata)\n",
    "\n",
    "    # initialize the queue to include all trees of just one split\n",
    "    queue = [CacheTree(prefix = ((-r,),(r,)), x = x, y = y,splitleaf = [[1,0]]) for r in range(1, nrule+1)]\n",
    "    queue = queue+[CacheTree(prefix = ((-r,),(r,)), x = x, y = y,splitleaf = [[0,1]]) for r in range(1, nrule+1)]\n",
    "\n",
    "    E = Eliminate()\n",
    "\n",
    "    while (queue):\n",
    "        tree = queue.pop(0)\n",
    "        d = tree.get_prefix()\n",
    "        #print(\"E:::\",E.get_elim_dict())\n",
    "        print(\"d\",d)\n",
    "        print(tree.get_splitleaf())\n",
    "        \n",
    "        if E.is_eliminated(tree):\n",
    "            continue\n",
    "        else:\n",
    "            E.eliminate(tree)\n",
    "            \n",
    "        i = tree.get_splitleaf()[0].index(1)\n",
    "        \n",
    "        print(\"i\",i)\n",
    "        print(\"tree.get_lbound()[i]\",tree.get_lbound()[i])\n",
    "        print(\"tree.get_ncc()\",tree.get_ncc())\n",
    "        R = tree.get_lbound()[i]+(tree.get_ncc()[i])/ndata#Risk(tree,x,y,lamb)\n",
    "        if R<R_c:\n",
    "            d_c = d\n",
    "            R_c = R\n",
    "\n",
    "        \n",
    "        #print(\"d split:\", tree.get_splitleaf())\n",
    "        #print(\"R\",R)\n",
    "        #print(\"R_c\",R_c)\n",
    "        #print(tree.get_ncc())\n",
    "        #print(tree.get_cap())\n",
    "        #print(tree.get_lbound())\n",
    "        \n",
    "        \n",
    "        if tree.get_deadleaf()[i]==1:\n",
    "                continue\n",
    "\n",
    "        #(Lower bound on antecedent support)\n",
    "        if tree.get_cap()[i]/ndata/2 < lamb:\n",
    "            tree.set_deadleaf(i)\n",
    "            #print(\"==============dead==============\",i)\n",
    "            continue\n",
    "\n",
    "        spl = tree.get_splitleaf()\n",
    "        split_next = spl[1:]\n",
    "\n",
    "        #if spl[0][i]==0:\n",
    "        #    continue\n",
    "\n",
    "        #print(\"splitleaf():\",spl)\n",
    "        #if len(split_next)>0:\n",
    "        #    print(\"split_next[k][:i]\",split_next[0][:i])\n",
    "        #    print(\"split_next[k][i]\",split_next[0][i])\n",
    "        #    print(\"split_next[k][i+1:]\",split_next[0][i+1:])\n",
    "        splitleaf_list = [split_next[k][:i]+split_next[k][i+1:]+split_next[k][i:i+1]*2\n",
    "                          for k in range(len(split_next))]\n",
    "        \n",
    "        split_2 = [sum(sl)==2 for sl in splitleaf_list]\n",
    "        n_split = sum(split_2)\n",
    "        \n",
    "\n",
    "        d0 = d[i]\n",
    "        dp = d[:i]+d[i+1:]\n",
    "        #print(\"bound\", bound(tree,x,y,i))\n",
    "        #print(\"R_c\", R_c)\n",
    "\n",
    "\n",
    "        # Restrict the depth of the tree\n",
    "        MAXDEPTH = 4\n",
    "        if len(d0)>=MAXDEPTH:\n",
    "            continue\n",
    "\n",
    "\n",
    "        for j in range(1, nrule+1):\n",
    "            if (j not in d0)and(-j not in d0):\n",
    "                l1 = d0+(-j,)\n",
    "                l2 = d0+(j,)\n",
    "                t = dp+(l1, l2)\n",
    "                #print(\"t\",t)\n",
    "                nt = len(t)\n",
    "\n",
    "                pred_l, cap_l, incorr_l = calcul((l1,l2),x,y)\n",
    "                loss_l1 = (incorr_l[0])/ndata\n",
    "                loss_l2 = (incorr_l[1])/ndata\n",
    "                loss_d0 = tree.get_ncc()[i]/ndata\n",
    "                delta = loss_l1+loss_l2-loss_d0+lamb\n",
    "                old_lbound = tree.get_lbound()[:i]+tree.get_lbound()[i+1:]\n",
    "                new_lbound = [b+delta for b in old_lbound]+[tree.get_lbound()[i]+loss_l2+lamb,tree.get_lbound()[i]+loss_l1+lamb]\n",
    "\n",
    "\n",
    "                new_prediction = tree.get_pred()[:i]+tree.get_pred()[i+1:]+pred_l\n",
    "                new_num_captured = tree.get_cap()[:i]+tree.get_cap()[i+1:]+cap_l\n",
    "                new_num_captured_incorrect = tree.get_ncc()[:i]+tree.get_ncc()[i+1:]+incorr_l\n",
    "                new_deadleaf = tree.get_deadleaf()[:i]+tree.get_deadleaf()[i+1:]+[0,0]\n",
    "        \n",
    "                #if bound(tree,x,y,i,lamb)<R_c:\n",
    "                if tree.get_lbound()[i]<R_c:\n",
    "                    #print(\"===CASE 1===\")\n",
    "\n",
    "\n",
    "\n",
    "\n",
    "                    #(Lower bound on accurate antecedent support)\n",
    "                    a_l = (sum(cap_l)-sum(incorr_l))/ndata - sum(cap_l)/ndata/2\n",
    "                    if a_l >= lamb:\n",
    "                        for m in range(nt):\n",
    "                            splitleaf = [0]*nt\n",
    "                            splitleaf[m] = 1\n",
    "                            sl = splitleaf_list+[splitleaf]\n",
    "\n",
    "                            push_copies(n_split, x, y, t, new_prediction, new_num_captured, \n",
    "                                        new_num_captured_incorrect, new_deadleaf, sl,\n",
    "                                        new_lbound, E, queue, split_2, nt)\n",
    "\n",
    "                    else:\n",
    "                        #print(\"===CASE 2===\")\n",
    "                        E.eliminate_children((l1,l2))\n",
    "                        for m in range(2):\n",
    "                            splitleaf = [0]*nt\n",
    "                            splitleaf[-m-1] = 1 #next round split l1/l2\n",
    "                            sl = splitleaf_list+[splitleaf]\n",
    "\n",
    "                            push_copies(n_split, x, y, t, new_prediction, new_num_captured, \n",
    "                                        new_num_captured_incorrect, new_deadleaf, sl,\n",
    "                                        new_lbound, E, queue, split_2, nt)\n",
    "\n",
    "\n",
    "                else:\n",
    "                    #print(\"===CASE 3===\")\n",
    "                    E.eliminate_children(dp)\n",
    "\n",
    "\n",
    "\n",
    "                    #(Lower bound on accurate antecedent support)\n",
    "                    a_l = (sum(cap_l)-sum(incorr_l))/ndata - sum(cap_l)/ndata/2\n",
    "                    if a_l >= lamb:\n",
    "                        for m in range(len(t)-2):\n",
    "                            splitleaf = [0]*len(t)\n",
    "                            splitleaf[m] = 1\n",
    "                            sl = splitleaf_list+[splitleaf]\n",
    "\n",
    "                            push_copies(n_split, x, y, t, new_prediction, new_num_captured, \n",
    "                                        new_num_captured_incorrect, new_deadleaf, sl,\n",
    "                                        new_lbound, E, queue, split_2, nt)\n",
    "                    else:\n",
    "                        E.eliminate_children((l1,l2))\n",
    "                        #print(\"===CASE 2===\")\n",
    "                        for m in range(2):\n",
    "                            splitleaf = [0]*len(t)\n",
    "                            splitleaf[-m-1] = 1 #next round split l1/l2\n",
    "                            sl = splitleaf_list+[splitleaf]\n",
    "                            for n in range(len(t)-2):\n",
    "                                splitleaf2 = [0]*len(t)\n",
    "                                splitleaf2[n] = 1\n",
    "                                sl = sl+[splitleaf2]\n",
    "                                push_copies(n_split, x, y, t, new_prediction, new_num_captured, \n",
    "                                            new_num_captured_incorrect, new_deadleaf, sl,\n",
    "                                            new_lbound, E, queue, split_2, nt)\n",
    "\n",
    "                            ########### split l1/l2??????????????????????????????????????\n",
    "\n",
    "    print(d_c)\n",
    "    print(\"R_c\", R_c)"
   ]
  },
  {
   "cell_type": "code",
   "execution_count": null,
   "metadata": {},
   "outputs": [],
   "source": []
  },
  {
   "cell_type": "markdown",
   "metadata": {},
   "source": [
    "#### for 3 rules, 25 data, lambda = 0.04\n",
    "algorithm  algorithm1  algorithm1_2splits  algorithm1_nobound\n",
    "time     20.7ms    51.9ms          217ms"
   ]
  },
  {
   "cell_type": "code",
   "execution_count": null,
   "metadata": {},
   "outputs": [],
   "source": [
    "aaaaaa = ((1,2),(3,4))\n"
   ]
  },
  {
   "cell_type": "code",
   "execution_count": 133,
   "metadata": {},
   "outputs": [
    {
     "ename": "NameError",
     "evalue": "name 'aaaaaa' is not defined",
     "output_type": "error",
     "traceback": [
      "\u001b[0;31m\u001b[0m",
      "\u001b[0;31mNameError\u001b[0mTraceback (most recent call last)",
      "\u001b[0;32m<ipython-input-133-1a9fe6ba209a>\u001b[0m in \u001b[0;36m<module>\u001b[0;34m()\u001b[0m\n\u001b[0;32m----> 1\u001b[0;31m \u001b[0maaaaaa\u001b[0m\u001b[0;34m.\u001b[0m\u001b[0mindex\u001b[0m\u001b[0;34m(\u001b[0m\u001b[0;34m(\u001b[0m\u001b[0;36m1\u001b[0m\u001b[0;34m,\u001b[0m\u001b[0;36m2\u001b[0m\u001b[0;34m)\u001b[0m\u001b[0;34m)\u001b[0m\u001b[0;34m\u001b[0m\u001b[0m\n\u001b[0m",
      "\u001b[0;31mNameError\u001b[0m: name 'aaaaaa' is not defined"
     ]
    }
   ],
   "source": [
    "aaaaaa.index((1,2))"
   ]
  },
  {
   "cell_type": "code",
   "execution_count": 134,
   "metadata": {},
   "outputs": [],
   "source": [
    "rule_idx = sample(range(13),13)"
   ]
  },
  {
   "cell_type": "code",
   "execution_count": 156,
   "metadata": {
    "scrolled": false
   },
   "outputs": [
    {
     "ename": "NameError",
     "evalue": "name 'aalgorithm1_multi' is not defined",
     "output_type": "error",
     "traceback": [
      "\u001b[0;31m\u001b[0m",
      "\u001b[0;31mNameError\u001b[0mTraceback (most recent call last)",
      "\u001b[0;32m<timed eval>\u001b[0m in \u001b[0;36m<module>\u001b[0;34m()\u001b[0m\n",
      "\u001b[0;31mNameError\u001b[0m: name 'aalgorithm1_multi' is not defined"
     ]
    }
   ],
   "source": [
    "%%time\n",
    "# algorithm1_2splits, 4 rules, all data, lambda = 0.04\n",
    "\n",
    "algorithm1_multi(x[:,1:],y)"
   ]
  },
  {
   "cell_type": "code",
   "execution_count": 136,
   "metadata": {
    "scrolled": true
   },
   "outputs": [
    {
     "name": "stdout",
     "output_type": "stream",
     "text": [
      "nrule: 5\n",
      "ndata: 6907\n",
      "d ((-1,), (1,))\n"
     ]
    },
    {
     "ename": "ValueError",
     "evalue": "1 is not in list",
     "output_type": "error",
     "traceback": [
      "\u001b[0;31m\u001b[0m",
      "\u001b[0;31mValueError\u001b[0mTraceback (most recent call last)",
      "\u001b[0;32m<timed eval>\u001b[0m in \u001b[0;36m<module>\u001b[0;34m()\u001b[0m\n",
      "\u001b[0;32m<ipython-input-103-264e39e6296c>\u001b[0m in \u001b[0;36malgorithm1_multi\u001b[0;34m(x, y, lamb)\u001b[0m\n\u001b[1;32m     26\u001b[0m         \u001b[0mprint\u001b[0m\u001b[0;34m(\u001b[0m\u001b[0;34m\"d\"\u001b[0m\u001b[0;34m,\u001b[0m\u001b[0md\u001b[0m\u001b[0;34m)\u001b[0m\u001b[0;34m\u001b[0m\u001b[0m\n\u001b[1;32m     27\u001b[0m \u001b[0;34m\u001b[0m\u001b[0m\n\u001b[0;32m---> 28\u001b[0;31m         \u001b[0;32mif\u001b[0m \u001b[0mE\u001b[0m\u001b[0;34m.\u001b[0m\u001b[0mis_eliminated\u001b[0m\u001b[0;34m(\u001b[0m\u001b[0mtree\u001b[0m\u001b[0;34m)\u001b[0m\u001b[0;34m:\u001b[0m\u001b[0;34m\u001b[0m\u001b[0m\n\u001b[0m\u001b[1;32m     29\u001b[0m             \u001b[0;32mcontinue\u001b[0m\u001b[0;34m\u001b[0m\u001b[0m\n\u001b[1;32m     30\u001b[0m         \u001b[0;32melse\u001b[0m\u001b[0;34m:\u001b[0m\u001b[0;34m\u001b[0m\u001b[0m\n",
      "\u001b[0;32m<ipython-input-122-fa962b49bf67>\u001b[0m in \u001b[0;36mis_eliminated\u001b[0;34m(self, tree)\u001b[0m\n\u001b[1;32m     25\u001b[0m         \u001b[0mprefix\u001b[0m \u001b[0;34m=\u001b[0m \u001b[0mtree\u001b[0m\u001b[0;34m.\u001b[0m\u001b[0mget_prefix\u001b[0m\u001b[0;34m(\u001b[0m\u001b[0;34m)\u001b[0m\u001b[0;34m\u001b[0m\u001b[0m\n\u001b[1;32m     26\u001b[0m         \u001b[0mkey\u001b[0m \u001b[0;34m=\u001b[0m \u001b[0mtuple\u001b[0m\u001b[0;34m(\u001b[0m\u001b[0msorted\u001b[0m\u001b[0;34m(\u001b[0m\u001b[0mprefix\u001b[0m\u001b[0;34m)\u001b[0m\u001b[0;34m)\u001b[0m\u001b[0;34m\u001b[0m\u001b[0m\n\u001b[0;32m---> 27\u001b[0;31m         \u001b[0midx\u001b[0m \u001b[0;34m=\u001b[0m \u001b[0mtree\u001b[0m\u001b[0;34m.\u001b[0m\u001b[0mget_splitleaf\u001b[0m\u001b[0;34m(\u001b[0m\u001b[0;34m)\u001b[0m\u001b[0;34m[\u001b[0m\u001b[0;36m0\u001b[0m\u001b[0;34m]\u001b[0m\u001b[0;34m.\u001b[0m\u001b[0mindex\u001b[0m\u001b[0;34m(\u001b[0m\u001b[0;36m1\u001b[0m\u001b[0;34m)\u001b[0m\u001b[0;34m\u001b[0m\u001b[0m\n\u001b[0m\u001b[1;32m     28\u001b[0m         \u001b[0mval\u001b[0m \u001b[0;34m=\u001b[0m \u001b[0mtree\u001b[0m\u001b[0;34m.\u001b[0m\u001b[0mget_prefix\u001b[0m\u001b[0;34m(\u001b[0m\u001b[0;34m)\u001b[0m\u001b[0;34m[\u001b[0m\u001b[0midx\u001b[0m\u001b[0;34m]\u001b[0m\u001b[0;34m\u001b[0m\u001b[0m\n\u001b[1;32m     29\u001b[0m         \u001b[0;32mif\u001b[0m \u001b[0mkey\u001b[0m \u001b[0;32min\u001b[0m \u001b[0mself\u001b[0m\u001b[0;34m.\u001b[0m\u001b[0melim_dict\u001b[0m\u001b[0;34m.\u001b[0m\u001b[0mkeys\u001b[0m\u001b[0;34m(\u001b[0m\u001b[0;34m)\u001b[0m\u001b[0;34m:\u001b[0m\u001b[0;34m\u001b[0m\u001b[0m\n",
      "\u001b[0;31mValueError\u001b[0m: 1 is not in list"
     ]
    }
   ],
   "source": [
    "%%time\n",
    "# algorithm1_2splits, 5 rules, all data, lambda = 0.04\n",
    "\n",
    "algorithm1_multi(x,y)"
   ]
  },
  {
   "cell_type": "code",
   "execution_count": 137,
   "metadata": {
    "scrolled": true
   },
   "outputs": [
    {
     "name": "stdout",
     "output_type": "stream",
     "text": [
      "nrule: 5\n",
      "ndata: 6907\n",
      "d ((-1,), (1,))\n"
     ]
    },
    {
     "ename": "ValueError",
     "evalue": "1 is not in list",
     "output_type": "error",
     "traceback": [
      "\u001b[0;31m\u001b[0m",
      "\u001b[0;31mValueError\u001b[0mTraceback (most recent call last)",
      "\u001b[0;32m<timed eval>\u001b[0m in \u001b[0;36m<module>\u001b[0;34m()\u001b[0m\n",
      "\u001b[0;32m<ipython-input-103-264e39e6296c>\u001b[0m in \u001b[0;36malgorithm1_multi\u001b[0;34m(x, y, lamb)\u001b[0m\n\u001b[1;32m     26\u001b[0m         \u001b[0mprint\u001b[0m\u001b[0;34m(\u001b[0m\u001b[0;34m\"d\"\u001b[0m\u001b[0;34m,\u001b[0m\u001b[0md\u001b[0m\u001b[0;34m)\u001b[0m\u001b[0;34m\u001b[0m\u001b[0m\n\u001b[1;32m     27\u001b[0m \u001b[0;34m\u001b[0m\u001b[0m\n\u001b[0;32m---> 28\u001b[0;31m         \u001b[0;32mif\u001b[0m \u001b[0mE\u001b[0m\u001b[0;34m.\u001b[0m\u001b[0mis_eliminated\u001b[0m\u001b[0;34m(\u001b[0m\u001b[0mtree\u001b[0m\u001b[0;34m)\u001b[0m\u001b[0;34m:\u001b[0m\u001b[0;34m\u001b[0m\u001b[0m\n\u001b[0m\u001b[1;32m     29\u001b[0m             \u001b[0;32mcontinue\u001b[0m\u001b[0;34m\u001b[0m\u001b[0m\n\u001b[1;32m     30\u001b[0m         \u001b[0;32melse\u001b[0m\u001b[0;34m:\u001b[0m\u001b[0;34m\u001b[0m\u001b[0m\n",
      "\u001b[0;32m<ipython-input-122-fa962b49bf67>\u001b[0m in \u001b[0;36mis_eliminated\u001b[0;34m(self, tree)\u001b[0m\n\u001b[1;32m     25\u001b[0m         \u001b[0mprefix\u001b[0m \u001b[0;34m=\u001b[0m \u001b[0mtree\u001b[0m\u001b[0;34m.\u001b[0m\u001b[0mget_prefix\u001b[0m\u001b[0;34m(\u001b[0m\u001b[0;34m)\u001b[0m\u001b[0;34m\u001b[0m\u001b[0m\n\u001b[1;32m     26\u001b[0m         \u001b[0mkey\u001b[0m \u001b[0;34m=\u001b[0m \u001b[0mtuple\u001b[0m\u001b[0;34m(\u001b[0m\u001b[0msorted\u001b[0m\u001b[0;34m(\u001b[0m\u001b[0mprefix\u001b[0m\u001b[0;34m)\u001b[0m\u001b[0;34m)\u001b[0m\u001b[0;34m\u001b[0m\u001b[0m\n\u001b[0;32m---> 27\u001b[0;31m         \u001b[0midx\u001b[0m \u001b[0;34m=\u001b[0m \u001b[0mtree\u001b[0m\u001b[0;34m.\u001b[0m\u001b[0mget_splitleaf\u001b[0m\u001b[0;34m(\u001b[0m\u001b[0;34m)\u001b[0m\u001b[0;34m[\u001b[0m\u001b[0;36m0\u001b[0m\u001b[0;34m]\u001b[0m\u001b[0;34m.\u001b[0m\u001b[0mindex\u001b[0m\u001b[0;34m(\u001b[0m\u001b[0;36m1\u001b[0m\u001b[0;34m)\u001b[0m\u001b[0;34m\u001b[0m\u001b[0m\n\u001b[0m\u001b[1;32m     28\u001b[0m         \u001b[0mval\u001b[0m \u001b[0;34m=\u001b[0m \u001b[0mtree\u001b[0m\u001b[0;34m.\u001b[0m\u001b[0mget_prefix\u001b[0m\u001b[0;34m(\u001b[0m\u001b[0;34m)\u001b[0m\u001b[0;34m[\u001b[0m\u001b[0midx\u001b[0m\u001b[0;34m]\u001b[0m\u001b[0;34m\u001b[0m\u001b[0m\n\u001b[1;32m     29\u001b[0m         \u001b[0;32mif\u001b[0m \u001b[0mkey\u001b[0m \u001b[0;32min\u001b[0m \u001b[0mself\u001b[0m\u001b[0;34m.\u001b[0m\u001b[0melim_dict\u001b[0m\u001b[0;34m.\u001b[0m\u001b[0mkeys\u001b[0m\u001b[0;34m(\u001b[0m\u001b[0;34m)\u001b[0m\u001b[0;34m:\u001b[0m\u001b[0;34m\u001b[0m\u001b[0m\n",
      "\u001b[0;31mValueError\u001b[0m: 1 is not in list"
     ]
    }
   ],
   "source": [
    "%%time\n",
    "# algorithm1_2splits, 3 rules, 25 data, lambda = 0.04\n",
    "\n",
    "algorithm1_multi(x,y)"
   ]
  },
  {
   "cell_type": "code",
   "execution_count": 311,
   "metadata": {},
   "outputs": [
    {
     "ename": "NameError",
     "evalue": "name 'algorithm1_2splits' is not defined",
     "output_type": "error",
     "traceback": [
      "\u001b[0;31m\u001b[0m",
      "\u001b[0;31mNameError\u001b[0mTraceback (most recent call last)",
      "\u001b[0;32m<timed eval>\u001b[0m in \u001b[0;36m<module>\u001b[0;34m()\u001b[0m\n",
      "\u001b[0;31mNameError\u001b[0m: name 'algorithm1_2splits' is not defined"
     ]
    }
   ],
   "source": [
    "%%time\n",
    "# algorithm1_2splits, 3 rules, 25 data, lambda = 0.04\n",
    "\n",
    "algorithm1_2splits(x[:,rule_idx[:4]],y,lamb=0.04)"
   ]
  },
  {
   "cell_type": "code",
   "execution_count": 312,
   "metadata": {},
   "outputs": [
    {
     "ename": "NameError",
     "evalue": "name 'algorithm1' is not defined",
     "output_type": "error",
     "traceback": [
      "\u001b[0;31m\u001b[0m",
      "\u001b[0;31mNameError\u001b[0mTraceback (most recent call last)",
      "\u001b[0;32m<timed eval>\u001b[0m in \u001b[0;36m<module>\u001b[0;34m()\u001b[0m\n",
      "\u001b[0;31mNameError\u001b[0m: name 'algorithm1' is not defined"
     ]
    }
   ],
   "source": [
    "%%time\n",
    "# 3 rules, 25 data, lambda = 0.04\n",
    "\n",
    "algorithm1(x[:,rule_idx[:3]][idx[:25]],y[idx[:25]],lamb=0.04)"
   ]
  },
  {
   "cell_type": "code",
   "execution_count": 313,
   "metadata": {},
   "outputs": [
    {
     "ename": "NameError",
     "evalue": "name 'algorithm1' is not defined",
     "output_type": "error",
     "traceback": [
      "\u001b[0;31m\u001b[0m",
      "\u001b[0;31mNameError\u001b[0mTraceback (most recent call last)",
      "\u001b[0;32m<timed eval>\u001b[0m in \u001b[0;36m<module>\u001b[0;34m()\u001b[0m\n",
      "\u001b[0;31mNameError\u001b[0m: name 'algorithm1' is not defined"
     ]
    }
   ],
   "source": [
    "%%time\n",
    "# 4 rules, 25 data, lambda = 0.04\n",
    "\n",
    "algorithm1(x[:,rule_idx[:4]][idx[:25]],y[idx[:25]],lamb=0.04)"
   ]
  },
  {
   "cell_type": "code",
   "execution_count": 15,
   "metadata": {},
   "outputs": [
    {
     "name": "stdout",
     "output_type": "stream",
     "text": [
      "((-1,), (1,))\n",
      "R_c 0.48000000000000004\n",
      "CPU times: user 4.64 s, sys: 0 ns, total: 4.64 s\n",
      "Wall time: 4.64 s\n"
     ]
    }
   ],
   "source": [
    "%%time\n",
    "# 5 rules, 25 data, lambda = 0.04\n",
    "\n",
    "algorithm1(x[:,rule_idx[:5]][idx[:25]],y[idx[:25]],lamb=0.04)"
   ]
  },
  {
   "cell_type": "code",
   "execution_count": 16,
   "metadata": {},
   "outputs": [
    {
     "name": "stdout",
     "output_type": "stream",
     "text": [
      "((-6,), (6,))\n",
      "R_c 0.36000000000000004\n",
      "CPU times: user 12.4 s, sys: 12 ms, total: 12.4 s\n",
      "Wall time: 12.5 s\n"
     ]
    }
   ],
   "source": [
    "%%time\n",
    "# 6 rules, 25 data, lambda = 0.04\n",
    "\n",
    "algorithm1(x[:,rule_idx[:6]][idx[:25]],y[idx[:25]],lamb=0.04)"
   ]
  },
  {
   "cell_type": "code",
   "execution_count": 17,
   "metadata": {},
   "outputs": [
    {
     "name": "stdout",
     "output_type": "stream",
     "text": [
      "((-6,), (6,))\n",
      "R_c 0.36000000000000004\n",
      "CPU times: user 2min 29s, sys: 36 ms, total: 2min 29s\n",
      "Wall time: 2min 30s\n"
     ]
    }
   ],
   "source": [
    "%%time\n",
    "# 7 rules, 25 data, lambda = 0.04\n",
    "\n",
    "algorithm1(x[:,rule_idx[:7]][idx[:25]],y[idx[:25]],lamb=0.04)"
   ]
  },
  {
   "cell_type": "code",
   "execution_count": 18,
   "metadata": {},
   "outputs": [
    {
     "name": "stdout",
     "output_type": "stream",
     "text": [
      "((-6,), (6,))\n",
      "R_c 0.36000000000000004\n",
      "CPU times: user 22min 48s, sys: 544 ms, total: 22min 48s\n",
      "Wall time: 22min 49s\n"
     ]
    }
   ],
   "source": [
    "%%time\n",
    "# 8 rules, 25 data, lambda = 0.04\n",
    "\n",
    "algorithm1(x[:,rule_idx[:8]][idx[:25]],y[idx[:25]],lamb=0.04)"
   ]
  },
  {
   "cell_type": "code",
   "execution_count": 19,
   "metadata": {},
   "outputs": [
    {
     "ename": "KeyboardInterrupt",
     "evalue": "",
     "output_type": "error",
     "traceback": [
      "\u001b[0;31m\u001b[0m",
      "\u001b[0;31mKeyboardInterrupt\u001b[0mTraceback (most recent call last)",
      "\u001b[0;32m<timed eval>\u001b[0m in \u001b[0;36m<module>\u001b[0;34m()\u001b[0m\n",
      "\u001b[0;32m<ipython-input-10-4f8da4786dc4>\u001b[0m in \u001b[0;36malgorithm1\u001b[0;34m(x, y, lamb)\u001b[0m\n\u001b[1;32m     17\u001b[0m         \u001b[0mtree\u001b[0m \u001b[0;34m=\u001b[0m \u001b[0mqueue\u001b[0m\u001b[0;34m.\u001b[0m\u001b[0mpop\u001b[0m\u001b[0;34m(\u001b[0m\u001b[0;36m0\u001b[0m\u001b[0;34m)\u001b[0m\u001b[0;34m\u001b[0m\u001b[0m\n\u001b[1;32m     18\u001b[0m         \u001b[0md\u001b[0m \u001b[0;34m=\u001b[0m \u001b[0mtree\u001b[0m\u001b[0;34m.\u001b[0m\u001b[0mget_prefix\u001b[0m\u001b[0;34m(\u001b[0m\u001b[0;34m)\u001b[0m\u001b[0;34m\u001b[0m\u001b[0m\n\u001b[0;32m---> 19\u001b[0;31m         \u001b[0;32mif\u001b[0m \u001b[0mE\u001b[0m\u001b[0;34m.\u001b[0m\u001b[0mis_eliminated\u001b[0m\u001b[0;34m(\u001b[0m\u001b[0md\u001b[0m\u001b[0;34m)\u001b[0m\u001b[0;34m:\u001b[0m\u001b[0;34m\u001b[0m\u001b[0m\n\u001b[0m\u001b[1;32m     20\u001b[0m             \u001b[0;32mcontinue\u001b[0m\u001b[0;34m\u001b[0m\u001b[0m\n\u001b[1;32m     21\u001b[0m         \u001b[0;32melse\u001b[0m\u001b[0;34m:\u001b[0m\u001b[0;34m\u001b[0m\u001b[0m\n",
      "\u001b[0;32m<ipython-input-8-6c1d5257ac4a>\u001b[0m in \u001b[0;36mis_eliminated\u001b[0;34m(self, prefix)\u001b[0m\n\u001b[1;32m     21\u001b[0m \u001b[0;34m\u001b[0m\u001b[0m\n\u001b[1;32m     22\u001b[0m         \u001b[0;32mfor\u001b[0m \u001b[0mi\u001b[0m \u001b[0;32min\u001b[0m \u001b[0mrange\u001b[0m\u001b[0;34m(\u001b[0m\u001b[0mlen\u001b[0m\u001b[0;34m(\u001b[0m\u001b[0mself\u001b[0m\u001b[0;34m.\u001b[0m\u001b[0meliminated\u001b[0m\u001b[0;34m)\u001b[0m\u001b[0;34m)\u001b[0m\u001b[0;34m:\u001b[0m\u001b[0;34m\u001b[0m\u001b[0m\n\u001b[0;32m---> 23\u001b[0;31m             \u001b[0;32mif\u001b[0m \u001b[0mall\u001b[0m\u001b[0;34m(\u001b[0m\u001b[0;34m[\u001b[0m\u001b[0mr\u001b[0m \u001b[0;32min\u001b[0m \u001b[0mprefix\u001b[0m \u001b[0;32mfor\u001b[0m \u001b[0mr\u001b[0m \u001b[0;32min\u001b[0m \u001b[0mself\u001b[0m\u001b[0;34m.\u001b[0m\u001b[0meliminated\u001b[0m\u001b[0;34m[\u001b[0m\u001b[0mi\u001b[0m\u001b[0;34m]\u001b[0m\u001b[0;34m]\u001b[0m\u001b[0;34m)\u001b[0m\u001b[0;34m:\u001b[0m\u001b[0;34m\u001b[0m\u001b[0m\n\u001b[0m\u001b[1;32m     24\u001b[0m                 \u001b[0;31m#print(\"Eliminated!\")\u001b[0m\u001b[0;34m\u001b[0m\u001b[0;34m\u001b[0m\u001b[0m\n\u001b[1;32m     25\u001b[0m                 \u001b[0;32mreturn\u001b[0m \u001b[0;32mTrue\u001b[0m\u001b[0;34m\u001b[0m\u001b[0m\n",
      "\u001b[0;31mKeyboardInterrupt\u001b[0m: "
     ]
    }
   ],
   "source": [
    "%%time\n",
    "# 9 rules, 25 data, lambda = 0.04\n",
    "\n",
    "algorithm1(x[:,rule_idx[:9]][idx[:25]],y[idx[:25]],lamb=0.04)"
   ]
  },
  {
   "cell_type": "code",
   "execution_count": 20,
   "metadata": {},
   "outputs": [
    {
     "ename": "KeyboardInterrupt",
     "evalue": "",
     "output_type": "error",
     "traceback": [
      "\u001b[0;31m\u001b[0m",
      "\u001b[0;31mKeyboardInterrupt\u001b[0mTraceback (most recent call last)",
      "\u001b[0;32m<timed eval>\u001b[0m in \u001b[0;36m<module>\u001b[0;34m()\u001b[0m\n",
      "\u001b[0;32m<ipython-input-10-4f8da4786dc4>\u001b[0m in \u001b[0;36malgorithm1\u001b[0;34m(x, y, lamb)\u001b[0m\n\u001b[1;32m     17\u001b[0m         \u001b[0mtree\u001b[0m \u001b[0;34m=\u001b[0m \u001b[0mqueue\u001b[0m\u001b[0;34m.\u001b[0m\u001b[0mpop\u001b[0m\u001b[0;34m(\u001b[0m\u001b[0;36m0\u001b[0m\u001b[0;34m)\u001b[0m\u001b[0;34m\u001b[0m\u001b[0m\n\u001b[1;32m     18\u001b[0m         \u001b[0md\u001b[0m \u001b[0;34m=\u001b[0m \u001b[0mtree\u001b[0m\u001b[0;34m.\u001b[0m\u001b[0mget_prefix\u001b[0m\u001b[0;34m(\u001b[0m\u001b[0;34m)\u001b[0m\u001b[0;34m\u001b[0m\u001b[0m\n\u001b[0;32m---> 19\u001b[0;31m         \u001b[0;32mif\u001b[0m \u001b[0mE\u001b[0m\u001b[0;34m.\u001b[0m\u001b[0mis_eliminated\u001b[0m\u001b[0;34m(\u001b[0m\u001b[0md\u001b[0m\u001b[0;34m)\u001b[0m\u001b[0;34m:\u001b[0m\u001b[0;34m\u001b[0m\u001b[0m\n\u001b[0m\u001b[1;32m     20\u001b[0m             \u001b[0;32mcontinue\u001b[0m\u001b[0;34m\u001b[0m\u001b[0m\n\u001b[1;32m     21\u001b[0m         \u001b[0;32melse\u001b[0m\u001b[0;34m:\u001b[0m\u001b[0;34m\u001b[0m\u001b[0m\n",
      "\u001b[0;32m<ipython-input-8-6c1d5257ac4a>\u001b[0m in \u001b[0;36mis_eliminated\u001b[0;34m(self, prefix)\u001b[0m\n\u001b[1;32m     21\u001b[0m \u001b[0;34m\u001b[0m\u001b[0m\n\u001b[1;32m     22\u001b[0m         \u001b[0;32mfor\u001b[0m \u001b[0mi\u001b[0m \u001b[0;32min\u001b[0m \u001b[0mrange\u001b[0m\u001b[0;34m(\u001b[0m\u001b[0mlen\u001b[0m\u001b[0;34m(\u001b[0m\u001b[0mself\u001b[0m\u001b[0;34m.\u001b[0m\u001b[0meliminated\u001b[0m\u001b[0;34m)\u001b[0m\u001b[0;34m)\u001b[0m\u001b[0;34m:\u001b[0m\u001b[0;34m\u001b[0m\u001b[0m\n\u001b[0;32m---> 23\u001b[0;31m             \u001b[0;32mif\u001b[0m \u001b[0mall\u001b[0m\u001b[0;34m(\u001b[0m\u001b[0;34m[\u001b[0m\u001b[0mr\u001b[0m \u001b[0;32min\u001b[0m \u001b[0mprefix\u001b[0m \u001b[0;32mfor\u001b[0m \u001b[0mr\u001b[0m \u001b[0;32min\u001b[0m \u001b[0mself\u001b[0m\u001b[0;34m.\u001b[0m\u001b[0meliminated\u001b[0m\u001b[0;34m[\u001b[0m\u001b[0mi\u001b[0m\u001b[0;34m]\u001b[0m\u001b[0;34m]\u001b[0m\u001b[0;34m)\u001b[0m\u001b[0;34m:\u001b[0m\u001b[0;34m\u001b[0m\u001b[0m\n\u001b[0m\u001b[1;32m     24\u001b[0m                 \u001b[0;31m#print(\"Eliminated!\")\u001b[0m\u001b[0;34m\u001b[0m\u001b[0;34m\u001b[0m\u001b[0m\n\u001b[1;32m     25\u001b[0m                 \u001b[0;32mreturn\u001b[0m \u001b[0;32mTrue\u001b[0m\u001b[0;34m\u001b[0m\u001b[0m\n",
      "\u001b[0;31mKeyboardInterrupt\u001b[0m: "
     ]
    }
   ],
   "source": [
    "%%time\n",
    "# all 13 rules, 25 data, lambda = 0.04\n",
    "\n",
    "algorithm1(x[idx[:25]],y[idx[:25]],lamb=0.04)"
   ]
  },
  {
   "cell_type": "code",
   "execution_count": 21,
   "metadata": {},
   "outputs": [
    {
     "name": "stdout",
     "output_type": "stream",
     "text": [
      "((-6,), (6,))\n",
      "R_c 0.34\n",
      "CPU times: user 15.2 s, sys: 4 ms, total: 15.2 s\n",
      "Wall time: 15.2 s\n"
     ]
    }
   ],
   "source": [
    "%%time\n",
    "# 6 rules, 25 data, lambda = 0.03\n",
    "\n",
    "algorithm1(x[:,rule_idx[:6]][idx[:25]],y[idx[:25]],lamb=0.03)"
   ]
  },
  {
   "cell_type": "code",
   "execution_count": 22,
   "metadata": {},
   "outputs": [
    {
     "name": "stdout",
     "output_type": "stream",
     "text": [
      "((-5, -6), (-5, 6), (5, 1), (5, -1, -2), (5, -1, 2))\n",
      "R_c 0.29999999999999993\n",
      "CPU times: user 27 s, sys: 0 ns, total: 27 s\n",
      "Wall time: 27 s\n"
     ]
    }
   ],
   "source": [
    "%%time\n",
    "# 6 rules, 25 data, lambda = 0.02\n",
    "\n",
    "algorithm1(x[:,rule_idx[:6]][idx[:25]],y[idx[:25]],lamb=0.02)"
   ]
  },
  {
   "cell_type": "code",
   "execution_count": 23,
   "metadata": {},
   "outputs": [
    {
     "name": "stdout",
     "output_type": "stream",
     "text": [
      "((-5, -6), (-5, 6), (5, 1), (5, -1, -2), (5, -1, 2))\n",
      "R_c 0.24999999999999994\n",
      "CPU times: user 31.4 s, sys: 20 ms, total: 31.4 s\n",
      "Wall time: 31.4 s\n"
     ]
    }
   ],
   "source": [
    "%%time\n",
    "# 6 rules, 25 data, lambda = 0.01\n",
    "\n",
    "algorithm1(x[:,rule_idx[:6]][idx[:25]],y[idx[:25]],lamb=0.01)"
   ]
  },
  {
   "cell_type": "code",
   "execution_count": 16,
   "metadata": {},
   "outputs": [],
   "source": [
    "def algorithm1_nobound(x, y, lamb):\n",
    "    \"\"\"\n",
    "    A brute forece implementation of Algorithm1 without the bound of Theorem1\n",
    "    \"\"\"\n",
    "    \n",
    "    d_c = None\n",
    "    R_c = 1\n",
    "\n",
    "    nrule = x.shape[1]\n",
    "\n",
    "    # initialize the queue to include all trees of just one split\n",
    "    queue = [CacheTree(prefix = ((-r,),(r,)), x = x, y = y) for r in range(1, nrule+1)]\n",
    "\n",
    "    E = Eliminate()\n",
    "\n",
    "    while (queue):\n",
    "        tree = queue.pop(0)\n",
    "        d = tree.get_prefix()\n",
    "        if E.is_eliminated(d):\n",
    "            continue\n",
    "        else:\n",
    "            E.eliminate(d)\n",
    "        R = Risk(tree,x,y,lamb)\n",
    "        if R<R_c:\n",
    "            d_c = d\n",
    "            R_c = R\n",
    "\n",
    "        #print(\"d\",d)\n",
    "        #print(\"R\",R)\n",
    "        #print(\"R_c\",R_c)\n",
    "        #print(tree.get_pred())\n",
    "\n",
    "        for i in range(len(d)):\n",
    "            d0 = d[i]\n",
    "            dp = d[:i]+d[i+1:]\n",
    "            #print(\"bound\", bound(tree,x,y,i))\n",
    "            #print(\"R_c\", R_c)\n",
    "            #if bound(tree,x,y,i,lamb)<R_c:\n",
    "            for j in range(1, nrule+1):\n",
    "                if (j not in d0)and(-j not in d0):\n",
    "                    l1 = d0+(-j,)\n",
    "                    l2 = d0+(j,)\n",
    "                    t = dp+(l1, l2)\n",
    "                    #print(\"t\",t)\n",
    "                    if (not E.is_eliminated(t)):\n",
    "                        pred_l, cap_l, corr_l = calcul((l1,l2),x,y)\n",
    "                        queue.append(\n",
    "                            CacheTree(prefix = t,\n",
    "                                      prediction = tree.get_pred()[:i]+tree.get_pred()[i+1:]+pred_l,\n",
    "                                      num_captured = tree.get_cap()[:i]+tree.get_cap()[i+1:]+cap_l,\n",
    "                                      num_captured_correct = tree.get_ncc()[:i]+tree.get_ncc()[i+1:]+corr_l)\n",
    "                        )\n",
    "            #else:\n",
    "                #E.eliminate_children(dp)\n",
    "                #print(\"Children Elim\")\n",
    "\n",
    "    print(d_c)\n",
    "    print(\"R_c\", R_c)"
   ]
  },
  {
   "cell_type": "code",
   "execution_count": 50,
   "metadata": {
    "collapsed": true
   },
   "outputs": [
    {
     "name": "stdout",
     "output_type": "stream",
     "text": [
      "((-1,), (1,))\n",
      "R_c 0.48000000000000004\n",
      "CPU times: user 208 ms, sys: 8 ms, total: 216 ms\n",
      "Wall time: 217 ms\n"
     ]
    }
   ],
   "source": [
    "%%time\n",
    "# algorithm1 without the bound, 3 rules, 25 data, lambda = 0.04\n",
    "\n",
    "algorithm1_nobound(x[:,rule_idx[:3]][idx[:25]],y[idx[:25]],lamb=0.04)"
   ]
  },
  {
   "cell_type": "code",
   "execution_count": 29,
   "metadata": {
    "collapsed": true
   },
   "outputs": [
    {
     "ename": "KeyboardInterrupt",
     "evalue": "",
     "output_type": "error",
     "traceback": [
      "\u001b[0;31m\u001b[0m",
      "\u001b[0;31mKeyboardInterrupt\u001b[0mTraceback (most recent call last)",
      "\u001b[0;32m<timed eval>\u001b[0m in \u001b[0;36m<module>\u001b[0;34m()\u001b[0m\n",
      "\u001b[0;32m<ipython-input-16-cb02204f2cd8>\u001b[0m in \u001b[0;36malgorithm1_nobound\u001b[0;34m(x, y, lamb)\u001b[0m\n\u001b[1;32m     37\u001b[0m             \u001b[0;31m#print(\"R_c\", R_c)\u001b[0m\u001b[0;34m\u001b[0m\u001b[0;34m\u001b[0m\u001b[0m\n\u001b[1;32m     38\u001b[0m             \u001b[0;31m#if bound(tree,x,y,i,lamb)<R_c:\u001b[0m\u001b[0;34m\u001b[0m\u001b[0;34m\u001b[0m\u001b[0m\n\u001b[0;32m---> 39\u001b[0;31m             \u001b[0;32mfor\u001b[0m \u001b[0mj\u001b[0m \u001b[0;32min\u001b[0m \u001b[0mrange\u001b[0m\u001b[0;34m(\u001b[0m\u001b[0;36m1\u001b[0m\u001b[0;34m,\u001b[0m \u001b[0mnrule\u001b[0m\u001b[0;34m+\u001b[0m\u001b[0;36m1\u001b[0m\u001b[0;34m)\u001b[0m\u001b[0;34m:\u001b[0m\u001b[0;34m\u001b[0m\u001b[0m\n\u001b[0m\u001b[1;32m     40\u001b[0m                 \u001b[0;32mif\u001b[0m \u001b[0;34m(\u001b[0m\u001b[0mj\u001b[0m \u001b[0;32mnot\u001b[0m \u001b[0;32min\u001b[0m \u001b[0md0\u001b[0m\u001b[0;34m)\u001b[0m\u001b[0;32mand\u001b[0m\u001b[0;34m(\u001b[0m\u001b[0;34m-\u001b[0m\u001b[0mj\u001b[0m \u001b[0;32mnot\u001b[0m \u001b[0;32min\u001b[0m \u001b[0md0\u001b[0m\u001b[0;34m)\u001b[0m\u001b[0;34m:\u001b[0m\u001b[0;34m\u001b[0m\u001b[0m\n\u001b[1;32m     41\u001b[0m                     \u001b[0ml1\u001b[0m \u001b[0;34m=\u001b[0m \u001b[0md0\u001b[0m\u001b[0;34m+\u001b[0m\u001b[0;34m(\u001b[0m\u001b[0;34m-\u001b[0m\u001b[0mj\u001b[0m\u001b[0;34m,\u001b[0m\u001b[0;34m)\u001b[0m\u001b[0;34m\u001b[0m\u001b[0m\n",
      "\u001b[0;31mKeyboardInterrupt\u001b[0m: "
     ]
    }
   ],
   "source": [
    "%%time\n",
    "# algorithm1 without the bound, 4 rules, 25 data, lambda = 0.04\n",
    "\n",
    "algorithm1_nobound(x[:,rule_idx[:4]][idx[:25]],y[idx[:25]],lamb=0.04)"
   ]
  }
 ],
 "metadata": {
  "kernelspec": {
   "display_name": "Python 3",
   "language": "python",
   "name": "python3"
  },
  "language_info": {
   "codemirror_mode": {
    "name": "ipython",
    "version": 3
   },
   "file_extension": ".py",
   "mimetype": "text/x-python",
   "name": "python",
   "nbconvert_exporter": "python",
   "pygments_lexer": "ipython3",
   "version": "3.6.5"
  }
 },
 "nbformat": 4,
 "nbformat_minor": 2
}
