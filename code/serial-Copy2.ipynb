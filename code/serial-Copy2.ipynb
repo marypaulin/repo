{
 "cells": [
  {
   "cell_type": "code",
   "execution_count": 109,
   "metadata": {},
   "outputs": [],
   "source": [
    "#A brute force implementation of Algorithm1"
   ]
  },
  {
   "cell_type": "code",
   "execution_count": 144,
   "metadata": {},
   "outputs": [],
   "source": [
    "import pandas as pd\n",
    "import numpy as np\n",
    "from random import sample,seed\n",
    "import heapq"
   ]
  },
  {
   "cell_type": "code",
   "execution_count": 145,
   "metadata": {},
   "outputs": [],
   "source": [
    "LAMB = 0.01"
   ]
  },
  {
   "cell_type": "code",
   "execution_count": 146,
   "metadata": {},
   "outputs": [],
   "source": [
    "df = pd.DataFrame(pd.read_csv('../data/compas-binary.csv'))\n",
    "df\n",
    "\n",
    "seed(10)\n",
    "\n",
    "idx = sample(range(df.shape[0]),df.shape[0])"
   ]
  },
  {
   "cell_type": "code",
   "execution_count": 147,
   "metadata": {},
   "outputs": [],
   "source": [
    "x = df.as_matrix()[:,:13]\n",
    "\n",
    "y = df.as_matrix()[:,13]"
   ]
  },
  {
   "cell_type": "code",
   "execution_count": 148,
   "metadata": {},
   "outputs": [
    {
     "data": {
      "text/plain": [
       "[0.07050818010713769,\n",
       " 0.05993919212393224,\n",
       " 0.049804546112639354,\n",
       " 0.06906037353409585,\n",
       " 0.2265817286810482,\n",
       " 0.057333140292456924,\n",
       " 0.4327493846822065,\n",
       " 0.420587809468655,\n",
       " 0.36557115969306503,\n",
       " 0.09497611119154481,\n",
       " 0.08817142029824815,\n",
       " 0.07137686405096279,\n",
       " 0.20819458520341683]"
      ]
     },
     "execution_count": 148,
     "metadata": {},
     "output_type": "execute_result"
    }
   ],
   "source": [
    "#support\n",
    "supp = [(x[:,i]*y).mean() for i in range(13)]\n",
    "supp"
   ]
  },
  {
   "cell_type": "code",
   "execution_count": 149,
   "metadata": {},
   "outputs": [
    {
     "data": {
      "text/plain": [
       "[0.3667168674698795,\n",
       " 0.592274678111588,\n",
       " 0.5300462249614792,\n",
       " 0.5184782608695652,\n",
       " 0.45773618016964024,\n",
       " 0.32459016393442625,\n",
       " 0.45069360675512665,\n",
       " 0.44644229291532195,\n",
       " 0.4233735747820255,\n",
       " 0.4932330827067669,\n",
       " 0.28986197049024276,\n",
       " 0.37864823348694315,\n",
       " 0.6614535418583257]"
      ]
     },
     "execution_count": 149,
     "metadata": {},
     "output_type": "execute_result"
    }
   ],
   "source": [
    "#confidence\n",
    "conf1 = [sum(x[:,i]*y)/sum(x[:,i]) for i in range(13)]\n",
    "conf1"
   ]
  },
  {
   "cell_type": "code",
   "execution_count": 150,
   "metadata": {},
   "outputs": [
    {
     "data": {
      "text/plain": [
       "[0.48557089084065247,\n",
       " 0.4481314432989691,\n",
       " 0.45573665707893896,\n",
       " 0.45415065976281943,\n",
       " 0.4676032110091743,\n",
       " 0.4923509759099701,\n",
       " 0.7527272727272727,\n",
       " 0.7275,\n",
       " 0.711558854718982,\n",
       " 0.45544199390353235,\n",
       " 0.5382854764877236,\n",
       " 0.4822479928635147,\n",
       " 0.37143460807099093]"
      ]
     },
     "execution_count": 150,
     "metadata": {},
     "output_type": "execute_result"
    }
   ],
   "source": [
    "#confidence\n",
    "conf2 = [sum((x[:,i]==0)*y)/sum((x[:,i]==0)) for i in range(13)]\n",
    "conf2"
   ]
  },
  {
   "cell_type": "code",
   "execution_count": null,
   "metadata": {},
   "outputs": [],
   "source": []
  },
  {
   "cell_type": "code",
   "execution_count": 151,
   "metadata": {},
   "outputs": [
    {
     "data": {
      "text/plain": [
       "[True,\n",
       " True,\n",
       " True,\n",
       " True,\n",
       " False,\n",
       " False,\n",
       " False,\n",
       " False,\n",
       " False,\n",
       " False,\n",
       " False,\n",
       " False,\n",
       " True]"
      ]
     },
     "execution_count": 151,
     "metadata": {},
     "output_type": "execute_result"
    }
   ],
   "source": [
    "#x_idx = [conf1[i]>0.5 or conf2[i]>0.5 for i in range(len(conf1))]\n",
    "x_idx = [conf1[i]>0.5 for i in range(len(conf1))]\n",
    "x_idx[0] = True\n",
    "x_idx"
   ]
  },
  {
   "cell_type": "code",
   "execution_count": 152,
   "metadata": {},
   "outputs": [],
   "source": [
    "x = x[:,x_idx]"
   ]
  },
  {
   "cell_type": "code",
   "execution_count": 153,
   "metadata": {},
   "outputs": [],
   "source": [
    "nrule = x.shape[1]\n",
    "ndata = len(y)"
   ]
  },
  {
   "cell_type": "code",
   "execution_count": 154,
   "metadata": {},
   "outputs": [],
   "source": [
    "# calculate the bound with dp=all leaves except leaf l\n",
    "def bound(tree, x, y, l, lamb = LAMB):\n",
    "    return (sum(tree.get_ncc()[:l]+tree.get_ncc()[l+1:]))/len(y) + lamb*len(tree.get_prefix())\n",
    "\n",
    "# calculate the risk\n",
    "#def Risk(tree, x, y, lamb = LAMB):\n",
    "#    return 1-sum(tree.get_ncc())/len(y) + + lamb*tree.get_depth()"
   ]
  },
  {
   "cell_type": "code",
   "execution_count": 155,
   "metadata": {},
   "outputs": [
    {
     "data": {
      "text/plain": [
       "0"
      ]
     },
     "execution_count": 155,
     "metadata": {},
     "output_type": "execute_result"
    }
   ],
   "source": [
    "# z is the vector defined in algorithm 5\n",
    "z = pd.DataFrame([-1]*ndata).as_matrix()\n",
    "for i in range(ndata):\n",
    "    if z[i] == -1:\n",
    "        tag1 = np.array([True]*ndata)\n",
    "        for j in range(nrule):\n",
    "            rule_label = x[i][j]\n",
    "            #print(\"prefix:\",prefix)\n",
    "            #print(\"rule_index:\",rule_index)\n",
    "            #print(\"x:\",x)\n",
    "            tag1 = (x[:,j] == rule_label)*tag1\n",
    "            \n",
    "        y_l = y[tag1]\n",
    "        pred = int(y_l.sum()/len(y_l) > 0.5)\n",
    "        tag2 = (y_l != pred)\n",
    "        z[tag1,0] = tag2\n",
    "\n",
    "tag1.dot(z)[0]"
   ]
  },
  {
   "cell_type": "code",
   "execution_count": 156,
   "metadata": {},
   "outputs": [],
   "source": [
    "def calcul(prefix, x, y):\n",
    "    \"\"\"\n",
    "    Function for calculating the predictions, number of data captured,\n",
    "    and number of data correctly captured by the leaves.\n",
    "    \"\"\"\n",
    "    prediction = []\n",
    "    num_captured = []\n",
    "    num_captured_incorrect = []\n",
    "    B0 = [] # b0 is defined in (28)\n",
    "    for i in range(len(prefix)):\n",
    "        tag = np.array([True]*ndata)\n",
    "        for j in range(len(prefix[i])):\n",
    "            rule_index = abs(prefix[i][j])-1\n",
    "            rule_label = int(prefix[i][j]>0)\n",
    "            #print(\"prefix:\",prefix)\n",
    "            #print(\"rule_index:\",rule_index)\n",
    "            #print(\"x:\",x)\n",
    "            tag = (x[:,rule_index] == rule_label)*tag\n",
    "            \n",
    "        # the y's of these data captured by leaf i\n",
    "        y_leaf = y[tag]\n",
    "        \n",
    "        #b0 = sum([tag[k]*z[k] for k in range(ndata)])/ndata\n",
    "        b0 = tag.dot(z)[0]/ndata\n",
    "        B0.append(b0)\n",
    "        \n",
    "        num_cap = len(y_leaf)\n",
    "        num_captured.append(num_cap)\n",
    "        \n",
    "        if len(y_leaf)>0:\n",
    "            pred = int(y_leaf.sum()/len(y_leaf) > 0.5)\n",
    "            prediction.append(pred)\n",
    "            num_cap_incor = sum(y_leaf != pred)\n",
    "            num_captured_incorrect.append(num_cap_incor)\n",
    "        else:\n",
    "            prediction.append(0)\n",
    "            num_captured_incorrect.append(0)\n",
    "        \n",
    "    return prediction, num_captured, num_captured_incorrect, B0"
   ]
  },
  {
   "cell_type": "code",
   "execution_count": 157,
   "metadata": {},
   "outputs": [
    {
     "data": {
      "text/plain": [
       "[3]"
      ]
     },
     "execution_count": 157,
     "metadata": {},
     "output_type": "execute_result"
    }
   ],
   "source": [
    "[i for i in range(10) if i==3]"
   ]
  },
  {
   "cell_type": "code",
   "execution_count": 171,
   "metadata": {},
   "outputs": [],
   "source": [
    "class CacheTree:\n",
    "    \"\"\"\n",
    "    A tree data structure.\n",
    "    prefix: a 2-d tuple to record the prefixes of leaves\n",
    "    prediction: a list to record the predictions of leaves\n",
    "    num_captured: a list to record number of data captured by the leaves\n",
    "    num_captured_correct: a list to record number of data correctly captured by the leaves\n",
    "    \"\"\"\n",
    "    def __init__(self, x, y, prefix, \n",
    "                 prediction=None,\n",
    "                 num_captured=None,\n",
    "                 num_captured_incorrect=None,\n",
    "                 deadleaf = None,\n",
    "                 splitleaf = None,\n",
    "                 lbound=None,lamb=LAMB,tag = False, curiosity = None, B0 = None):\n",
    "        self.prefix = prefix\n",
    "        self.prediction = prediction\n",
    "        self.num_captured = num_captured\n",
    "        self.num_captured_incorrect = num_captured_incorrect\n",
    "        #self.split = split #which leaf to split\n",
    "        self.deadleaf = deadleaf #a list indicate which leaves will never be split (support bound)\n",
    "        self.splitleaf = splitleaf #a list indicate which leaves will be split\n",
    "        self.lbound = lbound #a list of lower bound\n",
    "        self.curiosity = curiosity\n",
    "        self.B0 = B0\n",
    "        #self.tag = tag\n",
    "        #self.depth = max([len(l) for l in self.prefix])\n",
    "        \n",
    "        ndata = len(y)\n",
    "        l = len(prefix)\n",
    "        if prediction==None:\n",
    "            self.prediction, self.num_captured, self.num_captured_incorrect, self.B0 = calcul(self.prefix, x, y)\n",
    "            self.deadleaf = [0]*l\n",
    "            self.splitleaf = [[1]*l]\n",
    "            self.lbound = [sum(self.num_captured_incorrect[:i]+self.num_captured_incorrect[i+1:])/ndata + lamb*l \n",
    "                           for i in range(l)]\n",
    "        \n",
    "        self.curiosity = 1\n",
    "        \n",
    "        ###min bound\n",
    "        #self.curiosity = min([self.lbound[i]\n",
    "        #                      for i in range(l) if self.splitleaf[0][i]==1])\n",
    "        \n",
    "        ###min curiosity\n",
    "        #self.curiosity = min([self.lbound[i]/((ndata-self.num_captured[i])/len(y)) \n",
    "        #                      for i in range(l) if self.splitleaf[0][i]==1])\n",
    "            \n",
    "    def get_prefix(self):\n",
    "        return self.prefix\n",
    "    \n",
    "    def get_pred(self):\n",
    "        return self.prediction\n",
    "    \n",
    "    def get_cap(self):\n",
    "        return self.num_captured\n",
    "    \n",
    "    def get_ncc(self):\n",
    "        return self.num_captured_incorrect\n",
    "    \n",
    "    def get_deadleaf(self):\n",
    "        return self.deadleaf\n",
    "    \n",
    "    def get_splitleaf(self):\n",
    "        return self.splitleaf\n",
    "    \n",
    "    def set_deadleaf(self,i):\n",
    "        self.deadleaf[i] = 1\n",
    "        return\n",
    "    \n",
    "    def set_not_splitleaf(self,i):\n",
    "        self.splitleaf[i] = 0\n",
    "        return\n",
    "        \n",
    "    def get_lbound(self):\n",
    "        return self.lbound\n",
    "    \n",
    "    #def get_tag(self):\n",
    "    #    return self.tag\n",
    "    \n",
    "    #def get_depth(self):\n",
    "    #    return self.depth\n",
    "    \n",
    "    def get_curiosity(self):\n",
    "        return self.curiosity\n",
    "    \n",
    "    def get_B0(self):\n",
    "        return self.B0\n",
    "    \n",
    "    def __lt__(self, other):\n",
    "        return self.curiosity<other.curiosity"
   ]
  },
  {
   "cell_type": "code",
   "execution_count": null,
   "metadata": {},
   "outputs": [],
   "source": []
  },
  {
   "cell_type": "code",
   "execution_count": 159,
   "metadata": {},
   "outputs": [],
   "source": [
    "from gmpy2 import mpz\n",
    "from gmpy2 import mpfr\n",
    "import gmpy2"
   ]
  },
  {
   "cell_type": "code",
   "execution_count": 160,
   "metadata": {},
   "outputs": [],
   "source": [
    "gmpy2.get_context().precision=100"
   ]
  },
  {
   "cell_type": "code",
   "execution_count": 161,
   "metadata": {},
   "outputs": [],
   "source": [
    "aaa=mpfr('2')\n",
    "bbb=mpfr('0.3')"
   ]
  },
  {
   "cell_type": "code",
   "execution_count": 162,
   "metadata": {},
   "outputs": [
    {
     "data": {
      "text/plain": [
       "mpfr('2.0',100)"
      ]
     },
     "execution_count": 162,
     "metadata": {},
     "output_type": "execute_result"
    }
   ],
   "source": [
    "aaa"
   ]
  },
  {
   "cell_type": "code",
   "execution_count": 163,
   "metadata": {},
   "outputs": [
    {
     "data": {
      "text/plain": [
       "mpfr('0.30000000000000000000000000000016',100)"
      ]
     },
     "execution_count": 163,
     "metadata": {},
     "output_type": "execute_result"
    }
   ],
   "source": [
    "bbb"
   ]
  },
  {
   "cell_type": "code",
   "execution_count": 164,
   "metadata": {},
   "outputs": [
    {
     "data": {
      "text/plain": [
       "mpfr('2.2999999999999999999999999999994',100)"
      ]
     },
     "execution_count": 164,
     "metadata": {},
     "output_type": "execute_result"
    }
   ],
   "source": [
    "aaa+bbb"
   ]
  },
  {
   "cell_type": "code",
   "execution_count": 165,
   "metadata": {},
   "outputs": [
    {
     "data": {
      "text/plain": [
       "mpfr('0.66666666666666666666666666666693',100)"
      ]
     },
     "execution_count": 165,
     "metadata": {},
     "output_type": "execute_result"
    }
   ],
   "source": [
    "mpz(2)/mpz(3)"
   ]
  },
  {
   "cell_type": "code",
   "execution_count": null,
   "metadata": {},
   "outputs": [],
   "source": []
  },
  {
   "cell_type": "code",
   "execution_count": null,
   "metadata": {},
   "outputs": [],
   "source": []
  },
  {
   "cell_type": "code",
   "execution_count": 166,
   "metadata": {},
   "outputs": [],
   "source": [
    "class Eliminate:\n",
    "    \"\"\"\n",
    "    A data structure to record and identify\n",
    "    whether a tree has been visited/pruned\n",
    "    \"\"\"\n",
    "    def __init__(self, elim_dict = None, \n",
    "                 eliminated = None):\n",
    "        self.elim_dict = {}\n",
    "        self.eliminated = []\n",
    "        \n",
    "    def eliminate(self, prefix):\n",
    "        self.elim_dict[tuple(sorted(prefix))] = 1\n",
    "    \n",
    "    def eliminate_children(self, dp):\n",
    "        self.eliminated.append(dp)\n",
    "        \n",
    "    def is_duplicated(self, prefix):\n",
    "        if tuple(sorted(prefix)) in self.elim_dict.keys():\n",
    "            #print(\"001 Eliminated!\")\n",
    "            return True\n",
    "        \n",
    "        return False\n",
    "        \n",
    "    def is_eliminated(self, tree):\n",
    "        prefix = tree.get_prefix()\n",
    "        for i in range(len(self.eliminated)):\n",
    "            if all([r in prefix for r in self.eliminated[i]]):\n",
    "                idx = [prefix.index(r) for r in self.eliminated[i]]\n",
    "                splitleaf_list = tree.get_splitleaf()\n",
    "                splitleaf_array = np.array(splitleaf_list)\n",
    "                if len(splitleaf_list)<=0 or splitleaf_array[:,idx].sum()<=0:\n",
    "                    #print(\"002 Eliminated!\")\n",
    "                    #print(\"prefix::\", tree.get_prefix())\n",
    "                    #print(splitleaf_list)\n",
    "                    return True\n",
    "        \n",
    "        return False\n",
    "    \n",
    "    def get_elim_dict(self):\n",
    "        return self.elim_dict"
   ]
  },
  {
   "cell_type": "code",
   "execution_count": 175,
   "metadata": {},
   "outputs": [],
   "source": [
    "def algorithm1_multi(x, y, lamb = LAMB):\n",
    "    \"\"\"\n",
    "    A brute forece implementation of Algorithm1\n",
    "    ## multiple copies of tree\n",
    "    ## mark which leaf to split\n",
    "    \"\"\"\n",
    "    \n",
    "    d_c = None\n",
    "    R_c = 1\n",
    "\n",
    "    nrule = x.shape[1]\n",
    "    ndata = len(y)\n",
    "    print(\"nrule:\", nrule)\n",
    "    print(\"ndata:\", ndata)\n",
    "\n",
    "    # initialize the queue to include all trees of just one split\n",
    "    #queue = [CacheTree(prefix = ((-r,),(r,)), x = x, y = y) for r in range(1, nrule+1)]\n",
    "\n",
    "    queue = []\n",
    "    for r in range(1, nrule+1):\n",
    "        tree0 = CacheTree(prefix = ((-r,),(r,)), x = x, y = y)\n",
    "        \"heapq.heappush(queue, (tree0.get_curiosity(),tree0))\"\n",
    "        queue.append(tree0)\n",
    "        R = tree0.get_lbound()[0]+(tree0.get_ncc()[0])/len(y)#Risk(tree,x,y,lamb)\n",
    "        if R<R_c:\n",
    "            d_c = tree0.get_prefix()\n",
    "            R_c = R\n",
    "    \n",
    "    E = Eliminate()\n",
    "\n",
    "    while (queue):\n",
    "        tree = queue.pop(0)\n",
    "        \"(curio, tree)=heapq.heappop(queue)\"\n",
    "        d = tree.get_prefix()\n",
    "        #print(\"E:::\",E.get_elim_dict())\n",
    "        if E.is_eliminated(tree) or E.is_duplicated(d):\n",
    "            continue\n",
    "        else:\n",
    "            E.eliminate(d)\n",
    "\n",
    "        #print(\"d\",d)\n",
    "        #print(tree.get_splitleaf())\n",
    "        #print(\"tree.get_lbound()\",tree.get_lbound())\n",
    "        #print(\"tree.get_ncc()\",tree.get_ncc())\n",
    "        #print(\"d split:\", tree.get_splitleaf())\n",
    "        #print(\"R\",tree.get_lbound()[0]+(tree.get_ncc()[0])/len(y))\n",
    "        #print(\"R_c\",R_c)\n",
    "        #print(tree.get_ncc())\n",
    "        #print(tree.get_cap())\n",
    "        #print(tree.get_lbound())\n",
    "        \n",
    "        for i in range(len(d)):\n",
    "            if tree.get_deadleaf()[i]==1:\n",
    "                continue\n",
    "            \n",
    "            #(Lower bound on antecedent support)\n",
    "            if tree.get_cap()[i]/ndata/2 < lamb:\n",
    "                tree.set_deadleaf(i)\n",
    "                #print(\"==============dead==============\",i)\n",
    "                continue\n",
    "            \n",
    "            spl = tree.get_splitleaf()\n",
    "            split_next = spl[1:]\n",
    "            \n",
    "            if spl[0][i]==0:\n",
    "                continue\n",
    "            \n",
    "            #print(\"splitleaf():\",spl)\n",
    "            #if len(split_next)>0:\n",
    "            #    print(\"split_next[k][:i]\",split_next[0][:i])\n",
    "            #    print(\"split_next[k][i]\",split_next[0][i])\n",
    "            #    print(\"split_next[k][i+1:]\",split_next[0][i+1:])\n",
    "            splitleaf_list = [split_next[k][:i]+split_next[k][i+1:]+split_next[k][i:i+1]*2\n",
    "                              for k in range(len(split_next))]\n",
    "            \n",
    "            d0 = d[i]\n",
    "            dp = d[:i]+d[i+1:]\n",
    "            #print(\"bound\", bound(tree,x,y,i))\n",
    "            #print(\"R_c\", R_c)\n",
    "            \n",
    "            \n",
    "            # Restrict the depth of the tree\n",
    "            MAXDEPTH = 4\n",
    "            if len(d0)>=MAXDEPTH:\n",
    "                continue\n",
    "            \n",
    "            \n",
    "            #if bound(tree,x,y,i,lamb)<R_c:\n",
    "            lb = tree.get_lbound()[i]\n",
    "            b0 = tree.get_B0()[i]\n",
    "            if lb+b0+100>=R_c or lb>=R_c:\n",
    "            #    pass#print(\"hello\")\n",
    "            #else:\n",
    "            #    pass\n",
    "            #if True:\n",
    "                #print(\"===CASE 3===\")\n",
    "                E.eliminate_children(dp)\n",
    "                for j in range(1, nrule+1):\n",
    "                    if (j not in d0)and(-j not in d0):\n",
    "                        l1 = d0+(-j,)\n",
    "                        l2 = d0+(j,)\n",
    "                        t = dp+(l1, l2)\n",
    "                        #print(\"t\",t)\n",
    "                        \n",
    "                        if E.is_duplicated(t):\n",
    "                            continue\n",
    "                        \n",
    "                        pred_l, cap_l, incorr_l, B0_l = calcul((l1,l2),x,y)\n",
    "                        loss_l1 = (incorr_l[0])/len(y)\n",
    "                        loss_l2 = (incorr_l[1])/len(y)\n",
    "                        loss_d0 = tree.get_ncc()[i]/len(y)\n",
    "                        delta = loss_l1+loss_l2-loss_d0+lamb\n",
    "                        old_lbound = tree.get_lbound()[:i]+tree.get_lbound()[i+1:]\n",
    "                        new_lbound = [b+delta for b in old_lbound]+[tree.get_lbound()[i]+loss_l2+lamb,tree.get_lbound()[i]+loss_l1+lamb]\n",
    "                        \n",
    "                        \n",
    "                        splitleaf1 = [1]*(len(t)) \n",
    "                        splitleaf2 = [0]*(len(t)-2)+[1,1] #next round split l1/l2\n",
    "                        splitleaf3 = [1]*(len(t)-2)+[0,0]\n",
    "                        \n",
    "                        splitleaf_array = np.array(splitleaf_list)\n",
    "                        \n",
    "                        #(Lower bound on accurate antecedent support)\n",
    "                        a_l = (sum(cap_l)-sum(incorr_l))/ndata - sum(cap_l)/ndata/2\n",
    "                        if a_l < lamb:\n",
    "                            #print(\"===CASE 4===\")\n",
    "                            sl = splitleaf_list+[splitleaf2]\n",
    "                            E.eliminate_children((l1,l2))\n",
    "                            ########### split l1/l2??????????????????????????????????????\n",
    "                            if len(splitleaf_list)<=0 or splitleaf_array.sum()-splitleaf_array[:,i].sum()<=0:\n",
    "                                sl = splitleaf_list+[splitleaf2]+[splitleaf3]\n",
    "                        else:\n",
    "                            if len(splitleaf_list)>0 and splitleaf_array.sum()-splitleaf_array[:,i].sum()>0:\n",
    "                                sl = splitleaf_list+[splitleaf1]\n",
    "                            else:\n",
    "                                sl = splitleaf_list+[splitleaf3]\n",
    "                        \n",
    "                        tree_new = CacheTree(x = x, y = y, prefix = t,\n",
    "                                             prediction = tree.get_pred()[:i]+tree.get_pred()[i+1:]+pred_l,\n",
    "                                             num_captured = tree.get_cap()[:i]+tree.get_cap()[i+1:]+cap_l,\n",
    "                                             num_captured_incorrect = tree.get_ncc()[:i]+tree.get_ncc()[i+1:]+incorr_l,\n",
    "                                             deadleaf = tree.get_deadleaf()[:i]+tree.get_deadleaf()[i+1:]+[0,0],\n",
    "                                             splitleaf = sl,\n",
    "                                             lbound = new_lbound,\n",
    "                                             B0 = tree.get_B0()[:i]+tree.get_B0()[i+1:]+B0_l\n",
    "                                            )\n",
    "                        #print(\"tree_new:\",tree_new.get_prefix())\n",
    "                        #print(\"tree_new:\",tree_new.get_splitleaf())\n",
    "                        \n",
    "                        if (not E.is_eliminated(tree_new)):\n",
    "                            #pred_l, cap_l, corr_l = calcul((l1,l2),x,y)\n",
    "                            queue.append(tree_new)\n",
    "                            \"heapq.heappush(queue, (tree_new.get_curiosity(),tree_new))\"\n",
    "                            R = tree_new.get_lbound()[0]+(tree_new.get_ncc()[0])/len(y)#Risk(tree,x,y,lamb)\n",
    "                            if R<R_c:\n",
    "                                d_c = t\n",
    "                                R_c = R\n",
    "                            #print(\"push::\", t)\n",
    "                            #print(\"222:\",tree_new.get_splitleaf())\n",
    "                #print(\"Children Elim\")\n",
    "                        \n",
    "            else:\n",
    "                \n",
    "                \n",
    "                #print(\"===CASE 1===\")\n",
    "                for j in range(1, nrule+1):\n",
    "                    if (j not in d0)and(-j not in d0):\n",
    "                        l1 = d0+(-j,)\n",
    "                        l2 = d0+(j,)\n",
    "                        t = dp+(l1, l2)\n",
    "                        #print(\"t\",t)\n",
    "                        \n",
    "                        if E.is_duplicated(t):\n",
    "                            continue\n",
    "                        \n",
    "                        pred_l, cap_l, incorr_l, B0_l = calcul((l1,l2),x,y)\n",
    "                        loss_l1 = (incorr_l[0])/len(y)\n",
    "                        loss_l2 = (incorr_l[1])/len(y)\n",
    "                        loss_d0 = tree.get_ncc()[i]/len(y)\n",
    "                        delta = loss_l1+loss_l2-loss_d0+lamb\n",
    "                        old_lbound = tree.get_lbound()[:i]+tree.get_lbound()[i+1:]\n",
    "                        new_lbound = [b+delta for b in old_lbound]+[tree.get_lbound()[i]+loss_l2+lamb,tree.get_lbound()[i]+loss_l1+lamb]\n",
    "                        \n",
    "                        splitleaf = [1]*len(t)\n",
    "                        \n",
    "                        #(Lower bound on accurate antecedent support)\n",
    "                        a_l = (sum(cap_l)-sum(incorr_l))/ndata - sum(cap_l)/ndata/2\n",
    "                        if a_l < lamb:\n",
    "                            #print(\"===CASE 2===\")\n",
    "                            splitleaf = [0]*(len(t)-2)+[1,1] #next round split l1/l2\n",
    "                            E.eliminate_children((l1,l2))\n",
    "                            ########### split l1/l2??????????????????????????????????????\n",
    "                        \n",
    "                        #if tree.get_tag()==True:\n",
    "                        #    coma = [co==0 for co in tree.get_comaleaf()]\n",
    "                        #    comaleaf = coma[:i]+coma[i+1:]+[1,1]\n",
    "                        \n",
    "                        sl = splitleaf_list+[splitleaf]\n",
    "                        #print(\"here\", sl)\n",
    "                        tree_new = CacheTree(x = x, y = y, prefix = t,\n",
    "                                             prediction = tree.get_pred()[:i]+tree.get_pred()[i+1:]+pred_l,\n",
    "                                             num_captured = tree.get_cap()[:i]+tree.get_cap()[i+1:]+cap_l,\n",
    "                                             num_captured_incorrect = tree.get_ncc()[:i]+tree.get_ncc()[i+1:]+incorr_l,\n",
    "                                             deadleaf = tree.get_deadleaf()[:i]+tree.get_deadleaf()[i+1:]+[0,0],\n",
    "                                             splitleaf = sl,\n",
    "                                             lbound = new_lbound,\n",
    "                                             B0 = tree.get_B0()[:i]+tree.get_B0()[i+1:]+B0_l\n",
    "                                            )\n",
    "                        #print(\"tree_new:\",tree_new.get_prefix())\n",
    "                        #print(\"tree_new:\",tree_new.get_splitleaf())\n",
    "                        if (not E.is_eliminated(tree_new)):\n",
    "                            #pred_l, cap_l, corr_l = calcul((l1,l2),x,y)\n",
    "                            queue.append(tree_new)\n",
    "                            \"heapq.heappush(queue, (tree_new.get_curiosity(),tree_new))\"\n",
    "                            R = tree_new.get_lbound()[0]+(tree_new.get_ncc()[0])/len(y)#Risk(tree,x,y,lamb)\n",
    "                            if R<R_c:\n",
    "                                d_c = t\n",
    "                                R_c = R\n",
    "                            #print(\"push::\", t)\n",
    "                            #print(\"111\",tree_new.get_splitleaf())\n",
    "\n",
    "    print(\"d_c\", d_c)\n",
    "    print(\"R_c\", R_c)"
   ]
  },
  {
   "cell_type": "code",
   "execution_count": null,
   "metadata": {},
   "outputs": [],
   "source": []
  },
  {
   "cell_type": "markdown",
   "metadata": {},
   "source": [
    "#### for 3 rules, 25 data, lambda = 0.04\n",
    "algorithm  algorithm1  algorithm1_2splits  algorithm1_nobound\n",
    "time     20.7ms    51.9ms          217ms"
   ]
  },
  {
   "cell_type": "code",
   "execution_count": 168,
   "metadata": {},
   "outputs": [],
   "source": [
    "rule_idx = sample(range(13),13)"
   ]
  },
  {
   "cell_type": "code",
   "execution_count": 177,
   "metadata": {
    "scrolled": true
   },
   "outputs": [
    {
     "name": "stdout",
     "output_type": "stream",
     "text": [
      "nrule: 4\n",
      "ndata: 6907\n",
      "d_c ((1,), (-1, -4), (-1, 4))\n",
      "R_c 0.3764601129289127\n",
      "CPU times: user 42.9 s, sys: 16 ms, total: 42.9 s\n",
      "Wall time: 43 s\n"
     ]
    }
   ],
   "source": [
    "%%time\n",
    "# algorithm1_2splits, 4 rules, all data, lambda = 0.0025############\n",
    "\n",
    "algorithm1_multi(x[:,1:],y)"
   ]
  },
  {
   "cell_type": "code",
   "execution_count": 176,
   "metadata": {},
   "outputs": [
    {
     "name": "stdout",
     "output_type": "stream",
     "text": [
      "nrule: 3\n",
      "ndata: 6907\n",
      "d_c ((-3,), (3,))\n",
      "R_c 0.3810829593166353\n",
      "CPU times: user 584 ms, sys: 4 ms, total: 588 ms\n",
      "Wall time: 586 ms\n"
     ]
    }
   ],
   "source": [
    "%%time\n",
    "# algorithm1_2splits, 3 rules, all data, lambda = 0.0025############\n",
    "\n",
    "algorithm1_multi(x[:,2:],y)"
   ]
  },
  {
   "cell_type": "code",
   "execution_count": null,
   "metadata": {
    "scrolled": true
   },
   "outputs": [
    {
     "name": "stdout",
     "output_type": "stream",
     "text": [
      "nrule: 5\n",
      "ndata: 6907\n"
     ]
    }
   ],
   "source": [
    "%%time\n",
    "# algorithm1_2splits, 5 rules, all data, lambda = 0.04\n",
    "\n",
    "algorithm1_multi(x,y)"
   ]
  },
  {
   "cell_type": "code",
   "execution_count": null,
   "metadata": {},
   "outputs": [],
   "source": []
  },
  {
   "cell_type": "code",
   "execution_count": null,
   "metadata": {},
   "outputs": [],
   "source": []
  },
  {
   "cell_type": "code",
   "execution_count": null,
   "metadata": {},
   "outputs": [],
   "source": []
  }
 ],
 "metadata": {
  "kernelspec": {
   "display_name": "Python 3",
   "language": "python",
   "name": "python3"
  },
  "language_info": {
   "codemirror_mode": {
    "name": "ipython",
    "version": 3
   },
   "file_extension": ".py",
   "mimetype": "text/x-python",
   "name": "python",
   "nbconvert_exporter": "python",
   "pygments_lexer": "ipython3",
   "version": "3.6.5"
  }
 },
 "nbformat": 4,
 "nbformat_minor": 2
}
