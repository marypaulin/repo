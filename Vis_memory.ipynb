{
 "cells": [
  {
   "cell_type": "code",
   "execution_count": 22,
   "metadata": {},
   "outputs": [],
   "source": [
    "import pandas as pd\n",
    "import numpy as np\n",
    "import matplotlib.pyplot as plt\n",
    "import matplotlib.lines as mlines\n",
    "import matplotlib.patches as mpatches"
   ]
  },
  {
   "cell_type": "code",
   "execution_count": 24,
   "metadata": {},
   "outputs": [
    {
     "data": {
      "text/plain": [
       "[<matplotlib.lines.Line2D at 0x11aea2630>]"
      ]
     },
     "execution_count": 24,
     "metadata": {},
     "output_type": "execute_result"
    },
    {
     "data": {
      "image/png": "[encoded data removed]",
      "text/plain": [
       "<Figure size 576x432 with 1 Axes>"
      ]
     },
     "metadata": {},
     "output_type": "display_data"
    }
   ],
   "source": [
    "curiosity_cold = pd.DataFrame(pd.read_csv('./memory/mprofile_cold_curiosity.dat',delimiter=\" \",header=None))\n",
    "curiosity_warm = pd.DataFrame(pd.read_csv('./memory/mprofile_warm_curiosity.dat',delimiter=\" \",header=None))\n",
    "\n",
    "curiosity_cold[2] = curiosity_cold[2]-min(curiosity_cold[2])\n",
    "curiosity_warm[2] = curiosity_warm[2]-min(curiosity_warm[2])\n",
    "\n",
    "plt.figure(num=None, figsize=(8, 6), facecolor='w', edgecolor='k')\n",
    "\n",
    "ax = plt.axes()\n",
    "\n",
    "ax.plot(curiosity_cold[2], curiosity_cold[1],\n",
    "        color = 'blue', label='OSDT-Cold')\n",
    "ax.plot(curiosity_warm[2], curiosity_warm[1],\n",
    "        color = 'orange', label='OSDT-Warm')"
   ]
  },
  {
   "cell_type": "code",
   "execution_count": 15,
   "metadata": {},
   "outputs": [
    {
     "data": {
      "text/plain": [
       "0       0.0000\n",
       "1       0.1004\n",
       "2       0.2007\n",
       "3       0.3010\n",
       "4       0.4013\n",
       "5       0.5015\n",
       "6       0.6018\n",
       "7       0.7020\n",
       "8       0.8022\n",
       "9       0.9025\n",
       "10      1.0029\n",
       "11      1.1031\n",
       "12      1.2033\n",
       "13      1.3036\n",
       "14      1.4039\n",
       "15      1.5041\n",
       "16      1.6044\n",
       "17      1.7046\n",
       "18      1.8048\n",
       "19      1.9051\n",
       "20      2.0053\n",
       "21      2.1055\n",
       "22      2.2057\n",
       "23      2.3059\n",
       "24      2.4062\n",
       "25      2.5064\n",
       "26      2.6067\n",
       "27      2.7069\n",
       "28      2.8071\n",
       "29      2.9074\n",
       "        ...   \n",
       "933    93.4708\n",
       "934    93.5710\n",
       "935    93.6711\n",
       "936    93.7713\n",
       "937    93.8714\n",
       "938    93.9716\n",
       "939    94.0719\n",
       "940    94.1721\n",
       "941    94.2724\n",
       "942    94.3728\n",
       "943    94.4730\n",
       "944    94.5733\n",
       "945    94.6736\n",
       "946    94.7738\n",
       "947    94.8741\n",
       "948    94.9743\n",
       "949    95.0745\n",
       "950    95.1747\n",
       "951    95.2749\n",
       "952    95.3751\n",
       "953    95.4753\n",
       "954    95.5754\n",
       "955    95.6755\n",
       "956    95.7756\n",
       "957    95.8759\n",
       "958    95.9761\n",
       "959    96.0763\n",
       "960    96.1765\n",
       "961    96.2768\n",
       "962    96.3772\n",
       "Name: 2, Length: 963, dtype: float64"
      ]
     },
     "execution_count": 15,
     "metadata": {},
     "output_type": "execute_result"
    }
   ],
   "source": []
  },
  {
   "cell_type": "code",
   "execution_count": null,
   "metadata": {},
   "outputs": [],
   "source": []
  }
 ],
 "metadata": {
  "kernelspec": {
   "display_name": "Python 3",
   "language": "python",
   "name": "python3"
  },
  "language_info": {
   "codemirror_mode": {
    "name": "ipython",
    "version": 3
   },
   "file_extension": ".py",
   "mimetype": "text/x-python",
   "name": "python",
   "nbconvert_exporter": "python",
   "pygments_lexer": "ipython3",
   "version": "3.7.0"
  }
 },
 "nbformat": 4,
 "nbformat_minor": 2
}
