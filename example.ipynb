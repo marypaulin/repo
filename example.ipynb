{
 "cells": [
  {
   "cell_type": "code",
   "execution_count": null,
   "metadata": {},
   "outputs": [],
   "source": [
    "# All dependencies of this notebook\n",
    "\n",
    "# third-party imports\n",
    "import math\n",
    "import pandas as pd\n",
    "import numpy as np\n",
    "import matplotlib.pyplot as plt\n",
    "from sklearn.tree import DecisionTreeClassifier\n",
    "\n",
    "# local imports\n",
    "from lib.model import OSDT\n",
    "from lib.model_selection import train_cross_validate\n",
    "from lib.data_processing import read_dataset\n",
    "\n",
    "# Using COMPAS as an example\n",
    "dataset = read_dataset('data/preprocessed/compas-binary.csv') \n",
    "(n, _m) = dataset.shape\n",
    "X = dataset.values[:,:-1]\n",
    "y = dataset.values[:,-1]\n",
    "\n",
    "hyperparameters = {\n",
    "    'regularizer': 0.005,\n",
    "    'compress': True\n",
    "}\n",
    "model = OSDT(**hyperparameters)\n",
    "model.fit(X, y)\n",
    "model.predict(X)\n",
    "\n",
    "X.values[:, 0]"
   ]
  },
  {
   "cell_type": "code",
   "execution_count": 6,
   "metadata": {},
   "outputs": [
    {
     "name": "stdout",
     "output_type": "stream",
     "text": [
      "(6907, 13)\n",
      "[[0 0 0 ... 0 0 0]\n",
      " [0 0 0 ... 0 0 0]\n",
      " [0 0 1 ... 0 0 1]\n",
      " ...\n",
      " [0 0 0 ... 0 0 0]\n",
      " [1 0 0 ... 0 1 0]\n",
      " [1 0 1 ... 0 1 0]]\n",
      "[0 1 1 ... 0 0 1]\n",
      "Row Compression Factor: 56.154\n",
      "Negative Gini Reductions: (-0.004387663323232538, -0.0037797971731732827, -0.004810643384345337, -0.00654485726922871, -0.008186064863927589, -0.006974916342042448, -0.008619515986864112, -0.01958141172221689, -0.026124397059193227, -0.0032836372841372197, -0.000444101436871569, -0.03628271947957118)\n",
      "Negative Gini Reductions Index: (11, 8, 7, 6, 4, 5, 3, 2, 0, 1, 9, 10)\n",
      "Optimal Tree:\n",
      "(_,_,_,0,_,_,_,_,_,_,_,0) => predict 0, risk contribution 0.12878746199507746\n",
      "(_,_,_,1,_,_,_,0,_,_,_,0) => predict 1, risk contribution 0.022518459533806285\n",
      "(_,_,_,1,_,_,_,1,_,_,0,0) => predict 0, risk contribution 0.0708751990734038\n",
      "(_,_,_,1,_,_,_,1,_,_,1,0) => predict 1, risk contribution 0.022228898219197917\n",
      "(_,_,_,_,_,_,_,_,_,_,_,1) => predict 1, risk contribution 0.11155856377587954\n",
      "Optimal Risk: 0.35596858259736497\n",
      "runtime = 11.345 seconds\n"
     ]
    }
   ],
   "source": [
    "import numpy as np\n",
    "import time\n",
    "# Test out the cluster library\n",
    "from lib.data_processing import read_dataset\n",
    "from lib.osdt_definition import OSDT\n",
    "\n",
    "dataset = read_dataset('data/preprocessed/compas-binary.csv') \n",
    "(n, m) = dataset.shape\n",
    "\n",
    "n = n\n",
    "X = dataset.values[0:n,0:m-1]\n",
    "y = dataset.values[0:n,-1]\n",
    "lamb = 0.005\n",
    "\n",
    "print((n, m))\n",
    "print(X)\n",
    "print(y)\n",
    "\n",
    "start = time.time()\n",
    "\n",
    "problem = OSDT(X, y, lamb)\n",
    "model = problem.solve(clients=1, servers=1)\n",
    "\n",
    "# y_hat = np.array(list(map(model.predict, (X[i,0:m] for i in range(n)))))\n",
    "# print('y = {}'.format(''.join(map(str, y))))\n",
    "# print('y_hat = {}'.format(''.join(map(str, y_hat))))\n",
    "\n",
    "finish = time.time()\n",
    "print('runtime = {} seconds'.format(round(finish - start, 3)))"
   ]
  },
  {
   "cell_type": "code",
   "execution_count": null,
   "metadata": {},
   "outputs": [],
   "source": [
    "from lib.similarity_index import SimilarityIndex\n",
    "import lib.vector as vect\n",
    "index = SimilarityIndex(3, 1, 2)\n",
    "a = vect.vectorize([0, 0, 0])\n",
    "b = vect.vectorize([1, 0, 0])\n",
    "c = vect.vectorize([0, 1, 0])\n",
    "d = vect.vectorize([0, 0, 1])\n",
    "print(a, b, c, d)\n",
    "print(str(index))\n",
    "# index.put(a)\n",
    "index.put(b)\n",
    "index.put(c)\n",
    "index.put(d)\n",
    "print(str(index))\n",
    "print(index.neighbours(a))"
   ]
  },
  {
   "cell_type": "code",
   "execution_count": null,
   "metadata": {},
   "outputs": [],
   "source": []
  }
 ],
 "metadata": {
  "kernelspec": {
   "display_name": "Python 3",
   "language": "python",
   "name": "python3"
  },
  "language_info": {
   "codemirror_mode": {
    "name": "ipython",
    "version": 3
   },
   "file_extension": ".py",
   "mimetype": "text/x-python",
   "name": "python",
   "nbconvert_exporter": "python",
   "pygments_lexer": "ipython3",
   "version": "3.6.4"
  }
 },
 "nbformat": 4,
 "nbformat_minor": 2
}
