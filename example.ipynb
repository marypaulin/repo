{
 "cells": [
  {
   "cell_type": "code",
   "execution_count": null,
   "metadata": {},
   "outputs": [],
   "source": [
    "# All dependencies of this notebook\n",
    "\n",
    "# third-party imports\n",
    "import math\n",
    "import pandas as pd\n",
    "import numpy as np\n",
    "import matplotlib.pyplot as plt\n",
    "from sklearn.tree import DecisionTreeClassifier\n",
    "\n",
    "# local imports\n",
    "from lib.model import OSDT\n",
    "from lib.model_selection import train_cross_validate\n",
    "from lib.data_processing import read_dataset\n",
    "\n",
    "# Using COMPAS as an example\n",
    "dataset = read_dataset('data/preprocessed/compas-binary.csv') \n",
    "(n, _m) = dataset.shape\n",
    "X = dataset.values[:,:-1]\n",
    "y = dataset.values[:,-1]\n",
    "\n",
    "hyperparameters = {\n",
    "    'regularizer': 0.005,\n",
    "    'compress': True\n",
    "}\n",
    "model = OSDT(**hyperparameters)\n",
    "model.fit(X, y)\n",
    "model.predict(X)\n",
    "\n",
    "X.values[:, 0]"
   ]
  },
  {
   "cell_type": "code",
   "execution_count": 6,
   "metadata": {},
   "outputs": [
    {
     "name": "stdout",
     "output_type": "stream",
     "text": [
      "\n",
      "Running OSDT COMPAS consistency test\n",
      "Worker 1 Done\n",
      "Server 0 Done\n",
      "Worker 0 Done\n",
      "Training Time = 120.608 seconds\n",
      "Optimal Model:\n",
      " (_,_,0,_,0,_,_,0,_,_,0) => predict 0, risk contribution 0.01091715976331361\n",
      "(0,_,1,_,0,0,_,0,_,_,0) => predict 0, risk contribution 0.005\n",
      "(1,_,1,_,0,0,_,0,_,_,0) => predict 1, risk contribution 0.005\n",
      "(_,_,1,_,0,1,_,0,_,_,0) => predict 1, risk contribution 0.005\n",
      "(0,_,_,_,0,_,_,1,_,_,0) => predict 1, risk contribution 0.005\n",
      "(1,_,0,_,0,_,_,1,_,_,0) => predict 1, risk contribution 0.005\n",
      "(1,_,1,_,0,_,_,1,_,_,0) => predict 0, risk contribution 0.005\n",
      "(0,_,0,_,0,0,_,0,_,_,1) => predict 0, risk contribution 0.005\n",
      "(0,_,0,_,0,0,_,1,_,_,1) => predict 1, risk contribution 0.005\n",
      "(1,_,0,_,0,0,_,0,_,_,1) => predict 1, risk contribution 0.005\n",
      "(1,_,0,_,0,0,_,1,_,_,1) => predict 0, risk contribution 0.005\n",
      "(0,_,0,_,0,1,_,0,_,_,1) => predict 1, risk contribution 0.005\n",
      "(0,_,0,_,0,1,_,1,_,_,1) => predict 0, risk contribution 0.005\n",
      "(1,_,0,_,0,1,_,_,_,_,1) => predict 0, risk contribution 0.005\n",
      "(_,_,1,_,0,_,_,_,0,_,1) => predict 0, risk contribution 0.005\n",
      "(_,_,1,_,0,_,_,_,1,_,1) => predict 1, risk contribution 0.005\n",
      "(0,_,0,_,1,0,_,0,_,_,0) => predict 0, risk contribution 0.005\n",
      "(0,_,1,_,1,0,_,0,_,_,0) => predict 1, risk contribution 0.005\n",
      "(1,_,_,_,1,0,_,0,_,_,0) => predict 1, risk contribution 0.005\n",
      "(0,_,0,_,1,0,_,0,_,_,1) => predict 1, risk contribution 0.005\n",
      "(0,_,1,_,1,0,_,0,_,_,1) => predict 0, risk contribution 0.005\n",
      "(1,_,_,_,1,0,_,0,_,_,1) => predict 0, risk contribution 0.005\n",
      "(0,_,0,_,1,1,_,0,_,_,0) => predict 1, risk contribution 0.005\n",
      "(0,_,1,_,1,1,_,0,_,_,0) => predict 0, risk contribution 0.005\n",
      "(1,_,_,_,1,1,_,0,_,_,0) => predict 0, risk contribution 0.005\n",
      "(_,_,_,_,1,1,_,0,_,_,1) => predict 0, risk contribution 0.005\n",
      "(_,_,_,_,1,_,_,1,_,_,_) => predict 0, risk contribution 0.016834319526627218\n",
      "Optimal Risk:\n",
      " 0.15275147928994082\n"
     ]
    }
   ],
   "source": [
    "import numpy as np\n",
    "from time import time\n",
    "# Test out the cluster library\n",
    "from lib.data_processing import read_dataset\n",
    "from lib.osdt_definition import OSDT\n",
    "\n",
    "dataset = read_dataset('data/preprocessed/monk2-train.csv', sep=';')\n",
    "\n",
    "X = dataset.values[:, :-1]\n",
    "y = dataset.values[:, -1]\n",
    "lamb = 0.005\n",
    "\n",
    "start = time()\n",
    "problem = OSDT(X, y, lamb)\n",
    "print(\"\\nRunning OSDT COMPAS consistency test\")\n",
    "model = problem.solve(clients=2, servers=1, visualize=True)\n",
    "finish = time()\n",
    "print('Training Time = {} seconds'.format(round(finish - start, 3)))\n",
    "\n",
    "print('Optimal Model:\\n', model.visualization)\n",
    "print('Optimal Risk:\\n', model.risk)"
   ]
  },
  {
   "cell_type": "code",
   "execution_count": 1,
   "metadata": {},
   "outputs": [
    {
     "name": "stdout",
     "output_type": "stream",
     "text": [
      "\n",
      "Running OSDT split consistency test\n",
      "Worker 1 Done\n",
      "Server 0 Done\n",
      "Worker 0 Done\n",
      "Training Time = 0.1 seconds\n",
      "(_,_,_,_,_,_,_,_,0,_,_,_) => predict 0, risk contribution 0.1611111111111111\n",
      "(_,_,_,_,_,_,_,_,1,_,_,_) => predict 1, risk contribution 0.1611111111111111\n",
      "0.3222222222222222\n"
     ]
    }
   ],
   "source": [
    "import numpy as np\n",
    "from time import time\n",
    "# Test out the cluster library\n",
    "from lib.data_processing import read_dataset\n",
    "from lib.osdt_definition import OSDT\n",
    "\n",
    "dataset = read_dataset('tests/fixtures/split.csv', sep=';')\n",
    "\n",
    "X = dataset.values[:, :-1]\n",
    "y = dataset.values[:, -1]\n",
    "lamb = 0.05\n",
    "\n",
    "start = time()\n",
    "problem = OSDT(X, y, lamb)\n",
    "print(\"\\nRunning OSDT split consistency test\")\n",
    "model = problem.solve(clients=2, servers=1, visualize=True)\n",
    "finish = time()\n",
    "print('Training Time = {} seconds'.format(round(finish - start, 3)))\n",
    "print(model.visualization)\n",
    "print(model.risk)"
   ]
  },
  {
   "cell_type": "code",
   "execution_count": null,
   "metadata": {},
   "outputs": [],
   "source": []
  }
 ],
 "metadata": {
  "kernelspec": {
   "display_name": "Python 3",
   "language": "python",
   "name": "python3"
  },
  "language_info": {
   "codemirror_mode": {
    "name": "ipython",
    "version": 3
   },
   "file_extension": ".py",
   "mimetype": "text/x-python",
   "name": "python",
   "nbconvert_exporter": "python",
   "pygments_lexer": "ipython3",
   "version": "3.6.4"
  }
 },
 "nbformat": 4,
 "nbformat_minor": 2
}
