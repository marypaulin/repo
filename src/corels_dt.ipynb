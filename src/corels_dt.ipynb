{
 "cells": [
  {
   "cell_type": "code",
   "execution_count": 20,
   "metadata": {},
   "outputs": [],
   "source": [
    "%load_ext autoreload\n",
    "%autoreload 1"
   ]
  },
  {
   "cell_type": "code",
   "execution_count": 1,
   "metadata": {},
   "outputs": [],
   "source": [
    "import pandas as pd\n",
    "import numpy as np\n",
    "import heapq\n",
    "import math\n",
    "import time\n",
    "\n",
    "import gmpy2\n",
    "from gmpy2 import mpz\n",
    "import re\n",
    "\n",
    "from sklearn import tree\n",
    "\n",
    "import cProfile"
   ]
  },
  {
   "cell_type": "code",
   "execution_count": 2,
   "metadata": {},
   "outputs": [],
   "source": [
    "# Read in the dataset\n",
    "df = pd.DataFrame(pd.read_csv('../data/compas-binary.csv'))"
   ]
  },
  {
   "cell_type": "code",
   "execution_count": 3,
   "metadata": {},
   "outputs": [],
   "source": [
    "x_all = df.as_matrix()[:,:13]\n",
    "\n",
    "y = df.as_matrix()[:,13]"
   ]
  },
  {
   "cell_type": "code",
   "execution_count": 4,
   "metadata": {},
   "outputs": [
    {
     "data": {
      "text/plain": [
       "[0.07050818010713769,\n",
       " 0.05993919212393224,\n",
       " 0.049804546112639354,\n",
       " 0.06906037353409585,\n",
       " 0.2265817286810482,\n",
       " 0.057333140292456924,\n",
       " 0.4327493846822065,\n",
       " 0.420587809468655,\n",
       " 0.36557115969306503,\n",
       " 0.09497611119154481,\n",
       " 0.08817142029824815,\n",
       " 0.07137686405096279,\n",
       " 0.20819458520341683]"
      ]
     },
     "execution_count": 4,
     "metadata": {},
     "output_type": "execute_result"
    }
   ],
   "source": [
    "# Association Rule Mining (Only one feature)\n",
    "\n",
    "#support\n",
    "supp1 = [(x_all[:,i]*y).mean() for i in range(13)]\n",
    "supp1"
   ]
  },
  {
   "cell_type": "code",
   "execution_count": 5,
   "metadata": {},
   "outputs": [
    {
     "data": {
      "text/plain": [
       "[0.3922108006370349,\n",
       " 0.40277978862024033,\n",
       " 0.4129144346315332,\n",
       " 0.3936586072100767,\n",
       " 0.23613725206312436,\n",
       " 0.40538584045171566,\n",
       " 0.02996959606196612,\n",
       " 0.04213117127551759,\n",
       " 0.09714782105110757,\n",
       " 0.36774286955262775,\n",
       " 0.3745475604459244,\n",
       " 0.3913421166932098,\n",
       " 0.25452439554075573]"
      ]
     },
     "execution_count": 5,
     "metadata": {},
     "output_type": "execute_result"
    }
   ],
   "source": [
    "#support\n",
    "supp0 = [((1-x_all[:,i])*y).mean() for i in range(13)]\n",
    "supp0"
   ]
  },
  {
   "cell_type": "code",
   "execution_count": 6,
   "metadata": {},
   "outputs": [
    {
     "data": {
      "text/plain": [
       "[0.3667168674698795,\n",
       " 0.592274678111588,\n",
       " 0.5300462249614792,\n",
       " 0.5184782608695652,\n",
       " 0.45773618016964024,\n",
       " 0.32459016393442625,\n",
       " 0.45069360675512665,\n",
       " 0.44644229291532195,\n",
       " 0.4233735747820255,\n",
       " 0.4932330827067669,\n",
       " 0.28986197049024276,\n",
       " 0.37864823348694315,\n",
       " 0.6614535418583257]"
      ]
     },
     "execution_count": 6,
     "metadata": {},
     "output_type": "execute_result"
    }
   ],
   "source": [
    "#confidence\n",
    "conf1 = [sum(x_all[:,i]*y)/sum(x_all[:,i]) for i in range(13)]\n",
    "conf1"
   ]
  },
  {
   "cell_type": "code",
   "execution_count": 7,
   "metadata": {},
   "outputs": [
    {
     "data": {
      "text/plain": [
       "[0.48557089084065247,\n",
       " 0.4481314432989691,\n",
       " 0.45573665707893896,\n",
       " 0.45415065976281943,\n",
       " 0.4676032110091743,\n",
       " 0.4923509759099701,\n",
       " 0.7527272727272727,\n",
       " 0.7275,\n",
       " 0.711558854718982,\n",
       " 0.45544199390353235,\n",
       " 0.5382854764877236,\n",
       " 0.4822479928635147,\n",
       " 0.37143460807099093]"
      ]
     },
     "execution_count": 7,
     "metadata": {},
     "output_type": "execute_result"
    }
   ],
   "source": [
    "#confidence\n",
    "conf0 = [sum((x_all[:,i]==0)*y)/sum((x_all[:,i]==0)) for i in range(13)]\n",
    "conf0"
   ]
  },
  {
   "cell_type": "code",
   "execution_count": 8,
   "metadata": {},
   "outputs": [
    {
     "data": {
      "text/plain": [
       "[False,\n",
       " True,\n",
       " True,\n",
       " True,\n",
       " False,\n",
       " False,\n",
       " True,\n",
       " True,\n",
       " True,\n",
       " False,\n",
       " True,\n",
       " False,\n",
       " True]"
      ]
     },
     "execution_count": 8,
     "metadata": {},
     "output_type": "execute_result"
    }
   ],
   "source": [
    "x_idx_mine = [(conf1[i]>=0.5) or (conf0[i]>=0.5) for i in range(13)]\n",
    "x_idx_mine"
   ]
  },
  {
   "cell_type": "code",
   "execution_count": 9,
   "metadata": {},
   "outputs": [
    {
     "data": {
      "text/plain": [
       "[False,\n",
       " True,\n",
       " True,\n",
       " True,\n",
       " False,\n",
       " False,\n",
       " True,\n",
       " True,\n",
       " True,\n",
       " True,\n",
       " True,\n",
       " False,\n",
       " True]"
      ]
     },
     "execution_count": 9,
     "metadata": {},
     "output_type": "execute_result"
    }
   ],
   "source": [
    "x_idx_mine[9]=True\n",
    "x_idx_mine\n",
    "x_mine = x_all[:,x_idx_mine]\n",
    "x_idx_mine"
   ]
  },
  {
   "cell_type": "code",
   "execution_count": 10,
   "metadata": {},
   "outputs": [
    {
     "data": {
      "text/plain": [
       "array([[0, 0, 0, 0, 0],\n",
       "       [0, 0, 0, 0, 0],\n",
       "       [0, 0, 1, 0, 1],\n",
       "       ...,\n",
       "       [0, 0, 0, 0, 0],\n",
       "       [1, 0, 0, 1, 0],\n",
       "       [1, 0, 1, 1, 0]])"
      ]
     },
     "execution_count": 10,
     "metadata": {},
     "output_type": "execute_result"
    }
   ],
   "source": [
    "#manaually select out 5 features, accoring to CORELS paper when lambda=0.01\n",
    "## sex:Female, age:18-20,age:21-22, juvenile-crimes:=0, priors:>3\n",
    "##x_idx = [0,1,2,8,12]\n",
    "\n",
    "# sex:Female, age:18-20,age:21-22, priors:2-3, priors:>3\n",
    "x_idx = [0,1,2,9,12]\n",
    "x = x_all[:,x_idx]\n",
    "x"
   ]
  },
  {
   "cell_type": "code",
   "execution_count": 11,
   "metadata": {},
   "outputs": [
    {
     "data": {
      "text/plain": [
       "array([[0, 0, 0, 1, 0, 0],\n",
       "       [0, 0, 0, 1, 0, 0],\n",
       "       [0, 0, 1, 0, 0, 1],\n",
       "       ...,\n",
       "       [0, 0, 0, 1, 0, 0],\n",
       "       [1, 0, 0, 1, 1, 0],\n",
       "       [1, 0, 1, 1, 1, 0]])"
      ]
     },
     "execution_count": 11,
     "metadata": {},
     "output_type": "execute_result"
    }
   ],
   "source": [
    "#manaually select out 6 features, accoring to CORELS paper when lambda=0.01\n",
    "# sex:Female, age:18-20,age:21-22, juvenile-crimes:=0, priors:2-3, priors:>3\n",
    "x_idx6 = [0,1,2,8,9,12]\n",
    "x6 = x_all[:,x_idx6]\n",
    "x6"
   ]
  },
  {
   "cell_type": "code",
   "execution_count": 12,
   "metadata": {},
   "outputs": [],
   "source": [
    "nrule = x.shape[1]\n",
    "ndata = len(y)"
   ]
  },
  {
   "cell_type": "code",
   "execution_count": 13,
   "metadata": {},
   "outputs": [],
   "source": [
    "clf = tree.DecisionTreeClassifier()\n",
    "clf = clf.fit(x, y)"
   ]
  },
  {
   "cell_type": "code",
   "execution_count": 14,
   "metadata": {},
   "outputs": [
    {
     "data": {
      "text/plain": [
       "0.3520089764007529"
      ]
     },
     "execution_count": 14,
     "metadata": {},
     "output_type": "execute_result"
    }
   ],
   "source": [
    "accu = clf.score(x,y)\n",
    "nleaves = (clf.tree_.node_count+1)/2\n",
    "R_c = 1-accu + 0.001*nleaves\n",
    "R_c"
   ]
  },
  {
   "cell_type": "code",
   "execution_count": 15,
   "metadata": {},
   "outputs": [
    {
     "name": "stdout",
     "output_type": "stream",
     "text": [
      "35\n"
     ]
    }
   ],
   "source": [
    "print(clf.tree_.node_count) #get the node count"
   ]
  },
  {
   "cell_type": "code",
   "execution_count": 73,
   "metadata": {},
   "outputs": [],
   "source": [
    "# manually add a highly correlated new feature, to test the similar support bound\n",
    "import random\n",
    "row_idx = random.sample(range(x.shape[0]),600)\n",
    "new_feature = x[:,2].copy()\n",
    "new_feature[row_idx] = 1-new_feature[row_idx]\n",
    "x_corr = np.column_stack((x, new_feature))"
   ]
  },
  {
   "cell_type": "code",
   "execution_count": 74,
   "metadata": {},
   "outputs": [
    {
     "data": {
      "text/html": [
       "<div>\n",
       "<style scoped>\n",
       "    .dataframe tbody tr th:only-of-type {\n",
       "        vertical-align: middle;\n",
       "    }\n",
       "\n",
       "    .dataframe tbody tr th {\n",
       "        vertical-align: top;\n",
       "    }\n",
       "\n",
       "    .dataframe thead th {\n",
       "        text-align: right;\n",
       "    }\n",
       "</style>\n",
       "<table border=\"1\" class=\"dataframe\">\n",
       "  <thead>\n",
       "    <tr style=\"text-align: right;\">\n",
       "      <th></th>\n",
       "      <th>0</th>\n",
       "      <th>1</th>\n",
       "      <th>2</th>\n",
       "      <th>3</th>\n",
       "      <th>4</th>\n",
       "      <th>5</th>\n",
       "    </tr>\n",
       "  </thead>\n",
       "  <tbody>\n",
       "    <tr>\n",
       "      <th>0</th>\n",
       "      <td>1.000000</td>\n",
       "      <td>-0.021191</td>\n",
       "      <td>-0.002244</td>\n",
       "      <td>-0.009986</td>\n",
       "      <td>-0.107579</td>\n",
       "      <td>-0.008049</td>\n",
       "    </tr>\n",
       "    <tr>\n",
       "      <th>1</th>\n",
       "      <td>-0.021191</td>\n",
       "      <td>1.000000</td>\n",
       "      <td>-0.108061</td>\n",
       "      <td>-0.017773</td>\n",
       "      <td>-0.194341</td>\n",
       "      <td>-0.076002</td>\n",
       "    </tr>\n",
       "    <tr>\n",
       "      <th>2</th>\n",
       "      <td>-0.002244</td>\n",
       "      <td>-0.108061</td>\n",
       "      <td>1.000000</td>\n",
       "      <td>0.039048</td>\n",
       "      <td>-0.106069</td>\n",
       "      <td>0.653033</td>\n",
       "    </tr>\n",
       "    <tr>\n",
       "      <th>3</th>\n",
       "      <td>-0.009986</td>\n",
       "      <td>-0.017773</td>\n",
       "      <td>0.039048</td>\n",
       "      <td>1.000000</td>\n",
       "      <td>-0.330969</td>\n",
       "      <td>0.028160</td>\n",
       "    </tr>\n",
       "    <tr>\n",
       "      <th>4</th>\n",
       "      <td>-0.107579</td>\n",
       "      <td>-0.194341</td>\n",
       "      <td>-0.106069</td>\n",
       "      <td>-0.330969</td>\n",
       "      <td>1.000000</td>\n",
       "      <td>-0.056495</td>\n",
       "    </tr>\n",
       "    <tr>\n",
       "      <th>5</th>\n",
       "      <td>-0.008049</td>\n",
       "      <td>-0.076002</td>\n",
       "      <td>0.653033</td>\n",
       "      <td>0.028160</td>\n",
       "      <td>-0.056495</td>\n",
       "      <td>1.000000</td>\n",
       "    </tr>\n",
       "  </tbody>\n",
       "</table>\n",
       "</div>"
      ],
      "text/plain": [
       "          0         1         2         3         4         5\n",
       "0  1.000000 -0.021191 -0.002244 -0.009986 -0.107579 -0.008049\n",
       "1 -0.021191  1.000000 -0.108061 -0.017773 -0.194341 -0.076002\n",
       "2 -0.002244 -0.108061  1.000000  0.039048 -0.106069  0.653033\n",
       "3 -0.009986 -0.017773  0.039048  1.000000 -0.330969  0.028160\n",
       "4 -0.107579 -0.194341 -0.106069 -0.330969  1.000000 -0.056495\n",
       "5 -0.008049 -0.076002  0.653033  0.028160 -0.056495  1.000000"
      ]
     },
     "execution_count": 74,
     "metadata": {},
     "output_type": "execute_result"
    }
   ],
   "source": [
    "pd.DataFrame(x_corr).corr()"
   ]
  },
  {
   "cell_type": "code",
   "execution_count": null,
   "metadata": {},
   "outputs": [],
   "source": []
  },
  {
   "cell_type": "code",
   "execution_count": null,
   "metadata": {},
   "outputs": [],
   "source": []
  },
  {
   "cell_type": "code",
   "execution_count": null,
   "metadata": {},
   "outputs": [],
   "source": []
  },
  {
   "cell_type": "markdown",
   "metadata": {},
   "source": [
    "## With similar support bound"
   ]
  },
  {
   "cell_type": "code",
   "execution_count": 16,
   "metadata": {},
   "outputs": [],
   "source": [
    "from corels_dt_nosimilar import bbound_nosimilar\n",
    "from corels_dt_similar import bbound_similar\n",
    "from corels_dt_similar_priority import bbound_similar_priority\n",
    "from corels_dt_similar_when_big import bbound_similar_when_big\n",
    "\n",
    "from corels_dt_similar_when_sub_v2 import bbound_similar_when_sub\n",
    "\n",
    "from corels_dt_nosimilar_multicopies import bbound_nosimilar_multicopies"
   ]
  },
  {
   "cell_type": "code",
   "execution_count": null,
   "metadata": {},
   "outputs": [],
   "source": []
  },
  {
   "cell_type": "code",
   "execution_count": 75,
   "metadata": {},
   "outputs": [
    {
     "name": "stdout",
     "output_type": "stream",
     "text": [
      "nrule: 6\n",
      "ndata: 6907\n",
      "the rank of x's columns:  [1, 5, 0, 2, 3, 4]\n",
      ">>> log: False\n",
      ">>> support bound: True\n",
      ">>> accurate support bound: True\n",
      ">>> equiv points bound: True\n",
      ">>> lookahead bound: True\n",
      "total time:  15.236387729644775\n",
      "lambda:  0.0035\n",
      "leaves:  [(1,), (-1, 6), (-6, -5, -1), (-6, -4, -1, 5), (-6, -1, 4, 5)]\n",
      "prediction:  [1, 1, 0, 0, 1]\n",
      "Objective:  0.3541150282322281\n",
      "COUNT of the best tree:  23402\n",
      "time when the best tree is achieved:  7.3162524700164795\n",
      "TOTAL COUNT:  71282\n"
     ]
    },
    {
     "data": {
      "text/plain": [
       "<corels_dt_nosimilar.CacheTree at 0x7fa78eb4f080>"
      ]
     },
     "execution_count": 75,
     "metadata": {},
     "output_type": "execute_result"
    }
   ],
   "source": [
    "bbound_nosimilar(x_corr, y, lamb=0.0035, prior_metric=\"objective\", MAXDEPTH = 4)"
   ]
  },
  {
   "cell_type": "code",
   "execution_count": 77,
   "metadata": {},
   "outputs": [
    {
     "name": "stdout",
     "output_type": "stream",
     "text": [
      "nrule: 6\n",
      "ndata: 6907\n",
      "the rank of x's columns:  [1, 5, 0, 2, 3, 4]\n",
      ">>> log: False\n",
      ">>> support bound: True\n",
      ">>> accurate support bound: True\n",
      ">>> equiv points bound: True\n",
      ">>> lookahead bound: True\n",
      "total time:  14.871983051300049\n",
      "lambda:  0.0035\n",
      "leaves:  [(1,), (-1, 6), (-6, -5, -1), (-6, -4, -1, 5), (-6, -1, 4, 5)]\n",
      "prediction:  [1, 1, 0, 0, 1]\n",
      "Objective:  0.3541150282322281\n",
      "COUNT of the best tree:  21948\n",
      "time when the best tree is achieved:  7.335954189300537\n",
      "TOTAL COUNT:  66473\n"
     ]
    },
    {
     "data": {
      "text/plain": [
       "<corels_dt_similar_when_sub_v2.CacheTree at 0x7fa78eb4f748>"
      ]
     },
     "execution_count": 77,
     "metadata": {},
     "output_type": "execute_result"
    }
   ],
   "source": [
    "bbound_similar_when_sub(x_corr, y, lamb=0.0035, prior_metric=\"objective\", MAXDEPTH = 4)"
   ]
  },
  {
   "cell_type": "code",
   "execution_count": null,
   "metadata": {},
   "outputs": [],
   "source": []
  },
  {
   "cell_type": "code",
   "execution_count": 17,
   "metadata": {
    "scrolled": true
   },
   "outputs": [
    {
     "name": "stdout",
     "output_type": "stream",
     "text": [
      "nrule: 5\n",
      "ndata: 6907\n",
      "the rank of x's columns:  [4, 0, 1, 2, 3]\n",
      ">>> log: False\n",
      ">>> support bound: True\n",
      ">>> accurate support bound: True\n",
      ">>> equiv points bound: True\n",
      ">>> lookahead bound: True\n",
      "total time:  4.870143890380859\n",
      "lambda:  0.0035\n",
      "leaves:  [(3,), (-3, 1), (-5, -3, -1), (-4, -3, -1, 5), (-3, -1, 4, 5)]\n",
      "prediction:  [1, 1, 0, 0, 1]\n",
      "Objective:  0.3541150282322281\n",
      "COUNT of the best tree:  1794\n",
      "time when the best tree is achieved:  2.987828016281128\n",
      "TOTAL COUNT:  6864\n"
     ]
    },
    {
     "data": {
      "text/plain": [
       "<corels_dt_nosimilar.CacheTree at 0x7f893bf24cc0>"
      ]
     },
     "execution_count": 17,
     "metadata": {},
     "output_type": "execute_result"
    }
   ],
   "source": [
    "bbound_nosimilar(x, y, lamb=0.0035, prior_metric=\"objective\", MAXDEPTH = 4)"
   ]
  },
  {
   "cell_type": "code",
   "execution_count": 17,
   "metadata": {
    "scrolled": true
   },
   "outputs": [
    {
     "name": "stdout",
     "output_type": "stream",
     "text": [
      "nrule: 5\n",
      "ndata: 6907\n",
      "the rank of x's columns:  [4, 0, 1, 2, 3]\n",
      ">>> log: False\n",
      ">>> support bound: True\n",
      ">>> accurate support bound: True\n",
      ">>> equiv points bound: True\n",
      ">>> lookahead bound: True\n",
      "total time:  4.669439077377319\n",
      "lambda:  0.0035\n",
      "leaves:  [(3,), (-3, 1), (-5, -3, -1), (-4, -3, -1, 5), (-3, -1, 4, 5)]\n",
      "prediction:  [1, 1, 0, 0, 1]\n",
      "Objective:  0.3541150282322281\n",
      "COUNT of the best tree:  1794\n",
      "time when the best tree is achieved:  2.798046350479126\n",
      "TOTAL COUNT:  6864\n"
     ]
    },
    {
     "data": {
      "text/plain": [
       "<corels_dt_similar_when_sub_v2.CacheTree at 0x7ff6bb7bd6a0>"
      ]
     },
     "execution_count": 17,
     "metadata": {},
     "output_type": "execute_result"
    }
   ],
   "source": [
    "bbound_similar_when_sub(x, y, lamb=0.0035, prior_metric=\"objective\", MAXDEPTH = 4)"
   ]
  },
  {
   "cell_type": "code",
   "execution_count": 19,
   "metadata": {
    "scrolled": true
   },
   "outputs": [
    {
     "name": "stdout",
     "output_type": "stream",
     "text": [
      "nrule: 5\n",
      "ndata: 6907\n",
      "the rank of x's columns:  [4, 0, 1, 2, 3]\n",
      ">>> log: False\n",
      ">>> support bound: True\n",
      ">>> accurate support bound: True\n",
      ">>> equiv points bound: True\n",
      ">>> lookahead bound: True\n",
      "total time:  4.694583892822266\n",
      "lambda:  0.0035\n",
      "leaves:  [(3,), (-3, 1), (-5, -3, -1), (-4, -3, -1, 5), (-3, -1, 4, 5)]\n",
      "prediction:  [1, 1, 0, 0, 1]\n",
      "Objective:  0.3541150282322281\n",
      "COUNT of the best tree:  1794\n",
      "time when the best tree is achieved:  2.9489943981170654\n",
      "TOTAL COUNT:  6864\n"
     ]
    },
    {
     "data": {
      "text/plain": [
       "<corels_dt_nosimilar.CacheTree at 0x7fbb8730a320>"
      ]
     },
     "execution_count": 19,
     "metadata": {},
     "output_type": "execute_result"
    }
   ],
   "source": [
    "bbound_nosimilar(x, y, lamb=0.0035, prior_metric=\"objective\", MAXDEPTH = 4)"
   ]
  },
  {
   "cell_type": "code",
   "execution_count": 18,
   "metadata": {
    "scrolled": true
   },
   "outputs": [
    {
     "name": "stdout",
     "output_type": "stream",
     "text": [
      "nrule: 5\n",
      "ndata: 6907\n",
      "the rank of x's columns:  [4, 0, 1, 2, 3]\n",
      ">>> log: False\n",
      ">>> support bound: True\n",
      ">>> accurate support bound: True\n",
      ">>> equiv points bound: True\n",
      ">>> lookahead bound: True\n",
      "total time:  4.414027690887451\n",
      "lambda:  0.0035\n",
      "leaves:  [(3,), (-3, 1), (-5, -3, -1), (-4, -3, -1, 5), (-3, -1, 4, 5)]\n",
      "prediction:  [1, 1, 0, 0, 1]\n",
      "Objective:  0.3541150282322281\n",
      "COUNT of the best tree:  9037\n",
      "time when the best tree is achieved:  3.081894636154175\n",
      "TOTAL COUNT:  17705\n"
     ]
    },
    {
     "data": {
      "text/plain": [
       "<corels_dt_nosimilar_multicopies.CacheTree at 0x7f893bf288d0>"
      ]
     },
     "execution_count": 18,
     "metadata": {},
     "output_type": "execute_result"
    }
   ],
   "source": [
    "bbound_nosimilar_multicopies(x, y, lamb=0.0035, prior_metric=\"objective\", MAXDEPTH = 4)"
   ]
  },
  {
   "cell_type": "code",
   "execution_count": 17,
   "metadata": {
    "scrolled": true
   },
   "outputs": [
    {
     "name": "stdout",
     "output_type": "stream",
     "text": [
      "nrule: 5\n",
      "ndata: 6907\n",
      "the rank of x's columns:  [4, 0, 1, 2, 3]\n",
      ">>> log: False\n",
      ">>> support bound: True\n",
      ">>> accurate support bound: True\n",
      ">>> equiv points bound: True\n",
      ">>> lookahead bound: True\n",
      "total time:  4.299317359924316\n",
      "lambda:  0.0035\n",
      "leaves:  [(3,), (-3, 1), (-5, -3, -1), (-4, -3, -1, 5), (-3, -1, 4, 5)]\n",
      "prediction:  [1, 1, 0, 0, 1]\n",
      "Objective:  0.3541150282322281\n",
      "COUNT of the best tree:  9037\n",
      "time when the best tree is achieved:  3.013827085494995\n",
      "TOTAL COUNT:  17705\n"
     ]
    },
    {
     "data": {
      "text/plain": [
       "<corels_dt_nosimilar_multicopies.CacheTree at 0x7f71b1f478d0>"
      ]
     },
     "execution_count": 17,
     "metadata": {},
     "output_type": "execute_result"
    }
   ],
   "source": [
    "bbound_nosimilar_multicopies(x, y, lamb=0.0035, prior_metric=\"objective\", MAXDEPTH = 4)"
   ]
  },
  {
   "cell_type": "code",
   "execution_count": 17,
   "metadata": {
    "scrolled": true
   },
   "outputs": [
    {
     "name": "stdout",
     "output_type": "stream",
     "text": [
      "nrule: 5\n",
      "ndata: 6907\n",
      "the rank of x's columns:  [4, 0, 1, 2, 3]\n",
      ">>> log: False\n",
      ">>> support bound: True\n",
      ">>> accurate support bound: True\n",
      ">>> equiv points bound: True\n",
      ">>> lookahead bound: True\n",
      "total time:  7.858139753341675\n",
      "lambda:  0.0035\n",
      "leaves:  [(3,), (-3, 1), (-5, -3, -1), (-4, -3, -1, 5), (-3, -1, 4, 5)]\n",
      "prediction:  [1, 1, 0, 0, 1]\n",
      "Objective:  0.3541150282322281\n",
      "COUNT of the best tree:  1794\n",
      "time when the best tree is achieved:  3.0144846439361572\n",
      "TOTAL COUNT:  6161\n"
     ]
    },
    {
     "data": {
      "text/plain": [
       "<corels_dt_similar.CacheTree at 0x7f23bb9a9320>"
      ]
     },
     "execution_count": 17,
     "metadata": {},
     "output_type": "execute_result"
    }
   ],
   "source": [
    "bbound_similar(x, y, lamb=0.0035, prior_metric=\"objective\", MAXDEPTH = 4)"
   ]
  },
  {
   "cell_type": "code",
   "execution_count": 18,
   "metadata": {
    "scrolled": true
   },
   "outputs": [
    {
     "name": "stdout",
     "output_type": "stream",
     "text": [
      "nrule: 5\n",
      "ndata: 6907\n",
      "the rank of x's columns:  [4, 0, 1, 2, 3]\n"
     ]
    },
    {
     "ename": "KeyboardInterrupt",
     "evalue": "",
     "output_type": "error",
     "traceback": [
      "\u001b[0;31m\u001b[0m",
      "\u001b[0;31mKeyboardInterrupt\u001b[0mTraceback (most recent call last)",
      "\u001b[0;32m<ipython-input-18-7ea32f2129c0>\u001b[0m in \u001b[0;36m<module>\u001b[0;34m()\u001b[0m\n\u001b[0;32m----> 1\u001b[0;31m \u001b[0mbbound_similar\u001b[0m\u001b[0;34m(\u001b[0m\u001b[0mx\u001b[0m\u001b[0;34m,\u001b[0m \u001b[0my\u001b[0m\u001b[0;34m,\u001b[0m \u001b[0mlamb\u001b[0m\u001b[0;34m=\u001b[0m\u001b[0;36m0.0035\u001b[0m\u001b[0;34m,\u001b[0m \u001b[0mprior_metric\u001b[0m\u001b[0;34m=\u001b[0m\u001b[0;34m\"objective\"\u001b[0m\u001b[0;34m,\u001b[0m \u001b[0mMAXDEPTH\u001b[0m \u001b[0;34m=\u001b[0m \u001b[0;36m4\u001b[0m\u001b[0;34m)\u001b[0m\u001b[0;34m\u001b[0m\u001b[0m\n\u001b[0m",
      "\u001b[0;32m~/work/repo/src/corels_dt_similar.py\u001b[0m in \u001b[0;36mbbound_similar\u001b[0;34m(x, y, lamb, prior_metric, MAXDEPTH, niter, logon, support, accu_support, equiv_points, lookahead)\u001b[0m\n\u001b[1;32m    529\u001b[0m             \u001b[0;31m# similar support bound\u001b[0m\u001b[0;34m\u001b[0m\u001b[0;34m\u001b[0m\u001b[0m\n\u001b[1;32m    530\u001b[0m             \u001b[0;31m## for _, deadprefix_lb_cap in deadprefix_cache:\u001b[0m\u001b[0;34m\u001b[0m\u001b[0;34m\u001b[0m\u001b[0m\n\u001b[0;32m--> 531\u001b[0;31m             \u001b[0;32mfor\u001b[0m \u001b[0mdeadprefix_lb_cap\u001b[0m \u001b[0;32min\u001b[0m \u001b[0mdeadprefix_cache\u001b[0m\u001b[0;34m:\u001b[0m\u001b[0;34m\u001b[0m\u001b[0m\n\u001b[0m\u001b[1;32m    532\u001b[0m                 \u001b[0mdeadprefix_lb\u001b[0m\u001b[0;34m,\u001b[0m \u001b[0mdeadprefix_cap\u001b[0m \u001b[0;34m=\u001b[0m \u001b[0mdeadprefix_lb_cap\u001b[0m\u001b[0;34m\u001b[0m\u001b[0m\n\u001b[1;32m    533\u001b[0m \u001b[0;34m\u001b[0m\u001b[0m\n",
      "\u001b[0;31mKeyboardInterrupt\u001b[0m: "
     ]
    }
   ],
   "source": [
    "bbound_similar(x, y, lamb=0.0035, prior_metric=\"objective\", MAXDEPTH = 4)"
   ]
  },
  {
   "cell_type": "code",
   "execution_count": 23,
   "metadata": {},
   "outputs": [
    {
     "name": "stdout",
     "output_type": "stream",
     "text": [
      "nrule: 5\n",
      "ndata: 6907\n",
      "the rank of x's columns:  [4, 0, 1, 2, 3]\n",
      ">>> log: False\n",
      ">>> support bound: True\n",
      ">>> accurate support bound: True\n",
      ">>> equiv points bound: True\n",
      ">>> lookahead bound: True\n",
      "total time:  4.631837606430054\n",
      "lambda:  0.0035\n",
      "leaves:  [(3,), (-3, 1), (-5, -3, -1), (-4, -3, -1, 5), (-3, -1, 4, 5)]\n",
      "prediction:  [1, 1, 0, 0, 1]\n",
      "Objective:  0.3541150282322281\n",
      "COUNT of the best tree:  1794\n",
      "time when the best tree is achieved:  2.7678072452545166\n",
      "TOTAL COUNT:  6618\n"
     ]
    },
    {
     "data": {
      "text/plain": [
       "<corels_dt_similar_when_big.CacheTree at 0x7fc08c70f3c8>"
      ]
     },
     "execution_count": 23,
     "metadata": {},
     "output_type": "execute_result"
    }
   ],
   "source": [
    "bbound_similar_when_big(x, y, lamb=0.0035, prior_metric=\"objective\", MAXDEPTH = 4, SSB_cache_thres=5, SSB_check_thres=6)"
   ]
  },
  {
   "cell_type": "code",
   "execution_count": 25,
   "metadata": {},
   "outputs": [
    {
     "name": "stdout",
     "output_type": "stream",
     "text": [
      "nrule: 5\n",
      "ndata: 6907\n",
      "the rank of x's columns:  [4, 0, 1, 2, 3]\n",
      ">>> log: False\n",
      ">>> support bound: True\n",
      ">>> accurate support bound: True\n",
      ">>> equiv points bound: True\n",
      ">>> lookahead bound: True\n",
      "total time:  5.738712549209595\n",
      "lambda:  0.0035\n",
      "leaves:  [(3,), (-3, 1), (-5, -3, -1), (-4, -3, -1, 5), (-3, -1, 4, 5)]\n",
      "prediction:  [1, 1, 0, 0, 1]\n",
      "Objective:  0.3541150282322281\n",
      "COUNT of the best tree:  1794\n",
      "time when the best tree is achieved:  2.7859995365142822\n",
      "TOTAL COUNT:  6285\n"
     ]
    },
    {
     "data": {
      "text/plain": [
       "<corels_dt_similar_when_big.CacheTree at 0x7fc08c7291d0>"
      ]
     },
     "execution_count": 25,
     "metadata": {},
     "output_type": "execute_result"
    }
   ],
   "source": [
    "bbound_similar_when_big(x, y, lamb=0.0035, prior_metric=\"objective\", MAXDEPTH = 4, SSB_cache_thres=5, SSB_check_thres=7)"
   ]
  },
  {
   "cell_type": "code",
   "execution_count": 19,
   "metadata": {},
   "outputs": [
    {
     "name": "stdout",
     "output_type": "stream",
     "text": [
      "nrule: 5\n",
      "ndata: 6907\n",
      "the rank of x's columns:  [4, 0, 1, 2, 3]\n",
      ">>> log: False\n",
      ">>> support bound: True\n",
      ">>> accurate support bound: True\n",
      ">>> equiv points bound: True\n",
      ">>> lookahead bound: True\n",
      "total time:  8.540912389755249\n",
      "lambda:  0.0035\n",
      "leaves:  [(3,), (-3, 1), (-5, -3, -1), (-4, -3, -1, 5), (-3, -1, 4, 5)]\n",
      "prediction:  [1, 1, 0, 0, 1]\n",
      "Objective:  0.3541150282322281\n",
      "COUNT of the best tree:  1794\n",
      "time when the best tree is achieved:  3.0274953842163086\n",
      "TOTAL COUNT:  6161\n"
     ]
    },
    {
     "data": {
      "text/plain": [
       "<corels_dt_similar_priority.CacheTree at 0x7f23bb90ed30>"
      ]
     },
     "execution_count": 19,
     "metadata": {},
     "output_type": "execute_result"
    }
   ],
   "source": [
    "bbound_similar_priority(x, y, lamb=0.0035, prior_metric=\"objective\", MAXDEPTH = 4)"
   ]
  },
  {
   "cell_type": "code",
   "execution_count": 19,
   "metadata": {},
   "outputs": [
    {
     "name": "stdout",
     "output_type": "stream",
     "text": [
      "nrule: 5\n",
      "ndata: 6907\n",
      "the rank of x's columns:  [4, 0, 1, 2, 3]\n",
      ">>> log: False\n",
      ">>> support bound: True\n",
      ">>> accurate support bound: True\n",
      ">>> equiv points bound: True\n",
      ">>> lookahead bound: True\n",
      "total time:  6.402764320373535\n",
      "lambda:  0.0035\n",
      "leaves:  [(3,), (-3, 1), (-5, -3, -1), (-4, -3, -1, 5), (-3, -1, 4, 5)]\n",
      "prediction:  [1, 1, 0, 0, 1]\n",
      "Objective:  0.3541150282322281\n",
      "COUNT of the best tree:  5525\n",
      "time when the best tree is achieved:  3.5685641765594482\n",
      "TOTAL COUNT:  18855\n"
     ]
    },
    {
     "data": {
      "text/plain": [
       "<corels_dt_nosimilar.CacheTree at 0x7fa2e6b4e908>"
      ]
     },
     "execution_count": 19,
     "metadata": {},
     "output_type": "execute_result"
    }
   ],
   "source": [
    "##HERE\n",
    "bbound_nosimilar(x, y, lamb=0.0035, prior_metric=\"objective\", MAXDEPTH = 5)"
   ]
  },
  {
   "cell_type": "code",
   "execution_count": 18,
   "metadata": {},
   "outputs": [
    {
     "name": "stdout",
     "output_type": "stream",
     "text": [
      "nrule: 5\n",
      "ndata: 6907\n",
      "the rank of x's columns:  [4, 0, 1, 2, 3]\n",
      ">>> log: False\n",
      ">>> support bound: True\n",
      ">>> accurate support bound: True\n",
      ">>> equiv points bound: True\n",
      ">>> lookahead bound: True\n",
      "total time:  6.263530969619751\n",
      "lambda:  0.0035\n",
      "leaves:  [(3,), (-3, 1), (-5, -3, -1), (-4, -3, -1, 5), (-3, -1, 4, 5)]\n",
      "prediction:  [1, 1, 0, 0, 1]\n",
      "Objective:  0.3541150282322281\n",
      "COUNT of the best tree:  5525\n",
      "time when the best tree is achieved:  3.420346975326538\n",
      "TOTAL COUNT:  18855\n"
     ]
    },
    {
     "data": {
      "text/plain": [
       "<corels_dt_similar_when_sub_v2.CacheTree at 0x7ff6bbcc1208>"
      ]
     },
     "execution_count": 18,
     "metadata": {},
     "output_type": "execute_result"
    }
   ],
   "source": [
    "##HERE\n",
    "bbound_similar_when_sub(x, y, lamb=0.0035, prior_metric=\"objective\", MAXDEPTH = 5)"
   ]
  },
  {
   "cell_type": "code",
   "execution_count": 17,
   "metadata": {},
   "outputs": [
    {
     "name": "stdout",
     "output_type": "stream",
     "text": [
      "nrule: 5\n",
      "ndata: 6907\n",
      "the rank of x's columns:  [4, 0, 1, 2, 3]\n",
      ">>> log: False\n",
      ">>> support bound: True\n",
      ">>> accurate support bound: True\n",
      ">>> equiv points bound: True\n",
      ">>> lookahead bound: True\n",
      "total time:  6.3049023151397705\n",
      "lambda:  0.0035\n",
      "leaves:  [(3,), (-3, 1), (-5, -3, -1), (-4, -3, -1, 5), (-3, -1, 4, 5)]\n",
      "prediction:  [1, 1, 0, 0, 1]\n",
      "Objective:  0.3541150282322281\n",
      "COUNT of the best tree:  5525\n",
      "time when the best tree is achieved:  3.5752158164978027\n",
      "TOTAL COUNT:  18855\n"
     ]
    },
    {
     "data": {
      "text/plain": [
       "<corels_dt_nosimilar.CacheTree at 0x7fbb874c6f98>"
      ]
     },
     "execution_count": 17,
     "metadata": {},
     "output_type": "execute_result"
    }
   ],
   "source": [
    "##HERE\n",
    "bbound_nosimilar(x, y, lamb=0.0035, prior_metric=\"objective\", MAXDEPTH = 5)"
   ]
  },
  {
   "cell_type": "code",
   "execution_count": 22,
   "metadata": {},
   "outputs": [
    {
     "name": "stdout",
     "output_type": "stream",
     "text": [
      "nrule: 5\n",
      "ndata: 6907\n",
      "the rank of x's columns:  [4, 0, 1, 2, 3]\n",
      ">>> log: False\n",
      ">>> support bound: True\n",
      ">>> accurate support bound: True\n",
      ">>> equiv points bound: True\n",
      ">>> lookahead bound: True\n",
      "total time:  4.960108757019043\n",
      "lambda:  0.0035\n",
      "leaves:  [(3,), (-3, 1), (-5, -3, -1), (-4, -3, -1, 5), (-3, -1, 4, 5)]\n",
      "prediction:  [1, 1, 0, 0, 1]\n",
      "Objective:  0.3541150282322281\n",
      "COUNT of the best tree:  26561\n",
      "time when the best tree is achieved:  3.650310754776001\n",
      "TOTAL COUNT:  47780\n"
     ]
    },
    {
     "data": {
      "text/plain": [
       "<corels_dt_nosimilar_multicopies.CacheTree at 0x7f893be0ebe0>"
      ]
     },
     "execution_count": 22,
     "metadata": {},
     "output_type": "execute_result"
    }
   ],
   "source": [
    "bbound_nosimilar_multicopies(x, y, lamb=0.0035, prior_metric=\"objective\", MAXDEPTH = 5)"
   ]
  },
  {
   "cell_type": "code",
   "execution_count": 18,
   "metadata": {},
   "outputs": [
    {
     "name": "stdout",
     "output_type": "stream",
     "text": [
      "nrule: 5\n",
      "ndata: 6907\n",
      "the rank of x's columns:  [4, 0, 1, 2, 3]\n",
      ">>> log: False\n",
      ">>> support bound: True\n",
      ">>> accurate support bound: True\n",
      ">>> equiv points bound: True\n",
      ">>> lookahead bound: True\n",
      "total time:  4.878471851348877\n",
      "lambda:  0.0035\n",
      "leaves:  [(3,), (-3, 1), (-5, -3, -1), (-4, -3, -1, 5), (-3, -1, 4, 5)]\n",
      "prediction:  [1, 1, 0, 0, 1]\n",
      "Objective:  0.3541150282322281\n",
      "COUNT of the best tree:  26561\n",
      "time when the best tree is achieved:  3.568647623062134\n",
      "TOTAL COUNT:  47780\n"
     ]
    },
    {
     "data": {
      "text/plain": [
       "<corels_dt_nosimilar_multicopies.CacheTree at 0x7f71b1e79e80>"
      ]
     },
     "execution_count": 18,
     "metadata": {},
     "output_type": "execute_result"
    }
   ],
   "source": [
    "bbound_nosimilar_multicopies(x, y, lamb=0.0035, prior_metric=\"objective\", MAXDEPTH = 5)"
   ]
  },
  {
   "cell_type": "code",
   "execution_count": 27,
   "metadata": {},
   "outputs": [
    {
     "name": "stdout",
     "output_type": "stream",
     "text": [
      "nrule: 5\n",
      "ndata: 6907\n",
      "the rank of x's columns:  [4, 0, 1, 2, 3]\n",
      ">>> log: False\n",
      ">>> support bound: True\n",
      ">>> accurate support bound: True\n",
      ">>> equiv points bound: True\n",
      ">>> lookahead bound: True\n",
      "total time:  6.355633497238159\n",
      "lambda:  0.0035\n",
      "leaves:  [(3,), (-3, 1), (-4, -3, -1), (-5, -3, -1, 4), (-3, -1, 4, 5)]\n",
      "prediction:  [1, 1, 0, 0, 1]\n",
      "Objective:  0.3541150282322281\n",
      "COUNT of the best tree:  5598\n",
      "time when the best tree is achieved:  4.699038743972778\n",
      "TOTAL COUNT:  17714\n"
     ]
    },
    {
     "data": {
      "text/plain": [
       "<corels_dt_nosimilar.CacheTree at 0x7fa344e79f98>"
      ]
     },
     "execution_count": 27,
     "metadata": {},
     "output_type": "execute_result"
    }
   ],
   "source": [
    "bbound_nosimilar(x, y, lamb=0.0035, prior_metric=\"bound\", MAXDEPTH = 5)"
   ]
  },
  {
   "cell_type": "code",
   "execution_count": 21,
   "metadata": {},
   "outputs": [
    {
     "name": "stdout",
     "output_type": "stream",
     "text": [
      "nrule: 5\n",
      "ndata: 6907\n",
      "the rank of x's columns:  [4, 0, 1, 2, 3]\n",
      "COUNT: 100000\n",
      "COUNT: 200000\n",
      "COUNT: 300000\n",
      "COUNT: 400000\n",
      "COUNT: 500000\n",
      "COUNT: 600000\n",
      "COUNT: 700000\n",
      ">>> log: False\n",
      ">>> support bound: True\n",
      ">>> accurate support bound: True\n",
      ">>> equiv points bound: True\n",
      ">>> lookahead bound: True\n",
      "total time:  31.16526222229004\n",
      "lambda:  0.0035\n",
      "leaves:  [(3,), (-5, -3, -1), (-5, -3, 1), (-4, -3, 5), (-3, 4, 5)]\n",
      "prediction:  [1, 0, 1, 0, 1]\n",
      "Objective:  0.3541150282322281\n",
      "COUNT of the best tree:  3862\n",
      "time when the best tree is achieved:  3.397043228149414\n",
      "TOTAL COUNT:  773889\n"
     ]
    },
    {
     "data": {
      "text/plain": [
       "<corels_dt_nosimilar_multicopies.CacheTree at 0x7f892fc4a3c8>"
      ]
     },
     "execution_count": 21,
     "metadata": {},
     "output_type": "execute_result"
    }
   ],
   "source": [
    "bbound_nosimilar_multicopies(x, y, lamb=0.0035, prior_metric=\"bound\", MAXDEPTH = 5)"
   ]
  },
  {
   "cell_type": "code",
   "execution_count": 19,
   "metadata": {},
   "outputs": [
    {
     "name": "stdout",
     "output_type": "stream",
     "text": [
      "nrule: 5\n",
      "ndata: 6907\n",
      "the rank of x's columns:  [4, 0, 1, 2, 3]\n",
      "COUNT: 100000\n",
      "COUNT: 200000\n",
      "COUNT: 300000\n",
      "COUNT: 400000\n",
      "COUNT: 500000\n",
      "COUNT: 600000\n",
      "COUNT: 700000\n",
      ">>> log: False\n",
      ">>> support bound: True\n",
      ">>> accurate support bound: True\n",
      ">>> equiv points bound: True\n",
      ">>> lookahead bound: True\n",
      "total time:  30.564636945724487\n",
      "lambda:  0.0035\n",
      "leaves:  [(3,), (-5, -3, -1), (-5, -3, 1), (-4, -3, 5), (-3, 4, 5)]\n",
      "prediction:  [1, 0, 1, 0, 1]\n",
      "Objective:  0.3541150282322281\n",
      "COUNT of the best tree:  3862\n",
      "time when the best tree is achieved:  3.1217753887176514\n",
      "TOTAL COUNT:  773889\n"
     ]
    },
    {
     "data": {
      "text/plain": [
       "<corels_dt_nosimilar_multicopies.CacheTree at 0x7f71b1e1a400>"
      ]
     },
     "execution_count": 19,
     "metadata": {},
     "output_type": "execute_result"
    }
   ],
   "source": [
    "bbound_nosimilar_multicopies(x, y, lamb=0.0035, prior_metric=\"bound\", MAXDEPTH = 5)"
   ]
  },
  {
   "cell_type": "code",
   "execution_count": 23,
   "metadata": {},
   "outputs": [
    {
     "name": "stdout",
     "output_type": "stream",
     "text": [
      "nrule: 5\n",
      "ndata: 6907\n",
      "the rank of x's columns:  [4, 0, 1, 2, 3]\n",
      ">>> log: False\n",
      ">>> support bound: True\n",
      ">>> accurate support bound: True\n",
      ">>> equiv points bound: True\n",
      ">>> lookahead bound: True\n",
      "total time:  5.796830654144287\n",
      "lambda:  0.0035\n",
      "leaves:  [(3,), (-5, -3, -1), (-5, -3, 1), (-4, -3, 5), (-3, 4, 5)]\n",
      "prediction:  [1, 0, 1, 0, 1]\n",
      "Objective:  0.3541150282322281\n",
      "COUNT of the best tree:  7136\n",
      "time when the best tree is achieved:  5.222828388214111\n",
      "TOTAL COUNT:  10672\n"
     ]
    },
    {
     "data": {
      "text/plain": [
       "<corels_dt_nosimilar.CacheTree at 0x7f892a0740f0>"
      ]
     },
     "execution_count": 23,
     "metadata": {},
     "output_type": "execute_result"
    }
   ],
   "source": [
    "bbound_nosimilar(x, y, lamb=0.0035, prior_metric=\"curiosity\", MAXDEPTH = 5)"
   ]
  },
  {
   "cell_type": "code",
   "execution_count": 24,
   "metadata": {},
   "outputs": [
    {
     "name": "stdout",
     "output_type": "stream",
     "text": [
      "nrule: 5\n",
      "ndata: 6907\n",
      "the rank of x's columns:  [4, 0, 1, 2, 3]\n",
      ">>> log: False\n",
      ">>> support bound: True\n",
      ">>> accurate support bound: True\n",
      ">>> equiv points bound: True\n",
      ">>> lookahead bound: True\n",
      "total time:  6.391690015792847\n",
      "lambda:  0.0035\n",
      "leaves:  [(3,), (-4, -3, 5), (-3, 4, 5), (-5, -3, -1), (-5, -3, 1)]\n",
      "prediction:  [1, 0, 1, 0, 1]\n",
      "Objective:  0.3541150282322281\n",
      "COUNT of the best tree:  46334\n",
      "time when the best tree is achieved:  5.025545597076416\n",
      "TOTAL COUNT:  86712\n"
     ]
    },
    {
     "data": {
      "text/plain": [
       "<corels_dt_nosimilar_multicopies.CacheTree at 0x7f892a7ec7b8>"
      ]
     },
     "execution_count": 24,
     "metadata": {},
     "output_type": "execute_result"
    }
   ],
   "source": [
    "bbound_nosimilar_multicopies(x, y, lamb=0.0035, prior_metric=\"curiosity\", MAXDEPTH = 5)"
   ]
  },
  {
   "cell_type": "code",
   "execution_count": 25,
   "metadata": {},
   "outputs": [
    {
     "name": "stdout",
     "output_type": "stream",
     "text": [
      "nrule: 5\n",
      "ndata: 6907\n",
      "the rank of x's columns:  [4, 0, 1, 2, 3]\n",
      ">>> log: False\n",
      ">>> support bound: True\n",
      ">>> accurate support bound: True\n",
      ">>> equiv points bound: True\n",
      ">>> lookahead bound: True\n",
      "total time:  6.170199155807495\n",
      "lambda:  0.0035\n",
      "leaves:  [(1,), (-1, 2), (-2, -1, 3), (-5, -3, -2, -1), (-4, -3, -2, -1, 5), (-3, -2, -1, 4, 5)]\n",
      "prediction:  [1, 0, 1, 0, 0, 1]\n",
      "Objective:  0.3560224410018822\n",
      "COUNT of the best tree:  1059\n",
      "time when the best tree is achieved:  2.762575149536133\n",
      "TOTAL COUNT:  13679\n"
     ]
    },
    {
     "data": {
      "text/plain": [
       "<corels_dt_nosimilar.CacheTree at 0x7f893be0ecf8>"
      ]
     },
     "execution_count": 25,
     "metadata": {},
     "output_type": "execute_result"
    }
   ],
   "source": [
    "bbound_nosimilar(x, y, lamb=0.0035, prior_metric=\"gini\", MAXDEPTH = 5)"
   ]
  },
  {
   "cell_type": "code",
   "execution_count": 26,
   "metadata": {},
   "outputs": [
    {
     "name": "stdout",
     "output_type": "stream",
     "text": [
      "nrule: 5\n",
      "ndata: 6907\n",
      "the rank of x's columns:  [4, 0, 1, 2, 3]\n",
      "COUNT: 100000\n",
      ">>> log: False\n",
      ">>> support bound: True\n",
      ">>> accurate support bound: True\n",
      ">>> equiv points bound: True\n",
      ">>> lookahead bound: True\n",
      "total time:  7.997255563735962\n",
      "lambda:  0.0035\n",
      "leaves:  [(1,), (-1, 2), (-2, -1, 3), (-5, -3, -2, -1), (-4, -3, -2, -1, 5), (-3, -2, -1, 4, 5)]\n",
      "prediction:  [1, 0, 1, 0, 0, 1]\n",
      "Objective:  0.35602244100188213\n",
      "COUNT of the best tree:  44\n",
      "time when the best tree is achieved:  0.7691073417663574\n",
      "TOTAL COUNT:  112619\n"
     ]
    },
    {
     "data": {
      "text/plain": [
       "<corels_dt_nosimilar_multicopies.CacheTree at 0x7f893bdb52e8>"
      ]
     },
     "execution_count": 26,
     "metadata": {},
     "output_type": "execute_result"
    }
   ],
   "source": [
    "bbound_nosimilar_multicopies(x, y, lamb=0.0035, prior_metric=\"gini\", MAXDEPTH = 5)"
   ]
  },
  {
   "cell_type": "code",
   "execution_count": 27,
   "metadata": {},
   "outputs": [
    {
     "name": "stdout",
     "output_type": "stream",
     "text": [
      "nrule: 5\n",
      "ndata: 6907\n",
      "the rank of x's columns:  [4, 0, 1, 2, 3]\n",
      ">>> log: False\n",
      ">>> support bound: True\n",
      ">>> accurate support bound: True\n",
      ">>> equiv points bound: True\n",
      ">>> lookahead bound: True\n",
      "total time:  6.236457109451294\n",
      "lambda:  0.0035\n",
      "leaves:  [(1,), (-1, 2), (-2, -1, 3), (-5, -3, -2, -1), (-4, -3, -2, -1, 5), (-3, -2, -1, 4, 5)]\n",
      "prediction:  [1, 0, 1, 0, 0, 1]\n",
      "Objective:  0.3560224410018822\n",
      "COUNT of the best tree:  1053\n",
      "time when the best tree is achieved:  2.7753746509552\n",
      "TOTAL COUNT:  13675\n"
     ]
    },
    {
     "data": {
      "text/plain": [
       "<corels_dt_nosimilar.CacheTree at 0x7f89340338d0>"
      ]
     },
     "execution_count": 27,
     "metadata": {},
     "output_type": "execute_result"
    }
   ],
   "source": [
    "bbound_nosimilar(x, y, lamb=0.0035, prior_metric=\"entropy\", MAXDEPTH = 5)"
   ]
  },
  {
   "cell_type": "code",
   "execution_count": 28,
   "metadata": {
    "scrolled": true
   },
   "outputs": [
    {
     "name": "stdout",
     "output_type": "stream",
     "text": [
      "nrule: 5\n",
      "ndata: 6907\n",
      "the rank of x's columns:  [4, 0, 1, 2, 3]\n",
      "COUNT: 100000\n",
      ">>> log: False\n",
      ">>> support bound: True\n",
      ">>> accurate support bound: True\n",
      ">>> equiv points bound: True\n",
      ">>> lookahead bound: True\n",
      "total time:  9.00658655166626\n",
      "lambda:  0.0035\n",
      "leaves:  [(1,), (-1, 2), (-2, -1, 3), (-5, -3, -2, -1), (-4, -3, -2, -1, 5), (-3, -2, -1, 4, 5)]\n",
      "prediction:  [1, 0, 1, 0, 0, 1]\n",
      "Objective:  0.35602244100188213\n",
      "COUNT of the best tree:  44\n",
      "time when the best tree is achieved:  0.7742917537689209\n",
      "TOTAL COUNT:  112611\n"
     ]
    },
    {
     "data": {
      "text/plain": [
       "<corels_dt_nosimilar_multicopies.CacheTree at 0x7f8934033080>"
      ]
     },
     "execution_count": 28,
     "metadata": {},
     "output_type": "execute_result"
    }
   ],
   "source": [
    "bbound_nosimilar_multicopies(x, y, lamb=0.0035, prior_metric=\"entropy\", MAXDEPTH = 5)"
   ]
  },
  {
   "cell_type": "code",
   "execution_count": null,
   "metadata": {},
   "outputs": [],
   "source": []
  },
  {
   "cell_type": "code",
   "execution_count": null,
   "metadata": {},
   "outputs": [],
   "source": []
  },
  {
   "cell_type": "code",
   "execution_count": 21,
   "metadata": {},
   "outputs": [
    {
     "name": "stdout",
     "output_type": "stream",
     "text": [
      "nrule: 5\n",
      "ndata: 6907\n",
      "the rank of x's columns:  [4, 0, 1, 2, 3]\n",
      ">>> log: False\n",
      ">>> support bound: True\n",
      ">>> accurate support bound: True\n",
      ">>> equiv points bound: True\n",
      ">>> lookahead bound: True\n",
      "total time:  54.60772776603699\n",
      "lambda:  0.0035\n",
      "leaves:  [(3,), (-3, 1), (-5, -3, -1), (-4, -3, -1, 5), (-3, -1, 4, 5)]\n",
      "prediction:  [1, 1, 0, 0, 1]\n",
      "Objective:  0.3541150282322281\n",
      "COUNT of the best tree:  5525\n",
      "time when the best tree is achieved:  5.776895523071289\n",
      "TOTAL COUNT:  17633\n"
     ]
    },
    {
     "data": {
      "text/plain": [
       "<corels_dt_similar.CacheTree at 0x7f23bb84efd0>"
      ]
     },
     "execution_count": 21,
     "metadata": {},
     "output_type": "execute_result"
    }
   ],
   "source": [
    "bbound_similar(x, y, lamb=0.0035, prior_metric=\"objective\", MAXDEPTH = 5)"
   ]
  },
  {
   "cell_type": "code",
   "execution_count": 26,
   "metadata": {},
   "outputs": [
    {
     "name": "stdout",
     "output_type": "stream",
     "text": [
      "nrule: 5\n",
      "ndata: 6907\n",
      "the rank of x's columns:  [4, 0, 1, 2, 3]\n",
      ">>> log: False\n",
      ">>> support bound: True\n",
      ">>> accurate support bound: True\n",
      ">>> equiv points bound: True\n",
      ">>> lookahead bound: True\n",
      "total time:  7.61355996131897\n",
      "lambda:  0.0035\n",
      "leaves:  [(3,), (-3, 1), (-5, -3, -1), (-4, -3, -1, 5), (-3, -1, 4, 5)]\n",
      "prediction:  [1, 1, 0, 0, 1]\n",
      "Objective:  0.3541150282322281\n",
      "COUNT of the best tree:  5525\n",
      "time when the best tree is achieved:  3.545598030090332\n",
      "TOTAL COUNT:  18693\n"
     ]
    },
    {
     "data": {
      "text/plain": [
       "<corels_dt_similar_when_big.CacheTree at 0x7fc08c70f1d0>"
      ]
     },
     "execution_count": 26,
     "metadata": {},
     "output_type": "execute_result"
    }
   ],
   "source": [
    "bbound_similar_when_big(x, y, lamb=0.0035, prior_metric=\"objective\", MAXDEPTH = 5, SSB_cache_thres=5, SSB_check_thres=6)"
   ]
  },
  {
   "cell_type": "code",
   "execution_count": 48,
   "metadata": {},
   "outputs": [
    {
     "name": "stdout",
     "output_type": "stream",
     "text": [
      "nrule: 5\n",
      "ndata: 6907\n",
      "the rank of x's columns:  [4, 0, 1, 2, 3]\n",
      ">>> log: False\n",
      ">>> support bound: True\n",
      ">>> accurate support bound: True\n",
      ">>> equiv points bound: True\n",
      ">>> lookahead bound: True\n",
      "total time:  7.005394697189331\n",
      "lambda:  0.0035\n",
      "leaves:  [(3,), (-3, 1), (-5, -3, -1), (-4, -3, -1, 5), (-3, -1, 4, 5)]\n",
      "prediction:  [1, 1, 0, 0, 1]\n",
      "Objective:  0.3541150282322281\n",
      "COUNT of the best tree:  5525\n",
      "time when the best tree is achieved:  3.521812915802002\n",
      "TOTAL COUNT:  18734\n"
     ]
    },
    {
     "data": {
      "text/plain": [
       "<corels_dt_similar_when_big.CacheTree at 0x7fc08c6c6c88>"
      ]
     },
     "execution_count": 48,
     "metadata": {},
     "output_type": "execute_result"
    }
   ],
   "source": [
    "bbound_similar_when_big(x, y, lamb=0.0035, prior_metric=\"objective\", MAXDEPTH = 5, SSB_cache_thres=7, SSB_check_thres=5)"
   ]
  },
  {
   "cell_type": "code",
   "execution_count": 23,
   "metadata": {},
   "outputs": [
    {
     "name": "stdout",
     "output_type": "stream",
     "text": [
      "nrule: 5\n",
      "ndata: 6907\n",
      "the rank of x's columns:  [4, 0, 1, 2, 3]\n",
      ">>> log: False\n",
      ">>> support bound: True\n",
      ">>> accurate support bound: True\n",
      ">>> equiv points bound: True\n",
      ">>> lookahead bound: True\n",
      "total time:  65.0609200000763\n",
      "lambda:  0.0035\n",
      "leaves:  [(3,), (-3, 1), (-5, -3, -1), (-4, -3, -1, 5), (-3, -1, 4, 5)]\n",
      "prediction:  [1, 1, 0, 0, 1]\n",
      "Objective:  0.3541150282322281\n",
      "COUNT of the best tree:  5525\n",
      "time when the best tree is achieved:  6.38911247253418\n",
      "TOTAL COUNT:  17633\n"
     ]
    },
    {
     "data": {
      "text/plain": [
       "<corels_dt_similar_priority.CacheTree at 0x7f23bba20c18>"
      ]
     },
     "execution_count": 23,
     "metadata": {},
     "output_type": "execute_result"
    }
   ],
   "source": [
    "bbound_similar_priority(x, y, lamb=0.0035, prior_metric=\"objective\", MAXDEPTH = 5)"
   ]
  },
  {
   "cell_type": "code",
   "execution_count": null,
   "metadata": {},
   "outputs": [],
   "source": []
  },
  {
   "cell_type": "code",
   "execution_count": null,
   "metadata": {},
   "outputs": [],
   "source": []
  },
  {
   "cell_type": "code",
   "execution_count": null,
   "metadata": {},
   "outputs": [],
   "source": []
  },
  {
   "cell_type": "code",
   "execution_count": 22,
   "metadata": {},
   "outputs": [
    {
     "name": "stdout",
     "output_type": "stream",
     "text": [
      "nrule: 6\n",
      "ndata: 6907\n",
      "the rank of x's columns:  [5, 0, 4, 1, 2, 3]\n",
      "COUNT: 100000\n",
      "COUNT: 200000\n",
      "COUNT: 300000\n",
      ">>> log: False\n",
      ">>> support bound: True\n",
      ">>> accurate support bound: True\n",
      ">>> equiv points bound: True\n",
      ">>> lookahead bound: True\n",
      "total time:  41.53455448150635\n",
      "lambda:  0.0035\n",
      "leaves:  [(4,), (-4, 1), (-4, -3, -1), (-5, -4, -1, 3), (-4, -1, 3, 5)]\n",
      "prediction:  [1, 1, 0, 0, 1]\n",
      "Objective:  0.3541150282322281\n",
      "COUNT of the best tree:  186494\n",
      "time when the best tree is achieved:  25.435484647750854\n",
      "TOTAL COUNT:  346501\n"
     ]
    },
    {
     "data": {
      "text/plain": [
       "<corels_dt_nosimilar.CacheTree at 0x7fa34431d5c0>"
      ]
     },
     "execution_count": 22,
     "metadata": {},
     "output_type": "execute_result"
    }
   ],
   "source": [
    "bbound_nosimilar(x6, y, lamb=0.0035, prior_metric=\"objective\", MAXDEPTH = 4)"
   ]
  },
  {
   "cell_type": "code",
   "execution_count": 20,
   "metadata": {},
   "outputs": [
    {
     "name": "stdout",
     "output_type": "stream",
     "text": [
      "nrule: 6\n",
      "ndata: 6907\n",
      "the rank of x's columns:  [5, 0, 4, 1, 2, 3]\n",
      "COUNT: 100000\n",
      "COUNT: 200000\n",
      "COUNT: 300000\n",
      ">>> log: False\n",
      ">>> support bound: True\n",
      ">>> accurate support bound: True\n",
      ">>> equiv points bound: True\n",
      ">>> lookahead bound: True\n",
      "total time:  41.911646127700806\n",
      "lambda:  0.0035\n",
      "leaves:  [(4,), (-4, 1), (-4, -3, -1), (-5, -4, -1, 3), (-4, -1, 3, 5)]\n",
      "prediction:  [1, 1, 0, 0, 1]\n",
      "Objective:  0.3541150282322281\n",
      "COUNT of the best tree:  186494\n",
      "time when the best tree is achieved:  25.88404631614685\n",
      "TOTAL COUNT:  346501\n"
     ]
    },
    {
     "data": {
      "text/plain": [
       "<corels_dt_nosimilar.CacheTree at 0x7ff6b9fabba8>"
      ]
     },
     "execution_count": 20,
     "metadata": {},
     "output_type": "execute_result"
    }
   ],
   "source": [
    "bbound_nosimilar(x6, y, lamb=0.0035, prior_metric=\"objective\", MAXDEPTH = 4)"
   ]
  },
  {
   "cell_type": "code",
   "execution_count": 17,
   "metadata": {},
   "outputs": [
    {
     "name": "stdout",
     "output_type": "stream",
     "text": [
      "nrule: 6\n",
      "ndata: 6907\n",
      "the rank of x's columns:  [5, 0, 4, 1, 2, 3]\n",
      "COUNT: 100000\n",
      "COUNT: 200000\n",
      "COUNT: 300000\n",
      ">>> log: False\n",
      ">>> support bound: True\n",
      ">>> accurate support bound: True\n",
      ">>> equiv points bound: True\n",
      ">>> lookahead bound: True\n",
      "total time:  43.59049963951111\n",
      "lambda:  0.0035\n",
      "leaves:  [(4,), (-4, 1), (-4, -3, -1), (-5, -4, -1, 3), (-4, -1, 3, 5)]\n",
      "prediction:  [1, 1, 0, 0, 1]\n",
      "Objective:  0.3541150282322281\n",
      "COUNT of the best tree:  186494\n",
      "time when the best tree is achieved:  26.89571261405945\n",
      "TOTAL COUNT:  346501\n"
     ]
    },
    {
     "data": {
      "text/plain": [
       "<corels_dt_similar_when_sub_v2.CacheTree at 0x7fa78f196080>"
      ]
     },
     "execution_count": 17,
     "metadata": {},
     "output_type": "execute_result"
    }
   ],
   "source": [
    "bbound_similar_when_sub(x6, y, lamb=0.0035, prior_metric=\"objective\", MAXDEPTH = 4)\n"
   ]
  },
  {
   "cell_type": "code",
   "execution_count": 30,
   "metadata": {},
   "outputs": [
    {
     "name": "stdout",
     "output_type": "stream",
     "text": [
      "nrule: 6\n",
      "ndata: 6907\n",
      "the rank of x's columns:  [5, 0, 4, 1, 2, 3]\n",
      "COUNT: 100000\n",
      "COUNT: 200000\n",
      "COUNT: 300000\n",
      "COUNT: 400000\n",
      "COUNT: 500000\n",
      "COUNT: 600000\n",
      "COUNT: 700000\n",
      "COUNT: 800000\n",
      "COUNT: 900000\n",
      "COUNT: 1000000\n",
      "COUNT: 1100000\n",
      "COUNT: 1200000\n",
      "COUNT: 1300000\n",
      "COUNT: 1400000\n",
      "COUNT: 1500000\n",
      "COUNT: 1600000\n",
      ">>> log: False\n",
      ">>> support bound: True\n",
      ">>> accurate support bound: True\n",
      ">>> equiv points bound: True\n",
      ">>> lookahead bound: True\n",
      "total time:  55.847846269607544\n",
      "lambda:  0.0035\n",
      "leaves:  [(4,), (-4, 1), (-4, -3, -1), (-5, -4, -1, 3), (-4, -1, 3, 5)]\n",
      "prediction:  [1, 1, 0, 0, 1]\n",
      "Objective:  0.3541150282322281\n",
      "COUNT of the best tree:  1208310\n",
      "time when the best tree is achieved:  44.417227268218994\n",
      "TOTAL COUNT:  1644294\n"
     ]
    },
    {
     "data": {
      "text/plain": [
       "<corels_dt_nosimilar_multicopies.CacheTree at 0x7f893795c470>"
      ]
     },
     "execution_count": 30,
     "metadata": {},
     "output_type": "execute_result"
    }
   ],
   "source": [
    "bbound_nosimilar_multicopies(x6, y, lamb=0.0035, prior_metric=\"objective\", MAXDEPTH = 4)"
   ]
  },
  {
   "cell_type": "code",
   "execution_count": 31,
   "metadata": {},
   "outputs": [
    {
     "name": "stdout",
     "output_type": "stream",
     "text": [
      "nrule: 6\n",
      "ndata: 6907\n",
      "the rank of x's columns:  [5, 0, 4, 1, 2, 3]\n",
      "COUNT: 100000\n",
      "COUNT: 200000\n",
      "COUNT: 300000\n",
      "COUNT: 400000\n",
      "COUNT: 500000\n",
      "COUNT: 600000\n",
      "COUNT: 700000\n",
      "COUNT: 800000\n",
      "COUNT: 900000\n",
      "COUNT: 1000000\n",
      "COUNT: 1100000\n",
      "COUNT: 1200000\n",
      "COUNT: 1300000\n",
      "COUNT: 1400000\n",
      "COUNT: 1500000\n",
      "COUNT: 1600000\n",
      "COUNT: 1700000\n",
      "COUNT: 1800000\n",
      "COUNT: 1900000\n",
      "COUNT: 2000000\n",
      "COUNT: 2100000\n",
      "COUNT: 2200000\n",
      "COUNT: 2300000\n",
      "COUNT: 2400000\n",
      "COUNT: 2500000\n",
      ">>> log: False\n",
      ">>> support bound: True\n",
      ">>> accurate support bound: True\n",
      ">>> equiv points bound: True\n",
      ">>> lookahead bound: True\n",
      "total time:  131910.08038282394\n",
      "lambda:  0.0035\n",
      "leaves:  [(4,), (-4, 1), (-4, -3, -1), (-5, -4, -1, 3), (-4, -1, 3, 5)]\n",
      "prediction:  [1, 1, 0, 0, 1]\n",
      "Objective:  0.3541150282322281\n",
      "COUNT of the best tree:  1787384\n",
      "time when the best tree is achieved:  51108.432156562805\n",
      "TOTAL COUNT:  2593677\n"
     ]
    },
    {
     "data": {
      "text/plain": [
       "<corels_dt_similar.CacheTree at 0x7f893795cf28>"
      ]
     },
     "execution_count": 31,
     "metadata": {},
     "output_type": "execute_result"
    }
   ],
   "source": [
    "bbound_similar(x6, y, lamb=0.0035, prior_metric=\"objective\", MAXDEPTH = 5)"
   ]
  },
  {
   "cell_type": "code",
   "execution_count": null,
   "metadata": {},
   "outputs": [
    {
     "name": "stdout",
     "output_type": "stream",
     "text": [
      "nrule: 6\n",
      "ndata: 6907\n",
      "the rank of x's columns:  [5, 0, 4, 1, 2, 3]\n",
      "COUNT: 100000\n",
      "COUNT: 200000\n",
      "COUNT: 300000\n",
      "COUNT: 400000\n",
      "COUNT: 500000\n",
      "COUNT: 600000\n",
      "COUNT: 700000\n",
      "COUNT: 800000\n",
      "COUNT: 900000\n",
      "COUNT: 1000000\n",
      "COUNT: 1100000\n",
      "COUNT: 1200000\n",
      "COUNT: 1300000\n",
      "COUNT: 1400000\n",
      "COUNT: 1500000\n",
      "COUNT: 1600000\n",
      "COUNT: 1700000\n",
      "COUNT: 1800000\n",
      "COUNT: 1900000\n",
      "COUNT: 2000000\n",
      "COUNT: 2100000\n",
      "COUNT: 2200000\n",
      "COUNT: 2300000\n",
      "COUNT: 2400000\n",
      "COUNT: 2500000\n",
      "COUNT: 2600000\n",
      "COUNT: 2700000\n",
      "COUNT: 2800000\n",
      "COUNT: 2900000\n",
      "COUNT: 3000000\n",
      "COUNT: 3100000\n",
      "COUNT: 3200000\n",
      "COUNT: 3300000\n",
      "COUNT: 3400000\n",
      "COUNT: 3500000\n",
      "COUNT: 3600000\n",
      "COUNT: 3700000\n",
      "COUNT: 3800000\n",
      "COUNT: 3900000\n",
      "COUNT: 4000000\n",
      "COUNT: 4100000\n",
      "COUNT: 4200000\n",
      "COUNT: 4300000\n",
      "COUNT: 4400000\n",
      "COUNT: 4500000\n",
      "COUNT: 4600000\n",
      "COUNT: 4700000\n",
      "COUNT: 4800000\n",
      "COUNT: 4900000\n",
      "COUNT: 5000000\n",
      "COUNT: 5100000\n",
      "COUNT: 5200000\n",
      "COUNT: 5300000\n",
      "COUNT: 5400000\n",
      "COUNT: 5500000\n",
      "COUNT: 5600000\n",
      "COUNT: 5700000\n",
      "COUNT: 5800000\n",
      "COUNT: 5900000\n",
      "COUNT: 6000000\n"
     ]
    }
   ],
   "source": [
    "bbound_nosimilar_multicopies(x6, y, lamb=0.0035, prior_metric=\"objective\", MAXDEPTH = 5)"
   ]
  },
  {
   "cell_type": "code",
   "execution_count": null,
   "metadata": {},
   "outputs": [],
   "source": []
  },
  {
   "cell_type": "code",
   "execution_count": null,
   "metadata": {},
   "outputs": [],
   "source": []
  },
  {
   "cell_type": "code",
   "execution_count": null,
   "metadata": {},
   "outputs": [],
   "source": [
    "bbound_similar_when_big(x6, y, lamb=0.0035, prior_metric=\"objective\", MAXDEPTH = 5)"
   ]
  },
  {
   "cell_type": "code",
   "execution_count": null,
   "metadata": {},
   "outputs": [],
   "source": []
  },
  {
   "cell_type": "code",
   "execution_count": 77,
   "metadata": {},
   "outputs": [
    {
     "name": "stdout",
     "output_type": "stream",
     "text": [
      "nrule: 9\n",
      "ndata: 6907\n",
      "the rank of x's columns:  [8, 7, 0, 6, 5, 4, 2, 1, 3]\n",
      "COUNT: 100000\n",
      "COUNT: 200000\n",
      "COUNT: 300000\n",
      "COUNT: 400000\n",
      "COUNT: 500000\n",
      "COUNT: 600000\n",
      "COUNT: 700000\n",
      "COUNT: 800000\n",
      "COUNT: 900000\n",
      "COUNT: 1000000\n",
      "COUNT: 1100000\n",
      "COUNT: 1200000\n",
      "COUNT: 1300000\n",
      "COUNT: 1400000\n",
      "COUNT: 1500000\n",
      "COUNT: 1600000\n",
      "COUNT: 1700000\n",
      "COUNT: 1800000\n",
      "COUNT: 1900000\n",
      "COUNT: 2000000\n",
      "COUNT: 2100000\n",
      "COUNT: 2200000\n",
      "COUNT: 2300000\n",
      "COUNT: 2400000\n",
      "COUNT: 2500000\n",
      "COUNT: 2600000\n",
      "COUNT: 2700000\n",
      "COUNT: 2800000\n",
      "COUNT: 2900000\n",
      "COUNT: 3000000\n",
      "COUNT: 3100000\n"
     ]
    },
    {
     "ename": "KeyboardInterrupt",
     "evalue": "",
     "output_type": "error",
     "traceback": [
      "\u001b[0;31m\u001b[0m",
      "\u001b[0;31mKeyboardInterrupt\u001b[0mTraceback (most recent call last)",
      "\u001b[0;32m<ipython-input-77-a6bd1599c7a4>\u001b[0m in \u001b[0;36m<module>\u001b[0;34m()\u001b[0m\n\u001b[0;32m----> 1\u001b[0;31m \u001b[0mbbound_nosimilar\u001b[0m\u001b[0;34m(\u001b[0m\u001b[0mx_mine\u001b[0m\u001b[0;34m,\u001b[0m \u001b[0my\u001b[0m\u001b[0;34m,\u001b[0m \u001b[0mlamb\u001b[0m\u001b[0;34m=\u001b[0m\u001b[0;36m0.0035\u001b[0m\u001b[0;34m,\u001b[0m \u001b[0mprior_metric\u001b[0m\u001b[0;34m=\u001b[0m\u001b[0;34m\"objective\"\u001b[0m\u001b[0;34m,\u001b[0m \u001b[0mMAXDEPTH\u001b[0m \u001b[0;34m=\u001b[0m \u001b[0;36m4\u001b[0m\u001b[0;34m)\u001b[0m\u001b[0;34m\u001b[0m\u001b[0m\n\u001b[0m",
      "\u001b[0;32m~/work/repo/src/corels_dt_nosimilar.py\u001b[0m in \u001b[0;36mbbound_nosimilar\u001b[0;34m(x, y, lamb, prior_metric, MAXDEPTH, niter, logon, support, accu_support, equiv_points, lookahead)\u001b[0m\n\u001b[1;32m    563\u001b[0m                     sl = generate_new_splitleaf(\n\u001b[1;32m    564\u001b[0m                         \u001b[0mtree_new_leaves\u001b[0m\u001b[0;34m,\u001b[0m \u001b[0msorted_new_tree_rules\u001b[0m\u001b[0;34m,\u001b[0m \u001b[0mleaf_cache\u001b[0m\u001b[0;34m,\u001b[0m \u001b[0msplitleaf_list\u001b[0m\u001b[0;34m,\u001b[0m \u001b[0mndata\u001b[0m\u001b[0;34m,\u001b[0m \u001b[0mlen\u001b[0m\u001b[0;34m(\u001b[0m\u001b[0munchanged_leaves\u001b[0m\u001b[0;34m)\u001b[0m\u001b[0;34m+\u001b[0m\u001b[0;36m2\u001b[0m\u001b[0;34m,\u001b[0m \u001b[0mlamb\u001b[0m\u001b[0;34m,\u001b[0m \u001b[0mmin\u001b[0m\u001b[0;34m(\u001b[0m\u001b[0mR_c\u001b[0m\u001b[0;34m,\u001b[0m \u001b[0mnew_lbound\u001b[0m\u001b[0;34m[\u001b[0m\u001b[0;34m-\u001b[0m\u001b[0;36m1\u001b[0m\u001b[0;34m]\u001b[0m\u001b[0;34m+\u001b[0m\u001b[0mloss_l2\u001b[0m\u001b[0;34m)\u001b[0m\u001b[0;34m,\u001b[0m\u001b[0;34m\u001b[0m\u001b[0m\n\u001b[0;32m--> 565\u001b[0;31m                         accu_support, equiv_points, lookahead)\n\u001b[0m\u001b[1;32m    566\u001b[0m                     \u001b[0;31m# print('sl',sl)\u001b[0m\u001b[0;34m\u001b[0m\u001b[0;34m\u001b[0m\u001b[0m\n\u001b[1;32m    567\u001b[0m \u001b[0;34m\u001b[0m\u001b[0m\n",
      "\u001b[0;32m~/work/repo/src/corels_dt_nosimilar.py\u001b[0m in \u001b[0;36mgenerate_new_splitleaf\u001b[0;34m(tree_new_leaves, sorted_new_tree_rules, leaf_cache, splitleaf_list, ndata, nleaves, lamb, R_c, accu_support, equiv_points, lookahead)\u001b[0m\n\u001b[1;32m    288\u001b[0m             \u001b[0;32mif\u001b[0m \u001b[0mlen\u001b[0m\u001b[0;34m(\u001b[0m\u001b[0msplitleaf_list\u001b[0m\u001b[0;34m)\u001b[0m \u001b[0;34m>\u001b[0m \u001b[0;36m0\u001b[0m\u001b[0;34m:\u001b[0m\u001b[0;34m\u001b[0m\u001b[0m\n\u001b[1;32m    289\u001b[0m                 split_l1_l2 = splitleaf_array[\n\u001b[0;32m--> 290\u001b[0;31m                     :, idx1].sum() + splitleaf_array[:, idx2].sum()\n\u001b[0m\u001b[1;32m    291\u001b[0m \u001b[0;34m\u001b[0m\u001b[0m\n\u001b[1;32m    292\u001b[0m                 \u001b[0;31m# if dp will have been split\u001b[0m\u001b[0;34m\u001b[0m\u001b[0;34m\u001b[0m\u001b[0m\n",
      "\u001b[0;32m/opt/conda/lib/python3.6/site-packages/numpy/core/_methods.py\u001b[0m in \u001b[0;36m_sum\u001b[0;34m(a, axis, dtype, out, keepdims)\u001b[0m\n\u001b[1;32m     30\u001b[0m \u001b[0;34m\u001b[0m\u001b[0m\n\u001b[1;32m     31\u001b[0m \u001b[0;32mdef\u001b[0m \u001b[0m_sum\u001b[0m\u001b[0;34m(\u001b[0m\u001b[0ma\u001b[0m\u001b[0;34m,\u001b[0m \u001b[0maxis\u001b[0m\u001b[0;34m=\u001b[0m\u001b[0;32mNone\u001b[0m\u001b[0;34m,\u001b[0m \u001b[0mdtype\u001b[0m\u001b[0;34m=\u001b[0m\u001b[0;32mNone\u001b[0m\u001b[0;34m,\u001b[0m \u001b[0mout\u001b[0m\u001b[0;34m=\u001b[0m\u001b[0;32mNone\u001b[0m\u001b[0;34m,\u001b[0m \u001b[0mkeepdims\u001b[0m\u001b[0;34m=\u001b[0m\u001b[0;32mFalse\u001b[0m\u001b[0;34m)\u001b[0m\u001b[0;34m:\u001b[0m\u001b[0;34m\u001b[0m\u001b[0m\n\u001b[0;32m---> 32\u001b[0;31m     \u001b[0;32mreturn\u001b[0m \u001b[0mumr_sum\u001b[0m\u001b[0;34m(\u001b[0m\u001b[0ma\u001b[0m\u001b[0;34m,\u001b[0m \u001b[0maxis\u001b[0m\u001b[0;34m,\u001b[0m \u001b[0mdtype\u001b[0m\u001b[0;34m,\u001b[0m \u001b[0mout\u001b[0m\u001b[0;34m,\u001b[0m \u001b[0mkeepdims\u001b[0m\u001b[0;34m)\u001b[0m\u001b[0;34m\u001b[0m\u001b[0m\n\u001b[0m\u001b[1;32m     33\u001b[0m \u001b[0;34m\u001b[0m\u001b[0m\n\u001b[1;32m     34\u001b[0m \u001b[0;32mdef\u001b[0m \u001b[0m_prod\u001b[0m\u001b[0;34m(\u001b[0m\u001b[0ma\u001b[0m\u001b[0;34m,\u001b[0m \u001b[0maxis\u001b[0m\u001b[0;34m=\u001b[0m\u001b[0;32mNone\u001b[0m\u001b[0;34m,\u001b[0m \u001b[0mdtype\u001b[0m\u001b[0;34m=\u001b[0m\u001b[0;32mNone\u001b[0m\u001b[0;34m,\u001b[0m \u001b[0mout\u001b[0m\u001b[0;34m=\u001b[0m\u001b[0;32mNone\u001b[0m\u001b[0;34m,\u001b[0m \u001b[0mkeepdims\u001b[0m\u001b[0;34m=\u001b[0m\u001b[0;32mFalse\u001b[0m\u001b[0;34m)\u001b[0m\u001b[0;34m:\u001b[0m\u001b[0;34m\u001b[0m\u001b[0m\n",
      "\u001b[0;31mKeyboardInterrupt\u001b[0m: "
     ]
    }
   ],
   "source": [
    "bbound_nosimilar(x_mine, y, lamb=0.0035, prior_metric=\"objective\", MAXDEPTH = 4)"
   ]
  },
  {
   "cell_type": "code",
   "execution_count": 51,
   "metadata": {
    "scrolled": true
   },
   "outputs": [
    {
     "name": "stdout",
     "output_type": "stream",
     "text": [
      "nrule: 6\n",
      "ndata: 6907\n",
      "the rank of x's columns:  [2, 4, 5, 1, 0, 3]\n",
      ">>> log: False\n",
      ">>> support bound: True\n",
      ">>> accurate support bound: True\n",
      ">>> equiv points bound: True\n",
      ">>> lookahead bound: True\n",
      "total time:  20.07693123817444\n",
      "lambda:  0.0035\n",
      "leaves:  [(5,), (-5, -2), (-5, 2, 6), (-6, -5, -3, 2), (-6, -5, 2, 3)]\n",
      "prediction:  [0, 1, 0, 1, 0]\n",
      "Objective:  0.44011473867091355\n",
      "COUNT of the best tree:  36112\n",
      "time when the best tree is achieved:  13.207933902740479\n",
      "TOTAL COUNT:  96171\n"
     ]
    },
    {
     "data": {
      "text/plain": [
       "<corels_dt_nosimilar.CacheTree at 0x7fa1c0c78d68>"
      ]
     },
     "execution_count": 51,
     "metadata": {},
     "output_type": "execute_result"
    }
   ],
   "source": [
    "bbound_nosimilar(x_mine, y, lamb=0.0035, prior_metric=\"objective\", MAXDEPTH = 5)"
   ]
  },
  {
   "cell_type": "code",
   "execution_count": null,
   "metadata": {},
   "outputs": [],
   "source": []
  },
  {
   "cell_type": "code",
   "execution_count": null,
   "metadata": {},
   "outputs": [],
   "source": []
  },
  {
   "cell_type": "code",
   "execution_count": null,
   "metadata": {},
   "outputs": [],
   "source": []
  },
  {
   "cell_type": "code",
   "execution_count": 17,
   "metadata": {},
   "outputs": [
    {
     "name": "stdout",
     "output_type": "stream",
     "text": [
      "nrule: 5\n",
      "ndata: 6907\n",
      "the rank of x's columns:  [4, 0, 1, 2, 3]\n",
      ">>> log: False\n",
      ">>> support bound: True\n",
      ">>> accurate support bound: True\n",
      ">>> equiv points bound: True\n",
      ">>> lookahead bound: True\n",
      "total time:  7.832329988479614\n",
      "lambda:  0.0035\n",
      "leaves:  [(3,), (-3, 1), (-5, -3, -1), (-4, -3, -1, 5), (-3, -1, 4, 5)]\n",
      "prediction:  [1, 1, 0, 0, 1]\n",
      "Objective:  0.3541150282322281\n",
      "COUNT of the best tree:  1794\n",
      "time when the best tree is achieved:  3.0771291255950928\n",
      "TOTAL COUNT:  6161\n"
     ]
    },
    {
     "data": {
      "text/plain": [
       "<corels_dt_similar.CacheTree at 0x7f1afc4e3630>"
      ]
     },
     "execution_count": 17,
     "metadata": {},
     "output_type": "execute_result"
    }
   ],
   "source": [
    "bbound_similar(x, y, lamb=0.0035, prior_metric=\"objective\", MAXDEPTH = 4)"
   ]
  },
  {
   "cell_type": "code",
   "execution_count": 16,
   "metadata": {},
   "outputs": [
    {
     "name": "stdout",
     "output_type": "stream",
     "text": [
      "nrule: 5\n",
      "ndata: 6907\n",
      "the rank of x's columns:  [4, 0, 1, 2, 3]\n",
      ">>> log: False\n",
      ">>> support bound: True\n",
      ">>> accurate support bound: True\n",
      ">>> equiv points bound: True\n",
      ">>> lookahead bound: True\n",
      "total time:  9.078894138336182\n",
      "lambda:  0.0035\n",
      "leaves:  [(3,), (-3, 1), (-5, -3, -1), (-4, -3, -1, 5), (-3, -1, 4, 5)]\n",
      "prediction:  [1, 1, 0, 0, 1]\n",
      "Objective:  0.3541150282322281\n",
      "COUNT of the best tree:  1794\n",
      "time when the best tree is achieved:  3.065239667892456\n",
      "TOTAL COUNT:  6161\n"
     ]
    },
    {
     "data": {
      "text/plain": [
       "<corels_dt_similar_priority.CacheTree at 0x7fbd8ac48da0>"
      ]
     },
     "execution_count": 16,
     "metadata": {},
     "output_type": "execute_result"
    }
   ],
   "source": [
    "### priority tree.risk\n",
    "bbound_similar_priority(x, y, lamb=0.0035, prior_metric=\"objective\", MAXDEPTH = 4)"
   ]
  },
  {
   "cell_type": "code",
   "execution_count": null,
   "metadata": {},
   "outputs": [],
   "source": []
  },
  {
   "cell_type": "code",
   "execution_count": 16,
   "metadata": {},
   "outputs": [
    {
     "name": "stdout",
     "output_type": "stream",
     "text": [
      "nrule: 5\n",
      "ndata: 6907\n",
      "the rank of x's columns:  [4, 0, 1, 2, 3]\n",
      ">>> log: False\n",
      ">>> support bound: True\n",
      ">>> accurate support bound: True\n",
      ">>> equiv points bound: True\n",
      ">>> lookahead bound: True\n",
      "total time:  8.36022663116455\n",
      "lambda:  0.0035\n",
      "leaves:  [(3,), (-3, 1), (-5, -3, -1), (-4, -3, -1, 5), (-3, -1, 4, 5)]\n",
      "prediction:  [1, 1, 0, 0, 1]\n",
      "Objective:  0.3541150282322281\n",
      "COUNT of the best tree:  1794\n",
      "time when the best tree is achieved:  3.0293593406677246\n",
      "TOTAL COUNT:  6161\n"
     ]
    },
    {
     "data": {
      "text/plain": [
       "<corels_dt_similar_priority.CacheTree at 0x7f1584451748>"
      ]
     },
     "execution_count": 16,
     "metadata": {},
     "output_type": "execute_result"
    }
   ],
   "source": [
    "### priority -(simil_ct+1)\n",
    "bbound_similar_priority(x, y, lamb=0.0035, prior_metric=\"objective\", MAXDEPTH = 4)"
   ]
  },
  {
   "cell_type": "code",
   "execution_count": null,
   "metadata": {},
   "outputs": [],
   "source": []
  },
  {
   "cell_type": "code",
   "execution_count": null,
   "metadata": {},
   "outputs": [],
   "source": []
  },
  {
   "cell_type": "code",
   "execution_count": 19,
   "metadata": {},
   "outputs": [],
   "source": [
    "aaa = []"
   ]
  },
  {
   "cell_type": "code",
   "execution_count": 20,
   "metadata": {},
   "outputs": [],
   "source": [
    "heapq.heappush(aaa, (0.1, (1, 2)))"
   ]
  },
  {
   "cell_type": "code",
   "execution_count": 21,
   "metadata": {},
   "outputs": [
    {
     "data": {
      "text/plain": [
       "[(0.1, (1, 2))]"
      ]
     },
     "execution_count": 21,
     "metadata": {},
     "output_type": "execute_result"
    }
   ],
   "source": [
    "aaa"
   ]
  },
  {
   "cell_type": "code",
   "execution_count": 22,
   "metadata": {},
   "outputs": [
    {
     "data": {
      "text/plain": [
       "True"
      ]
     },
     "execution_count": 22,
     "metadata": {},
     "output_type": "execute_result"
    }
   ],
   "source": [
    "(0.1, (1, 2)) in aaa"
   ]
  },
  {
   "cell_type": "code",
   "execution_count": null,
   "metadata": {},
   "outputs": [],
   "source": []
  },
  {
   "cell_type": "code",
   "execution_count": null,
   "metadata": {},
   "outputs": [],
   "source": []
  },
  {
   "cell_type": "code",
   "execution_count": null,
   "metadata": {},
   "outputs": [],
   "source": []
  },
  {
   "cell_type": "code",
   "execution_count": 21,
   "metadata": {},
   "outputs": [
    {
     "name": "stdout",
     "output_type": "stream",
     "text": [
      "nrule: 5\n",
      "ndata: 6907\n",
      "the rank of x's columns:  [4, 0, 1, 2, 3]\n",
      ">>> log: False\n",
      ">>> support bound: True\n",
      ">>> accurate support bound: True\n",
      ">>> equiv points bound: True\n",
      ">>> lookahead bound: True\n",
      "total time:  10.082534074783325\n",
      "lambda:  0.0035\n",
      "leaves:  [(3,), (-3, 1), (-5, -3, -1), (-4, -3, -1, 5), (-3, -1, 4, 5)]\n",
      "prediction:  [1, 1, 0, 0, 1]\n",
      "Objective:  0.3541150282322281\n",
      "COUNT of the best tree:  2927\n",
      "time when the best tree is achieved:  3.949885606765747\n",
      "TOTAL COUNT:  12764\n",
      "         1033248 function calls (1033246 primitive calls) in 10.233 seconds\n",
      "\n",
      "   Ordered by: standard name\n",
      "\n",
      "   ncalls  tottime  percall  cumtime  percall filename:lineno(function)\n",
      "        5    0.000    0.000    0.000    0.000 <frozen importlib._bootstrap>:997(_handle_fromlist)\n",
      "        1    0.001    0.001   10.233   10.233 <string>:1(<module>)\n",
      "        3    0.000    0.000    0.000    0.000 __init__.py:200(iteritems)\n",
      "        1    0.000    0.000    0.000    0.000 _bootlocale.py:23(getpreferredencoding)\n",
      "    29392    0.107    0.000    0.351    0.000 _methods.py:31(_sum)\n",
      "        1    0.000    0.000    0.000    0.000 _methods.py:37(_any)\n",
      "        5    0.000    0.000    0.000    0.000 _weakrefset.py:70(__contains__)\n",
      "        3    0.000    0.000    0.000    0.000 abc.py:180(__instancecheck__)\n",
      "        1    0.000    0.000    0.000    0.000 algorithms.py:217(_get_data_algo)\n",
      "        1    0.000    0.000    0.000    0.000 algorithms.py:39(_ensure_data)\n",
      "        1    0.000    0.000    0.000    0.000 algorithms.py:680(rank)\n",
      "        3    0.000    0.000    0.000    0.000 base.py:4155(_ensure_index)\n",
      "        3    0.000    0.000    0.000    0.000 base.py:551(_reset_identity)\n",
      "        1    0.000    0.000    0.000    0.000 base.py:707(ndim)\n",
      "        1    0.000    0.000    0.000    0.000 base.py:799(tolist)\n",
      "        1    0.000    0.000    0.000    0.000 base.py:817(__iter__)\n",
      "        2    0.000    0.000    0.001    0.001 cast.py:39(maybe_convert_platform)\n",
      "        1    0.000    0.000    0.000    0.000 cast.py:826(maybe_castable)\n",
      "        1    0.000    0.000    0.000    0.000 cast.py:935(maybe_cast_to_datetime)\n",
      "        1    0.000    0.000    0.000    0.000 codecs.py:185(__init__)\n",
      "        1    0.000    0.000    0.000    0.000 common.py:1493(is_float_dtype)\n",
      "        2    0.000    0.000    0.000    0.000 common.py:1545(is_bool_dtype)\n",
      "        7    0.000    0.000    0.000    0.000 common.py:1773(_get_dtype_type)\n",
      "        3    0.000    0.000    0.000    0.000 common.py:207(_default_index)\n",
      "        2    0.000    0.000    0.000    0.000 common.py:223(is_datetimetz)\n",
      "        3    0.000    0.000    0.000    0.000 common.py:238(_all_none)\n",
      "        1    0.000    0.000    0.000    0.000 common.py:297(is_datetime64_dtype)\n",
      "        3    0.000    0.000    0.000    0.000 common.py:334(is_datetime64tz_dtype)\n",
      "        1    0.000    0.000    0.000    0.000 common.py:372(is_timedelta64_dtype)\n",
      "        3    0.000    0.000    0.000    0.000 common.py:478(is_categorical_dtype)\n",
      "        1    0.000    0.000    0.000    0.000 common.py:612(is_datetimelike)\n",
      "        2    0.000    0.000    0.000    0.000 common.py:824(is_signed_integer_dtype)\n",
      "        3    0.000    0.000    0.000    0.000 common.py:85(is_object_dtype)\n",
      "        2    0.000    0.000    0.000    0.000 common.py:873(is_unsigned_integer_dtype)\n",
      "      194    0.007    0.000    2.808    0.014 corels_dt_nosimilar.py:108(__init__)\n",
      "    12765    0.105    0.000    0.126    0.000 corels_dt_nosimilar.py:16(__init__)\n",
      "    12764    0.707    0.000    1.693    0.000 corels_dt_nosimilar.py:178(generate_new_splitleaf)\n",
      "    12764    0.044    0.000    0.044    0.000 corels_dt_nosimilar.py:182(<listcomp>)\n",
      "    12764    0.045    0.000    0.045    0.000 corels_dt_nosimilar.py:209(<listcomp>)\n",
      "        1    0.003    0.003    0.135    0.135 corels_dt_nosimilar.py:327(gini_reduction)\n",
      "        5    0.000    0.000    0.000    0.000 corels_dt_nosimilar.py:351(<lambda>)\n",
      "        1    1.750    1.750   10.232   10.232 corels_dt_nosimilar.py:356(bbound_nosimilar)\n",
      "    37599    0.127    0.000    0.127    0.000 corels_dt_nosimilar.py:473(<listcomp>)\n",
      "   304420    0.621    0.000    0.621    0.000 corels_dt_nosimilar.py:545(<genexpr>)\n",
      "    12764    0.037    0.000    0.037    0.000 corels_dt_nosimilar.py:558(<listcomp>)\n",
      "    20567    0.048    0.000    0.048    0.000 corels_dt_nosimilar.py:59(__lt__)\n",
      "        1    0.000    0.000    0.000    0.000 corels_dt_nosimilar.py:613(<listcomp>)\n",
      "        1    0.000    0.000    0.000    0.000 corels_dt_nosimilar.py:616(<listcomp>)\n",
      "        1    0.000    0.000    0.000    0.000 dtypes.py:372(__new__)\n",
      "        1    0.000    0.000    0.000    0.000 dtypes.py:430(construct_from_string)\n",
      "        4    0.000    0.000    0.000    0.000 dtypes.py:85(is_dtype)\n",
      "        1    0.000    0.000    0.002    0.002 frame.py:316(__init__)\n",
      "        1    0.000    0.000    0.002    0.002 frame.py:463(_init_ndarray)\n",
      "        1    0.000    0.000    0.000    0.000 frame.py:480(_get_axes)\n",
      "        1    0.000    0.000    0.001    0.001 frame.py:6228(_prep_ndarray)\n",
      "        1    0.000    0.000    0.001    0.001 frame.py:6233(convert)\n",
      "        3    0.000    0.000    0.000    0.000 generic.py:120(__init__)\n",
      "        1    0.000    0.000    0.000    0.000 generic.py:279(_construct_axes_dict)\n",
      "        1    0.000    0.000    0.000    0.000 generic.py:281(<listcomp>)\n",
      "        1    0.000    0.000    0.000    0.000 generic.py:346(_get_axis_number)\n",
      "        1    0.000    0.000    0.000    0.000 generic.py:3583(__finalize__)\n",
      "        1    0.000    0.000    0.000    0.000 generic.py:359(_get_axis_name)\n",
      "        2    0.000    0.000    0.000    0.000 generic.py:3600(__getattr__)\n",
      "        3    0.000    0.000    0.000    0.000 generic.py:3616(__setattr__)\n",
      "        1    0.000    0.000    0.000    0.000 generic.py:3661(_protect_consolidate)\n",
      "        1    0.000    0.000    0.000    0.000 generic.py:3671(_consolidate_inplace)\n",
      "        1    0.000    0.000    0.000    0.000 generic.py:3674(f)\n",
      "        1    0.000    0.000    0.000    0.000 generic.py:372(_get_axis)\n",
      "        1    0.000    0.000    0.000    0.000 generic.py:3753(as_matrix)\n",
      "        1    0.000    0.000    0.001    0.001 generic.py:5595(rank)\n",
      "        1    0.000    0.000    0.001    0.001 generic.py:5633(ranker)\n",
      "        5    0.000    0.000    0.000    0.000 generic.py:7(_check)\n",
      "        3    0.000    0.000    0.000    0.000 inference.py:234(is_list_like)\n",
      "        3    0.000    0.000    0.000    0.000 internals.py:107(__init__)\n",
      "        1    0.000    0.000    0.000    0.000 internals.py:155(external_values)\n",
      "        1    0.000    0.000    0.000    0.000 internals.py:159(internal_values)\n",
      "        1    0.000    0.000    0.000    0.000 internals.py:169(get_values)\n",
      "        7    0.000    0.000    0.000    0.000 internals.py:189(mgr_locs)\n",
      "        3    0.000    0.000    0.000    0.000 internals.py:226(mgr_locs)\n",
      "        3    0.000    0.000    0.000    0.000 internals.py:2921(make_block)\n",
      "        1    0.000    0.000    0.000    0.000 internals.py:299(shape)\n",
      "        1    0.000    0.000    0.000    0.000 internals.py:3017(__init__)\n",
      "        1    0.000    0.000    0.000    0.000 internals.py:3018(<listcomp>)\n",
      "        3    0.000    0.000    0.000    0.000 internals.py:3058(shape)\n",
      "        9    0.000    0.000    0.000    0.000 internals.py:3060(<genexpr>)\n",
      "        2    0.000    0.000    0.000    0.000 internals.py:3062(ndim)\n",
      "        7    0.000    0.000    0.000    0.000 internals.py:307(dtype)\n",
      "        1    0.000    0.000    0.000    0.000 internals.py:3102(_is_single_block)\n",
      "        1    0.000    0.000    0.000    0.000 internals.py:311(ftype)\n",
      "        1    0.000    0.000    0.000    0.000 internals.py:3114(_rebuild_blknos_and_blklocs)\n",
      "        3    0.000    0.000    0.000    0.000 internals.py:3135(_get_items)\n",
      "        2    0.000    0.000    0.000    0.000 internals.py:3224(__len__)\n",
      "        1    0.000    0.000    0.000    0.000 internals.py:3239(_verify_integrity)\n",
      "        2    0.000    0.000    0.000    0.000 internals.py:3241(<genexpr>)\n",
      "        2    0.000    0.000    0.000    0.000 internals.py:3524(is_consolidated)\n",
      "        1    0.000    0.000    0.000    0.000 internals.py:3532(_consolidate_check)\n",
      "        1    0.000    0.000    0.000    0.000 internals.py:3533(<listcomp>)\n",
      "        1    0.000    0.000    0.000    0.000 internals.py:3666(as_matrix)\n",
      "        1    0.000    0.000    0.000    0.000 internals.py:3813(consolidate)\n",
      "        1    0.000    0.000    0.000    0.000 internals.py:3829(_consolidate_inplace)\n",
      "        2    0.000    0.000    0.000    0.000 internals.py:4363(__init__)\n",
      "        8    0.000    0.000    0.000    0.000 internals.py:4409(_block)\n",
      "        6    0.000    0.000    0.000    0.000 internals.py:4479(dtype)\n",
      "        1    0.000    0.000    0.000    0.000 internals.py:4503(external_values)\n",
      "        1    0.000    0.000    0.000    0.000 internals.py:4506(internal_values)\n",
      "        1    0.000    0.000    0.001    0.001 internals.py:4611(create_block_manager_from_blocks)\n",
      "       66    0.001    0.000    0.004    0.000 iostream.py:195(schedule)\n",
      "       64    0.000    0.000    0.000    0.000 iostream.py:300(_is_master_process)\n",
      "       64    0.000    0.000    0.000    0.000 iostream.py:313(_schedule_flush)\n",
      "       64    0.001    0.000    0.006    0.000 iostream.py:366(write)\n",
      "       66    0.000    0.000    0.000    0.000 iostream.py:93(_event_pipe)\n",
      "        1    0.000    0.000    0.000    0.000 numeric.py:424(asarray)\n",
      "        2    0.000    0.000    0.000    0.000 numeric.py:99(is_all_dates)\n",
      "        3    0.000    0.000    0.000    0.000 range.py:119(_simple_new)\n",
      "        3    0.000    0.000    0.000    0.000 range.py:146(_validate_dtype)\n",
      "       14    0.000    0.000    0.000    0.000 range.py:469(__len__)\n",
      "        3    0.000    0.000    0.000    0.000 range.py:56(__new__)\n",
      "        6    0.000    0.000    0.000    0.000 range.py:72(_ensure_int)\n",
      "      581    0.006    0.000    1.555    0.003 re.py:184(sub)\n",
      "      581    0.003    0.000    0.003    0.000 re.py:286(_compile)\n",
      "      581    2.591    0.004    4.191    0.007 rule.py:148(rule_vectompz)\n",
      "      581    0.004    0.000    0.005    0.000 rule.py:162(rule_vand)\n",
      "        1    0.000    0.000    0.000    0.000 rule.py:74(make_all_ones)\n",
      "        2    0.000    0.000    0.001    0.000 series.py:155(__init__)\n",
      "        1    0.000    0.000    0.000    0.000 series.py:284(_constructor)\n",
      "        2    0.000    0.000    0.000    0.000 series.py:300(_set_axis)\n",
      "        2    0.000    0.000    0.000    0.000 series.py:3136(_sanitize_array)\n",
      "        1    0.000    0.000    0.000    0.000 series.py:3153(_try_cast)\n",
      "        2    0.000    0.000    0.000    0.000 series.py:326(_set_subtyp)\n",
      "        3    0.000    0.000    0.000    0.000 series.py:336(name)\n",
      "        3    0.000    0.000    0.000    0.000 series.py:340(name)\n",
      "        6    0.000    0.000    0.000    0.000 series.py:347(dtype)\n",
      "        1    0.000    0.000    0.000    0.000 series.py:367(values)\n",
      "        1    0.000    0.000    0.000    0.000 series.py:400(_values)\n",
      "        1    0.000    0.000    0.000    0.000 series.py:483(__len__)\n",
      "       66    0.002    0.000    0.002    0.000 socket.py:333(send)\n",
      "       66    0.000    0.000    0.000    0.000 threading.py:1062(_wait_for_tstate_lock)\n",
      "       66    0.001    0.000    0.001    0.000 threading.py:1104(is_alive)\n",
      "       66    0.000    0.000    0.000    0.000 threading.py:506(is_set)\n",
      "        3    0.000    0.000    0.000    0.000 {built-in method __new__ of type object at 0x7f49b7acf780}\n",
      "    12765    0.105    0.000    0.144    0.000 {built-in method _heapq.heappop}\n",
      "    12765    0.050    0.000    0.059    0.000 {built-in method _heapq.heappush}\n",
      "        1    0.000    0.000    0.000    0.000 {built-in method _locale.nl_langinfo}\n",
      "        1    0.000    0.000   10.233   10.233 {built-in method builtins.exec}\n",
      "       12    0.000    0.000    0.000    0.000 {built-in method builtins.getattr}\n",
      "       12    0.000    0.000    0.000    0.000 {built-in method builtins.hasattr}\n",
      "      183    0.000    0.000    0.001    0.000 {built-in method builtins.isinstance}\n",
      "       17    0.000    0.000    0.000    0.000 {built-in method builtins.issubclass}\n",
      "        4    0.000    0.000    0.000    0.000 {built-in method builtins.iter}\n",
      "222083/222081    0.377    0.000    0.378    0.000 {built-in method builtins.len}\n",
      "       14    0.000    0.000    0.000    0.000 {built-in method builtins.max}\n",
      "    12764    0.033    0.000    0.033    0.000 {built-in method builtins.min}\n",
      "        1    0.000    0.000    0.000    0.000 {built-in method builtins.pow}\n",
      "       16    0.000    0.000    0.006    0.000 {built-in method builtins.print}\n",
      "   117873    0.965    0.000    1.586    0.000 {built-in method builtins.sorted}\n",
      "    12776    0.163    0.000    0.163    0.000 {built-in method builtins.sum}\n",
      "      582    0.045    0.000    0.045    0.000 {built-in method gmpy2.mpz}\n",
      "      581    0.001    0.000    0.001    0.000 {built-in method gmpy2.popcount}\n",
      "        1    0.000    0.000    0.000    0.000 {built-in method io.open}\n",
      "        1    0.000    0.000    0.000    0.000 {built-in method numpy.core.multiarray.arange}\n",
      "    12976    0.114    0.000    0.114    0.000 {built-in method numpy.core.multiarray.array}\n",
      "        2    0.000    0.000    0.000    0.000 {built-in method numpy.core.multiarray.empty}\n",
      "        1    0.000    0.000    0.000    0.000 {built-in method pandas._libs.algos.ensure_float64}\n",
      "        4    0.000    0.000    0.000    0.000 {built-in method pandas._libs.lib.is_integer}\n",
      "        6    0.000    0.000    0.000    0.000 {built-in method pandas._libs.lib.isscalar}\n",
      "        2    0.000    0.000    0.000    0.000 {built-in method pandas._libs.lib.list_to_object_array}\n",
      "       64    0.000    0.000    0.000    0.000 {built-in method posix.getpid}\n",
      "        6    0.000    0.000    0.000    0.000 {built-in method time.time}\n",
      "       66    0.000    0.000    0.000    0.000 {method 'acquire' of '_thread.lock' objects}\n",
      "        1    0.000    0.000    0.000    0.000 {method 'any' of 'numpy.ndarray' objects}\n",
      "       66    0.000    0.000    0.000    0.000 {method 'append' of 'collections.deque' objects}\n",
      "    14232    0.028    0.000    0.028    0.000 {method 'append' of 'list' objects}\n",
      "    56332    0.106    0.000    0.106    0.000 {method 'copy' of 'list' objects}\n",
      "        1    0.000    0.000    0.000    0.000 {method 'disable' of '_lsprof.Profiler' objects}\n",
      "        2    0.000    0.000    0.000    0.000 {method 'fill' of 'numpy.ndarray' objects}\n",
      "        3    0.000    0.000    0.000    0.000 {method 'get' of 'dict' objects}\n",
      "    25528    0.066    0.000    0.066    0.000 {method 'index' of 'list' objects}\n",
      "        3    0.000    0.000    0.000    0.000 {method 'items' of 'dict' objects}\n",
      "        3    0.000    0.000    0.000    0.000 {method 'join' of 'str' objects}\n",
      "    12765    0.031    0.000    0.031    0.000 {method 'pop' of 'list' objects}\n",
      "    29393    0.244    0.000    0.244    0.000 {method 'reduce' of 'numpy.ufunc' objects}\n",
      "      195    0.001    0.000    0.001    0.000 {method 'reshape' of 'numpy.ndarray' objects}\n",
      "        1    0.000    0.000    0.000    0.000 {method 'search' of '_sre.SRE_Pattern' objects}\n",
      "      581    1.546    0.003    1.546    0.003 {method 'sub' of '_sre.SRE_Pattern' objects}\n",
      "    29392    0.141    0.000    0.493    0.000 {method 'sum' of 'numpy.ndarray' objects}\n",
      "        1    0.000    0.000    0.000    0.000 {method 'tolist' of 'numpy.ndarray' objects}\n",
      "        1    0.000    0.000    0.000    0.000 {method 'update' of 'dict' objects}\n",
      "        2    0.000    0.000    0.000    0.000 {method 'write' of '_io.TextIOWrapper' objects}\n",
      "        1    0.000    0.000    0.000    0.000 {pandas._libs.algos.rank_1d_float64}\n",
      "        2    0.001    0.001    0.001    0.001 {pandas._libs.lib.maybe_convert_objects}\n",
      "\n",
      "\n"
     ]
    }
   ],
   "source": [
    "cProfile.run(\"bbound_nosimilar(x, y, lamb=0.0035, prior_metric=\\\"objective\\\", MAXDEPTH = 4)\")"
   ]
  },
  {
   "cell_type": "code",
   "execution_count": 22,
   "metadata": {},
   "outputs": [
    {
     "name": "stdout",
     "output_type": "stream",
     "text": [
      "nrule: 5\n",
      "ndata: 6907\n",
      "the rank of x's columns:  [4, 0, 1, 2, 3]\n",
      ">>> log: False\n",
      ">>> support bound: True\n",
      ">>> accurate support bound: True\n",
      ">>> equiv points bound: True\n",
      ">>> lookahead bound: True\n",
      "total time:  53.315651416778564\n",
      "lambda:  0.0035\n",
      "leaves:  [(3,), (-3, 1), (-5, -3, -1), (-4, -3, -1, 5), (-3, -1, 4, 5)]\n",
      "prediction:  [1, 1, 0, 0, 1]\n",
      "Objective:  0.3541150282322281\n",
      "COUNT of the best tree:  2916\n",
      "time when the best tree is achieved:  5.6540985107421875\n",
      "TOTAL COUNT:  9157\n",
      "         9280221 function calls (9280219 primitive calls) in 53.476 seconds\n",
      "\n",
      "   Ordered by: standard name\n",
      "\n",
      "   ncalls  tottime  percall  cumtime  percall filename:lineno(function)\n",
      "        5    0.000    0.000    0.000    0.000 <frozen importlib._bootstrap>:997(_handle_fromlist)\n",
      "        1    0.001    0.001   53.476   53.476 <string>:1(<module>)\n",
      "        3    0.000    0.000    0.000    0.000 __init__.py:200(iteritems)\n",
      "        1    0.000    0.000    0.000    0.000 _bootlocale.py:23(getpreferredencoding)\n",
      "    19345    0.071    0.000    0.244    0.000 _methods.py:31(_sum)\n",
      "        1    0.000    0.000    0.000    0.000 _methods.py:37(_any)\n",
      "        5    0.000    0.000    0.000    0.000 _weakrefset.py:70(__contains__)\n",
      "        3    0.000    0.000    0.000    0.000 abc.py:180(__instancecheck__)\n",
      "        1    0.000    0.000    0.000    0.000 algorithms.py:217(_get_data_algo)\n",
      "        1    0.000    0.000    0.000    0.000 algorithms.py:39(_ensure_data)\n",
      "        1    0.000    0.000    0.000    0.000 algorithms.py:680(rank)\n",
      "        3    0.000    0.000    0.000    0.000 base.py:4155(_ensure_index)\n",
      "        3    0.000    0.000    0.000    0.000 base.py:551(_reset_identity)\n",
      "        1    0.000    0.000    0.000    0.000 base.py:707(ndim)\n",
      "        1    0.000    0.000    0.000    0.000 base.py:799(tolist)\n",
      "        1    0.000    0.000    0.000    0.000 base.py:817(__iter__)\n",
      "        2    0.000    0.000    0.002    0.001 cast.py:39(maybe_convert_platform)\n",
      "        1    0.000    0.000    0.000    0.000 cast.py:826(maybe_castable)\n",
      "        1    0.000    0.000    0.000    0.000 cast.py:935(maybe_cast_to_datetime)\n",
      "        1    0.000    0.000    0.000    0.000 codecs.py:185(__init__)\n",
      "        1    0.000    0.000    0.000    0.000 common.py:1493(is_float_dtype)\n",
      "        2    0.000    0.000    0.000    0.000 common.py:1545(is_bool_dtype)\n",
      "        7    0.000    0.000    0.000    0.000 common.py:1773(_get_dtype_type)\n",
      "        3    0.000    0.000    0.000    0.000 common.py:207(_default_index)\n",
      "        2    0.000    0.000    0.000    0.000 common.py:223(is_datetimetz)\n",
      "        3    0.000    0.000    0.000    0.000 common.py:238(_all_none)\n",
      "        1    0.000    0.000    0.000    0.000 common.py:297(is_datetime64_dtype)\n",
      "        3    0.000    0.000    0.000    0.000 common.py:334(is_datetime64tz_dtype)\n",
      "        1    0.000    0.000    0.000    0.000 common.py:372(is_timedelta64_dtype)\n",
      "        3    0.000    0.000    0.000    0.000 common.py:478(is_categorical_dtype)\n",
      "        1    0.000    0.000    0.000    0.000 common.py:612(is_datetimelike)\n",
      "        2    0.000    0.000    0.000    0.000 common.py:824(is_signed_integer_dtype)\n",
      "        3    0.000    0.000    0.000    0.000 common.py:85(is_object_dtype)\n",
      "        2    0.000    0.000    0.000    0.000 common.py:873(is_unsigned_integer_dtype)\n",
      "      193    0.006    0.000    2.754    0.014 corels_dt_similar.py:118(__init__)\n",
      "     9158    0.080    0.000    0.096    0.000 corels_dt_similar.py:17(__init__)\n",
      "     9157    0.505    0.000    1.200    0.000 corels_dt_similar.py:187(generate_new_splitleaf)\n",
      "     9157    0.031    0.000    0.031    0.000 corels_dt_similar.py:192(<listcomp>)\n",
      "     9157    0.032    0.000    0.032    0.000 corels_dt_similar.py:219(<listcomp>)\n",
      "        1    0.004    0.004    0.143    0.143 corels_dt_similar.py:338(gini_reduction)\n",
      "        5    0.000    0.000    0.000    0.000 corels_dt_similar.py:362(<lambda>)\n",
      "        1   19.904   19.904   53.475   53.475 corels_dt_similar.py:368(bbound_similar)\n",
      "    17492    0.066    0.000    0.066    0.000 corels_dt_similar.py:557(<listcomp>)\n",
      "   177232    0.355    0.000    0.355    0.000 corels_dt_similar.py:628(<genexpr>)\n",
      "     9157    0.027    0.000    0.027    0.000 corels_dt_similar.py:640(<listcomp>)\n",
      "    15453    0.037    0.000    0.037    0.000 corels_dt_similar.py:66(__lt__)\n",
      "        1    0.000    0.000    0.000    0.000 corels_dt_similar.py:695(<listcomp>)\n",
      "        1    0.000    0.000    0.000    0.000 corels_dt_similar.py:698(<listcomp>)\n",
      "        1    0.000    0.000    0.000    0.000 dtypes.py:372(__new__)\n",
      "        1    0.000    0.000    0.000    0.000 dtypes.py:430(construct_from_string)\n",
      "        4    0.000    0.000    0.000    0.000 dtypes.py:85(is_dtype)\n",
      "        1    0.000    0.000    0.003    0.003 frame.py:316(__init__)\n",
      "        1    0.000    0.000    0.002    0.002 frame.py:463(_init_ndarray)\n",
      "        1    0.000    0.000    0.000    0.000 frame.py:480(_get_axes)\n",
      "        1    0.000    0.000    0.002    0.002 frame.py:6228(_prep_ndarray)\n",
      "        1    0.000    0.000    0.002    0.002 frame.py:6233(convert)\n",
      "        3    0.000    0.000    0.000    0.000 generic.py:120(__init__)\n",
      "        1    0.000    0.000    0.000    0.000 generic.py:279(_construct_axes_dict)\n",
      "        1    0.000    0.000    0.000    0.000 generic.py:281(<listcomp>)\n",
      "        1    0.000    0.000    0.000    0.000 generic.py:346(_get_axis_number)\n",
      "        1    0.000    0.000    0.000    0.000 generic.py:3583(__finalize__)\n",
      "        1    0.000    0.000    0.000    0.000 generic.py:359(_get_axis_name)\n",
      "        2    0.000    0.000    0.000    0.000 generic.py:3600(__getattr__)\n",
      "        3    0.000    0.000    0.000    0.000 generic.py:3616(__setattr__)\n",
      "        1    0.000    0.000    0.000    0.000 generic.py:3661(_protect_consolidate)\n",
      "        1    0.000    0.000    0.000    0.000 generic.py:3671(_consolidate_inplace)\n",
      "        1    0.000    0.000    0.000    0.000 generic.py:3674(f)\n",
      "        1    0.000    0.000    0.000    0.000 generic.py:372(_get_axis)\n",
      "        1    0.000    0.000    0.000    0.000 generic.py:3753(as_matrix)\n",
      "        1    0.000    0.000    0.001    0.001 generic.py:5595(rank)\n",
      "        1    0.000    0.000    0.001    0.001 generic.py:5633(ranker)\n",
      "        5    0.000    0.000    0.000    0.000 generic.py:7(_check)\n",
      "        3    0.000    0.000    0.000    0.000 inference.py:234(is_list_like)\n",
      "        3    0.000    0.000    0.000    0.000 internals.py:107(__init__)\n",
      "        1    0.000    0.000    0.000    0.000 internals.py:155(external_values)\n",
      "        1    0.000    0.000    0.000    0.000 internals.py:159(internal_values)\n",
      "        1    0.000    0.000    0.000    0.000 internals.py:169(get_values)\n",
      "        7    0.000    0.000    0.000    0.000 internals.py:189(mgr_locs)\n",
      "        3    0.000    0.000    0.000    0.000 internals.py:226(mgr_locs)\n",
      "        3    0.000    0.000    0.000    0.000 internals.py:2921(make_block)\n",
      "        1    0.000    0.000    0.000    0.000 internals.py:299(shape)\n",
      "        1    0.000    0.000    0.000    0.000 internals.py:3017(__init__)\n",
      "        1    0.000    0.000    0.000    0.000 internals.py:3018(<listcomp>)\n",
      "        3    0.000    0.000    0.000    0.000 internals.py:3058(shape)\n",
      "        9    0.000    0.000    0.000    0.000 internals.py:3060(<genexpr>)\n",
      "        2    0.000    0.000    0.000    0.000 internals.py:3062(ndim)\n",
      "        7    0.000    0.000    0.000    0.000 internals.py:307(dtype)\n",
      "        1    0.000    0.000    0.000    0.000 internals.py:3102(_is_single_block)\n",
      "        1    0.000    0.000    0.000    0.000 internals.py:311(ftype)\n",
      "        1    0.000    0.000    0.000    0.000 internals.py:3114(_rebuild_blknos_and_blklocs)\n",
      "        3    0.000    0.000    0.000    0.000 internals.py:3135(_get_items)\n",
      "        2    0.000    0.000    0.000    0.000 internals.py:3224(__len__)\n",
      "        1    0.000    0.000    0.000    0.000 internals.py:3239(_verify_integrity)\n",
      "        2    0.000    0.000    0.000    0.000 internals.py:3241(<genexpr>)\n",
      "        2    0.000    0.000    0.000    0.000 internals.py:3524(is_consolidated)\n",
      "        1    0.000    0.000    0.000    0.000 internals.py:3532(_consolidate_check)\n",
      "        1    0.000    0.000    0.000    0.000 internals.py:3533(<listcomp>)\n",
      "        1    0.000    0.000    0.000    0.000 internals.py:3666(as_matrix)\n",
      "        1    0.000    0.000    0.000    0.000 internals.py:3813(consolidate)\n",
      "        1    0.000    0.000    0.000    0.000 internals.py:3829(_consolidate_inplace)\n",
      "        2    0.000    0.000    0.000    0.000 internals.py:4363(__init__)\n",
      "        8    0.000    0.000    0.000    0.000 internals.py:4409(_block)\n",
      "        6    0.000    0.000    0.000    0.000 internals.py:4479(dtype)\n",
      "        1    0.000    0.000    0.000    0.000 internals.py:4503(external_values)\n",
      "        1    0.000    0.000    0.000    0.000 internals.py:4506(internal_values)\n",
      "        1    0.000    0.000    0.001    0.001 internals.py:4611(create_block_manager_from_blocks)\n",
      "       66    0.001    0.000    0.004    0.000 iostream.py:195(schedule)\n",
      "       64    0.000    0.000    0.000    0.000 iostream.py:300(_is_master_process)\n",
      "       64    0.000    0.000    0.000    0.000 iostream.py:313(_schedule_flush)\n",
      "       64    0.001    0.000    0.005    0.000 iostream.py:366(write)\n",
      "       66    0.000    0.000    0.000    0.000 iostream.py:93(_event_pipe)\n",
      "        1    0.000    0.000    0.000    0.000 numeric.py:424(asarray)\n",
      "        2    0.000    0.000    0.000    0.000 numeric.py:99(is_all_dates)\n",
      "        3    0.000    0.000    0.000    0.000 range.py:119(_simple_new)\n",
      "        3    0.000    0.000    0.000    0.000 range.py:146(_validate_dtype)\n",
      "       14    0.000    0.000    0.000    0.000 range.py:469(__len__)\n",
      "        3    0.000    0.000    0.000    0.000 range.py:56(__new__)\n",
      "        6    0.000    0.000    0.000    0.000 range.py:72(_ensure_int)\n",
      "      578    0.005    0.000    1.514    0.003 re.py:184(sub)\n",
      "      578    0.003    0.000    0.003    0.000 re.py:286(_compile)\n",
      "      578    2.545    0.004    4.104    0.007 rule.py:148(rule_vectompz)\n",
      "      578    0.003    0.000    0.005    0.000 rule.py:162(rule_vand)\n",
      "  4309153   17.693    0.000   26.569    0.000 rule.py:191(rule_vxor)\n",
      "        1    0.000    0.000    0.000    0.000 rule.py:74(make_all_ones)\n",
      "        2    0.000    0.000    0.001    0.000 series.py:155(__init__)\n",
      "        1    0.000    0.000    0.000    0.000 series.py:284(_constructor)\n",
      "        2    0.000    0.000    0.000    0.000 series.py:300(_set_axis)\n",
      "        2    0.000    0.000    0.000    0.000 series.py:3136(_sanitize_array)\n",
      "        1    0.000    0.000    0.000    0.000 series.py:3153(_try_cast)\n",
      "        2    0.000    0.000    0.000    0.000 series.py:326(_set_subtyp)\n",
      "        3    0.000    0.000    0.000    0.000 series.py:336(name)\n",
      "        3    0.000    0.000    0.000    0.000 series.py:340(name)\n",
      "        6    0.000    0.000    0.000    0.000 series.py:347(dtype)\n",
      "        1    0.000    0.000    0.000    0.000 series.py:367(values)\n",
      "        1    0.000    0.000    0.000    0.000 series.py:400(_values)\n",
      "        1    0.000    0.000    0.000    0.000 series.py:483(__len__)\n",
      "       66    0.001    0.000    0.001    0.000 socket.py:333(send)\n",
      "       66    0.000    0.000    0.000    0.000 threading.py:1062(_wait_for_tstate_lock)\n",
      "       66    0.000    0.000    0.001    0.000 threading.py:1104(is_alive)\n",
      "       66    0.000    0.000    0.000    0.000 threading.py:506(is_set)\n",
      "        3    0.000    0.000    0.000    0.000 {built-in method __new__ of type object at 0x7f49b7acf780}\n",
      "     9158    0.081    0.000    0.112    0.000 {built-in method _heapq.heappop}\n",
      "     9158    0.035    0.000    0.041    0.000 {built-in method _heapq.heappush}\n",
      "        1    0.000    0.000    0.000    0.000 {built-in method _locale.nl_langinfo}\n",
      "        1    0.000    0.000   53.476   53.476 {built-in method builtins.exec}\n",
      "       12    0.000    0.000    0.000    0.000 {built-in method builtins.getattr}\n",
      "       12    0.000    0.000    0.000    0.000 {built-in method builtins.hasattr}\n",
      "      183    0.000    0.000    0.001    0.000 {built-in method builtins.isinstance}\n",
      "       17    0.000    0.000    0.000    0.000 {built-in method builtins.issubclass}\n",
      "        4    0.000    0.000    0.000    0.000 {built-in method builtins.iter}\n",
      "147962/147960    0.265    0.000    0.265    0.000 {built-in method builtins.len}\n",
      "       14    0.000    0.000    0.000    0.000 {built-in method builtins.max}\n",
      "     9157    0.025    0.000    0.025    0.000 {built-in method builtins.min}\n",
      "        1    0.000    0.000    0.000    0.000 {built-in method builtins.pow}\n",
      "       16    0.000    0.000    0.005    0.000 {built-in method builtins.print}\n",
      "    73433    0.585    0.000    0.940    0.000 {built-in method builtins.sorted}\n",
      "     9169    0.161    0.000    0.161    0.000 {built-in method builtins.sum}\n",
      "      579    0.045    0.000    0.045    0.000 {built-in method gmpy2.mpz}\n",
      "  4309731    8.877    0.000    8.877    0.000 {built-in method gmpy2.popcount}\n",
      "        1    0.000    0.000    0.000    0.000 {built-in method io.open}\n",
      "        1    0.000    0.000    0.000    0.000 {built-in method numpy.core.multiarray.arange}\n",
      "     9368    0.089    0.000    0.089    0.000 {built-in method numpy.core.multiarray.array}\n",
      "        2    0.000    0.000    0.000    0.000 {built-in method numpy.core.multiarray.empty}\n",
      "        1    0.000    0.000    0.000    0.000 {built-in method pandas._libs.algos.ensure_float64}\n",
      "        4    0.000    0.000    0.000    0.000 {built-in method pandas._libs.lib.is_integer}\n",
      "        6    0.000    0.000    0.000    0.000 {built-in method pandas._libs.lib.isscalar}\n",
      "        2    0.000    0.000    0.000    0.000 {built-in method pandas._libs.lib.list_to_object_array}\n",
      "       64    0.000    0.000    0.000    0.000 {built-in method posix.getpid}\n",
      "        6    0.000    0.000    0.000    0.000 {built-in method time.time}\n",
      "       66    0.000    0.000    0.000    0.000 {method 'acquire' of '_thread.lock' objects}\n",
      "        1    0.000    0.000    0.000    0.000 {method 'any' of 'numpy.ndarray' objects}\n",
      "       66    0.000    0.000    0.000    0.000 {method 'append' of 'collections.deque' objects}\n",
      "    10458    0.021    0.000    0.021    0.000 {method 'append' of 'list' objects}\n",
      "    36799    0.071    0.000    0.071    0.000 {method 'copy' of 'list' objects}\n",
      "        1    0.000    0.000    0.000    0.000 {method 'disable' of '_lsprof.Profiler' objects}\n",
      "        2    0.000    0.000    0.000    0.000 {method 'fill' of 'numpy.ndarray' objects}\n",
      "        3    0.000    0.000    0.000    0.000 {method 'get' of 'dict' objects}\n",
      "    18314    0.046    0.000    0.046    0.000 {method 'index' of 'list' objects}\n",
      "        3    0.000    0.000    0.000    0.000 {method 'items' of 'dict' objects}\n"
     ]
    },
    {
     "name": "stdout",
     "output_type": "stream",
     "text": [
      "        3    0.000    0.000    0.000    0.000 {method 'join' of 'str' objects}\n",
      "     9158    0.023    0.000    0.023    0.000 {method 'pop' of 'list' objects}\n",
      "    19346    0.172    0.000    0.172    0.000 {method 'reduce' of 'numpy.ufunc' objects}\n",
      "      194    0.001    0.000    0.001    0.000 {method 'reshape' of 'numpy.ndarray' objects}\n",
      "        1    0.000    0.000    0.000    0.000 {method 'search' of '_sre.SRE_Pattern' objects}\n",
      "      578    1.506    0.003    1.506    0.003 {method 'sub' of '_sre.SRE_Pattern' objects}\n",
      "    19345    0.093    0.000    0.337    0.000 {method 'sum' of 'numpy.ndarray' objects}\n",
      "        1    0.000    0.000    0.000    0.000 {method 'tolist' of 'numpy.ndarray' objects}\n",
      "        1    0.000    0.000    0.000    0.000 {method 'update' of 'dict' objects}\n",
      "        2    0.000    0.000    0.000    0.000 {method 'write' of '_io.TextIOWrapper' objects}\n",
      "        1    0.000    0.000    0.000    0.000 {pandas._libs.algos.rank_1d_float64}\n",
      "        2    0.001    0.001    0.001    0.001 {pandas._libs.lib.maybe_convert_objects}\n",
      "\n",
      "\n"
     ]
    }
   ],
   "source": [
    "cProfile.run(\"bbound_similar(x, y, lamb=0.0035, prior_metric=\\\"objective\\\", MAXDEPTH = 4)\")"
   ]
  },
  {
   "cell_type": "code",
   "execution_count": 23,
   "metadata": {},
   "outputs": [
    {
     "name": "stdout",
     "output_type": "stream",
     "text": [
      "nrule: 5\n",
      "ndata: 6907\n",
      "the rank of x's columns:  [4, 0, 1, 2, 3]\n",
      ">>> log: False\n",
      ">>> support bound: True\n",
      ">>> accurate support bound: True\n",
      ">>> equiv points bound: True\n",
      ">>> lookahead bound: True\n",
      "total time:  11.018238544464111\n",
      "lambda:  0.0035\n",
      "leaves:  [(3,), (-3, 1), (-5, -3, -1), (-4, -3, -1, 5), (-3, -1, 4, 5)]\n",
      "prediction:  [1, 1, 0, 0, 1]\n",
      "Objective:  0.3541150282322281\n",
      "COUNT of the best tree:  14826\n",
      "time when the best tree is achieved:  4.4402501583099365\n",
      "TOTAL COUNT:  58505\n"
     ]
    },
    {
     "data": {
      "text/plain": [
       "<corels_dt_nosimilar.CacheTree at 0x7f496b060d68>"
      ]
     },
     "execution_count": 23,
     "metadata": {},
     "output_type": "execute_result"
    }
   ],
   "source": [
    "bbound_nosimilar(x, y, lamb=0.0035, prior_metric=\"objective\", MAXDEPTH = 5)"
   ]
  },
  {
   "cell_type": "code",
   "execution_count": 18,
   "metadata": {},
   "outputs": [
    {
     "name": "stdout",
     "output_type": "stream",
     "text": [
      "nrule: 5\n",
      "ndata: 6907\n",
      "the rank of x's columns:  [4, 0, 1, 2, 3]\n",
      ">>> log: False\n",
      ">>> support bound: True\n",
      ">>> accurate support bound: True\n",
      ">>> equiv points bound: True\n",
      ">>> lookahead bound: True\n",
      "total time:  6.423090696334839\n",
      "lambda:  0.0035\n",
      "leaves:  [(3,), (-3, 1), (-5, -3, -1), (-4, -3, -1, 5), (-3, -1, 4, 5)]\n",
      "prediction:  [1, 1, 0, 0, 1]\n",
      "Objective:  0.3541150282322281\n",
      "COUNT of the best tree:  5525\n",
      "time when the best tree is achieved:  3.6138153076171875\n",
      "TOTAL COUNT:  18855\n"
     ]
    },
    {
     "data": {
      "text/plain": [
       "<corels_dt_nosimilar.CacheTree at 0x7f1afc508588>"
      ]
     },
     "execution_count": 18,
     "metadata": {},
     "output_type": "execute_result"
    }
   ],
   "source": [
    "### tighter incremental ###\n",
    "bbound_nosimilar(x, y, lamb=0.0035, prior_metric=\"objective\", MAXDEPTH = 5)"
   ]
  },
  {
   "cell_type": "code",
   "execution_count": 24,
   "metadata": {},
   "outputs": [
    {
     "name": "stdout",
     "output_type": "stream",
     "text": [
      "nrule: 5\n",
      "ndata: 6907\n",
      "the rank of x's columns:  [4, 0, 1, 2, 3]\n",
      ">>> log: False\n",
      ">>> support bound: True\n",
      ">>> accurate support bound: True\n",
      ">>> equiv points bound: True\n",
      ">>> lookahead bound: True\n",
      "total time:  319.85523533821106\n",
      "lambda:  0.0035\n",
      "leaves:  [(3,), (-3, 1), (-5, -3, -1), (-4, -3, -1, 5), (-3, -1, 4, 5)]\n",
      "prediction:  [1, 1, 0, 0, 1]\n",
      "Objective:  0.3541150282322281\n",
      "COUNT of the best tree:  14056\n",
      "time when the best tree is achieved:  16.275825262069702\n",
      "TOTAL COUNT:  48117\n"
     ]
    },
    {
     "data": {
      "text/plain": [
       "<corels_dt_similar.CacheTree at 0x7f496af9d5f8>"
      ]
     },
     "execution_count": 24,
     "metadata": {},
     "output_type": "execute_result"
    }
   ],
   "source": [
    "bbound_similar(x, y, lamb=0.0035, prior_metric=\"objective\", MAXDEPTH = 5)"
   ]
  },
  {
   "cell_type": "code",
   "execution_count": 19,
   "metadata": {},
   "outputs": [
    {
     "name": "stdout",
     "output_type": "stream",
     "text": [
      "nrule: 5\n",
      "ndata: 6907\n",
      "the rank of x's columns:  [4, 0, 1, 2, 3]\n",
      ">>> log: False\n",
      ">>> support bound: True\n",
      ">>> accurate support bound: True\n",
      ">>> equiv points bound: True\n",
      ">>> lookahead bound: True\n",
      "total time:  91.42455744743347\n",
      "lambda:  0.0035\n",
      "leaves:  [(3,), (-3, 1), (-5, -3, -1), (-4, -3, -1, 5), (-3, -1, 4, 5)]\n",
      "prediction:  [1, 1, 0, 0, 1]\n",
      "Objective:  0.3541150282322281\n",
      "COUNT of the best tree:  5525\n",
      "time when the best tree is achieved:  6.0132012367248535\n",
      "TOTAL COUNT:  20197\n"
     ]
    },
    {
     "data": {
      "text/plain": [
       "<corels_dt_similar.CacheTree at 0x7f7aa343d5f8>"
      ]
     },
     "execution_count": 19,
     "metadata": {},
     "output_type": "execute_result"
    }
   ],
   "source": [
    "### tighter incremental ###\n",
    "bbound_similar(x, y, lamb=0.0035, prior_metric=\"objective\", MAXDEPTH = 5)"
   ]
  },
  {
   "cell_type": "code",
   "execution_count": 19,
   "metadata": {},
   "outputs": [
    {
     "name": "stdout",
     "output_type": "stream",
     "text": [
      "nrule: 5\n",
      "ndata: 6907\n",
      "the rank of x's columns:  [4, 0, 1, 2, 3]\n",
      ">>> log: False\n",
      ">>> support bound: True\n",
      ">>> accurate support bound: True\n",
      ">>> equiv points bound: True\n",
      ">>> lookahead bound: True\n",
      "total time:  54.678985834121704\n",
      "lambda:  0.0035\n",
      "leaves:  [(3,), (-3, 1), (-5, -3, -1), (-4, -3, -1, 5), (-3, -1, 4, 5)]\n",
      "prediction:  [1, 1, 0, 0, 1]\n",
      "Objective:  0.3541150282322281\n",
      "COUNT of the best tree:  5525\n",
      "time when the best tree is achieved:  5.865641832351685\n",
      "TOTAL COUNT:  17633\n"
     ]
    },
    {
     "data": {
      "text/plain": [
       "<corels_dt_similar.CacheTree at 0x7f1afc397fd0>"
      ]
     },
     "execution_count": 19,
     "metadata": {},
     "output_type": "execute_result"
    }
   ],
   "source": [
    "bbound_similar(x, y, lamb=0.0035, prior_metric=\"objective\", MAXDEPTH = 5)"
   ]
  },
  {
   "cell_type": "code",
   "execution_count": 18,
   "metadata": {},
   "outputs": [
    {
     "name": "stdout",
     "output_type": "stream",
     "text": [
      "nrule: 5\n",
      "ndata: 6907\n",
      "the rank of x's columns:  [4, 0, 1, 2, 3]\n",
      ">>> log: False\n",
      ">>> support bound: True\n",
      ">>> accurate support bound: True\n",
      ">>> equiv points bound: True\n",
      ">>> lookahead bound: True\n",
      "total time:  80.14964938163757\n",
      "lambda:  0.0035\n",
      "leaves:  [(3,), (-3, 1), (-5, -3, -1), (-4, -3, -1, 5), (-3, -1, 4, 5)]\n",
      "prediction:  [1, 1, 0, 0, 1]\n",
      "Objective:  0.3541150282322281\n",
      "COUNT of the best tree:  5525\n",
      "time when the best tree is achieved:  7.568428039550781\n",
      "TOTAL COUNT:  17633\n"
     ]
    },
    {
     "data": {
      "text/plain": [
       "<corels_dt_similar_priority.CacheTree at 0x7fbd8aadf470>"
      ]
     },
     "execution_count": 18,
     "metadata": {},
     "output_type": "execute_result"
    }
   ],
   "source": [
    "### priority tree.risk\n",
    "bbound_similar_priority(x, y, lamb=0.0035, prior_metric=\"objective\", MAXDEPTH = 5)"
   ]
  },
  {
   "cell_type": "code",
   "execution_count": 17,
   "metadata": {},
   "outputs": [
    {
     "name": "stdout",
     "output_type": "stream",
     "text": [
      "nrule: 5\n",
      "ndata: 6907\n",
      "the rank of x's columns:  [4, 0, 1, 2, 3]\n",
      ">>> log: False\n",
      ">>> support bound: True\n",
      ">>> accurate support bound: True\n",
      ">>> equiv points bound: True\n",
      ">>> lookahead bound: True\n",
      "total time:  63.66035604476929\n",
      "lambda:  0.0035\n",
      "leaves:  [(3,), (-3, 1), (-5, -3, -1), (-4, -3, -1, 5), (-3, -1, 4, 5)]\n",
      "prediction:  [1, 1, 0, 0, 1]\n",
      "Objective:  0.3541150282322281\n",
      "COUNT of the best tree:  5525\n",
      "time when the best tree is achieved:  6.575494050979614\n",
      "TOTAL COUNT:  17633\n"
     ]
    },
    {
     "data": {
      "text/plain": [
       "<corels_dt_similar_priority.CacheTree at 0x7f1584411d30>"
      ]
     },
     "execution_count": 17,
     "metadata": {},
     "output_type": "execute_result"
    }
   ],
   "source": [
    "### priority -(simil_ct+1)\n",
    "bbound_similar_priority(x, y, lamb=0.0035, prior_metric=\"objective\", MAXDEPTH = 5)"
   ]
  },
  {
   "cell_type": "code",
   "execution_count": null,
   "metadata": {},
   "outputs": [],
   "source": []
  },
  {
   "cell_type": "code",
   "execution_count": null,
   "metadata": {},
   "outputs": [],
   "source": []
  },
  {
   "cell_type": "code",
   "execution_count": 19,
   "metadata": {},
   "outputs": [
    {
     "name": "stdout",
     "output_type": "stream",
     "text": [
      "nrule: 6\n",
      "ndata: 6907\n",
      "the rank of x's columns:  [5, 0, 4, 1, 2, 3]\n",
      "COUNT: 100000\n",
      "COUNT: 200000\n",
      "COUNT: 300000\n",
      "COUNT: 400000\n",
      "COUNT: 500000\n",
      "COUNT: 600000\n",
      "COUNT: 700000\n",
      ">>> log: False\n",
      ">>> support bound: True\n",
      ">>> accurate support bound: True\n",
      ">>> equiv points bound: True\n",
      ">>> lookahead bound: True\n",
      "total time:  104.39202117919922\n",
      "lambda:  0.01\n",
      "leaves:  [(1,), (-6, -1), (-1, 6)]\n",
      "prediction:  [1, 1, 0]\n",
      "Objective:  0.3748675256985667\n",
      "COUNT of the best tree:  11\n",
      "time when the best tree is achieved:  0.5258162021636963\n",
      "TOTAL COUNT:  754374\n"
     ]
    },
    {
     "data": {
      "text/plain": [
       "<corels_dt_nosimilar.CacheTree at 0x7f11d7fe2518>"
      ]
     },
     "execution_count": 19,
     "metadata": {},
     "output_type": "execute_result"
    }
   ],
   "source": [
    "bbound_nosimilar(x6, y, lamb=0.01, prior_metric=\"objective\", MAXDEPTH = 5)"
   ]
  },
  {
   "cell_type": "code",
   "execution_count": 49,
   "metadata": {},
   "outputs": [
    {
     "name": "stdout",
     "output_type": "stream",
     "text": [
      "nrule: 6\n",
      "ndata: 6907\n",
      "the rank of x's columns:  [5, 0, 4, 1, 2, 3]\n",
      ">>> log: False\n",
      ">>> support bound: True\n",
      ">>> accurate support bound: True\n",
      ">>> equiv points bound: True\n",
      ">>> lookahead bound: True\n",
      "total time:  10.628950119018555\n",
      "lambda:  0.01\n",
      "leaves:  [(1,), (-6, -1), (-1, 6)]\n",
      "prediction:  [1, 1, 0]\n",
      "Objective:  0.3748675256985667\n",
      "COUNT of the best tree:  11\n",
      "time when the best tree is achieved:  0.49529409408569336\n",
      "TOTAL COUNT:  18104\n"
     ]
    },
    {
     "data": {
      "text/plain": [
       "<corels_dt_nosimilar.CacheTree at 0x7fc08c70f7b8>"
      ]
     },
     "execution_count": 49,
     "metadata": {},
     "output_type": "execute_result"
    }
   ],
   "source": [
    "### tighter incremental ###\n",
    "bbound_nosimilar(x6, y, lamb=0.01, prior_metric=\"objective\", MAXDEPTH = 5)"
   ]
  },
  {
   "cell_type": "code",
   "execution_count": 17,
   "metadata": {},
   "outputs": [
    {
     "name": "stdout",
     "output_type": "stream",
     "text": [
      "nrule: 6\n",
      "ndata: 6907\n",
      "the rank of x's columns:  [5, 0, 4, 1, 2, 3]\n",
      ">>> log: False\n",
      ">>> support bound: True\n",
      ">>> accurate support bound: True\n",
      ">>> equiv points bound: True\n",
      ">>> lookahead bound: True\n",
      "total time:  11.318727493286133\n",
      "lambda:  0.01\n",
      "leaves:  [(1,), (-6, -1), (-1, 6)]\n",
      "prediction:  [1, 1, 0]\n",
      "Objective:  0.3748675256985667\n",
      "COUNT of the best tree:  11\n",
      "time when the best tree is achieved:  0.4984321594238281\n",
      "TOTAL COUNT:  20382\n"
     ]
    },
    {
     "data": {
      "text/plain": [
       "<corels_dt_nosimilar.CacheTree at 0x7f4eae8dcc88>"
      ]
     },
     "execution_count": 17,
     "metadata": {},
     "output_type": "execute_result"
    }
   ],
   "source": [
    "### tighter incremental ###\n",
    "bbound_nosimilar(x6, y, lamb=0.01, prior_metric=\"objective\", MAXDEPTH = 6)"
   ]
  },
  {
   "cell_type": "code",
   "execution_count": 18,
   "metadata": {},
   "outputs": [
    {
     "name": "stdout",
     "output_type": "stream",
     "text": [
      "nrule: 6\n",
      "ndata: 6907\n",
      "the rank of x's columns:  [5, 0, 4, 1, 2, 3]\n",
      ">>> log: False\n",
      ">>> support bound: True\n",
      ">>> accurate support bound: True\n",
      ">>> equiv points bound: True\n",
      ">>> lookahead bound: True\n",
      "total time:  54.17368698120117\n",
      "lambda:  0.01\n",
      "leaves:  [(1,), (-6, -1), (-1, 6)]\n",
      "prediction:  [1, 1, 0]\n",
      "Objective:  0.3748675256985667\n",
      "COUNT of the best tree:  11\n",
      "time when the best tree is achieved:  0.4591836929321289\n",
      "TOTAL COUNT:  11621\n"
     ]
    },
    {
     "data": {
      "text/plain": [
       "<corels_dt_similar.CacheTree at 0x7f4eae8eda58>"
      ]
     },
     "execution_count": 18,
     "metadata": {},
     "output_type": "execute_result"
    }
   ],
   "source": [
    "### tighter incremental ###\n",
    "bbound_similar(x6, y, lamb=0.01, prior_metric=\"objective\", MAXDEPTH = 6)"
   ]
  },
  {
   "cell_type": "code",
   "execution_count": 20,
   "metadata": {},
   "outputs": [
    {
     "name": "stdout",
     "output_type": "stream",
     "text": [
      "nrule: 6\n",
      "ndata: 6907\n",
      "the rank of x's columns:  [5, 0, 4, 1, 2, 3]\n",
      ">>> log: False\n",
      ">>> support bound: True\n",
      ">>> accurate support bound: True\n",
      ">>> equiv points bound: True\n",
      ">>> lookahead bound: True\n",
      "total time:  49.53106093406677\n",
      "lambda:  0.01\n",
      "leaves:  [(1,), (-6, -1), (-1, 6)]\n",
      "prediction:  [1, 1, 0]\n",
      "Objective:  0.3748675256985667\n",
      "COUNT of the best tree:  11\n",
      "time when the best tree is achieved:  0.5225584506988525\n",
      "TOTAL COUNT:  10780\n"
     ]
    },
    {
     "data": {
      "text/plain": [
       "<corels_dt_similar.CacheTree at 0x7f1afc5c75c0>"
      ]
     },
     "execution_count": 20,
     "metadata": {},
     "output_type": "execute_result"
    }
   ],
   "source": [
    "### tighter incremental ###\n",
    "bbound_similar(x6, y, lamb=0.01, prior_metric=\"objective\", MAXDEPTH = 6)"
   ]
  },
  {
   "cell_type": "code",
   "execution_count": 17,
   "metadata": {},
   "outputs": [
    {
     "name": "stdout",
     "output_type": "stream",
     "text": [
      "nrule: 6\n",
      "ndata: 6907\n",
      "the rank of x's columns:  [5, 0, 4, 1, 2, 3]\n",
      ">>> log: False\n",
      ">>> support bound: True\n",
      ">>> accurate support bound: True\n",
      ">>> equiv points bound: True\n",
      ">>> lookahead bound: True\n",
      "total time:  67.3289864063263\n",
      "lambda:  0.01\n",
      "leaves:  [(1,), (-6, -1), (-1, 6)]\n",
      "prediction:  [1, 1, 0]\n",
      "Objective:  0.3748675256985667\n",
      "COUNT of the best tree:  11\n",
      "time when the best tree is achieved:  0.5085046291351318\n",
      "TOTAL COUNT:  10780\n"
     ]
    },
    {
     "data": {
      "text/plain": [
       "<corels_dt_similar_priority.CacheTree at 0x7fbd8ac2a7b8>"
      ]
     },
     "execution_count": 17,
     "metadata": {},
     "output_type": "execute_result"
    }
   ],
   "source": [
    "### priority tree.risk\n",
    "bbound_similar_priority(x6, y, lamb=0.01, prior_metric=\"objective\", MAXDEPTH = 6)"
   ]
  },
  {
   "cell_type": "code",
   "execution_count": 18,
   "metadata": {},
   "outputs": [
    {
     "name": "stdout",
     "output_type": "stream",
     "text": [
      "nrule: 6\n",
      "ndata: 6907\n",
      "the rank of x's columns:  [5, 0, 4, 1, 2, 3]\n",
      ">>> log: False\n",
      ">>> support bound: True\n",
      ">>> accurate support bound: True\n",
      ">>> equiv points bound: True\n",
      ">>> lookahead bound: True\n",
      "total time:  60.29576778411865\n",
      "lambda:  0.01\n",
      "leaves:  [(1,), (-6, -1), (-1, 6)]\n",
      "prediction:  [1, 1, 0]\n",
      "Objective:  0.3748675256985667\n",
      "COUNT of the best tree:  11\n",
      "time when the best tree is achieved:  0.49385738372802734\n",
      "TOTAL COUNT:  10780\n"
     ]
    },
    {
     "data": {
      "text/plain": [
       "<corels_dt_similar_priority.CacheTree at 0x7f1584442b38>"
      ]
     },
     "execution_count": 18,
     "metadata": {},
     "output_type": "execute_result"
    }
   ],
   "source": [
    "### priority -(simil_ct+1)\n",
    "bbound_similar_priority(x6, y, lamb=0.01, prior_metric=\"objective\", MAXDEPTH = 6)"
   ]
  },
  {
   "cell_type": "code",
   "execution_count": null,
   "metadata": {},
   "outputs": [],
   "source": []
  },
  {
   "cell_type": "code",
   "execution_count": null,
   "metadata": {
    "scrolled": false
   },
   "outputs": [
    {
     "name": "stdout",
     "output_type": "stream",
     "text": [
      "nrule: 6\n",
      "ndata: 6907\n",
      "the rank of x's columns:  [5, 0, 4, 1, 2, 3]\n",
      "COUNT: 100000\n",
      "COUNT: 200000\n",
      "COUNT: 300000\n",
      "COUNT: 400000\n",
      "COUNT: 500000\n",
      "COUNT: 600000\n",
      "COUNT: 700000\n",
      "COUNT: 800000\n",
      "COUNT: 900000\n",
      "COUNT: 1000000\n",
      "COUNT: 1100000\n",
      "COUNT: 1200000\n",
      "COUNT: 1300000\n",
      "COUNT: 1400000\n",
      "COUNT: 1500000\n",
      "COUNT: 1600000\n",
      "COUNT: 1700000\n",
      "COUNT: 1800000\n",
      "COUNT: 1900000\n",
      "COUNT: 2000000\n",
      "COUNT: 2100000\n",
      "COUNT: 2200000\n",
      "COUNT: 2300000\n",
      "COUNT: 2400000\n",
      "COUNT: 2500000\n",
      "COUNT: 2600000\n",
      "COUNT: 2700000\n",
      "COUNT: 2800000\n",
      "COUNT: 2900000\n",
      "COUNT: 3000000\n",
      "COUNT: 3100000\n",
      "COUNT: 3200000\n",
      "COUNT: 3300000\n",
      "COUNT: 3400000\n",
      "COUNT: 3500000\n",
      "COUNT: 3600000\n",
      "COUNT: 3700000\n",
      "COUNT: 3800000\n",
      "COUNT: 3900000\n",
      "COUNT: 4000000\n",
      "COUNT: 4100000\n",
      "COUNT: 4200000\n",
      "COUNT: 4300000\n",
      "COUNT: 4400000\n",
      "COUNT: 4500000\n",
      "COUNT: 4600000\n",
      "COUNT: 4700000\n",
      "COUNT: 4800000\n",
      "COUNT: 4900000\n",
      "COUNT: 5000000\n",
      "COUNT: 5100000\n",
      "COUNT: 5200000\n",
      "COUNT: 5300000\n",
      "COUNT: 5400000\n",
      "COUNT: 5500000\n",
      "COUNT: 5600000\n",
      "COUNT: 5700000\n",
      "COUNT: 5800000\n",
      "COUNT: 5900000\n",
      "COUNT: 6000000\n",
      "COUNT: 6100000\n",
      "COUNT: 6200000\n",
      "COUNT: 6300000\n",
      "COUNT: 6400000\n",
      "COUNT: 6500000\n",
      "COUNT: 6600000\n",
      "COUNT: 6700000\n",
      "COUNT: 6800000\n",
      "COUNT: 6900000\n",
      "COUNT: 7000000\n",
      "COUNT: 7100000\n",
      "COUNT: 7200000\n",
      "COUNT: 7300000\n",
      "COUNT: 7400000\n",
      "COUNT: 7500000\n",
      "COUNT: 7600000\n",
      "COUNT: 7700000\n",
      "COUNT: 7800000\n",
      "COUNT: 7900000\n",
      "COUNT: 8000000\n",
      "COUNT: 8100000\n",
      "COUNT: 8200000\n",
      "COUNT: 8300000\n",
      "COUNT: 8400000\n",
      "COUNT: 8500000\n",
      "COUNT: 8600000\n",
      "COUNT: 8700000\n",
      "COUNT: 8800000\n",
      "COUNT: 8900000\n",
      "COUNT: 9000000\n",
      "COUNT: 9100000\n",
      "COUNT: 9200000\n",
      "COUNT: 9300000\n",
      "COUNT: 9400000\n",
      "COUNT: 9500000\n",
      "COUNT: 9600000\n",
      "COUNT: 9700000\n",
      "COUNT: 9800000\n",
      "COUNT: 9900000\n",
      "COUNT: 10000000\n",
      "COUNT: 10100000\n",
      "COUNT: 10200000\n",
      "COUNT: 10300000\n",
      "COUNT: 10400000\n",
      "COUNT: 10500000\n",
      "COUNT: 10600000\n",
      "COUNT: 10700000\n",
      "COUNT: 10800000\n",
      "COUNT: 10900000\n",
      "COUNT: 11000000\n",
      "COUNT: 11100000\n"
     ]
    }
   ],
   "source": [
    "### tighter incremental ###\n",
    "bbound_nosimilar(x6, y, lamb=0.0036, prior_metric=\"objective\", MAXDEPTH = 6)"
   ]
  },
  {
   "cell_type": "code",
   "execution_count": null,
   "metadata": {},
   "outputs": [],
   "source": [
    "### tighter incremental ###\n",
    "bbound_similar(x6, y, lamb=0.0035, prior_metric=\"objective\", MAXDEPTH = 6)"
   ]
  },
  {
   "cell_type": "code",
   "execution_count": null,
   "metadata": {},
   "outputs": [],
   "source": []
  }
 ],
 "metadata": {
  "kernelspec": {
   "display_name": "Python 3",
   "language": "python",
   "name": "python3"
  },
  "language_info": {
   "codemirror_mode": {
    "name": "ipython",
    "version": 3
   },
   "file_extension": ".py",
   "mimetype": "text/x-python",
   "name": "python",
   "nbconvert_exporter": "python",
   "pygments_lexer": "ipython3",
   "version": "3.6.5"
  }
 },
 "nbformat": 4,
 "nbformat_minor": 2
}
