{
 "cells": [
  {
   "cell_type": "code",
   "execution_count": 1,
   "metadata": {},
   "outputs": [],
   "source": [
    "%load_ext autoreload\n",
    "%autoreload 1"
   ]
  },
  {
   "cell_type": "code",
   "execution_count": 1,
   "metadata": {},
   "outputs": [],
   "source": [
    "import pandas as pd\n",
    "import numpy as np\n",
    "import heapq\n",
    "import math\n",
    "import time\n",
    "\n",
    "import gmpy2\n",
    "from gmpy2 import mpz\n",
    "import re\n",
    "\n",
    "from sklearn import tree\n",
    "\n",
    "import cProfile"
   ]
  },
  {
   "cell_type": "code",
   "execution_count": 2,
   "metadata": {},
   "outputs": [],
   "source": [
    "# Read in the dataset\n",
    "df = pd.DataFrame(pd.read_csv('../data/compas-binary.csv'))"
   ]
  },
  {
   "cell_type": "code",
   "execution_count": 3,
   "metadata": {},
   "outputs": [],
   "source": [
    "x_all = df.as_matrix()[:,:13]\n",
    "\n",
    "y = df.as_matrix()[:,13]"
   ]
  },
  {
   "cell_type": "code",
   "execution_count": 4,
   "metadata": {},
   "outputs": [],
   "source": [
    "# Association Rule Mining (Only one feature)\n",
    "\n",
    "#support\n",
    "#supp = [(x[:,i]*y).mean() for i in range(13)]\n",
    "#supp"
   ]
  },
  {
   "cell_type": "code",
   "execution_count": 5,
   "metadata": {},
   "outputs": [],
   "source": [
    "#confidence\n",
    "#conf1 = [sum(x_all[:,i]*y)/sum(x_all[:,i]) for i in range(13)]\n",
    "#conf1"
   ]
  },
  {
   "cell_type": "code",
   "execution_count": 6,
   "metadata": {},
   "outputs": [],
   "source": [
    "#confidence\n",
    "#conf0 = [sum((x_all[:,i]==0)*y)/sum((x_all[:,i]==0)) for i in range(13)]\n",
    "#conf0"
   ]
  },
  {
   "cell_type": "code",
   "execution_count": 7,
   "metadata": {},
   "outputs": [],
   "source": [
    "#x_idx = [conf1[i]>=0.5 or conf0[i]>=0.5 for i in range(len(conf1))]\n",
    "\n",
    "# Because Using both conf1 and conf0 would select out too many features, \n",
    "#which is hard for the algorithm to run out,\n",
    "# just use conf1 to select out a small fraction of feature.\n",
    "#x_idx = [conf1[i]>=0.5 for i in range(len(conf1))]\n",
    "#x_idx[0] = True # in the CORELS paper, gender is an important feature, so I add it manually\n",
    "#x_idx"
   ]
  },
  {
   "cell_type": "code",
   "execution_count": 8,
   "metadata": {},
   "outputs": [],
   "source": [
    "#select out these features\n",
    "#x = x_all[:,x_idx]"
   ]
  },
  {
   "cell_type": "code",
   "execution_count": 9,
   "metadata": {},
   "outputs": [
    {
     "data": {
      "text/plain": [
       "array([[0, 0, 0, 0, 0],\n",
       "       [0, 0, 0, 0, 0],\n",
       "       [0, 0, 1, 0, 1],\n",
       "       ...,\n",
       "       [0, 0, 0, 0, 0],\n",
       "       [1, 0, 0, 1, 0],\n",
       "       [1, 0, 1, 1, 0]])"
      ]
     },
     "execution_count": 9,
     "metadata": {},
     "output_type": "execute_result"
    }
   ],
   "source": [
    "#manaually select out 5 features, accoring to CORELS paper when lambda=0.01\n",
    "## sex:Female, age:18-20,age:21-22, juvenile-crimes:=0, priors:>3\n",
    "##x_idx = [0,1,2,8,12]\n",
    "\n",
    "# sex:Female, age:18-20,age:21-22, priors:2-3, priors:>3\n",
    "x_idx = [0,1,2,9,12]\n",
    "x = x_all[:,x_idx]\n",
    "x"
   ]
  },
  {
   "cell_type": "code",
   "execution_count": 10,
   "metadata": {},
   "outputs": [
    {
     "data": {
      "text/plain": [
       "array([[0, 0, 0, 1, 0, 0],\n",
       "       [0, 0, 0, 1, 0, 0],\n",
       "       [0, 0, 1, 0, 0, 1],\n",
       "       ...,\n",
       "       [0, 0, 0, 1, 0, 0],\n",
       "       [1, 0, 0, 1, 1, 0],\n",
       "       [1, 0, 1, 1, 1, 0]])"
      ]
     },
     "execution_count": 10,
     "metadata": {},
     "output_type": "execute_result"
    }
   ],
   "source": [
    "#manaually select out 6 features, accoring to CORELS paper when lambda=0.01\n",
    "# sex:Female, age:18-20,age:21-22, juvenile-crimes:=0, priors:2-3, priors:>3\n",
    "x_idx6 = [0,1,2,8,9,12]\n",
    "x6 = x_all[:,x_idx6]\n",
    "x6"
   ]
  },
  {
   "cell_type": "code",
   "execution_count": 11,
   "metadata": {},
   "outputs": [],
   "source": [
    "nrule = x.shape[1]\n",
    "ndata = len(y)"
   ]
  },
  {
   "cell_type": "code",
   "execution_count": 12,
   "metadata": {},
   "outputs": [],
   "source": [
    "clf = tree.DecisionTreeClassifier()\n",
    "clf = clf.fit(x, y)"
   ]
  },
  {
   "cell_type": "code",
   "execution_count": 13,
   "metadata": {},
   "outputs": [
    {
     "data": {
      "text/plain": [
       "0.3520089764007529"
      ]
     },
     "execution_count": 13,
     "metadata": {},
     "output_type": "execute_result"
    }
   ],
   "source": [
    "accu = clf.score(x,y)\n",
    "nleaves = (clf.tree_.node_count+1)/2\n",
    "R_c = 1-accu + 0.001*nleaves\n",
    "R_c"
   ]
  },
  {
   "cell_type": "code",
   "execution_count": 14,
   "metadata": {},
   "outputs": [
    {
     "name": "stdout",
     "output_type": "stream",
     "text": [
      "35\n"
     ]
    }
   ],
   "source": [
    "print(clf.tree_.node_count) #get the node count"
   ]
  },
  {
   "cell_type": "code",
   "execution_count": null,
   "metadata": {},
   "outputs": [],
   "source": []
  },
  {
   "cell_type": "code",
   "execution_count": null,
   "metadata": {},
   "outputs": [],
   "source": []
  },
  {
   "cell_type": "markdown",
   "metadata": {},
   "source": [
    "## With similar support bound"
   ]
  },
  {
   "cell_type": "markdown",
   "metadata": {},
   "source": [
    "### calculate similar support bound when the highly correlated features substitue each other"
   ]
  },
  {
   "cell_type": "markdown",
   "metadata": {},
   "source": [
    "### regular expression is used"
   ]
  },
  {
   "cell_type": "code",
   "execution_count": 15,
   "metadata": {},
   "outputs": [],
   "source": [
    "from corels_dt_nosimilar import bbound_nosimilar\n",
    "from corels_dt_similar import bbound_similar\n",
    "from corels_dt_similar_when_big import bbound_similar_when_big\n",
    "\n",
    "from corels_dt_similar_when_sub import bbound_similar_when_sub"
   ]
  },
  {
   "cell_type": "code",
   "execution_count": 16,
   "metadata": {},
   "outputs": [
    {
     "name": "stdout",
     "output_type": "stream",
     "text": [
      "nrule: 5\n",
      "ndata: 6907\n",
      "the rank of x's columns:  [4, 0, 1, 2, 3]\n",
      "COUNT: 100000\n",
      "COUNT: 200000\n",
      "COUNT: 300000\n",
      "COUNT: 400000\n",
      "COUNT: 500000\n",
      "COUNT: 600000\n",
      "COUNT: 700000\n",
      "COUNT: 800000\n",
      "COUNT: 900000\n",
      "COUNT: 1000000\n",
      "COUNT: 1100000\n",
      "COUNT: 1200000\n",
      "COUNT: 1300000\n",
      "COUNT: 1400000\n",
      ">>> log: False\n",
      ">>> support bound: True\n",
      ">>> accurate support bound: True\n",
      ">>> equiv points bound: True\n",
      ">>> lookahead bound: True\n",
      "total time:  184.81254839897156\n",
      "lambda:  0.0035\n",
      "leaves:  [(3,), (-3, 1), (-4, -3, -1), (-5, -3, -1, 4), (-3, -1, 4, 5)]\n",
      "prediction:  [1, 1, 0, 0, 1]\n",
      "Objective:  0.3541150282322281\n",
      "COUNT of the best tree:  121295\n",
      "time when the best tree is achieved:  14.326935529708862\n",
      "TOTAL COUNT:  1477303\n"
     ]
    },
    {
     "data": {
      "text/plain": [
       "<corels_dt_nosimilar.CacheTree at 0x7f0eeadb9400>"
      ]
     },
     "execution_count": 16,
     "metadata": {},
     "output_type": "execute_result"
    }
   ],
   "source": [
    "# use actual loss for support bound and accurate support bound\n",
    "bbound_nosimilar(x, y, lamb=0.0035, prior_metric=\"objective\", MAXDEPTH = 4)"
   ]
  },
  {
   "cell_type": "code",
   "execution_count": 19,
   "metadata": {},
   "outputs": [
    {
     "name": "stdout",
     "output_type": "stream",
     "text": [
      "nrule: 5\n",
      "ndata: 6907\n",
      "the rank of x's columns:  [4, 0, 1, 2, 3]\n",
      "COUNT: 100000\n",
      "COUNT: 200000\n",
      "COUNT: 300000\n",
      ">>> log: False\n",
      ">>> support bound: True\n",
      ">>> accurate support bound: True\n",
      ">>> equiv points bound: True\n",
      ">>> lookahead bound: True\n",
      "total time:  36.048810720443726\n",
      "lambda:  0.01\n",
      "leaves:  [(1,), (-3, -1), (-1, 3)]\n",
      "prediction:  [1, 0, 1]\n",
      "Objective:  0.3764601129289127\n",
      "COUNT of the best tree:  7\n",
      "time when the best tree is achieved:  0.31281542778015137\n",
      "TOTAL COUNT:  303874\n"
     ]
    },
    {
     "data": {
      "text/plain": [
       "<corels_dt_nosimilar.CacheTree at 0x7f0eeb6304e0>"
      ]
     },
     "execution_count": 19,
     "metadata": {},
     "output_type": "execute_result"
    }
   ],
   "source": [
    "bbound_nosimilar(x, y, lamb=0.01, prior_metric=\"objective\", MAXDEPTH = 4)"
   ]
  },
  {
   "cell_type": "code",
   "execution_count": 18,
   "metadata": {},
   "outputs": [
    {
     "name": "stdout",
     "output_type": "stream",
     "text": [
      "nrule: 5\n",
      "ndata: 6907\n",
      "the rank of x's columns:  [4, 0, 1, 2, 3]\n",
      ">>> log: False\n",
      ">>> support bound: True\n",
      ">>> accurate support bound: True\n",
      ">>> equiv points bound: True\n",
      ">>> lookahead bound: True\n",
      "total time:  81.10475730895996\n",
      "lambda:  0.01\n",
      "leaves:  [(1,), (-3, -1), (-1, 3)]\n",
      "prediction:  [1, 0, 1]\n",
      "Objective:  0.3764601129289127\n",
      "COUNT of the best tree:  7\n",
      "time when the best tree is achieved:  0.31783342361450195\n",
      "TOTAL COUNT:  57485\n"
     ]
    },
    {
     "data": {
      "text/plain": [
       "<corels_dt_similar.CacheTree at 0x7f0eeb630e80>"
      ]
     },
     "execution_count": 18,
     "metadata": {},
     "output_type": "execute_result"
    }
   ],
   "source": [
    "bbound_similar(x, y, lamb=0.01, prior_metric=\"objective\", MAXDEPTH = 4)"
   ]
  },
  {
   "cell_type": "code",
   "execution_count": 17,
   "metadata": {},
   "outputs": [
    {
     "name": "stdout",
     "output_type": "stream",
     "text": [
      "nrule: 5\n",
      "ndata: 6907\n",
      "the rank of x's columns:  [4, 0, 1, 2, 3]\n",
      "COUNT: 100000\n",
      "COUNT: 200000\n",
      ">>> log: False\n",
      ">>> support bound: True\n",
      ">>> accurate support bound: True\n",
      ">>> equiv points bound: True\n",
      ">>> lookahead bound: True\n",
      "total time:  739.2445468902588\n",
      "lambda:  0.0035\n",
      "leaves:  [(3,), (-3, 1), (-4, -3, -1), (-5, -3, -1, 4), (-3, -1, 4, 5)]\n",
      "prediction:  [1, 1, 0, 0, 1]\n",
      "Objective:  0.3541150282322281\n",
      "COUNT of the best tree:  119783\n",
      "time when the best tree is achieved:  103.84894824028015\n",
      "TOTAL COUNT:  264202\n"
     ]
    },
    {
     "data": {
      "text/plain": [
       "<corels_dt_similar.CacheTree at 0x7f0f326d86a0>"
      ]
     },
     "execution_count": 17,
     "metadata": {},
     "output_type": "execute_result"
    }
   ],
   "source": [
    "#if lb + lamb - deadprefix_lb < 0 continue; add to the head of the deadprefix list:\n",
    "# use actual loss for support bound and accurate support bound\n",
    "bbound_similar(x, y, lamb=0.0035, prior_metric=\"objective\", MAXDEPTH = 4)"
   ]
  },
  {
   "cell_type": "code",
   "execution_count": 20,
   "metadata": {
    "scrolled": false
   },
   "outputs": [
    {
     "name": "stdout",
     "output_type": "stream",
     "text": [
      "nrule: 5\n",
      "ndata: 6907\n",
      "the rank of x's columns:  [4, 0, 1, 2, 3]\n",
      "COUNT: 100000\n",
      "COUNT: 200000\n",
      ">>> log: False\n",
      ">>> support bound: True\n",
      ">>> accurate support bound: True\n",
      ">>> equiv points bound: True\n",
      ">>> lookahead bound: True\n",
      "total time:  2763.292908191681\n",
      "lambda:  0.0035\n",
      "leaves:  [(3,), (-3, 1), (-4, -3, -1), (-5, -3, -1, 4), (-3, -1, 4, 5)]\n",
      "prediction:  [1, 1, 0, 0, 1]\n",
      "Objective:  0.3541150282322281\n",
      "COUNT of the best tree:  119783\n",
      "time when the best tree is achieved:  512.4111704826355\n",
      "TOTAL COUNT:  264202\n",
      "         446076681 function calls (446076679 primitive calls) in 2763.462 seconds\n",
      "\n",
      "   Ordered by: standard name\n",
      "\n",
      "   ncalls  tottime  percall  cumtime  percall filename:lineno(function)\n",
      "        5    0.000    0.000    0.000    0.000 <frozen importlib._bootstrap>:997(_handle_fromlist)\n",
      "        1    0.023    0.023 2763.462 2763.462 <string>:1(<module>)\n",
      "        3    0.000    0.000    0.000    0.000 __init__.py:200(iteritems)\n",
      "        1    0.000    0.000    0.000    0.000 _bootlocale.py:23(getpreferredencoding)\n",
      "   642378    2.525    0.000    8.601    0.000 _methods.py:31(_sum)\n",
      "        1    0.000    0.000    0.000    0.000 _methods.py:37(_any)\n",
      "        5    0.000    0.000    0.000    0.000 _weakrefset.py:70(__contains__)\n",
      "        3    0.000    0.000    0.000    0.000 abc.py:180(__instancecheck__)\n",
      "        1    0.000    0.000    0.000    0.000 algorithms.py:217(_get_data_algo)\n",
      "        1    0.000    0.000    0.000    0.000 algorithms.py:39(_ensure_data)\n",
      "        1    0.000    0.000    0.000    0.000 algorithms.py:680(rank)\n",
      "        3    0.000    0.000    0.000    0.000 base.py:4155(_ensure_index)\n",
      "        3    0.000    0.000    0.000    0.000 base.py:551(_reset_identity)\n",
      "        1    0.000    0.000    0.000    0.000 base.py:707(ndim)\n",
      "        1    0.000    0.000    0.000    0.000 base.py:799(tolist)\n",
      "        1    0.000    0.000    0.000    0.000 base.py:817(__iter__)\n",
      "        2    0.000    0.000    0.001    0.001 cast.py:39(maybe_convert_platform)\n",
      "        1    0.000    0.000    0.000    0.000 cast.py:826(maybe_castable)\n",
      "        1    0.000    0.000    0.000    0.000 cast.py:935(maybe_cast_to_datetime)\n",
      "        1    0.000    0.000    0.000    0.000 codecs.py:185(__init__)\n",
      "        1    0.000    0.000    0.000    0.000 common.py:1493(is_float_dtype)\n",
      "        2    0.000    0.000    0.000    0.000 common.py:1545(is_bool_dtype)\n",
      "        7    0.000    0.000    0.000    0.000 common.py:1773(_get_dtype_type)\n",
      "        3    0.000    0.000    0.000    0.000 common.py:207(_default_index)\n",
      "        2    0.000    0.000    0.000    0.000 common.py:223(is_datetimetz)\n",
      "        3    0.000    0.000    0.000    0.000 common.py:238(_all_none)\n",
      "        1    0.000    0.000    0.000    0.000 common.py:297(is_datetime64_dtype)\n",
      "        3    0.000    0.000    0.000    0.000 common.py:334(is_datetime64tz_dtype)\n",
      "        1    0.000    0.000    0.000    0.000 common.py:372(is_timedelta64_dtype)\n",
      "        3    0.000    0.000    0.000    0.000 common.py:478(is_categorical_dtype)\n",
      "        1    0.000    0.000    0.000    0.000 common.py:612(is_datetimelike)\n",
      "        2    0.000    0.000    0.000    0.000 common.py:824(is_signed_integer_dtype)\n",
      "        3    0.000    0.000    0.000    0.000 common.py:85(is_object_dtype)\n",
      "        2    0.000    0.000    0.000    0.000 common.py:873(is_unsigned_integer_dtype)\n",
      "      201    0.007    0.000    2.779    0.014 corels_dt_similar.py:112(__init__)\n",
      "   264203    2.560    0.000    3.036    0.000 corels_dt_similar.py:16(__init__)\n",
      "   264202   16.225    0.000   39.468    0.000 corels_dt_similar.py:183(generate_new_splitleaf)\n",
      "   264202    1.105    0.000    1.105    0.000 corels_dt_similar.py:187(<listcomp>)\n",
      "   264202    1.141    0.000    1.141    0.000 corels_dt_similar.py:214(<listcomp>)\n",
      "        1    0.004    0.004    0.130    0.130 corels_dt_similar.py:332(gini_reduction)\n",
      "        5    0.000    0.000    0.000    0.000 corels_dt_similar.py:356(<lambda>)\n",
      "        1 1311.130 1311.130 2763.439 2763.439 corels_dt_similar.py:361(bbound_similar)\n",
      "   374268    1.627    0.000    1.627    0.000 corels_dt_similar.py:552(<listcomp>)\n",
      "  9617011   20.837    0.000   20.837    0.000 corels_dt_similar.py:606(<genexpr>)\n",
      "   264202    0.924    0.000    0.924    0.000 corels_dt_similar.py:619(<listcomp>)\n",
      "  1032572    2.741    0.000    2.741    0.000 corels_dt_similar.py:63(__lt__)\n",
      "        1    0.000    0.000    0.000    0.000 corels_dt_similar.py:675(<listcomp>)\n",
      "        1    0.000    0.000    0.000    0.000 corels_dt_similar.py:678(<listcomp>)\n",
      "        1    0.000    0.000    0.000    0.000 dtypes.py:372(__new__)\n",
      "        1    0.000    0.000    0.000    0.000 dtypes.py:430(construct_from_string)\n",
      "        4    0.000    0.000    0.000    0.000 dtypes.py:85(is_dtype)\n",
      "        1    0.000    0.000    0.002    0.002 frame.py:316(__init__)\n",
      "        1    0.000    0.000    0.002    0.002 frame.py:463(_init_ndarray)\n",
      "        1    0.000    0.000    0.000    0.000 frame.py:480(_get_axes)\n",
      "        1    0.000    0.000    0.001    0.001 frame.py:6228(_prep_ndarray)\n",
      "        1    0.000    0.000    0.001    0.001 frame.py:6233(convert)\n",
      "        3    0.000    0.000    0.000    0.000 generic.py:120(__init__)\n",
      "        1    0.000    0.000    0.000    0.000 generic.py:279(_construct_axes_dict)\n",
      "        1    0.000    0.000    0.000    0.000 generic.py:281(<listcomp>)\n",
      "        1    0.000    0.000    0.000    0.000 generic.py:346(_get_axis_number)\n",
      "        1    0.000    0.000    0.000    0.000 generic.py:3583(__finalize__)\n",
      "        1    0.000    0.000    0.000    0.000 generic.py:359(_get_axis_name)\n",
      "        2    0.000    0.000    0.000    0.000 generic.py:3600(__getattr__)\n",
      "        3    0.000    0.000    0.000    0.000 generic.py:3616(__setattr__)\n",
      "        1    0.000    0.000    0.000    0.000 generic.py:3661(_protect_consolidate)\n",
      "        1    0.000    0.000    0.000    0.000 generic.py:3671(_consolidate_inplace)\n",
      "        1    0.000    0.000    0.000    0.000 generic.py:3674(f)\n",
      "        1    0.000    0.000    0.000    0.000 generic.py:372(_get_axis)\n",
      "        1    0.000    0.000    0.000    0.000 generic.py:3753(as_matrix)\n",
      "        1    0.000    0.000    0.001    0.001 generic.py:5595(rank)\n",
      "        1    0.000    0.000    0.001    0.001 generic.py:5633(ranker)\n",
      "        5    0.000    0.000    0.000    0.000 generic.py:7(_check)\n",
      "        3    0.000    0.000    0.000    0.000 inference.py:234(is_list_like)\n",
      "        3    0.000    0.000    0.000    0.000 internals.py:107(__init__)\n",
      "        1    0.000    0.000    0.000    0.000 internals.py:155(external_values)\n",
      "        1    0.000    0.000    0.000    0.000 internals.py:159(internal_values)\n",
      "        1    0.000    0.000    0.000    0.000 internals.py:169(get_values)\n",
      "        7    0.000    0.000    0.000    0.000 internals.py:189(mgr_locs)\n",
      "        3    0.000    0.000    0.000    0.000 internals.py:226(mgr_locs)\n",
      "        3    0.000    0.000    0.000    0.000 internals.py:2921(make_block)\n",
      "        1    0.000    0.000    0.000    0.000 internals.py:299(shape)\n",
      "        1    0.000    0.000    0.000    0.000 internals.py:3017(__init__)\n",
      "        1    0.000    0.000    0.000    0.000 internals.py:3018(<listcomp>)\n",
      "        3    0.000    0.000    0.000    0.000 internals.py:3058(shape)\n",
      "        9    0.000    0.000    0.000    0.000 internals.py:3060(<genexpr>)\n",
      "        2    0.000    0.000    0.000    0.000 internals.py:3062(ndim)\n",
      "        7    0.000    0.000    0.000    0.000 internals.py:307(dtype)\n",
      "        1    0.000    0.000    0.000    0.000 internals.py:3102(_is_single_block)\n",
      "        1    0.000    0.000    0.000    0.000 internals.py:311(ftype)\n",
      "        1    0.000    0.000    0.000    0.000 internals.py:3114(_rebuild_blknos_and_blklocs)\n",
      "        3    0.000    0.000    0.000    0.000 internals.py:3135(_get_items)\n",
      "        2    0.000    0.000    0.000    0.000 internals.py:3224(__len__)\n",
      "        1    0.000    0.000    0.000    0.000 internals.py:3239(_verify_integrity)\n",
      "        2    0.000    0.000    0.000    0.000 internals.py:3241(<genexpr>)\n",
      "        2    0.000    0.000    0.000    0.000 internals.py:3524(is_consolidated)\n",
      "        1    0.000    0.000    0.000    0.000 internals.py:3532(_consolidate_check)\n",
      "        1    0.000    0.000    0.000    0.000 internals.py:3533(<listcomp>)\n",
      "        1    0.000    0.000    0.000    0.000 internals.py:3666(as_matrix)\n",
      "        1    0.000    0.000    0.000    0.000 internals.py:3813(consolidate)\n",
      "        1    0.000    0.000    0.000    0.000 internals.py:3829(_consolidate_inplace)\n",
      "        2    0.000    0.000    0.000    0.000 internals.py:4363(__init__)\n",
      "        8    0.000    0.000    0.000    0.000 internals.py:4409(_block)\n",
      "        6    0.000    0.000    0.000    0.000 internals.py:4479(dtype)\n",
      "        1    0.000    0.000    0.000    0.000 internals.py:4503(external_values)\n",
      "        1    0.000    0.000    0.000    0.000 internals.py:4506(internal_values)\n",
      "        1    0.000    0.000    0.000    0.000 internals.py:4611(create_block_manager_from_blocks)\n",
      "       76    0.001    0.000    0.005    0.000 iostream.py:195(schedule)\n",
      "       72    0.000    0.000    0.000    0.000 iostream.py:300(_is_master_process)\n",
      "       72    0.000    0.000    0.000    0.000 iostream.py:313(_schedule_flush)\n",
      "       72    0.001    0.000    0.007    0.000 iostream.py:366(write)\n",
      "       76    0.000    0.000    0.000    0.000 iostream.py:93(_event_pipe)\n",
      "        1    0.000    0.000    0.000    0.000 numeric.py:424(asarray)\n",
      "        2    0.000    0.000    0.000    0.000 numeric.py:99(is_all_dates)\n",
      "        3    0.000    0.000    0.000    0.000 range.py:119(_simple_new)\n",
      "        3    0.000    0.000    0.000    0.000 range.py:146(_validate_dtype)\n",
      "       14    0.000    0.000    0.000    0.000 range.py:469(__len__)\n",
      "        3    0.000    0.000    0.000    0.000 range.py:56(__new__)\n",
      "        6    0.000    0.000    0.000    0.000 range.py:72(_ensure_int)\n",
      "      602    0.006    0.000    1.587    0.003 re.py:184(sub)\n",
      "      602    0.003    0.000    0.003    0.000 re.py:286(_compile)\n",
      "      602    2.511    0.004    4.146    0.007 rule.py:148(rule_vectompz)\n",
      "      602    0.004    0.000    0.005    0.000 rule.py:162(rule_vand)\n",
      "210586599  896.531    0.000 1336.591    0.000 rule.py:191(rule_vxor)\n",
      "        1    0.000    0.000    0.000    0.000 rule.py:74(make_all_ones)\n",
      "        2    0.000    0.000    0.001    0.000 series.py:155(__init__)\n",
      "        1    0.000    0.000    0.000    0.000 series.py:284(_constructor)\n",
      "        2    0.000    0.000    0.000    0.000 series.py:300(_set_axis)\n",
      "        2    0.000    0.000    0.000    0.000 series.py:3136(_sanitize_array)\n",
      "        1    0.000    0.000    0.000    0.000 series.py:3153(_try_cast)\n",
      "        2    0.000    0.000    0.000    0.000 series.py:326(_set_subtyp)\n",
      "        3    0.000    0.000    0.000    0.000 series.py:336(name)\n",
      "        3    0.000    0.000    0.000    0.000 series.py:340(name)\n",
      "        6    0.000    0.000    0.000    0.000 series.py:347(dtype)\n",
      "        1    0.000    0.000    0.000    0.000 series.py:367(values)\n",
      "        1    0.000    0.000    0.000    0.000 series.py:400(_values)\n",
      "        1    0.000    0.000    0.000    0.000 series.py:483(__len__)\n",
      "       76    0.002    0.000    0.002    0.000 socket.py:333(send)\n",
      "       76    0.000    0.000    0.001    0.000 threading.py:1062(_wait_for_tstate_lock)\n",
      "       76    0.001    0.000    0.001    0.000 threading.py:1104(is_alive)\n",
      "       76    0.000    0.000    0.000    0.000 threading.py:506(is_set)\n",
      "        3    0.000    0.000    0.000    0.000 {built-in method __new__ of type object at 0x7f0f38065780}\n",
      "   264203    5.040    0.000    7.645    0.000 {built-in method _heapq.heappop}\n",
      "   264203    1.016    0.000    1.153    0.000 {built-in method _heapq.heappush}\n",
      "        1    0.000    0.000    0.000    0.000 {built-in method _locale.nl_langinfo}\n",
      "        1    0.000    0.000 2763.462 2763.462 {built-in method builtins.exec}\n",
      "       12    0.000    0.000    0.000    0.000 {built-in method builtins.getattr}\n",
      "       12    0.000    0.000    0.000    0.000 {built-in method builtins.hasattr}\n",
      "      191    0.000    0.000    0.001    0.000 {built-in method builtins.isinstance}\n",
      "       17    0.000    0.000    0.000    0.000 {built-in method builtins.issubclass}\n",
      "        4    0.000    0.000    0.000    0.000 {built-in method builtins.iter}\n",
      "4792264/4792262    8.659    0.000    8.659    0.000 {built-in method builtins.len}\n",
      "       14    0.000    0.000    0.000    0.000 {built-in method builtins.max}\n",
      "   264202    0.736    0.000    0.736    0.000 {built-in method builtins.min}\n",
      "        1    0.000    0.000    0.000    0.000 {built-in method builtins.pow}\n",
      "       18    0.000    0.000    0.007    0.000 {built-in method builtins.print}\n",
      "  2896420   29.524    0.000   50.360    0.000 {built-in method builtins.sorted}\n",
      "   264214    0.903    0.000    0.903    0.000 {built-in method builtins.sum}\n",
      "      603    0.047    0.000    0.047    0.000 {built-in method gmpy2.mpz}\n",
      "210587201  440.062    0.000  440.062    0.000 {built-in method gmpy2.popcount}\n",
      "        1    0.000    0.000    0.000    0.000 {built-in method io.open}\n",
      "        1    0.000    0.000    0.000    0.000 {built-in method numpy.core.multiarray.arange}\n",
      "   264421    2.738    0.000    2.738    0.000 {built-in method numpy.core.multiarray.array}\n",
      "        2    0.000    0.000    0.000    0.000 {built-in method numpy.core.multiarray.empty}\n",
      "        1    0.000    0.000    0.000    0.000 {built-in method pandas._libs.algos.ensure_float64}\n",
      "        4    0.000    0.000    0.000    0.000 {built-in method pandas._libs.lib.is_integer}\n",
      "        6    0.000    0.000    0.000    0.000 {built-in method pandas._libs.lib.isscalar}\n",
      "        2    0.000    0.000    0.000    0.000 {built-in method pandas._libs.lib.list_to_object_array}\n",
      "       72    0.000    0.000    0.000    0.000 {built-in method posix.getpid}\n",
      "        6    0.000    0.000    0.000    0.000 {built-in method time.time}\n",
      "       76    0.000    0.000    0.000    0.000 {method 'acquire' of '_thread.lock' objects}\n",
      "        1    0.000    0.000    0.000    0.000 {method 'any' of 'numpy.ndarray' objects}\n",
      "       76    0.000    0.000    0.000    0.000 {method 'append' of 'collections.deque' objects}\n",
      "   294459    0.623    0.000    0.623    0.000 {method 'append' of 'list' objects}\n",
      "   528405    1.144    0.000    1.144    0.000 {method 'copy' of 'list' objects}\n",
      "        1    0.000    0.000    0.000    0.000 {method 'disable' of '_lsprof.Profiler' objects}\n",
      "        2    0.000    0.000    0.000    0.000 {method 'fill' of 'numpy.ndarray' objects}\n",
      "        3    0.000    0.000    0.000    0.000 {method 'get' of 'dict' objects}\n",
      "   528404    1.464    0.000    1.464    0.000 {method 'index' of 'list' objects}\n",
      "        3    0.000    0.000    0.000    0.000 {method 'items' of 'dict' objects}\n",
      "        3    0.000    0.000    0.000    0.000 {method 'join' of 'str' objects}\n",
      "   264203    0.718    0.000    0.718    0.000 {method 'pop' of 'list' objects}\n",
      "   642379    6.076    0.000    6.076    0.000 {method 'reduce' of 'numpy.ufunc' objects}\n",
      "      202    0.001    0.000    0.001    0.000 {method 'reshape' of 'numpy.ndarray' objects}\n",
      "        1    0.000    0.000    0.000    0.000 {method 'search' of '_sre.SRE_Pattern' objects}\n",
      "      602    1.578    0.003    1.578    0.003 {method 'sub' of '_sre.SRE_Pattern' objects}\n",
      "   642378    3.218    0.000   11.819    0.000 {method 'sum' of 'numpy.ndarray' objects}\n",
      "        1    0.000    0.000    0.000    0.000 {method 'tolist' of 'numpy.ndarray' objects}\n",
      "        1    0.000    0.000    0.000    0.000 {method 'update' of 'dict' objects}\n",
      "        2    0.000    0.000    0.000    0.000 {method 'write' of '_io.TextIOWrapper' objects}\n"
     ]
    },
    {
     "name": "stdout",
     "output_type": "stream",
     "text": [
      "        1    0.000    0.000    0.000    0.000 {pandas._libs.algos.rank_1d_float64}\n",
      "        2    0.001    0.001    0.001    0.001 {pandas._libs.lib.maybe_convert_objects}\n",
      "\n",
      "\n"
     ]
    }
   ],
   "source": [
    "cProfile.run(\"bbound_similar(x, y, lamb=0.0035, prior_metric=\\\"objective\\\", MAXDEPTH = 4)\")"
   ]
  },
  {
   "cell_type": "code",
   "execution_count": null,
   "metadata": {},
   "outputs": [],
   "source": []
  },
  {
   "cell_type": "code",
   "execution_count": null,
   "metadata": {},
   "outputs": [],
   "source": []
  },
  {
   "cell_type": "code",
   "execution_count": null,
   "metadata": {},
   "outputs": [
    {
     "name": "stdout",
     "output_type": "stream",
     "text": [
      "nrule: 5\n",
      "ndata: 6907\n",
      "the rank of x's columns:  [4, 0, 1, 2, 3]\n"
     ]
    }
   ],
   "source": [
    "#if lb + lamb - deadprefix_lb <= 0:\n",
    "bbound_similar_when_sub(x, y, lamb=0.0035, corr_threshold = 0.15, prior_metric=\"objective\", MAXDEPTH = 4)"
   ]
  },
  {
   "cell_type": "code",
   "execution_count": null,
   "metadata": {},
   "outputs": [],
   "source": [
    "#if lb + lamb - deadprefix_lb <= 0:\n",
    "cProfile.run(\"bbound_similar_when_sub(x, y, lamb=0.0035, corr_threshold = 0.15, prior_metric=\\\"objective\\\", MAXDEPTH = 4)\")"
   ]
  }
 ],
 "metadata": {
  "kernelspec": {
   "display_name": "Python 3",
   "language": "python",
   "name": "python3"
  },
  "language_info": {
   "codemirror_mode": {
    "name": "ipython",
    "version": 3
   },
   "file_extension": ".py",
   "mimetype": "text/x-python",
   "name": "python",
   "nbconvert_exporter": "python",
   "pygments_lexer": "ipython3",
   "version": "3.6.5"
  }
 },
 "nbformat": 4,
 "nbformat_minor": 2
}
