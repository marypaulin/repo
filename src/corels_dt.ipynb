{
 "cells": [
  {
   "cell_type": "code",
   "execution_count": 1,
   "metadata": {},
   "outputs": [],
   "source": [
    "import pandas as pd\n",
    "import numpy as np\n",
    "import heapq\n",
    "import math\n",
    "import time\n",
    "\n",
    "import gmpy2\n",
    "from gmpy2 import mpz\n",
    "import re\n",
    "\n",
    "from sklearn import tree\n",
    "\n",
    "import cProfile"
   ]
  },
  {
   "cell_type": "code",
   "execution_count": 2,
   "metadata": {},
   "outputs": [],
   "source": [
    "# Read in the dataset\n",
    "df = pd.DataFrame(pd.read_csv('../data/compas-binary.csv'))"
   ]
  },
  {
   "cell_type": "code",
   "execution_count": 3,
   "metadata": {},
   "outputs": [
    {
     "name": "stderr",
     "output_type": "stream",
     "text": [
      "/Users/huxiyang/Library/Python/3.7/lib/python/site-packages/ipykernel_launcher.py:1: FutureWarning: Method .as_matrix will be removed in a future version. Use .values instead.\n",
      "  \"\"\"Entry point for launching an IPython kernel.\n",
      "/Users/huxiyang/Library/Python/3.7/lib/python/site-packages/ipykernel_launcher.py:3: FutureWarning: Method .as_matrix will be removed in a future version. Use .values instead.\n",
      "  This is separate from the ipykernel package so we can avoid doing imports until\n"
     ]
    }
   ],
   "source": [
    "x_all = df.as_matrix()[:,:13]\n",
    "\n",
    "y = df.as_matrix()[:,13]"
   ]
  },
  {
   "cell_type": "code",
   "execution_count": 4,
   "metadata": {},
   "outputs": [],
   "source": [
    "# Association Rule Mining (Only one feature)\n",
    "\n",
    "#support\n",
    "#supp1 = [(x_all[:,i]*y).mean() for i in range(13)]\n",
    "#supp1"
   ]
  },
  {
   "cell_type": "code",
   "execution_count": 5,
   "metadata": {},
   "outputs": [],
   "source": [
    "#support\n",
    "#supp0 = [((1-x_all[:,i])*y).mean() for i in range(13)]\n",
    "#supp0"
   ]
  },
  {
   "cell_type": "code",
   "execution_count": 6,
   "metadata": {},
   "outputs": [],
   "source": [
    "#confidence\n",
    "#conf1 = [sum(x_all[:,i]*y)/sum(x_all[:,i]) for i in range(13)]\n",
    "#conf1"
   ]
  },
  {
   "cell_type": "code",
   "execution_count": 7,
   "metadata": {},
   "outputs": [],
   "source": [
    "#confidence\n",
    "#conf0 = [sum((x_all[:,i]==0)*y)/sum((x_all[:,i]==0)) for i in range(13)]\n",
    "#conf0"
   ]
  },
  {
   "cell_type": "code",
   "execution_count": 8,
   "metadata": {},
   "outputs": [],
   "source": [
    "#x_idx_mine = [(conf1[i]>=0.5) or (conf0[i]>=0.5) for i in range(13)]\n",
    "#x_idx_mine"
   ]
  },
  {
   "cell_type": "code",
   "execution_count": 9,
   "metadata": {},
   "outputs": [],
   "source": [
    "#x_idx_mine[9]=True\n",
    "#x_idx_mine\n",
    "#x_mine = x_all[:,x_idx_mine]\n",
    "#x_idx_mine"
   ]
  },
  {
   "cell_type": "code",
   "execution_count": 10,
   "metadata": {},
   "outputs": [],
   "source": [
    "#manaually select out 5 features, accoring to CORELS paper when lambda=0.01\n",
    "## sex:Female, age:18-20,age:21-22, juvenile-crimes:=0, priors:>3\n",
    "##x_idx = [0,1,2,8,12]\n",
    "\n",
    "# sex:Female, age:18-20,age:21-22, priors:2-3, priors:>3\n",
    "x_idx = [0,1,2,9,12]\n",
    "x = x_all[:,x_idx]\n",
    "#x"
   ]
  },
  {
   "cell_type": "code",
   "execution_count": 11,
   "metadata": {},
   "outputs": [],
   "source": [
    "#manaually select out 6 features, accoring to CORELS paper when lambda=0.01\n",
    "# sex:Female, age:18-20,age:21-22, juvenile-crimes:=0, priors:2-3, priors:>3\n",
    "x_idx6 = [0,1,2,8,9,12]\n",
    "x6 = x_all[:,x_idx6]\n",
    "#x6"
   ]
  },
  {
   "cell_type": "code",
   "execution_count": 12,
   "metadata": {},
   "outputs": [],
   "source": [
    "#manaually select out 8 features, accoring to CORELS paper when lambda=0.01\n",
    "# sex:Female, age:18-20,age:21-22, juvenile-crimes:=0, priors:2-3, priors:=0, priors:>3\n",
    "x_idx8 = [0,1,2,7,8,9,10,12]\n",
    "x8 = x_all[:,x_idx8]\n",
    "#x8"
   ]
  },
  {
   "cell_type": "code",
   "execution_count": 13,
   "metadata": {},
   "outputs": [],
   "source": [
    "#manaually select out 7 features, accoring to CORELS paper when lambda=0.01\n",
    "# sex:Female, age:18-20,age:21-22, juvenile-crimes:=0, priors:2-3, priors:=0, priors:>3\n",
    "x_idx7 = [0,1,2,8,9,10,12]\n",
    "x7 = x_all[:,x_idx7]\n",
    "#x7"
   ]
  },
  {
   "cell_type": "code",
   "execution_count": 14,
   "metadata": {},
   "outputs": [
    {
     "data": {
      "text/plain": [
       "0.3865089764007529"
      ]
     },
     "execution_count": 14,
     "metadata": {},
     "output_type": "execute_result"
    }
   ],
   "source": [
    "clf = tree.DecisionTreeClassifier(max_depth = 5, min_samples_split = math.ceil(0.0035*2*len(y)), min_samples_leaf = math.ceil(0.0035*len(y)))\n",
    "clf = clf.fit(x, y)\n",
    "\n",
    "accu = clf.score(x,y)\n",
    "nleaves = (clf.tree_.node_count+1)/2\n",
    "R_c = 1-accu + 0.0035*nleaves\n",
    "R_c"
   ]
  },
  {
   "cell_type": "code",
   "execution_count": 15,
   "metadata": {},
   "outputs": [
    {
     "name": "stdout",
     "output_type": "stream",
     "text": [
      "29\n"
     ]
    }
   ],
   "source": [
    "print(clf.tree_.node_count) #get the node count\n"
   ]
  },
  {
   "cell_type": "markdown",
   "metadata": {},
   "source": [
    "## With similar support bound"
   ]
  },
  {
   "cell_type": "code",
   "execution_count": 16,
   "metadata": {},
   "outputs": [],
   "source": [
    "from corels_dt_nosimilar import bbound_nosimilar\n",
    "from corels_dt_similar import bbound_similar\n",
    "from corels_dt_similar_priority import bbound_similar_priority\n",
    "from corels_dt_similar_when_big import bbound_similar_when_big\n",
    "\n",
    "from corels_dt_similar_when_sub_v2 import bbound_similar_when_sub\n",
    "\n",
    "from corels_dt_nosimilar_multicopies import bbound_nosimilar_multicopies"
   ]
  },
  {
   "cell_type": "code",
   "execution_count": 30,
   "metadata": {
    "scrolled": false
   },
   "outputs": [
    {
     "name": "stdout",
     "output_type": "stream",
     "text": [
      "nrule: 6\n",
      "ndata: 6907\n",
      "gr: [0.00438766 0.0037798  0.0009402  0.01958141 0.0004441  0.03628272]\n",
      "order: [5, 3, 0, 1, 2, 4]\n",
      "odr: [5, 3, 0, 1, 2, 4]\n",
      "the order of x's columns:  [5, 3, 0, 1, 2, 4]\n",
      "COUNT: 100000\n",
      "COUNT: 200000\n",
      "COUNT: 300000\n",
      "COUNT: 400000\n",
      "COUNT: 500000\n",
      "COUNT: 600000\n",
      "COUNT: 700000\n",
      "COUNT: 800000\n",
      "COUNT: 900000\n",
      "COUNT: 1000000\n",
      "COUNT: 1100000\n",
      "COUNT: 1200000\n",
      "COUNT: 1300000\n",
      "COUNT: 1400000\n",
      "COUNT: 1500000\n",
      "COUNT: 1600000\n",
      "COUNT: 1700000\n",
      "COUNT: 1800000\n",
      "COUNT: 1900000\n",
      "COUNT: 2000000\n",
      "COUNT: 2100000\n",
      "COUNT: 2200000\n",
      "COUNT: 2300000\n",
      "COUNT: 2400000\n",
      "COUNT: 2500000\n",
      "COUNT: 2600000\n",
      "COUNT: 2700000\n",
      "COUNT: 2800000\n",
      "COUNT: 2900000\n",
      "COUNT: 3000000\n",
      "COUNT: 3100000\n",
      "COUNT: 3200000\n",
      "COUNT: 3300000\n",
      "COUNT: 3400000\n",
      "COUNT: 3500000\n",
      "COUNT: 3600000\n",
      "COUNT: 3700000\n",
      "COUNT: 3800000\n",
      "COUNT: 3900000\n",
      "COUNT: 4000000\n",
      "COUNT: 4100000\n",
      "COUNT: 4200000\n",
      "COUNT: 4300000\n",
      "COUNT: 4400000\n",
      "COUNT: 4500000\n",
      "COUNT: 4600000\n",
      "COUNT: 4700000\n",
      "COUNT: 4800000\n",
      "COUNT: 4900000\n",
      "COUNT: 5000000\n",
      "COUNT: 5100000\n",
      "COUNT: 5200000\n",
      "COUNT: 5300000\n",
      "COUNT: 5400000\n",
      "COUNT: 5500000\n",
      "COUNT: 5600000\n",
      "COUNT: 5700000\n",
      "COUNT: 5800000\n",
      "COUNT: 5900000\n",
      "COUNT: 6000000\n",
      "COUNT: 6100000\n",
      "COUNT: 6200000\n",
      "COUNT: 6300000\n",
      "COUNT: 6400000\n",
      "COUNT: 6500000\n",
      "COUNT: 6600000\n",
      "COUNT: 6700000\n",
      "COUNT: 6800000\n",
      "COUNT: 6900000\n",
      "COUNT: 7000000\n",
      "COUNT: 7100000\n",
      "COUNT: 7200000\n",
      "COUNT: 7300000\n",
      "COUNT: 7400000\n",
      "COUNT: 7500000\n",
      "COUNT: 7600000\n",
      "COUNT: 7700000\n",
      "COUNT: 7800000\n",
      "COUNT: 7900000\n",
      "COUNT: 8000000\n",
      "COUNT: 8100000\n",
      "COUNT: 8200000\n",
      "COUNT: 8300000\n",
      "COUNT: 8400000\n",
      "COUNT: 8500000\n",
      "COUNT: 8600000\n",
      "COUNT: 8700000\n",
      "COUNT: 8800000\n",
      "COUNT: 8900000\n",
      "COUNT: 9000000\n",
      "COUNT: 9100000\n",
      "COUNT: 9200000\n",
      "COUNT: 9300000\n",
      "COUNT: 9400000\n",
      "COUNT: 9500000\n",
      "COUNT: 9600000\n",
      "COUNT: 9700000\n",
      "COUNT: 9800000\n",
      ">>> log: False\n",
      ">>> support bound: True\n",
      ">>> accurate support bound: True\n",
      ">>> equiv points bound: True\n",
      ">>> lookahead bound: True\n",
      "total time:  2257.7215349674225\n",
      "lambda:  0.0035\n",
      "leaves:  [(1,), (-1, 4), (-6, -4, -1), (-5, -4, -1, 6), (-4, -1, 5, 6)]\n",
      "num_captured:  [2174, 667, 2856, 1054, 156]\n",
      "num_captured_incorrect:  [736, 283, 806, 456, 44]\n",
      "prediction:  [1, 1, 0, 0, 1]\n",
      "Objective:  0.3541150282322281\n",
      "COUNT of the best tree:  341986\n",
      "time when the best tree is achieved:  15.745635747909546\n",
      "TOTAL COUNT:  9844529\n"
     ]
    },
    {
     "data": {
      "text/plain": [
       "<corels_dt_nosimilar_multicopies1029.CacheTree at 0x1205889e8>"
      ]
     },
     "execution_count": 30,
     "metadata": {},
     "output_type": "execute_result"
    }
   ],
   "source": [
    "### 10.29######################## \n",
    "# order x's columns according to gini_reduction\n",
    "# use the leaf with the minimum loss to find a pair of leaves as d0\n",
    "bbound_nosimilar_multicopies(x6, y, lamb=0.0035, prior_metric=\"objective\", MAXDEPTH = 5, R_c0=1)\n",
    "#####  "
   ]
  },
  {
   "cell_type": "code",
   "execution_count": 19,
   "metadata": {
    "scrolled": false
   },
   "outputs": [
    {
     "name": "stdout",
     "output_type": "stream",
     "text": [
      "nrule: 6\n",
      "ndata: 6907\n",
      "gr: [0.00438766 0.0037798  0.0009402  0.01958141 0.0004441  0.03628272]\n",
      "order: [5, 3, 0, 1, 2, 4]\n",
      "odr: [5, 3, 0, 1, 2, 4]\n",
      "the order of x's columns:  [5, 3, 0, 1, 2, 4]\n"
     ]
    },
    {
     "name": "stderr",
     "output_type": "stream",
     "text": [
      "/Users/huxiyang/document/academic/corels/repo/src/corels_dt_nosimilar_multicopies.py:395: FutureWarning: Method .as_matrix will be removed in a future version. Use .values instead.\n",
      "  z = pd.DataFrame([-1] * ndata).as_matrix()\n"
     ]
    },
    {
     "name": "stdout",
     "output_type": "stream",
     "text": [
      ">>> log: False\n",
      ">>> support bound: True\n",
      ">>> accurate support bound: True\n",
      ">>> equiv points bound: True\n",
      ">>> lookahead bound: True\n",
      "total time:  120.95510601997375\n",
      "lambda:  0.0035\n",
      "leaves:  [(1,), (-1, 4), (-6, -4, -1), (-5, -4, -1, 6), (-4, -1, 5, 6)]\n",
      "num_captured:  [2174, 667, 2856, 1054, 156]\n",
      "num_captured_incorrect:  [736, 283, 806, 456, 44]\n",
      "prediction:  [1, 1, 0, 0, 1]\n",
      "Objective:  0.3541150282322281\n",
      "COUNT of the best tree:  35314\n",
      "time when the best tree is achieved:  23.425740003585815\n",
      "TOTAL COUNT:  49173\n"
     ]
    },
    {
     "data": {
      "text/plain": [
       "<corels_dt_nosimilar_multicopies.CacheTree at 0x1214fad30>"
      ]
     },
     "execution_count": 19,
     "metadata": {},
     "output_type": "execute_result"
    }
   ],
   "source": [
    "### 10.29######################## \n",
    "# order x's columns according to gini_reduction\n",
    "# use removed_leaves as d0, unchanged_leaves as dp\n",
    "bbound_nosimilar_multicopies(x6, y, lamb=0.0035, prior_metric=\"objective\", MAXDEPTH = 5, R_c0=1)\n",
    "#####  "
   ]
  },
  {
   "cell_type": "code",
   "execution_count": 23,
   "metadata": {},
   "outputs": [
    {
     "data": {
      "text/plain": [
       "3"
      ]
     },
     "execution_count": 23,
     "metadata": {},
     "output_type": "execute_result"
    }
   ],
   "source": [
    "aaaa = [1,0,0,0]\n",
    "bbb = [not aa for aa in aaaa]\n",
    "sum(bbb)"
   ]
  },
  {
   "cell_type": "code",
   "execution_count": 24,
   "metadata": {},
   "outputs": [
    {
     "name": "stdout",
     "output_type": "stream",
     "text": [
      "nrule: 5\n",
      "ndata: 6907\n",
      "gr: [0.00438766 0.0037798  0.0009402  0.0004441  0.03628272]\n",
      "order: [4, 0, 1, 2, 3]\n",
      "odr: [4, 0, 1, 2, 3]\n",
      "the order of x's columns:  [4, 0, 1, 2, 3]\n",
      ">>> log: False\n",
      ">>> support bound: True\n",
      ">>> accurate support bound: True\n",
      ">>> equiv points bound: True\n",
      ">>> lookahead bound: True\n",
      "total time:  3.5089027881622314\n",
      "lambda:  0.0035\n",
      "leaves:  [(1,), (-1, 3), (-5, -3, -1), (-4, -3, -1, 5), (-3, -1, 4, 5)]\n",
      "num_captured:  [2174, 667, 2856, 1054, 156]\n",
      "num_captured_incorrect:  [736, 283, 806, 456, 44]\n",
      "prediction:  [1, 1, 0, 0, 1]\n",
      "Objective:  0.3541150282322281\n",
      "COUNT of the best tree:  2170\n",
      "time when the best tree is achieved:  1.5636508464813232\n",
      "TOTAL COUNT:  2923\n"
     ]
    },
    {
     "data": {
      "text/plain": [
       "<corels_dt_nosimilar_multicopies.CacheTree at 0x121d87c88>"
      ]
     },
     "execution_count": 24,
     "metadata": {},
     "output_type": "execute_result"
    }
   ],
   "source": [
    "### 10.30######################## \n",
    "# order x's columns according to gini_reduction\n",
    "# use removed_leaves as d0, unchanged_leaves as dp\n",
    "bbound_nosimilar_multicopies(x, y, lamb=0.0035, prior_metric=\"objective\", MAXDEPTH = 5, R_c0=1)\n",
    "#####  "
   ]
  },
  {
   "cell_type": "code",
   "execution_count": 17,
   "metadata": {},
   "outputs": [
    {
     "name": "stdout",
     "output_type": "stream",
     "text": [
      "nrule: 5\n",
      "ndata: 6907\n",
      "gr: [0.00438766 0.0037798  0.0009402  0.0004441  0.03628272]\n",
      "order: [4, 0, 1, 2, 3]\n",
      "odr: [4, 0, 1, 2, 3]\n",
      "the order of x's columns:  [4, 0, 1, 2, 3]\n"
     ]
    },
    {
     "name": "stderr",
     "output_type": "stream",
     "text": [
      "/Users/huxiyang/document/academic/corels/repo/src/corels_dt_nosimilar_multicopies.py:355: FutureWarning: Method .as_matrix will be removed in a future version. Use .values instead.\n",
      "  z = pd.DataFrame([-1] * ndata).as_matrix()\n"
     ]
    },
    {
     "name": "stdout",
     "output_type": "stream",
     "text": [
      ">>> log: False\n",
      ">>> support bound: True\n",
      ">>> accurate support bound: True\n",
      ">>> equiv points bound: True\n",
      ">>> lookahead bound: True\n",
      "total time:  1.5891180038452148\n",
      "lambda:  0.0035\n",
      "leaves:  [(1,), (-1, 3), (-5, -3, -1), (-4, -3, -1, 5), (-3, -1, 4, 5)]\n",
      "num_captured:  [2174, 667, 2856, 1054, 156]\n",
      "num_captured_incorrect:  [736, 283, 806, 456, 44]\n",
      "prediction:  [1, 1, 0, 0, 1]\n",
      "Objective:  0.3541150282322281\n",
      "COUNT of the best tree:  2223\n",
      "time when the best tree is achieved:  0.9345002174377441\n",
      "TOTAL COUNT:  3179\n"
     ]
    },
    {
     "data": {
      "text/plain": [
       "<corels_dt_nosimilar_multicopies.CacheTree at 0x1210444e0>"
      ]
     },
     "execution_count": 17,
     "metadata": {},
     "output_type": "execute_result"
    }
   ],
   "source": [
    "### 10.31######################## \n",
    "# order x's columns according to gini_reduction\n",
    "# use removed_leaves as d0, unchanged_leaves as dp\n",
    "bbound_nosimilar_multicopies(x, y, lamb=0.0035, prior_metric=\"objective\", MAXDEPTH = 5, R_c0=1)\n",
    "#####  "
   ]
  },
  {
   "cell_type": "code",
   "execution_count": 17,
   "metadata": {},
   "outputs": [
    {
     "name": "stdout",
     "output_type": "stream",
     "text": [
      "nrule: 5\n",
      "ndata: 6907\n",
      "gr: [0.00438766 0.0037798  0.0009402  0.0004441  0.03628272]\n",
      "order: [4, 0, 1, 2, 3]\n",
      "odr: [4, 0, 1, 2, 3]\n",
      "the order of x's columns:  [4, 0, 1, 2, 3]\n"
     ]
    },
    {
     "name": "stderr",
     "output_type": "stream",
     "text": [
      "/Users/huxiyang/document/academic/corels/repo/src/corels_dt_nosimilar_multicopies.py:377: FutureWarning: Method .as_matrix will be removed in a future version. Use .values instead.\n",
      "  z = pd.DataFrame([-1] * ndata).as_matrix()\n"
     ]
    },
    {
     "name": "stdout",
     "output_type": "stream",
     "text": [
      ">>> log: False\n",
      ">>> support bound: True\n",
      ">>> accurate support bound: True\n",
      ">>> equiv points bound: True\n",
      ">>> lookahead bound: True\n",
      "total time:  1.6689951419830322\n",
      "lambda:  0.0035\n",
      "leaves:  [(1,), (-1, 3), (-5, -3, -1), (-4, -3, -1, 5), (-3, -1, 4, 5)]\n",
      "num_captured:  [2174, 667, 2856, 1054, 156]\n",
      "num_captured_incorrect:  [736, 283, 806, 456, 44]\n",
      "prediction:  [1, 1, 0, 0, 1]\n",
      "Objective:  0.3541150282322281\n",
      "COUNT of the best tree:  789\n",
      "time when the best tree is achieved:  0.9897191524505615\n",
      "TOTAL COUNT:  1518\n"
     ]
    },
    {
     "data": {
      "text/plain": [
       "<corels_dt_nosimilar_multicopies.CacheTree at 0x11d442d68>"
      ]
     },
     "execution_count": 17,
     "metadata": {},
     "output_type": "execute_result"
    }
   ],
   "source": [
    "### 10.31 1######################## \n",
    "# order x's columns according to gini_reduction\n",
    "# use removed_leaves as d0, unchanged_leaves as dp\n",
    "bbound_nosimilar_multicopies(x, y, lamb=0.0035, prior_metric=\"objective\", MAXDEPTH = 5, R_c0=1)\n",
    "#####  "
   ]
  },
  {
   "cell_type": "code",
   "execution_count": 20,
   "metadata": {},
   "outputs": [
    {
     "name": "stdout",
     "output_type": "stream",
     "text": [
      "nrule: 6\n",
      "ndata: 6907\n",
      "gr: [0.00438766 0.0037798  0.0009402  0.01958141 0.0004441  0.03628272]\n",
      "order: [5, 3, 0, 1, 2, 4]\n",
      "odr: [5, 3, 0, 1, 2, 4]\n",
      "the order of x's columns:  [5, 3, 0, 1, 2, 4]\n",
      ">>> log: False\n",
      ">>> support bound: True\n",
      ">>> accurate support bound: True\n",
      ">>> equiv points bound: True\n",
      ">>> lookahead bound: True\n",
      "total time:  119.51237106323242\n",
      "lambda:  0.0035\n",
      "leaves:  [(1,), (-1, 4), (-6, -4, -1), (-5, -4, -1, 6), (-4, -1, 5, 6)]\n",
      "num_captured:  [2174, 667, 2856, 1054, 156]\n",
      "num_captured_incorrect:  [736, 283, 806, 456, 44]\n",
      "prediction:  [1, 1, 0, 0, 1]\n",
      "Objective:  0.3541150282322281\n",
      "COUNT of the best tree:  35344\n",
      "time when the best tree is achieved:  21.726758003234863\n",
      "TOTAL COUNT:  49215\n"
     ]
    },
    {
     "data": {
      "text/plain": [
       "<corels_dt_nosimilar_multicopies.CacheTree at 0x11fb80240>"
      ]
     },
     "execution_count": 20,
     "metadata": {},
     "output_type": "execute_result"
    }
   ],
   "source": [
    "### 10.29######################## \n",
    "# order x's columns according to gini_reduction\n",
    "# use removed_leaves as d0, unchanged_leaves as dp\n",
    "bbound_nosimilar_multicopies(x6, y, lamb=0.0035, prior_metric=\"objective\", MAXDEPTH = 6, R_c0=1)\n",
    "#####  "
   ]
  },
  {
   "cell_type": "code",
   "execution_count": 19,
   "metadata": {
    "scrolled": false
   },
   "outputs": [
    {
     "name": "stdout",
     "output_type": "stream",
     "text": [
      "nrule: 6\n",
      "ndata: 6907\n",
      "gr: [0.00438766 0.0037798  0.0009402  0.01958141 0.0004441  0.03628272]\n",
      "order: [5, 3, 0, 1, 2, 4]\n",
      "odr: [5, 3, 0, 1, 2, 4]\n",
      "the order of x's columns:  [5, 3, 0, 1, 2, 4]\n",
      ">>> log: False\n",
      ">>> support bound: True\n",
      ">>> accurate support bound: True\n",
      ">>> equiv points bound: True\n",
      ">>> lookahead bound: True\n",
      "total time:  5.069493055343628\n",
      "lambda:  0.0035\n",
      "leaves:  [(1,), (-1, 4), (-6, -4, -1), (-5, -4, -1, 6), (-4, -1, 5, 6)]\n",
      "num_captured:  [2174, 667, 2856, 1054, 156]\n",
      "num_captured_incorrect:  [736, 283, 806, 456, 44]\n",
      "prediction:  [1, 1, 0, 0, 1]\n",
      "Objective:  0.3541150282322281\n",
      "COUNT of the best tree:  35727\n",
      "time when the best tree is achieved:  2.537034034729004\n",
      "TOTAL COUNT:  53644\n"
     ]
    },
    {
     "data": {
      "text/plain": [
       "<corels_dt_nosimilar_multicopies.CacheTree at 0x121cfac88>"
      ]
     },
     "execution_count": 19,
     "metadata": {},
     "output_type": "execute_result"
    }
   ],
   "source": [
    "### 10.31######################## \n",
    "# order x's columns according to gini_reduction\n",
    "# use removed_leaves as d0, unchanged_leaves as dp\n",
    "bbound_nosimilar_multicopies(x6, y, lamb=0.0035, prior_metric=\"objective\", MAXDEPTH = 6, R_c0=1)\n",
    "#####  "
   ]
  },
  {
   "cell_type": "code",
   "execution_count": 19,
   "metadata": {
    "scrolled": false
   },
   "outputs": [
    {
     "name": "stdout",
     "output_type": "stream",
     "text": [
      "nrule: 6\n",
      "ndata: 6907\n",
      "gr: [0.00438766 0.0037798  0.0009402  0.01958141 0.0004441  0.03628272]\n",
      "order: [5, 3, 0, 1, 2, 4]\n",
      "odr: [5, 3, 0, 1, 2, 4]\n",
      "the order of x's columns:  [5, 3, 0, 1, 2, 4]\n",
      ">>> log: False\n",
      ">>> support bound: True\n",
      ">>> accurate support bound: True\n",
      ">>> equiv points bound: True\n",
      ">>> lookahead bound: True\n",
      "total time:  5.189012050628662\n",
      "lambda:  0.0035\n",
      "leaves:  [(1,), (-1, 4), (-6, -4, -1), (-5, -4, -1, 6), (-4, -1, 5, 6)]\n",
      "num_captured:  [2174, 667, 2856, 1054, 156]\n",
      "num_captured_incorrect:  [736, 283, 806, 456, 44]\n",
      "prediction:  [1, 1, 0, 0, 1]\n",
      "Objective:  0.3541150282322281\n",
      "COUNT of the best tree:  9483\n",
      "time when the best tree is achieved:  2.735159158706665\n",
      "TOTAL COUNT:  17878\n"
     ]
    },
    {
     "data": {
      "text/plain": [
       "<corels_dt_nosimilar_multicopies.CacheTree at 0x11d400160>"
      ]
     },
     "execution_count": 19,
     "metadata": {},
     "output_type": "execute_result"
    }
   ],
   "source": [
    "### 10.31 1######################## \n",
    "# order x's columns according to gini_reduction\n",
    "# use removed_leaves as d0, unchanged_leaves as dp\n",
    "bbound_nosimilar_multicopies(x6, y, lamb=0.0035, prior_metric=\"objective\", MAXDEPTH = 6, R_c0=1)\n",
    "#####  "
   ]
  },
  {
   "cell_type": "code",
   "execution_count": 17,
   "metadata": {
    "scrolled": false
   },
   "outputs": [
    {
     "name": "stdout",
     "output_type": "stream",
     "text": [
      "nrule: 6\n",
      "ndata: 6907\n",
      "gr: [0.00438766 0.0037798  0.0009402  0.01958141 0.0004441  0.03628272]\n",
      "order: [5, 3, 0, 1, 2, 4]\n",
      "odr: [5, 3, 0, 1, 2, 4]\n",
      "the order of x's columns:  [5, 3, 0, 1, 2, 4]\n"
     ]
    },
    {
     "name": "stderr",
     "output_type": "stream",
     "text": [
      "/Users/huxiyang/document/academic/corels/repo/src/corels_dt_nosimilar_multicopies.py:377: FutureWarning: Method .as_matrix will be removed in a future version. Use .values instead.\n",
      "  z = pd.DataFrame([-1] * ndata).as_matrix()\n"
     ]
    },
    {
     "name": "stdout",
     "output_type": "stream",
     "text": [
      ">>> log: False\n",
      ">>> support bound: True\n",
      ">>> accurate support bound: True\n",
      ">>> equiv points bound: True\n",
      ">>> lookahead bound: True\n",
      "total time:  5.084198951721191\n",
      "lambda:  0.0035\n",
      "leaves:  [(1,), (-1, 4), (-6, -4, -1), (-5, -4, -1, 6), (-4, -1, 5, 6)]\n",
      "num_captured:  [2174, 667, 2856, 1054, 156]\n",
      "num_captured_incorrect:  [736, 283, 806, 456, 44]\n",
      "prediction:  [1, 1, 0, 0, 1]\n",
      "Objective:  0.3541150282322281\n",
      "COUNT of the best tree:  9483\n",
      "time when the best tree is achieved:  2.5045390129089355\n",
      "TOTAL COUNT:  17878\n"
     ]
    },
    {
     "data": {
      "text/plain": [
       "<corels_dt_nosimilar_multicopies.CacheTree at 0x12012a438>"
      ]
     },
     "execution_count": 17,
     "metadata": {},
     "output_type": "execute_result"
    }
   ],
   "source": [
    "### 10.31 1######################## \n",
    "# order x's columns according to gini_reduction\n",
    "# use removed_leaves as d0, unchanged_leaves as dp\n",
    "bbound_nosimilar_multicopies(x6, y, lamb=0.0035, prior_metric=\"objective\", MAXDEPTH = 6, R_c0=1)\n",
    "#####  "
   ]
  },
  {
   "cell_type": "code",
   "execution_count": 22,
   "metadata": {},
   "outputs": [
    {
     "data": {
      "text/plain": [
       "array([[1, 0],\n",
       "       [1, 1],\n",
       "       [0, 0],\n",
       "       [0, 1]])"
      ]
     },
     "execution_count": 22,
     "metadata": {},
     "output_type": "execute_result"
    }
   ],
   "source": [
    "from itertools import product, compress\n",
    "aaa = [1,0]\n",
    "bbb = [0,1]\n",
    "ccc = np.array(list(product(*[aaa,bbb])))\n",
    "ccc"
   ]
  },
  {
   "cell_type": "code",
   "execution_count": 25,
   "metadata": {},
   "outputs": [
    {
     "data": {
      "text/plain": [
       "array([1, 1, 0, 0])"
      ]
     },
     "execution_count": 25,
     "metadata": {},
     "output_type": "execute_result"
    }
   ],
   "source": [
    "np.dot(np.array([1,1,0,0]), [0,1,0,1])\n",
    "np.array([1,1,0,0])"
   ]
  },
  {
   "cell_type": "code",
   "execution_count": 24,
   "metadata": {},
   "outputs": [
    {
     "name": "stdout",
     "output_type": "stream",
     "text": [
      "nrule: 7\n",
      "ndata: 6907\n",
      "gr: [0.00438766 0.0037798  0.0009402  0.01958141 0.0004441  0.0261244\n",
      " 0.03628272]\n",
      "order: [6, 5, 3, 0, 1, 2, 4]\n",
      "odr: [6, 5, 3, 0, 1, 2, 4]\n",
      "the order of x's columns:  [6, 5, 3, 0, 1, 2, 4]\n",
      "COUNT: 100000\n",
      ">>> log: False\n",
      ">>> support bound: True\n",
      ">>> accurate support bound: True\n",
      ">>> equiv points bound: True\n",
      ">>> lookahead bound: True\n",
      "total time:  747.9955132007599\n",
      "lambda:  0.0035\n",
      "leaves:  [(1,), (-1, 5), (-7, -5, -1), (-6, -5, -1, 7), (-5, -1, 6, 7)]\n",
      "num_captured:  [2174, 667, 2856, 1054, 156]\n",
      "num_captured_incorrect:  [736, 283, 806, 456, 44]\n",
      "prediction:  [1, 1, 0, 0, 1]\n",
      "Objective:  0.3541150282322281\n",
      "COUNT of the best tree:  61100\n",
      "time when the best tree is achieved:  92.64513993263245\n",
      "TOTAL COUNT:  106200\n"
     ]
    },
    {
     "data": {
      "text/plain": [
       "<corels_dt_nosimilar_multicopies.CacheTree at 0x1207c7080>"
      ]
     },
     "execution_count": 24,
     "metadata": {},
     "output_type": "execute_result"
    }
   ],
   "source": [
    "### 10.29######################## \n",
    "# order x's columns according to gini_reduction\n",
    "# use removed_leaves as d0, unchanged_leaves as dp\n",
    "bbound_nosimilar_multicopies(x7, y, lamb=0.0035, prior_metric=\"objective\", MAXDEPTH = 6, R_c0=1)\n",
    "#####  "
   ]
  },
  {
   "cell_type": "code",
   "execution_count": 25,
   "metadata": {},
   "outputs": [
    {
     "name": "stdout",
     "output_type": "stream",
     "text": [
      "nrule: 7\n",
      "ndata: 6907\n",
      "gr: [0.00438766 0.0037798  0.0009402  0.01958141 0.0004441  0.0261244\n",
      " 0.03628272]\n",
      "order: [6, 5, 3, 0, 1, 2, 4]\n",
      "odr: [6, 5, 3, 0, 1, 2, 4]\n",
      "the order of x's columns:  [6, 5, 3, 0, 1, 2, 4]\n",
      "COUNT: 100000\n",
      ">>> log: False\n",
      ">>> support bound: True\n",
      ">>> accurate support bound: True\n",
      ">>> equiv points bound: True\n",
      ">>> lookahead bound: True\n",
      "total time:  765.7042851448059\n",
      "lambda:  0.0035\n",
      "leaves:  [(1,), (-1, 5), (-7, -5, -1), (-6, -5, -1, 7), (-5, -1, 6, 7)]\n",
      "num_captured:  [2174, 667, 2856, 1054, 156]\n",
      "num_captured_incorrect:  [736, 283, 806, 456, 44]\n",
      "prediction:  [1, 1, 0, 0, 1]\n",
      "Objective:  0.3541150282322281\n",
      "COUNT of the best tree:  61100\n",
      "time when the best tree is achieved:  91.59096217155457\n",
      "TOTAL COUNT:  106200\n"
     ]
    },
    {
     "data": {
      "text/plain": [
       "<corels_dt_nosimilar_multicopies.CacheTree at 0x1210b3160>"
      ]
     },
     "execution_count": 25,
     "metadata": {},
     "output_type": "execute_result"
    }
   ],
   "source": [
    "### 10.29######################## \n",
    "# order x's columns according to gini_reduction\n",
    "# use removed_leaves as d0, unchanged_leaves as dp\n",
    "bbound_nosimilar_multicopies(x7, y, lamb=0.0035, prior_metric=\"objective\", MAXDEPTH = 7, R_c0=1)\n",
    "#####  "
   ]
  },
  {
   "cell_type": "code",
   "execution_count": 18,
   "metadata": {},
   "outputs": [
    {
     "name": "stdout",
     "output_type": "stream",
     "text": [
      "nrule: 7\n",
      "ndata: 6907\n",
      "gr: [0.00438766 0.0037798  0.0009402  0.01958141 0.0004441  0.0261244\n",
      " 0.03628272]\n",
      "order: [6, 5, 3, 0, 1, 2, 4]\n",
      "odr: [6, 5, 3, 0, 1, 2, 4]\n",
      "the order of x's columns:  [6, 5, 3, 0, 1, 2, 4]\n",
      ">>> log: False\n",
      ">>> support bound: True\n",
      ">>> accurate support bound: True\n",
      ">>> equiv points bound: True\n",
      ">>> lookahead bound: True\n",
      "total time:  9.003493070602417\n",
      "lambda:  0.0035\n",
      "leaves:  [(1,), (-1, 5), (-7, -5, -1), (-6, -5, -1, 7), (-5, -1, 6, 7)]\n",
      "num_captured:  [2174, 667, 2856, 1054, 156]\n",
      "num_captured_incorrect:  [736, 283, 806, 456, 44]\n",
      "prediction:  [1, 1, 0, 0, 1]\n",
      "Objective:  0.3541150282322281\n",
      "COUNT of the best tree:  15513\n",
      "time when the best tree is achieved:  3.388538122177124\n",
      "TOTAL COUNT:  39105\n"
     ]
    },
    {
     "data": {
      "text/plain": [
       "<corels_dt_nosimilar_multicopies.CacheTree at 0x1204e3d68>"
      ]
     },
     "execution_count": 18,
     "metadata": {},
     "output_type": "execute_result"
    }
   ],
   "source": [
    "### 10.31 1######################## \n",
    "# order x's columns according to gini_reduction\n",
    "# use removed_leaves as d0, unchanged_leaves as dp\n",
    "bbound_nosimilar_multicopies(x7, y, lamb=0.0035, prior_metric=\"objective\", MAXDEPTH = 7, R_c0=1)\n",
    "#####  "
   ]
  },
  {
   "cell_type": "code",
   "execution_count": 19,
   "metadata": {},
   "outputs": [
    {
     "name": "stdout",
     "output_type": "stream",
     "text": [
      "nrule: 8\n",
      "ndata: 6907\n",
      "gr: [0.00438766 0.0037798  0.0009402  0.00861952 0.01958141 0.0004441\n",
      " 0.0261244  0.03628272]\n",
      "order: [7, 6, 4, 3, 0, 1, 2, 5]\n",
      "odr: [7, 6, 4, 3, 0, 1, 2, 5]\n",
      "the order of x's columns:  [7, 6, 4, 3, 0, 1, 2, 5]\n",
      "COUNT: 100000\n",
      "COUNT: 200000\n",
      "COUNT: 300000\n",
      "COUNT: 400000\n",
      ">>> log: False\n",
      ">>> support bound: True\n",
      ">>> accurate support bound: True\n",
      ">>> equiv points bound: True\n",
      ">>> lookahead bound: True\n",
      "total time:  30.170496940612793\n",
      "lambda:  0.0035\n",
      "leaves:  [(1,), (-1, 6), (-8, -6, -1), (-7, -6, -1, 8), (-6, -1, 7, 8)]\n",
      "num_captured:  [2174, 667, 2856, 1054, 156]\n",
      "num_captured_incorrect:  [736, 283, 806, 456, 44]\n",
      "prediction:  [1, 1, 0, 0, 1]\n",
      "Objective:  0.3541150282322281\n",
      "COUNT of the best tree:  40372\n",
      "time when the best tree is achieved:  5.409191846847534\n",
      "TOTAL COUNT:  435108\n"
     ]
    },
    {
     "data": {
      "text/plain": [
       "<corels_dt_nosimilar_multicopies.CacheTree at 0x1204d8e10>"
      ]
     },
     "execution_count": 19,
     "metadata": {},
     "output_type": "execute_result"
    }
   ],
   "source": [
    "### 10.31 1######################## \n",
    "# order x's columns according to gini_reduction\n",
    "# use removed_leaves as d0, unchanged_leaves as dp\n",
    "bbound_nosimilar_multicopies(x8, y, lamb=0.0035, prior_metric=\"objective\", MAXDEPTH = 8, R_c0=1)\n",
    "#####  "
   ]
  },
  {
   "cell_type": "code",
   "execution_count": 21,
   "metadata": {
    "scrolled": false
   },
   "outputs": [
    {
     "name": "stdout",
     "output_type": "stream",
     "text": [
      "nrule: 13\n",
      "ndata: 6907\n",
      "gr: [4.38766332e-03 3.77979717e-03 9.40201221e-04 9.55526820e-04\n",
      " 4.86742907e-05 8.18606486e-03 6.97491634e-03 8.61951599e-03\n",
      " 1.95814117e-02 4.44101437e-04 2.61243971e-02 3.28363728e-03\n",
      " 3.62827195e-02]\n",
      "order: [12, 10, 8, 7, 5, 6, 0, 1, 11, 3, 2, 9, 4]\n",
      "odr: [12, 10, 8, 7, 5, 6, 0, 1, 11, 3, 2, 9, 4]\n",
      "the order of x's columns:  [12, 10, 8, 7, 5, 6, 0, 1, 11, 3, 2, 9, 4]\n"
     ]
    },
    {
     "name": "stderr",
     "output_type": "stream",
     "text": [
      "/Users/huxiyang/document/academic/corels/repo/src/corels_dt_nosimilar_multicopies.py:377: FutureWarning: Method .as_matrix will be removed in a future version. Use .values instead.\n",
      "  z = pd.DataFrame([-1] * ndata).as_matrix()\n"
     ]
    },
    {
     "name": "stdout",
     "output_type": "stream",
     "text": [
      "COUNT: 100000\n",
      "COUNT: 200000\n",
      "COUNT: 300000\n",
      "COUNT: 400000\n",
      "COUNT: 500000\n",
      "COUNT: 600000\n",
      "COUNT: 700000\n",
      "COUNT: 800000\n",
      "COUNT: 900000\n",
      "COUNT: 1000000\n",
      "COUNT: 1100000\n",
      "COUNT: 1200000\n",
      "COUNT: 1300000\n",
      "COUNT: 1400000\n",
      "COUNT: 1500000\n",
      "COUNT: 1600000\n",
      "COUNT: 1700000\n",
      "COUNT: 1800000\n",
      "COUNT: 1900000\n",
      "COUNT: 2000000\n",
      "COUNT: 2100000\n",
      "COUNT: 2200000\n",
      "COUNT: 2300000\n",
      "COUNT: 2400000\n",
      "COUNT: 2500000\n",
      "COUNT: 2600000\n",
      "COUNT: 2700000\n",
      "COUNT: 2800000\n",
      "COUNT: 2900000\n",
      "COUNT: 3000000\n",
      "COUNT: 3100000\n",
      "COUNT: 3200000\n",
      "COUNT: 3300000\n",
      "COUNT: 3400000\n",
      "COUNT: 3500000\n",
      "COUNT: 3600000\n",
      "COUNT: 3700000\n",
      "COUNT: 3800000\n",
      "COUNT: 3900000\n",
      "COUNT: 4000000\n",
      "COUNT: 4100000\n",
      "COUNT: 4200000\n",
      "COUNT: 4300000\n",
      "COUNT: 4400000\n",
      "COUNT: 4500000\n",
      "COUNT: 4600000\n",
      "COUNT: 4700000\n",
      "COUNT: 4800000\n",
      "COUNT: 4900000\n",
      "COUNT: 5000000\n",
      "COUNT: 5100000\n",
      "COUNT: 5200000\n",
      "COUNT: 5300000\n",
      "COUNT: 5400000\n",
      "COUNT: 5500000\n",
      "COUNT: 5600000\n",
      "COUNT: 5700000\n",
      "COUNT: 5800000\n",
      "COUNT: 5900000\n",
      "COUNT: 6000000\n",
      "COUNT: 6100000\n",
      "COUNT: 6200000\n",
      "COUNT: 6300000\n",
      "COUNT: 6400000\n",
      "COUNT: 6500000\n",
      "COUNT: 6600000\n",
      "COUNT: 6700000\n",
      "COUNT: 6800000\n",
      "COUNT: 6900000\n",
      "COUNT: 7000000\n",
      "COUNT: 7100000\n",
      "COUNT: 7200000\n",
      "COUNT: 7300000\n",
      "COUNT: 7400000\n",
      "COUNT: 7500000\n",
      "COUNT: 7600000\n",
      "COUNT: 7700000\n",
      "COUNT: 7800000\n",
      "COUNT: 7900000\n",
      "COUNT: 8000000\n",
      "COUNT: 8100000\n",
      "COUNT: 8200000\n",
      "COUNT: 8300000\n",
      "COUNT: 8400000\n",
      "COUNT: 8500000\n",
      "COUNT: 8600000\n",
      "COUNT: 8700000\n",
      "COUNT: 8800000\n",
      "COUNT: 8900000\n",
      "COUNT: 9000000\n",
      "COUNT: 9100000\n",
      "COUNT: 9200000\n",
      "COUNT: 9300000\n",
      "COUNT: 9400000\n",
      "COUNT: 9500000\n",
      "COUNT: 9600000\n",
      "COUNT: 9700000\n",
      "COUNT: 9800000\n",
      "COUNT: 9900000\n",
      "COUNT: 10000000\n",
      "COUNT: 10100000\n",
      "COUNT: 10200000\n",
      "COUNT: 10300000\n",
      "COUNT: 10400000\n",
      "COUNT: 10500000\n",
      "COUNT: 10600000\n",
      "COUNT: 10700000\n",
      "COUNT: 10800000\n",
      "COUNT: 10900000\n",
      "COUNT: 11000000\n",
      "COUNT: 11100000\n",
      "COUNT: 11200000\n",
      "COUNT: 11300000\n",
      "COUNT: 11400000\n",
      "COUNT: 11500000\n",
      "COUNT: 11600000\n",
      "COUNT: 11700000\n",
      "COUNT: 11800000\n",
      "COUNT: 11900000\n",
      "COUNT: 12000000\n",
      "COUNT: 12100000\n",
      "COUNT: 12200000\n",
      "COUNT: 12300000\n",
      "COUNT: 12400000\n",
      "COUNT: 12500000\n",
      "COUNT: 12600000\n",
      "COUNT: 12700000\n",
      "COUNT: 12800000\n",
      "COUNT: 12900000\n",
      "COUNT: 13000000\n",
      "COUNT: 13100000\n",
      "COUNT: 13200000\n",
      "COUNT: 13300000\n",
      "COUNT: 13400000\n",
      "COUNT: 13500000\n",
      "COUNT: 13600000\n",
      "COUNT: 13700000\n",
      "COUNT: 13800000\n",
      "COUNT: 13900000\n",
      "COUNT: 14000000\n",
      "COUNT: 14100000\n",
      "COUNT: 14200000\n",
      "COUNT: 14300000\n",
      "COUNT: 14400000\n",
      "COUNT: 14500000\n",
      "COUNT: 14600000\n",
      "COUNT: 14700000\n",
      "COUNT: 14800000\n",
      "COUNT: 14900000\n",
      "COUNT: 15000000\n",
      "COUNT: 15100000\n",
      "COUNT: 15200000\n",
      "COUNT: 15300000\n",
      "COUNT: 15400000\n",
      "COUNT: 15500000\n",
      "COUNT: 15600000\n",
      "COUNT: 15700000\n",
      "COUNT: 15800000\n",
      "COUNT: 15900000\n",
      "COUNT: 16000000\n",
      "COUNT: 16100000\n",
      "COUNT: 16200000\n",
      "COUNT: 16300000\n",
      "COUNT: 16400000\n",
      "COUNT: 16500000\n",
      "COUNT: 16600000\n",
      "COUNT: 16700000\n",
      "COUNT: 16800000\n",
      "COUNT: 16900000\n",
      "COUNT: 17000000\n",
      "COUNT: 17100000\n",
      "COUNT: 17200000\n",
      "COUNT: 17300000\n",
      "COUNT: 17400000\n",
      "COUNT: 17500000\n",
      "COUNT: 17600000\n",
      "COUNT: 17700000\n",
      "COUNT: 17800000\n",
      "COUNT: 17900000\n",
      "COUNT: 18000000\n",
      "COUNT: 18100000\n",
      "COUNT: 18200000\n",
      "COUNT: 18300000\n",
      "COUNT: 18400000\n",
      "COUNT: 18500000\n",
      "COUNT: 18600000\n",
      "COUNT: 18700000\n",
      "COUNT: 18800000\n",
      "COUNT: 18900000\n",
      "COUNT: 19000000\n",
      "COUNT: 19100000\n",
      "COUNT: 19200000\n",
      "COUNT: 19300000\n",
      "COUNT: 19400000\n",
      "COUNT: 19500000\n",
      "COUNT: 19600000\n",
      "COUNT: 19700000\n",
      "COUNT: 19800000\n",
      "COUNT: 19900000\n",
      "COUNT: 20000000\n",
      "COUNT: 20100000\n",
      "COUNT: 20200000\n",
      "COUNT: 20300000\n",
      "COUNT: 20400000\n",
      "COUNT: 20500000\n",
      "COUNT: 20600000\n",
      "COUNT: 20700000\n",
      "COUNT: 20800000\n",
      "COUNT: 20900000\n",
      "COUNT: 21000000\n",
      "COUNT: 21100000\n",
      "COUNT: 21200000\n",
      "COUNT: 21300000\n",
      "COUNT: 21400000\n",
      "COUNT: 21500000\n",
      "COUNT: 21600000\n",
      "COUNT: 21700000\n",
      "COUNT: 21800000\n",
      "COUNT: 21900000\n",
      "COUNT: 22000000\n",
      "COUNT: 22100000\n",
      "COUNT: 22200000\n",
      "COUNT: 22300000\n",
      "COUNT: 22400000\n",
      "COUNT: 22500000\n",
      "COUNT: 22600000\n",
      "COUNT: 22700000\n",
      "COUNT: 22800000\n",
      "COUNT: 22900000\n",
      "COUNT: 23000000\n",
      "COUNT: 23100000\n",
      "COUNT: 23200000\n",
      "COUNT: 23300000\n",
      "COUNT: 23400000\n",
      "COUNT: 23500000\n",
      "COUNT: 23600000\n",
      "COUNT: 23700000\n",
      "COUNT: 23800000\n",
      "COUNT: 23900000\n",
      "COUNT: 24000000\n",
      "COUNT: 24100000\n",
      "COUNT: 24200000\n",
      "COUNT: 24300000\n",
      "COUNT: 24400000\n",
      "COUNT: 24500000\n",
      "COUNT: 24600000\n",
      "COUNT: 24700000\n",
      "COUNT: 24800000\n",
      "COUNT: 24900000\n",
      "COUNT: 25000000\n",
      "COUNT: 25100000\n",
      "COUNT: 25200000\n",
      "COUNT: 25300000\n",
      "COUNT: 25400000\n",
      "COUNT: 25500000\n",
      "COUNT: 25600000\n",
      "COUNT: 25700000\n",
      "COUNT: 25800000\n",
      "COUNT: 25900000\n",
      "COUNT: 26000000\n",
      "COUNT: 26100000\n",
      "COUNT: 26200000\n",
      "COUNT: 26300000\n",
      "COUNT: 26400000\n",
      "COUNT: 26500000\n",
      "COUNT: 26600000\n",
      "COUNT: 26700000\n",
      "COUNT: 26800000\n",
      "COUNT: 26900000\n",
      "COUNT: 27000000\n",
      "COUNT: 27100000\n",
      "COUNT: 27200000\n",
      "COUNT: 27300000\n",
      "COUNT: 27400000\n",
      "COUNT: 27500000\n",
      "COUNT: 27600000\n",
      "COUNT: 27700000\n",
      "COUNT: 27800000\n",
      "COUNT: 27900000\n",
      "COUNT: 28000000\n",
      "COUNT: 28100000\n",
      "COUNT: 28200000\n",
      "COUNT: 28300000\n",
      "COUNT: 28400000\n",
      "COUNT: 28500000\n",
      "COUNT: 28600000\n",
      "COUNT: 28700000\n",
      "COUNT: 28800000\n",
      "COUNT: 28900000\n",
      "COUNT: 29000000\n",
      "COUNT: 29100000\n",
      "COUNT: 29200000\n",
      "COUNT: 29300000\n",
      "COUNT: 29400000\n",
      "COUNT: 29500000\n",
      "COUNT: 29600000\n",
      "COUNT: 29700000\n",
      "COUNT: 29800000\n",
      "COUNT: 29900000\n",
      "COUNT: 30000000\n",
      "COUNT: 30100000\n",
      "COUNT: 30200000\n",
      "COUNT: 30300000\n",
      "COUNT: 30400000\n",
      "COUNT: 30500000\n",
      "COUNT: 30600000\n",
      "COUNT: 30700000\n",
      "COUNT: 30800000\n",
      "COUNT: 30900000\n",
      "COUNT: 31000000\n",
      "COUNT: 31100000\n",
      "COUNT: 31200000\n",
      "COUNT: 31300000\n",
      "COUNT: 31400000\n",
      "COUNT: 31500000\n",
      "COUNT: 31600000\n",
      "COUNT: 31700000\n",
      "COUNT: 31800000\n",
      "COUNT: 31900000\n",
      "COUNT: 32000000\n",
      "COUNT: 32100000\n",
      "COUNT: 32200000\n",
      "COUNT: 32300000\n",
      "COUNT: 32400000\n",
      "COUNT: 32500000\n",
      "COUNT: 32600000\n",
      "COUNT: 32700000\n",
      "COUNT: 32800000\n",
      "COUNT: 32900000\n",
      "COUNT: 33000000\n",
      "COUNT: 33100000\n",
      "COUNT: 33200000\n",
      "COUNT: 33300000\n",
      "COUNT: 33400000\n",
      "COUNT: 33500000\n",
      "COUNT: 33600000\n",
      "COUNT: 33700000\n",
      "COUNT: 33800000\n",
      "COUNT: 33900000\n",
      "COUNT: 34000000\n",
      "COUNT: 34100000\n",
      "COUNT: 34200000\n",
      "COUNT: 34300000\n",
      "COUNT: 34400000\n",
      "COUNT: 34500000\n",
      "COUNT: 34600000\n",
      "COUNT: 34700000\n",
      "COUNT: 34800000\n",
      "COUNT: 34900000\n",
      "COUNT: 35000000\n",
      "COUNT: 35100000\n",
      "COUNT: 35200000\n",
      "COUNT: 35300000\n",
      "COUNT: 35400000\n",
      "COUNT: 35500000\n",
      "COUNT: 35600000\n",
      "COUNT: 35700000\n",
      "COUNT: 35800000\n",
      "COUNT: 35900000\n",
      "COUNT: 36000000\n",
      "COUNT: 36100000\n",
      "COUNT: 36200000\n",
      "COUNT: 36300000\n",
      "COUNT: 36400000\n",
      "COUNT: 36500000\n",
      "COUNT: 36600000\n",
      "COUNT: 36700000\n",
      "COUNT: 36800000\n",
      "COUNT: 36900000\n",
      "COUNT: 37000000\n",
      "COUNT: 37100000\n",
      "COUNT: 37200000\n",
      "COUNT: 37300000\n",
      "COUNT: 37400000\n",
      "COUNT: 37500000\n",
      "COUNT: 37600000\n",
      "COUNT: 37700000\n",
      "COUNT: 37800000\n",
      "COUNT: 37900000\n",
      "COUNT: 38000000\n",
      "COUNT: 38100000\n",
      "COUNT: 38200000\n",
      "COUNT: 38300000\n",
      "COUNT: 38400000\n",
      "COUNT: 38500000\n",
      "COUNT: 38600000\n",
      "COUNT: 38700000\n",
      "COUNT: 38800000\n",
      "COUNT: 38900000\n",
      "COUNT: 39000000\n",
      "COUNT: 39100000\n",
      "COUNT: 39200000\n",
      "COUNT: 39300000\n",
      "COUNT: 39400000\n",
      "COUNT: 39500000\n",
      "COUNT: 39600000\n",
      "COUNT: 39700000\n",
      "COUNT: 39800000\n",
      "COUNT: 39900000\n",
      "COUNT: 40000000\n",
      "COUNT: 40100000\n",
      "COUNT: 40200000\n",
      "COUNT: 40300000\n",
      "COUNT: 40400000\n",
      "COUNT: 40500000\n",
      "COUNT: 40600000\n",
      "COUNT: 40700000\n",
      "COUNT: 40800000\n",
      "COUNT: 40900000\n",
      "COUNT: 41000000\n",
      "COUNT: 41100000\n",
      "COUNT: 41200000\n",
      "COUNT: 41300000\n",
      "COUNT: 41400000\n",
      "COUNT: 41500000\n",
      "COUNT: 41600000\n",
      "COUNT: 41700000\n",
      "COUNT: 41800000\n",
      "COUNT: 41900000\n",
      "COUNT: 42000000\n",
      "COUNT: 42100000\n",
      "COUNT: 42200000\n",
      "COUNT: 42300000\n",
      "COUNT: 42400000\n",
      "COUNT: 42500000\n",
      "COUNT: 42600000\n",
      "COUNT: 42700000\n",
      "COUNT: 42800000\n",
      "COUNT: 42900000\n",
      "COUNT: 43000000\n",
      "COUNT: 43100000\n",
      "COUNT: 43200000\n",
      "COUNT: 43300000\n",
      "COUNT: 43400000\n",
      "COUNT: 43500000\n",
      "COUNT: 43600000\n",
      "COUNT: 43700000\n",
      "COUNT: 43800000\n",
      "COUNT: 43900000\n",
      "COUNT: 44000000\n",
      "COUNT: 44100000\n",
      "COUNT: 44200000\n",
      "COUNT: 44300000\n",
      "COUNT: 44400000\n",
      "COUNT: 44500000\n",
      "COUNT: 44600000\n",
      "COUNT: 44700000\n",
      "COUNT: 44800000\n",
      "COUNT: 44900000\n",
      "COUNT: 45000000\n",
      "COUNT: 45100000\n",
      "COUNT: 45200000\n",
      "COUNT: 45300000\n",
      "COUNT: 45400000\n",
      "COUNT: 45500000\n",
      "COUNT: 45600000\n",
      "COUNT: 45700000\n",
      "COUNT: 45800000\n",
      "COUNT: 45900000\n",
      "COUNT: 46000000\n",
      "COUNT: 46100000\n",
      "COUNT: 46200000\n",
      "COUNT: 46300000\n",
      "COUNT: 46400000\n",
      "COUNT: 46500000\n",
      "COUNT: 46600000\n",
      "COUNT: 46700000\n",
      "COUNT: 46800000\n",
      "COUNT: 46900000\n",
      "COUNT: 47000000\n",
      "COUNT: 47100000\n",
      "COUNT: 47200000\n",
      "COUNT: 47300000\n",
      "COUNT: 47400000\n",
      "COUNT: 47500000\n",
      "COUNT: 47600000\n",
      "COUNT: 47700000\n",
      "COUNT: 47800000\n",
      "COUNT: 47900000\n",
      "COUNT: 48000000\n",
      "COUNT: 48100000\n",
      "COUNT: 48200000\n",
      "COUNT: 48300000\n",
      "COUNT: 48400000\n",
      "COUNT: 48500000\n",
      "COUNT: 48600000\n",
      "COUNT: 48700000\n",
      "COUNT: 48800000\n",
      "COUNT: 48900000\n",
      "COUNT: 49000000\n",
      "COUNT: 49100000\n",
      "COUNT: 49200000\n",
      "COUNT: 49300000\n",
      "COUNT: 49400000\n",
      "COUNT: 49500000\n",
      "COUNT: 49600000\n",
      "COUNT: 49700000\n",
      "COUNT: 49800000\n",
      "COUNT: 49900000\n",
      "COUNT: 50000000\n",
      "COUNT: 50100000\n",
      "COUNT: 50200000\n",
      "COUNT: 50300000\n",
      "COUNT: 50400000\n",
      "COUNT: 50500000\n",
      "COUNT: 50600000\n",
      "COUNT: 50700000\n",
      "COUNT: 50800000\n",
      "COUNT: 50900000\n",
      "COUNT: 51000000\n",
      "COUNT: 51100000\n",
      "COUNT: 51200000\n",
      "COUNT: 51300000\n",
      "COUNT: 51400000\n",
      "COUNT: 51500000\n",
      "COUNT: 51600000\n",
      "COUNT: 51700000\n",
      "COUNT: 51800000\n",
      "COUNT: 51900000\n"
     ]
    },
    {
     "name": "stdout",
     "output_type": "stream",
     "text": [
      "COUNT: 52000000\n",
      "COUNT: 52100000\n",
      "COUNT: 52200000\n",
      "COUNT: 52300000\n",
      "COUNT: 52400000\n",
      "COUNT: 52500000\n",
      "COUNT: 52600000\n",
      "COUNT: 52700000\n",
      "COUNT: 52800000\n",
      "COUNT: 52900000\n",
      "COUNT: 53000000\n",
      "COUNT: 53100000\n",
      "COUNT: 53200000\n",
      "COUNT: 53300000\n",
      "COUNT: 53400000\n",
      "COUNT: 53500000\n",
      "COUNT: 53600000\n",
      "COUNT: 53700000\n",
      "COUNT: 53800000\n",
      "COUNT: 53900000\n",
      "COUNT: 54000000\n",
      "COUNT: 54100000\n",
      "COUNT: 54200000\n",
      "COUNT: 54300000\n",
      "COUNT: 54400000\n",
      "COUNT: 54500000\n",
      "COUNT: 54600000\n",
      "COUNT: 54700000\n",
      "COUNT: 54800000\n",
      "COUNT: 54900000\n",
      "COUNT: 55000000\n",
      "COUNT: 55100000\n",
      "COUNT: 55200000\n",
      "COUNT: 55300000\n",
      "COUNT: 55400000\n",
      "COUNT: 55500000\n",
      "COUNT: 55600000\n",
      "COUNT: 55700000\n",
      "COUNT: 55800000\n",
      "COUNT: 55900000\n",
      "COUNT: 56000000\n",
      "COUNT: 56100000\n",
      "COUNT: 56200000\n",
      "COUNT: 56300000\n",
      "COUNT: 56400000\n",
      "COUNT: 56500000\n",
      "COUNT: 56600000\n",
      "COUNT: 56700000\n",
      "COUNT: 56800000\n",
      "COUNT: 56900000\n",
      "COUNT: 57000000\n",
      "COUNT: 57100000\n",
      "COUNT: 57200000\n",
      ">>> log: False\n",
      ">>> support bound: True\n",
      ">>> accurate support bound: True\n",
      ">>> equiv points bound: True\n",
      ">>> lookahead bound: True\n",
      "total time:  3229.861347913742\n",
      "lambda:  0.0035\n",
      "leaves:  [(1,), (-1, 5), (-5, -1, 13), (-13, -5, -1, 12), (-13, -12, -5, -3, -1), (-13, -12, -5, -1, 3)]\n",
      "num_captured:  [2174, 810, 2088, 483, 205, 1147]\n",
      "num_captured_incorrect:  [736, 176, 679, 164, 76, 455]\n",
      "prediction:  [1, 0, 0, 1, 1, 0]\n",
      "Objective:  0.35196858259736497\n",
      "COUNT of the best tree:  8559870\n",
      "time when the best tree is achieved:  468.18904995918274\n",
      "TOTAL COUNT:  57221882\n"
     ]
    },
    {
     "data": {
      "text/plain": [
       "<corels_dt_nosimilar_multicopies.CacheTree at 0x120554c88>"
      ]
     },
     "execution_count": 21,
     "metadata": {},
     "output_type": "execute_result"
    }
   ],
   "source": [
    "### 10.31 1######################## \n",
    "# order x's columns according to gini_reduction\n",
    "# use removed_leaves as d0, unchanged_leaves as dp\n",
    "bbound_nosimilar_multicopies(x_all, y, lamb=0.0035, prior_metric=\"objective\", MAXDEPTH = 13, R_c0=1)\n",
    "#####  "
   ]
  },
  {
   "cell_type": "code",
   "execution_count": null,
   "metadata": {},
   "outputs": [],
   "source": []
  },
  {
   "cell_type": "code",
   "execution_count": 31,
   "metadata": {},
   "outputs": [
    {
     "name": "stdout",
     "output_type": "stream",
     "text": [
      "nrule: 5\n",
      "ndata: 6907\n",
      "gr: [0.00438766 0.0037798  0.0009402  0.0004441  0.03628272]\n",
      "order: [4, 0, 1, 2, 3]\n",
      "odr: [4, 0, 1, 2, 3]\n",
      "the order of x's columns:  [4, 0, 1, 2, 3]\n",
      ">>> log: False\n",
      ">>> support bound: True\n",
      ">>> accurate support bound: True\n",
      ">>> equiv points bound: True\n",
      ">>> lookahead bound: True\n",
      "total time:  7.49482536315918\n",
      "lambda:  0.0035\n",
      "leaves:  [(1,), (-1, 3), (-5, -3, -1), (-4, -3, -1, 5), (-3, -1, 4, 5)]\n",
      "num_captured:  [2174, 667, 2856, 1054, 156]\n",
      "num_captured_incorrect:  [736, 283, 806, 456, 44]\n",
      "prediction:  [1, 1, 0, 0, 1]\n",
      "Objective:  0.3541150282322281\n",
      "COUNT of the best tree:  1296\n",
      "time when the best tree is achieved:  1.6286430358886719\n",
      "TOTAL COUNT:  44219\n"
     ]
    },
    {
     "data": {
      "text/plain": [
       "<corels_dt_nosimilar_multicopies1029.CacheTree at 0x120588358>"
      ]
     },
     "execution_count": 31,
     "metadata": {},
     "output_type": "execute_result"
    }
   ],
   "source": [
    "### 10.29######################## \n",
    "# order x's columns according to gini_reduction\n",
    "# use the leaf with the minimum loss to find a pair of leaves as d0\n",
    "bbound_nosimilar_multicopies(x, y, lamb=0.0035, prior_metric=\"objective\", MAXDEPTH = 5, R_c0=1)\n",
    "##### "
   ]
  },
  {
   "cell_type": "code",
   "execution_count": 19,
   "metadata": {},
   "outputs": [
    {
     "name": "stdout",
     "output_type": "stream",
     "text": [
      "nrule: 5\n",
      "ndata: 6907\n",
      "gr: [0.00438766 0.0037798  0.0009402  0.0004441  0.03628272]\n",
      "order: [4, 0, 1, 2, 3]\n",
      "odr: [4, 0, 1, 2, 3]\n",
      "the order of x's columns:  [4, 0, 1, 2, 3]\n",
      ">>> log: False\n",
      ">>> support bound: True\n",
      ">>> accurate support bound: True\n",
      ">>> equiv points bound: True\n",
      ">>> lookahead bound: True\n",
      "total time:  3.3748302459716797\n",
      "lambda:  0.0035\n",
      "leaves:  [(1,), (-1, 3), (-5, -3, -1), (-4, -3, -1, 5), (-3, -1, 4, 5)]\n",
      "num_captured:  [2174, 667, 2856, 1054, 156]\n",
      "num_captured_incorrect:  [736, 283, 806, 456, 44]\n",
      "prediction:  [1, 1, 0, 0, 1]\n",
      "Objective:  0.3541150282322281\n",
      "COUNT of the best tree:  2170\n",
      "time when the best tree is achieved:  1.560352087020874\n",
      "TOTAL COUNT:  2923\n"
     ]
    },
    {
     "data": {
      "text/plain": [
       "<corels_dt_nosimilar_multicopies.CacheTree at 0x11f30ee80>"
      ]
     },
     "execution_count": 19,
     "metadata": {},
     "output_type": "execute_result"
    }
   ],
   "source": [
    "### 10.29######################## \n",
    "# order x's columns according to gini_reduction\n",
    "# use the leaf with the minimum loss to find a pair of leaves as d0\n",
    "bbound_nosimilar_multicopies(x, y, lamb=0.0035, prior_metric=\"objective\", MAXDEPTH = 5, R_c0=1)\n",
    "#####"
   ]
  },
  {
   "cell_type": "code",
   "execution_count": null,
   "metadata": {},
   "outputs": [],
   "source": []
  },
  {
   "cell_type": "code",
   "execution_count": null,
   "metadata": {},
   "outputs": [],
   "source": []
  },
  {
   "cell_type": "code",
   "execution_count": null,
   "metadata": {},
   "outputs": [],
   "source": []
  },
  {
   "cell_type": "code",
   "execution_count": null,
   "metadata": {},
   "outputs": [],
   "source": []
  },
  {
   "cell_type": "code",
   "execution_count": null,
   "metadata": {},
   "outputs": [],
   "source": []
  },
  {
   "cell_type": "code",
   "execution_count": 17,
   "metadata": {},
   "outputs": [
    {
     "name": "stdout",
     "output_type": "stream",
     "text": [
      "nrule: 4\n",
      "ndata: 6907\n",
      "gr: [0.00438766 0.0037798  0.0004441  0.03628272]\n",
      "order: [3, 0, 1, 2]\n",
      "odr: [3, 0, 1, 2]\n",
      "the order of x's columns:  [3, 0, 1, 2]\n"
     ]
    },
    {
     "name": "stderr",
     "output_type": "stream",
     "text": [
      "/Users/huxiyang/document/academic/corels/repo/src/corels_dt_nosimilar_multicopies.py:430: FutureWarning: Method .as_matrix will be removed in a future version. Use .values instead.\n",
      "  z = pd.DataFrame([-1] * ndata).as_matrix()\n"
     ]
    },
    {
     "name": "stdout",
     "output_type": "stream",
     "text": [
      ">>> log: True\n",
      ">>> support bound: True\n",
      ">>> accurate support bound: True\n",
      ">>> equiv points bound: True\n",
      ">>> lookahead bound: True\n",
      "total time:  1.2121350765228271\n",
      "lambda:  0.0035\n",
      "leaves:  [(1,), (-3, -1), (-1, 3)]\n",
      "num_captured:  [2174, 4066, 667]\n",
      "num_captured_incorrect:  [736, 1374, 283]\n",
      "prediction:  [1, 0, 1]\n",
      "Objective:  0.3569601129289127\n",
      "COUNT of the best tree:  93\n",
      "time when the best tree is achieved:  0.6955640316009521\n",
      "TOTAL COUNT:  303\n"
     ]
    },
    {
     "data": {
      "text/plain": [
       "<corels_dt_nosimilar_multicopies.CacheTree at 0x111e607f0>"
      ]
     },
     "execution_count": 17,
     "metadata": {},
     "output_type": "execute_result"
    }
   ],
   "source": [
    "idxx = [0,1,3,4]\n",
    "### 10.24 ######################## \n",
    "# order x's columns according to gini_reduction\n",
    "# use the leaf with the minimum loss to find a pair of leaves as d0\n",
    "bbound_nosimilar_multicopies(x[:,idxx], y, lamb=0.0035, prior_metric=\"objective\", MAXDEPTH = 5, lenbound=False, logon=True)"
   ]
  },
  {
   "cell_type": "code",
   "execution_count": 17,
   "metadata": {},
   "outputs": [
    {
     "name": "stdout",
     "output_type": "stream",
     "text": [
      "nrule: 4\n",
      "ndata: 6907\n",
      "gr: [0.00438766 0.0037798  0.0004441  0.03628272]\n",
      "order: [3, 0, 1, 2]\n",
      "odr: [3, 0, 1, 2]\n",
      "the order of x's columns:  [3, 0, 1, 2]\n",
      ">>> log: True\n",
      ">>> support bound: True\n",
      ">>> accurate support bound: True\n",
      ">>> equiv points bound: True\n",
      ">>> lookahead bound: True\n",
      "total time:  1.7444970607757568\n",
      "lambda:  0.0035\n",
      "leaves:  [(1,), (-3, -1), (-1, 3)]\n",
      "num_captured:  [2174, 4066, 667]\n",
      "num_captured_incorrect:  [736, 1374, 283]\n",
      "prediction:  [1, 0, 1]\n",
      "Objective:  0.3569601129289127\n",
      "COUNT of the best tree:  93\n",
      "time when the best tree is achieved:  1.0001459121704102\n",
      "TOTAL COUNT:  303\n"
     ]
    },
    {
     "data": {
      "text/plain": [
       "<corels_dt_nosimilar_multicopies.CacheTree at 0x7f254535ce80>"
      ]
     },
     "execution_count": 17,
     "metadata": {},
     "output_type": "execute_result"
    }
   ],
   "source": [
    "idxx = [0,1,3,4]\n",
    "### 10.24 ######################## \n",
    "# order x's columns according to gini_reduction\n",
    "# use the leaf with the minimum loss to find a pair of leaves as d0\n",
    "bbound_nosimilar_multicopies(x[:,idxx], y, lamb=0.0035, prior_metric=\"objective\", MAXDEPTH = 5, lenbound=False, logon=True)"
   ]
  },
  {
   "cell_type": "code",
   "execution_count": 25,
   "metadata": {},
   "outputs": [
    {
     "data": {
      "text/plain": [
       "set()"
      ]
     },
     "execution_count": 25,
     "metadata": {},
     "output_type": "execute_result"
    }
   ],
   "source": [
    "set([1,2,3])-set([1])-set([2,3])"
   ]
  },
  {
   "cell_type": "code",
   "execution_count": 27,
   "metadata": {
    "scrolled": false
   },
   "outputs": [
    {
     "name": "stdout",
     "output_type": "stream",
     "text": [
      "nrule: 4\n",
      "ndata: 6907\n",
      "gr: [0.0004441  0.00438766 0.0037798  0.0009402 ]\n",
      "order: [1, 2, 3, 0]\n",
      "odr: [1, 2, 3, 0]\n",
      "the order of x's columns:  [1, 2, 3, 0]\n"
     ]
    },
    {
     "name": "stderr",
     "output_type": "stream",
     "text": [
      "/Users/huxiyang/document/academic/corels/repo/src/corels_dt_nosimilar_multicopies.py:430: FutureWarning: Method .as_matrix will be removed in a future version. Use .values instead.\n",
      "  z = pd.DataFrame([-1] * ndata).as_matrix()\n"
     ]
    },
    {
     "name": "stdout",
     "output_type": "stream",
     "text": [
      ">>> log: False\n",
      ">>> support bound: True\n",
      ">>> accurate support bound: True\n",
      ">>> equiv points bound: True\n",
      ">>> lookahead bound: True\n",
      "total time:  1.2832050323486328\n",
      "lambda:  0.0035\n",
      "leaves:  [(1,), (-1, 2), (-3, -2, -1), (-2, -1, 3)]\n",
      "num_captured:  [1328, 582, 4471, 526]\n",
      "num_captured_incorrect:  [487, 220, 2043, 222]\n",
      "prediction:  [0, 1, 0, 1]\n",
      "Objective:  0.4442881135080353\n",
      "COUNT of the best tree:  694\n",
      "time when the best tree is achieved:  1.258458137512207\n",
      "TOTAL COUNT:  922\n"
     ]
    },
    {
     "data": {
      "text/plain": [
       "<corels_dt_nosimilar_multicopies.CacheTree at 0x11ddd97f0>"
      ]
     },
     "execution_count": 27,
     "metadata": {},
     "output_type": "execute_result"
    }
   ],
   "source": [
    "idxx = [3,0,1,2]\n",
    "### 10.29 ######################## \n",
    "# order x's columns according to gini_reduction\n",
    "# use the leaf with the minimum loss to find a pair of leaves as d0\n",
    "bbound_nosimilar_multicopies(x[:,idxx], y, lamb=0.0035, prior_metric=\"objective\", MAXDEPTH = 5)"
   ]
  },
  {
   "cell_type": "code",
   "execution_count": 28,
   "metadata": {
    "scrolled": false
   },
   "outputs": [
    {
     "name": "stdout",
     "output_type": "stream",
     "text": [
      "nrule: 4\n",
      "ndata: 6907\n",
      "gr: [0.0004441  0.00438766 0.0037798  0.0009402 ]\n",
      "order: [1, 2, 3, 0]\n",
      "odr: [1, 2, 3, 0]\n",
      "the order of x's columns:  [1, 2, 3, 0]\n"
     ]
    },
    {
     "name": "stderr",
     "output_type": "stream",
     "text": [
      "/Users/huxiyang/document/academic/corels/repo/src/corels_dt_nosimilar_multicopies1029.py:430: FutureWarning: Method .as_matrix will be removed in a future version. Use .values instead.\n",
      "  z = pd.DataFrame([-1] * ndata).as_matrix()\n"
     ]
    },
    {
     "name": "stdout",
     "output_type": "stream",
     "text": [
      ">>> log: False\n",
      ">>> support bound: True\n",
      ">>> accurate support bound: True\n",
      ">>> equiv points bound: True\n",
      ">>> lookahead bound: True\n",
      "total time:  1.230978012084961\n",
      "lambda:  0.0035\n",
      "leaves:  [(1,), (-1, 2), (-3, -2, -1), (-2, -1, 3)]\n",
      "num_captured:  [1328, 582, 4471, 526]\n",
      "num_captured_incorrect:  [487, 220, 2043, 222]\n",
      "prediction:  [0, 1, 0, 1]\n",
      "Objective:  0.4442881135080353\n",
      "COUNT of the best tree:  728\n",
      "time when the best tree is achieved:  1.2051167488098145\n",
      "TOTAL COUNT:  956\n"
     ]
    },
    {
     "data": {
      "text/plain": [
       "<corels_dt_nosimilar_multicopies1029.CacheTree at 0x11de03048>"
      ]
     },
     "execution_count": 28,
     "metadata": {},
     "output_type": "execute_result"
    }
   ],
   "source": [
    "### 10.29 ######################## \n",
    "# order x's columns according to gini_reduction\n",
    "# use the leaf with the minimum loss to find a pair of leaves as d0\n",
    "bbound_nosimilar_multicopies1029(x[:,idxx], y, lamb=0.0035, prior_metric=\"objective\", MAXDEPTH = 5)"
   ]
  },
  {
   "cell_type": "code",
   "execution_count": 43,
   "metadata": {},
   "outputs": [
    {
     "data": {
      "text/plain": [
       "array([0, 1, 1, ..., 0, 0, 1])"
      ]
     },
     "execution_count": 43,
     "metadata": {},
     "output_type": "execute_result"
    }
   ],
   "source": [
    "0.41552048646300854\n",
    "y"
   ]
  },
  {
   "cell_type": "code",
   "execution_count": 54,
   "metadata": {},
   "outputs": [
    {
     "data": {
      "text/plain": [
       "0.044013319820471984"
      ]
     },
     "execution_count": 54,
     "metadata": {},
     "output_type": "execute_result"
    }
   ],
   "source": [
    "sum(((x[:,idxx][:,1]==0) * (x[:,idxx][:,2]==0) * (x[:,idxx][:,3]==1))*(y==1))/6907"
   ]
  },
  {
   "cell_type": "code",
   "execution_count": 17,
   "metadata": {
    "scrolled": false
   },
   "outputs": [
    {
     "name": "stdout",
     "output_type": "stream",
     "text": [
      "nrule: 5\n",
      "ndata: 6907\n",
      "gr: [0.00438766 0.0037798  0.0009402  0.0004441  0.03628272]\n",
      "order: [4, 0, 1, 2, 3]\n",
      "odr: [4, 0, 1, 2, 3]\n",
      "the order of x's columns:  [4, 0, 1, 2, 3]\n",
      ">>> log: False\n",
      ">>> support bound: True\n",
      ">>> accurate support bound: True\n",
      ">>> equiv points bound: True\n",
      ">>> lookahead bound: True\n",
      "total time:  7.676317930221558\n",
      "lambda:  0.0035\n",
      "leaves:  [(1,), (-1, 3), (-5, -3, -1), (-4, -3, -1, 5), (-3, -1, 4, 5)]\n",
      "num_captured:  [2174, 667, 2856, 1054, 156]\n",
      "num_captured_incorrect:  [736, 283, 806, 456, 44]\n",
      "prediction:  [1, 1, 0, 0, 1]\n",
      "Objective:  0.3541150282322281\n",
      "COUNT of the best tree:  1296\n",
      "time when the best tree is achieved:  1.6672260761260986\n",
      "TOTAL COUNT:  44189\n"
     ]
    },
    {
     "data": {
      "text/plain": [
       "<corels_dt_nosimilar_multicopies.CacheTree at 0x10e05e748>"
      ]
     },
     "execution_count": 17,
     "metadata": {},
     "output_type": "execute_result"
    }
   ],
   "source": [
    "### 10.29 ######################## \n",
    "# order x's columns according to gini_reduction\n",
    "# use the leaf with the minimum loss to find a pair of leaves as d0\n",
    "bbound_nosimilar_multicopies(x, y, lamb=0.0035, prior_metric=\"objective\", MAXDEPTH = 5)"
   ]
  },
  {
   "cell_type": "code",
   "execution_count": 18,
   "metadata": {
    "scrolled": false
   },
   "outputs": [
    {
     "name": "stdout",
     "output_type": "stream",
     "text": [
      "nrule: 5\n",
      "ndata: 6907\n",
      "gr: [0.00438766 0.0037798  0.0009402  0.0004441  0.03628272]\n",
      "order: [4, 0, 1, 2, 3]\n",
      "odr: [4, 0, 1, 2, 3]\n",
      "the order of x's columns:  [4, 0, 1, 2, 3]\n",
      ">>> log: False\n",
      ">>> support bound: True\n",
      ">>> accurate support bound: True\n",
      ">>> equiv points bound: True\n",
      ">>> lookahead bound: True\n",
      "total time:  7.725904941558838\n",
      "lambda:  0.0035\n",
      "leaves:  [(1,), (-1, 3), (-5, -3, -1), (-4, -3, -1, 5), (-3, -1, 4, 5)]\n",
      "num_captured:  [2174, 667, 2856, 1054, 156]\n",
      "num_captured_incorrect:  [736, 283, 806, 456, 44]\n",
      "prediction:  [1, 1, 0, 0, 1]\n",
      "Objective:  0.3541150282322281\n",
      "COUNT of the best tree:  1296\n",
      "time when the best tree is achieved:  1.602445125579834\n",
      "TOTAL COUNT:  44219\n"
     ]
    },
    {
     "data": {
      "text/plain": [
       "<corels_dt_nosimilar_multicopies1029.CacheTree at 0x10e0b97b8>"
      ]
     },
     "execution_count": 18,
     "metadata": {},
     "output_type": "execute_result"
    }
   ],
   "source": [
    "### 10.29 ######################## \n",
    "# order x's columns according to gini_reduction\n",
    "# use the leaf with the minimum loss to find a pair of leaves as d0\n",
    "bbound_nosimilar_multicopies1029(x, y, lamb=0.0035, prior_metric=\"objective\", MAXDEPTH = 5)"
   ]
  },
  {
   "cell_type": "code",
   "execution_count": null,
   "metadata": {},
   "outputs": [],
   "source": []
  },
  {
   "cell_type": "code",
   "execution_count": null,
   "metadata": {
    "scrolled": true
   },
   "outputs": [
    {
     "name": "stdout",
     "output_type": "stream",
     "text": [
      "nrule: 6\n",
      "ndata: 6907\n",
      "gr: [0.00438766 0.0037798  0.0009402  0.01958141 0.0004441  0.03628272]\n",
      "order: [5, 3, 0, 1, 2, 4]\n",
      "odr: [5, 3, 0, 1, 2, 4]\n",
      "the order of x's columns:  [5, 3, 0, 1, 2, 4]\n",
      "COUNT: 100000\n",
      "COUNT: 200000\n",
      "COUNT: 300000\n",
      "COUNT: 400000\n",
      "COUNT: 500000\n",
      "COUNT: 600000\n",
      "COUNT: 700000\n",
      "COUNT: 800000\n",
      "COUNT: 900000\n",
      "COUNT: 1000000\n"
     ]
    }
   ],
   "source": [
    "### 10.24 ######################## \n",
    "# order x's columns according to gini_reduction\n",
    "# use the leaf with the minimum loss to find a pair of leaves as d0\n",
    "bbound_nosimilar_multicopies(x6, y, lamb=0.0035, prior_metric=\"objective\", MAXDEPTH = 5, logon=True)"
   ]
  },
  {
   "cell_type": "code",
   "execution_count": 15,
   "metadata": {
    "scrolled": false
   },
   "outputs": [
    {
     "name": "stdout",
     "output_type": "stream",
     "text": [
      "nrule: 6\n",
      "ndata: 6907\n",
      "gr: [0.00438766 0.0037798  0.0009402  0.01958141 0.0004441  0.03628272]\n",
      "order: [5, 3, 0, 1, 2, 4]\n",
      "odr: [5, 3, 0, 1, 2, 4]\n",
      "the order of x's columns:  [5, 3, 0, 1, 2, 4]\n",
      "COUNT: 100000\n",
      "COUNT: 200000\n",
      ">>> log: False\n",
      ">>> support bound: True\n",
      ">>> accurate support bound: True\n",
      ">>> equiv points bound: True\n",
      ">>> lookahead bound: True\n",
      "total time:  62.08311700820923\n",
      "lambda:  0.0035\n",
      "leaves:  [(4,), (-6, -4, -1), (-6, -4, 1), (-5, -4, 6), (-4, 5, 6)]\n",
      "num_captured:  [699, 2856, 2142, 1054, 156]\n",
      "num_captured_incorrect:  [285, 806, 734, 456, 44]\n",
      "prediction:  [1, 0, 1, 0, 1]\n",
      "Objective:  0.35411502823222823\n",
      "COUNT of the best tree:  24754\n",
      "time when the best tree is achieved:  12.21420407295227\n",
      "TOTAL COUNT:  211559\n"
     ]
    },
    {
     "data": {
      "text/plain": [
       "<corels_dt_nosimilar_multicopies.CacheTree at 0x7f75de503390>"
      ]
     },
     "execution_count": 15,
     "metadata": {},
     "output_type": "execute_result"
    }
   ],
   "source": [
    "### 10.24 00######################## \n",
    "# order x's columns according to gini_reduction\n",
    "# use the leaf with the minimum loss to find a pair of leaves as d0\n",
    "bbound_nosimilar_multicopies(x6, y, lamb=0.0035, prior_metric=\"objective\", MAXDEPTH = 5, R_c0=1)\n",
    "##### "
   ]
  },
  {
   "cell_type": "code",
   "execution_count": 16,
   "metadata": {
    "scrolled": false
   },
   "outputs": [
    {
     "name": "stdout",
     "output_type": "stream",
     "text": [
      "nrule: 6\n",
      "ndata: 6907\n",
      "gr: [0.00438766 0.0037798  0.0009402  0.01958141 0.0004441  0.03628272]\n",
      "order: [5, 3, 0, 1, 2, 4]\n",
      "odr: [5, 3, 0, 1, 2, 4]\n",
      "the order of x's columns:  [5, 3, 0, 1, 2, 4]\n",
      "COUNT: 100000\n",
      "COUNT: 200000\n",
      "COUNT: 300000\n",
      "COUNT: 400000\n",
      "COUNT: 500000\n",
      "COUNT: 600000\n",
      "COUNT: 700000\n",
      "COUNT: 800000\n",
      "COUNT: 900000\n",
      "COUNT: 1000000\n",
      "COUNT: 1100000\n",
      "COUNT: 1200000\n",
      "COUNT: 1300000\n",
      ">>> log: False\n",
      ">>> support bound: True\n",
      ">>> accurate support bound: True\n",
      ">>> equiv points bound: True\n",
      ">>> lookahead bound: True\n",
      "total time:  568.1288306713104\n",
      "lambda:  0.0035\n",
      "leaves:  [(1,), (-1, 4), (-6, -4, -1), (-5, -4, -1, 6), (-4, -1, 5, 6)]\n",
      "num_captured:  [2174, 667, 2856, 1054, 156]\n",
      "num_captured_incorrect:  [736, 283, 806, 456, 44]\n",
      "prediction:  [1, 1, 0, 0, 1]\n",
      "Objective:  0.3541150282322281\n",
      "COUNT of the best tree:  155108\n",
      "time when the best tree is achieved:  16.15691304206848\n",
      "TOTAL COUNT:  1327126\n"
     ]
    },
    {
     "data": {
      "text/plain": [
       "<corels_dt_nosimilar_multicopies.CacheTree at 0x7f292622b710>"
      ]
     },
     "execution_count": 16,
     "metadata": {},
     "output_type": "execute_result"
    }
   ],
   "source": [
    "### 10.24 00######################## \n",
    "# order x's columns according to gini_reduction\n",
    "# use the leaf with the minimum loss to find a pair of leaves as d0\n",
    "bbound_nosimilar_multicopies(x6, y, lamb=0.0035, prior_metric=\"objective\", MAXDEPTH = 5, R_c0=0.3865089764007529)\n",
    "##### "
   ]
  },
  {
   "cell_type": "code",
   "execution_count": 18,
   "metadata": {
    "scrolled": false
   },
   "outputs": [
    {
     "name": "stdout",
     "output_type": "stream",
     "text": [
      "nrule: 6\n",
      "ndata: 6907\n",
      "gr: [0.00438766 0.0037798  0.0009402  0.01958141 0.0004441  0.03628272]\n",
      "order: [5, 3, 0, 1, 2, 4]\n",
      "odr: [5, 3, 0, 1, 2, 4]\n",
      "the order of x's columns:  [5, 3, 0, 1, 2, 4]\n",
      "COUNT: 100000\n",
      "COUNT: 200000\n",
      "COUNT: 300000\n",
      "COUNT: 400000\n",
      "COUNT: 500000\n",
      "COUNT: 600000\n",
      "COUNT: 700000\n",
      "COUNT: 800000\n",
      "COUNT: 900000\n",
      "COUNT: 1000000\n",
      "COUNT: 1100000\n",
      ">>> log: False\n",
      ">>> support bound: True\n",
      ">>> accurate support bound: True\n",
      ">>> equiv points bound: True\n",
      ">>> lookahead bound: True\n",
      "total time:  480.1155240535736\n",
      "lambda:  0.0035\n",
      "leaves:  [(1,), (-1, 4), (-6, -4, -1), (-5, -4, -1, 6), (-4, -1, 5, 6)]\n",
      "num_captured:  [2174, 667, 2856, 1054, 156]\n",
      "num_captured_incorrect:  [736, 283, 806, 456, 44]\n",
      "prediction:  [1, 1, 0, 0, 1]\n",
      "Objective:  0.3541150282322281\n",
      "COUNT of the best tree:  154015\n",
      "time when the best tree is achieved:  16.13533043861389\n",
      "TOTAL COUNT:  1124359\n"
     ]
    },
    {
     "data": {
      "text/plain": [
       "<corels_dt_nosimilar_multicopies.CacheTree at 0x7f2919b79dd8>"
      ]
     },
     "execution_count": 18,
     "metadata": {},
     "output_type": "execute_result"
    }
   ],
   "source": [
    "### 10.24 00######################## \n",
    "# order x's columns according to gini_reduction\n",
    "# use the leaf with the minimum loss to find a pair of leaves as d0\n",
    "bbound_nosimilar_multicopies(x6, y, lamb=0.0035, prior_metric=\"objective\", MAXDEPTH = 5, R_c0=0.354116)\n",
    "##### "
   ]
  },
  {
   "cell_type": "code",
   "execution_count": 13,
   "metadata": {
    "scrolled": false
   },
   "outputs": [
    {
     "name": "stdout",
     "output_type": "stream",
     "text": [
      "nrule: 6\n",
      "ndata: 6907\n",
      "gr: [0.00438766 0.0037798  0.0009402  0.01958141 0.0004441  0.03628272]\n",
      "order: [5, 3, 0, 1, 2, 4]\n",
      "odr: [5, 3, 0, 1, 2, 4]\n",
      "the order of x's columns:  [5, 3, 0, 1, 2, 4]\n",
      "COUNT: 100000\n",
      "COUNT: 200000\n",
      "COUNT: 300000\n",
      "COUNT: 400000\n",
      "COUNT: 500000\n",
      "COUNT: 600000\n",
      "COUNT: 700000\n",
      "COUNT: 800000\n",
      "COUNT: 900000\n",
      "COUNT: 1000000\n",
      "COUNT: 1100000\n",
      "COUNT: 1200000\n",
      "COUNT: 1300000\n",
      ">>> log: False\n",
      ">>> support bound: True\n",
      ">>> accurate support bound: True\n",
      ">>> equiv points bound: True\n",
      ">>> lookahead bound: True\n",
      "total time:  564.7146210670471\n",
      "lambda:  0.0035\n",
      "leaves:  [(1,), (-1, 4), (-6, -4, -1), (-5, -4, -1, 6), (-4, -1, 5, 6)]\n",
      "num_captured:  [2174, 667, 2856, 1054, 156]\n",
      "num_captured_incorrect:  [736, 283, 806, 456, 44]\n",
      "prediction:  [1, 1, 0, 0, 1]\n",
      "Objective:  0.3541150282322281\n",
      "COUNT of the best tree:  155108\n",
      "time when the best tree is achieved:  16.05860161781311\n",
      "TOTAL COUNT:  1309647\n"
     ]
    },
    {
     "data": {
      "text/plain": [
       "<corels_dt_nosimilar_multicopies.CacheTree at 0x7fd5bf4cc0f0>"
      ]
     },
     "execution_count": 13,
     "metadata": {},
     "output_type": "execute_result"
    }
   ],
   "source": [
    "### 10.24 00######################## \n",
    "# order x's columns according to gini_reduction\n",
    "# use the leaf with the minimum loss to find a pair of leaves as d0\n",
    "bbound_nosimilar_multicopies(x6, y, lamb=0.0035, prior_metric=\"objective\", MAXDEPTH = 5)\n",
    "##### "
   ]
  },
  {
   "cell_type": "code",
   "execution_count": 20,
   "metadata": {
    "scrolled": false
   },
   "outputs": [
    {
     "name": "stdout",
     "output_type": "stream",
     "text": [
      "nrule: 6\n",
      "ndata: 6907\n",
      "the order of x's columns:  [5, 3, 0, 1, 2, 4]\n",
      "COUNT: 100000\n",
      "COUNT: 200000\n",
      "COUNT: 300000\n",
      "COUNT: 400000\n",
      "COUNT: 500000\n",
      "COUNT: 600000\n",
      "COUNT: 700000\n",
      "COUNT: 800000\n",
      "COUNT: 900000\n",
      "COUNT: 1000000\n",
      ">>> log: False\n",
      ">>> support bound: True\n",
      ">>> accurate support bound: True\n",
      ">>> equiv points bound: True\n",
      ">>> lookahead bound: True\n",
      "total time:  454.55168414115906\n",
      "lambda:  0.0035\n",
      "leaves:  [(1,), (-1, 4), (-6, -4, -1), (-5, -4, -1, 6), (-4, -1, 5, 6)]\n",
      "num_captured:  [2174, 667, 2856, 1054, 156]\n",
      "num_captured_incorrect:  [736, 283, 806, 456, 44]\n",
      "prediction:  [1, 1, 0, 0, 1]\n",
      "Objective:  0.3541150282322281\n",
      "COUNT of the best tree:  155108\n",
      "time when the best tree is achieved:  16.187219858169556\n",
      "TOTAL COUNT:  1009994\n"
     ]
    },
    {
     "data": {
      "text/plain": [
       "<corels_dt_nosimilar_multicopies.CacheTree at 0x7fd15958aa90>"
      ]
     },
     "execution_count": 20,
     "metadata": {},
     "output_type": "execute_result"
    }
   ],
   "source": [
    "### 10.21 ######################## \n",
    "# order x's columns according to gini_reduction\n",
    "# use the leaf with the minimum loss to find a pair of leaves as d0\n",
    "bbound_nosimilar_multicopies(x6, y, lamb=0.0035, prior_metric=\"objective\", MAXDEPTH = 5)"
   ]
  },
  {
   "cell_type": "code",
   "execution_count": 21,
   "metadata": {
    "scrolled": false
   },
   "outputs": [
    {
     "name": "stdout",
     "output_type": "stream",
     "text": [
      "nrule: 6\n",
      "ndata: 6907\n",
      "gr: [0.00438766 0.0037798  0.0009402  0.01958141 0.0004441  0.03628272]\n",
      "order: [5, 3, 0, 1, 2, 4]\n",
      "odr: [5, 3, 0, 1, 2, 4]\n",
      "the order of x's columns:  [5, 3, 0, 1, 2, 4]\n",
      "COUNT: 100000\n",
      "COUNT: 200000\n",
      "COUNT: 300000\n",
      "COUNT: 400000\n",
      "COUNT: 500000\n",
      "COUNT: 600000\n",
      "COUNT: 700000\n",
      "COUNT: 800000\n",
      "COUNT: 900000\n",
      "COUNT: 1000000\n",
      ">>> log: False\n",
      ">>> support bound: True\n",
      ">>> accurate support bound: True\n",
      ">>> equiv points bound: True\n",
      ">>> lookahead bound: True\n",
      "total time:  2377.4346430301666\n",
      "lambda:  0.0035\n",
      "leaves:  [(1,), (-1, 4), (-6, -4, -1), (-5, -4, -1, 6), (-4, -1, 5, 6)]\n",
      "num_captured:  [2174, 667, 2856, 1054, 156]\n",
      "num_captured_incorrect:  [736, 283, 806, 456, 44]\n",
      "prediction:  [1, 1, 0, 0, 1]\n",
      "Objective:  0.3541150282322281\n",
      "COUNT of the best tree:  155108\n",
      "time when the best tree is achieved:  48.3769314289093\n",
      "TOTAL COUNT:  1009994\n",
      "         350433475 function calls (350433468 primitive calls) in 2377.776 seconds\n",
      "\n",
      "   Ordered by: standard name\n",
      "\n",
      "   ncalls  tottime  percall  cumtime  percall filename:lineno(function)\n",
      "        2    0.000    0.000    0.000    0.000 <frozen importlib._bootstrap>:997(_handle_fromlist)\n",
      "        1    0.253    0.253 2377.776 2377.776 <string>:1(<module>)\n",
      "        2    0.000    0.000    0.000    0.000 __init__.py:200(iteritems)\n",
      "        1    0.000    0.000    0.000    0.000 _bootlocale.py:23(getpreferredencoding)\n",
      "        1    0.000    0.000    0.000    0.000 _methods.py:25(_amax)\n",
      "        1    0.000    0.000    0.000    0.000 _methods.py:28(_amin)\n",
      "       36    0.000    0.000    0.001    0.000 _methods.py:31(_sum)\n",
      "        1    0.000    0.000    0.000    0.000 _methods.py:37(_any)\n",
      "        4    0.000    0.000    0.000    0.000 _weakrefset.py:70(__contains__)\n",
      "        2    0.000    0.000    0.000    0.000 abc.py:180(__instancecheck__)\n",
      "        1    0.000    0.000    0.001    0.001 arrayprint.py:1417(array_str)\n",
      "        1    0.000    0.000    0.000    0.000 arrayprint.py:314(_get_formatdict)\n",
      "        1    0.000    0.000    0.001    0.001 arrayprint.py:323(<lambda>)\n",
      "        1    0.000    0.000    0.001    0.001 arrayprint.py:367(_get_format_function)\n",
      "        1    0.000    0.000    0.001    0.001 arrayprint.py:419(wrapper)\n",
      "        1    0.000    0.000    0.001    0.001 arrayprint.py:436(_array2string)\n",
      "        1    0.000    0.000    0.001    0.001 arrayprint.py:465(array2string)\n",
      "        6    0.000    0.000    0.000    0.000 arrayprint.py:633(_extendLine)\n",
      "        1    0.000    0.000    0.000    0.000 arrayprint.py:647(_formatArray)\n",
      "      7/1    0.000    0.000    0.000    0.000 arrayprint.py:656(recurser)\n",
      "        1    0.000    0.000    0.000    0.000 arrayprint.py:67(_make_options_dict)\n",
      "        1    0.000    0.000    0.000    0.000 arrayprint.py:72(<dictcomp>)\n",
      "        1    0.000    0.000    0.000    0.000 arrayprint.py:765(_none_or_positive_arg)\n",
      "        1    0.000    0.000    0.001    0.001 arrayprint.py:774(__init__)\n",
      "        1    0.000    0.000    0.001    0.001 arrayprint.py:801(fillFormat)\n",
      "        7    0.000    0.000    0.000    0.000 arrayprint.py:851(<genexpr>)\n",
      "        7    0.000    0.000    0.000    0.000 arrayprint.py:856(<genexpr>)\n",
      "        7    0.000    0.000    0.000    0.000 arrayprint.py:860(<genexpr>)\n",
      "        7    0.000    0.000    0.000    0.000 arrayprint.py:861(<genexpr>)\n",
      "        6    0.000    0.000    0.000    0.000 arrayprint.py:885(__call__)\n",
      "        2    0.000    0.000    0.000    0.000 base.py:4155(_ensure_index)\n",
      "        2    0.000    0.000    0.000    0.000 base.py:551(_reset_identity)\n",
      "        1    0.000    0.000    0.002    0.002 cast.py:39(maybe_convert_platform)\n",
      "        1    0.000    0.000    0.000    0.000 codecs.py:185(__init__)\n",
      "        1    0.000    0.000    0.000    0.000 common.py:1773(_get_dtype_type)\n",
      "        2    0.000    0.000    0.000    0.000 common.py:207(_default_index)\n",
      "        1    0.000    0.000    0.000    0.000 common.py:223(is_datetimetz)\n",
      "        2    0.000    0.000    0.000    0.000 common.py:238(_all_none)\n",
      "        1    0.000    0.000    0.000    0.000 common.py:334(is_datetime64tz_dtype)\n",
      "        2    0.000    0.000    0.000    0.000 common.py:478(is_categorical_dtype)\n",
      "        2    0.000    0.000    0.000    0.000 common.py:85(is_object_dtype)\n",
      "  4817946   12.437    0.000   12.437    0.000 corels_dt_nosimilar_multicopies.py:128(__lt__)\n",
      "      574    0.022    0.000    7.969    0.014 corels_dt_nosimilar_multicopies.py:138(__init__)\n",
      "  2504866   30.891    0.000   56.567    0.000 corels_dt_nosimilar_multicopies.py:19(__init__)\n",
      "  2504866   13.084    0.000   13.084    0.000 corels_dt_nosimilar_multicopies.py:21(<listcomp>)\n",
      "  2504865  220.040    0.000  385.690    0.000 corels_dt_nosimilar_multicopies.py:210(generate_new_splitleaf)\n",
      "  2504865   11.538    0.000   11.538    0.000 corels_dt_nosimilar_multicopies.py:215(<listcomp>)\n",
      "  2504865   11.080    0.000   11.080    0.000 corels_dt_nosimilar_multicopies.py:218(<listcomp>)\n",
      "  2504865   13.286    0.000   13.286    0.000 corels_dt_nosimilar_multicopies.py:251(<listcomp>)\n",
      "        1    0.000    0.000    0.003    0.003 corels_dt_nosimilar_multicopies.py:351(gini_reduction)\n",
      "        1    0.000    0.000    0.000    0.000 corels_dt_nosimilar_multicopies.py:387(<listcomp>)\n",
      "        1  752.880  752.880 2377.523 2377.523 corels_dt_nosimilar_multicopies.py:399(bbound_nosimilar_multicopies)\n",
      "        1    0.000    0.000    0.047    0.047 corels_dt_nosimilar_multicopies.py:416(<listcomp>)\n",
      "  1009995    3.475    0.000    3.475    0.000 corels_dt_nosimilar_multicopies.py:493(<listcomp>)\n",
      "  1009995   11.882    0.000   11.882    0.000 corels_dt_nosimilar_multicopies.py:502(<listcomp>)\n",
      " 38422351   85.633    0.000   85.633    0.000 corels_dt_nosimilar_multicopies.py:570(<genexpr>)\n",
      "  2504865  197.420    0.000  393.629    0.000 corels_dt_nosimilar_multicopies.py:605(<listcomp>)\n",
      " 15249058  107.779    0.000  107.779    0.000 corels_dt_nosimilar_multicopies.py:606(<listcomp>)\n",
      "  2504865    7.759    0.000    7.759    0.000 corels_dt_nosimilar_multicopies.py:613(<listcomp>)\n",
      "   267934    4.823    0.000    8.918    0.000 corels_dt_nosimilar_multicopies.py:619(<listcomp>)\n",
      "  2236931   61.305    0.000  115.240    0.000 corels_dt_nosimilar_multicopies.py:627(<listcomp>)\n",
      "        1    0.000    0.000    0.000    0.000 corels_dt_nosimilar_multicopies.py:664(<listcomp>)\n",
      "        1    0.000    0.000    0.000    0.000 corels_dt_nosimilar_multicopies.py:665(<listcomp>)\n",
      "        1    0.000    0.000    0.000    0.000 corels_dt_nosimilar_multicopies.py:666(<listcomp>)\n",
      "        1    0.000    0.000    0.000    0.000 corels_dt_nosimilar_multicopies.py:669(<listcomp>)\n",
      "  1009995   17.811    0.000   28.194    0.000 corels_dt_nosimilar_multicopies.py:77(__init__)\n",
      "  1009995    5.711    0.000    5.711    0.000 corels_dt_nosimilar_multicopies.py:86(<listcomp>)\n",
      "        1    0.000    0.000    0.000    0.000 dtypes.py:372(__new__)\n",
      "        1    0.000    0.000    0.000    0.000 dtypes.py:430(construct_from_string)\n",
      "        1    0.000    0.000    0.000    0.000 dtypes.py:85(is_dtype)\n",
      "        1    0.000    0.000    0.003    0.003 frame.py:316(__init__)\n",
      "        1    0.000    0.000    0.003    0.003 frame.py:463(_init_ndarray)\n",
      "        1    0.000    0.000    0.000    0.000 frame.py:480(_get_axes)\n",
      "        1    0.000    0.000    0.002    0.002 frame.py:6228(_prep_ndarray)\n",
      "        1    0.000    0.000    0.002    0.002 frame.py:6233(convert)\n",
      "        1    0.000    0.000    0.000    0.000 fromnumeric.py:2222(amax)\n",
      "        1    0.000    0.000    0.000    0.000 fromnumeric.py:2323(amin)\n",
      "        1    0.000    0.000    0.000    0.000 generic.py:120(__init__)\n",
      "        1    0.000    0.000    0.000    0.000 generic.py:3616(__setattr__)\n",
      "        1    0.000    0.000    0.000    0.000 generic.py:3661(_protect_consolidate)\n",
      "        1    0.000    0.000    0.000    0.000 generic.py:3671(_consolidate_inplace)\n",
      "        1    0.000    0.000    0.000    0.000 generic.py:3674(f)\n",
      "        1    0.000    0.000    0.000    0.000 generic.py:3753(as_matrix)\n",
      "        1    0.000    0.000    0.000    0.000 generic.py:7(_check)\n",
      "        2    0.000    0.000    0.000    0.000 inference.py:234(is_list_like)\n",
      "        1    0.000    0.000    0.000    0.000 internals.py:107(__init__)\n",
      "        1    0.000    0.000    0.000    0.000 internals.py:169(get_values)\n",
      "        5    0.000    0.000    0.000    0.000 internals.py:189(mgr_locs)\n",
      "        1    0.000    0.000    0.000    0.000 internals.py:226(mgr_locs)\n",
      "        1    0.000    0.000    0.000    0.000 internals.py:2921(make_block)\n",
      "        1    0.000    0.000    0.000    0.000 internals.py:299(shape)\n",
      "        1    0.000    0.000    0.001    0.001 internals.py:3017(__init__)\n",
      "        1    0.000    0.000    0.000    0.000 internals.py:3018(<listcomp>)\n",
      "        3    0.000    0.000    0.000    0.000 internals.py:3058(shape)\n",
      "        9    0.000    0.000    0.000    0.000 internals.py:3060(<genexpr>)\n",
      "        2    0.000    0.000    0.000    0.000 internals.py:3062(ndim)\n",
      "        1    0.000    0.000    0.000    0.000 internals.py:307(dtype)\n",
      "        1    0.000    0.000    0.000    0.000 internals.py:3102(_is_single_block)\n",
      "        1    0.000    0.000    0.000    0.000 internals.py:311(ftype)\n",
      "        1    0.000    0.000    0.000    0.000 internals.py:3114(_rebuild_blknos_and_blklocs)\n",
      "        2    0.000    0.000    0.000    0.000 internals.py:3135(_get_items)\n",
      "        1    0.000    0.000    0.000    0.000 internals.py:3224(__len__)\n",
      "        1    0.000    0.000    0.000    0.000 internals.py:3239(_verify_integrity)\n",
      "        2    0.000    0.000    0.000    0.000 internals.py:3241(<genexpr>)\n",
      "        2    0.000    0.000    0.000    0.000 internals.py:3524(is_consolidated)\n",
      "        1    0.000    0.000    0.000    0.000 internals.py:3532(_consolidate_check)\n",
      "        1    0.000    0.000    0.000    0.000 internals.py:3533(<listcomp>)\n",
      "        1    0.000    0.000    0.000    0.000 internals.py:3666(as_matrix)\n",
      "        1    0.000    0.000    0.000    0.000 internals.py:3813(consolidate)\n",
      "        1    0.000    0.000    0.000    0.000 internals.py:3829(_consolidate_inplace)\n",
      "        1    0.000    0.000    0.001    0.001 internals.py:4611(create_block_manager_from_blocks)\n",
      "      136    0.002    0.000    0.009    0.000 iostream.py:195(schedule)\n",
      "      124    0.001    0.000    0.001    0.000 iostream.py:300(_is_master_process)\n",
      "      124    0.000    0.000    0.001    0.000 iostream.py:313(_schedule_flush)\n",
      "      124    0.002    0.000    0.013    0.000 iostream.py:366(write)\n",
      "      136    0.000    0.000    0.000    0.000 iostream.py:93(_event_pipe)\n",
      "        2    0.000    0.000    0.000    0.000 numeric.py:2460(seterr)\n",
      "        2    0.000    0.000    0.000    0.000 numeric.py:2560(geterr)\n",
      "        1    0.000    0.000    0.000    0.000 numeric.py:2853(__init__)\n",
      "        1    0.000    0.000    0.000    0.000 numeric.py:2857(__enter__)\n",
      "        1    0.000    0.000    0.000    0.000 numeric.py:2862(__exit__)\n",
      "        1    0.000    0.000    0.000    0.000 numeric.py:424(asarray)\n",
      "        2    0.000    0.000    0.000    0.000 range.py:119(_simple_new)\n",
      "        2    0.000    0.000    0.000    0.000 range.py:146(_validate_dtype)\n",
      "        9    0.000    0.000    0.000    0.000 range.py:469(__len__)\n",
      "        2    0.000    0.000    0.000    0.000 range.py:56(__new__)\n",
      "        4    0.000    0.000    0.000    0.000 range.py:72(_ensure_int)\n",
      "     1728    0.020    0.000    4.560    0.003 re.py:184(sub)\n",
      "     1728    0.008    0.000    0.008    0.000 re.py:286(_compile)\n",
      "     1728    7.248    0.004   11.944    0.007 rule.py:149(rule_vectompz)\n",
      "     1746    0.011    0.000    0.016    0.000 rule.py:175(rule_vand)\n",
      "        1    0.000    0.000    0.000    0.000 rule.py:305(count_ones)\n",
      "        2    0.000    0.000    0.000    0.000 rule.py:74(make_all_ones)\n",
      "      136    0.004    0.000    0.004    0.000 socket.py:333(send)\n",
      "      136    0.001    0.000    0.001    0.000 threading.py:1062(_wait_for_tstate_lock)\n",
      "      136    0.001    0.000    0.003    0.000 threading.py:1104(is_alive)\n",
      "      136    0.000    0.000    0.000    0.000 threading.py:506(is_set)\n",
      "        2    0.000    0.000    0.000    0.000 {built-in method __new__ of type object at 0x7f57e21f2780}\n",
      "  1009995   22.729    0.000   33.919    0.000 {built-in method _heapq.heappop}\n",
      "  1009995    4.795    0.000    6.042    0.000 {built-in method _heapq.heappush}\n",
      "        1    0.000    0.000    0.000    0.000 {built-in method _locale.nl_langinfo}\n",
      "        1    0.000    0.000    0.000    0.000 {built-in method _thread.get_ident}\n",
      " 15249058   32.502    0.000   32.502    0.000 {built-in method builtins.all}\n",
      "        1    0.000    0.000 2377.776 2377.776 {built-in method builtins.exec}\n",
      "        3    0.000    0.000    0.000    0.000 {built-in method builtins.getattr}\n",
      "        5    0.000    0.000    0.000    0.000 {built-in method builtins.hasattr}\n",
      "        1    0.000    0.000    0.000    0.000 {built-in method builtins.id}\n",
      "      155    0.000    0.000    0.000    0.000 {built-in method builtins.isinstance}\n",
      "       10    0.000    0.000    0.000    0.000 {built-in method builtins.issubclass}\n",
      "        2    0.000    0.000    0.000    0.000 {built-in method builtins.iter}\n",
      "50381583/50381582   90.248    0.000   90.248    0.000 {built-in method builtins.len}\n",
      "        1    0.000    0.000    0.000    0.000 {built-in method builtins.locals}\n",
      "       12    0.000    0.000    0.000    0.000 {built-in method builtins.max}\n",
      "        8    0.000    0.000    0.000    0.000 {built-in method builtins.pow}\n",
      "       31    0.001    0.000    0.015    0.000 {built-in method builtins.print}\n",
      " 81025415  340.496    0.000  426.128    0.000 {built-in method builtins.sorted}\n",
      " 10473971   50.667    0.000   50.667    0.000 {built-in method builtins.sum}\n",
      "     1736    0.136    0.000    0.136    0.000 {built-in method gmpy2.mpz}\n",
      "     1747    0.004    0.000    0.004    0.000 {built-in method gmpy2.popcount}\n",
      "        1    0.000    0.000    0.000    0.000 {built-in method io.open}\n",
      "        1    0.000    0.000    0.000    0.000 {built-in method numpy.core.multiarray.arange}\n",
      "  6959720   46.192    0.000   46.192    0.000 {built-in method numpy.core.multiarray.array}\n",
      "       12    0.000    0.000    0.000    0.000 {built-in method numpy.core.multiarray.dragon4_positional}\n",
      "        2    0.000    0.000    0.000    0.000 {built-in method numpy.core.multiarray.empty}\n",
      "        4    0.000    0.000    0.000    0.000 {built-in method numpy.core.umath.geterrobj}\n",
      "        2    0.000    0.000    0.000    0.000 {built-in method numpy.core.umath.seterrobj}\n",
      "        2    0.000    0.000    0.000    0.000 {built-in method pandas._libs.lib.is_integer}\n",
      "        4    0.000    0.000    0.000    0.000 {built-in method pandas._libs.lib.isscalar}\n",
      "        1    0.000    0.000    0.000    0.000 {built-in method pandas._libs.lib.list_to_object_array}\n",
      "      124    0.000    0.000    0.000    0.000 {built-in method posix.getpid}\n",
      "        7    0.000    0.000    0.000    0.000 {built-in method time.time}\n",
      "      136    0.000    0.000    0.000    0.000 {method 'acquire' of '_thread.lock' objects}\n",
      "        1    0.000    0.000    0.000    0.000 {method 'add' of 'set' objects}\n",
      "        1    0.000    0.000    0.000    0.000 {method 'any' of 'numpy.ndarray' objects}\n",
      "      136    0.000    0.000    0.000    0.000 {method 'append' of 'collections.deque' objects}\n",
      " 64324138  118.257    0.000  118.257    0.000 {method 'append' of 'list' objects}\n",
      "  2504866   18.849    0.000   18.849    0.000 {method 'argsort' of 'numpy.ndarray' objects}\n",
      "        1    0.000    0.000    0.000    0.000 {method 'copy' of 'dict' objects}\n",
      " 29901272   63.502    0.000   63.502    0.000 {method 'copy' of 'list' objects}\n",
      "        1    0.000    0.000    0.000    0.000 {method 'disable' of '_lsprof.Profiler' objects}\n",
      "        1    0.000    0.000    0.000    0.000 {method 'discard' of 'set' objects}\n"
     ]
    },
    {
     "name": "stdout",
     "output_type": "stream",
     "text": [
      "        2    0.000    0.000    0.000    0.000 {method 'fill' of 'numpy.ndarray' objects}\n",
      "        1    0.000    0.000    0.000    0.000 {method 'get' of 'dict' objects}\n",
      "  2504865    8.450    0.000    8.450    0.000 {method 'index' of 'list' objects}\n",
      "        3    0.000    0.000    0.000    0.000 {method 'items' of 'dict' objects}\n",
      "        3    0.000    0.000    0.000    0.000 {method 'join' of 'str' objects}\n",
      "        2    0.000    0.000    0.000    0.000 {method 'pop' of 'dict' objects}\n",
      "       39    0.001    0.000    0.001    0.000 {method 'reduce' of 'numpy.ufunc' objects}\n",
      "      575    0.003    0.000    0.003    0.000 {method 'reshape' of 'numpy.ndarray' objects}\n",
      "        1    0.000    0.000    0.000    0.000 {method 'rstrip' of 'str' objects}\n",
      "        1    0.000    0.000    0.000    0.000 {method 'search' of '_sre.SRE_Pattern' objects}\n",
      "        6    0.000    0.000    0.000    0.000 {method 'split' of 'str' objects}\n",
      "     1728    4.532    0.003    4.532    0.003 {method 'sub' of '_sre.SRE_Pattern' objects}\n",
      "       36    0.000    0.000    0.001    0.000 {method 'sum' of 'numpy.ndarray' objects}\n",
      "        1    0.000    0.000    0.000    0.000 {method 'update' of 'dict' objects}\n",
      "        2    0.000    0.000    0.000    0.000 {method 'write' of '_io.TextIOWrapper' objects}\n",
      "        1    0.001    0.001    0.001    0.001 {pandas._libs.lib.maybe_convert_objects}\n",
      "\n",
      "\n"
     ]
    }
   ],
   "source": [
    "### 10.21 ######################## \n",
    "# order x's columns according to gini_reduction\n",
    "# use the leaf with the minimum loss to find a pair of leaves as d0\n",
    "cProfile.run(\"bbound_nosimilar_multicopies(x6, y, lamb=0.0035, prior_metric=\\\"objective\\\", MAXDEPTH = 5)\")"
   ]
  },
  {
   "cell_type": "code",
   "execution_count": 19,
   "metadata": {},
   "outputs": [
    {
     "name": "stdout",
     "output_type": "stream",
     "text": [
      "nrule: 6\n",
      "ndata: 6907\n",
      "gr: [0.00438766 0.0037798  0.0009402  0.01958141 0.0004441  0.03628272]\n",
      "order: [5, 3, 0, 1, 2, 4]\n",
      "odr: [5, 3, 0, 1, 2, 4]\n",
      "the order of x's columns:  [5, 3, 0, 1, 2, 4]\n",
      "COUNT: 100000\n",
      "COUNT: 200000\n",
      "COUNT: 300000\n",
      "COUNT: 400000\n",
      "COUNT: 500000\n",
      "COUNT: 600000\n",
      "COUNT: 700000\n",
      "COUNT: 800000\n",
      "COUNT: 900000\n",
      "COUNT: 1000000\n",
      "COUNT: 1100000\n",
      "COUNT: 1200000\n",
      "COUNT: 1300000\n",
      "COUNT: 1400000\n",
      "COUNT: 1500000\n",
      "COUNT: 1600000\n",
      "COUNT: 1700000\n",
      "COUNT: 1800000\n",
      "COUNT: 1900000\n",
      "COUNT: 2000000\n",
      "COUNT: 2100000\n",
      "COUNT: 2200000\n",
      "COUNT: 2300000\n",
      "COUNT: 2400000\n",
      "COUNT: 2500000\n",
      "COUNT: 2600000\n",
      "COUNT: 2700000\n",
      "COUNT: 2800000\n",
      "COUNT: 2900000\n",
      "COUNT: 3000000\n",
      "COUNT: 3100000\n",
      "COUNT: 3200000\n",
      "COUNT: 3300000\n",
      "COUNT: 3400000\n",
      "COUNT: 3500000\n",
      "COUNT: 3600000\n",
      ">>> log: False\n",
      ">>> support bound: True\n",
      ">>> accurate support bound: True\n",
      ">>> equiv points bound: True\n",
      ">>> lookahead bound: True\n",
      "total time:  1550.8244142532349\n",
      "lambda:  0.0035\n",
      "leaves:  [(1,), (-1, 4), (-6, -4, -1), (-5, -4, -1, 6), (-4, -1, 5, 6)]\n",
      "num_captured:  [2174, 667, 2856, 1054, 156]\n",
      "num_captured_incorrect:  [736, 283, 806, 456, 44]\n",
      "prediction:  [1, 1, 0, 0, 1]\n",
      "Objective:  0.3541150282322281\n",
      "COUNT of the best tree:  118063\n",
      "time when the best tree is achieved:  16.360740661621094\n",
      "TOTAL COUNT:  3648455\n"
     ]
    },
    {
     "data": {
      "text/plain": [
       "<corels_dt_nosimilar_multicopies.CacheTree at 0x7fb88ce40da0>"
      ]
     },
     "execution_count": 19,
     "metadata": {},
     "output_type": "execute_result"
    }
   ],
   "source": [
    "### 10.21 ######################## \n",
    "# order x's columns according to gini_reduction\n",
    "# use the leaf with the maximum loss to find a pair of leaves as d0\n",
    "bbound_nosimilar_multicopies(x6, y, lamb=0.0035, prior_metric=\"objective\", MAXDEPTH = 5)"
   ]
  },
  {
   "cell_type": "code",
   "execution_count": 13,
   "metadata": {},
   "outputs": [
    {
     "name": "stdout",
     "output_type": "stream",
     "text": [
      "nrule: 6\n",
      "ndata: 6907\n",
      "gr: [0.00438766 0.0037798  0.0009402  0.01958141 0.0004441  0.03628272]\n",
      "order: [5, 3, 0, 1, 2, 4]\n",
      "odr: [5, 3, 0, 1, 2, 4]\n",
      "the order of x's columns:  [5, 3, 0, 1, 2, 4]\n",
      "COUNT: 100000\n",
      "COUNT: 200000\n",
      "COUNT: 300000\n",
      "COUNT: 400000\n",
      "COUNT: 500000\n",
      "COUNT: 600000\n",
      "COUNT: 700000\n",
      "COUNT: 800000\n",
      "COUNT: 900000\n",
      "COUNT: 1000000\n",
      "COUNT: 1100000\n",
      "COUNT: 1200000\n",
      "COUNT: 1300000\n",
      "COUNT: 1400000\n",
      "COUNT: 1500000\n",
      "COUNT: 1600000\n",
      "COUNT: 1700000\n",
      "COUNT: 1800000\n",
      "COUNT: 1900000\n",
      "COUNT: 2000000\n",
      "COUNT: 2100000\n",
      "COUNT: 2200000\n",
      "COUNT: 2300000\n",
      "COUNT: 2400000\n",
      "COUNT: 2500000\n",
      "COUNT: 2600000\n",
      "COUNT: 2700000\n",
      "COUNT: 2800000\n",
      "COUNT: 2900000\n",
      "COUNT: 3000000\n",
      "COUNT: 3100000\n",
      "COUNT: 3200000\n",
      "COUNT: 3300000\n",
      "COUNT: 3400000\n",
      "COUNT: 3500000\n",
      "COUNT: 3600000\n",
      "COUNT: 3700000\n",
      "COUNT: 3800000\n",
      "COUNT: 3900000\n",
      "COUNT: 4000000\n",
      ">>> log: False\n",
      ">>> support bound: True\n",
      ">>> accurate support bound: True\n",
      ">>> equiv points bound: True\n",
      ">>> lookahead bound: True\n",
      "total time:  1405.614069700241\n",
      "lambda:  0.0035\n",
      "leaves:  [(1,), (-1, 4), (-6, -4, -1), (-5, -4, -1, 6), (-4, -1, 5, 6)]\n",
      "num_captured:  [2174, 667, 2856, 1054, 156]\n",
      "num_captured_incorrect:  [736, 283, 806, 456, 44]\n",
      "prediction:  [1, 1, 0, 0, 1]\n",
      "Objective:  0.3541150282322281\n",
      "COUNT of the best tree:  145088\n",
      "time when the best tree is achieved:  16.43009090423584\n",
      "TOTAL COUNT:  4079366\n"
     ]
    },
    {
     "data": {
      "text/plain": [
       "<corels_dt_nosimilar_multicopies.CacheTree at 0x7fa7e9849780>"
      ]
     },
     "execution_count": 13,
     "metadata": {},
     "output_type": "execute_result"
    }
   ],
   "source": [
    "### 10.24 ######################## \n",
    "# order x's columns according to gini_reduction\n",
    "bbound_nosimilar_multicopies(x6, y, lamb=0.0035, prior_metric=\"objective\", MAXDEPTH = 5)"
   ]
  },
  {
   "cell_type": "code",
   "execution_count": 13,
   "metadata": {},
   "outputs": [
    {
     "name": "stdout",
     "output_type": "stream",
     "text": [
      "nrule: 6\n",
      "ndata: 6907\n",
      "gr: [0.00438766 0.0037798  0.0009402  0.01958141 0.0004441  0.03628272]\n",
      "order: [5, 3, 0, 1, 2, 4]\n",
      "odr: [5, 3, 0, 1, 2, 4]\n",
      "the order of x's columns:  [5, 3, 0, 1, 2, 4]\n",
      "COUNT: 100000\n",
      "COUNT: 200000\n",
      "COUNT: 300000\n",
      "COUNT: 400000\n",
      "COUNT: 500000\n",
      "COUNT: 600000\n",
      "COUNT: 700000\n",
      "COUNT: 800000\n",
      "COUNT: 900000\n",
      "COUNT: 1000000\n",
      "COUNT: 1100000\n",
      "COUNT: 1200000\n",
      "COUNT: 1300000\n",
      "COUNT: 1400000\n",
      "COUNT: 1500000\n",
      "COUNT: 1600000\n",
      "COUNT: 1700000\n",
      "COUNT: 1800000\n",
      "COUNT: 1900000\n",
      "COUNT: 2000000\n",
      "COUNT: 2100000\n",
      "COUNT: 2200000\n",
      "COUNT: 2300000\n",
      "COUNT: 2400000\n",
      "COUNT: 2500000\n",
      "COUNT: 2600000\n",
      "COUNT: 2700000\n",
      "COUNT: 2800000\n",
      "COUNT: 2900000\n",
      "COUNT: 3000000\n",
      "COUNT: 3100000\n",
      ">>> log: False\n",
      ">>> support bound: True\n",
      ">>> accurate support bound: True\n",
      ">>> equiv points bound: True\n",
      ">>> lookahead bound: True\n",
      "total time:  1129.414083480835\n",
      "lambda:  0.0035\n",
      "leaves:  [(1,), (-1, 4), (-6, -4, -1), (-5, -4, -1, 6), (-4, -1, 5, 6)]\n",
      "num_captured:  [2174, 667, 2856, 1054, 156]\n",
      "num_captured_incorrect:  [736, 283, 806, 456, 44]\n",
      "prediction:  [1, 1, 0, 0, 1]\n",
      "Objective:  0.3541150282322281\n",
      "COUNT of the best tree:  132285\n",
      "time when the best tree is achieved:  16.21432113647461\n",
      "TOTAL COUNT:  3162248\n"
     ]
    },
    {
     "data": {
      "text/plain": [
       "<corels_dt_nosimilar_multicopies.CacheTree at 0x7fce667d0e10>"
      ]
     },
     "execution_count": 13,
     "metadata": {},
     "output_type": "execute_result"
    }
   ],
   "source": [
    "### 10.24 02 ######################## NO LENGTH BOUND\n",
    "# order x's columns according to gini_reduction\n",
    "bbound_nosimilar_multicopies(x6, y, lamb=0.0035, prior_metric=\"objective\", MAXDEPTH = 5)"
   ]
  },
  {
   "cell_type": "code",
   "execution_count": 22,
   "metadata": {
    "scrolled": false
   },
   "outputs": [
    {
     "name": "stdout",
     "output_type": "stream",
     "text": [
      "nrule: 6\n",
      "ndata: 6907\n",
      "gr: [0.00438766 0.0037798  0.0009402  0.01958141 0.0004441  0.03628272]\n",
      "order: [5, 3, 0, 1, 2, 4]\n",
      "odr: [5, 3, 0, 1, 2, 4]\n",
      "the order of x's columns:  [5, 3, 0, 1, 2, 4]\n",
      "COUNT: 100000\n",
      "COUNT: 200000\n",
      "COUNT: 300000\n",
      "COUNT: 400000\n",
      "COUNT: 500000\n",
      "COUNT: 600000\n",
      "COUNT: 700000\n",
      "COUNT: 800000\n",
      "COUNT: 900000\n",
      "COUNT: 1000000\n",
      "COUNT: 1100000\n",
      "COUNT: 1200000\n",
      "COUNT: 1300000\n",
      "COUNT: 1400000\n",
      "COUNT: 1500000\n",
      "COUNT: 1600000\n",
      "COUNT: 1700000\n",
      "COUNT: 1800000\n",
      "COUNT: 1900000\n",
      "COUNT: 2000000\n",
      "COUNT: 2100000\n",
      "COUNT: 2200000\n",
      "COUNT: 2300000\n",
      "COUNT: 2400000\n",
      "COUNT: 2500000\n",
      "COUNT: 2600000\n",
      "COUNT: 2700000\n",
      "COUNT: 2800000\n",
      "COUNT: 2900000\n",
      "COUNT: 3000000\n",
      "COUNT: 3100000\n",
      ">>> log: False\n",
      ">>> support bound: True\n",
      ">>> accurate support bound: True\n",
      ">>> equiv points bound: True\n",
      ">>> lookahead bound: True\n",
      "total time:  1123.9313788414001\n",
      "lambda:  0.0035\n",
      "leaves:  [(1,), (-1, 4), (-6, -4, -1), (-5, -4, -1, 6), (-4, -1, 5, 6)]\n",
      "num_captured:  [2174, 667, 2856, 1054, 156]\n",
      "num_captured_incorrect:  [736, 283, 806, 456, 44]\n",
      "prediction:  [1, 1, 0, 0, 1]\n",
      "Objective:  0.3541150282322281\n",
      "COUNT of the best tree:  132285\n",
      "time when the best tree is achieved:  15.665817260742188\n",
      "TOTAL COUNT:  3162248\n"
     ]
    },
    {
     "data": {
      "text/plain": [
       "<corels_dt_nosimilar_multicopies.CacheTree at 0x7fe95fd023c8>"
      ]
     },
     "execution_count": 22,
     "metadata": {},
     "output_type": "execute_result"
    }
   ],
   "source": [
    "### 10.21 ########################\n",
    "# order x's columns according to gini_reduction\n",
    "bbound_nosimilar_multicopies(x6, y, lamb=0.0035, prior_metric=\"objective\", MAXDEPTH = 5)"
   ]
  },
  {
   "cell_type": "code",
   "execution_count": 20,
   "metadata": {},
   "outputs": [
    {
     "name": "stdout",
     "output_type": "stream",
     "text": [
      "nrule: 6\n",
      "ndata: 6907\n",
      "the order of x's columns:  [5, 1, 4, 2, 3, 0]\n",
      "COUNT: 100000\n",
      "COUNT: 200000\n",
      "COUNT: 300000\n",
      "COUNT: 400000\n",
      "COUNT: 500000\n",
      "COUNT: 600000\n",
      "COUNT: 700000\n",
      "COUNT: 800000\n",
      "COUNT: 900000\n",
      "COUNT: 1000000\n",
      "COUNT: 1100000\n",
      "COUNT: 1200000\n",
      "COUNT: 1300000\n",
      "COUNT: 1400000\n",
      "COUNT: 1500000\n",
      "COUNT: 1600000\n",
      "COUNT: 1700000\n",
      "COUNT: 1800000\n",
      "COUNT: 1900000\n",
      "COUNT: 2000000\n",
      "COUNT: 2100000\n",
      "COUNT: 2200000\n",
      "COUNT: 2300000\n",
      "COUNT: 2400000\n",
      "COUNT: 2500000\n",
      "COUNT: 2600000\n",
      ">>> log: False\n",
      ">>> support bound: True\n",
      ">>> accurate support bound: True\n",
      ">>> equiv points bound: True\n",
      ">>> lookahead bound: True\n",
      "total time:  1004.6970403194427\n",
      "lambda:  0.0035\n",
      "leaves:  [(1,), (-1, 2), (-3, -2, -1), (-4, -2, -1, 3), (-2, -1, 3, 4)]\n",
      "num_captured:  [2174, 667, 2856, 1054, 156]\n",
      "num_captured_incorrect:  [736, 283, 806, 456, 44]\n",
      "prediction:  [1, 1, 0, 0, 1]\n",
      "Objective:  0.3541150282322281\n",
      "COUNT of the best tree:  81090\n",
      "time when the best tree is achieved:  14.418728828430176\n",
      "TOTAL COUNT:  2671375\n"
     ]
    },
    {
     "data": {
      "text/plain": [
       "<corels_dt_nosimilar_multicopies.CacheTree at 0x7f420a5a2208>"
      ]
     },
     "execution_count": 20,
     "metadata": {},
     "output_type": "execute_result"
    }
   ],
   "source": [
    "### 10.21 ########################\n",
    "# manually order of x's columns to be [5, 1, 4, 2, 3, 0]\n",
    "bbound_nosimilar_multicopies(x6, y, lamb=0.0035, prior_metric=\"objective\", MAXDEPTH = 5)"
   ]
  },
  {
   "cell_type": "code",
   "execution_count": 19,
   "metadata": {},
   "outputs": [
    {
     "name": "stdout",
     "output_type": "stream",
     "text": [
      "nrule: 6\n",
      "ndata: 6907\n",
      "the order of x's columns:  [5, 0, 4, 1, 2, 3]\n",
      "COUNT: 100000\n",
      "COUNT: 200000\n",
      "COUNT: 300000\n",
      "COUNT: 400000\n",
      "COUNT: 500000\n",
      "COUNT: 600000\n",
      "COUNT: 700000\n",
      "COUNT: 800000\n",
      "COUNT: 900000\n",
      "COUNT: 1000000\n",
      "COUNT: 1100000\n",
      "COUNT: 1200000\n",
      "COUNT: 1300000\n",
      "COUNT: 1400000\n",
      "COUNT: 1500000\n",
      ">>> log: False\n",
      ">>> support bound: True\n",
      ">>> accurate support bound: True\n",
      ">>> equiv points bound: True\n",
      ">>> lookahead bound: True\n",
      "total time:  569.9882953166962\n",
      "lambda:  0.0035\n",
      "leaves:  [(1,), (-1, 4), (-4, -3, -1), (-5, -4, -1, 3), (-4, -1, 3, 5)]\n",
      "num_captured:  [2174, 667, 2856, 1054, 156]\n",
      "num_captured_incorrect:  [736, 283, 806, 456, 44]\n",
      "prediction:  [1, 1, 0, 0, 1]\n",
      "Objective:  0.3541150282322281\n",
      "COUNT of the best tree:  100001\n",
      "time when the best tree is achieved:  13.84508228302002\n",
      "TOTAL COUNT:  1568859\n"
     ]
    },
    {
     "data": {
      "text/plain": [
       "<corels_dt_nosimilar_multicopies.CacheTree at 0x7f9c475c3898>"
      ]
     },
     "execution_count": 19,
     "metadata": {},
     "output_type": "execute_result"
    }
   ],
   "source": [
    "### 10.21 ########################\n",
    "# manually order of x's columns to be [5, 0, 4, 1, 2, 3]\n",
    "bbound_nosimilar_multicopies(x6, y, lamb=0.0035, prior_metric=\"objective\", MAXDEPTH = 5)"
   ]
  },
  {
   "cell_type": "code",
   "execution_count": 20,
   "metadata": {},
   "outputs": [
    {
     "name": "stdout",
     "output_type": "stream",
     "text": [
      "nrule: 6\n",
      "ndata: 6907\n",
      "the order of x's columns:  [5, 0, 4, 1, 2, 3]\n",
      "COUNT: 100000\n",
      "COUNT: 200000\n",
      "COUNT: 300000\n",
      "COUNT: 400000\n",
      "COUNT: 500000\n",
      "COUNT: 600000\n",
      "COUNT: 700000\n",
      "COUNT: 800000\n",
      "COUNT: 900000\n",
      ">>> log: False\n",
      ">>> support bound: True\n",
      ">>> accurate support bound: True\n",
      ">>> equiv points bound: True\n",
      ">>> lookahead bound: True\n",
      "total time:  435.8539180755615\n",
      "lambda:  0.0035\n",
      "leaves:  [(1,), (-1, 4), (-4, -3, -1), (-5, -4, -1, 3), (-4, -1, 3, 5)]\n",
      "num_captured:  [2174, 667, 2856, 1054, 156]\n",
      "num_captured_incorrect:  [736, 283, 806, 456, 44]\n",
      "prediction:  [1, 1, 0, 0, 1]\n",
      "Objective:  0.3541150282322281\n",
      "COUNT of the best tree:  140080\n",
      "time when the best tree is achieved:  14.081355333328247\n",
      "TOTAL COUNT:  982186\n"
     ]
    },
    {
     "data": {
      "text/plain": [
       "<corels_dt_nosimilar_multicopies.CacheTree at 0x7f39b57eec50>"
      ]
     },
     "execution_count": 20,
     "metadata": {},
     "output_type": "execute_result"
    }
   ],
   "source": [
    "### 10.21 ########################\n",
    "# manually order of x's columns to be [5, 0, 4, 1, 2, 3]\n",
    "# use the leaf with the minimum loss to find a pair of leaves as d0\n",
    "bbound_nosimilar_multicopies(x6, y, lamb=0.0035, prior_metric=\"objective\", MAXDEPTH = 5)"
   ]
  },
  {
   "cell_type": "code",
   "execution_count": 19,
   "metadata": {},
   "outputs": [
    {
     "name": "stdout",
     "output_type": "stream",
     "text": [
      "nrule: 6\n",
      "ndata: 6907\n",
      "the order of x's columns:  [5, 3, 0, 1, 2, 4]\n",
      "COUNT: 100000\n",
      "COUNT: 200000\n",
      "COUNT: 300000\n",
      "COUNT: 400000\n",
      "COUNT: 500000\n",
      "COUNT: 600000\n",
      "COUNT: 700000\n",
      "COUNT: 800000\n",
      "COUNT: 900000\n",
      ">>> log: False\n",
      ">>> support bound: True\n",
      ">>> accurate support bound: True\n",
      ">>> equiv points bound: True\n",
      ">>> lookahead bound: True\n",
      "total time:  634.5849313735962\n",
      "lambda:  0.0035\n",
      "leaves:  [(1,), (-1, 4), (-6, -4, -1), (-5, -4, -1, 6), (-4, -1, 5, 6)]\n",
      "num_captured:  [2174, 667, 2856, 1054, 156]\n",
      "num_captured_incorrect:  [736, 283, 806, 456, 44]\n",
      "prediction:  [1, 1, 0, 0, 1]\n",
      "Objective:  0.3541150282322281\n",
      "COUNT of the best tree:  594\n",
      "time when the best tree is achieved:  2.7782204151153564\n",
      "TOTAL COUNT:  962812\n"
     ]
    },
    {
     "data": {
      "text/plain": [
       "<corels_dt_nosimilar_multicopies.CacheTree at 0x7f0ad4888978>"
      ]
     },
     "execution_count": 19,
     "metadata": {},
     "output_type": "execute_result"
    }
   ],
   "source": [
    "### 10.21 ######################## \n",
    "# order x's columns according to gini_reduction\n",
    "# use the leaf with the minimum loss to find a pair of leaves as d0\n",
    "# reorder features according to gini reduction for every leaf\n",
    "bbound_nosimilar_multicopies(x6, y, lamb=0.0035, prior_metric=\"objective\", MAXDEPTH = 5)"
   ]
  },
  {
   "cell_type": "code",
   "execution_count": 19,
   "metadata": {},
   "outputs": [
    {
     "name": "stdout",
     "output_type": "stream",
     "text": [
      "nrule: 6\n",
      "ndata: 6907\n",
      "the order of x's columns:  [5, 3, 0, 1, 2, 4]\n",
      "COUNT: 100000\n",
      "COUNT: 200000\n",
      "COUNT: 300000\n",
      "COUNT: 400000\n",
      "COUNT: 500000\n",
      "COUNT: 600000\n",
      "COUNT: 700000\n",
      "COUNT: 800000\n",
      ">>> log: False\n",
      ">>> support bound: True\n",
      ">>> accurate support bound: True\n",
      ">>> equiv points bound: True\n",
      ">>> lookahead bound: True\n",
      "total time:  435.2715702056885\n",
      "lambda:  0.0035\n",
      "leaves:  [(1,), (-1, 4), (-6, -4, -1), (-5, -4, -1, 6), (-4, -1, 5, 6)]\n",
      "num_captured:  [2174, 667, 2856, 1054, 156]\n",
      "num_captured_incorrect:  [736, 283, 806, 456, 44]\n",
      "prediction:  [1, 1, 0, 0, 1]\n",
      "Objective:  0.3541150282322281\n",
      "COUNT of the best tree:  846\n",
      "time when the best tree is achieved:  3.1296544075012207\n",
      "TOTAL COUNT:  841856\n"
     ]
    },
    {
     "data": {
      "text/plain": [
       "<corels_dt_nosimilar_multicopies.CacheTree at 0x7ff7ae6d36d8>"
      ]
     },
     "execution_count": 19,
     "metadata": {},
     "output_type": "execute_result"
    }
   ],
   "source": [
    "### 10.21 ######################## \n",
    "# order x's columns according to gini_reduction\n",
    "# use the leaf with the minimum loss to find a pair of leaves as d0\n",
    "# reorder features according to gini reduction (only for leaves with 2 or less feature)\n",
    "bbound_nosimilar_multicopies(x6, y, lamb=0.0035, prior_metric=\"objective\", MAXDEPTH = 5)"
   ]
  },
  {
   "cell_type": "code",
   "execution_count": null,
   "metadata": {},
   "outputs": [],
   "source": []
  },
  {
   "cell_type": "code",
   "execution_count": null,
   "metadata": {},
   "outputs": [],
   "source": []
  },
  {
   "cell_type": "code",
   "execution_count": null,
   "metadata": {},
   "outputs": [],
   "source": []
  },
  {
   "cell_type": "code",
   "execution_count": null,
   "metadata": {},
   "outputs": [],
   "source": []
  },
  {
   "cell_type": "code",
   "execution_count": null,
   "metadata": {},
   "outputs": [],
   "source": []
  },
  {
   "cell_type": "code",
   "execution_count": null,
   "metadata": {},
   "outputs": [],
   "source": []
  },
  {
   "cell_type": "code",
   "execution_count": null,
   "metadata": {},
   "outputs": [],
   "source": []
  },
  {
   "cell_type": "code",
   "execution_count": null,
   "metadata": {},
   "outputs": [],
   "source": []
  },
  {
   "cell_type": "code",
   "execution_count": null,
   "metadata": {},
   "outputs": [],
   "source": []
  },
  {
   "cell_type": "code",
   "execution_count": null,
   "metadata": {},
   "outputs": [],
   "source": []
  },
  {
   "cell_type": "code",
   "execution_count": 19,
   "metadata": {
    "scrolled": false
   },
   "outputs": [
    {
     "name": "stdout",
     "output_type": "stream",
     "text": [
      "nrule: 6\n",
      "ndata: 6907\n",
      "the rank of x's columns:  [5, 0, 4, 1, 2, 3]\n",
      "COUNT: 100000\n",
      "COUNT: 200000\n",
      "COUNT: 300000\n",
      "COUNT: 400000\n",
      "COUNT: 500000\n",
      "COUNT: 600000\n",
      ">>> log: False\n",
      ">>> support bound: True\n",
      ">>> accurate support bound: True\n",
      ">>> equiv points bound: True\n",
      ">>> lookahead bound: True\n",
      "total time:  1386.4913501739502\n",
      "lambda:  0.0035\n",
      "leaves:  [(1,), (-1, 4), (-4, -3, -1), (-5, -4, -1, 3), (-4, -1, 3, 5)]\n",
      "prediction:  [1, 1, 0, 0, 1]\n",
      "Objective:  0.3541150282322281\n",
      "COUNT of the best tree:  51646\n",
      "time when the best tree is achieved:  27.090394973754883\n",
      "TOTAL COUNT:  657173\n",
      "         216507541 function calls (216507539 primitive calls) in 1386.867 seconds\n",
      "\n",
      "   Ordered by: standard name\n",
      "\n",
      "   ncalls  tottime  percall  cumtime  percall filename:lineno(function)\n",
      "        5    0.000    0.000    0.000    0.000 <frozen importlib._bootstrap>:997(_handle_fromlist)\n",
      "        1    0.177    0.177 1386.867 1386.867 <string>:1(<module>)\n",
      "        3    0.000    0.000    0.000    0.000 __init__.py:200(iteritems)\n",
      "        1    0.000    0.000    0.000    0.000 _bootlocale.py:23(getpreferredencoding)\n",
      "       36    0.000    0.000    0.001    0.000 _methods.py:31(_sum)\n",
      "        1    0.000    0.000    0.000    0.000 _methods.py:37(_any)\n",
      "        5    0.000    0.000    0.000    0.000 _weakrefset.py:70(__contains__)\n",
      "        3    0.000    0.000    0.000    0.000 abc.py:180(__instancecheck__)\n",
      "        1    0.000    0.000    0.000    0.000 algorithms.py:217(_get_data_algo)\n",
      "        1    0.000    0.000    0.000    0.000 algorithms.py:39(_ensure_data)\n",
      "        1    0.000    0.000    0.010    0.010 algorithms.py:680(rank)\n",
      "        3    0.000    0.000    0.000    0.000 base.py:4155(_ensure_index)\n",
      "        3    0.000    0.000    0.000    0.000 base.py:551(_reset_identity)\n",
      "        1    0.000    0.000    0.000    0.000 base.py:707(ndim)\n",
      "        1    0.000    0.000    0.000    0.000 base.py:799(tolist)\n",
      "        1    0.000    0.000    0.000    0.000 base.py:817(__iter__)\n",
      "        2    0.000    0.000    0.002    0.001 cast.py:39(maybe_convert_platform)\n",
      "        1    0.000    0.000    0.000    0.000 cast.py:826(maybe_castable)\n",
      "        1    0.000    0.000    0.000    0.000 cast.py:935(maybe_cast_to_datetime)\n",
      "        1    0.000    0.000    0.000    0.000 codecs.py:185(__init__)\n",
      "        1    0.000    0.000    0.000    0.000 common.py:1493(is_float_dtype)\n",
      "        2    0.000    0.000    0.000    0.000 common.py:1545(is_bool_dtype)\n",
      "        7    0.000    0.000    0.000    0.000 common.py:1773(_get_dtype_type)\n",
      "        3    0.000    0.000    0.000    0.000 common.py:207(_default_index)\n",
      "        2    0.000    0.000    0.000    0.000 common.py:223(is_datetimetz)\n",
      "        3    0.000    0.000    0.000    0.000 common.py:238(_all_none)\n",
      "        1    0.000    0.000    0.000    0.000 common.py:297(is_datetime64_dtype)\n",
      "        3    0.000    0.000    0.000    0.000 common.py:334(is_datetime64tz_dtype)\n",
      "        1    0.000    0.000    0.000    0.000 common.py:372(is_timedelta64_dtype)\n",
      "        3    0.000    0.000    0.000    0.000 common.py:478(is_categorical_dtype)\n",
      "        1    0.000    0.000    0.000    0.000 common.py:612(is_datetimelike)\n",
      "        2    0.000    0.000    0.000    0.000 common.py:824(is_signed_integer_dtype)\n",
      "        3    0.000    0.000    0.000    0.000 common.py:85(is_object_dtype)\n",
      "        2    0.000    0.000    0.000    0.000 common.py:873(is_unsigned_integer_dtype)\n",
      "  3055446    7.996    0.000    7.996    0.000 corels_dt_nosimilar_multicopies.py:127(__lt__)\n",
      "      588    0.021    0.000    8.154    0.014 corels_dt_nosimilar_multicopies.py:137(__init__)\n",
      "  1837190   22.000    0.000   39.673    0.000 corels_dt_nosimilar_multicopies.py:18(__init__)\n",
      "  1837190    8.691    0.000    8.691    0.000 corels_dt_nosimilar_multicopies.py:20(<listcomp>)\n",
      "  1837189   83.813    0.000  145.569    0.000 corels_dt_nosimilar_multicopies.py:209(generate_new_splitleaf)\n",
      "  1837189    7.866    0.000    7.866    0.000 corels_dt_nosimilar_multicopies.py:214(<listcomp>)\n",
      "  1837189    8.163    0.000    8.163    0.000 corels_dt_nosimilar_multicopies.py:241(<listcomp>)\n",
      "        1    0.004    0.004    0.175    0.175 corels_dt_nosimilar_multicopies.py:311(gini_reduction)\n",
      "        6    0.000    0.000    0.000    0.000 corels_dt_nosimilar_multicopies.py:335(<lambda>)\n",
      "        1  429.888  429.888 1386.690 1386.690 corels_dt_nosimilar_multicopies.py:341(bbound_nosimilar_multicopies)\n",
      "   657174    2.169    0.000    2.169    0.000 corels_dt_nosimilar_multicopies.py:432(<listcomp>)\n",
      "   657174    7.376    0.000    7.376    0.000 corels_dt_nosimilar_multicopies.py:440(<listcomp>)\n",
      " 27950053   62.106    0.000   62.106    0.000 corels_dt_nosimilar_multicopies.py:492(<genexpr>)\n",
      "  1837189  136.141    0.000  276.160    0.000 corels_dt_nosimilar_multicopies.py:531(<listcomp>)\n",
      " 11120885   76.072    0.000   76.072    0.000 corels_dt_nosimilar_multicopies.py:532(<listcomp>)\n",
      "   129816    0.376    0.000    0.376    0.000 corels_dt_nosimilar_multicopies.py:539(<listcomp>)\n",
      "  1707373    5.032    0.000    5.032    0.000 corels_dt_nosimilar_multicopies.py:551(<listcomp>)\n",
      "  1707373   42.916    0.000   80.856    0.000 corels_dt_nosimilar_multicopies.py:556(<listcomp>)\n",
      "        1    0.000    0.000    0.000    0.000 corels_dt_nosimilar_multicopies.py:593(<listcomp>)\n",
      "        1    0.000    0.000    0.000    0.000 corels_dt_nosimilar_multicopies.py:596(<listcomp>)\n",
      "   657174   12.268    0.000   18.935    0.000 corels_dt_nosimilar_multicopies.py:76(__init__)\n",
      "   657174    3.625    0.000    3.625    0.000 corels_dt_nosimilar_multicopies.py:85(<listcomp>)\n",
      "        1    0.000    0.000    0.000    0.000 dtypes.py:372(__new__)\n",
      "        1    0.000    0.000    0.000    0.000 dtypes.py:430(construct_from_string)\n",
      "        4    0.000    0.000    0.000    0.000 dtypes.py:85(is_dtype)\n",
      "        4    0.000    0.000    0.000    0.000 enum.py:265(__call__)\n",
      "        4    0.000    0.000    0.000    0.000 enum.py:515(__new__)\n",
      "        2    0.000    0.000    0.000    0.000 enum.py:801(__and__)\n",
      "        1    0.000    0.000    0.003    0.003 frame.py:316(__init__)\n",
      "        1    0.000    0.000    0.003    0.003 frame.py:463(_init_ndarray)\n",
      "        1    0.000    0.000    0.000    0.000 frame.py:480(_get_axes)\n",
      "        1    0.000    0.000    0.002    0.002 frame.py:6228(_prep_ndarray)\n",
      "        1    0.000    0.000    0.002    0.002 frame.py:6233(convert)\n",
      "        3    0.000    0.000    0.000    0.000 generic.py:120(__init__)\n",
      "        1    0.000    0.000    0.000    0.000 generic.py:279(_construct_axes_dict)\n",
      "        1    0.000    0.000    0.000    0.000 generic.py:281(<listcomp>)\n",
      "        1    0.000    0.000    0.000    0.000 generic.py:346(_get_axis_number)\n",
      "        1    0.000    0.000    0.000    0.000 generic.py:3583(__finalize__)\n",
      "        1    0.000    0.000    0.000    0.000 generic.py:359(_get_axis_name)\n",
      "        2    0.000    0.000    0.000    0.000 generic.py:3600(__getattr__)\n",
      "        3    0.000    0.000    0.000    0.000 generic.py:3616(__setattr__)\n",
      "        1    0.000    0.000    0.000    0.000 generic.py:3661(_protect_consolidate)\n",
      "        1    0.000    0.000    0.000    0.000 generic.py:3671(_consolidate_inplace)\n",
      "        1    0.000    0.000    0.000    0.000 generic.py:3674(f)\n",
      "        1    0.000    0.000    0.000    0.000 generic.py:372(_get_axis)\n",
      "        1    0.000    0.000    0.000    0.000 generic.py:3753(as_matrix)\n",
      "        1    0.000    0.000    0.010    0.010 generic.py:5595(rank)\n",
      "        1    0.000    0.000    0.010    0.010 generic.py:5633(ranker)\n",
      "        5    0.000    0.000    0.000    0.000 generic.py:7(_check)\n",
      "        3    0.000    0.000    0.000    0.000 inference.py:234(is_list_like)\n",
      "        3    0.000    0.000    0.000    0.000 internals.py:107(__init__)\n",
      "        1    0.000    0.000    0.000    0.000 internals.py:155(external_values)\n",
      "        1    0.000    0.000    0.000    0.000 internals.py:159(internal_values)\n",
      "        1    0.000    0.000    0.000    0.000 internals.py:169(get_values)\n",
      "        7    0.000    0.000    0.000    0.000 internals.py:189(mgr_locs)\n",
      "        3    0.000    0.000    0.000    0.000 internals.py:226(mgr_locs)\n",
      "        3    0.000    0.000    0.000    0.000 internals.py:2921(make_block)\n",
      "        1    0.000    0.000    0.000    0.000 internals.py:299(shape)\n",
      "        1    0.000    0.000    0.000    0.000 internals.py:3017(__init__)\n",
      "        1    0.000    0.000    0.000    0.000 internals.py:3018(<listcomp>)\n",
      "        3    0.000    0.000    0.000    0.000 internals.py:3058(shape)\n",
      "        9    0.000    0.000    0.000    0.000 internals.py:3060(<genexpr>)\n",
      "        2    0.000    0.000    0.000    0.000 internals.py:3062(ndim)\n",
      "        7    0.000    0.000    0.000    0.000 internals.py:307(dtype)\n",
      "        1    0.000    0.000    0.000    0.000 internals.py:3102(_is_single_block)\n",
      "        1    0.000    0.000    0.000    0.000 internals.py:311(ftype)\n",
      "        1    0.000    0.000    0.000    0.000 internals.py:3114(_rebuild_blknos_and_blklocs)\n",
      "        3    0.000    0.000    0.000    0.000 internals.py:3135(_get_items)\n",
      "        2    0.000    0.000    0.000    0.000 internals.py:3224(__len__)\n",
      "        1    0.000    0.000    0.000    0.000 internals.py:3239(_verify_integrity)\n",
      "        2    0.000    0.000    0.000    0.000 internals.py:3241(<genexpr>)\n",
      "        2    0.000    0.000    0.000    0.000 internals.py:3524(is_consolidated)\n",
      "        1    0.000    0.000    0.000    0.000 internals.py:3532(_consolidate_check)\n",
      "        1    0.000    0.000    0.000    0.000 internals.py:3533(<listcomp>)\n",
      "        1    0.000    0.000    0.000    0.000 internals.py:3666(as_matrix)\n",
      "        1    0.000    0.000    0.000    0.000 internals.py:3813(consolidate)\n",
      "        1    0.000    0.000    0.000    0.000 internals.py:3829(_consolidate_inplace)\n",
      "        2    0.000    0.000    0.000    0.000 internals.py:4363(__init__)\n",
      "        8    0.000    0.000    0.000    0.000 internals.py:4409(_block)\n",
      "        6    0.000    0.000    0.000    0.000 internals.py:4479(dtype)\n",
      "        1    0.000    0.000    0.000    0.000 internals.py:4503(external_values)\n",
      "        1    0.000    0.000    0.000    0.000 internals.py:4506(internal_values)\n",
      "        1    0.000    0.000    0.001    0.001 internals.py:4611(create_block_manager_from_blocks)\n",
      "       96    0.001    0.000    0.006    0.000 iostream.py:195(schedule)\n",
      "       88    0.000    0.000    0.001    0.000 iostream.py:300(_is_master_process)\n",
      "       88    0.000    0.000    0.001    0.000 iostream.py:313(_schedule_flush)\n",
      "       88    0.001    0.000    0.009    0.000 iostream.py:366(write)\n",
      "       96    0.000    0.000    0.000    0.000 iostream.py:93(_event_pipe)\n",
      "        1    0.000    0.000    0.000    0.000 numeric.py:424(asarray)\n",
      "        2    0.000    0.000    0.000    0.000 numeric.py:99(is_all_dates)\n",
      "        3    0.000    0.000    0.000    0.000 range.py:119(_simple_new)\n",
      "        3    0.000    0.000    0.000    0.000 range.py:146(_validate_dtype)\n",
      "       14    0.000    0.000    0.000    0.000 range.py:469(__len__)\n",
      "        3    0.000    0.000    0.000    0.000 range.py:56(__new__)\n",
      "        6    0.000    0.000    0.000    0.000 range.py:72(_ensure_int)\n",
      "     1763    0.017    0.000    4.639    0.003 re.py:184(sub)\n",
      "     1763    0.009    0.000    0.010    0.000 re.py:286(_compile)\n",
      "     1763    7.406    0.004   12.184    0.007 rule.py:148(rule_vectompz)\n",
      "     1763    0.013    0.000    0.017    0.000 rule.py:162(rule_vand)\n",
      "        1    0.000    0.000    0.000    0.000 rule.py:74(make_all_ones)\n",
      "        2    0.000    0.000    0.001    0.000 series.py:155(__init__)\n",
      "        1    0.000    0.000    0.000    0.000 series.py:284(_constructor)\n",
      "        2    0.000    0.000    0.000    0.000 series.py:300(_set_axis)\n",
      "        2    0.000    0.000    0.000    0.000 series.py:3136(_sanitize_array)\n",
      "        1    0.000    0.000    0.000    0.000 series.py:3153(_try_cast)\n",
      "        2    0.000    0.000    0.000    0.000 series.py:326(_set_subtyp)\n",
      "        3    0.000    0.000    0.000    0.000 series.py:336(name)\n",
      "        3    0.000    0.000    0.000    0.000 series.py:340(name)\n",
      "        6    0.000    0.000    0.000    0.000 series.py:347(dtype)\n",
      "        1    0.000    0.000    0.000    0.000 series.py:367(values)\n",
      "        1    0.000    0.000    0.000    0.000 series.py:400(_values)\n",
      "        1    0.000    0.000    0.000    0.000 series.py:483(__len__)\n",
      "       96    0.002    0.000    0.002    0.000 socket.py:333(send)\n",
      "        2    0.000    0.000    0.000    0.000 sre_compile.py:223(_compile_charset)\n",
      "        2    0.000    0.000    0.000    0.000 sre_compile.py:250(_optimize_charset)\n",
      "        2    0.000    0.000    0.000    0.000 sre_compile.py:376(_mk_bitmap)\n",
      "        2    0.000    0.000    0.000    0.000 sre_compile.py:378(<listcomp>)\n",
      "        1    0.000    0.000    0.000    0.000 sre_compile.py:414(_get_literal_prefix)\n",
      "        1    0.000    0.000    0.000    0.000 sre_compile.py:441(_get_charset_prefix)\n",
      "        1    0.000    0.000    0.000    0.000 sre_compile.py:482(_compile_info)\n",
      "        2    0.000    0.000    0.000    0.000 sre_compile.py:539(isstring)\n",
      "        1    0.000    0.000    0.000    0.000 sre_compile.py:542(_code)\n",
      "        1    0.000    0.000    0.001    0.001 sre_compile.py:557(compile)\n",
      "        1    0.000    0.000    0.000    0.000 sre_compile.py:64(_compile)\n",
      "        1    0.000    0.000    0.000    0.000 sre_parse.py:111(__init__)\n",
      "        1    0.000    0.000    0.000    0.000 sre_parse.py:171(append)\n",
      "        1    0.000    0.000    0.000    0.000 sre_parse.py:173(getwidth)\n",
      "        1    0.000    0.000    0.000    0.000 sre_parse.py:223(__init__)\n",
      "        8    0.000    0.000    0.000    0.000 sre_parse.py:232(__next)\n",
      "        7    0.000    0.000    0.000    0.000 sre_parse.py:248(match)\n",
      "        7    0.000    0.000    0.000    0.000 sre_parse.py:253(get)\n",
      "        2    0.000    0.000    0.000    0.000 sre_parse.py:285(tell)\n",
      "        3    0.000    0.000    0.000    0.000 sre_parse.py:294(_class_escape)\n",
      "        1    0.000    0.000    0.000    0.000 sre_parse.py:407(_parse_sub)\n",
      "        1    0.000    0.000    0.000    0.000 sre_parse.py:470(_parse)\n",
      "        1    0.000    0.000    0.000    0.000 sre_parse.py:76(__init__)\n",
      "        2    0.000    0.000    0.000    0.000 sre_parse.py:81(groups)\n",
      "        1    0.000    0.000    0.000    0.000 sre_parse.py:828(fix_flags)\n",
      "        1    0.000    0.000    0.000    0.000 sre_parse.py:844(parse)\n",
      "       96    0.000    0.000    0.001    0.000 threading.py:1062(_wait_for_tstate_lock)\n",
      "       96    0.001    0.000    0.002    0.000 threading.py:1104(is_alive)\n",
      "       96    0.000    0.000    0.000    0.000 threading.py:506(is_set)\n",
      "        3    0.000    0.000    0.000    0.000 {built-in method __new__ of type object at 0x7f9e149f0780}\n",
      "   657174   14.126    0.000   21.415    0.000 {built-in method _heapq.heappop}\n",
      "   657174    2.905    0.000    3.612    0.000 {built-in method _heapq.heappush}\n",
      "        1    0.000    0.000    0.000    0.000 {built-in method _locale.nl_langinfo}\n",
      "        1    0.000    0.000    0.000    0.000 {built-in method _sre.compile}\n",
      " 11120885   23.198    0.000   23.198    0.000 {built-in method builtins.all}\n",
      "        1    0.000    0.000 1386.867 1386.867 {built-in method builtins.exec}\n",
      "       12    0.000    0.000    0.000    0.000 {built-in method builtins.getattr}\n",
      "       12    0.000    0.000    0.000    0.000 {built-in method builtins.hasattr}\n",
      "      214    0.001    0.000    0.001    0.000 {built-in method builtins.isinstance}\n",
      "       17    0.000    0.000    0.000    0.000 {built-in method builtins.issubclass}\n",
      "        4    0.000    0.000    0.000    0.000 {built-in method builtins.iter}\n",
      "35619515/35619513   62.174    0.000   62.174    0.000 {built-in method builtins.len}\n",
      "       14    0.000    0.000    0.000    0.000 {built-in method builtins.max}\n",
      "        3    0.000    0.000    0.000    0.000 {built-in method builtins.min}\n",
      "        4    0.000    0.000    0.000    0.000 {built-in method builtins.ord}\n",
      "        1    0.000    0.000    0.000    0.000 {built-in method builtins.pow}\n",
      "       22    0.001    0.000    0.009    0.000 {built-in method builtins.print}\n",
      " 41939651  192.847    0.000  254.953    0.000 {built-in method builtins.sorted}\n",
      "  7207937   33.445    0.000   33.445    0.000 {built-in method builtins.sum}\n",
      "     1764    0.139    0.000    0.139    0.000 {built-in method gmpy2.mpz}\n",
      "     1763    0.004    0.000    0.004    0.000 {built-in method gmpy2.popcount}\n",
      "        1    0.000    0.000    0.000    0.000 {built-in method io.open}\n",
      "        1    0.000    0.000    0.000    0.000 {built-in method numpy.core.multiarray.arange}\n",
      "  2876994   17.287    0.000   17.287    0.000 {built-in method numpy.core.multiarray.array}\n",
      "        2    0.000    0.000    0.000    0.000 {built-in method numpy.core.multiarray.empty}\n",
      "        1    0.000    0.000    0.000    0.000 {built-in method pandas._libs.algos.ensure_float64}\n",
      "        4    0.000    0.000    0.000    0.000 {built-in method pandas._libs.lib.is_integer}\n",
      "        6    0.000    0.000    0.000    0.000 {built-in method pandas._libs.lib.isscalar}\n",
      "        2    0.000    0.000    0.000    0.000 {built-in method pandas._libs.lib.list_to_object_array}\n",
      "       88    0.000    0.000    0.000    0.000 {built-in method posix.getpid}\n",
      "       12    0.000    0.000    0.000    0.000 {built-in method time.time}\n",
      "       96    0.000    0.000    0.000    0.000 {method 'acquire' of '_thread.lock' objects}\n",
      "        1    0.000    0.000    0.000    0.000 {method 'any' of 'numpy.ndarray' objects}\n",
      "       96    0.000    0.000    0.000    0.000 {method 'append' of 'collections.deque' objects}\n",
      " 36706036   66.487    0.000   66.487    0.000 {method 'append' of 'list' objects}\n",
      " 16709570   34.564    0.000   34.564    0.000 {method 'copy' of 'list' objects}\n"
     ]
    },
    {
     "name": "stdout",
     "output_type": "stream",
     "text": [
      "        1    0.000    0.000    0.000    0.000 {method 'disable' of '_lsprof.Profiler' objects}\n",
      "        2    0.000    0.000    0.000    0.000 {method 'extend' of 'list' objects}\n",
      "        2    0.000    0.000    0.000    0.000 {method 'fill' of 'numpy.ndarray' objects}\n",
      "       10    0.000    0.000    0.000    0.000 {method 'find' of 'bytearray' objects}\n",
      "        9    0.000    0.000    0.000    0.000 {method 'get' of 'dict' objects}\n",
      "  3674378   10.905    0.000   10.905    0.000 {method 'index' of 'list' objects}\n",
      "        4    0.000    0.000    0.000    0.000 {method 'items' of 'dict' objects}\n",
      "        3    0.000    0.000    0.000    0.000 {method 'join' of 'str' objects}\n",
      "       37    0.000    0.000    0.000    0.000 {method 'reduce' of 'numpy.ufunc' objects}\n",
      "      589    0.003    0.000    0.003    0.000 {method 'reshape' of 'numpy.ndarray' objects}\n",
      "        1    0.000    0.000    0.000    0.000 {method 'search' of '_sre.SRE_Pattern' objects}\n",
      "     1763    4.613    0.003    4.613    0.003 {method 'sub' of '_sre.SRE_Pattern' objects}\n",
      "       36    0.000    0.000    0.001    0.000 {method 'sum' of 'numpy.ndarray' objects}\n",
      "        1    0.000    0.000    0.000    0.000 {method 'tolist' of 'numpy.ndarray' objects}\n",
      "        2    0.000    0.000    0.000    0.000 {method 'translate' of 'bytearray' objects}\n",
      "        1    0.000    0.000    0.000    0.000 {method 'update' of 'dict' objects}\n",
      "        2    0.000    0.000    0.000    0.000 {method 'write' of '_io.TextIOWrapper' objects}\n",
      "        1    0.009    0.009    0.009    0.009 {pandas._libs.algos.rank_1d_float64}\n",
      "        2    0.002    0.001    0.002    0.001 {pandas._libs.lib.maybe_convert_objects}\n",
      "\n",
      "\n"
     ]
    }
   ],
   "source": [
    "#version 10.17\n",
    "cProfile.run(\"bbound_nosimilar_multicopies(x6, y, lamb=0.0035, prior_metric=\\\"objective\\\", MAXDEPTH = 5)\")"
   ]
  },
  {
   "cell_type": "code",
   "execution_count": null,
   "metadata": {},
   "outputs": [],
   "source": []
  }
 ],
 "metadata": {
  "kernelspec": {
   "display_name": "Python 3",
   "language": "python",
   "name": "python3"
  },
  "language_info": {
   "codemirror_mode": {
    "name": "ipython",
    "version": 3
   },
   "file_extension": ".py",
   "mimetype": "text/x-python",
   "name": "python",
   "nbconvert_exporter": "python",
   "pygments_lexer": "ipython3",
   "version": "3.7.0"
  }
 },
 "nbformat": 4,
 "nbformat_minor": 2
}
