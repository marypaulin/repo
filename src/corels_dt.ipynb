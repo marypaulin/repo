{
 "cells": [
  {
   "cell_type": "code",
   "execution_count": 1,
   "metadata": {},
   "outputs": [],
   "source": [
    "%load_ext autoreload\n",
    "%autoreload 1"
   ]
  },
  {
   "cell_type": "code",
   "execution_count": 2,
   "metadata": {},
   "outputs": [],
   "source": [
    "import pandas as pd\n",
    "import numpy as np\n",
    "import heapq\n",
    "import math\n",
    "import time\n",
    "\n",
    "import gmpy2\n",
    "from gmpy2 import mpz\n",
    "import re\n",
    "\n",
    "from sklearn import tree\n",
    "\n",
    "import cProfile"
   ]
  },
  {
   "cell_type": "code",
   "execution_count": 3,
   "metadata": {},
   "outputs": [],
   "source": [
    "# Read in the dataset\n",
    "df = pd.DataFrame(pd.read_csv('../data/compas-binary.csv'))"
   ]
  },
  {
   "cell_type": "code",
   "execution_count": 4,
   "metadata": {},
   "outputs": [],
   "source": [
    "x_all = df.as_matrix()[:,:13]\n",
    "\n",
    "y = df.as_matrix()[:,13]"
   ]
  },
  {
   "cell_type": "code",
   "execution_count": 5,
   "metadata": {},
   "outputs": [],
   "source": [
    "# Association Rule Mining (Only one feature)\n",
    "\n",
    "#support\n",
    "#supp = [(x[:,i]*y).mean() for i in range(13)]\n",
    "#supp"
   ]
  },
  {
   "cell_type": "code",
   "execution_count": 6,
   "metadata": {},
   "outputs": [],
   "source": [
    "#confidence\n",
    "#conf1 = [sum(x_all[:,i]*y)/sum(x_all[:,i]) for i in range(13)]\n",
    "#conf1"
   ]
  },
  {
   "cell_type": "code",
   "execution_count": 7,
   "metadata": {},
   "outputs": [],
   "source": [
    "#confidence\n",
    "#conf0 = [sum((x_all[:,i]==0)*y)/sum((x_all[:,i]==0)) for i in range(13)]\n",
    "#conf0"
   ]
  },
  {
   "cell_type": "code",
   "execution_count": 8,
   "metadata": {},
   "outputs": [],
   "source": [
    "#x_idx = [conf1[i]>=0.5 or conf0[i]>=0.5 for i in range(len(conf1))]\n",
    "\n",
    "# Because Using both conf1 and conf0 would select out too many features, \n",
    "#which is hard for the algorithm to run out,\n",
    "# just use conf1 to select out a small fraction of feature.\n",
    "#x_idx = [conf1[i]>=0.5 for i in range(len(conf1))]\n",
    "#x_idx[0] = True # in the CORELS paper, gender is an important feature, so I add it manually\n",
    "#x_idx"
   ]
  },
  {
   "cell_type": "code",
   "execution_count": 9,
   "metadata": {},
   "outputs": [],
   "source": [
    "#select out these features\n",
    "#x = x_all[:,x_idx]"
   ]
  },
  {
   "cell_type": "code",
   "execution_count": 10,
   "metadata": {},
   "outputs": [
    {
     "data": {
      "text/plain": [
       "array([[0, 0, 0, 0, 0],\n",
       "       [0, 0, 0, 0, 0],\n",
       "       [0, 0, 1, 0, 1],\n",
       "       ...,\n",
       "       [0, 0, 0, 0, 0],\n",
       "       [1, 0, 0, 1, 0],\n",
       "       [1, 0, 1, 1, 0]])"
      ]
     },
     "execution_count": 10,
     "metadata": {},
     "output_type": "execute_result"
    }
   ],
   "source": [
    "#manaually select out 5 features, accoring to CORELS paper when lambda=0.01\n",
    "## sex:Female, age:18-20,age:21-22, juvenile-crimes:=0, priors:>3\n",
    "##x_idx = [0,1,2,8,12]\n",
    "\n",
    "# sex:Female, age:18-20,age:21-22, priors:2-3, priors:>3\n",
    "x_idx = [0,1,2,9,12]\n",
    "x = x_all[:,x_idx]\n",
    "x"
   ]
  },
  {
   "cell_type": "code",
   "execution_count": 11,
   "metadata": {},
   "outputs": [
    {
     "data": {
      "text/plain": [
       "array([[0, 0, 0, 1, 0, 0],\n",
       "       [0, 0, 0, 1, 0, 0],\n",
       "       [0, 0, 1, 0, 0, 1],\n",
       "       ...,\n",
       "       [0, 0, 0, 1, 0, 0],\n",
       "       [1, 0, 0, 1, 1, 0],\n",
       "       [1, 0, 1, 1, 1, 0]])"
      ]
     },
     "execution_count": 11,
     "metadata": {},
     "output_type": "execute_result"
    }
   ],
   "source": [
    "#manaually select out 6 features, accoring to CORELS paper when lambda=0.01\n",
    "# sex:Female, age:18-20,age:21-22, juvenile-crimes:=0, priors:2-3, priors:>3\n",
    "x_idx6 = [0,1,2,8,9,12]\n",
    "x6 = x_all[:,x_idx6]\n",
    "x6"
   ]
  },
  {
   "cell_type": "code",
   "execution_count": 12,
   "metadata": {},
   "outputs": [],
   "source": [
    "nrule = x.shape[1]\n",
    "ndata = len(y)"
   ]
  },
  {
   "cell_type": "code",
   "execution_count": 13,
   "metadata": {},
   "outputs": [],
   "source": [
    "clf = tree.DecisionTreeClassifier()\n",
    "clf = clf.fit(x, y)"
   ]
  },
  {
   "cell_type": "code",
   "execution_count": 14,
   "metadata": {},
   "outputs": [
    {
     "data": {
      "text/plain": [
       "0.3520089764007529"
      ]
     },
     "execution_count": 14,
     "metadata": {},
     "output_type": "execute_result"
    }
   ],
   "source": [
    "accu = clf.score(x,y)\n",
    "nleaves = (clf.tree_.node_count+1)/2\n",
    "R_c = 1-accu + 0.001*nleaves\n",
    "R_c"
   ]
  },
  {
   "cell_type": "code",
   "execution_count": 15,
   "metadata": {},
   "outputs": [
    {
     "name": "stdout",
     "output_type": "stream",
     "text": [
      "35\n"
     ]
    }
   ],
   "source": [
    "print(clf.tree_.node_count) #get the node count"
   ]
  },
  {
   "cell_type": "code",
   "execution_count": null,
   "metadata": {},
   "outputs": [],
   "source": []
  },
  {
   "cell_type": "code",
   "execution_count": null,
   "metadata": {},
   "outputs": [],
   "source": []
  },
  {
   "cell_type": "markdown",
   "metadata": {},
   "source": [
    "## With similar support bound"
   ]
  },
  {
   "cell_type": "markdown",
   "metadata": {},
   "source": [
    "### calculate similar support bound when the highly correlated features substitue each other"
   ]
  },
  {
   "cell_type": "markdown",
   "metadata": {},
   "source": [
    "### regular expression is used"
   ]
  },
  {
   "cell_type": "code",
   "execution_count": 16,
   "metadata": {},
   "outputs": [],
   "source": [
    "from corels_dt_nosimilar import bbound_nosimilar\n",
    "from corels_dt_similar import bbound_similar\n",
    "from corels_dt_similar_when_big import bbound_similar_when_big\n",
    "\n",
    "from corels_dt_similar_when_sub import bbound_similar_when_sub"
   ]
  },
  {
   "cell_type": "code",
   "execution_count": 19,
   "metadata": {},
   "outputs": [
    {
     "name": "stdout",
     "output_type": "stream",
     "text": [
      "nrule: 5\n",
      "ndata: 6907\n",
      "the rank of x's columns:  [4, 0, 1, 2, 3]\n",
      ">>> log: False\n",
      ">>> support bound: True\n",
      ">>> accurate support bound: True\n",
      ">>> equiv points bound: True\n",
      ">>> lookahead bound: True\n",
      "total time:  5.075555086135864\n",
      "lambda:  0.0035\n",
      "leaves:  [(3,), (-3, 1), (-5, -3, -1), (-4, -3, -1, 5), (-3, -1, 4, 5)]\n",
      "prediction:  [1, 1, 0, 0, 1]\n",
      "Objective:  0.3541150282322281\n",
      "COUNT of the best tree:  2927\n",
      "time when the best tree is achieved:  2.8839590549468994\n",
      "TOTAL COUNT:  12764\n"
     ]
    },
    {
     "data": {
      "text/plain": [
       "<corels_dt_nosimilar.CacheTree at 0x7f496b036b00>"
      ]
     },
     "execution_count": 19,
     "metadata": {},
     "output_type": "execute_result"
    }
   ],
   "source": [
    "bbound_nosimilar(x, y, lamb=0.0035, prior_metric=\"objective\", MAXDEPTH = 4)"
   ]
  },
  {
   "cell_type": "code",
   "execution_count": 20,
   "metadata": {
    "scrolled": false
   },
   "outputs": [
    {
     "name": "stdout",
     "output_type": "stream",
     "text": [
      "nrule: 5\n",
      "ndata: 6907\n",
      "the rank of x's columns:  [4, 0, 1, 2, 3]\n",
      ">>> log: False\n",
      ">>> support bound: True\n",
      ">>> accurate support bound: True\n",
      ">>> equiv points bound: True\n",
      ">>> lookahead bound: True\n",
      "total time:  12.5983304977417\n",
      "lambda:  0.0035\n",
      "leaves:  [(3,), (-3, 1), (-5, -3, -1), (-4, -3, -1, 5), (-3, -1, 4, 5)]\n",
      "prediction:  [1, 1, 0, 0, 1]\n",
      "Objective:  0.3541150282322281\n",
      "COUNT of the best tree:  2916\n",
      "time when the best tree is achieved:  3.1878578662872314\n",
      "TOTAL COUNT:  9157\n"
     ]
    },
    {
     "data": {
      "text/plain": [
       "<corels_dt_similar.CacheTree at 0x7f496b051ac8>"
      ]
     },
     "execution_count": 20,
     "metadata": {},
     "output_type": "execute_result"
    }
   ],
   "source": [
    "## with incremental\n",
    "bbound_similar(x, y, lamb=0.0035, prior_metric=\"objective\", MAXDEPTH = 4)"
   ]
  },
  {
   "cell_type": "code",
   "execution_count": 21,
   "metadata": {},
   "outputs": [
    {
     "name": "stdout",
     "output_type": "stream",
     "text": [
      "nrule: 5\n",
      "ndata: 6907\n",
      "the rank of x's columns:  [4, 0, 1, 2, 3]\n",
      ">>> log: False\n",
      ">>> support bound: True\n",
      ">>> accurate support bound: True\n",
      ">>> equiv points bound: True\n",
      ">>> lookahead bound: True\n",
      "total time:  10.082534074783325\n",
      "lambda:  0.0035\n",
      "leaves:  [(3,), (-3, 1), (-5, -3, -1), (-4, -3, -1, 5), (-3, -1, 4, 5)]\n",
      "prediction:  [1, 1, 0, 0, 1]\n",
      "Objective:  0.3541150282322281\n",
      "COUNT of the best tree:  2927\n",
      "time when the best tree is achieved:  3.949885606765747\n",
      "TOTAL COUNT:  12764\n",
      "         1033248 function calls (1033246 primitive calls) in 10.233 seconds\n",
      "\n",
      "   Ordered by: standard name\n",
      "\n",
      "   ncalls  tottime  percall  cumtime  percall filename:lineno(function)\n",
      "        5    0.000    0.000    0.000    0.000 <frozen importlib._bootstrap>:997(_handle_fromlist)\n",
      "        1    0.001    0.001   10.233   10.233 <string>:1(<module>)\n",
      "        3    0.000    0.000    0.000    0.000 __init__.py:200(iteritems)\n",
      "        1    0.000    0.000    0.000    0.000 _bootlocale.py:23(getpreferredencoding)\n",
      "    29392    0.107    0.000    0.351    0.000 _methods.py:31(_sum)\n",
      "        1    0.000    0.000    0.000    0.000 _methods.py:37(_any)\n",
      "        5    0.000    0.000    0.000    0.000 _weakrefset.py:70(__contains__)\n",
      "        3    0.000    0.000    0.000    0.000 abc.py:180(__instancecheck__)\n",
      "        1    0.000    0.000    0.000    0.000 algorithms.py:217(_get_data_algo)\n",
      "        1    0.000    0.000    0.000    0.000 algorithms.py:39(_ensure_data)\n",
      "        1    0.000    0.000    0.000    0.000 algorithms.py:680(rank)\n",
      "        3    0.000    0.000    0.000    0.000 base.py:4155(_ensure_index)\n",
      "        3    0.000    0.000    0.000    0.000 base.py:551(_reset_identity)\n",
      "        1    0.000    0.000    0.000    0.000 base.py:707(ndim)\n",
      "        1    0.000    0.000    0.000    0.000 base.py:799(tolist)\n",
      "        1    0.000    0.000    0.000    0.000 base.py:817(__iter__)\n",
      "        2    0.000    0.000    0.001    0.001 cast.py:39(maybe_convert_platform)\n",
      "        1    0.000    0.000    0.000    0.000 cast.py:826(maybe_castable)\n",
      "        1    0.000    0.000    0.000    0.000 cast.py:935(maybe_cast_to_datetime)\n",
      "        1    0.000    0.000    0.000    0.000 codecs.py:185(__init__)\n",
      "        1    0.000    0.000    0.000    0.000 common.py:1493(is_float_dtype)\n",
      "        2    0.000    0.000    0.000    0.000 common.py:1545(is_bool_dtype)\n",
      "        7    0.000    0.000    0.000    0.000 common.py:1773(_get_dtype_type)\n",
      "        3    0.000    0.000    0.000    0.000 common.py:207(_default_index)\n",
      "        2    0.000    0.000    0.000    0.000 common.py:223(is_datetimetz)\n",
      "        3    0.000    0.000    0.000    0.000 common.py:238(_all_none)\n",
      "        1    0.000    0.000    0.000    0.000 common.py:297(is_datetime64_dtype)\n",
      "        3    0.000    0.000    0.000    0.000 common.py:334(is_datetime64tz_dtype)\n",
      "        1    0.000    0.000    0.000    0.000 common.py:372(is_timedelta64_dtype)\n",
      "        3    0.000    0.000    0.000    0.000 common.py:478(is_categorical_dtype)\n",
      "        1    0.000    0.000    0.000    0.000 common.py:612(is_datetimelike)\n",
      "        2    0.000    0.000    0.000    0.000 common.py:824(is_signed_integer_dtype)\n",
      "        3    0.000    0.000    0.000    0.000 common.py:85(is_object_dtype)\n",
      "        2    0.000    0.000    0.000    0.000 common.py:873(is_unsigned_integer_dtype)\n",
      "      194    0.007    0.000    2.808    0.014 corels_dt_nosimilar.py:108(__init__)\n",
      "    12765    0.105    0.000    0.126    0.000 corels_dt_nosimilar.py:16(__init__)\n",
      "    12764    0.707    0.000    1.693    0.000 corels_dt_nosimilar.py:178(generate_new_splitleaf)\n",
      "    12764    0.044    0.000    0.044    0.000 corels_dt_nosimilar.py:182(<listcomp>)\n",
      "    12764    0.045    0.000    0.045    0.000 corels_dt_nosimilar.py:209(<listcomp>)\n",
      "        1    0.003    0.003    0.135    0.135 corels_dt_nosimilar.py:327(gini_reduction)\n",
      "        5    0.000    0.000    0.000    0.000 corels_dt_nosimilar.py:351(<lambda>)\n",
      "        1    1.750    1.750   10.232   10.232 corels_dt_nosimilar.py:356(bbound_nosimilar)\n",
      "    37599    0.127    0.000    0.127    0.000 corels_dt_nosimilar.py:473(<listcomp>)\n",
      "   304420    0.621    0.000    0.621    0.000 corels_dt_nosimilar.py:545(<genexpr>)\n",
      "    12764    0.037    0.000    0.037    0.000 corels_dt_nosimilar.py:558(<listcomp>)\n",
      "    20567    0.048    0.000    0.048    0.000 corels_dt_nosimilar.py:59(__lt__)\n",
      "        1    0.000    0.000    0.000    0.000 corels_dt_nosimilar.py:613(<listcomp>)\n",
      "        1    0.000    0.000    0.000    0.000 corels_dt_nosimilar.py:616(<listcomp>)\n",
      "        1    0.000    0.000    0.000    0.000 dtypes.py:372(__new__)\n",
      "        1    0.000    0.000    0.000    0.000 dtypes.py:430(construct_from_string)\n",
      "        4    0.000    0.000    0.000    0.000 dtypes.py:85(is_dtype)\n",
      "        1    0.000    0.000    0.002    0.002 frame.py:316(__init__)\n",
      "        1    0.000    0.000    0.002    0.002 frame.py:463(_init_ndarray)\n",
      "        1    0.000    0.000    0.000    0.000 frame.py:480(_get_axes)\n",
      "        1    0.000    0.000    0.001    0.001 frame.py:6228(_prep_ndarray)\n",
      "        1    0.000    0.000    0.001    0.001 frame.py:6233(convert)\n",
      "        3    0.000    0.000    0.000    0.000 generic.py:120(__init__)\n",
      "        1    0.000    0.000    0.000    0.000 generic.py:279(_construct_axes_dict)\n",
      "        1    0.000    0.000    0.000    0.000 generic.py:281(<listcomp>)\n",
      "        1    0.000    0.000    0.000    0.000 generic.py:346(_get_axis_number)\n",
      "        1    0.000    0.000    0.000    0.000 generic.py:3583(__finalize__)\n",
      "        1    0.000    0.000    0.000    0.000 generic.py:359(_get_axis_name)\n",
      "        2    0.000    0.000    0.000    0.000 generic.py:3600(__getattr__)\n",
      "        3    0.000    0.000    0.000    0.000 generic.py:3616(__setattr__)\n",
      "        1    0.000    0.000    0.000    0.000 generic.py:3661(_protect_consolidate)\n",
      "        1    0.000    0.000    0.000    0.000 generic.py:3671(_consolidate_inplace)\n",
      "        1    0.000    0.000    0.000    0.000 generic.py:3674(f)\n",
      "        1    0.000    0.000    0.000    0.000 generic.py:372(_get_axis)\n",
      "        1    0.000    0.000    0.000    0.000 generic.py:3753(as_matrix)\n",
      "        1    0.000    0.000    0.001    0.001 generic.py:5595(rank)\n",
      "        1    0.000    0.000    0.001    0.001 generic.py:5633(ranker)\n",
      "        5    0.000    0.000    0.000    0.000 generic.py:7(_check)\n",
      "        3    0.000    0.000    0.000    0.000 inference.py:234(is_list_like)\n",
      "        3    0.000    0.000    0.000    0.000 internals.py:107(__init__)\n",
      "        1    0.000    0.000    0.000    0.000 internals.py:155(external_values)\n",
      "        1    0.000    0.000    0.000    0.000 internals.py:159(internal_values)\n",
      "        1    0.000    0.000    0.000    0.000 internals.py:169(get_values)\n",
      "        7    0.000    0.000    0.000    0.000 internals.py:189(mgr_locs)\n",
      "        3    0.000    0.000    0.000    0.000 internals.py:226(mgr_locs)\n",
      "        3    0.000    0.000    0.000    0.000 internals.py:2921(make_block)\n",
      "        1    0.000    0.000    0.000    0.000 internals.py:299(shape)\n",
      "        1    0.000    0.000    0.000    0.000 internals.py:3017(__init__)\n",
      "        1    0.000    0.000    0.000    0.000 internals.py:3018(<listcomp>)\n",
      "        3    0.000    0.000    0.000    0.000 internals.py:3058(shape)\n",
      "        9    0.000    0.000    0.000    0.000 internals.py:3060(<genexpr>)\n",
      "        2    0.000    0.000    0.000    0.000 internals.py:3062(ndim)\n",
      "        7    0.000    0.000    0.000    0.000 internals.py:307(dtype)\n",
      "        1    0.000    0.000    0.000    0.000 internals.py:3102(_is_single_block)\n",
      "        1    0.000    0.000    0.000    0.000 internals.py:311(ftype)\n",
      "        1    0.000    0.000    0.000    0.000 internals.py:3114(_rebuild_blknos_and_blklocs)\n",
      "        3    0.000    0.000    0.000    0.000 internals.py:3135(_get_items)\n",
      "        2    0.000    0.000    0.000    0.000 internals.py:3224(__len__)\n",
      "        1    0.000    0.000    0.000    0.000 internals.py:3239(_verify_integrity)\n",
      "        2    0.000    0.000    0.000    0.000 internals.py:3241(<genexpr>)\n",
      "        2    0.000    0.000    0.000    0.000 internals.py:3524(is_consolidated)\n",
      "        1    0.000    0.000    0.000    0.000 internals.py:3532(_consolidate_check)\n",
      "        1    0.000    0.000    0.000    0.000 internals.py:3533(<listcomp>)\n",
      "        1    0.000    0.000    0.000    0.000 internals.py:3666(as_matrix)\n",
      "        1    0.000    0.000    0.000    0.000 internals.py:3813(consolidate)\n",
      "        1    0.000    0.000    0.000    0.000 internals.py:3829(_consolidate_inplace)\n",
      "        2    0.000    0.000    0.000    0.000 internals.py:4363(__init__)\n",
      "        8    0.000    0.000    0.000    0.000 internals.py:4409(_block)\n",
      "        6    0.000    0.000    0.000    0.000 internals.py:4479(dtype)\n",
      "        1    0.000    0.000    0.000    0.000 internals.py:4503(external_values)\n",
      "        1    0.000    0.000    0.000    0.000 internals.py:4506(internal_values)\n",
      "        1    0.000    0.000    0.001    0.001 internals.py:4611(create_block_manager_from_blocks)\n",
      "       66    0.001    0.000    0.004    0.000 iostream.py:195(schedule)\n",
      "       64    0.000    0.000    0.000    0.000 iostream.py:300(_is_master_process)\n",
      "       64    0.000    0.000    0.000    0.000 iostream.py:313(_schedule_flush)\n",
      "       64    0.001    0.000    0.006    0.000 iostream.py:366(write)\n",
      "       66    0.000    0.000    0.000    0.000 iostream.py:93(_event_pipe)\n",
      "        1    0.000    0.000    0.000    0.000 numeric.py:424(asarray)\n",
      "        2    0.000    0.000    0.000    0.000 numeric.py:99(is_all_dates)\n",
      "        3    0.000    0.000    0.000    0.000 range.py:119(_simple_new)\n",
      "        3    0.000    0.000    0.000    0.000 range.py:146(_validate_dtype)\n",
      "       14    0.000    0.000    0.000    0.000 range.py:469(__len__)\n",
      "        3    0.000    0.000    0.000    0.000 range.py:56(__new__)\n",
      "        6    0.000    0.000    0.000    0.000 range.py:72(_ensure_int)\n",
      "      581    0.006    0.000    1.555    0.003 re.py:184(sub)\n",
      "      581    0.003    0.000    0.003    0.000 re.py:286(_compile)\n",
      "      581    2.591    0.004    4.191    0.007 rule.py:148(rule_vectompz)\n",
      "      581    0.004    0.000    0.005    0.000 rule.py:162(rule_vand)\n",
      "        1    0.000    0.000    0.000    0.000 rule.py:74(make_all_ones)\n",
      "        2    0.000    0.000    0.001    0.000 series.py:155(__init__)\n",
      "        1    0.000    0.000    0.000    0.000 series.py:284(_constructor)\n",
      "        2    0.000    0.000    0.000    0.000 series.py:300(_set_axis)\n",
      "        2    0.000    0.000    0.000    0.000 series.py:3136(_sanitize_array)\n",
      "        1    0.000    0.000    0.000    0.000 series.py:3153(_try_cast)\n",
      "        2    0.000    0.000    0.000    0.000 series.py:326(_set_subtyp)\n",
      "        3    0.000    0.000    0.000    0.000 series.py:336(name)\n",
      "        3    0.000    0.000    0.000    0.000 series.py:340(name)\n",
      "        6    0.000    0.000    0.000    0.000 series.py:347(dtype)\n",
      "        1    0.000    0.000    0.000    0.000 series.py:367(values)\n",
      "        1    0.000    0.000    0.000    0.000 series.py:400(_values)\n",
      "        1    0.000    0.000    0.000    0.000 series.py:483(__len__)\n",
      "       66    0.002    0.000    0.002    0.000 socket.py:333(send)\n",
      "       66    0.000    0.000    0.000    0.000 threading.py:1062(_wait_for_tstate_lock)\n",
      "       66    0.001    0.000    0.001    0.000 threading.py:1104(is_alive)\n",
      "       66    0.000    0.000    0.000    0.000 threading.py:506(is_set)\n",
      "        3    0.000    0.000    0.000    0.000 {built-in method __new__ of type object at 0x7f49b7acf780}\n",
      "    12765    0.105    0.000    0.144    0.000 {built-in method _heapq.heappop}\n",
      "    12765    0.050    0.000    0.059    0.000 {built-in method _heapq.heappush}\n",
      "        1    0.000    0.000    0.000    0.000 {built-in method _locale.nl_langinfo}\n",
      "        1    0.000    0.000   10.233   10.233 {built-in method builtins.exec}\n",
      "       12    0.000    0.000    0.000    0.000 {built-in method builtins.getattr}\n",
      "       12    0.000    0.000    0.000    0.000 {built-in method builtins.hasattr}\n",
      "      183    0.000    0.000    0.001    0.000 {built-in method builtins.isinstance}\n",
      "       17    0.000    0.000    0.000    0.000 {built-in method builtins.issubclass}\n",
      "        4    0.000    0.000    0.000    0.000 {built-in method builtins.iter}\n",
      "222083/222081    0.377    0.000    0.378    0.000 {built-in method builtins.len}\n",
      "       14    0.000    0.000    0.000    0.000 {built-in method builtins.max}\n",
      "    12764    0.033    0.000    0.033    0.000 {built-in method builtins.min}\n",
      "        1    0.000    0.000    0.000    0.000 {built-in method builtins.pow}\n",
      "       16    0.000    0.000    0.006    0.000 {built-in method builtins.print}\n",
      "   117873    0.965    0.000    1.586    0.000 {built-in method builtins.sorted}\n",
      "    12776    0.163    0.000    0.163    0.000 {built-in method builtins.sum}\n",
      "      582    0.045    0.000    0.045    0.000 {built-in method gmpy2.mpz}\n",
      "      581    0.001    0.000    0.001    0.000 {built-in method gmpy2.popcount}\n",
      "        1    0.000    0.000    0.000    0.000 {built-in method io.open}\n",
      "        1    0.000    0.000    0.000    0.000 {built-in method numpy.core.multiarray.arange}\n",
      "    12976    0.114    0.000    0.114    0.000 {built-in method numpy.core.multiarray.array}\n",
      "        2    0.000    0.000    0.000    0.000 {built-in method numpy.core.multiarray.empty}\n",
      "        1    0.000    0.000    0.000    0.000 {built-in method pandas._libs.algos.ensure_float64}\n",
      "        4    0.000    0.000    0.000    0.000 {built-in method pandas._libs.lib.is_integer}\n",
      "        6    0.000    0.000    0.000    0.000 {built-in method pandas._libs.lib.isscalar}\n",
      "        2    0.000    0.000    0.000    0.000 {built-in method pandas._libs.lib.list_to_object_array}\n",
      "       64    0.000    0.000    0.000    0.000 {built-in method posix.getpid}\n",
      "        6    0.000    0.000    0.000    0.000 {built-in method time.time}\n",
      "       66    0.000    0.000    0.000    0.000 {method 'acquire' of '_thread.lock' objects}\n",
      "        1    0.000    0.000    0.000    0.000 {method 'any' of 'numpy.ndarray' objects}\n",
      "       66    0.000    0.000    0.000    0.000 {method 'append' of 'collections.deque' objects}\n",
      "    14232    0.028    0.000    0.028    0.000 {method 'append' of 'list' objects}\n",
      "    56332    0.106    0.000    0.106    0.000 {method 'copy' of 'list' objects}\n",
      "        1    0.000    0.000    0.000    0.000 {method 'disable' of '_lsprof.Profiler' objects}\n",
      "        2    0.000    0.000    0.000    0.000 {method 'fill' of 'numpy.ndarray' objects}\n",
      "        3    0.000    0.000    0.000    0.000 {method 'get' of 'dict' objects}\n",
      "    25528    0.066    0.000    0.066    0.000 {method 'index' of 'list' objects}\n",
      "        3    0.000    0.000    0.000    0.000 {method 'items' of 'dict' objects}\n",
      "        3    0.000    0.000    0.000    0.000 {method 'join' of 'str' objects}\n",
      "    12765    0.031    0.000    0.031    0.000 {method 'pop' of 'list' objects}\n",
      "    29393    0.244    0.000    0.244    0.000 {method 'reduce' of 'numpy.ufunc' objects}\n",
      "      195    0.001    0.000    0.001    0.000 {method 'reshape' of 'numpy.ndarray' objects}\n",
      "        1    0.000    0.000    0.000    0.000 {method 'search' of '_sre.SRE_Pattern' objects}\n",
      "      581    1.546    0.003    1.546    0.003 {method 'sub' of '_sre.SRE_Pattern' objects}\n",
      "    29392    0.141    0.000    0.493    0.000 {method 'sum' of 'numpy.ndarray' objects}\n",
      "        1    0.000    0.000    0.000    0.000 {method 'tolist' of 'numpy.ndarray' objects}\n",
      "        1    0.000    0.000    0.000    0.000 {method 'update' of 'dict' objects}\n",
      "        2    0.000    0.000    0.000    0.000 {method 'write' of '_io.TextIOWrapper' objects}\n",
      "        1    0.000    0.000    0.000    0.000 {pandas._libs.algos.rank_1d_float64}\n",
      "        2    0.001    0.001    0.001    0.001 {pandas._libs.lib.maybe_convert_objects}\n",
      "\n",
      "\n"
     ]
    }
   ],
   "source": [
    "cProfile.run(\"bbound_nosimilar(x, y, lamb=0.0035, prior_metric=\\\"objective\\\", MAXDEPTH = 4)\")"
   ]
  },
  {
   "cell_type": "code",
   "execution_count": 22,
   "metadata": {},
   "outputs": [
    {
     "name": "stdout",
     "output_type": "stream",
     "text": [
      "nrule: 5\n",
      "ndata: 6907\n",
      "the rank of x's columns:  [4, 0, 1, 2, 3]\n",
      ">>> log: False\n",
      ">>> support bound: True\n",
      ">>> accurate support bound: True\n",
      ">>> equiv points bound: True\n",
      ">>> lookahead bound: True\n",
      "total time:  53.315651416778564\n",
      "lambda:  0.0035\n",
      "leaves:  [(3,), (-3, 1), (-5, -3, -1), (-4, -3, -1, 5), (-3, -1, 4, 5)]\n",
      "prediction:  [1, 1, 0, 0, 1]\n",
      "Objective:  0.3541150282322281\n",
      "COUNT of the best tree:  2916\n",
      "time when the best tree is achieved:  5.6540985107421875\n",
      "TOTAL COUNT:  9157\n",
      "         9280221 function calls (9280219 primitive calls) in 53.476 seconds\n",
      "\n",
      "   Ordered by: standard name\n",
      "\n",
      "   ncalls  tottime  percall  cumtime  percall filename:lineno(function)\n",
      "        5    0.000    0.000    0.000    0.000 <frozen importlib._bootstrap>:997(_handle_fromlist)\n",
      "        1    0.001    0.001   53.476   53.476 <string>:1(<module>)\n",
      "        3    0.000    0.000    0.000    0.000 __init__.py:200(iteritems)\n",
      "        1    0.000    0.000    0.000    0.000 _bootlocale.py:23(getpreferredencoding)\n",
      "    19345    0.071    0.000    0.244    0.000 _methods.py:31(_sum)\n",
      "        1    0.000    0.000    0.000    0.000 _methods.py:37(_any)\n",
      "        5    0.000    0.000    0.000    0.000 _weakrefset.py:70(__contains__)\n",
      "        3    0.000    0.000    0.000    0.000 abc.py:180(__instancecheck__)\n",
      "        1    0.000    0.000    0.000    0.000 algorithms.py:217(_get_data_algo)\n",
      "        1    0.000    0.000    0.000    0.000 algorithms.py:39(_ensure_data)\n",
      "        1    0.000    0.000    0.000    0.000 algorithms.py:680(rank)\n",
      "        3    0.000    0.000    0.000    0.000 base.py:4155(_ensure_index)\n",
      "        3    0.000    0.000    0.000    0.000 base.py:551(_reset_identity)\n",
      "        1    0.000    0.000    0.000    0.000 base.py:707(ndim)\n",
      "        1    0.000    0.000    0.000    0.000 base.py:799(tolist)\n",
      "        1    0.000    0.000    0.000    0.000 base.py:817(__iter__)\n",
      "        2    0.000    0.000    0.002    0.001 cast.py:39(maybe_convert_platform)\n",
      "        1    0.000    0.000    0.000    0.000 cast.py:826(maybe_castable)\n",
      "        1    0.000    0.000    0.000    0.000 cast.py:935(maybe_cast_to_datetime)\n",
      "        1    0.000    0.000    0.000    0.000 codecs.py:185(__init__)\n",
      "        1    0.000    0.000    0.000    0.000 common.py:1493(is_float_dtype)\n",
      "        2    0.000    0.000    0.000    0.000 common.py:1545(is_bool_dtype)\n",
      "        7    0.000    0.000    0.000    0.000 common.py:1773(_get_dtype_type)\n",
      "        3    0.000    0.000    0.000    0.000 common.py:207(_default_index)\n",
      "        2    0.000    0.000    0.000    0.000 common.py:223(is_datetimetz)\n",
      "        3    0.000    0.000    0.000    0.000 common.py:238(_all_none)\n",
      "        1    0.000    0.000    0.000    0.000 common.py:297(is_datetime64_dtype)\n",
      "        3    0.000    0.000    0.000    0.000 common.py:334(is_datetime64tz_dtype)\n",
      "        1    0.000    0.000    0.000    0.000 common.py:372(is_timedelta64_dtype)\n",
      "        3    0.000    0.000    0.000    0.000 common.py:478(is_categorical_dtype)\n",
      "        1    0.000    0.000    0.000    0.000 common.py:612(is_datetimelike)\n",
      "        2    0.000    0.000    0.000    0.000 common.py:824(is_signed_integer_dtype)\n",
      "        3    0.000    0.000    0.000    0.000 common.py:85(is_object_dtype)\n",
      "        2    0.000    0.000    0.000    0.000 common.py:873(is_unsigned_integer_dtype)\n",
      "      193    0.006    0.000    2.754    0.014 corels_dt_similar.py:118(__init__)\n",
      "     9158    0.080    0.000    0.096    0.000 corels_dt_similar.py:17(__init__)\n",
      "     9157    0.505    0.000    1.200    0.000 corels_dt_similar.py:187(generate_new_splitleaf)\n",
      "     9157    0.031    0.000    0.031    0.000 corels_dt_similar.py:192(<listcomp>)\n",
      "     9157    0.032    0.000    0.032    0.000 corels_dt_similar.py:219(<listcomp>)\n",
      "        1    0.004    0.004    0.143    0.143 corels_dt_similar.py:338(gini_reduction)\n",
      "        5    0.000    0.000    0.000    0.000 corels_dt_similar.py:362(<lambda>)\n",
      "        1   19.904   19.904   53.475   53.475 corels_dt_similar.py:368(bbound_similar)\n",
      "    17492    0.066    0.000    0.066    0.000 corels_dt_similar.py:557(<listcomp>)\n",
      "   177232    0.355    0.000    0.355    0.000 corels_dt_similar.py:628(<genexpr>)\n",
      "     9157    0.027    0.000    0.027    0.000 corels_dt_similar.py:640(<listcomp>)\n",
      "    15453    0.037    0.000    0.037    0.000 corels_dt_similar.py:66(__lt__)\n",
      "        1    0.000    0.000    0.000    0.000 corels_dt_similar.py:695(<listcomp>)\n",
      "        1    0.000    0.000    0.000    0.000 corels_dt_similar.py:698(<listcomp>)\n",
      "        1    0.000    0.000    0.000    0.000 dtypes.py:372(__new__)\n",
      "        1    0.000    0.000    0.000    0.000 dtypes.py:430(construct_from_string)\n",
      "        4    0.000    0.000    0.000    0.000 dtypes.py:85(is_dtype)\n",
      "        1    0.000    0.000    0.003    0.003 frame.py:316(__init__)\n",
      "        1    0.000    0.000    0.002    0.002 frame.py:463(_init_ndarray)\n",
      "        1    0.000    0.000    0.000    0.000 frame.py:480(_get_axes)\n",
      "        1    0.000    0.000    0.002    0.002 frame.py:6228(_prep_ndarray)\n",
      "        1    0.000    0.000    0.002    0.002 frame.py:6233(convert)\n",
      "        3    0.000    0.000    0.000    0.000 generic.py:120(__init__)\n",
      "        1    0.000    0.000    0.000    0.000 generic.py:279(_construct_axes_dict)\n",
      "        1    0.000    0.000    0.000    0.000 generic.py:281(<listcomp>)\n",
      "        1    0.000    0.000    0.000    0.000 generic.py:346(_get_axis_number)\n",
      "        1    0.000    0.000    0.000    0.000 generic.py:3583(__finalize__)\n",
      "        1    0.000    0.000    0.000    0.000 generic.py:359(_get_axis_name)\n",
      "        2    0.000    0.000    0.000    0.000 generic.py:3600(__getattr__)\n",
      "        3    0.000    0.000    0.000    0.000 generic.py:3616(__setattr__)\n",
      "        1    0.000    0.000    0.000    0.000 generic.py:3661(_protect_consolidate)\n",
      "        1    0.000    0.000    0.000    0.000 generic.py:3671(_consolidate_inplace)\n",
      "        1    0.000    0.000    0.000    0.000 generic.py:3674(f)\n",
      "        1    0.000    0.000    0.000    0.000 generic.py:372(_get_axis)\n",
      "        1    0.000    0.000    0.000    0.000 generic.py:3753(as_matrix)\n",
      "        1    0.000    0.000    0.001    0.001 generic.py:5595(rank)\n",
      "        1    0.000    0.000    0.001    0.001 generic.py:5633(ranker)\n",
      "        5    0.000    0.000    0.000    0.000 generic.py:7(_check)\n",
      "        3    0.000    0.000    0.000    0.000 inference.py:234(is_list_like)\n",
      "        3    0.000    0.000    0.000    0.000 internals.py:107(__init__)\n",
      "        1    0.000    0.000    0.000    0.000 internals.py:155(external_values)\n",
      "        1    0.000    0.000    0.000    0.000 internals.py:159(internal_values)\n",
      "        1    0.000    0.000    0.000    0.000 internals.py:169(get_values)\n",
      "        7    0.000    0.000    0.000    0.000 internals.py:189(mgr_locs)\n",
      "        3    0.000    0.000    0.000    0.000 internals.py:226(mgr_locs)\n",
      "        3    0.000    0.000    0.000    0.000 internals.py:2921(make_block)\n",
      "        1    0.000    0.000    0.000    0.000 internals.py:299(shape)\n",
      "        1    0.000    0.000    0.000    0.000 internals.py:3017(__init__)\n",
      "        1    0.000    0.000    0.000    0.000 internals.py:3018(<listcomp>)\n",
      "        3    0.000    0.000    0.000    0.000 internals.py:3058(shape)\n",
      "        9    0.000    0.000    0.000    0.000 internals.py:3060(<genexpr>)\n",
      "        2    0.000    0.000    0.000    0.000 internals.py:3062(ndim)\n",
      "        7    0.000    0.000    0.000    0.000 internals.py:307(dtype)\n",
      "        1    0.000    0.000    0.000    0.000 internals.py:3102(_is_single_block)\n",
      "        1    0.000    0.000    0.000    0.000 internals.py:311(ftype)\n",
      "        1    0.000    0.000    0.000    0.000 internals.py:3114(_rebuild_blknos_and_blklocs)\n",
      "        3    0.000    0.000    0.000    0.000 internals.py:3135(_get_items)\n",
      "        2    0.000    0.000    0.000    0.000 internals.py:3224(__len__)\n",
      "        1    0.000    0.000    0.000    0.000 internals.py:3239(_verify_integrity)\n",
      "        2    0.000    0.000    0.000    0.000 internals.py:3241(<genexpr>)\n",
      "        2    0.000    0.000    0.000    0.000 internals.py:3524(is_consolidated)\n",
      "        1    0.000    0.000    0.000    0.000 internals.py:3532(_consolidate_check)\n",
      "        1    0.000    0.000    0.000    0.000 internals.py:3533(<listcomp>)\n",
      "        1    0.000    0.000    0.000    0.000 internals.py:3666(as_matrix)\n",
      "        1    0.000    0.000    0.000    0.000 internals.py:3813(consolidate)\n",
      "        1    0.000    0.000    0.000    0.000 internals.py:3829(_consolidate_inplace)\n",
      "        2    0.000    0.000    0.000    0.000 internals.py:4363(__init__)\n",
      "        8    0.000    0.000    0.000    0.000 internals.py:4409(_block)\n",
      "        6    0.000    0.000    0.000    0.000 internals.py:4479(dtype)\n",
      "        1    0.000    0.000    0.000    0.000 internals.py:4503(external_values)\n",
      "        1    0.000    0.000    0.000    0.000 internals.py:4506(internal_values)\n",
      "        1    0.000    0.000    0.001    0.001 internals.py:4611(create_block_manager_from_blocks)\n",
      "       66    0.001    0.000    0.004    0.000 iostream.py:195(schedule)\n",
      "       64    0.000    0.000    0.000    0.000 iostream.py:300(_is_master_process)\n",
      "       64    0.000    0.000    0.000    0.000 iostream.py:313(_schedule_flush)\n",
      "       64    0.001    0.000    0.005    0.000 iostream.py:366(write)\n",
      "       66    0.000    0.000    0.000    0.000 iostream.py:93(_event_pipe)\n",
      "        1    0.000    0.000    0.000    0.000 numeric.py:424(asarray)\n",
      "        2    0.000    0.000    0.000    0.000 numeric.py:99(is_all_dates)\n",
      "        3    0.000    0.000    0.000    0.000 range.py:119(_simple_new)\n",
      "        3    0.000    0.000    0.000    0.000 range.py:146(_validate_dtype)\n",
      "       14    0.000    0.000    0.000    0.000 range.py:469(__len__)\n",
      "        3    0.000    0.000    0.000    0.000 range.py:56(__new__)\n",
      "        6    0.000    0.000    0.000    0.000 range.py:72(_ensure_int)\n",
      "      578    0.005    0.000    1.514    0.003 re.py:184(sub)\n",
      "      578    0.003    0.000    0.003    0.000 re.py:286(_compile)\n",
      "      578    2.545    0.004    4.104    0.007 rule.py:148(rule_vectompz)\n",
      "      578    0.003    0.000    0.005    0.000 rule.py:162(rule_vand)\n",
      "  4309153   17.693    0.000   26.569    0.000 rule.py:191(rule_vxor)\n",
      "        1    0.000    0.000    0.000    0.000 rule.py:74(make_all_ones)\n",
      "        2    0.000    0.000    0.001    0.000 series.py:155(__init__)\n",
      "        1    0.000    0.000    0.000    0.000 series.py:284(_constructor)\n",
      "        2    0.000    0.000    0.000    0.000 series.py:300(_set_axis)\n",
      "        2    0.000    0.000    0.000    0.000 series.py:3136(_sanitize_array)\n",
      "        1    0.000    0.000    0.000    0.000 series.py:3153(_try_cast)\n",
      "        2    0.000    0.000    0.000    0.000 series.py:326(_set_subtyp)\n",
      "        3    0.000    0.000    0.000    0.000 series.py:336(name)\n",
      "        3    0.000    0.000    0.000    0.000 series.py:340(name)\n",
      "        6    0.000    0.000    0.000    0.000 series.py:347(dtype)\n",
      "        1    0.000    0.000    0.000    0.000 series.py:367(values)\n",
      "        1    0.000    0.000    0.000    0.000 series.py:400(_values)\n",
      "        1    0.000    0.000    0.000    0.000 series.py:483(__len__)\n",
      "       66    0.001    0.000    0.001    0.000 socket.py:333(send)\n",
      "       66    0.000    0.000    0.000    0.000 threading.py:1062(_wait_for_tstate_lock)\n",
      "       66    0.000    0.000    0.001    0.000 threading.py:1104(is_alive)\n",
      "       66    0.000    0.000    0.000    0.000 threading.py:506(is_set)\n",
      "        3    0.000    0.000    0.000    0.000 {built-in method __new__ of type object at 0x7f49b7acf780}\n",
      "     9158    0.081    0.000    0.112    0.000 {built-in method _heapq.heappop}\n",
      "     9158    0.035    0.000    0.041    0.000 {built-in method _heapq.heappush}\n",
      "        1    0.000    0.000    0.000    0.000 {built-in method _locale.nl_langinfo}\n",
      "        1    0.000    0.000   53.476   53.476 {built-in method builtins.exec}\n",
      "       12    0.000    0.000    0.000    0.000 {built-in method builtins.getattr}\n",
      "       12    0.000    0.000    0.000    0.000 {built-in method builtins.hasattr}\n",
      "      183    0.000    0.000    0.001    0.000 {built-in method builtins.isinstance}\n",
      "       17    0.000    0.000    0.000    0.000 {built-in method builtins.issubclass}\n",
      "        4    0.000    0.000    0.000    0.000 {built-in method builtins.iter}\n",
      "147962/147960    0.265    0.000    0.265    0.000 {built-in method builtins.len}\n",
      "       14    0.000    0.000    0.000    0.000 {built-in method builtins.max}\n",
      "     9157    0.025    0.000    0.025    0.000 {built-in method builtins.min}\n",
      "        1    0.000    0.000    0.000    0.000 {built-in method builtins.pow}\n",
      "       16    0.000    0.000    0.005    0.000 {built-in method builtins.print}\n",
      "    73433    0.585    0.000    0.940    0.000 {built-in method builtins.sorted}\n",
      "     9169    0.161    0.000    0.161    0.000 {built-in method builtins.sum}\n",
      "      579    0.045    0.000    0.045    0.000 {built-in method gmpy2.mpz}\n",
      "  4309731    8.877    0.000    8.877    0.000 {built-in method gmpy2.popcount}\n",
      "        1    0.000    0.000    0.000    0.000 {built-in method io.open}\n",
      "        1    0.000    0.000    0.000    0.000 {built-in method numpy.core.multiarray.arange}\n",
      "     9368    0.089    0.000    0.089    0.000 {built-in method numpy.core.multiarray.array}\n",
      "        2    0.000    0.000    0.000    0.000 {built-in method numpy.core.multiarray.empty}\n",
      "        1    0.000    0.000    0.000    0.000 {built-in method pandas._libs.algos.ensure_float64}\n",
      "        4    0.000    0.000    0.000    0.000 {built-in method pandas._libs.lib.is_integer}\n",
      "        6    0.000    0.000    0.000    0.000 {built-in method pandas._libs.lib.isscalar}\n",
      "        2    0.000    0.000    0.000    0.000 {built-in method pandas._libs.lib.list_to_object_array}\n",
      "       64    0.000    0.000    0.000    0.000 {built-in method posix.getpid}\n",
      "        6    0.000    0.000    0.000    0.000 {built-in method time.time}\n",
      "       66    0.000    0.000    0.000    0.000 {method 'acquire' of '_thread.lock' objects}\n",
      "        1    0.000    0.000    0.000    0.000 {method 'any' of 'numpy.ndarray' objects}\n",
      "       66    0.000    0.000    0.000    0.000 {method 'append' of 'collections.deque' objects}\n",
      "    10458    0.021    0.000    0.021    0.000 {method 'append' of 'list' objects}\n",
      "    36799    0.071    0.000    0.071    0.000 {method 'copy' of 'list' objects}\n",
      "        1    0.000    0.000    0.000    0.000 {method 'disable' of '_lsprof.Profiler' objects}\n",
      "        2    0.000    0.000    0.000    0.000 {method 'fill' of 'numpy.ndarray' objects}\n",
      "        3    0.000    0.000    0.000    0.000 {method 'get' of 'dict' objects}\n",
      "    18314    0.046    0.000    0.046    0.000 {method 'index' of 'list' objects}\n",
      "        3    0.000    0.000    0.000    0.000 {method 'items' of 'dict' objects}\n"
     ]
    },
    {
     "name": "stdout",
     "output_type": "stream",
     "text": [
      "        3    0.000    0.000    0.000    0.000 {method 'join' of 'str' objects}\n",
      "     9158    0.023    0.000    0.023    0.000 {method 'pop' of 'list' objects}\n",
      "    19346    0.172    0.000    0.172    0.000 {method 'reduce' of 'numpy.ufunc' objects}\n",
      "      194    0.001    0.000    0.001    0.000 {method 'reshape' of 'numpy.ndarray' objects}\n",
      "        1    0.000    0.000    0.000    0.000 {method 'search' of '_sre.SRE_Pattern' objects}\n",
      "      578    1.506    0.003    1.506    0.003 {method 'sub' of '_sre.SRE_Pattern' objects}\n",
      "    19345    0.093    0.000    0.337    0.000 {method 'sum' of 'numpy.ndarray' objects}\n",
      "        1    0.000    0.000    0.000    0.000 {method 'tolist' of 'numpy.ndarray' objects}\n",
      "        1    0.000    0.000    0.000    0.000 {method 'update' of 'dict' objects}\n",
      "        2    0.000    0.000    0.000    0.000 {method 'write' of '_io.TextIOWrapper' objects}\n",
      "        1    0.000    0.000    0.000    0.000 {pandas._libs.algos.rank_1d_float64}\n",
      "        2    0.001    0.001    0.001    0.001 {pandas._libs.lib.maybe_convert_objects}\n",
      "\n",
      "\n"
     ]
    }
   ],
   "source": [
    "cProfile.run(\"bbound_similar(x, y, lamb=0.0035, prior_metric=\\\"objective\\\", MAXDEPTH = 4)\")"
   ]
  },
  {
   "cell_type": "code",
   "execution_count": 23,
   "metadata": {},
   "outputs": [
    {
     "name": "stdout",
     "output_type": "stream",
     "text": [
      "nrule: 5\n",
      "ndata: 6907\n",
      "the rank of x's columns:  [4, 0, 1, 2, 3]\n",
      ">>> log: False\n",
      ">>> support bound: True\n",
      ">>> accurate support bound: True\n",
      ">>> equiv points bound: True\n",
      ">>> lookahead bound: True\n",
      "total time:  11.018238544464111\n",
      "lambda:  0.0035\n",
      "leaves:  [(3,), (-3, 1), (-5, -3, -1), (-4, -3, -1, 5), (-3, -1, 4, 5)]\n",
      "prediction:  [1, 1, 0, 0, 1]\n",
      "Objective:  0.3541150282322281\n",
      "COUNT of the best tree:  14826\n",
      "time when the best tree is achieved:  4.4402501583099365\n",
      "TOTAL COUNT:  58505\n"
     ]
    },
    {
     "data": {
      "text/plain": [
       "<corels_dt_nosimilar.CacheTree at 0x7f496b060d68>"
      ]
     },
     "execution_count": 23,
     "metadata": {},
     "output_type": "execute_result"
    }
   ],
   "source": [
    "bbound_nosimilar(x, y, lamb=0.0035, prior_metric=\"objective\", MAXDEPTH = 5)"
   ]
  },
  {
   "cell_type": "code",
   "execution_count": 24,
   "metadata": {},
   "outputs": [
    {
     "name": "stdout",
     "output_type": "stream",
     "text": [
      "nrule: 5\n",
      "ndata: 6907\n",
      "the rank of x's columns:  [4, 0, 1, 2, 3]\n",
      ">>> log: False\n",
      ">>> support bound: True\n",
      ">>> accurate support bound: True\n",
      ">>> equiv points bound: True\n",
      ">>> lookahead bound: True\n",
      "total time:  319.85523533821106\n",
      "lambda:  0.0035\n",
      "leaves:  [(3,), (-3, 1), (-5, -3, -1), (-4, -3, -1, 5), (-3, -1, 4, 5)]\n",
      "prediction:  [1, 1, 0, 0, 1]\n",
      "Objective:  0.3541150282322281\n",
      "COUNT of the best tree:  14056\n",
      "time when the best tree is achieved:  16.275825262069702\n",
      "TOTAL COUNT:  48117\n"
     ]
    },
    {
     "data": {
      "text/plain": [
       "<corels_dt_similar.CacheTree at 0x7f496af9d5f8>"
      ]
     },
     "execution_count": 24,
     "metadata": {},
     "output_type": "execute_result"
    }
   ],
   "source": [
    "bbound_similar(x, y, lamb=0.0035, prior_metric=\"objective\", MAXDEPTH = 5)"
   ]
  },
  {
   "cell_type": "code",
   "execution_count": 17,
   "metadata": {},
   "outputs": [
    {
     "name": "stdout",
     "output_type": "stream",
     "text": [
      "nrule: 6\n",
      "ndata: 6907\n",
      "the rank of x's columns:  [5, 0, 4, 1, 2, 3]\n",
      "COUNT: 100000\n",
      "COUNT: 200000\n",
      "COUNT: 300000\n",
      "COUNT: 400000\n",
      "COUNT: 500000\n",
      "COUNT: 600000\n",
      "COUNT: 700000\n",
      ">>> log: False\n",
      ">>> support bound: True\n",
      ">>> accurate support bound: True\n",
      ">>> equiv points bound: True\n",
      ">>> lookahead bound: True\n",
      "total time:  82.06066346168518\n",
      "lambda:  0.0035\n",
      "leaves:  [(4,), (-4, 1), (-4, -3, -1), (-5, -4, -1, 3), (-4, -1, 3, 5)]\n",
      "prediction:  [1, 1, 0, 0, 1]\n",
      "Objective:  0.3541150282322281\n",
      "COUNT of the best tree:  288521\n",
      "time when the best tree is achieved:  37.849639892578125\n",
      "TOTAL COUNT:  714461\n"
     ]
    },
    {
     "data": {
      "text/plain": [
       "<corels_dt_nosimilar.CacheTree at 0x7f11d7455ef0>"
      ]
     },
     "execution_count": 17,
     "metadata": {},
     "output_type": "execute_result"
    }
   ],
   "source": [
    "bbound_nosimilar(x6, y, lamb=0.0035, prior_metric=\"objective\", MAXDEPTH = 4)"
   ]
  },
  {
   "cell_type": "code",
   "execution_count": 18,
   "metadata": {},
   "outputs": [
    {
     "name": "stdout",
     "output_type": "stream",
     "text": [
      "nrule: 6\n",
      "ndata: 6907\n",
      "the rank of x's columns:  [5, 0, 4, 1, 2, 3]\n",
      "COUNT: 100000\n",
      "COUNT: 200000\n",
      ">>> log: False\n",
      ">>> support bound: True\n",
      ">>> accurate support bound: True\n",
      ">>> equiv points bound: True\n",
      ">>> lookahead bound: True\n",
      "total time:  1387.365823507309\n",
      "lambda:  0.0035\n",
      "leaves:  [(4,), (-4, 1), (-4, -3, -1), (-5, -4, -1, 3), (-4, -1, 3, 5)]\n",
      "prediction:  [1, 1, 0, 0, 1]\n",
      "Objective:  0.3541150282322281\n",
      "COUNT of the best tree:  196307\n",
      "time when the best tree is achieved:  518.8560793399811\n",
      "TOTAL COUNT:  281145\n"
     ]
    },
    {
     "data": {
      "text/plain": [
       "<corels_dt_similar.CacheTree at 0x7f11d7171630>"
      ]
     },
     "execution_count": 18,
     "metadata": {},
     "output_type": "execute_result"
    }
   ],
   "source": [
    "bbound_similar(x6, y, lamb=0.0035, prior_metric=\"objective\", MAXDEPTH = 4)"
   ]
  },
  {
   "cell_type": "code",
   "execution_count": 19,
   "metadata": {},
   "outputs": [
    {
     "name": "stdout",
     "output_type": "stream",
     "text": [
      "nrule: 6\n",
      "ndata: 6907\n",
      "the rank of x's columns:  [5, 0, 4, 1, 2, 3]\n",
      "COUNT: 100000\n",
      "COUNT: 200000\n",
      "COUNT: 300000\n",
      "COUNT: 400000\n",
      "COUNT: 500000\n",
      "COUNT: 600000\n",
      "COUNT: 700000\n",
      ">>> log: False\n",
      ">>> support bound: True\n",
      ">>> accurate support bound: True\n",
      ">>> equiv points bound: True\n",
      ">>> lookahead bound: True\n",
      "total time:  104.39202117919922\n",
      "lambda:  0.01\n",
      "leaves:  [(1,), (-6, -1), (-1, 6)]\n",
      "prediction:  [1, 1, 0]\n",
      "Objective:  0.3748675256985667\n",
      "COUNT of the best tree:  11\n",
      "time when the best tree is achieved:  0.5258162021636963\n",
      "TOTAL COUNT:  754374\n"
     ]
    },
    {
     "data": {
      "text/plain": [
       "<corels_dt_nosimilar.CacheTree at 0x7f11d7fe2518>"
      ]
     },
     "execution_count": 19,
     "metadata": {},
     "output_type": "execute_result"
    }
   ],
   "source": [
    "bbound_nosimilar(x6, y, lamb=0.01, prior_metric=\"objective\", MAXDEPTH = 5)"
   ]
  },
  {
   "cell_type": "code",
   "execution_count": 20,
   "metadata": {},
   "outputs": [
    {
     "name": "stdout",
     "output_type": "stream",
     "text": [
      "nrule: 6\n",
      "ndata: 6907\n",
      "the rank of x's columns:  [5, 0, 4, 1, 2, 3]\n",
      "COUNT: 100000\n",
      "COUNT: 200000\n",
      "COUNT: 300000\n",
      "COUNT: 400000\n",
      "COUNT: 500000\n",
      "COUNT: 600000\n",
      "COUNT: 700000\n",
      "COUNT: 800000\n",
      "COUNT: 900000\n",
      "COUNT: 1000000\n",
      "COUNT: 1100000\n",
      "COUNT: 1200000\n",
      "COUNT: 1300000\n",
      ">>> log: False\n",
      ">>> support bound: True\n",
      ">>> accurate support bound: True\n",
      ">>> equiv points bound: True\n",
      ">>> lookahead bound: True\n",
      "total time:  206.15556597709656\n",
      "lambda:  0.01\n",
      "leaves:  [(1,), (-6, -1), (-1, 6)]\n",
      "prediction:  [1, 1, 0]\n",
      "Objective:  0.3748675256985667\n",
      "COUNT of the best tree:  11\n",
      "time when the best tree is achieved:  0.49757909774780273\n",
      "TOTAL COUNT:  1336065\n"
     ]
    },
    {
     "data": {
      "text/plain": [
       "<corels_dt_nosimilar.CacheTree at 0x7f11d4dd66a0>"
      ]
     },
     "execution_count": 20,
     "metadata": {},
     "output_type": "execute_result"
    }
   ],
   "source": [
    "bbound_nosimilar(x6, y, lamb=0.01, prior_metric=\"objective\", MAXDEPTH = 6)"
   ]
  },
  {
   "cell_type": "code",
   "execution_count": null,
   "metadata": {},
   "outputs": [],
   "source": [
    "bbound_similar(x6, y, lamb=0.0035, prior_metric=\"objective\", MAXDEPTH = 6)"
   ]
  },
  {
   "cell_type": "code",
   "execution_count": null,
   "metadata": {},
   "outputs": [],
   "source": []
  }
 ],
 "metadata": {
  "kernelspec": {
   "display_name": "Python 3",
   "language": "python",
   "name": "python3"
  },
  "language_info": {
   "codemirror_mode": {
    "name": "ipython",
    "version": 3
   },
   "file_extension": ".py",
   "mimetype": "text/x-python",
   "name": "python",
   "nbconvert_exporter": "python",
   "pygments_lexer": "ipython3",
   "version": "3.6.5"
  }
 },
 "nbformat": 4,
 "nbformat_minor": 2
}
