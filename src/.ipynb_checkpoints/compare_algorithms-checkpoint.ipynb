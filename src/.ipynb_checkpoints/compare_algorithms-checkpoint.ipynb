{
 "cells": [
  {
   "cell_type": "code",
   "execution_count": 6,
   "metadata": {},
   "outputs": [],
   "source": [
    "import pandas as pd\n",
    "import numpy as np\n",
    "import heapq\n",
    "import math\n",
    "import time\n",
    "\n",
    "import gmpy2\n",
    "from gmpy2 import mpz\n",
    "import re\n",
    "\n",
    "from sklearn import tree\n",
    "\n",
    "import cProfile\n",
    "\n",
    "from random import randint, sample, seed\n",
    "\n",
    "import matplotlib.pyplot as plt\n",
    "\n",
    "from corels_dt_nosimilar_multicopies import bbound, predict"
   ]
  },
  {
   "cell_type": "code",
   "execution_count": 2,
   "metadata": {},
   "outputs": [],
   "source": [
    "# Read in the dataset\n",
    "compas1 = pd.DataFrame(pd.read_csv('../data/preprocessed/compas-binary.csv',sep=\";\"))\n",
    "monk1 = pd.DataFrame(pd.read_csv('../data/preprocessed/monk1-train.csv',sep=\";\"))\n",
    "monk2 = pd.DataFrame(pd.read_csv('../data/preprocessed/monk2-train.csv',sep=\";\"))\n",
    "monk3 = pd.DataFrame(pd.read_csv('../data/preprocessed/monk3-train.csv',sep=\";\"))\n",
    "balance = pd.DataFrame(pd.read_csv('../data/preprocessed/balance-scale.csv',sep=\";\"))\n",
    "tictactoe = pd.DataFrame(pd.read_csv('../data/preprocessed/tic-tac-toe.csv',sep=\";\"))\n",
    "car = pd.DataFrame(pd.read_csv('../data/preprocessed/car-evaluation.csv',sep=\";\"))"
   ]
  },
  {
   "cell_type": "code",
   "execution_count": 3,
   "metadata": {},
   "outputs": [],
   "source": [
    "x_monk1 = monk1.values[:,:-1]\n",
    "y_monk1 = monk1.values[:,-1]\n",
    "\n",
    "x_monk2 = monk2.values[:,:-1]\n",
    "y_monk2 = monk2.values[:,-1]\n",
    "\n",
    "x_monk3 = monk3.values[:,:-1]\n",
    "y_monk3 = monk3.values[:,-1]\n",
    "\n",
    "x_compas1 = compas1.values[:,:-1]\n",
    "y_compas1 = compas1.values[:,-1]\n",
    "\n",
    "x_balance = balance.values[:,:-1]\n",
    "y_balance = balance.values[:,-1]\n",
    "\n",
    "x_tictactoe = tictactoe.values[:,:-1]\n",
    "y_tictactoe = tictactoe.values[:,-1]\n",
    "\n",
    "x_car = tictactoe.values[:,:-1]\n",
    "y_car = tictactoe.values[:,-1]"
   ]
  },
  {
   "cell_type": "code",
   "execution_count": 4,
   "metadata": {},
   "outputs": [],
   "source": [
    "def trees(x, y, lamb):\n",
    "    # OSDT\n",
    "    _,_,_,_,accu_OSDT = bbound(x, y, lamb, prior_metric=\"curiosity\")\n",
    "    \n",
    "    #CART\n",
    "    clf = tree.DecisionTreeClassifier(max_depth = 5, min_samples_split = math.ceil(lamb*2*len(y)), \n",
    "                                      min_samples_leaf = math.ceil(lamb*len(y)), \n",
    "                                      max_leaf_nodes = math.floor(1/(2*lamb)), \n",
    "                                      min_impurity_decrease = lamb\n",
    "                                     )\n",
    "    clf = clf.fit(x_monk1, y_monk1)\n",
    "    accu_CART = clf.score(x_monk1, y_monk1)\n",
    "    \n",
    "    return accu_OSDT, accu_CART"
   ]
  },
  {
   "cell_type": "code",
   "execution_count": 5,
   "metadata": {},
   "outputs": [],
   "source": [
    "lambs = np.arange(0.005, 0.05, 0.001)"
   ]
  },
  {
   "cell_type": "code",
   "execution_count": 11,
   "metadata": {},
   "outputs": [
    {
     "name": "stdout",
     "output_type": "stream",
     "text": [
      "nrule: 12\n",
      "ndata: 6907\n",
      "gr: [0.00438766 0.0037798  0.00481064 0.00654486 0.00818606 0.00697492\n",
      " 0.00861952 0.01958141 0.0261244  0.00328364 0.0004441  0.03628272]\n",
      "order: [11, 8, 7, 6, 4, 5, 3, 2, 0, 1, 9, 10]\n",
      "odr: [11, 8, 7, 6, 4, 5, 3, 2, 0, 1, 9, 10]\n",
      "the order of x's columns:  [11, 8, 7, 6, 4, 5, 3, 2, 0, 1, 9, 10]\n",
      ">>> log: False\n",
      ">>> support bound: True\n",
      ">>> incre_support: True\n",
      ">>> accurate support bound: True\n",
      ">>> equiv points bound: True\n",
      ">>> lookahead bound: True\n",
      "prior_metric= curiosity\n",
      "total time:  64.24375796318054\n",
      "lambda:  0.005\n",
      "leaves:  [(1,), (-7, -1), (-1, 7, 12), (-12, -3, -1, 7), (-12, -1, 3, 7)]\n",
      "num_captured:  [2174, 2898, 483, 205, 1147]\n",
      "num_captured_incorrect:  [736, 855, 164, 76, 455]\n",
      "prediction:  [1, 0, 1, 1, 0]\n",
      "Objective:  0.35596858259736497\n",
      "Accuracy:  0.669031417402635\n",
      "COUNT of the best tree:  18195\n",
      "time when the best tree is achieved:  16.36979389190674\n",
      "TOTAL COUNT:  241306\n",
      "nrule: 12\n",
      "ndata: 6907\n",
      "gr: [0.00438766 0.0037798  0.00481064 0.00654486 0.00818606 0.00697492\n",
      " 0.00861952 0.01958141 0.0261244  0.00328364 0.0004441  0.03628272]\n",
      "order: [11, 8, 7, 6, 4, 5, 3, 2, 0, 1, 9, 10]\n",
      "odr: [11, 8, 7, 6, 4, 5, 3, 2, 0, 1, 9, 10]\n",
      "the order of x's columns:  [11, 8, 7, 6, 4, 5, 3, 2, 0, 1, 9, 10]\n",
      ">>> log: False\n",
      ">>> support bound: True\n",
      ">>> incre_support: True\n",
      ">>> accurate support bound: True\n",
      ">>> equiv points bound: True\n",
      ">>> lookahead bound: True\n",
      "prior_metric= curiosity\n",
      "total time:  51.70488500595093\n",
      "lambda:  0.006\n",
      "leaves:  [(1,), (-7, -1), (-1, 7, 12), (-12, -3, -1, 7), (-12, -1, 3, 7)]\n",
      "num_captured:  [2174, 2898, 483, 205, 1147]\n",
      "num_captured_incorrect:  [736, 855, 164, 76, 455]\n",
      "prediction:  [1, 0, 1, 1, 0]\n",
      "Objective:  0.360968582597365\n",
      "Accuracy:  0.669031417402635\n",
      "COUNT of the best tree:  8563\n",
      "time when the best tree is achieved:  11.722203731536865\n",
      "TOTAL COUNT:  159805\n",
      "nrule: 12\n",
      "ndata: 6907\n",
      "gr: [0.00438766 0.0037798  0.00481064 0.00654486 0.00818606 0.00697492\n",
      " 0.00861952 0.01958141 0.0261244  0.00328364 0.0004441  0.03628272]\n",
      "order: [11, 8, 7, 6, 4, 5, 3, 2, 0, 1, 9, 10]\n",
      "odr: [11, 8, 7, 6, 4, 5, 3, 2, 0, 1, 9, 10]\n",
      "the order of x's columns:  [11, 8, 7, 6, 4, 5, 3, 2, 0, 1, 9, 10]\n",
      ">>> log: False\n",
      ">>> support bound: True\n",
      ">>> incre_support: True\n",
      ">>> accurate support bound: True\n",
      ">>> equiv points bound: True\n",
      ">>> lookahead bound: True\n",
      "prior_metric= curiosity\n",
      "total time:  41.63882088661194\n",
      "lambda:  0.007\n",
      "leaves:  [(2,), (-2, 1), (-7, -2, -1), (-2, -1, 7)]\n",
      "num_captured:  [2101, 2174, 1619, 1013]\n",
      "num_captured_incorrect:  [609, 736, 562, 426]\n",
      "prediction:  [0, 1, 0, 1]\n",
      "Objective:  0.36577327349066163\n",
      "Accuracy:  0.6622267265093384\n",
      "COUNT of the best tree:  162\n",
      "time when the best tree is achieved:  1.8666517734527588\n",
      "TOTAL COUNT:  81429\n",
      "nrule: 12\n",
      "ndata: 6907\n",
      "gr: [0.00438766 0.0037798  0.00481064 0.00654486 0.00818606 0.00697492\n",
      " 0.00861952 0.01958141 0.0261244  0.00328364 0.0004441  0.03628272]\n",
      "order: [11, 8, 7, 6, 4, 5, 3, 2, 0, 1, 9, 10]\n",
      "odr: [11, 8, 7, 6, 4, 5, 3, 2, 0, 1, 9, 10]\n",
      "the order of x's columns:  [11, 8, 7, 6, 4, 5, 3, 2, 0, 1, 9, 10]\n",
      ">>> log: False\n",
      ">>> support bound: True\n",
      ">>> incre_support: True\n",
      ">>> accurate support bound: True\n",
      ">>> equiv points bound: True\n",
      ">>> lookahead bound: True\n",
      "prior_metric= curiosity\n",
      "total time:  31.672767877578735\n",
      "lambda:  0.008\n",
      "leaves:  [(1,), (-3, -1), (-1, 3)]\n",
      "num_captured:  [2174, 414, 4319]\n",
      "num_captured_incorrect:  [736, 151, 1495]\n",
      "prediction:  [1, 1, 0]\n",
      "Objective:  0.3688675256985667\n",
      "Accuracy:  0.6551324743014333\n",
      "COUNT of the best tree:  5053\n",
      "time when the best tree is achieved:  4.892010927200317\n",
      "TOTAL COUNT:  40881\n",
      "nrule: 12\n",
      "ndata: 6907\n",
      "gr: [0.00438766 0.0037798  0.00481064 0.00654486 0.00818606 0.00697492\n",
      " 0.00861952 0.01958141 0.0261244  0.00328364 0.0004441  0.03628272]\n",
      "order: [11, 8, 7, 6, 4, 5, 3, 2, 0, 1, 9, 10]\n",
      "odr: [11, 8, 7, 6, 4, 5, 3, 2, 0, 1, 9, 10]\n",
      "the order of x's columns:  [11, 8, 7, 6, 4, 5, 3, 2, 0, 1, 9, 10]\n",
      ">>> log: False\n",
      ">>> support bound: True\n",
      ">>> incre_support: True\n",
      ">>> accurate support bound: True\n",
      ">>> equiv points bound: True\n",
      ">>> lookahead bound: True\n",
      "prior_metric= curiosity\n",
      "total time:  23.718290090560913\n",
      "lambda:  0.009000000000000001\n",
      "leaves:  [(1,), (-3, -1), (-1, 3)]\n",
      "num_captured:  [2174, 414, 4319]\n",
      "num_captured_incorrect:  [736, 151, 1495]\n",
      "prediction:  [1, 1, 0]\n",
      "Objective:  0.3718675256985667\n",
      "Accuracy:  0.6551324743014333\n",
      "COUNT of the best tree:  4146\n",
      "time when the best tree is achieved:  5.738808870315552\n",
      "TOTAL COUNT:  26303\n",
      "nrule: 12\n",
      "ndata: 6907\n",
      "gr: [0.00438766 0.0037798  0.00481064 0.00654486 0.00818606 0.00697492\n",
      " 0.00861952 0.01958141 0.0261244  0.00328364 0.0004441  0.03628272]\n",
      "order: [11, 8, 7, 6, 4, 5, 3, 2, 0, 1, 9, 10]\n",
      "odr: [11, 8, 7, 6, 4, 5, 3, 2, 0, 1, 9, 10]\n",
      "the order of x's columns:  [11, 8, 7, 6, 4, 5, 3, 2, 0, 1, 9, 10]\n",
      ">>> log: False\n",
      ">>> support bound: True\n",
      ">>> incre_support: True\n",
      ">>> accurate support bound: True\n",
      ">>> equiv points bound: True\n",
      ">>> lookahead bound: True\n",
      "prior_metric= curiosity\n",
      "total time:  19.7284197807312\n",
      "lambda:  0.01\n",
      "leaves:  [(1,), (-3, -1), (-1, 3)]\n",
      "num_captured:  [2174, 414, 4319]\n",
      "num_captured_incorrect:  [736, 151, 1495]\n",
      "prediction:  [1, 1, 0]\n",
      "Objective:  0.37486752569856663\n",
      "Accuracy:  0.6551324743014334\n",
      "COUNT of the best tree:  3601\n",
      "time when the best tree is achieved:  4.535968065261841\n",
      "TOTAL COUNT:  20646\n",
      "nrule: 12\n",
      "ndata: 6907\n",
      "gr: [0.00438766 0.0037798  0.00481064 0.00654486 0.00818606 0.00697492\n",
      " 0.00861952 0.01958141 0.0261244  0.00328364 0.0004441  0.03628272]\n",
      "order: [11, 8, 7, 6, 4, 5, 3, 2, 0, 1, 9, 10]\n",
      "odr: [11, 8, 7, 6, 4, 5, 3, 2, 0, 1, 9, 10]\n",
      "the order of x's columns:  [11, 8, 7, 6, 4, 5, 3, 2, 0, 1, 9, 10]\n",
      ">>> log: False\n",
      ">>> support bound: True\n",
      ">>> incre_support: True\n",
      ">>> accurate support bound: True\n",
      ">>> equiv points bound: True\n",
      ">>> lookahead bound: True\n",
      "prior_metric= curiosity\n",
      "total time:  16.37256097793579\n",
      "lambda:  0.011\n",
      "leaves:  [(1,), (-3, -1), (-1, 3)]\n",
      "num_captured:  [2174, 414, 4319]\n",
      "num_captured_incorrect:  [736, 151, 1495]\n",
      "prediction:  [1, 1, 0]\n",
      "Objective:  0.37786752569856663\n",
      "Accuracy:  0.6551324743014334\n",
      "COUNT of the best tree:  3352\n",
      "time when the best tree is achieved:  4.614931106567383\n",
      "TOTAL COUNT:  9481\n",
      "nrule: 12\n",
      "ndata: 6907\n",
      "gr: [0.00438766 0.0037798  0.00481064 0.00654486 0.00818606 0.00697492\n",
      " 0.00861952 0.01958141 0.0261244  0.00328364 0.0004441  0.03628272]\n",
      "order: [11, 8, 7, 6, 4, 5, 3, 2, 0, 1, 9, 10]\n",
      "odr: [11, 8, 7, 6, 4, 5, 3, 2, 0, 1, 9, 10]\n",
      "the order of x's columns:  [11, 8, 7, 6, 4, 5, 3, 2, 0, 1, 9, 10]\n",
      ">>> log: False\n",
      ">>> support bound: True\n",
      ">>> incre_support: True\n",
      ">>> accurate support bound: True\n",
      ">>> equiv points bound: True\n",
      ">>> lookahead bound: True\n",
      "prior_metric= curiosity\n",
      "total time:  12.877187013626099\n",
      "lambda:  0.012\n",
      "leaves:  [(1,), (-3, -1), (-1, 3)]\n",
      "num_captured:  [2174, 414, 4319]\n",
      "num_captured_incorrect:  [736, 151, 1495]\n",
      "prediction:  [1, 1, 0]\n",
      "Objective:  0.38086752569856663\n",
      "Accuracy:  0.6551324743014334\n",
      "COUNT of the best tree:  299\n",
      "time when the best tree is achieved:  3.1582350730895996\n",
      "TOTAL COUNT:  6185\n",
      "nrule: 12\n",
      "ndata: 6907\n",
      "gr: [0.00438766 0.0037798  0.00481064 0.00654486 0.00818606 0.00697492\n",
      " 0.00861952 0.01958141 0.0261244  0.00328364 0.0004441  0.03628272]\n",
      "order: [11, 8, 7, 6, 4, 5, 3, 2, 0, 1, 9, 10]\n",
      "odr: [11, 8, 7, 6, 4, 5, 3, 2, 0, 1, 9, 10]\n",
      "the order of x's columns:  [11, 8, 7, 6, 4, 5, 3, 2, 0, 1, 9, 10]\n",
      ">>> log: False\n",
      ">>> support bound: True\n",
      ">>> incre_support: True\n",
      ">>> accurate support bound: True\n",
      ">>> equiv points bound: True\n",
      ">>> lookahead bound: True\n",
      "prior_metric= curiosity\n",
      "total time:  12.398563146591187\n",
      "lambda:  0.013000000000000001\n",
      "leaves:  [(1,), (-3, -1), (-1, 3)]\n",
      "num_captured:  [2174, 414, 4319]\n",
      "num_captured_incorrect:  [736, 151, 1495]\n",
      "prediction:  [1, 1, 0]\n",
      "Objective:  0.38386752569856664\n",
      "Accuracy:  0.6551324743014334\n",
      "COUNT of the best tree:  252\n",
      "time when the best tree is achieved:  2.8097848892211914\n",
      "TOTAL COUNT:  5705\n",
      "nrule: 12\n",
      "ndata: 6907\n",
      "gr: [0.00438766 0.0037798  0.00481064 0.00654486 0.00818606 0.00697492\n",
      " 0.00861952 0.01958141 0.0261244  0.00328364 0.0004441  0.03628272]\n",
      "order: [11, 8, 7, 6, 4, 5, 3, 2, 0, 1, 9, 10]\n",
      "odr: [11, 8, 7, 6, 4, 5, 3, 2, 0, 1, 9, 10]\n",
      "the order of x's columns:  [11, 8, 7, 6, 4, 5, 3, 2, 0, 1, 9, 10]\n",
      ">>> log: False\n",
      ">>> support bound: True\n",
      ">>> incre_support: True\n",
      ">>> accurate support bound: True\n",
      ">>> equiv points bound: True\n",
      ">>> lookahead bound: True\n",
      "prior_metric= curiosity\n",
      "total time:  11.311974048614502\n",
      "lambda:  0.014000000000000002\n",
      "leaves:  [(1,), (-3, -1), (-1, 3)]\n",
      "num_captured:  [2174, 414, 4319]\n",
      "num_captured_incorrect:  [736, 151, 1495]\n",
      "prediction:  [1, 1, 0]\n",
      "Objective:  0.38686752569856664\n",
      "Accuracy:  0.6551324743014334\n",
      "COUNT of the best tree:  248\n",
      "time when the best tree is achieved:  2.7102699279785156\n",
      "TOTAL COUNT:  5326\n",
      "nrule: 12\n",
      "ndata: 6907\n",
      "gr: [0.00438766 0.0037798  0.00481064 0.00654486 0.00818606 0.00697492\n",
      " 0.00861952 0.01958141 0.0261244  0.00328364 0.0004441  0.03628272]\n",
      "order: [11, 8, 7, 6, 4, 5, 3, 2, 0, 1, 9, 10]\n",
      "odr: [11, 8, 7, 6, 4, 5, 3, 2, 0, 1, 9, 10]\n",
      "the order of x's columns:  [11, 8, 7, 6, 4, 5, 3, 2, 0, 1, 9, 10]\n"
     ]
    },
    {
     "name": "stdout",
     "output_type": "stream",
     "text": [
      ">>> log: False\n",
      ">>> support bound: True\n",
      ">>> incre_support: True\n",
      ">>> accurate support bound: True\n",
      ">>> equiv points bound: True\n",
      ">>> lookahead bound: True\n",
      "prior_metric= curiosity\n",
      "total time:  10.653378963470459\n",
      "lambda:  0.015\n",
      "leaves:  [(1,), (-3, -1), (-1, 3)]\n",
      "num_captured:  [2174, 414, 4319]\n",
      "num_captured_incorrect:  [736, 151, 1495]\n",
      "prediction:  [1, 1, 0]\n",
      "Objective:  0.38986752569856664\n",
      "Accuracy:  0.6551324743014333\n",
      "COUNT of the best tree:  195\n",
      "time when the best tree is achieved:  2.312241792678833\n",
      "TOTAL COUNT:  4886\n",
      "nrule: 12\n",
      "ndata: 6907\n",
      "gr: [0.00438766 0.0037798  0.00481064 0.00654486 0.00818606 0.00697492\n",
      " 0.00861952 0.01958141 0.0261244  0.00328364 0.0004441  0.03628272]\n",
      "order: [11, 8, 7, 6, 4, 5, 3, 2, 0, 1, 9, 10]\n",
      "odr: [11, 8, 7, 6, 4, 5, 3, 2, 0, 1, 9, 10]\n",
      "the order of x's columns:  [11, 8, 7, 6, 4, 5, 3, 2, 0, 1, 9, 10]\n",
      ">>> log: False\n",
      ">>> support bound: True\n",
      ">>> incre_support: True\n",
      ">>> accurate support bound: True\n",
      ">>> equiv points bound: True\n",
      ">>> lookahead bound: True\n",
      "prior_metric= curiosity\n",
      "total time:  10.263014793395996\n",
      "lambda:  0.016\n",
      "leaves:  [(1,), (-3, -1), (-1, 3)]\n",
      "num_captured:  [2174, 414, 4319]\n",
      "num_captured_incorrect:  [736, 151, 1495]\n",
      "prediction:  [1, 1, 0]\n",
      "Objective:  0.39286752569856664\n",
      "Accuracy:  0.6551324743014333\n",
      "COUNT of the best tree:  167\n",
      "time when the best tree is achieved:  2.045332908630371\n",
      "TOTAL COUNT:  4531\n",
      "nrule: 12\n",
      "ndata: 6907\n",
      "gr: [0.00438766 0.0037798  0.00481064 0.00654486 0.00818606 0.00697492\n",
      " 0.00861952 0.01958141 0.0261244  0.00328364 0.0004441  0.03628272]\n",
      "order: [11, 8, 7, 6, 4, 5, 3, 2, 0, 1, 9, 10]\n",
      "odr: [11, 8, 7, 6, 4, 5, 3, 2, 0, 1, 9, 10]\n",
      "the order of x's columns:  [11, 8, 7, 6, 4, 5, 3, 2, 0, 1, 9, 10]\n",
      ">>> log: False\n",
      ">>> support bound: True\n",
      ">>> incre_support: True\n",
      ">>> accurate support bound: True\n",
      ">>> equiv points bound: True\n",
      ">>> lookahead bound: True\n",
      "prior_metric= curiosity\n",
      "total time:  6.910722255706787\n",
      "lambda:  0.017\n",
      "leaves:  [(-1,), (1,)]\n",
      "num_captured:  [4733, 2174]\n",
      "num_captured_incorrect:  [1758, 736]\n",
      "prediction:  [0, 1]\n",
      "Objective:  0.3950829593166353\n",
      "Accuracy:  0.6389170406833647\n",
      "COUNT of the best tree:  1\n",
      "time when the best tree is achieved:  0.040549278259277344\n",
      "TOTAL COUNT:  3728\n",
      "nrule: 12\n",
      "ndata: 6907\n",
      "gr: [0.00438766 0.0037798  0.00481064 0.00654486 0.00818606 0.00697492\n",
      " 0.00861952 0.01958141 0.0261244  0.00328364 0.0004441  0.03628272]\n",
      "order: [11, 8, 7, 6, 4, 5, 3, 2, 0, 1, 9, 10]\n",
      "odr: [11, 8, 7, 6, 4, 5, 3, 2, 0, 1, 9, 10]\n",
      "the order of x's columns:  [11, 8, 7, 6, 4, 5, 3, 2, 0, 1, 9, 10]\n",
      ">>> log: False\n",
      ">>> support bound: True\n",
      ">>> incre_support: True\n",
      ">>> accurate support bound: True\n",
      ">>> equiv points bound: True\n",
      ">>> lookahead bound: True\n",
      "prior_metric= curiosity\n",
      "total time:  5.596812009811401\n",
      "lambda:  0.018000000000000002\n",
      "leaves:  [(-1,), (1,)]\n",
      "num_captured:  [4733, 2174]\n",
      "num_captured_incorrect:  [1758, 736]\n",
      "prediction:  [0, 1]\n",
      "Objective:  0.3970829593166353\n",
      "Accuracy:  0.6389170406833647\n",
      "COUNT of the best tree:  1\n",
      "time when the best tree is achieved:  0.040585994720458984\n",
      "TOTAL COUNT:  3190\n",
      "nrule: 12\n",
      "ndata: 6907\n",
      "gr: [0.00438766 0.0037798  0.00481064 0.00654486 0.00818606 0.00697492\n",
      " 0.00861952 0.01958141 0.0261244  0.00328364 0.0004441  0.03628272]\n",
      "order: [11, 8, 7, 6, 4, 5, 3, 2, 0, 1, 9, 10]\n",
      "odr: [11, 8, 7, 6, 4, 5, 3, 2, 0, 1, 9, 10]\n",
      "the order of x's columns:  [11, 8, 7, 6, 4, 5, 3, 2, 0, 1, 9, 10]\n",
      ">>> log: False\n",
      ">>> support bound: True\n",
      ">>> incre_support: True\n",
      ">>> accurate support bound: True\n",
      ">>> equiv points bound: True\n",
      ">>> lookahead bound: True\n",
      "prior_metric= curiosity\n",
      "total time:  4.704674959182739\n",
      "lambda:  0.019\n",
      "leaves:  [(-1,), (1,)]\n",
      "num_captured:  [4733, 2174]\n",
      "num_captured_incorrect:  [1758, 736]\n",
      "prediction:  [0, 1]\n",
      "Objective:  0.39908295931663523\n",
      "Accuracy:  0.6389170406833647\n",
      "COUNT of the best tree:  1\n",
      "time when the best tree is achieved:  0.044805049896240234\n",
      "TOTAL COUNT:  2862\n",
      "nrule: 12\n",
      "ndata: 6907\n",
      "gr: [0.00438766 0.0037798  0.00481064 0.00654486 0.00818606 0.00697492\n",
      " 0.00861952 0.01958141 0.0261244  0.00328364 0.0004441  0.03628272]\n",
      "order: [11, 8, 7, 6, 4, 5, 3, 2, 0, 1, 9, 10]\n",
      "odr: [11, 8, 7, 6, 4, 5, 3, 2, 0, 1, 9, 10]\n",
      "the order of x's columns:  [11, 8, 7, 6, 4, 5, 3, 2, 0, 1, 9, 10]\n",
      ">>> log: False\n",
      ">>> support bound: True\n",
      ">>> incre_support: True\n",
      ">>> accurate support bound: True\n",
      ">>> equiv points bound: True\n",
      ">>> lookahead bound: True\n",
      "prior_metric= curiosity\n",
      "total time:  3.3249921798706055\n",
      "lambda:  0.02\n",
      "leaves:  [(-1,), (1,)]\n",
      "num_captured:  [4733, 2174]\n",
      "num_captured_incorrect:  [1758, 736]\n",
      "prediction:  [0, 1]\n",
      "Objective:  0.40108295931663523\n",
      "Accuracy:  0.6389170406833647\n",
      "COUNT of the best tree:  1\n",
      "time when the best tree is achieved:  0.04420137405395508\n",
      "TOTAL COUNT:  316\n",
      "nrule: 12\n",
      "ndata: 6907\n",
      "gr: [0.00438766 0.0037798  0.00481064 0.00654486 0.00818606 0.00697492\n",
      " 0.00861952 0.01958141 0.0261244  0.00328364 0.0004441  0.03628272]\n",
      "order: [11, 8, 7, 6, 4, 5, 3, 2, 0, 1, 9, 10]\n",
      "odr: [11, 8, 7, 6, 4, 5, 3, 2, 0, 1, 9, 10]\n",
      "the order of x's columns:  [11, 8, 7, 6, 4, 5, 3, 2, 0, 1, 9, 10]\n",
      ">>> log: False\n",
      ">>> support bound: True\n",
      ">>> incre_support: True\n",
      ">>> accurate support bound: True\n",
      ">>> equiv points bound: True\n",
      ">>> lookahead bound: True\n",
      "prior_metric= curiosity\n",
      "total time:  2.9531142711639404\n",
      "lambda:  0.021\n",
      "leaves:  [(-1,), (1,)]\n",
      "num_captured:  [4733, 2174]\n",
      "num_captured_incorrect:  [1758, 736]\n",
      "prediction:  [0, 1]\n",
      "Objective:  0.40308295931663524\n",
      "Accuracy:  0.6389170406833647\n",
      "COUNT of the best tree:  1\n",
      "time when the best tree is achieved:  0.04223012924194336\n",
      "TOTAL COUNT:  291\n",
      "nrule: 12\n",
      "ndata: 6907\n",
      "gr: [0.00438766 0.0037798  0.00481064 0.00654486 0.00818606 0.00697492\n",
      " 0.00861952 0.01958141 0.0261244  0.00328364 0.0004441  0.03628272]\n",
      "order: [11, 8, 7, 6, 4, 5, 3, 2, 0, 1, 9, 10]\n",
      "odr: [11, 8, 7, 6, 4, 5, 3, 2, 0, 1, 9, 10]\n",
      "the order of x's columns:  [11, 8, 7, 6, 4, 5, 3, 2, 0, 1, 9, 10]\n",
      ">>> log: False\n",
      ">>> support bound: True\n",
      ">>> incre_support: True\n",
      ">>> accurate support bound: True\n",
      ">>> equiv points bound: True\n",
      ">>> lookahead bound: True\n",
      "prior_metric= curiosity\n",
      "total time:  3.2589728832244873\n",
      "lambda:  0.022000000000000002\n",
      "leaves:  [(-1,), (1,)]\n",
      "num_captured:  [4733, 2174]\n",
      "num_captured_incorrect:  [1758, 736]\n",
      "prediction:  [0, 1]\n",
      "Objective:  0.40508295931663524\n",
      "Accuracy:  0.6389170406833647\n",
      "COUNT of the best tree:  1\n",
      "time when the best tree is achieved:  0.04673194885253906\n",
      "TOTAL COUNT:  289\n",
      "nrule: 12\n",
      "ndata: 6907\n",
      "gr: [0.00438766 0.0037798  0.00481064 0.00654486 0.00818606 0.00697492\n",
      " 0.00861952 0.01958141 0.0261244  0.00328364 0.0004441  0.03628272]\n",
      "order: [11, 8, 7, 6, 4, 5, 3, 2, 0, 1, 9, 10]\n",
      "odr: [11, 8, 7, 6, 4, 5, 3, 2, 0, 1, 9, 10]\n",
      "the order of x's columns:  [11, 8, 7, 6, 4, 5, 3, 2, 0, 1, 9, 10]\n",
      ">>> log: False\n",
      ">>> support bound: True\n",
      ">>> incre_support: True\n",
      ">>> accurate support bound: True\n",
      ">>> equiv points bound: True\n",
      ">>> lookahead bound: True\n",
      "prior_metric= curiosity\n",
      "total time:  3.171003818511963\n",
      "lambda:  0.023000000000000003\n",
      "leaves:  [(-1,), (1,)]\n",
      "num_captured:  [4733, 2174]\n",
      "num_captured_incorrect:  [1758, 736]\n",
      "prediction:  [0, 1]\n",
      "Objective:  0.40708295931663524\n",
      "Accuracy:  0.6389170406833647\n",
      "COUNT of the best tree:  1\n",
      "time when the best tree is achieved:  0.04925107955932617\n",
      "TOTAL COUNT:  258\n",
      "nrule: 12\n",
      "ndata: 6907\n",
      "gr: [0.00438766 0.0037798  0.00481064 0.00654486 0.00818606 0.00697492\n",
      " 0.00861952 0.01958141 0.0261244  0.00328364 0.0004441  0.03628272]\n",
      "order: [11, 8, 7, 6, 4, 5, 3, 2, 0, 1, 9, 10]\n",
      "odr: [11, 8, 7, 6, 4, 5, 3, 2, 0, 1, 9, 10]\n",
      "the order of x's columns:  [11, 8, 7, 6, 4, 5, 3, 2, 0, 1, 9, 10]\n",
      ">>> log: False\n",
      ">>> support bound: True\n",
      ">>> incre_support: True\n",
      ">>> accurate support bound: True\n",
      ">>> equiv points bound: True\n",
      ">>> lookahead bound: True\n",
      "prior_metric= curiosity\n",
      "total time:  2.976749897003174\n",
      "lambda:  0.024\n",
      "leaves:  [(-1,), (1,)]\n",
      "num_captured:  [4733, 2174]\n",
      "num_captured_incorrect:  [1758, 736]\n",
      "prediction:  [0, 1]\n",
      "Objective:  0.40908295931663524\n",
      "Accuracy:  0.6389170406833647\n",
      "COUNT of the best tree:  1\n",
      "time when the best tree is achieved:  0.04334378242492676\n",
      "TOTAL COUNT:  256\n",
      "nrule: 12\n",
      "ndata: 6907\n",
      "gr: [0.00438766 0.0037798  0.00481064 0.00654486 0.00818606 0.00697492\n",
      " 0.00861952 0.01958141 0.0261244  0.00328364 0.0004441  0.03628272]\n",
      "order: [11, 8, 7, 6, 4, 5, 3, 2, 0, 1, 9, 10]\n",
      "odr: [11, 8, 7, 6, 4, 5, 3, 2, 0, 1, 9, 10]\n",
      "the order of x's columns:  [11, 8, 7, 6, 4, 5, 3, 2, 0, 1, 9, 10]\n"
     ]
    },
    {
     "name": "stdout",
     "output_type": "stream",
     "text": [
      ">>> log: False\n",
      ">>> support bound: True\n",
      ">>> incre_support: True\n",
      ">>> accurate support bound: True\n",
      ">>> equiv points bound: True\n",
      ">>> lookahead bound: True\n",
      "prior_metric= curiosity\n",
      "total time:  2.887460231781006\n",
      "lambda:  0.025\n",
      "leaves:  [(-1,), (1,)]\n",
      "num_captured:  [4733, 2174]\n",
      "num_captured_incorrect:  [1758, 736]\n",
      "prediction:  [0, 1]\n",
      "Objective:  0.41108295931663524\n",
      "Accuracy:  0.6389170406833647\n",
      "COUNT of the best tree:  1\n",
      "time when the best tree is achieved:  0.047263145446777344\n",
      "TOTAL COUNT:  256\n",
      "nrule: 12\n",
      "ndata: 6907\n",
      "gr: [0.00438766 0.0037798  0.00481064 0.00654486 0.00818606 0.00697492\n",
      " 0.00861952 0.01958141 0.0261244  0.00328364 0.0004441  0.03628272]\n",
      "order: [11, 8, 7, 6, 4, 5, 3, 2, 0, 1, 9, 10]\n",
      "odr: [11, 8, 7, 6, 4, 5, 3, 2, 0, 1, 9, 10]\n",
      "the order of x's columns:  [11, 8, 7, 6, 4, 5, 3, 2, 0, 1, 9, 10]\n",
      ">>> log: False\n",
      ">>> support bound: True\n",
      ">>> incre_support: True\n",
      ">>> accurate support bound: True\n",
      ">>> equiv points bound: True\n",
      ">>> lookahead bound: True\n",
      "prior_metric= curiosity\n",
      "total time:  2.8221302032470703\n",
      "lambda:  0.026000000000000002\n",
      "leaves:  [(-1,), (1,)]\n",
      "num_captured:  [4733, 2174]\n",
      "num_captured_incorrect:  [1758, 736]\n",
      "prediction:  [0, 1]\n",
      "Objective:  0.41308295931663525\n",
      "Accuracy:  0.6389170406833647\n",
      "COUNT of the best tree:  1\n",
      "time when the best tree is achieved:  0.044158935546875\n",
      "TOTAL COUNT:  253\n",
      "nrule: 12\n",
      "ndata: 6907\n",
      "gr: [0.00438766 0.0037798  0.00481064 0.00654486 0.00818606 0.00697492\n",
      " 0.00861952 0.01958141 0.0261244  0.00328364 0.0004441  0.03628272]\n",
      "order: [11, 8, 7, 6, 4, 5, 3, 2, 0, 1, 9, 10]\n",
      "odr: [11, 8, 7, 6, 4, 5, 3, 2, 0, 1, 9, 10]\n",
      "the order of x's columns:  [11, 8, 7, 6, 4, 5, 3, 2, 0, 1, 9, 10]\n",
      ">>> log: False\n",
      ">>> support bound: True\n",
      ">>> incre_support: True\n",
      ">>> accurate support bound: True\n",
      ">>> equiv points bound: True\n",
      ">>> lookahead bound: True\n",
      "prior_metric= curiosity\n",
      "total time:  2.9473671913146973\n",
      "lambda:  0.027\n",
      "leaves:  [(-1,), (1,)]\n",
      "num_captured:  [4733, 2174]\n",
      "num_captured_incorrect:  [1758, 736]\n",
      "prediction:  [0, 1]\n",
      "Objective:  0.41508295931663525\n",
      "Accuracy:  0.6389170406833647\n",
      "COUNT of the best tree:  1\n",
      "time when the best tree is achieved:  0.04298901557922363\n",
      "TOTAL COUNT:  253\n",
      "nrule: 12\n",
      "ndata: 6907\n",
      "gr: [0.00438766 0.0037798  0.00481064 0.00654486 0.00818606 0.00697492\n",
      " 0.00861952 0.01958141 0.0261244  0.00328364 0.0004441  0.03628272]\n",
      "order: [11, 8, 7, 6, 4, 5, 3, 2, 0, 1, 9, 10]\n",
      "odr: [11, 8, 7, 6, 4, 5, 3, 2, 0, 1, 9, 10]\n",
      "the order of x's columns:  [11, 8, 7, 6, 4, 5, 3, 2, 0, 1, 9, 10]\n",
      ">>> log: False\n",
      ">>> support bound: True\n",
      ">>> incre_support: True\n",
      ">>> accurate support bound: True\n",
      ">>> equiv points bound: True\n",
      ">>> lookahead bound: True\n",
      "prior_metric= curiosity\n",
      "total time:  2.823004961013794\n",
      "lambda:  0.028\n",
      "leaves:  [(-1,), (1,)]\n",
      "num_captured:  [4733, 2174]\n",
      "num_captured_incorrect:  [1758, 736]\n",
      "prediction:  [0, 1]\n",
      "Objective:  0.41708295931663525\n",
      "Accuracy:  0.6389170406833647\n",
      "COUNT of the best tree:  1\n",
      "time when the best tree is achieved:  0.04328274726867676\n",
      "TOTAL COUNT:  253\n",
      "nrule: 12\n",
      "ndata: 6907\n",
      "gr: [0.00438766 0.0037798  0.00481064 0.00654486 0.00818606 0.00697492\n",
      " 0.00861952 0.01958141 0.0261244  0.00328364 0.0004441  0.03628272]\n",
      "order: [11, 8, 7, 6, 4, 5, 3, 2, 0, 1, 9, 10]\n",
      "odr: [11, 8, 7, 6, 4, 5, 3, 2, 0, 1, 9, 10]\n",
      "the order of x's columns:  [11, 8, 7, 6, 4, 5, 3, 2, 0, 1, 9, 10]\n",
      ">>> log: False\n",
      ">>> support bound: True\n",
      ">>> incre_support: True\n",
      ">>> accurate support bound: True\n",
      ">>> equiv points bound: True\n",
      ">>> lookahead bound: True\n",
      "prior_metric= curiosity\n",
      "total time:  2.8102667331695557\n",
      "lambda:  0.029\n",
      "leaves:  [(-1,), (1,)]\n",
      "num_captured:  [4733, 2174]\n",
      "num_captured_incorrect:  [1758, 736]\n",
      "prediction:  [0, 1]\n",
      "Objective:  0.41908295931663525\n",
      "Accuracy:  0.6389170406833647\n",
      "COUNT of the best tree:  1\n",
      "time when the best tree is achieved:  0.04430890083312988\n",
      "TOTAL COUNT:  252\n",
      "nrule: 12\n",
      "ndata: 6907\n",
      "gr: [0.00438766 0.0037798  0.00481064 0.00654486 0.00818606 0.00697492\n",
      " 0.00861952 0.01958141 0.0261244  0.00328364 0.0004441  0.03628272]\n",
      "order: [11, 8, 7, 6, 4, 5, 3, 2, 0, 1, 9, 10]\n",
      "odr: [11, 8, 7, 6, 4, 5, 3, 2, 0, 1, 9, 10]\n",
      "the order of x's columns:  [11, 8, 7, 6, 4, 5, 3, 2, 0, 1, 9, 10]\n",
      ">>> log: False\n",
      ">>> support bound: True\n",
      ">>> incre_support: True\n",
      ">>> accurate support bound: True\n",
      ">>> equiv points bound: True\n",
      ">>> lookahead bound: True\n",
      "prior_metric= curiosity\n",
      "total time:  2.1558079719543457\n",
      "lambda:  0.030000000000000002\n",
      "leaves:  [(-1,), (1,)]\n",
      "num_captured:  [4733, 2174]\n",
      "num_captured_incorrect:  [1758, 736]\n",
      "prediction:  [0, 1]\n",
      "Objective:  0.42108295931663525\n",
      "Accuracy:  0.6389170406833647\n",
      "COUNT of the best tree:  1\n",
      "time when the best tree is achieved:  0.041131019592285156\n",
      "TOTAL COUNT:  191\n",
      "nrule: 12\n",
      "ndata: 6907\n",
      "gr: [0.00438766 0.0037798  0.00481064 0.00654486 0.00818606 0.00697492\n",
      " 0.00861952 0.01958141 0.0261244  0.00328364 0.0004441  0.03628272]\n",
      "order: [11, 8, 7, 6, 4, 5, 3, 2, 0, 1, 9, 10]\n",
      "odr: [11, 8, 7, 6, 4, 5, 3, 2, 0, 1, 9, 10]\n",
      "the order of x's columns:  [11, 8, 7, 6, 4, 5, 3, 2, 0, 1, 9, 10]\n",
      ">>> log: False\n",
      ">>> support bound: True\n",
      ">>> incre_support: True\n",
      ">>> accurate support bound: True\n",
      ">>> equiv points bound: True\n",
      ">>> lookahead bound: True\n",
      "prior_metric= curiosity\n",
      "total time:  2.1662468910217285\n",
      "lambda:  0.031000000000000003\n",
      "leaves:  [(-1,), (1,)]\n",
      "num_captured:  [4733, 2174]\n",
      "num_captured_incorrect:  [1758, 736]\n",
      "prediction:  [0, 1]\n",
      "Objective:  0.42308295931663525\n",
      "Accuracy:  0.6389170406833647\n",
      "COUNT of the best tree:  1\n",
      "time when the best tree is achieved:  0.044564008712768555\n",
      "TOTAL COUNT:  189\n",
      "nrule: 12\n",
      "ndata: 6907\n",
      "gr: [0.00438766 0.0037798  0.00481064 0.00654486 0.00818606 0.00697492\n",
      " 0.00861952 0.01958141 0.0261244  0.00328364 0.0004441  0.03628272]\n",
      "order: [11, 8, 7, 6, 4, 5, 3, 2, 0, 1, 9, 10]\n",
      "odr: [11, 8, 7, 6, 4, 5, 3, 2, 0, 1, 9, 10]\n",
      "the order of x's columns:  [11, 8, 7, 6, 4, 5, 3, 2, 0, 1, 9, 10]\n",
      ">>> log: False\n",
      ">>> support bound: True\n",
      ">>> incre_support: True\n",
      ">>> accurate support bound: True\n",
      ">>> equiv points bound: True\n",
      ">>> lookahead bound: True\n",
      "prior_metric= curiosity\n",
      "total time:  2.188387870788574\n",
      "lambda:  0.032\n",
      "leaves:  [(-1,), (1,)]\n",
      "num_captured:  [4733, 2174]\n",
      "num_captured_incorrect:  [1758, 736]\n",
      "prediction:  [0, 1]\n",
      "Objective:  0.42508295931663526\n",
      "Accuracy:  0.6389170406833647\n",
      "COUNT of the best tree:  1\n",
      "time when the best tree is achieved:  0.04622602462768555\n",
      "TOTAL COUNT:  189\n",
      "nrule: 12\n",
      "ndata: 6907\n",
      "gr: [0.00438766 0.0037798  0.00481064 0.00654486 0.00818606 0.00697492\n",
      " 0.00861952 0.01958141 0.0261244  0.00328364 0.0004441  0.03628272]\n",
      "order: [11, 8, 7, 6, 4, 5, 3, 2, 0, 1, 9, 10]\n",
      "odr: [11, 8, 7, 6, 4, 5, 3, 2, 0, 1, 9, 10]\n",
      "the order of x's columns:  [11, 8, 7, 6, 4, 5, 3, 2, 0, 1, 9, 10]\n",
      ">>> log: False\n",
      ">>> support bound: True\n",
      ">>> incre_support: True\n",
      ">>> accurate support bound: True\n",
      ">>> equiv points bound: True\n",
      ">>> lookahead bound: True\n",
      "prior_metric= curiosity\n",
      "total time:  1.9008769989013672\n",
      "lambda:  0.033\n",
      "leaves:  [(-1,), (1,)]\n",
      "num_captured:  [4733, 2174]\n",
      "num_captured_incorrect:  [1758, 736]\n",
      "prediction:  [0, 1]\n",
      "Objective:  0.42708295931663526\n",
      "Accuracy:  0.6389170406833647\n",
      "COUNT of the best tree:  1\n",
      "time when the best tree is achieved:  0.042552947998046875\n",
      "TOTAL COUNT:  158\n",
      "nrule: 12\n",
      "ndata: 6907\n",
      "gr: [0.00438766 0.0037798  0.00481064 0.00654486 0.00818606 0.00697492\n",
      " 0.00861952 0.01958141 0.0261244  0.00328364 0.0004441  0.03628272]\n",
      "order: [11, 8, 7, 6, 4, 5, 3, 2, 0, 1, 9, 10]\n",
      "odr: [11, 8, 7, 6, 4, 5, 3, 2, 0, 1, 9, 10]\n",
      "the order of x's columns:  [11, 8, 7, 6, 4, 5, 3, 2, 0, 1, 9, 10]\n",
      ">>> log: False\n",
      ">>> support bound: True\n",
      ">>> incre_support: True\n",
      ">>> accurate support bound: True\n",
      ">>> equiv points bound: True\n",
      ">>> lookahead bound: True\n",
      "prior_metric= curiosity\n",
      "total time:  1.6120831966400146\n",
      "lambda:  0.034\n",
      "leaves:  [(-1,), (1,)]\n",
      "num_captured:  [4733, 2174]\n",
      "num_captured_incorrect:  [1758, 736]\n",
      "prediction:  [0, 1]\n",
      "Objective:  0.42908295931663526\n",
      "Accuracy:  0.6389170406833647\n",
      "COUNT of the best tree:  1\n",
      "time when the best tree is achieved:  0.0415349006652832\n",
      "TOTAL COUNT:  133\n",
      "nrule: 12\n",
      "ndata: 6907\n",
      "gr: [0.00438766 0.0037798  0.00481064 0.00654486 0.00818606 0.00697492\n",
      " 0.00861952 0.01958141 0.0261244  0.00328364 0.0004441  0.03628272]\n",
      "order: [11, 8, 7, 6, 4, 5, 3, 2, 0, 1, 9, 10]\n",
      "odr: [11, 8, 7, 6, 4, 5, 3, 2, 0, 1, 9, 10]\n",
      "the order of x's columns:  [11, 8, 7, 6, 4, 5, 3, 2, 0, 1, 9, 10]\n",
      ">>> log: False\n",
      ">>> support bound: True\n",
      ">>> incre_support: True\n",
      ">>> accurate support bound: True\n",
      ">>> equiv points bound: True\n",
      ">>> lookahead bound: True\n",
      "prior_metric= curiosity\n",
      "total time:  1.3077960014343262\n",
      "lambda:  0.034999999999999996\n",
      "leaves:  [(-1,), (1,)]\n",
      "num_captured:  [4733, 2174]\n",
      "num_captured_incorrect:  [1758, 736]\n",
      "prediction:  [0, 1]\n",
      "Objective:  0.43108295931663526\n",
      "Accuracy:  0.6389170406833647\n",
      "COUNT of the best tree:  1\n",
      "time when the best tree is achieved:  0.04309821128845215\n",
      "TOTAL COUNT:  107\n",
      "nrule: 12\n",
      "ndata: 6907\n",
      "gr: [0.00438766 0.0037798  0.00481064 0.00654486 0.00818606 0.00697492\n",
      " 0.00861952 0.01958141 0.0261244  0.00328364 0.0004441  0.03628272]\n",
      "order: [11, 8, 7, 6, 4, 5, 3, 2, 0, 1, 9, 10]\n",
      "odr: [11, 8, 7, 6, 4, 5, 3, 2, 0, 1, 9, 10]\n",
      "the order of x's columns:  [11, 8, 7, 6, 4, 5, 3, 2, 0, 1, 9, 10]\n"
     ]
    },
    {
     "name": "stdout",
     "output_type": "stream",
     "text": [
      ">>> log: False\n",
      ">>> support bound: True\n",
      ">>> incre_support: True\n",
      ">>> accurate support bound: True\n",
      ">>> equiv points bound: True\n",
      ">>> lookahead bound: True\n",
      "prior_metric= curiosity\n",
      "total time:  1.0214262008666992\n",
      "lambda:  0.036\n",
      "leaves:  [(-1,), (1,)]\n",
      "num_captured:  [4733, 2174]\n",
      "num_captured_incorrect:  [1758, 736]\n",
      "prediction:  [0, 1]\n",
      "Objective:  0.43308295931663526\n",
      "Accuracy:  0.6389170406833647\n",
      "COUNT of the best tree:  1\n",
      "time when the best tree is achieved:  0.04071497917175293\n",
      "TOTAL COUNT:  82\n",
      "nrule: 12\n",
      "ndata: 6907\n",
      "gr: [0.00438766 0.0037798  0.00481064 0.00654486 0.00818606 0.00697492\n",
      " 0.00861952 0.01958141 0.0261244  0.00328364 0.0004441  0.03628272]\n",
      "order: [11, 8, 7, 6, 4, 5, 3, 2, 0, 1, 9, 10]\n",
      "odr: [11, 8, 7, 6, 4, 5, 3, 2, 0, 1, 9, 10]\n",
      "the order of x's columns:  [11, 8, 7, 6, 4, 5, 3, 2, 0, 1, 9, 10]\n",
      ">>> log: False\n",
      ">>> support bound: True\n",
      ">>> incre_support: True\n",
      ">>> accurate support bound: True\n",
      ">>> equiv points bound: True\n",
      ">>> lookahead bound: True\n",
      "prior_metric= curiosity\n",
      "total time:  0.3625049591064453\n",
      "lambda:  0.037\n",
      "leaves:  [(-1,), (1,)]\n",
      "num_captured:  [4733, 2174]\n",
      "num_captured_incorrect:  [1758, 736]\n",
      "prediction:  [0, 1]\n",
      "Objective:  0.43508295931663526\n",
      "Accuracy:  0.6389170406833647\n",
      "COUNT of the best tree:  1\n",
      "time when the best tree is achieved:  0.040960073471069336\n",
      "TOTAL COUNT:  31\n",
      "nrule: 12\n",
      "ndata: 6907\n",
      "gr: [0.00438766 0.0037798  0.00481064 0.00654486 0.00818606 0.00697492\n",
      " 0.00861952 0.01958141 0.0261244  0.00328364 0.0004441  0.03628272]\n",
      "order: [11, 8, 7, 6, 4, 5, 3, 2, 0, 1, 9, 10]\n",
      "odr: [11, 8, 7, 6, 4, 5, 3, 2, 0, 1, 9, 10]\n",
      "the order of x's columns:  [11, 8, 7, 6, 4, 5, 3, 2, 0, 1, 9, 10]\n",
      ">>> log: False\n",
      ">>> support bound: True\n",
      ">>> incre_support: True\n",
      ">>> accurate support bound: True\n",
      ">>> equiv points bound: True\n",
      ">>> lookahead bound: True\n",
      "prior_metric= curiosity\n",
      "total time:  0.38864994049072266\n",
      "lambda:  0.038\n",
      "leaves:  [(-1,), (1,)]\n",
      "num_captured:  [4733, 2174]\n",
      "num_captured_incorrect:  [1758, 736]\n",
      "prediction:  [0, 1]\n",
      "Objective:  0.43708295931663527\n",
      "Accuracy:  0.6389170406833647\n",
      "COUNT of the best tree:  1\n",
      "time when the best tree is achieved:  0.04169607162475586\n",
      "TOTAL COUNT:  31\n",
      "nrule: 12\n",
      "ndata: 6907\n",
      "gr: [0.00438766 0.0037798  0.00481064 0.00654486 0.00818606 0.00697492\n",
      " 0.00861952 0.01958141 0.0261244  0.00328364 0.0004441  0.03628272]\n",
      "order: [11, 8, 7, 6, 4, 5, 3, 2, 0, 1, 9, 10]\n",
      "odr: [11, 8, 7, 6, 4, 5, 3, 2, 0, 1, 9, 10]\n",
      "the order of x's columns:  [11, 8, 7, 6, 4, 5, 3, 2, 0, 1, 9, 10]\n",
      ">>> log: False\n",
      ">>> support bound: True\n",
      ">>> incre_support: True\n",
      ">>> accurate support bound: True\n",
      ">>> equiv points bound: True\n",
      ">>> lookahead bound: True\n",
      "prior_metric= curiosity\n",
      "total time:  0.3891890048980713\n",
      "lambda:  0.039\n",
      "leaves:  [(-1,), (1,)]\n",
      "num_captured:  [4733, 2174]\n",
      "num_captured_incorrect:  [1758, 736]\n",
      "prediction:  [0, 1]\n",
      "Objective:  0.43908295931663527\n",
      "Accuracy:  0.6389170406833647\n",
      "COUNT of the best tree:  1\n",
      "time when the best tree is achieved:  0.043283939361572266\n",
      "TOTAL COUNT:  31\n",
      "nrule: 12\n",
      "ndata: 6907\n",
      "gr: [0.00438766 0.0037798  0.00481064 0.00654486 0.00818606 0.00697492\n",
      " 0.00861952 0.01958141 0.0261244  0.00328364 0.0004441  0.03628272]\n",
      "order: [11, 8, 7, 6, 4, 5, 3, 2, 0, 1, 9, 10]\n",
      "odr: [11, 8, 7, 6, 4, 5, 3, 2, 0, 1, 9, 10]\n",
      "the order of x's columns:  [11, 8, 7, 6, 4, 5, 3, 2, 0, 1, 9, 10]\n",
      ">>> log: False\n",
      ">>> support bound: True\n",
      ">>> incre_support: True\n",
      ">>> accurate support bound: True\n",
      ">>> equiv points bound: True\n",
      ">>> lookahead bound: True\n",
      "prior_metric= curiosity\n",
      "total time:  0.38568973541259766\n",
      "lambda:  0.04\n",
      "leaves:  [(-1,), (1,)]\n",
      "num_captured:  [4733, 2174]\n",
      "num_captured_incorrect:  [1758, 736]\n",
      "prediction:  [0, 1]\n",
      "Objective:  0.44108295931663527\n",
      "Accuracy:  0.6389170406833647\n",
      "COUNT of the best tree:  1\n",
      "time when the best tree is achieved:  0.04408597946166992\n",
      "TOTAL COUNT:  29\n",
      "nrule: 12\n",
      "ndata: 6907\n",
      "gr: [0.00438766 0.0037798  0.00481064 0.00654486 0.00818606 0.00697492\n",
      " 0.00861952 0.01958141 0.0261244  0.00328364 0.0004441  0.03628272]\n",
      "order: [11, 8, 7, 6, 4, 5, 3, 2, 0, 1, 9, 10]\n",
      "odr: [11, 8, 7, 6, 4, 5, 3, 2, 0, 1, 9, 10]\n",
      "the order of x's columns:  [11, 8, 7, 6, 4, 5, 3, 2, 0, 1, 9, 10]\n",
      ">>> log: False\n",
      ">>> support bound: True\n",
      ">>> incre_support: True\n",
      ">>> accurate support bound: True\n",
      ">>> equiv points bound: True\n",
      ">>> lookahead bound: True\n",
      "prior_metric= curiosity\n",
      "total time:  0.38509106636047363\n",
      "lambda:  0.041\n",
      "leaves:  [(-1,), (1,)]\n",
      "num_captured:  [4733, 2174]\n",
      "num_captured_incorrect:  [1758, 736]\n",
      "prediction:  [0, 1]\n",
      "Objective:  0.44308295931663527\n",
      "Accuracy:  0.6389170406833647\n",
      "COUNT of the best tree:  1\n",
      "time when the best tree is achieved:  0.04353499412536621\n",
      "TOTAL COUNT:  29\n",
      "nrule: 12\n",
      "ndata: 6907\n",
      "gr: [0.00438766 0.0037798  0.00481064 0.00654486 0.00818606 0.00697492\n",
      " 0.00861952 0.01958141 0.0261244  0.00328364 0.0004441  0.03628272]\n",
      "order: [11, 8, 7, 6, 4, 5, 3, 2, 0, 1, 9, 10]\n",
      "odr: [11, 8, 7, 6, 4, 5, 3, 2, 0, 1, 9, 10]\n",
      "the order of x's columns:  [11, 8, 7, 6, 4, 5, 3, 2, 0, 1, 9, 10]\n",
      ">>> log: False\n",
      ">>> support bound: True\n",
      ">>> incre_support: True\n",
      ">>> accurate support bound: True\n",
      ">>> equiv points bound: True\n",
      ">>> lookahead bound: True\n",
      "prior_metric= curiosity\n",
      "total time:  0.371502161026001\n",
      "lambda:  0.041999999999999996\n",
      "leaves:  [(-1,), (1,)]\n",
      "num_captured:  [4733, 2174]\n",
      "num_captured_incorrect:  [1758, 736]\n",
      "prediction:  [0, 1]\n",
      "Objective:  0.4450829593166352\n",
      "Accuracy:  0.6389170406833647\n",
      "COUNT of the best tree:  1\n",
      "time when the best tree is achieved:  0.04355001449584961\n",
      "TOTAL COUNT:  27\n",
      "nrule: 12\n",
      "ndata: 6907\n",
      "gr: [0.00438766 0.0037798  0.00481064 0.00654486 0.00818606 0.00697492\n",
      " 0.00861952 0.01958141 0.0261244  0.00328364 0.0004441  0.03628272]\n",
      "order: [11, 8, 7, 6, 4, 5, 3, 2, 0, 1, 9, 10]\n",
      "odr: [11, 8, 7, 6, 4, 5, 3, 2, 0, 1, 9, 10]\n",
      "the order of x's columns:  [11, 8, 7, 6, 4, 5, 3, 2, 0, 1, 9, 10]\n",
      ">>> log: False\n",
      ">>> support bound: True\n",
      ">>> incre_support: True\n",
      ">>> accurate support bound: True\n",
      ">>> equiv points bound: True\n",
      ">>> lookahead bound: True\n",
      "prior_metric= curiosity\n",
      "total time:  0.36334896087646484\n",
      "lambda:  0.043\n",
      "leaves:  [(-1,), (1,)]\n",
      "num_captured:  [4733, 2174]\n",
      "num_captured_incorrect:  [1758, 736]\n",
      "prediction:  [0, 1]\n",
      "Objective:  0.4470829593166352\n",
      "Accuracy:  0.6389170406833647\n",
      "COUNT of the best tree:  1\n",
      "time when the best tree is achieved:  0.041152000427246094\n",
      "TOTAL COUNT:  26\n",
      "nrule: 12\n",
      "ndata: 6907\n",
      "gr: [0.00438766 0.0037798  0.00481064 0.00654486 0.00818606 0.00697492\n",
      " 0.00861952 0.01958141 0.0261244  0.00328364 0.0004441  0.03628272]\n",
      "order: [11, 8, 7, 6, 4, 5, 3, 2, 0, 1, 9, 10]\n",
      "odr: [11, 8, 7, 6, 4, 5, 3, 2, 0, 1, 9, 10]\n",
      "the order of x's columns:  [11, 8, 7, 6, 4, 5, 3, 2, 0, 1, 9, 10]\n",
      ">>> log: False\n",
      ">>> support bound: True\n",
      ">>> incre_support: True\n",
      ">>> accurate support bound: True\n",
      ">>> equiv points bound: True\n",
      ">>> lookahead bound: True\n",
      "prior_metric= curiosity\n",
      "total time:  0.39017701148986816\n",
      "lambda:  0.044\n",
      "leaves:  [(-1,), (1,)]\n",
      "num_captured:  [4733, 2174]\n",
      "num_captured_incorrect:  [1758, 736]\n",
      "prediction:  [0, 1]\n",
      "Objective:  0.4490829593166352\n",
      "Accuracy:  0.6389170406833647\n",
      "COUNT of the best tree:  1\n",
      "time when the best tree is achieved:  0.04439902305603027\n",
      "TOTAL COUNT:  26\n",
      "nrule: 12\n",
      "ndata: 6907\n",
      "gr: [0.00438766 0.0037798  0.00481064 0.00654486 0.00818606 0.00697492\n",
      " 0.00861952 0.01958141 0.0261244  0.00328364 0.0004441  0.03628272]\n",
      "order: [11, 8, 7, 6, 4, 5, 3, 2, 0, 1, 9, 10]\n",
      "odr: [11, 8, 7, 6, 4, 5, 3, 2, 0, 1, 9, 10]\n",
      "the order of x's columns:  [11, 8, 7, 6, 4, 5, 3, 2, 0, 1, 9, 10]\n",
      ">>> log: False\n",
      ">>> support bound: True\n",
      ">>> incre_support: True\n",
      ">>> accurate support bound: True\n",
      ">>> equiv points bound: True\n",
      ">>> lookahead bound: True\n",
      "prior_metric= curiosity\n",
      "total time:  0.3756380081176758\n",
      "lambda:  0.045\n",
      "leaves:  [(-1,), (1,)]\n",
      "num_captured:  [4733, 2174]\n",
      "num_captured_incorrect:  [1758, 736]\n",
      "prediction:  [0, 1]\n",
      "Objective:  0.4510829593166352\n",
      "Accuracy:  0.6389170406833647\n",
      "COUNT of the best tree:  1\n",
      "time when the best tree is achieved:  0.04339885711669922\n",
      "TOTAL COUNT:  26\n",
      "nrule: 12\n",
      "ndata: 6907\n",
      "gr: [0.00438766 0.0037798  0.00481064 0.00654486 0.00818606 0.00697492\n",
      " 0.00861952 0.01958141 0.0261244  0.00328364 0.0004441  0.03628272]\n",
      "order: [11, 8, 7, 6, 4, 5, 3, 2, 0, 1, 9, 10]\n",
      "odr: [11, 8, 7, 6, 4, 5, 3, 2, 0, 1, 9, 10]\n",
      "the order of x's columns:  [11, 8, 7, 6, 4, 5, 3, 2, 0, 1, 9, 10]\n",
      ">>> log: False\n",
      ">>> support bound: True\n",
      ">>> incre_support: True\n",
      ">>> accurate support bound: True\n",
      ">>> equiv points bound: True\n",
      ">>> lookahead bound: True\n",
      "prior_metric= curiosity\n",
      "total time:  0.3679687976837158\n",
      "lambda:  0.046\n",
      "leaves:  [(-1,), (1,)]\n",
      "num_captured:  [4733, 2174]\n",
      "num_captured_incorrect:  [1758, 736]\n",
      "prediction:  [0, 1]\n",
      "Objective:  0.4530829593166352\n",
      "Accuracy:  0.6389170406833647\n",
      "COUNT of the best tree:  1\n",
      "time when the best tree is achieved:  0.04234790802001953\n",
      "TOTAL COUNT:  26\n",
      "nrule: 12\n",
      "ndata: 6907\n",
      "gr: [0.00438766 0.0037798  0.00481064 0.00654486 0.00818606 0.00697492\n",
      " 0.00861952 0.01958141 0.0261244  0.00328364 0.0004441  0.03628272]\n",
      "order: [11, 8, 7, 6, 4, 5, 3, 2, 0, 1, 9, 10]\n",
      "odr: [11, 8, 7, 6, 4, 5, 3, 2, 0, 1, 9, 10]\n",
      "the order of x's columns:  [11, 8, 7, 6, 4, 5, 3, 2, 0, 1, 9, 10]\n"
     ]
    },
    {
     "name": "stdout",
     "output_type": "stream",
     "text": [
      ">>> log: False\n",
      ">>> support bound: True\n",
      ">>> incre_support: True\n",
      ">>> accurate support bound: True\n",
      ">>> equiv points bound: True\n",
      ">>> lookahead bound: True\n",
      "prior_metric= curiosity\n",
      "total time:  0.36247897148132324\n",
      "lambda:  0.047\n",
      "leaves:  [(-1,), (1,)]\n",
      "num_captured:  [4733, 2174]\n",
      "num_captured_incorrect:  [1758, 736]\n",
      "prediction:  [0, 1]\n",
      "Objective:  0.4550829593166352\n",
      "Accuracy:  0.6389170406833647\n",
      "COUNT of the best tree:  1\n",
      "time when the best tree is achieved:  0.04447197914123535\n",
      "TOTAL COUNT:  26\n",
      "nrule: 12\n",
      "ndata: 6907\n",
      "gr: [0.00438766 0.0037798  0.00481064 0.00654486 0.00818606 0.00697492\n",
      " 0.00861952 0.01958141 0.0261244  0.00328364 0.0004441  0.03628272]\n",
      "order: [11, 8, 7, 6, 4, 5, 3, 2, 0, 1, 9, 10]\n",
      "odr: [11, 8, 7, 6, 4, 5, 3, 2, 0, 1, 9, 10]\n",
      "the order of x's columns:  [11, 8, 7, 6, 4, 5, 3, 2, 0, 1, 9, 10]\n",
      ">>> log: False\n",
      ">>> support bound: True\n",
      ">>> incre_support: True\n",
      ">>> accurate support bound: True\n",
      ">>> equiv points bound: True\n",
      ">>> lookahead bound: True\n",
      "prior_metric= curiosity\n",
      "total time:  0.3701810836791992\n",
      "lambda:  0.048\n",
      "leaves:  [(-1,), (1,)]\n",
      "num_captured:  [4733, 2174]\n",
      "num_captured_incorrect:  [1758, 736]\n",
      "prediction:  [0, 1]\n",
      "Objective:  0.45708295931663523\n",
      "Accuracy:  0.6389170406833647\n",
      "COUNT of the best tree:  1\n",
      "time when the best tree is achieved:  0.04565691947937012\n",
      "TOTAL COUNT:  26\n",
      "nrule: 12\n",
      "ndata: 6907\n",
      "gr: [0.00438766 0.0037798  0.00481064 0.00654486 0.00818606 0.00697492\n",
      " 0.00861952 0.01958141 0.0261244  0.00328364 0.0004441  0.03628272]\n",
      "order: [11, 8, 7, 6, 4, 5, 3, 2, 0, 1, 9, 10]\n",
      "odr: [11, 8, 7, 6, 4, 5, 3, 2, 0, 1, 9, 10]\n",
      "the order of x's columns:  [11, 8, 7, 6, 4, 5, 3, 2, 0, 1, 9, 10]\n",
      ">>> log: False\n",
      ">>> support bound: True\n",
      ">>> incre_support: True\n",
      ">>> accurate support bound: True\n",
      ">>> equiv points bound: True\n",
      ">>> lookahead bound: True\n",
      "prior_metric= curiosity\n",
      "total time:  0.3680739402770996\n",
      "lambda:  0.048999999999999995\n",
      "leaves:  [(-1,), (1,)]\n",
      "num_captured:  [4733, 2174]\n",
      "num_captured_incorrect:  [1758, 736]\n",
      "prediction:  [0, 1]\n",
      "Objective:  0.45908295931663523\n",
      "Accuracy:  0.6389170406833647\n",
      "COUNT of the best tree:  1\n",
      "time when the best tree is achieved:  0.04262804985046387\n",
      "TOTAL COUNT:  26\n",
      "nrule: 12\n",
      "ndata: 6907\n",
      "gr: [0.00438766 0.0037798  0.00481064 0.00654486 0.00818606 0.00697492\n",
      " 0.00861952 0.01958141 0.0261244  0.00328364 0.0004441  0.03628272]\n",
      "order: [11, 8, 7, 6, 4, 5, 3, 2, 0, 1, 9, 10]\n",
      "odr: [11, 8, 7, 6, 4, 5, 3, 2, 0, 1, 9, 10]\n",
      "the order of x's columns:  [11, 8, 7, 6, 4, 5, 3, 2, 0, 1, 9, 10]\n",
      ">>> log: False\n",
      ">>> support bound: True\n",
      ">>> incre_support: True\n",
      ">>> accurate support bound: True\n",
      ">>> equiv points bound: True\n",
      ">>> lookahead bound: True\n",
      "prior_metric= curiosity\n",
      "total time:  0.36409711837768555\n",
      "lambda:  0.049999999999999996\n",
      "leaves:  [(-1,), (1,)]\n",
      "num_captured:  [4733, 2174]\n",
      "num_captured_incorrect:  [1758, 736]\n",
      "prediction:  [0, 1]\n",
      "Objective:  0.46108295931663523\n",
      "Accuracy:  0.6389170406833647\n",
      "COUNT of the best tree:  1\n",
      "time when the best tree is achieved:  0.044744014739990234\n",
      "TOTAL COUNT:  26\n"
     ]
    }
   ],
   "source": [
    "accu_OSDTs = []\n",
    "accu_CARTs = []\n",
    "\n",
    "\n",
    "\n",
    "for lamb in lambs:\n",
    "    \n",
    "    accu_OSDT, accu_CART = trees(x_compas1, y_compas1, lamb)\n",
    "    accu_OSDTs.append(accu_OSDT)\n",
    "    accu_CARTs.append(accu_CART)"
   ]
  },
  {
   "cell_type": "code",
   "execution_count": 13,
   "metadata": {},
   "outputs": [
    {
     "data": {
      "text/plain": [
       "[<matplotlib.lines.Line2D at 0x1178740f0>]"
      ]
     },
     "execution_count": 13,
     "metadata": {},
     "output_type": "execute_result"
    },
    {
     "data": {
      "image/png": "[encoded data removed]",
      "text/plain": [
       "<Figure size 432x288 with 1 Axes>"
      ]
     },
     "metadata": {
      "needs_background": "light"
     },
     "output_type": "display_data"
    }
   ],
   "source": [
    "plt.plot(lambs, accu_OSDTs, color='green',  linewidth=2, markersize=12)"
   ]
  },
  {
   "cell_type": "code",
   "execution_count": 15,
   "metadata": {},
   "outputs": [
    {
     "data": {
      "text/plain": [
       "[<matplotlib.lines.Line2D at 0x1178e1470>]"
      ]
     },
     "execution_count": 15,
     "metadata": {},
     "output_type": "execute_result"
    },
    {
     "data": {
      "image/png": "[encoded data removed]",
      "text/plain": [
       "<Figure size 432x288 with 1 Axes>"
      ]
     },
     "metadata": {
      "needs_background": "light"
     },
     "output_type": "display_data"
    }
   ],
   "source": [
    "plt.plot(lambs, accu_CARTs, color='green',  linewidth=2, markersize=12)"
   ]
  },
  {
   "cell_type": "code",
   "execution_count": 5,
   "metadata": {},
   "outputs": [],
   "source": [
    "accu_OSDTs = [0.669031417402635,\n",
    " 0.669031417402635,\n",
    " 0.6622267265093384,\n",
    " 0.6551324743014333,\n",
    " 0.6551324743014333,\n",
    " 0.6551324743014334,\n",
    " 0.6551324743014334,\n",
    " 0.6551324743014334,\n",
    " 0.6551324743014334,\n",
    " 0.6551324743014334,\n",
    " 0.6551324743014333,\n",
    " 0.6551324743014333,\n",
    " 0.6389170406833647,\n",
    " 0.6389170406833647,\n",
    " 0.6389170406833647,\n",
    " 0.6389170406833647,\n",
    " 0.6389170406833647,\n",
    " 0.6389170406833647,\n",
    " 0.6389170406833647,\n",
    " 0.6389170406833647,\n",
    " 0.6389170406833647,\n",
    " 0.6389170406833647,\n",
    " 0.6389170406833647,\n",
    " 0.6389170406833647,\n",
    " 0.6389170406833647,\n",
    " 0.6389170406833647,\n",
    " 0.6389170406833647,\n",
    " 0.6389170406833647,\n",
    " 0.6389170406833647,\n",
    " 0.6389170406833647,\n",
    " 0.6389170406833647,\n",
    " 0.6389170406833647,\n",
    " 0.6389170406833647,\n",
    " 0.6389170406833647,\n",
    " 0.6389170406833647,\n",
    " 0.6389170406833647,\n",
    " 0.6389170406833647,\n",
    " 0.6389170406833647,\n",
    " 0.6389170406833647,\n",
    " 0.6389170406833647,\n",
    " 0.6389170406833647,\n",
    " 0.6389170406833647,\n",
    " 0.6389170406833647,\n",
    " 0.6389170406833647,\n",
    " 0.6389170406833647,\n",
    " 0.6389170406833647]"
   ]
  },
  {
   "cell_type": "code",
   "execution_count": 6,
   "metadata": {},
   "outputs": [],
   "source": [
    "accu_CARTs=[0.6370967741935484,\n",
    " 0.6370967741935484,\n",
    " 0.5,\n",
    " 0.5,\n",
    " 0.5,\n",
    " 0.5,\n",
    " 0.5,\n",
    " 0.5,\n",
    " 0.5,\n",
    " 0.5,\n",
    " 0.5,\n",
    " 0.5,\n",
    " 0.5,\n",
    " 0.5,\n",
    " 0.5,\n",
    " 0.5,\n",
    " 0.5,\n",
    " 0.5,\n",
    " 0.5,\n",
    " 0.5,\n",
    " 0.5,\n",
    " 0.5,\n",
    " 0.5,\n",
    " 0.5,\n",
    " 0.5,\n",
    " 0.5,\n",
    " 0.5,\n",
    " 0.5,\n",
    " 0.5,\n",
    " 0.5,\n",
    " 0.5,\n",
    " 0.5,\n",
    " 0.5,\n",
    " 0.5,\n",
    " 0.5,\n",
    " 0.5,\n",
    " 0.5,\n",
    " 0.5,\n",
    " 0.5,\n",
    " 0.5,\n",
    " 0.5,\n",
    " 0.5,\n",
    " 0.5,\n",
    " 0.5,\n",
    " 0.5,\n",
    " 0.5]"
   ]
  },
  {
   "cell_type": "code",
   "execution_count": null,
   "metadata": {},
   "outputs": [],
   "source": []
  },
  {
   "cell_type": "code",
   "execution_count": 31,
   "metadata": {},
   "outputs": [
    {
     "data": {
      "image/png": "[encoded data removed]",
      "text/plain": [
       "<Figure size 432x288 with 1 Axes>"
      ]
     },
     "metadata": {
      "needs_background": "light"
     },
     "output_type": "display_data"
    }
   ],
   "source": [
    "plt.scatter(lambs, accu_CARTs, marker='^', label=\"CART\")\n",
    "plt.scatter(lambs, accu_OSDTs, marker='o', label=\"OSDT\")\n",
    "#plt.scatter(x, y, s=area2, marker='o', c=c)\n",
    "# Show the boundary between the regions:\n",
    "#theta = np.arange(0, np.pi / 2, 0.01)\n",
    "#plt.plot(r0 * np.cos(theta), r0 * np.sin(theta))\n",
    "\n",
    "plt.legend()\n",
    "plt.xlabel(r'$\\lambda$')\n",
    "plt.ylabel('Training accuracy')\n",
    "\n",
    "\n",
    "plt.savefig('accu_lamb.pdf')"
   ]
  },
  {
   "cell_type": "code",
   "execution_count": null,
   "metadata": {},
   "outputs": [],
   "source": []
  },
  {
   "cell_type": "code",
   "execution_count": null,
   "metadata": {},
   "outputs": [],
   "source": []
  },
  {
   "cell_type": "code",
   "execution_count": 7,
   "metadata": {},
   "outputs": [
    {
     "ename": "NameError",
     "evalue": "name 'x_monk1' is not defined",
     "output_type": "error",
     "traceback": [
      "\u001b[0;31m---------------------------------------------------------------------------\u001b[0m",
      "\u001b[0;31mNameError\u001b[0m                                 Traceback (most recent call last)",
      "\u001b[0;32m<ipython-input-7-b8c6634cbc3a>\u001b[0m in \u001b[0;36m<module>\u001b[0;34m\u001b[0m\n\u001b[0;32m----> 1\u001b[0;31m \u001b[0mx\u001b[0m \u001b[0;34m=\u001b[0m \u001b[0mx_monk1\u001b[0m\u001b[0;34m\u001b[0m\u001b[0m\n\u001b[0m\u001b[1;32m      2\u001b[0m \u001b[0my\u001b[0m \u001b[0;34m=\u001b[0m \u001b[0my_monk1\u001b[0m\u001b[0;34m\u001b[0m\u001b[0m\n\u001b[1;32m      3\u001b[0m clf = tree.DecisionTreeClassifier(max_depth = 4, min_samples_split = math.ceil(lamb*2*len(y)), \n\u001b[1;32m      4\u001b[0m                                       \u001b[0mmin_samples_leaf\u001b[0m \u001b[0;34m=\u001b[0m \u001b[0mmath\u001b[0m\u001b[0;34m.\u001b[0m\u001b[0mceil\u001b[0m\u001b[0;34m(\u001b[0m\u001b[0mlamb\u001b[0m\u001b[0;34m*\u001b[0m\u001b[0mlen\u001b[0m\u001b[0;34m(\u001b[0m\u001b[0my\u001b[0m\u001b[0;34m)\u001b[0m\u001b[0;34m)\u001b[0m\u001b[0;34m,\u001b[0m\u001b[0;34m\u001b[0m\u001b[0m\n\u001b[1;32m      5\u001b[0m                                       \u001b[0mmax_leaf_nodes\u001b[0m \u001b[0;34m=\u001b[0m \u001b[0mmath\u001b[0m\u001b[0;34m.\u001b[0m\u001b[0mfloor\u001b[0m\u001b[0;34m(\u001b[0m\u001b[0;36m1\u001b[0m\u001b[0;34m/\u001b[0m\u001b[0;34m(\u001b[0m\u001b[0;36m2\u001b[0m\u001b[0;34m*\u001b[0m\u001b[0mlamb\u001b[0m\u001b[0;34m)\u001b[0m\u001b[0;34m)\u001b[0m\u001b[0;34m,\u001b[0m\u001b[0;34m\u001b[0m\u001b[0m\n",
      "\u001b[0;31mNameError\u001b[0m: name 'x_monk1' is not defined"
     ]
    }
   ],
   "source": [
    "x = x_monk1\n",
    "y = y_monk1\n",
    "clf = tree.DecisionTreeClassifier(max_depth = 4, min_samples_split = math.ceil(lamb*2*len(y)), \n",
    "                                      min_samples_leaf = math.ceil(lamb*len(y)), \n",
    "                                      max_leaf_nodes = math.floor(1/(2*lamb)), \n",
    "                                      min_impurity_decrease = lamb\n",
    "                                     )\n",
    "clf = clf.fit(x,y)\n",
    "clf.score(x,y)"
   ]
  },
  {
   "cell_type": "code",
   "execution_count": 8,
   "metadata": {},
   "outputs": [
    {
     "ename": "NameError",
     "evalue": "name 'x_monk1' is not defined",
     "output_type": "error",
     "traceback": [
      "\u001b[0;31m---------------------------------------------------------------------------\u001b[0m",
      "\u001b[0;31mNameError\u001b[0m                                 Traceback (most recent call last)",
      "\u001b[0;32m<ipython-input-8-a6ff07cc18d3>\u001b[0m in \u001b[0;36m<module>\u001b[0;34m\u001b[0m\n\u001b[0;32m----> 1\u001b[0;31m \u001b[0mx\u001b[0m \u001b[0;34m=\u001b[0m \u001b[0mx_monk1\u001b[0m\u001b[0;34m\u001b[0m\u001b[0m\n\u001b[0m\u001b[1;32m      2\u001b[0m \u001b[0my\u001b[0m \u001b[0;34m=\u001b[0m \u001b[0my_monk1\u001b[0m\u001b[0;34m\u001b[0m\u001b[0m\n\u001b[1;32m      3\u001b[0m clf = tree.DecisionTreeClassifier(max_depth = 3, min_samples_split = math.ceil(lamb*2*len(y)), \n\u001b[1;32m      4\u001b[0m                                       \u001b[0mmin_samples_leaf\u001b[0m \u001b[0;34m=\u001b[0m \u001b[0mmath\u001b[0m\u001b[0;34m.\u001b[0m\u001b[0mceil\u001b[0m\u001b[0;34m(\u001b[0m\u001b[0mlamb\u001b[0m\u001b[0;34m*\u001b[0m\u001b[0mlen\u001b[0m\u001b[0;34m(\u001b[0m\u001b[0my\u001b[0m\u001b[0;34m)\u001b[0m\u001b[0;34m)\u001b[0m\u001b[0;34m,\u001b[0m\u001b[0;34m\u001b[0m\u001b[0m\n\u001b[1;32m      5\u001b[0m                                       \u001b[0mmax_leaf_nodes\u001b[0m \u001b[0;34m=\u001b[0m \u001b[0mmath\u001b[0m\u001b[0;34m.\u001b[0m\u001b[0mfloor\u001b[0m\u001b[0;34m(\u001b[0m\u001b[0;36m1\u001b[0m\u001b[0;34m/\u001b[0m\u001b[0;34m(\u001b[0m\u001b[0;36m2\u001b[0m\u001b[0;34m*\u001b[0m\u001b[0mlamb\u001b[0m\u001b[0;34m)\u001b[0m\u001b[0;34m)\u001b[0m\u001b[0;34m,\u001b[0m\u001b[0;34m\u001b[0m\u001b[0m\n",
      "\u001b[0;31mNameError\u001b[0m: name 'x_monk1' is not defined"
     ]
    }
   ],
   "source": [
    "x = x_monk1\n",
    "y = y_monk1\n",
    "clf = tree.DecisionTreeClassifier(max_depth = 3, min_samples_split = math.ceil(lamb*2*len(y)), \n",
    "                                      min_samples_leaf = math.ceil(lamb*len(y)), \n",
    "                                      max_leaf_nodes = math.floor(1/(2*lamb)), \n",
    "                                      min_impurity_decrease = lamb\n",
    "                                     )\n",
    "clf = clf.fit(x,y)\n",
    "clf.score(x,y)"
   ]
  },
  {
   "cell_type": "code",
   "execution_count": 43,
   "metadata": {},
   "outputs": [
    {
     "data": {
      "text/plain": [
       "0.621301775147929"
      ]
     },
     "execution_count": 43,
     "metadata": {},
     "output_type": "execute_result"
    }
   ],
   "source": [
    "lamb = 0.025\n",
    "x = x_monk2\n",
    "y = y_monk2\n",
    "clf = tree.DecisionTreeClassifier(max_depth = 4, min_samples_split = math.ceil(lamb*2*len(y)), \n",
    "                                      min_samples_leaf = math.ceil(lamb*len(y)), \n",
    "                                      max_leaf_nodes = math.floor(1/(2*lamb)), \n",
    "                                      min_impurity_decrease = lamb\n",
    "                                     )\n",
    "clf = clf.fit(x,y)\n",
    "clf.score(x,y)"
   ]
  },
  {
   "cell_type": "code",
   "execution_count": 46,
   "metadata": {},
   "outputs": [
    {
     "data": {
      "text/plain": [
       "0.621301775147929"
      ]
     },
     "execution_count": 46,
     "metadata": {},
     "output_type": "execute_result"
    }
   ],
   "source": [
    "lamb = 0.025\n",
    "x = x_monk2\n",
    "y = y_monk2\n",
    "clf = tree.DecisionTreeClassifier(max_depth = 3, min_samples_split = math.ceil(lamb*2*len(y)), \n",
    "                                      min_samples_leaf = math.ceil(lamb*len(y)), \n",
    "                                      max_leaf_nodes = math.floor(1/(2*lamb)), \n",
    "                                      min_impurity_decrease = lamb\n",
    "                                     )\n",
    "clf = clf.fit(x,y)\n",
    "clf.score(x,y)"
   ]
  },
  {
   "cell_type": "code",
   "execution_count": 68,
   "metadata": {},
   "outputs": [
    {
     "data": {
      "text/plain": [
       "0.7786885245901639"
      ]
     },
     "execution_count": 68,
     "metadata": {},
     "output_type": "execute_result"
    }
   ],
   "source": [
    "x = x_monk3\n",
    "y = y_monk3\n",
    "clf = tree.DecisionTreeClassifier(max_depth = 4, min_samples_split = math.ceil(lamb*2*len(y)), \n",
    "                                      min_samples_leaf = math.ceil(lamb*len(y)), \n",
    "                                      max_leaf_nodes = math.floor(1/(2*lamb)), \n",
    "                                      min_impurity_decrease = lamb\n",
    "                                     )\n",
    "clf = clf.fit(x,y)\n",
    "clf.score(x,y)"
   ]
  },
  {
   "cell_type": "code",
   "execution_count": 69,
   "metadata": {},
   "outputs": [
    {
     "data": {
      "text/plain": [
       "0.7786885245901639"
      ]
     },
     "execution_count": 69,
     "metadata": {},
     "output_type": "execute_result"
    }
   ],
   "source": [
    "x = x_monk3\n",
    "y = y_monk3\n",
    "clf = tree.DecisionTreeClassifier(max_depth = 3, min_samples_split = math.ceil(lamb*2*len(y)), \n",
    "                                      min_samples_leaf = math.ceil(lamb*len(y)), \n",
    "                                      max_leaf_nodes = math.floor(1/(2*lamb)), \n",
    "                                      min_impurity_decrease = lamb\n",
    "                                     )\n",
    "clf = clf.fit(x,y)\n",
    "clf.score(x,y)"
   ]
  },
  {
   "cell_type": "code",
   "execution_count": 41,
   "metadata": {},
   "outputs": [
    {
     "data": {
      "text/plain": [
       "0.6993736951983298"
      ]
     },
     "execution_count": 41,
     "metadata": {},
     "output_type": "execute_result"
    }
   ],
   "source": [
    "lamb = 0.05\n",
    "x = x_tictactoe\n",
    "y = y_tictactoe\n",
    "clf = tree.DecisionTreeClassifier(max_depth = 4, min_samples_split = math.ceil(lamb*2*len(y)), \n",
    "                                      min_samples_leaf = math.ceil(lamb*len(y)), \n",
    "                                      max_leaf_nodes = math.floor(1/(2*lamb)), \n",
    "                                      min_impurity_decrease = lamb\n",
    "                                     )\n",
    "clf = clf.fit(x,y)\n",
    "clf.score(x,y)"
   ]
  },
  {
   "cell_type": "code",
   "execution_count": 42,
   "metadata": {},
   "outputs": [
    {
     "data": {
      "text/plain": [
       "0.6993736951983298"
      ]
     },
     "execution_count": 42,
     "metadata": {},
     "output_type": "execute_result"
    }
   ],
   "source": [
    "lamb = 0.05\n",
    "x = x_tictactoe\n",
    "y = y_tictactoe\n",
    "clf = tree.DecisionTreeClassifier(max_depth = 3, min_samples_split = math.ceil(lamb*2*len(y)), \n",
    "                                      min_samples_leaf = math.ceil(lamb*len(y)), \n",
    "                                      max_leaf_nodes = math.floor(1/(2*lamb)), \n",
    "                                      min_impurity_decrease = lamb\n",
    "                                     )\n",
    "clf = clf.fit(x,y)\n",
    "clf.score(x,y)"
   ]
  },
  {
   "cell_type": "code",
   "execution_count": 72,
   "metadata": {},
   "outputs": [
    {
     "data": {
      "text/plain": [
       "0.9216"
      ]
     },
     "execution_count": 72,
     "metadata": {},
     "output_type": "execute_result"
    }
   ],
   "source": [
    "x = x_balance\n",
    "y = y_balance\n",
    "clf = tree.DecisionTreeClassifier(max_depth = 4, min_samples_split = math.ceil(lamb*2*len(y)), \n",
    "                                      min_samples_leaf = math.ceil(lamb*len(y)), \n",
    "                                      max_leaf_nodes = math.floor(1/(2*lamb)), \n",
    "                                      min_impurity_decrease = lamb\n",
    "                                     )\n",
    "clf = clf.fit(x,y)\n",
    "clf.score(x,y)"
   ]
  },
  {
   "cell_type": "code",
   "execution_count": 75,
   "metadata": {},
   "outputs": [
    {
     "data": {
      "text/plain": [
       "0.9216"
      ]
     },
     "execution_count": 75,
     "metadata": {},
     "output_type": "execute_result"
    }
   ],
   "source": [
    "x = x_balance\n",
    "y = y_balance\n",
    "clf = tree.DecisionTreeClassifier(max_depth = 3, min_samples_split = math.ceil(lamb*2*len(y)), \n",
    "                                      min_samples_leaf = math.ceil(lamb*len(y)), \n",
    "                                      max_leaf_nodes = math.floor(1/(2*lamb)), \n",
    "                                      min_impurity_decrease = lamb\n",
    "                                     )\n",
    "clf = clf.fit(x,y)\n",
    "clf.score(x,y)"
   ]
  },
  {
   "cell_type": "code",
   "execution_count": 76,
   "metadata": {},
   "outputs": [
    {
     "data": {
      "text/plain": [
       "0.5372810192558274"
      ]
     },
     "execution_count": 76,
     "metadata": {},
     "output_type": "execute_result"
    }
   ],
   "source": [
    "x = x_compas1\n",
    "y = y_compas1\n",
    "clf = tree.DecisionTreeClassifier(max_depth = 4, min_samples_split = math.ceil(lamb*2*len(y)), \n",
    "                                      min_samples_leaf = math.ceil(lamb*len(y)), \n",
    "                                      max_leaf_nodes = math.floor(1/(2*lamb)), \n",
    "                                      min_impurity_decrease = lamb\n",
    "                                     )\n",
    "clf = clf.fit(x,y)\n",
    "clf.score(x,y)"
   ]
  },
  {
   "cell_type": "code",
   "execution_count": 77,
   "metadata": {},
   "outputs": [
    {
     "data": {
      "text/plain": [
       "0.5372810192558274"
      ]
     },
     "execution_count": 77,
     "metadata": {},
     "output_type": "execute_result"
    }
   ],
   "source": [
    "x = x_compas1\n",
    "y = y_compas1\n",
    "clf = tree.DecisionTreeClassifier(max_depth = 3, min_samples_split = math.ceil(lamb*2*len(y)), \n",
    "                                      min_samples_leaf = math.ceil(lamb*len(y)), \n",
    "                                      max_leaf_nodes = math.floor(1/(2*lamb)), \n",
    "                                      min_impurity_decrease = lamb\n",
    "                                     )\n",
    "clf = clf.fit(x,y)\n",
    "clf.score(x,y)"
   ]
  },
  {
   "cell_type": "code",
   "execution_count": 47,
   "metadata": {},
   "outputs": [
    {
     "data": {
      "text/plain": [
       "0.6993736951983298"
      ]
     },
     "execution_count": 47,
     "metadata": {},
     "output_type": "execute_result"
    }
   ],
   "source": [
    "lamb = 0.01\n",
    "x = x_car\n",
    "y = y_car\n",
    "clf = tree.DecisionTreeClassifier(max_depth = 4, min_samples_split = math.ceil(lamb*2*len(y)), \n",
    "                                      min_samples_leaf = math.ceil(lamb*len(y)), \n",
    "                                      max_leaf_nodes = math.floor(1/(2*lamb)), \n",
    "                                      min_impurity_decrease = lamb\n",
    "                                     )\n",
    "clf = clf.fit(x,y)\n",
    "clf.score(x,y)"
   ]
  },
  {
   "cell_type": "code",
   "execution_count": 48,
   "metadata": {},
   "outputs": [
    {
     "data": {
      "text/plain": [
       "0.6993736951983298"
      ]
     },
     "execution_count": 48,
     "metadata": {},
     "output_type": "execute_result"
    }
   ],
   "source": [
    "lamb = 0.01\n",
    "x = x_car\n",
    "y = y_car\n",
    "clf = tree.DecisionTreeClassifier(max_depth = 3, min_samples_split = math.ceil(lamb*2*len(y)), \n",
    "                                      min_samples_leaf = math.ceil(lamb*len(y)), \n",
    "                                      max_leaf_nodes = math.floor(1/(2*lamb)), \n",
    "                                      min_impurity_decrease = lamb\n",
    "                                     )\n",
    "clf = clf.fit(x,y)\n",
    "clf.score(x,y)"
   ]
  },
  {
   "cell_type": "code",
   "execution_count": null,
   "metadata": {},
   "outputs": [],
   "source": []
  },
  {
   "cell_type": "code",
   "execution_count": 4,
   "metadata": {},
   "outputs": [
    {
     "name": "stdout",
     "output_type": "stream",
     "text": [
      "nrule: 12\n",
      "ndata: 6907\n",
      "gr: [0.00438766 0.0037798  0.00481064 0.00654486 0.00818606 0.00697492\n",
      " 0.00861952 0.01958141 0.0261244  0.00328364 0.0004441  0.03628272]\n",
      "order: [11, 8, 7, 6, 4, 5, 3, 2, 0, 1, 9, 10]\n",
      "odr: [11, 8, 7, 6, 4, 5, 3, 2, 0, 1, 9, 10]\n",
      "the order of x's columns:  [11, 8, 7, 6, 4, 5, 3, 2, 0, 1, 9, 10]\n",
      ">>> log: False\n",
      ">>> support bound: True\n",
      ">>> incre_support: True\n",
      ">>> accurate support bound: True\n",
      ">>> equiv points bound: True\n",
      ">>> lookahead bound: True\n",
      "prior_metric= curiosity\n",
      "total time:  57.87123417854309\n",
      "lambda:  0.005\n",
      "leaves:  [(1,), (-7, -1), (-1, 7, 12), (-12, -3, -1, 7), (-12, -1, 3, 7)]\n",
      "num_captured:  [2174, 2898, 483, 205, 1147]\n",
      "num_captured_incorrect:  [736, 855, 164, 76, 455]\n",
      "prediction:  [1, 0, 1, 1, 0]\n",
      "Objective:  0.35596858259736497\n",
      "Accuracy:  0.669031417402635\n",
      "COUNT of the best tree:  18195\n",
      "time when the best tree is achieved:  15.478962182998657\n",
      "TOTAL COUNT:  241306\n"
     ]
    }
   ],
   "source": [
    "leaves_c, prediction_c, dic, nrule, ndata, totaltime, time_c, COUNT, C_c, accu = bbound(x_compas1, y_compas1, lamb=0.005, prior_metric=\"curiosity\")"
   ]
  },
  {
   "cell_type": "code",
   "execution_count": 7,
   "metadata": {},
   "outputs": [
    {
     "name": "stdout",
     "output_type": "stream",
     "text": [
      "Testing Accuracy: 0.669031417402635\n"
     ]
    },
    {
     "data": {
      "text/plain": [
       "(array([0, 0, 1, ..., 0, 0, 1]), 0.669031417402635)"
      ]
     },
     "execution_count": 7,
     "metadata": {},
     "output_type": "execute_result"
    }
   ],
   "source": [
    "predict(leaves_c, prediction_c, dic, x_compas1, y_compas1)"
   ]
  },
  {
   "cell_type": "code",
   "execution_count": null,
   "metadata": {},
   "outputs": [],
   "source": []
  },
  {
   "cell_type": "code",
   "execution_count": 6,
   "metadata": {},
   "outputs": [
    {
     "name": "stdout",
     "output_type": "stream",
     "text": [
      "nrule: 12\n",
      "ndata: 6907\n",
      "gr: [0.00438766 0.0037798  0.00481064 0.00654486 0.00818606 0.00697492\n",
      " 0.00861952 0.01958141 0.0261244  0.00328364 0.0004441  0.03628272]\n",
      "order: [11, 8, 7, 6, 4, 5, 3, 2, 0, 1, 9, 10]\n",
      "odr: [11, 8, 7, 6, 4, 5, 3, 2, 0, 1, 9, 10]\n",
      "the order of x's columns:  [11, 8, 7, 6, 4, 5, 3, 2, 0, 1, 9, 10]\n",
      ">>> log: False\n",
      ">>> support bound: True\n",
      ">>> incre_support: True\n",
      ">>> accurate support bound: True\n",
      ">>> equiv points bound: True\n",
      ">>> lookahead bound: True\n",
      "prior_metric= curiosity\n",
      "total time:  58.278048038482666\n",
      "lambda:  0.005\n",
      "leaves:  [(1,), (-7, -1), (-1, 7, 12), (-12, -3, -1, 7), (-12, -1, 3, 7)]\n",
      "num_captured:  [2174, 2898, 483, 205, 1147]\n",
      "num_captured_incorrect:  [736, 855, 164, 76, 455]\n",
      "prediction:  [1, 0, 1, 1, 0]\n",
      "Objective:  0.35596858259736497\n",
      "Accuracy:  0.669031417402635\n",
      "COUNT of the best tree:  18195\n",
      "time when the best tree is achieved:  15.42535138130188\n",
      "TOTAL COUNT:  241306\n"
     ]
    },
    {
     "data": {
      "text/plain": [
       "(12,\n",
       " 6907,\n",
       " 58.278048038482666,\n",
       " 15.42535138130188,\n",
       " 241306,\n",
       " 18195,\n",
       " 0.669031417402635)"
      ]
     },
     "execution_count": 6,
     "metadata": {},
     "output_type": "execute_result"
    }
   ],
   "source": [
    "bbound(x_compas1, y_compas1, lamb=0.005, prior_metric=\"curiosity\")"
   ]
  },
  {
   "cell_type": "code",
   "execution_count": 7,
   "metadata": {},
   "outputs": [
    {
     "name": "stdout",
     "output_type": "stream",
     "text": [
      "nrule: 12\n",
      "ndata: 6907\n",
      "gr: [0.00438766 0.0037798  0.00481064 0.00654486 0.00818606 0.00697492\n",
      " 0.00861952 0.01958141 0.0261244  0.00328364 0.0004441  0.03628272]\n",
      "order: [11, 8, 7, 6, 4, 5, 3, 2, 0, 1, 9, 10]\n",
      "odr: [11, 8, 7, 6, 4, 5, 3, 2, 0, 1, 9, 10]\n",
      "the order of x's columns:  [11, 8, 7, 6, 4, 5, 3, 2, 0, 1, 9, 10]\n",
      "COUNT: 1000000\n",
      "COUNT: 2000000\n",
      "COUNT: 3000000\n",
      "COUNT: 4000000\n",
      "COUNT: 5000000\n",
      "COUNT: 6000000\n",
      "COUNT: 7000000\n",
      "COUNT: 8000000\n",
      "COUNT: 9000000\n",
      "COUNT: 10000000\n",
      "COUNT: 11000000\n",
      "COUNT: 12000000\n",
      "COUNT: 13000000\n",
      "COUNT: 14000000\n",
      "COUNT: 15000000\n",
      "COUNT: 16000000\n",
      "COUNT: 17000000\n",
      "COUNT: 18000000\n",
      "COUNT: 19000000\n",
      "COUNT: 20000000\n",
      "COUNT: 21000000\n",
      "COUNT: 22000000\n",
      "COUNT: 23000000\n",
      "COUNT: 24000000\n",
      "COUNT: 25000000\n",
      "COUNT: 26000000\n",
      "COUNT: 27000000\n",
      "COUNT: 28000000\n",
      "COUNT: 29000000\n",
      "COUNT: 30000000\n",
      "COUNT: 31000000\n",
      "COUNT: 32000000\n",
      "COUNT: 33000000\n",
      "COUNT: 34000000\n",
      "COUNT: 35000000\n",
      "COUNT: 36000000\n",
      "COUNT: 37000000\n",
      "COUNT: 38000000\n",
      "COUNT: 39000000\n",
      "COUNT: 40000000\n",
      "COUNT: 41000000\n",
      "COUNT: 42000000\n",
      "COUNT: 43000000\n",
      "COUNT: 44000000\n",
      "COUNT: 45000000\n",
      "COUNT: 46000000\n",
      "COUNT: 47000000\n",
      "COUNT: 48000000\n",
      "COUNT: 49000000\n",
      "COUNT: 50000000\n",
      "COUNT: 51000000\n",
      "COUNT: 52000000\n",
      "COUNT: 53000000\n",
      "COUNT: 54000000\n",
      "COUNT: 55000000\n",
      "COUNT: 56000000\n",
      "COUNT: 57000000\n",
      "COUNT: 58000000\n",
      "COUNT: 59000000\n",
      "COUNT: 60000000\n",
      "COUNT: 61000000\n",
      "COUNT: 62000000\n",
      "COUNT: 63000000\n",
      "COUNT: 64000000\n",
      "COUNT: 65000000\n",
      "COUNT: 66000000\n",
      "COUNT: 67000000\n",
      "COUNT: 68000000\n",
      "COUNT: 69000000\n",
      "COUNT: 70000000\n",
      ">>> log: False\n",
      ">>> support bound: True\n",
      ">>> incre_support: True\n",
      ">>> accurate support bound: True\n",
      ">>> equiv points bound: True\n",
      ">>> lookahead bound: True\n",
      "prior_metric= curiosity\n",
      "total time:  4572.440722942352\n",
      "lambda:  0.0025\n",
      "leaves:  [(1,), (-7, -1), (-1, 7, 12), (-12, -3, -1, 7), (-12, -1, 3, 7)]\n",
      "num_captured:  [2174, 2898, 483, 205, 1147]\n",
      "num_captured_incorrect:  [736, 855, 164, 76, 455]\n",
      "prediction:  [1, 0, 1, 1, 0]\n",
      "Objective:  0.34346858259736496\n",
      "Accuracy:  0.669031417402635\n",
      "COUNT of the best tree:  3249198\n",
      "time when the best tree is achieved:  182.962171792984\n",
      "TOTAL COUNT:  70415779\n"
     ]
    },
    {
     "data": {
      "text/plain": [
       "(12,\n",
       " 6907,\n",
       " 4572.440722942352,\n",
       " 182.962171792984,\n",
       " 70415779,\n",
       " 3249198,\n",
       " 0.669031417402635)"
      ]
     },
     "execution_count": 7,
     "metadata": {},
     "output_type": "execute_result"
    }
   ],
   "source": [
    "bbound(x_compas1, y_compas1, lamb=0.0025, prior_metric=\"curiosity\")"
   ]
  },
  {
   "cell_type": "code",
   "execution_count": 8,
   "metadata": {},
   "outputs": [
    {
     "name": "stdout",
     "output_type": "stream",
     "text": [
      "nrule: 12\n",
      "ndata: 6907\n",
      "gr: [0.00438766 0.0037798  0.00481064 0.00654486 0.00818606 0.00697492\n",
      " 0.00861952 0.01958141 0.0261244  0.00328364 0.0004441  0.03628272]\n",
      "order: [11, 8, 7, 6, 4, 5, 3, 2, 0, 1, 9, 10]\n",
      "odr: [11, 8, 7, 6, 4, 5, 3, 2, 0, 1, 9, 10]\n",
      "the order of x's columns:  [11, 8, 7, 6, 4, 5, 3, 2, 0, 1, 9, 10]\n",
      "COUNT: 1000000\n",
      "COUNT: 2000000\n",
      "COUNT: 3000000\n",
      "COUNT: 4000000\n",
      "COUNT: 5000000\n",
      "COUNT: 6000000\n",
      "COUNT: 7000000\n",
      "COUNT: 8000000\n",
      "COUNT: 9000000\n",
      "COUNT: 10000000\n",
      "COUNT: 11000000\n",
      "COUNT: 12000000\n",
      "COUNT: 13000000\n",
      "COUNT: 14000000\n",
      "COUNT: 15000000\n",
      "COUNT: 16000000\n",
      "COUNT: 17000000\n",
      "COUNT: 18000000\n",
      "COUNT: 19000000\n",
      "COUNT: 20000000\n",
      "COUNT: 21000000\n",
      "COUNT: 22000000\n",
      "COUNT: 23000000\n",
      "COUNT: 24000000\n",
      "COUNT: 25000000\n",
      "COUNT: 26000000\n",
      "COUNT: 27000000\n",
      "COUNT: 28000000\n",
      "COUNT: 29000000\n",
      "COUNT: 30000000\n",
      "COUNT: 31000000\n",
      "COUNT: 32000000\n",
      "COUNT: 33000000\n",
      "COUNT: 34000000\n",
      "COUNT: 35000000\n",
      "COUNT: 36000000\n",
      "COUNT: 37000000\n",
      "COUNT: 38000000\n",
      "COUNT: 39000000\n",
      "COUNT: 40000000\n",
      "COUNT: 41000000\n",
      "COUNT: 42000000\n",
      "COUNT: 43000000\n",
      "COUNT: 44000000\n",
      "COUNT: 45000000\n",
      "COUNT: 46000000\n",
      "COUNT: 47000000\n",
      "COUNT: 48000000\n",
      "COUNT: 49000000\n",
      "COUNT: 50000000\n",
      "COUNT: 51000000\n",
      "COUNT: 52000000\n",
      "COUNT: 53000000\n",
      "COUNT: 54000000\n",
      "COUNT: 55000000\n",
      "COUNT: 56000000\n",
      "COUNT: 57000000\n",
      "COUNT: 58000000\n",
      "COUNT: 59000000\n",
      "COUNT: 60000000\n",
      "COUNT: 61000000\n",
      "COUNT: 62000000\n",
      "COUNT: 63000000\n",
      "COUNT: 64000000\n",
      "COUNT: 65000000\n",
      "COUNT: 66000000\n",
      "COUNT: 67000000\n",
      "COUNT: 68000000\n",
      "COUNT: 69000000\n",
      "COUNT: 70000000\n",
      "COUNT: 71000000\n",
      "COUNT: 72000000\n",
      "COUNT: 73000000\n",
      "COUNT: 74000000\n",
      "COUNT: 75000000\n",
      "COUNT: 76000000\n",
      "COUNT: 77000000\n",
      "COUNT: 78000000\n",
      "COUNT: 79000000\n",
      ">>> log: False\n",
      ">>> support bound: True\n",
      ">>> incre_support: True\n",
      ">>> accurate support bound: True\n",
      ">>> equiv points bound: True\n",
      ">>> lookahead bound: True\n",
      "prior_metric= curiosity\n",
      "total time:  5176.5578598976135\n",
      "lambda:  0.00225\n",
      "leaves:  [(1,), (-7, -1), (-1, 7, 12), (-12, -3, -1, 7), (-12, -1, 3, 7)]\n",
      "num_captured:  [2174, 2898, 483, 205, 1147]\n",
      "num_captured_incorrect:  [736, 855, 164, 76, 455]\n",
      "prediction:  [1, 0, 1, 1, 0]\n",
      "Objective:  0.34221858259736493\n",
      "Accuracy:  0.669031417402635\n",
      "COUNT of the best tree:  4298809\n",
      "time when the best tree is achieved:  234.16375994682312\n",
      "TOTAL COUNT:  79568936\n"
     ]
    },
    {
     "data": {
      "text/plain": [
       "(12,\n",
       " 6907,\n",
       " 5176.5578598976135,\n",
       " 234.16375994682312,\n",
       " 79568936,\n",
       " 4298809,\n",
       " 0.669031417402635)"
      ]
     },
     "execution_count": 8,
     "metadata": {},
     "output_type": "execute_result"
    }
   ],
   "source": [
    "bbound(x_compas1, y_compas1, lamb=0.00225, prior_metric=\"curiosity\")"
   ]
  },
  {
   "cell_type": "code",
   "execution_count": 9,
   "metadata": {},
   "outputs": [
    {
     "name": "stdout",
     "output_type": "stream",
     "text": [
      "nrule: 12\n",
      "ndata: 6907\n",
      "gr: [0.00438766 0.0037798  0.00481064 0.00654486 0.00818606 0.00697492\n",
      " 0.00861952 0.01958141 0.0261244  0.00328364 0.0004441  0.03628272]\n",
      "order: [11, 8, 7, 6, 4, 5, 3, 2, 0, 1, 9, 10]\n",
      "odr: [11, 8, 7, 6, 4, 5, 3, 2, 0, 1, 9, 10]\n",
      "the order of x's columns:  [11, 8, 7, 6, 4, 5, 3, 2, 0, 1, 9, 10]\n",
      "COUNT: 1000000\n",
      "COUNT: 2000000\n",
      "COUNT: 3000000\n",
      "COUNT: 4000000\n",
      "COUNT: 5000000\n",
      "COUNT: 6000000\n",
      "COUNT: 7000000\n",
      "COUNT: 8000000\n",
      "COUNT: 9000000\n",
      "COUNT: 10000000\n",
      "COUNT: 11000000\n",
      "COUNT: 12000000\n",
      "COUNT: 13000000\n",
      "COUNT: 14000000\n",
      "COUNT: 15000000\n",
      "COUNT: 16000000\n",
      "COUNT: 17000000\n",
      "COUNT: 18000000\n",
      "COUNT: 19000000\n",
      "COUNT: 20000000\n",
      "COUNT: 21000000\n",
      "COUNT: 22000000\n",
      "COUNT: 23000000\n",
      "COUNT: 24000000\n",
      "COUNT: 25000000\n",
      "COUNT: 26000000\n",
      "COUNT: 27000000\n",
      "COUNT: 28000000\n",
      "COUNT: 29000000\n",
      "COUNT: 30000000\n",
      "COUNT: 31000000\n",
      "COUNT: 32000000\n",
      "COUNT: 33000000\n",
      "COUNT: 34000000\n",
      "COUNT: 35000000\n",
      "COUNT: 36000000\n",
      "COUNT: 37000000\n",
      "COUNT: 38000000\n",
      "COUNT: 39000000\n",
      "COUNT: 40000000\n",
      "COUNT: 41000000\n",
      "COUNT: 42000000\n",
      "COUNT: 43000000\n",
      "COUNT: 44000000\n",
      "COUNT: 45000000\n",
      "COUNT: 46000000\n",
      "COUNT: 47000000\n",
      "COUNT: 48000000\n",
      "COUNT: 49000000\n",
      "COUNT: 50000000\n",
      "COUNT: 51000000\n",
      "COUNT: 52000000\n",
      "COUNT: 53000000\n",
      "COUNT: 54000000\n",
      "COUNT: 55000000\n",
      "COUNT: 56000000\n",
      "COUNT: 57000000\n",
      "COUNT: 58000000\n",
      "COUNT: 59000000\n",
      "COUNT: 60000000\n",
      "COUNT: 61000000\n",
      "COUNT: 62000000\n",
      "COUNT: 63000000\n",
      "COUNT: 64000000\n",
      "COUNT: 65000000\n",
      "COUNT: 66000000\n",
      "COUNT: 67000000\n",
      "COUNT: 68000000\n",
      "COUNT: 69000000\n",
      "COUNT: 70000000\n",
      "COUNT: 71000000\n",
      "COUNT: 72000000\n",
      "COUNT: 73000000\n",
      "COUNT: 74000000\n",
      "COUNT: 75000000\n",
      "COUNT: 76000000\n",
      "COUNT: 77000000\n",
      "COUNT: 78000000\n",
      "COUNT: 79000000\n",
      "COUNT: 80000000\n",
      "COUNT: 81000000\n",
      "COUNT: 82000000\n",
      "COUNT: 83000000\n",
      "COUNT: 84000000\n",
      "COUNT: 85000000\n",
      "COUNT: 86000000\n",
      "COUNT: 87000000\n",
      "COUNT: 88000000\n",
      "COUNT: 89000000\n",
      "COUNT: 90000000\n",
      "COUNT: 91000000\n",
      "COUNT: 92000000\n",
      "COUNT: 93000000\n",
      "COUNT: 94000000\n",
      "COUNT: 95000000\n",
      "COUNT: 96000000\n",
      "COUNT: 97000000\n",
      "COUNT: 98000000\n",
      "COUNT: 99000000\n",
      "COUNT: 100000000\n",
      "COUNT: 101000000\n",
      "COUNT: 102000000\n",
      "COUNT: 103000000\n",
      "COUNT: 104000000\n",
      "COUNT: 105000000\n",
      "COUNT: 106000000\n",
      ">>> log: False\n",
      ">>> support bound: True\n",
      ">>> incre_support: True\n",
      ">>> accurate support bound: True\n",
      ">>> equiv points bound: True\n",
      ">>> lookahead bound: True\n",
      "prior_metric= curiosity\n",
      "total time:  6860.2725558280945\n",
      "lambda:  0.002\n",
      "leaves:  [(1,), (-7, -1), (-1, 7, 12), (-12, -3, -1, 7), (-12, -1, 3, 7)]\n",
      "num_captured:  [2174, 2898, 483, 205, 1147]\n",
      "num_captured_incorrect:  [736, 855, 164, 76, 455]\n",
      "prediction:  [1, 0, 1, 1, 0]\n",
      "Objective:  0.34096858259736496\n",
      "Accuracy:  0.669031417402635\n",
      "COUNT of the best tree:  6834417\n",
      "time when the best tree is achieved:  348.96606397628784\n",
      "TOTAL COUNT:  106249418\n"
     ]
    },
    {
     "data": {
      "text/plain": [
       "(12,\n",
       " 6907,\n",
       " 6860.2725558280945,\n",
       " 348.96606397628784,\n",
       " 106249418,\n",
       " 6834417,\n",
       " 0.669031417402635)"
      ]
     },
     "execution_count": 9,
     "metadata": {},
     "output_type": "execute_result"
    }
   ],
   "source": [
    "bbound(x_compas1, y_compas1, lamb=0.002, prior_metric=\"curiosity\")"
   ]
  },
  {
   "cell_type": "code",
   "execution_count": null,
   "metadata": {},
   "outputs": [
    {
     "name": "stdout",
     "output_type": "stream",
     "text": [
      "nrule: 12\n",
      "ndata: 6907\n",
      "gr: [0.00438766 0.0037798  0.00481064 0.00654486 0.00818606 0.00697492\n",
      " 0.00861952 0.01958141 0.0261244  0.00328364 0.0004441  0.03628272]\n",
      "order: [11, 8, 7, 6, 4, 5, 3, 2, 0, 1, 9, 10]\n",
      "odr: [11, 8, 7, 6, 4, 5, 3, 2, 0, 1, 9, 10]\n",
      "the order of x's columns:  [11, 8, 7, 6, 4, 5, 3, 2, 0, 1, 9, 10]\n",
      "COUNT: 1000000\n",
      "COUNT: 2000000\n",
      "COUNT: 3000000\n",
      "COUNT: 4000000\n",
      "COUNT: 5000000\n",
      "COUNT: 6000000\n",
      "COUNT: 7000000\n",
      "COUNT: 8000000\n",
      "COUNT: 9000000\n",
      "COUNT: 10000000\n",
      "COUNT: 11000000\n",
      "COUNT: 12000000\n",
      "COUNT: 13000000\n",
      "COUNT: 14000000\n",
      "COUNT: 15000000\n",
      "COUNT: 16000000\n",
      "COUNT: 17000000\n",
      "COUNT: 18000000\n",
      "COUNT: 19000000\n",
      "COUNT: 20000000\n",
      "COUNT: 21000000\n",
      "COUNT: 22000000\n",
      "COUNT: 23000000\n",
      "COUNT: 24000000\n",
      "COUNT: 25000000\n",
      "COUNT: 26000000\n",
      "COUNT: 27000000\n",
      "COUNT: 28000000\n",
      "COUNT: 29000000\n",
      "COUNT: 30000000\n",
      "COUNT: 31000000\n",
      "COUNT: 32000000\n",
      "COUNT: 33000000\n",
      "COUNT: 34000000\n",
      "COUNT: 35000000\n",
      "COUNT: 36000000\n",
      "COUNT: 37000000\n",
      "COUNT: 38000000\n",
      "COUNT: 39000000\n",
      "COUNT: 40000000\n",
      "COUNT: 41000000\n",
      "COUNT: 42000000\n",
      "COUNT: 43000000\n",
      "COUNT: 44000000\n",
      "COUNT: 45000000\n",
      "COUNT: 46000000\n",
      "COUNT: 47000000\n",
      "COUNT: 48000000\n",
      "COUNT: 49000000\n",
      "COUNT: 50000000\n",
      "COUNT: 51000000\n",
      "COUNT: 52000000\n",
      "COUNT: 53000000\n",
      "COUNT: 54000000\n",
      "COUNT: 55000000\n",
      "COUNT: 56000000\n",
      "COUNT: 57000000\n",
      "COUNT: 58000000\n",
      "COUNT: 59000000\n",
      "COUNT: 60000000\n",
      "COUNT: 61000000\n",
      "COUNT: 62000000\n",
      "COUNT: 63000000\n",
      "COUNT: 64000000\n",
      "COUNT: 65000000\n",
      "COUNT: 66000000\n",
      "COUNT: 67000000\n",
      "COUNT: 68000000\n",
      "COUNT: 69000000\n",
      "COUNT: 70000000\n",
      "COUNT: 71000000\n",
      "COUNT: 72000000\n",
      "COUNT: 73000000\n",
      "COUNT: 74000000\n",
      "COUNT: 75000000\n",
      "COUNT: 76000000\n",
      "COUNT: 77000000\n",
      "COUNT: 78000000\n",
      "COUNT: 79000000\n",
      "COUNT: 80000000\n",
      "COUNT: 81000000\n",
      "COUNT: 82000000\n",
      "COUNT: 83000000\n",
      "COUNT: 84000000\n",
      "COUNT: 85000000\n",
      "COUNT: 86000000\n",
      "COUNT: 87000000\n",
      "COUNT: 88000000\n",
      "COUNT: 89000000\n",
      "COUNT: 90000000\n",
      "COUNT: 91000000\n",
      "COUNT: 92000000\n",
      "COUNT: 93000000\n",
      "COUNT: 94000000\n",
      "COUNT: 95000000\n",
      "COUNT: 96000000\n",
      "COUNT: 97000000\n",
      "COUNT: 98000000\n",
      "COUNT: 99000000\n",
      "COUNT: 100000000\n",
      "COUNT: 101000000\n",
      "COUNT: 102000000\n",
      "COUNT: 103000000\n",
      "COUNT: 104000000\n",
      "COUNT: 105000000\n",
      "COUNT: 106000000\n",
      "COUNT: 107000000\n",
      "COUNT: 108000000\n",
      "COUNT: 109000000\n",
      "COUNT: 110000000\n",
      "COUNT: 111000000\n",
      "COUNT: 112000000\n",
      "COUNT: 113000000\n",
      "COUNT: 114000000\n",
      "COUNT: 115000000\n",
      "COUNT: 116000000\n",
      "COUNT: 117000000\n",
      "COUNT: 118000000\n",
      "COUNT: 119000000\n",
      "COUNT: 120000000\n",
      "COUNT: 121000000\n",
      "COUNT: 122000000\n",
      "COUNT: 123000000\n",
      "COUNT: 124000000\n",
      "COUNT: 125000000\n",
      "COUNT: 126000000\n",
      "COUNT: 127000000\n",
      "COUNT: 128000000\n",
      "COUNT: 129000000\n",
      "COUNT: 130000000\n",
      "COUNT: 131000000\n",
      "COUNT: 132000000\n",
      "COUNT: 133000000\n",
      "COUNT: 134000000\n",
      "COUNT: 135000000\n",
      "COUNT: 136000000\n",
      "COUNT: 137000000\n",
      "COUNT: 138000000\n",
      "COUNT: 139000000\n",
      "COUNT: 140000000\n",
      "COUNT: 141000000\n",
      "COUNT: 142000000\n",
      "COUNT: 143000000\n",
      "COUNT: 144000000\n",
      "COUNT: 145000000\n",
      "COUNT: 146000000\n",
      "COUNT: 147000000\n",
      "COUNT: 148000000\n",
      "COUNT: 149000000\n",
      "COUNT: 150000000\n",
      "COUNT: 151000000\n",
      "COUNT: 152000000\n",
      "COUNT: 153000000\n",
      "COUNT: 154000000\n",
      "COUNT: 155000000\n",
      "COUNT: 156000000\n",
      "COUNT: 157000000\n",
      "COUNT: 158000000\n",
      "COUNT: 159000000\n",
      "COUNT: 160000000\n",
      "COUNT: 161000000\n",
      "COUNT: 162000000\n",
      "COUNT: 163000000\n",
      "COUNT: 164000000\n",
      "COUNT: 165000000\n",
      "COUNT: 166000000\n",
      "COUNT: 167000000\n",
      "COUNT: 168000000\n",
      "COUNT: 169000000\n",
      "COUNT: 170000000\n",
      "COUNT: 171000000\n",
      "COUNT: 172000000\n",
      "COUNT: 173000000\n",
      "COUNT: 174000000\n",
      "COUNT: 175000000\n",
      "COUNT: 176000000\n",
      "COUNT: 177000000\n",
      "COUNT: 178000000\n",
      "COUNT: 179000000\n",
      "COUNT: 180000000\n",
      "COUNT: 181000000\n",
      "COUNT: 182000000\n",
      "COUNT: 183000000\n",
      "COUNT: 184000000\n",
      "COUNT: 185000000\n",
      ">>> log: False\n",
      ">>> support bound: True\n",
      ">>> incre_support: True\n",
      ">>> accurate support bound: True\n",
      ">>> equiv points bound: True\n",
      ">>> lookahead bound: True\n",
      "prior_metric= curiosity\n",
      "total time:  12086.536372184753\n",
      "lambda:  0.00175\n",
      "leaves:  [(1,), (-7, -1), (-1, 7, 12), (-12, -3, -1, 7), (-12, -1, 3, 7)]\n",
      "num_captured:  [2174, 2898, 483, 205, 1147]\n",
      "num_captured_incorrect:  [736, 855, 164, 76, 455]\n",
      "prediction:  [1, 0, 1, 1, 0]\n",
      "Objective:  0.3397185825973649\n",
      "Accuracy:  0.669031417402635\n",
      "COUNT of the best tree:  9328267\n",
      "time when the best tree is achieved:  478.7136330604553\n",
      "TOTAL COUNT:  185145347\n"
     ]
    },
    {
     "data": {
      "text/plain": [
       "(12,\n",
       " 6907,\n",
       " 12086.536372184753,\n",
       " 478.7136330604553,\n",
       " 185145347,\n",
       " 9328267,\n",
       " 0.669031417402635)"
      ]
     },
     "execution_count": 10,
     "metadata": {},
     "output_type": "execute_result"
    }
   ],
   "source": [
    "bbound(x_compas1, y_compas1, lamb=0.00175, prior_metric=\"curiosity\")"
   ]
  },
  {
   "cell_type": "code",
   "execution_count": null,
   "metadata": {},
   "outputs": [
    {
     "name": "stdout",
     "output_type": "stream",
     "text": [
      "nrule: 12\n",
      "ndata: 6907\n",
      "gr: [0.00438766 0.0037798  0.00481064 0.00654486 0.00818606 0.00697492\n",
      " 0.00861952 0.01958141 0.0261244  0.00328364 0.0004441  0.03628272]\n",
      "order: [11, 8, 7, 6, 4, 5, 3, 2, 0, 1, 9, 10]\n",
      "odr: [11, 8, 7, 6, 4, 5, 3, 2, 0, 1, 9, 10]\n",
      "the order of x's columns:  [11, 8, 7, 6, 4, 5, 3, 2, 0, 1, 9, 10]\n",
      "COUNT: 1000000\n",
      "COUNT: 2000000\n",
      "COUNT: 3000000\n",
      "COUNT: 4000000\n",
      "COUNT: 5000000\n",
      "COUNT: 6000000\n",
      "COUNT: 7000000\n",
      "COUNT: 8000000\n",
      "COUNT: 9000000\n",
      "COUNT: 10000000\n",
      "COUNT: 11000000\n",
      "COUNT: 12000000\n",
      "COUNT: 13000000\n",
      "COUNT: 14000000\n",
      "COUNT: 15000000\n",
      "COUNT: 16000000\n",
      "COUNT: 17000000\n",
      "COUNT: 18000000\n",
      "COUNT: 19000000\n",
      "COUNT: 20000000\n",
      "COUNT: 21000000\n",
      "COUNT: 22000000\n",
      "COUNT: 23000000\n",
      "COUNT: 24000000\n",
      "COUNT: 25000000\n",
      "COUNT: 26000000\n",
      "COUNT: 27000000\n",
      "COUNT: 28000000\n",
      "COUNT: 29000000\n",
      "COUNT: 30000000\n",
      "COUNT: 31000000\n",
      "COUNT: 32000000\n",
      "COUNT: 33000000\n",
      "COUNT: 34000000\n",
      "COUNT: 35000000\n",
      "COUNT: 36000000\n",
      "COUNT: 37000000\n",
      "COUNT: 38000000\n",
      "COUNT: 39000000\n",
      "COUNT: 40000000\n",
      "COUNT: 41000000\n",
      "COUNT: 42000000\n",
      "COUNT: 43000000\n",
      "COUNT: 44000000\n",
      "COUNT: 45000000\n",
      "COUNT: 46000000\n",
      "COUNT: 47000000\n",
      "COUNT: 48000000\n",
      "COUNT: 49000000\n",
      "COUNT: 50000000\n",
      "COUNT: 51000000\n",
      "COUNT: 52000000\n",
      "COUNT: 53000000\n",
      "COUNT: 54000000\n",
      "COUNT: 55000000\n",
      "COUNT: 56000000\n",
      "COUNT: 57000000\n",
      "COUNT: 58000000\n",
      "COUNT: 59000000\n",
      "COUNT: 60000000\n",
      "COUNT: 61000000\n",
      "COUNT: 62000000\n",
      "COUNT: 63000000\n",
      "COUNT: 64000000\n"
     ]
    }
   ],
   "source": [
    "bbound(x_compas1, y_compas1, lamb=0.0015, prior_metric=\"curiosity\")"
   ]
  },
  {
   "cell_type": "code",
   "execution_count": null,
   "metadata": {},
   "outputs": [],
   "source": [
    "bbound(x_compas1, y_compas1, lamb=0.00125, prior_metric=\"curiosity\")"
   ]
  },
  {
   "cell_type": "code",
   "execution_count": null,
   "metadata": {},
   "outputs": [],
   "source": [
    "bbound(x_compas1, y_compas1, lamb=0.001, prior_metric=\"curiosity\")"
   ]
  },
  {
   "cell_type": "code",
   "execution_count": null,
   "metadata": {},
   "outputs": [],
   "source": [
    "bbound(x_compas1, y_compas1, lamb=0.0009, prior_metric=\"curiosity\")"
   ]
  },
  {
   "cell_type": "code",
   "execution_count": null,
   "metadata": {},
   "outputs": [],
   "source": [
    "bbound(x_compas1, y_compas1, lamb=0.0008, prior_metric=\"curiosity\")"
   ]
  },
  {
   "cell_type": "code",
   "execution_count": null,
   "metadata": {},
   "outputs": [],
   "source": []
  },
  {
   "cell_type": "code",
   "execution_count": null,
   "metadata": {},
   "outputs": [],
   "source": []
  },
  {
   "cell_type": "code",
   "execution_count": null,
   "metadata": {},
   "outputs": [],
   "source": []
  },
  {
   "cell_type": "code",
   "execution_count": null,
   "metadata": {},
   "outputs": [],
   "source": []
  },
  {
   "cell_type": "code",
   "execution_count": 16,
   "metadata": {},
   "outputs": [
    {
     "name": "stdout",
     "output_type": "stream",
     "text": [
      "nrule: 12\n",
      "ndata: 6907\n",
      "gr: [0.00438766 0.0037798  0.00481064 0.00654486 0.00818606 0.00697492\n",
      " 0.00861952 0.01958141 0.0261244  0.00328364 0.0004441  0.03628272]\n",
      "order: [11, 8, 7, 6, 4, 5, 3, 2, 0, 1, 9, 10]\n",
      "odr: [11, 8, 7, 6, 4, 5, 3, 2, 0, 1, 9, 10]\n",
      "the order of x's columns:  [11, 8, 7, 6, 4, 5, 3, 2, 0, 1, 9, 10]\n",
      ">>> log: False\n",
      ">>> support bound: True\n",
      ">>> incre_support: True\n",
      ">>> accurate support bound: True\n",
      ">>> equiv points bound: True\n",
      ">>> lookahead bound: True\n",
      "prior_metric= curiosity\n",
      "total time:  12.988643884658813\n",
      "lambda:  1e-09\n",
      "leaves:  [(-7, -1), (-7, 1), (-2, 7), (2, 7)]\n",
      "num_captured:  [2898, 1741, 1446, 822]\n",
      "num_captured_incorrect:  [855, 635, 527, 316]\n",
      "prediction:  [0, 1, 1, 0]\n",
      "Objective:  0.3377732774906616\n",
      "Accuracy:  0.6622267265093384\n",
      "COUNT of the best tree:  37\n",
      "time when the best tree is achieved:  4.206876754760742\n",
      "TOTAL COUNT:  208\n"
     ]
    },
    {
     "data": {
      "text/plain": [
       "(12, 6907, 12.988643884658813, 4.206876754760742, 208, 37, 0.6622267265093384)"
      ]
     },
     "execution_count": 16,
     "metadata": {},
     "output_type": "execute_result"
    }
   ],
   "source": [
    "bbound(x_compas1, y_compas1, lamb=0.000000001, prior_metric=\"curiosity\", MAX_NLEAVES=4, MAXDEPTH=3)"
   ]
  },
  {
   "cell_type": "code",
   "execution_count": 17,
   "metadata": {},
   "outputs": [
    {
     "name": "stdout",
     "output_type": "stream",
     "text": [
      "nrule: 12\n",
      "ndata: 6907\n",
      "gr: [0.00438766 0.0037798  0.00481064 0.00654486 0.00818606 0.00697492\n",
      " 0.00861952 0.01958141 0.0261244  0.00328364 0.0004441  0.03628272]\n",
      "order: [11, 8, 7, 6, 4, 5, 3, 2, 0, 1, 9, 10]\n",
      "odr: [11, 8, 7, 6, 4, 5, 3, 2, 0, 1, 9, 10]\n",
      "the order of x's columns:  [11, 8, 7, 6, 4, 5, 3, 2, 0, 1, 9, 10]\n",
      ">>> log: False\n",
      ">>> support bound: True\n",
      ">>> incre_support: True\n",
      ">>> accurate support bound: True\n",
      ">>> equiv points bound: True\n",
      ">>> lookahead bound: True\n",
      "prior_metric= curiosity\n",
      "total time:  22.962584972381592\n",
      "lambda:  1e-09\n",
      "leaves:  [(-3,), (-12, -1, 3), (-12, 1, 3), (-7, 3, 12), (3, 7, 12)]\n",
      "num_captured:  [943, 3180, 1645, 808, 331]\n",
      "num_captured_incorrect:  [272, 968, 615, 315, 119]\n",
      "prediction:  [1, 0, 1, 0, 1]\n",
      "Objective:  0.3314029295692776\n",
      "Accuracy:  0.6685970754307224\n",
      "COUNT of the best tree:  2131\n",
      "time when the best tree is achieved:  12.98018503189087\n",
      "TOTAL COUNT:  2262\n"
     ]
    },
    {
     "data": {
      "text/plain": [
       "(12,\n",
       " 6907,\n",
       " 22.962584972381592,\n",
       " 12.98018503189087,\n",
       " 2262,\n",
       " 2131,\n",
       " 0.6685970754307224)"
      ]
     },
     "execution_count": 17,
     "metadata": {},
     "output_type": "execute_result"
    }
   ],
   "source": [
    "bbound(x_compas1, y_compas1, lamb=0.000000001, prior_metric=\"curiosity\", MAX_NLEAVES=5, MAXDEPTH=3)"
   ]
  },
  {
   "cell_type": "code",
   "execution_count": 18,
   "metadata": {},
   "outputs": [
    {
     "name": "stdout",
     "output_type": "stream",
     "text": [
      "nrule: 12\n",
      "ndata: 6907\n",
      "gr: [0.00438766 0.0037798  0.00481064 0.00654486 0.00818606 0.00697492\n",
      " 0.00861952 0.01958141 0.0261244  0.00328364 0.0004441  0.03628272]\n",
      "order: [11, 8, 7, 6, 4, 5, 3, 2, 0, 1, 9, 10]\n",
      "odr: [11, 8, 7, 6, 4, 5, 3, 2, 0, 1, 9, 10]\n",
      "the order of x's columns:  [11, 8, 7, 6, 4, 5, 3, 2, 0, 1, 9, 10]\n",
      ">>> log: False\n",
      ">>> support bound: True\n",
      ">>> incre_support: True\n",
      ">>> accurate support bound: True\n",
      ">>> equiv points bound: True\n",
      ">>> lookahead bound: True\n",
      "prior_metric= curiosity\n",
      "total time:  34.413691997528076\n",
      "lambda:  1e-09\n",
      "leaves:  [(-7, 12), (7, 12), (-12, -10, -1), (-12, -10, 1), (-12, -9, 10), (-12, 9, 10)]\n",
      "num_captured:  [847, 483, 2856, 2142, 479, 100]\n",
      "num_captured_incorrect:  [337, 164, 806, 734, 196, 43]\n",
      "prediction:  [0, 1, 0, 1, 1, 0]\n",
      "Objective:  0.3300999046535399\n",
      "Accuracy:  0.66990010134646\n",
      "COUNT of the best tree:  7431\n",
      "time when the best tree is achieved:  33.88090515136719\n",
      "TOTAL COUNT:  7463\n"
     ]
    },
    {
     "data": {
      "text/plain": [
       "(12, 6907, 34.413691997528076, 33.88090515136719, 7463, 7431, 0.66990010134646)"
      ]
     },
     "execution_count": 18,
     "metadata": {},
     "output_type": "execute_result"
    }
   ],
   "source": [
    "bbound(x_compas1, y_compas1, lamb=0.000000001, prior_metric=\"curiosity\", MAX_NLEAVES=6, MAXDEPTH=3)"
   ]
  },
  {
   "cell_type": "code",
   "execution_count": 19,
   "metadata": {},
   "outputs": [
    {
     "name": "stdout",
     "output_type": "stream",
     "text": [
      "nrule: 12\n",
      "ndata: 6907\n",
      "gr: [0.00438766 0.0037798  0.00481064 0.00654486 0.00818606 0.00697492\n",
      " 0.00861952 0.01958141 0.0261244  0.00328364 0.0004441  0.03628272]\n",
      "order: [11, 8, 7, 6, 4, 5, 3, 2, 0, 1, 9, 10]\n",
      "odr: [11, 8, 7, 6, 4, 5, 3, 2, 0, 1, 9, 10]\n",
      "the order of x's columns:  [11, 8, 7, 6, 4, 5, 3, 2, 0, 1, 9, 10]\n",
      ">>> log: False\n",
      ">>> support bound: True\n",
      ">>> incre_support: True\n",
      ">>> accurate support bound: True\n",
      ">>> equiv points bound: True\n",
      ">>> lookahead bound: True\n",
      "prior_metric= curiosity\n",
      "total time:  65.93205189704895\n",
      "lambda:  1e-09\n",
      "leaves:  [(7, 12), (-12, -10, -1), (-12, -10, 1), (-12, -9, 10), (-12, 9, 10), (-7, -3, 12), (-7, 3, 12)]\n",
      "num_captured:  [483, 2856, 2142, 479, 100, 39, 808]\n",
      "num_captured_incorrect:  [164, 806, 734, 196, 43, 17, 315]\n",
      "prediction:  [1, 0, 1, 1, 0, 1, 0]\n",
      "Objective:  0.32937600236701897\n",
      "Accuracy:  0.670624004632981\n",
      "COUNT of the best tree:  11623\n",
      "time when the best tree is achieved:  54.234190702438354\n",
      "TOTAL COUNT:  11655\n"
     ]
    },
    {
     "data": {
      "text/plain": [
       "(12,\n",
       " 6907,\n",
       " 65.93205189704895,\n",
       " 54.234190702438354,\n",
       " 11655,\n",
       " 11623,\n",
       " 0.670624004632981)"
      ]
     },
     "execution_count": 19,
     "metadata": {},
     "output_type": "execute_result"
    }
   ],
   "source": [
    "bbound(x_compas1, y_compas1, lamb=0.000000001, prior_metric=\"curiosity\", MAX_NLEAVES=7, MAXDEPTH=3)"
   ]
  },
  {
   "cell_type": "code",
   "execution_count": 20,
   "metadata": {},
   "outputs": [
    {
     "name": "stdout",
     "output_type": "stream",
     "text": [
      "nrule: 12\n",
      "ndata: 6907\n",
      "gr: [0.00438766 0.0037798  0.00481064 0.00654486 0.00818606 0.00697492\n",
      " 0.00861952 0.01958141 0.0261244  0.00328364 0.0004441  0.03628272]\n",
      "order: [11, 8, 7, 6, 4, 5, 3, 2, 0, 1, 9, 10]\n",
      "odr: [11, 8, 7, 6, 4, 5, 3, 2, 0, 1, 9, 10]\n",
      "the order of x's columns:  [11, 8, 7, 6, 4, 5, 3, 2, 0, 1, 9, 10]\n",
      ">>> log: False\n",
      ">>> support bound: True\n",
      ">>> incre_support: True\n",
      ">>> accurate support bound: True\n",
      ">>> equiv points bound: True\n",
      ">>> lookahead bound: True\n",
      "prior_metric= curiosity\n",
      "total time:  141.00547981262207\n",
      "lambda:  1e-09\n",
      "leaves:  [(-12, -10, -1), (-12, -10, 1), (-12, -9, 10), (-12, 9, 10), (-9, -3, 12), (-3, 9, 12), (-7, 3, 12), (3, 7, 12)]\n",
      "num_captured:  [2856, 2142, 479, 100, 172, 19, 808, 331]\n",
      "num_captured_incorrect:  [806, 734, 196, 43, 51, 8, 315, 119]\n",
      "prediction:  [0, 1, 1, 0, 1, 0, 0, 1]\n",
      "Objective:  0.32894166139510644\n",
      "Accuracy:  0.6710583466048936\n",
      "COUNT of the best tree:  12470\n",
      "time when the best tree is achieved:  98.48421478271484\n",
      "TOTAL COUNT:  12694\n"
     ]
    },
    {
     "data": {
      "text/plain": [
       "(12,\n",
       " 6907,\n",
       " 141.00547981262207,\n",
       " 98.48421478271484,\n",
       " 12694,\n",
       " 12470,\n",
       " 0.6710583466048936)"
      ]
     },
     "execution_count": 20,
     "metadata": {},
     "output_type": "execute_result"
    }
   ],
   "source": [
    "bbound(x_compas1, y_compas1, lamb=0.000000001, prior_metric=\"curiosity\", MAX_NLEAVES=8, MAXDEPTH=3)"
   ]
  },
  {
   "cell_type": "code",
   "execution_count": 21,
   "metadata": {},
   "outputs": [
    {
     "name": "stdout",
     "output_type": "stream",
     "text": [
      "nrule: 12\n",
      "ndata: 6907\n",
      "gr: [0.00438766 0.0037798  0.00481064 0.00654486 0.00818606 0.00697492\n",
      " 0.00861952 0.01958141 0.0261244  0.00328364 0.0004441  0.03628272]\n",
      "order: [11, 8, 7, 6, 4, 5, 3, 2, 0, 1, 9, 10]\n",
      "odr: [11, 8, 7, 6, 4, 5, 3, 2, 0, 1, 9, 10]\n",
      "the order of x's columns:  [11, 8, 7, 6, 4, 5, 3, 2, 0, 1, 9, 10]\n",
      ">>> log: False\n",
      ">>> support bound: True\n",
      ">>> incre_support: True\n",
      ">>> accurate support bound: True\n",
      ">>> equiv points bound: True\n",
      ">>> lookahead bound: True\n",
      "prior_metric= curiosity\n",
      "total time:  35.23026204109192\n",
      "lambda:  1e-09\n",
      "leaves:  [(1,), (-7, -1), (-1, 7, 12), (-12, -3, -1, 7), (-12, -1, 3, 7)]\n",
      "num_captured:  [2174, 2898, 483, 205, 1147]\n",
      "num_captured_incorrect:  [736, 855, 164, 76, 455]\n",
      "prediction:  [1, 0, 1, 1, 0]\n",
      "Objective:  0.33096858759736497\n",
      "Accuracy:  0.669031417402635\n",
      "COUNT of the best tree:  2690\n",
      "time when the best tree is achieved:  28.08021593093872\n",
      "TOTAL COUNT:  3026\n"
     ]
    },
    {
     "data": {
      "text/plain": [
       "(12, 6907, 35.23026204109192, 28.08021593093872, 3026, 2690, 0.669031417402635)"
      ]
     },
     "execution_count": 21,
     "metadata": {},
     "output_type": "execute_result"
    }
   ],
   "source": [
    "bbound(x_compas1, y_compas1, lamb=0.000000001, prior_metric=\"curiosity\", MAX_NLEAVES=5, MAXDEPTH=4)"
   ]
  },
  {
   "cell_type": "code",
   "execution_count": 22,
   "metadata": {},
   "outputs": [
    {
     "name": "stdout",
     "output_type": "stream",
     "text": [
      "nrule: 12\n",
      "ndata: 6907\n",
      "gr: [0.00438766 0.0037798  0.00481064 0.00654486 0.00818606 0.00697492\n",
      " 0.00861952 0.01958141 0.0261244  0.00328364 0.0004441  0.03628272]\n",
      "order: [11, 8, 7, 6, 4, 5, 3, 2, 0, 1, 9, 10]\n",
      "odr: [11, 8, 7, 6, 4, 5, 3, 2, 0, 1, 9, 10]\n",
      "the order of x's columns:  [11, 8, 7, 6, 4, 5, 3, 2, 0, 1, 9, 10]\n",
      ">>> log: False\n",
      ">>> support bound: True\n",
      ">>> incre_support: True\n",
      ">>> accurate support bound: True\n",
      ">>> equiv points bound: True\n",
      ">>> lookahead bound: True\n",
      "prior_metric= curiosity\n",
      "total time:  98.27965807914734\n",
      "lambda:  1e-09\n",
      "leaves:  [(1,), (-12, -10, -1), (-7, -1, 12), (-1, 7, 12), (-12, -9, -1, 10), (-12, -1, 9, 10)]\n",
      "num_captured:  [2174, 2856, 847, 483, 451, 96]\n",
      "num_captured_incorrect:  [736, 806, 337, 164, 194, 39]\n",
      "prediction:  [1, 0, 0, 1, 1, 0]\n",
      "Objective:  0.32952078202432317\n",
      "Accuracy:  0.6704792239756768\n",
      "COUNT of the best tree:  16195\n",
      "time when the best tree is achieved:  83.00144720077515\n",
      "TOTAL COUNT:  18986\n"
     ]
    },
    {
     "data": {
      "text/plain": [
       "(12,\n",
       " 6907,\n",
       " 98.27965807914734,\n",
       " 83.00144720077515,\n",
       " 18986,\n",
       " 16195,\n",
       " 0.6704792239756768)"
      ]
     },
     "execution_count": 22,
     "metadata": {},
     "output_type": "execute_result"
    }
   ],
   "source": [
    "bbound(x_compas1, y_compas1, lamb=0.000000001, prior_metric=\"curiosity\", MAX_NLEAVES=6, MAXDEPTH=4)"
   ]
  },
  {
   "cell_type": "code",
   "execution_count": 23,
   "metadata": {},
   "outputs": [
    {
     "name": "stdout",
     "output_type": "stream",
     "text": [
      "nrule: 12\n",
      "ndata: 6907\n",
      "gr: [0.00438766 0.0037798  0.00481064 0.00654486 0.00818606 0.00697492\n",
      " 0.00861952 0.01958141 0.0261244  0.00328364 0.0004441  0.03628272]\n",
      "order: [11, 8, 7, 6, 4, 5, 3, 2, 0, 1, 9, 10]\n",
      "odr: [11, 8, 7, 6, 4, 5, 3, 2, 0, 1, 9, 10]\n",
      "the order of x's columns:  [11, 8, 7, 6, 4, 5, 3, 2, 0, 1, 9, 10]\n",
      ">>> log: False\n",
      ">>> support bound: True\n",
      ">>> incre_support: True\n",
      ">>> accurate support bound: True\n",
      ">>> equiv points bound: True\n",
      ">>> lookahead bound: True\n",
      "prior_metric= curiosity\n",
      "total time:  1084.7637920379639\n",
      "lambda:  1e-09\n",
      "leaves:  [(1,), (-12, -10, -1), (-1, 7, 12), (-12, -9, -1, 10), (-12, -1, 9, 10), (-7, -3, -1, 12), (-7, -1, 3, 12)]\n",
      "num_captured:  [2174, 2856, 483, 451, 96, 39, 808]\n",
      "num_captured_incorrect:  [736, 806, 164, 194, 39, 17, 315]\n",
      "prediction:  [1, 0, 1, 1, 0, 1, 0]\n",
      "Objective:  0.3287968797378022\n",
      "Accuracy:  0.6712031272621979\n",
      "COUNT of the best tree:  124609\n",
      "time when the best tree is achieved:  744.3398139476776\n",
      "TOTAL COUNT:  170581\n"
     ]
    },
    {
     "data": {
      "text/plain": [
       "(12,\n",
       " 6907,\n",
       " 1084.7637920379639,\n",
       " 744.3398139476776,\n",
       " 170581,\n",
       " 124609,\n",
       " 0.6712031272621979)"
      ]
     },
     "execution_count": 23,
     "metadata": {},
     "output_type": "execute_result"
    }
   ],
   "source": [
    "bbound(x_compas1, y_compas1, lamb=0.000000001, prior_metric=\"curiosity\", MAX_NLEAVES=7, MAXDEPTH=4)"
   ]
  },
  {
   "cell_type": "code",
   "execution_count": 24,
   "metadata": {},
   "outputs": [
    {
     "name": "stdout",
     "output_type": "stream",
     "text": [
      "nrule: 12\n",
      "ndata: 6907\n",
      "gr: [0.00438766 0.0037798  0.00481064 0.00654486 0.00818606 0.00697492\n",
      " 0.00861952 0.01958141 0.0261244  0.00328364 0.0004441  0.03628272]\n",
      "order: [11, 8, 7, 6, 4, 5, 3, 2, 0, 1, 9, 10]\n",
      "odr: [11, 8, 7, 6, 4, 5, 3, 2, 0, 1, 9, 10]\n",
      "the order of x's columns:  [11, 8, 7, 6, 4, 5, 3, 2, 0, 1, 9, 10]\n",
      "COUNT: 1000000\n",
      ">>> log: False\n",
      ">>> support bound: True\n",
      ">>> incre_support: True\n",
      ">>> accurate support bound: True\n",
      ">>> equiv points bound: True\n",
      ">>> lookahead bound: True\n",
      "prior_metric= curiosity\n",
      "total time:  11632.702044963837\n",
      "lambda:  1e-09\n",
      "leaves:  [(1, 5), (-12, -1, 9), (-7, -1, 12), (-1, 7, 12), (-9, -5, 1), (-5, 1, 9), (-12, -10, -9, -1), (-12, -9, -1, 10)]\n",
      "num_captured:  [1764, 801, 847, 483, 358, 52, 2151, 451]\n",
      "num_captured_incorrect:  [546, 195, 337, 164, 160, 22, 650, 194]\n",
      "prediction:  [1, 0, 0, 1, 1, 0, 0, 1]\n",
      "Objective:  0.3283625387658896\n",
      "Accuracy:  0.6716374692341104\n",
      "COUNT of the best tree:  852540\n",
      "time when the best tree is achieved:  11155.615638017654\n",
      "TOTAL COUNT:  1281065\n"
     ]
    },
    {
     "data": {
      "text/plain": [
       "(12,\n",
       " 6907,\n",
       " 11632.702044963837,\n",
       " 11155.615638017654,\n",
       " 1281065,\n",
       " 852540,\n",
       " 0.6716374692341104)"
      ]
     },
     "execution_count": 24,
     "metadata": {},
     "output_type": "execute_result"
    }
   ],
   "source": [
    "bbound(x_compas1, y_compas1, lamb=0.000000001, prior_metric=\"curiosity\", MAX_NLEAVES=8, MAXDEPTH=4)"
   ]
  },
  {
   "cell_type": "code",
   "execution_count": 25,
   "metadata": {},
   "outputs": [
    {
     "name": "stdout",
     "output_type": "stream",
     "text": [
      "nrule: 12\n",
      "ndata: 6907\n",
      "gr: [0.00438766 0.0037798  0.00481064 0.00654486 0.00818606 0.00697492\n",
      " 0.00861952 0.01958141 0.0261244  0.00328364 0.0004441  0.03628272]\n",
      "order: [11, 8, 7, 6, 4, 5, 3, 2, 0, 1, 9, 10]\n",
      "odr: [11, 8, 7, 6, 4, 5, 3, 2, 0, 1, 9, 10]\n",
      "the order of x's columns:  [11, 8, 7, 6, 4, 5, 3, 2, 0, 1, 9, 10]\n"
     ]
    },
    {
     "ename": "KeyboardInterrupt",
     "evalue": "",
     "output_type": "error",
     "traceback": [
      "\u001b[0;31m---------------------------------------------------------------------------\u001b[0m",
      "\u001b[0;31mKeyboardInterrupt\u001b[0m                         Traceback (most recent call last)",
      "\u001b[0;32m<ipython-input-25-ad123277d5b1>\u001b[0m in \u001b[0;36m<module>\u001b[0;34m\u001b[0m\n\u001b[0;32m----> 1\u001b[0;31m \u001b[0mbbound\u001b[0m\u001b[0;34m(\u001b[0m\u001b[0mx_compas1\u001b[0m\u001b[0;34m,\u001b[0m \u001b[0my_compas1\u001b[0m\u001b[0;34m,\u001b[0m \u001b[0mlamb\u001b[0m\u001b[0;34m=\u001b[0m\u001b[0;36m0.000000001\u001b[0m\u001b[0;34m,\u001b[0m \u001b[0mprior_metric\u001b[0m\u001b[0;34m=\u001b[0m\u001b[0;34m\"curiosity\"\u001b[0m\u001b[0;34m,\u001b[0m \u001b[0mMAX_NLEAVES\u001b[0m\u001b[0;34m=\u001b[0m\u001b[0;36m9\u001b[0m\u001b[0;34m,\u001b[0m \u001b[0mMAXDEPTH\u001b[0m\u001b[0;34m=\u001b[0m\u001b[0;36m4\u001b[0m\u001b[0;34m)\u001b[0m\u001b[0;34m\u001b[0m\u001b[0m\n\u001b[0m",
      "\u001b[0;32m~/document/academic/corels/repo/src/corels_dt_nosimilar_multicopies.py\u001b[0m in \u001b[0;36mbbound\u001b[0;34m(x, y, lamb, prior_metric, MAXDEPTH, MAX_NLEAVES, niter, logon, support, accu_support, incre_support, equiv_points, lookahead, lenbound, R_c0)\u001b[0m\n\u001b[1;32m    578\u001b[0m             \u001b[0;32melse\u001b[0m\u001b[0;34m:\u001b[0m\u001b[0;34m\u001b[0m\u001b[0m\n\u001b[1;32m    579\u001b[0m                 \u001b[0;31m# Filter out those which split at least one leaf in dp and split at least one leaf in d0\u001b[0m\u001b[0;34m\u001b[0m\u001b[0;34m\u001b[0m\u001b[0m\n\u001b[0;32m--> 580\u001b[0;31m                 new_leaf_splits = [ls for ls in new_leaf_splits0\n\u001b[0m\u001b[1;32m    581\u001b[0m                                    if all([np.dot(ls, sl[i]) > 0 for i in range(len_sl)])]\n\u001b[1;32m    582\u001b[0m \u001b[0;34m\u001b[0m\u001b[0m\n",
      "\u001b[0;32m~/document/academic/corels/repo/src/corels_dt_nosimilar_multicopies.py\u001b[0m in \u001b[0;36m<listcomp>\u001b[0;34m(.0)\u001b[0m\n\u001b[1;32m    579\u001b[0m                 \u001b[0;31m# Filter out those which split at least one leaf in dp and split at least one leaf in d0\u001b[0m\u001b[0;34m\u001b[0m\u001b[0;34m\u001b[0m\u001b[0m\n\u001b[1;32m    580\u001b[0m                 new_leaf_splits = [ls for ls in new_leaf_splits0\n\u001b[0;32m--> 581\u001b[0;31m                                    if all([np.dot(ls, sl[i]) > 0 for i in range(len_sl)])]\n\u001b[0m\u001b[1;32m    582\u001b[0m \u001b[0;34m\u001b[0m\u001b[0m\n\u001b[1;32m    583\u001b[0m             \u001b[0;32mfor\u001b[0m \u001b[0mnew_leaf_split\u001b[0m \u001b[0;32min\u001b[0m \u001b[0mnew_leaf_splits\u001b[0m\u001b[0;34m:\u001b[0m\u001b[0;34m\u001b[0m\u001b[0m\n",
      "\u001b[0;32m~/document/academic/corels/repo/src/corels_dt_nosimilar_multicopies.py\u001b[0m in \u001b[0;36m<listcomp>\u001b[0;34m(.0)\u001b[0m\n\u001b[1;32m    579\u001b[0m                 \u001b[0;31m# Filter out those which split at least one leaf in dp and split at least one leaf in d0\u001b[0m\u001b[0;34m\u001b[0m\u001b[0;34m\u001b[0m\u001b[0m\n\u001b[1;32m    580\u001b[0m                 new_leaf_splits = [ls for ls in new_leaf_splits0\n\u001b[0;32m--> 581\u001b[0;31m                                    if all([np.dot(ls, sl[i]) > 0 for i in range(len_sl)])]\n\u001b[0m\u001b[1;32m    582\u001b[0m \u001b[0;34m\u001b[0m\u001b[0m\n\u001b[1;32m    583\u001b[0m             \u001b[0;32mfor\u001b[0m \u001b[0mnew_leaf_split\u001b[0m \u001b[0;32min\u001b[0m \u001b[0mnew_leaf_splits\u001b[0m\u001b[0;34m:\u001b[0m\u001b[0;34m\u001b[0m\u001b[0m\n",
      "\u001b[0;31mKeyboardInterrupt\u001b[0m: "
     ]
    }
   ],
   "source": [
    "bbound(x_compas1, y_compas1, lamb=0.000000001, prior_metric=\"curiosity\", MAX_NLEAVES=9, MAXDEPTH=4)"
   ]
  },
  {
   "cell_type": "code",
   "execution_count": null,
   "metadata": {},
   "outputs": [],
   "source": [
    "bbound(x_compas1, y_compas1, lamb=0.000000001, prior_metric=\"curiosity\", MAX_NLEAVES=10, MAXDEPTH=4)"
   ]
  },
  {
   "cell_type": "code",
   "execution_count": null,
   "metadata": {},
   "outputs": [],
   "source": [
    "bbound(x_compas1, y_compas1, lamb=0.000000001, prior_metric=\"curiosity\", MAX_NLEAVES=11, MAXDEPTH=4)"
   ]
  },
  {
   "cell_type": "code",
   "execution_count": null,
   "metadata": {},
   "outputs": [],
   "source": [
    "bbound(x_compas1, y_compas1, lamb=0.000000001, prior_metric=\"curiosity\", MAX_NLEAVES=12, MAXDEPTH=4)"
   ]
  },
  {
   "cell_type": "code",
   "execution_count": null,
   "metadata": {},
   "outputs": [],
   "source": [
    "bbound(x_compas1, y_compas1, lamb=0.000000001, prior_metric=\"curiosity\", MAX_NLEAVES=13, MAXDEPTH=4)"
   ]
  },
  {
   "cell_type": "code",
   "execution_count": null,
   "metadata": {},
   "outputs": [],
   "source": [
    "bbound(x_compas1, y_compas1, lamb=0.000000001, prior_metric=\"curiosity\", MAX_NLEAVES=14, MAXDEPTH=4)"
   ]
  },
  {
   "cell_type": "code",
   "execution_count": null,
   "metadata": {},
   "outputs": [],
   "source": [
    "bbound(x_compas1, y_compas1, lamb=0.000000001, prior_metric=\"curiosity\", MAX_NLEAVES=15, MAXDEPTH=4)"
   ]
  },
  {
   "cell_type": "code",
   "execution_count": null,
   "metadata": {},
   "outputs": [],
   "source": [
    "bbound(x_compas1, y_compas1, lamb=0.000000001, prior_metric=\"curiosity\", MAX_NLEAVES=16, MAXDEPTH=4)"
   ]
  },
  {
   "cell_type": "code",
   "execution_count": null,
   "metadata": {},
   "outputs": [],
   "source": [
    "bbound(x_compas1, y_compas1, lamb=0.000000001, prior_metric=\"curiosity\", MAX_NLEAVES=17)"
   ]
  },
  {
   "cell_type": "code",
   "execution_count": null,
   "metadata": {},
   "outputs": [],
   "source": [
    "bbound(x_compas1, y_compas1, lamb=0.000000001, prior_metric=\"curiosity\", MAX_NLEAVES=18)"
   ]
  },
  {
   "cell_type": "code",
   "execution_count": null,
   "metadata": {},
   "outputs": [],
   "source": [
    "bbound(x_compas1, y_compas1, lamb=0.000000001, prior_metric=\"curiosity\", MAX_NLEAVES=19)"
   ]
  },
  {
   "cell_type": "code",
   "execution_count": null,
   "metadata": {},
   "outputs": [],
   "source": [
    "bbound(x_compas1, y_compas1, lamb=0.000000001, prior_metric=\"curiosity\", MAX_NLEAVES=20)"
   ]
  },
  {
   "cell_type": "code",
   "execution_count": null,
   "metadata": {},
   "outputs": [],
   "source": [
    "bbound(x_compas1, y_compas1, lamb=0.000000001, prior_metric=\"curiosity\", MAX_NLEAVES=21)"
   ]
  },
  {
   "cell_type": "code",
   "execution_count": null,
   "metadata": {},
   "outputs": [],
   "source": [
    "bbound(x_compas1, y_compas1, lamb=0.000000001, prior_metric=\"curiosity\", MAX_NLEAVES=22)"
   ]
  },
  {
   "cell_type": "code",
   "execution_count": null,
   "metadata": {},
   "outputs": [],
   "source": [
    "bbound(x_compas1, y_compas1, lamb=0.000000001, prior_metric=\"curiosity\", MAX_NLEAVES=23)"
   ]
  },
  {
   "cell_type": "code",
   "execution_count": null,
   "metadata": {},
   "outputs": [],
   "source": [
    "bbound(x_compas1, y_compas1, lamb=0.000000001, prior_metric=\"curiosity\", MAX_NLEAVES=24)"
   ]
  },
  {
   "cell_type": "code",
   "execution_count": null,
   "metadata": {},
   "outputs": [],
   "source": [
    "bbound(x_compas1, y_compas1, lamb=0.000000001, prior_metric=\"curiosity\", MAX_NLEAVES=25)"
   ]
  },
  {
   "cell_type": "code",
   "execution_count": null,
   "metadata": {},
   "outputs": [],
   "source": [
    "bbound(x_compas1, y_compas1, lamb=0.000000001, prior_metric=\"curiosity\", MAX_NLEAVES=26)"
   ]
  },
  {
   "cell_type": "code",
   "execution_count": null,
   "metadata": {},
   "outputs": [],
   "source": [
    "bbound(x_compas1, y_compas1, lamb=0.000000001, prior_metric=\"curiosity\", MAX_NLEAVES=27)"
   ]
  },
  {
   "cell_type": "code",
   "execution_count": null,
   "metadata": {},
   "outputs": [],
   "source": [
    "bbound(x_compas1, y_compas1, lamb=0.000000001, prior_metric=\"curiosity\", MAX_NLEAVES=28)"
   ]
  },
  {
   "cell_type": "code",
   "execution_count": null,
   "metadata": {},
   "outputs": [],
   "source": [
    "bbound(x_compas1, y_compas1, lamb=0.000000001, prior_metric=\"curiosity\", MAX_NLEAVES=29)"
   ]
  },
  {
   "cell_type": "code",
   "execution_count": null,
   "metadata": {},
   "outputs": [],
   "source": [
    "bbound(x_compas1, y_compas1, lamb=0.000000001, prior_metric=\"curiosity\", MAX_NLEAVES=30)"
   ]
  },
  {
   "cell_type": "code",
   "execution_count": null,
   "metadata": {},
   "outputs": [],
   "source": [
    "bbound(x_compas1, y_compas1, lamb=0.000000001, prior_metric=\"curiosity\", MAX_NLEAVES=31)"
   ]
  },
  {
   "cell_type": "code",
   "execution_count": null,
   "metadata": {},
   "outputs": [],
   "source": [
    "bbound(x_compas1, y_compas1, lamb=0.000000001, prior_metric=\"curiosity\", MAX_NLEAVES=32)"
   ]
  },
  {
   "cell_type": "code",
   "execution_count": null,
   "metadata": {},
   "outputs": [],
   "source": []
  },
  {
   "cell_type": "code",
   "execution_count": null,
   "metadata": {},
   "outputs": [],
   "source": []
  },
  {
   "cell_type": "code",
   "execution_count": 49,
   "metadata": {},
   "outputs": [
    {
     "name": "stdout",
     "output_type": "stream",
     "text": [
      "nrule: 16\n",
      "ndata: 625\n",
      "gr: [1.280e-06 4.608e-05 2.048e-05 1.280e-06 1.280e-06 4.608e-05 2.048e-05\n",
      " 1.280e-06 1.280e-06 4.608e-05 2.048e-05 1.280e-06 1.280e-06 4.608e-05\n",
      " 2.048e-05 1.280e-06]\n",
      "order: [13, 9, 5, 1, 14, 10, 6, 2, 15, 12, 11, 8, 7, 4, 3, 0]\n",
      "odr: [13, 9, 5, 1, 14, 10, 6, 2, 15, 12, 11, 8, 7, 4, 3, 0]\n",
      "the order of x's columns:  [13, 9, 5, 1, 14, 10, 6, 2, 15, 12, 11, 8, 7, 4, 3, 0]\n",
      "COUNT: 1000000\n",
      "COUNT: 2000000\n",
      "COUNT: 3000000\n",
      ">>> log: False\n",
      ">>> support bound: True\n",
      ">>> incre_support: True\n",
      ">>> accurate support bound: True\n",
      ">>> equiv points bound: True\n",
      ">>> lookahead bound: True\n",
      "prior_metric= curiosity\n",
      "total time:  583.7113280296326\n",
      "lambda:  0.01\n",
      "leaves:  [()]\n",
      "num_captured:  [625]\n",
      "num_captured_incorrect:  [49]\n",
      "prediction:  [0]\n",
      "Objective:  0.08839999999999999\n",
      "Accuracy:  0.9216\n",
      "COUNT of the best tree:  0\n",
      "time when the best tree is achieved:  0\n",
      "TOTAL COUNT:  3643942\n"
     ]
    },
    {
     "data": {
      "text/plain": [
       "0.9216"
      ]
     },
     "execution_count": 49,
     "metadata": {},
     "output_type": "execute_result"
    }
   ],
   "source": [
    "_,_,_,_,accu_OSDT = bbound(x_balance, y_balance, lamb=0.01, prior_metric=\"curiosity\", MAXDEPTH=4)\n",
    "accu_OSDT"
   ]
  },
  {
   "cell_type": "code",
   "execution_count": 56,
   "metadata": {},
   "outputs": [
    {
     "name": "stdout",
     "output_type": "stream",
     "text": [
      "nrule: 11\n",
      "ndata: 124\n",
      "gr: [0.04064698 0.00058072 0.00401284 0.00058072 0.00325945 0.014518\n",
      " 0.01221719 0.15263158 0.01404787 0.01134752 0.00052521]\n",
      "order: [7, 0, 5, 8, 6, 9, 2, 4, 3, 1, 10]\n",
      "odr: [7, 0, 5, 8, 6, 9, 2, 4, 3, 1, 10]\n",
      "the order of x's columns:  [7, 0, 5, 8, 6, 9, 2, 4, 3, 1, 10]\n",
      ">>> log: False\n",
      ">>> support bound: True\n",
      ">>> incre_support: True\n",
      ">>> accurate support bound: True\n",
      ">>> equiv points bound: True\n",
      ">>> lookahead bound: True\n",
      "prior_metric= curiosity\n",
      "total time:  33.27942681312561\n",
      "lambda:  0.025\n",
      "leaves:  [(1,), (-7, -2, -1), (-7, -1, 2), (-2, -1, 7), (-1, 2, 7)]\n",
      "num_captured:  [29, 36, 31, 20, 8]\n",
      "num_captured_incorrect:  [0, 11, 0, 0, 0]\n",
      "prediction:  [1, 1, 0, 0, 1]\n",
      "Objective:  0.21370967741935484\n",
      "Accuracy:  0.9112903225806451\n",
      "COUNT of the best tree:  2322\n",
      "time when the best tree is achieved:  0.3814809322357178\n",
      "TOTAL COUNT:  648078\n"
     ]
    },
    {
     "data": {
      "text/plain": [
       "0.9112903225806451"
      ]
     },
     "execution_count": 56,
     "metadata": {},
     "output_type": "execute_result"
    }
   ],
   "source": [
    "_,_,_,_,accu_OSDT = bbound(x_monk1, y_monk1, lamb=0.025, prior_metric=\"curiosity\", MAXDEPTH=4)\n",
    "accu_OSDT"
   ]
  },
  {
   "cell_type": "code",
   "execution_count": 57,
   "metadata": {},
   "outputs": [
    {
     "name": "stdout",
     "output_type": "stream",
     "text": [
      "nrule: 11\n",
      "ndata: 124\n",
      "gr: [0.04064698 0.00058072 0.00401284 0.00058072 0.00325945 0.014518\n",
      " 0.01221719 0.15263158 0.01404787 0.01134752 0.00052521]\n",
      "order: [7, 0, 5, 8, 6, 9, 2, 4, 3, 1, 10]\n",
      "odr: [7, 0, 5, 8, 6, 9, 2, 4, 3, 1, 10]\n",
      "the order of x's columns:  [7, 0, 5, 8, 6, 9, 2, 4, 3, 1, 10]\n",
      ">>> log: False\n",
      ">>> support bound: True\n",
      ">>> incre_support: True\n",
      ">>> accurate support bound: True\n",
      ">>> equiv points bound: True\n",
      ">>> lookahead bound: True\n",
      "prior_metric= curiosity\n",
      "total time:  2.8778109550476074\n",
      "lambda:  0.025\n",
      "leaves:  [(1,), (-7, -2, -1), (-7, -1, 2), (-2, -1, 7), (-1, 2, 7)]\n",
      "num_captured:  [29, 36, 31, 20, 8]\n",
      "num_captured_incorrect:  [0, 11, 0, 0, 0]\n",
      "prediction:  [1, 1, 0, 0, 1]\n",
      "Objective:  0.21370967741935484\n",
      "Accuracy:  0.9112903225806451\n",
      "COUNT of the best tree:  62\n",
      "time when the best tree is achieved:  0.06293106079101562\n",
      "TOTAL COUNT:  7156\n"
     ]
    },
    {
     "data": {
      "text/plain": [
       "0.9112903225806451"
      ]
     },
     "execution_count": 57,
     "metadata": {},
     "output_type": "execute_result"
    }
   ],
   "source": [
    "_,_,_,_,accu_OSDT = bbound(x_monk1, y_monk1, lamb=0.025, prior_metric=\"curiosity\", MAXDEPTH=3)\n",
    "accu_OSDT"
   ]
  },
  {
   "cell_type": "code",
   "execution_count": 85,
   "metadata": {},
   "outputs": [
    {
     "name": "stdout",
     "output_type": "stream",
     "text": [
      "nrule: 11\n",
      "ndata: 169\n",
      "gr: [2.09472291e-03 5.37476881e-05 1.06636530e-03 1.37412839e-03\n",
      " 6.88924755e-04 9.56498397e-03 7.74047423e-04 1.92571581e-03\n",
      " 9.12503606e-03 6.69887366e-05 4.06752386e-03]\n",
      "order: [5, 8, 10, 0, 7, 3, 2, 6, 4, 9, 1]\n",
      "odr: [5, 8, 10, 0, 7, 3, 2, 6, 4, 9, 1]\n",
      "the order of x's columns:  [5, 8, 10, 0, 7, 3, 2, 6, 4, 9, 1]\n",
      "COUNT: 1000000\n"
     ]
    },
    {
     "ename": "KeyboardInterrupt",
     "evalue": "",
     "output_type": "error",
     "traceback": [
      "\u001b[0;31m---------------------------------------------------------------------------\u001b[0m",
      "\u001b[0;31mKeyboardInterrupt\u001b[0m                         Traceback (most recent call last)",
      "\u001b[0;32m<ipython-input-85-4ba4256fae55>\u001b[0m in \u001b[0;36m<module>\u001b[0;34m\u001b[0m\n\u001b[0;32m----> 1\u001b[0;31m \u001b[0m_\u001b[0m\u001b[0;34m,\u001b[0m\u001b[0m_\u001b[0m\u001b[0;34m,\u001b[0m\u001b[0m_\u001b[0m\u001b[0;34m,\u001b[0m\u001b[0m_\u001b[0m\u001b[0;34m,\u001b[0m\u001b[0maccu_OSDT\u001b[0m \u001b[0;34m=\u001b[0m \u001b[0mbbound\u001b[0m\u001b[0;34m(\u001b[0m\u001b[0mx_monk2\u001b[0m\u001b[0;34m,\u001b[0m \u001b[0my_monk2\u001b[0m\u001b[0;34m,\u001b[0m \u001b[0mlamb\u001b[0m\u001b[0;34m=\u001b[0m\u001b[0;36m0.025\u001b[0m\u001b[0;34m,\u001b[0m \u001b[0mprior_metric\u001b[0m\u001b[0;34m=\u001b[0m\u001b[0;34m\"curiosity\"\u001b[0m\u001b[0;34m,\u001b[0m \u001b[0mMAXDEPTH\u001b[0m\u001b[0;34m=\u001b[0m\u001b[0;36m4\u001b[0m\u001b[0;34m)\u001b[0m\u001b[0;34m\u001b[0m\u001b[0m\n\u001b[0m\u001b[1;32m      2\u001b[0m \u001b[0maccu_OSDT\u001b[0m\u001b[0;34m\u001b[0m\u001b[0m\n",
      "\u001b[0;32m~/document/academic/corels/repo/src/corels_dt_nosimilar_multicopies.py\u001b[0m in \u001b[0;36mbbound\u001b[0;34m(x, y, lamb, prior_metric, MAXDEPTH, niter, logon, support, accu_support, incre_support, equiv_points, lookahead, lenbound, R_c0)\u001b[0m\n\u001b[1;32m    583\u001b[0m                 \u001b[0;31m# construct the new tree\u001b[0m\u001b[0;34m\u001b[0m\u001b[0;34m\u001b[0m\u001b[0m\n\u001b[1;32m    584\u001b[0m                 tree_new = Tree(cache_tree=child, ndata=ndata, lamb=lamb,\n\u001b[0;32m--> 585\u001b[0;31m                                 splitleaf=new_leaf_split, prior_metric=prior_metric)\n\u001b[0m\u001b[1;32m    586\u001b[0m \u001b[0;34m\u001b[0m\u001b[0m\n\u001b[1;32m    587\u001b[0m                 \u001b[0mCOUNT\u001b[0m \u001b[0;34m=\u001b[0m \u001b[0mCOUNT\u001b[0m \u001b[0;34m+\u001b[0m \u001b[0;36m1\u001b[0m\u001b[0;34m\u001b[0m\u001b[0m\n",
      "\u001b[0;32m~/document/academic/corels/repo/src/corels_dt_nosimilar_multicopies.py\u001b[0m in \u001b[0;36m__init__\u001b[0;34m(self, cache_tree, ndata, lamb, splitleaf, prior_metric)\u001b[0m\n\u001b[1;32m     96\u001b[0m             \u001b[0mself\u001b[0m\u001b[0;34m.\u001b[0m\u001b[0mmetric\u001b[0m \u001b[0;34m=\u001b[0m \u001b[0mself\u001b[0m\u001b[0;34m.\u001b[0m\u001b[0mlb\u001b[0m\u001b[0;34m\u001b[0m\u001b[0m\n\u001b[1;32m     97\u001b[0m         \u001b[0;32melif\u001b[0m \u001b[0mprior_metric\u001b[0m \u001b[0;34m==\u001b[0m \u001b[0;34m\"curiosity\"\u001b[0m\u001b[0;34m:\u001b[0m\u001b[0;34m\u001b[0m\u001b[0m\n\u001b[0;32m---> 98\u001b[0;31m             \u001b[0mremoved_leaves\u001b[0m \u001b[0;34m=\u001b[0m \u001b[0mlist\u001b[0m\u001b[0;34m(\u001b[0m\u001b[0mcompress\u001b[0m\u001b[0;34m(\u001b[0m\u001b[0mleaves\u001b[0m\u001b[0;34m,\u001b[0m \u001b[0msplitleaf\u001b[0m\u001b[0;34m)\u001b[0m\u001b[0;34m)\u001b[0m\u001b[0;34m\u001b[0m\u001b[0m\n\u001b[0m\u001b[1;32m     99\u001b[0m             \u001b[0mnum_cap_rm\u001b[0m \u001b[0;34m=\u001b[0m \u001b[0msum\u001b[0m\u001b[0;34m(\u001b[0m\u001b[0mleaf\u001b[0m\u001b[0;34m.\u001b[0m\u001b[0mnum_captured\u001b[0m \u001b[0;32mfor\u001b[0m \u001b[0mleaf\u001b[0m \u001b[0;32min\u001b[0m \u001b[0mremoved_leaves\u001b[0m\u001b[0;34m)\u001b[0m\u001b[0;34m\u001b[0m\u001b[0m\n\u001b[1;32m    100\u001b[0m             \u001b[0;32mif\u001b[0m \u001b[0mnum_cap_rm\u001b[0m \u001b[0;34m<\u001b[0m \u001b[0mndata\u001b[0m\u001b[0;34m:\u001b[0m\u001b[0;34m\u001b[0m\u001b[0m\n",
      "\u001b[0;31mKeyboardInterrupt\u001b[0m: "
     ]
    }
   ],
   "source": [
    "_,_,_,_,accu_OSDT = bbound(x_monk2, y_monk2, lamb=0.025, prior_metric=\"curiosity\", MAXDEPTH=4)\n",
    "accu_OSDT"
   ]
  },
  {
   "cell_type": "code",
   "execution_count": null,
   "metadata": {},
   "outputs": [],
   "source": [
    "_,_,_,_,accu_OSDT = bbound(x_monk2, y_monk2, lamb=0.025, prior_metric=\"curiosity\", MAXDEPTH=3)\n",
    "accu_OSDT"
   ]
  },
  {
   "cell_type": "code",
   "execution_count": 86,
   "metadata": {},
   "outputs": [
    {
     "name": "stdout",
     "output_type": "stream",
     "text": [
      "nrule: 11\n",
      "ndata: 122\n",
      "gr: [0.00322554 0.00435383 0.0287352  0.06369272 0.00057579 0.00107514\n",
      " 0.00178641 0.02723357 0.0234737  0.00377713 0.00489568]\n",
      "order: [3, 2, 7, 8, 10, 1, 9, 0, 6, 5, 4]\n",
      "odr: [3, 2, 7, 8, 10, 1, 9, 0, 6, 5, 4]\n",
      "the order of x's columns:  [3, 2, 7, 8, 10, 1, 9, 0, 6, 5, 4]\n",
      "COUNT: 1000000\n",
      "COUNT: 2000000\n",
      "COUNT: 3000000\n",
      "COUNT: 4000000\n",
      "COUNT: 5000000\n",
      "COUNT: 6000000\n",
      "COUNT: 7000000\n",
      "COUNT: 8000000\n",
      "COUNT: 9000000\n",
      ">>> log: False\n",
      ">>> support bound: True\n",
      ">>> incre_support: True\n",
      ">>> accurate support bound: True\n",
      ">>> equiv points bound: True\n",
      ">>> lookahead bound: True\n",
      "prior_metric= curiosity\n",
      "total time:  730.4538769721985\n",
      "lambda:  0.025\n",
      "leaves:  [(1,), (-2, -1), (-1, 2, 3), (-4, -3, -1, 2), (-3, -1, 2, 4)]\n",
      "num_captured:  [42, 41, 12, 18, 9]\n",
      "num_captured_incorrect:  [11, 3, 0, 5, 0]\n",
      "prediction:  [1, 0, 1, 0, 1]\n",
      "Objective:  0.2807377049180328\n",
      "Accuracy:  0.8442622950819672\n",
      "COUNT of the best tree:  83\n",
      "time when the best tree is achieved:  0.045027971267700195\n",
      "TOTAL COUNT:  9332807\n"
     ]
    },
    {
     "data": {
      "text/plain": [
       "0.8442622950819672"
      ]
     },
     "execution_count": 86,
     "metadata": {},
     "output_type": "execute_result"
    }
   ],
   "source": [
    "_,_,_,_,accu_OSDT = bbound(x_monk3, y_monk3, lamb=0.025, prior_metric=\"curiosity\", MAXDEPTH=4)\n",
    "accu_OSDT"
   ]
  },
  {
   "cell_type": "code",
   "execution_count": null,
   "metadata": {},
   "outputs": [
    {
     "name": "stdout",
     "output_type": "stream",
     "text": [
      "nrule: 11\n",
      "ndata: 122\n",
      "gr: [0.00322554 0.00435383 0.0287352  0.06369272 0.00057579 0.00107514\n",
      " 0.00178641 0.02723357 0.0234737  0.00377713 0.00489568]\n",
      "order: [3, 2, 7, 8, 10, 1, 9, 0, 6, 5, 4]\n",
      "odr: [3, 2, 7, 8, 10, 1, 9, 0, 6, 5, 4]\n",
      "the order of x's columns:  [3, 2, 7, 8, 10, 1, 9, 0, 6, 5, 4]\n",
      ">>> log: False\n",
      ">>> support bound: True\n",
      ">>> incre_support: True\n",
      ">>> accurate support bound: True\n",
      ">>> equiv points bound: True\n",
      ">>> lookahead bound: True\n",
      "prior_metric= curiosity\n",
      "total time:  33.97595500946045\n",
      "lambda:  0.025\n",
      "leaves:  [(-2, -1), (-2, 1), (2, 3), (-4, -3, 2), (-3, 2, 4)]\n",
      "num_captured:  [41, 42, 12, 18, 9]\n",
      "num_captured_incorrect:  [3, 11, 0, 5, 0]\n",
      "prediction:  [0, 1, 1, 0, 1]\n",
      "Objective:  0.2807377049180328\n",
      "Accuracy:  0.8442622950819672\n",
      "COUNT of the best tree:  6947\n",
      "time when the best tree is achieved:  12.798794984817505\n",
      "TOTAL COUNT:  7626\n"
     ]
    },
    {
     "data": {
      "text/plain": [
       "0.8442622950819672"
      ]
     },
     "execution_count": 87,
     "metadata": {},
     "output_type": "execute_result"
    }
   ],
   "source": [
    "_,_,_,_,accu_OSDT = bbound(x_monk3, y_monk3, lamb=0.025, prior_metric=\"curiosity\", MAXDEPTH=3)\n",
    "accu_OSDT"
   ]
  },
  {
   "cell_type": "code",
   "execution_count": null,
   "metadata": {},
   "outputs": [
    {
     "name": "stdout",
     "output_type": "stream",
     "text": [
      "nrule: 18\n",
      "ndata: 958\n",
      "gr: [0.00856949 0.00423414 0.00172338 0.00441609 0.00856949 0.00423414\n",
      " 0.00172338 0.00441609 0.05236403 0.03888096 0.00172338 0.00441609\n",
      " 0.00856949 0.00423414 0.00172338 0.00441609 0.00856949 0.00423414]\n",
      "order: [8, 9, 12, 4, 16, 0, 11, 7, 15, 3, 13, 5, 1, 17, 10, 14, 6, 2]\n",
      "odr: [8, 9, 12, 4, 16, 0, 11, 7, 15, 3, 13, 5, 1, 17, 10, 14, 6, 2]\n",
      "the order of x's columns:  [8, 9, 12, 4, 16, 0, 11, 7, 15, 3, 13, 5, 1, 17, 10, 14, 6, 2]\n"
     ]
    }
   ],
   "source": [
    "_,_,_,_,accu_OSDT = bbound(x_car, y_car, lamb=0.01, prior_metric=\"curiosity\", MAXDEPTH=4)\n",
    "accu_OSDT"
   ]
  },
  {
   "cell_type": "code",
   "execution_count": null,
   "metadata": {},
   "outputs": [],
   "source": [
    "_,_,_,_,accu_OSDT = bbound(x_car, y_car, lamb=0.01, prior_metric=\"curiosity\", MAXDEPTH=3)\n",
    "accu_OSDT"
   ]
  },
  {
   "cell_type": "code",
   "execution_count": null,
   "metadata": {},
   "outputs": [],
   "source": [
    "_,_,_,_,accu_OSDT = bbound(x_tictactoe, y_tictactoe, lamb=0.005, prior_metric=\"curiosity\", MAXDEPTH=4)\n",
    "accu_OSDT"
   ]
  },
  {
   "cell_type": "code",
   "execution_count": null,
   "metadata": {},
   "outputs": [],
   "source": [
    "_,_,_,_,accu_OSDT = bbound(x_tictactoe, y_tictactoe, lamb=0.005, prior_metric=\"curiosity\", MAXDEPTH=4)\n",
    "accu_OSDT"
   ]
  },
  {
   "cell_type": "code",
   "execution_count": null,
   "metadata": {},
   "outputs": [],
   "source": []
  }
 ],
 "metadata": {
  "kernelspec": {
   "display_name": "Python 3",
   "language": "python",
   "name": "python3"
  },
  "language_info": {
   "codemirror_mode": {
    "name": "ipython",
    "version": 3
   },
   "file_extension": ".py",
   "mimetype": "text/x-python",
   "name": "python",
   "nbconvert_exporter": "python",
   "pygments_lexer": "ipython3",
   "version": "3.7.0"
  }
 },
 "nbformat": 4,
 "nbformat_minor": 2
}
