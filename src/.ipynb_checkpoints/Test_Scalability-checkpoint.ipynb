{
 "cells": [
  {
   "cell_type": "code",
   "execution_count": 3,
   "metadata": {},
   "outputs": [],
   "source": [
    "import pandas as pd\n",
    "import numpy as np\n",
    "import heapq\n",
    "import math\n",
    "import time\n",
    "\n",
    "import gmpy2\n",
    "from gmpy2 import mpz\n",
    "import re\n",
    "\n",
    "from sklearn import tree\n",
    "\n",
    "import cProfile\n",
    "\n",
    "from random import randint, sample, seed\n",
    "\n",
    "from corels_dt_nosimilar_multicopies import bbound"
   ]
  },
  {
   "cell_type": "code",
   "execution_count": 4,
   "metadata": {},
   "outputs": [],
   "source": [
    "# Read in the dataset\n",
    "compas1 = pd.DataFrame(pd.read_csv('../data/preprocessed/compas-binary.csv',sep=\";\"))\n",
    "monk1 = pd.DataFrame(pd.read_csv('../data/preprocessed/monk1-train.csv',sep=\";\"))\n",
    "monk2 = pd.DataFrame(pd.read_csv('../data/preprocessed/monk2-train.csv',sep=\";\"))\n",
    "monk3 = pd.DataFrame(pd.read_csv('../data/preprocessed/monk3-train.csv',sep=\";\"))\n",
    "balance = pd.DataFrame(pd.read_csv('../data/preprocessed/balance-scale.csv',sep=\";\"))\n",
    "tictactoe = pd.DataFrame(pd.read_csv('../data/preprocessed/tic-tac-toe.csv',sep=\";\"))\n",
    "car = pd.DataFrame(pd.read_csv('../data/preprocessed/car-evaluation.csv',sep=\";\"))"
   ]
  },
  {
   "cell_type": "code",
   "execution_count": 5,
   "metadata": {},
   "outputs": [],
   "source": [
    "x_monk1 = monk1.values[:,:-1]\n",
    "y_monk1 = monk1.values[:,-1]\n",
    "\n",
    "x_monk2 = monk2.values[:,:-1]\n",
    "y_monk2 = monk2.values[:,-1]\n",
    "\n",
    "x_monk3 = monk3.values[:,:-1]\n",
    "y_monk3 = monk3.values[:,-1]\n",
    "\n",
    "x_compas1 = compas1.values[:,:-1]\n",
    "y_compas1 = compas1.values[:,-1]\n",
    "\n",
    "x_balance = balance.values[:,:-1]\n",
    "y_balance = balance.values[:,-1]\n",
    "\n",
    "x_tictactoe = tictactoe.values[:,:-1]\n",
    "y_tictactoe = tictactoe.values[:,-1]\n",
    "\n",
    "x_car = tictactoe.values[:,:-1]\n",
    "y_car = tictactoe.values[:,-1]"
   ]
  },
  {
   "cell_type": "code",
   "execution_count": 6,
   "metadata": {},
   "outputs": [],
   "source": [
    "idxs = [[11,7,3,10],\n",
    "        [11,7,3,10,8], \n",
    "        [11,7,3,10,8,6],\n",
    "        [11,7,3,10,8,6,4],\n",
    "        [11,7,3,10,8,6,4,5],\n",
    "        [11,7,3,10,8,6,4,5,2],\n",
    "        [11,7,3,10,8,6,4,5,2,0],\n",
    "        [11,7,3,10,8,6,4,5,2,0,1],\n",
    "        [11,7,3,10,8,6,4,5,2,0,1,9]\n",
    "       ]"
   ]
  },
  {
   "cell_type": "code",
   "execution_count": 7,
   "metadata": {},
   "outputs": [
    {
     "name": "stdout",
     "output_type": "stream",
     "text": [
      "nrule: 4\n",
      "ndata: 6907\n",
      "gr: [0.03628272 0.01958141 0.00654486 0.0004441 ]\n",
      "order: [0, 1, 2, 3]\n",
      "odr: [0, 1, 2, 3]\n",
      "the order of x's columns:  [0, 1, 2, 3]\n",
      ">>> log: False\n",
      ">>> support bound: True\n",
      ">>> incre_support: True\n",
      ">>> accurate support bound: True\n",
      ">>> equiv points bound: True\n",
      ">>> lookahead bound: True\n",
      "prior_metric= curiosity\n",
      "total time:  0.734673023223877\n",
      "lambda:  0.005\n",
      "leaves:  [(1,), (-3, -1), (-1, 3, 4), (-4, -2, -1, 3), (-4, -1, 2, 3)]\n",
      "num_captured:  [2174, 2898, 483, 205, 1147]\n",
      "num_captured_incorrect:  [736, 855, 164, 76, 455]\n",
      "prediction:  [1, 0, 1, 1, 0]\n",
      "Objective:  0.35596858259736497\n",
      "Accuracy:  0.669031417402635\n",
      "COUNT of the best tree:  37\n",
      "time when the best tree is achieved:  0.4017221927642822\n",
      "TOTAL COUNT:  365\n"
     ]
    },
    {
     "data": {
      "text/plain": [
       "(4, 6907, 0.734673023223877, 0.4017221927642822, 0.669031417402635)"
      ]
     },
     "execution_count": 7,
     "metadata": {},
     "output_type": "execute_result"
    }
   ],
   "source": [
    "df = []\n",
    "\n",
    "for i in range(len(idxs)):\n",
    "    idx = idxs[i]\n",
    "    compas = compas1.copy\n",
    "    for j in range(2,11):\n",
    "        x_compas = compas.values[:,:-1]\n",
    "        y_compas = compas.values[:,-1]\n",
    "        nrule, ndata, totaltime, time_c, COUNT, C_c, accu = bbound(\n",
    "            x_compas[:,idx], y_compas, lamb=0.005, prior_metric=\"curiosity\", MAXDEPTH=4)\n",
    "        compas = compas.append(compas1)\n",
    "        \n",
    "        df.append([nrule, ndata, totaltime, time_c, COUNT, C_c, accu])\n",
    "        \n",
    "df1 = pd.DataFrame(data=np.array(df), columns=[\"nrule\", \"ndata\", \"totaltime\", \"time_c\", \"COUNT\", \"C_c\", \"accu\"])\n",
    "df1.to_csv('../data/performance_compasbinary.csv',index=False,sep=',')"
   ]
  },
  {
   "cell_type": "code",
   "execution_count": null,
   "metadata": {},
   "outputs": [],
   "source": []
  }
 ],
 "metadata": {
  "kernelspec": {
   "display_name": "Python 3",
   "language": "python",
   "name": "python3"
  },
  "language_info": {
   "codemirror_mode": {
    "name": "ipython",
    "version": 3
   },
   "file_extension": ".py",
   "mimetype": "text/x-python",
   "name": "python",
   "nbconvert_exporter": "python",
   "pygments_lexer": "ipython3",
   "version": "3.7.0"
  }
 },
 "nbformat": 4,
 "nbformat_minor": 2
}
