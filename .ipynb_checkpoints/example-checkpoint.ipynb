{
 "cells": [
  {
   "cell_type": "code",
   "execution_count": null,
   "metadata": {},
   "outputs": [],
   "source": [
    "# All dependencies of this notebook\n",
    "\n",
    "# third-party imports\n",
    "import math\n",
    "import pandas as pd\n",
    "import numpy as np\n",
    "import matplotlib.pyplot as plt\n",
    "from sklearn.tree import DecisionTreeClassifier\n",
    "\n",
    "# local imports\n",
    "from lib.model import OSDT\n",
    "from lib.model_selection import train_cross_validate\n",
    "from lib.data_processing import read_dataset\n",
    "\n",
    "# Using COMPAS as an example\n",
    "dataset = read_dataset('data/preprocessed/compas-binary.csv') \n",
    "(n, _m) = dataset.shape\n",
    "X = dataset.values[:,:-1]\n",
    "y = dataset.values[:,-1]\n",
    "\n",
    "hyperparameters = {\n",
    "    'regularizer': 0.005,\n",
    "    'compress': True\n",
    "}\n",
    "model = OSDT(**hyperparameters)\n",
    "model.fit(X, y)\n",
    "model.predict(X)\n",
    "\n",
    "X.values[:, 0]"
   ]
  },
  {
   "cell_type": "code",
   "execution_count": 2,
   "metadata": {},
   "outputs": [
    {
     "ename": "TypeError",
     "evalue": "'module' object is not callable",
     "output_type": "error",
     "traceback": [
      "\u001b[0;31m---------------------------------------------------------------------------\u001b[0m",
      "\u001b[0;31mTypeError\u001b[0m                                 Traceback (most recent call last)",
      "\u001b[0;32m<ipython-input-2-c5bb62340fd1>\u001b[0m in \u001b[0;36m<module>\u001b[0;34m()\u001b[0m\n\u001b[1;32m     11\u001b[0m \u001b[0mlamb\u001b[0m \u001b[0;34m=\u001b[0m \u001b[0;36m0.005\u001b[0m\u001b[0;34m\u001b[0m\u001b[0m\n\u001b[1;32m     12\u001b[0m \u001b[0;34m\u001b[0m\u001b[0m\n\u001b[0;32m---> 13\u001b[0;31m \u001b[0mstart\u001b[0m \u001b[0;34m=\u001b[0m \u001b[0mtime\u001b[0m\u001b[0;34m(\u001b[0m\u001b[0;34m)\u001b[0m\u001b[0;34m\u001b[0m\u001b[0m\n\u001b[0m\u001b[1;32m     14\u001b[0m \u001b[0mproblem\u001b[0m \u001b[0;34m=\u001b[0m \u001b[0mOSDT\u001b[0m\u001b[0;34m(\u001b[0m\u001b[0mX\u001b[0m\u001b[0;34m,\u001b[0m \u001b[0my\u001b[0m\u001b[0;34m,\u001b[0m \u001b[0mlamb\u001b[0m\u001b[0;34m)\u001b[0m\u001b[0;34m\u001b[0m\u001b[0m\n\u001b[1;32m     15\u001b[0m \u001b[0mprint\u001b[0m\u001b[0;34m(\u001b[0m\u001b[0;34m\"\\nRunning OSDT COMPAS consistency test\"\u001b[0m\u001b[0;34m)\u001b[0m\u001b[0;34m\u001b[0m\u001b[0m\n",
      "\u001b[0;31mTypeError\u001b[0m: 'module' object is not callable"
     ]
    }
   ],
   "source": [
    "import numpy as np\n",
    "from time import time\n",
    "# Test out the cluster library\n",
    "from lib.data_processing import read_dataset\n",
    "from lib.osdt_definition import OSDT\n",
    "\n",
    "dataset = read_dataset('data/preprocessed/compas-binary.csv', sep=';')\n",
    "\n",
    "X = dataset.values[:, :-1]\n",
    "y = dataset.values[:, -1]\n",
    "lamb = 0.005\n",
    "\n",
    "start = time()\n",
    "problem = OSDT(X, y, lamb)\n",
    "print(\"\\nRunning OSDT COMPAS consistency test\")\n",
    "model = problem.solve(clients=2, servers=1, visualize=True)\n",
    "finish = time()\n",
    "print('Training Time = {} seconds'.format(round(finish - start, 3)))\n",
    "\n",
    "print('Optimal Model:\\n', model.visualization)\n",
    "print('Optimal Risk:\\n', model.risk)"
   ]
  },
  {
   "cell_type": "code",
   "execution_count": null,
   "metadata": {},
   "outputs": [],
   "source": [
    "from lib.similarity_index import SimilarityIndex\n",
    "import lib.vector as vect\n",
    "index = SimilarityIndex(3, 1, 3)\n",
    "a = vect.vectorize([0, 0, 0])\n",
    "b = vect.vectorize([1, 0, 0])\n",
    "c = vect.vectorize([0, 1, 0])\n",
    "d = vect.vectorize([0, 1, 1])\n",
    "print(a, b, c, d)\n",
    "print(str(index))\n",
    "# index.put(a)\n",
    "index.put(b)\n",
    "index.put(c)\n",
    "index.put(d)\n",
    "print(str(index))\n",
    "print(index.neighbours(a))"
   ]
  },
  {
   "cell_type": "code",
   "execution_count": null,
   "metadata": {},
   "outputs": [],
   "source": [
    "from lib.prefix_tree import PrefixTree\n",
    "prefixes = PrefixTree()\n",
    "\n",
    "print('a', prefixes.prefix_match((1, 2, 3)))\n",
    "print('b', prefixes.put((1, 2, 3), 42))\n",
    "print('c', prefixes.get((1, 2, 3)))\n",
    "print('d', prefixes.prefix_match((1, 2)))\n",
    "print('e', prefixes.prefix_match((1, 2, 3)))\n",
    "print('f', prefixes.prefix_match((1, 2, 3, 4)))\n",
    "print('g', (1, 2) in prefixes)\n",
    "print('h', (1, 2, 3) in prefixes)\n",
    "print('i', (1, 2, 3, 4) in prefixes)\n",
    "print('j', prefixes.get((1, 2, 3, 4)))\n",
    "print('k', prefixes.remove((1, 2, 3)))\n",
    "print('l', prefixes.get((1, 2, 3)))\n"
   ]
  },
  {
   "cell_type": "code",
   "execution_count": null,
   "metadata": {},
   "outputs": [],
   "source": []
  }
 ],
 "metadata": {
  "kernelspec": {
   "display_name": "Python 3",
   "language": "python",
   "name": "python3"
  },
  "language_info": {
   "codemirror_mode": {
    "name": "ipython",
    "version": 3
   },
   "file_extension": ".py",
   "mimetype": "text/x-python",
   "name": "python",
   "nbconvert_exporter": "python",
   "pygments_lexer": "ipython3",
   "version": "3.6.4"
  }
 },
 "nbformat": 4,
 "nbformat_minor": 2
}
