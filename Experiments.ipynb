{
 "cells": [
  {
   "cell_type": "markdown",
   "metadata": {},
   "source": [
    "# Accuracy Comparison"
   ]
  },
  {
   "cell_type": "code",
   "execution_count": null,
   "metadata": {},
   "outputs": [],
   "source": [
    "# libraries\n",
    "from lib.analysis import plot_accuracy_analysis\n",
    " \n",
    "dataset_name = 'compas-binary'\n",
    "plot_accuracy_analysis(dataset_name, 'Test Accuracy vs Tree Width ({})'.format(dataset_name))"
   ]
  },
  {
   "cell_type": "markdown",
   "metadata": {},
   "source": [
    "# Scalability Comparison"
   ]
  },
  {
   "cell_type": "code",
   "execution_count": null,
   "metadata": {
    "scrolled": false
   },
   "outputs": [],
   "source": [
    "from mpl_toolkits import mplot3d\n",
    "\n",
    "from lib.data_processing import read_dataset\n",
    "from lib.analysis import plot_scalability_analysis\n",
    "\n",
    "dataset_name = 'compas-binary'\n",
    "timeout = 60\n",
    "\n",
    "# Scalablity Analysis for CART\n",
    "dataset = read_dataset('data/scalability/{}/{}.csv'.format(dataset_name, 'cart'))\n",
    "plot_scalability_analysis(dataset, 'CART Scalability', z_limit=timeout)\n",
    "\n",
    "# Scalablity Analysis for OSDT\n",
    "dataset = read_dataset('data/scalability/{}/{}.csv'.format(dataset_name, 'osdt'))\n",
    "plot_scalability_analysis(dataset, 'OSDT Scalability', z_limit=timeout)\n",
    "\n",
    "# Scalablity Analysis for Parallel OSDT\n",
    "# for core_count in [1, 2, 4, 8, 16, 32, 60]:\n",
    "for core_count in [1, 2]:\n",
    "    dataset = read_dataset('data/scalability/{}/parallel_osdt_{}_core.csv'.format(dataset_name, core_count))\n",
    "    plot_scalability_analysis(dataset, 'Parallel OSDT Scalability ({} Clients, 1 Server)'.format(core_count), z_limit=timeout)"
   ]
  },
  {
   "cell_type": "markdown",
   "metadata": {},
   "source": [
    "# Convergence Rate"
   ]
  },
  {
   "cell_type": "code",
   "execution_count": null,
   "metadata": {},
   "outputs": [],
   "source": [
    "import matplotlib.pyplot as plt\n",
    "\n",
    "dataset = read_dataset('data/convergence/convergence.csv')\n",
    "(n, m) = dataset.shape\n",
    "\n",
    "x = dataset.values[:,0]\n",
    "y1 = dataset.values[:,1]\n",
    "y2 = dataset.values[:,2]\n",
    "\n",
    "fig = plt.figure(figsize=(10, 8), dpi=100)\n",
    "plt.plot(x, y1, label='lowerbound', markersize=2, marker='o', linewidth=1)\n",
    "plt.plot(x, y2, label='upperbound', markersize=2, marker='o', linewidth=1)\n",
    "plt.xlabel('Time (s)')\n",
    "plt.ylabel('Objective Bounds')\n",
    "plt.grid()\n",
    "plt.legend()\n",
    "plt.title('Objective Bounds vs Time')"
   ]
  },
  {
   "cell_type": "markdown",
   "metadata": {},
   "source": [
    "# Memory Profile"
   ]
  },
  {
   "cell_type": "markdown",
   "metadata": {},
   "source": [
    "# Runtime Profile"
   ]
  },
  {
   "cell_type": "code",
   "execution_count": null,
   "metadata": {},
   "outputs": [],
   "source": [
    "import cProfile\n",
    "\n",
    "# local imports\n",
    "from lib.parallel_osdt_classifier import ParallelOSDTClassifier\n",
    "from lib.data_processing import read_dataset\n",
    "\n",
    "# Using COMPAS as an example\n",
    "dataset = read_dataset('data/preprocessed/compas-binary.csv', sep=\";\") \n",
    "(n, m) = dataset.shape\n",
    "X = dataset.values[:n,:-1]\n",
    "y = dataset.values[:n,-1]\n",
    "\n",
    "hyperparameters = {\n",
    "    'regularization': 0.005, # Regularization coefficient which effects the penalty on model complexity\n",
    "\n",
    "    'max_depth': float('Inf'), # User-specified limit on the model\n",
    "    'max_time': float('Inf'), # User-specified limit on the runtime \n",
    "\n",
    "    'clients': 1, # Parameter that varies based on how much computational resource is available\n",
    "    'servers': 1, # Parameter that varies based on how much computational resource is available\n",
    "\n",
    "    'visualize': False, # Toggle whether a rule-list visualization is rendered\n",
    "    'verbose': False, # Toggle whether event messages are printed\n",
    "    'log': False, # Toggle whether client processes log to logs/work_<id>.log files\n",
    "    \n",
    "    'configuration': { # More configurations around toggling optimizations and prioritization options\n",
    "        'priority_metric': 'uncertainty', # Decides how tasks are prioritized\n",
    "        'deprioritization': 0.01, # Decides how much to push back a task if it has pending dependencies\n",
    "\n",
    "        # Note that Leaf Permutation Bound (Theorem 6) is \n",
    "        # Toggles the assumption about objective independence when composing subtrees (Theorem 1)\n",
    "        # Disabling this actually breaks convergence due to information loss\n",
    "        'hierarchical_lowerbound': True, \n",
    "        # Toggles whether problems are pruned based on insufficient accuracy (compared to other results) (Lemma 2)\n",
    "        'look_ahead': True,\n",
    "        # Toggles whether a split is avoided based on insufficient support (proxy for accuracy gain) (Theorem 3)\n",
    "        'support_lowerbound': True,\n",
    "        # Toggles whether a split is avoided based on insufficient potential accuracy gain (Theorem 4)\n",
    "        'incremental_accuracy_lowerbound': True,\n",
    "        # Toggles whether a problem is pruned based on insufficient accuracy (in general) (Theorem 5)\n",
    "        'accuracy_lowerbound': True,\n",
    "        # Toggles whether problem equivalence is based solely on the capture set (Similar to Corollary 6)\n",
    "        'capture_equivalence': True,\n",
    "        # Hamming distance used to propagate bounding information of similar problems (Theorem 7 + some more...)\n",
    "        \"similarity_threshold\": 0,\n",
    "        # Toggles whether equivalent points contribute to the lowerbound (Proposition 8 and Theorem 9)\n",
    "        'equivalent_point_lowerbound': True,\n",
    "\n",
    "        # Toggles compression of dataset based on equivalent point aggregation\n",
    "        'equivalent_point_compression': True,\n",
    "        # Toggles whether asynchronous tasks can be cancelled after being issued\n",
    "        'task_cancellation': True,\n",
    "        # Toggles whether look_ahead prunes using objective upperbounds (This builds on top of look_ahead)\n",
    "        'interval_look_ahead': True,\n",
    "        # Cooldown timer (seconds) on synchornization operations\n",
    "        'synchronization_cooldown': 0.1\n",
    "    }\n",
    "}\n",
    "\n",
    "model = ParallelOSDTClassifier(**hyperparameters)\n",
    "model.fit(X, y)\n",
    "cProfile.run('model.fit(X, y)', sort='tottime')"
   ]
  },
  {
   "cell_type": "code",
   "execution_count": null,
   "metadata": {},
   "outputs": [],
   "source": []
  }
 ],
 "metadata": {
  "kernelspec": {
   "display_name": "Python 3",
   "language": "python",
   "name": "python3"
  },
  "language_info": {
   "codemirror_mode": {
    "name": "ipython",
    "version": 3
   },
   "file_extension": ".py",
   "mimetype": "text/x-python",
   "name": "python",
   "nbconvert_exporter": "python",
   "pygments_lexer": "ipython3",
   "version": "3.6.4"
  }
 },
 "nbformat": 4,
 "nbformat_minor": 2
}
