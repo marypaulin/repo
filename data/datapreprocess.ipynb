{
 "cells": [
  {
   "cell_type": "code",
   "execution_count": 1,
   "metadata": {},
   "outputs": [],
   "source": [
    "import pandas as pd\n",
    "import numpy as np"
   ]
  },
  {
   "cell_type": "code",
   "execution_count": 2,
   "metadata": {},
   "outputs": [],
   "source": [
    "# Read in the dataset\n",
    "votes = pd.DataFrame(pd.read_csv('voting-records/house-votes-84.data',header=None))"
   ]
  },
  {
   "cell_type": "code",
   "execution_count": 3,
   "metadata": {},
   "outputs": [],
   "source": [
    "votes[votes==\"?\"] = np.nan"
   ]
  },
  {
   "cell_type": "code",
   "execution_count": 4,
   "metadata": {},
   "outputs": [],
   "source": [
    "votes=votes.dropna(axis = 0)"
   ]
  },
  {
   "cell_type": "code",
   "execution_count": 5,
   "metadata": {},
   "outputs": [],
   "source": [
    "votes[votes==\"y\"] = 1\n",
    "votes[votes==\"n\"] = 0\n",
    "votes[votes==\"democrat\"] = 1\n",
    "votes[votes==\"republican\"] = 0"
   ]
  },
  {
   "cell_type": "code",
   "execution_count": 6,
   "metadata": {},
   "outputs": [],
   "source": [
    "votes.columns=[\"democrat\", \"handicapped-infants\", \"water-project-cost-sharing\", \"adoption-of-the-budget-resolution\", \n",
    "               \"physician-fee-freeze\", \"el-salvador-aid\", \"religious-groups-in-schools\", \"anti-satellite-test-ban\",\n",
    "               \"aid-to-nicaraguan-contras\", \"mx-missile\", \"immigration\", \"synfuels-corporation-cutback\", \n",
    "               \"education-spending\", \"superfund-right-to-sue\", \"crime\", \"duty-free-exports\", \n",
    "               \"export-administration-act-south-africa\"\n",
    "              ]"
   ]
  },
  {
   "cell_type": "code",
   "execution_count": 7,
   "metadata": {},
   "outputs": [],
   "source": [
    "votes.to_csv('voting-records-binary.csv',index=False,sep=',')"
   ]
  },
  {
   "cell_type": "code",
   "execution_count": 33,
   "metadata": {},
   "outputs": [],
   "source": [
    "#monk1\n",
    "monk1 = pd.DataFrame(pd.read_csv('monks-problems/monks-1.train',header=None,delimiter=\" \"))\n",
    "monk1 = monk1.drop(columns=[0,8])\n",
    "monk1 = monk1.applymap(str)\n",
    "monk1 = pd.get_dummies(monk1, prefix=[\"class\", \"a1\", \"a2\", \"a3\", \"a4\", \"a5\", \"a6\"])\n",
    "monk1 = monk1.drop(columns=['class_0', 'a1_3', 'a2_3', 'a3_2', 'a4_3', 'a5_4', 'a6_2'])\n",
    "monk1.to_csv('monk1-train.csv',index=False,sep=',')"
   ]
  },
  {
   "cell_type": "code",
   "execution_count": 34,
   "metadata": {},
   "outputs": [],
   "source": [
    "#monk2\n",
    "monk2 = pd.DataFrame(pd.read_csv('monks-problems/monks-2.train',header=None,delimiter=\" \"))\n",
    "monk2 = monk2.drop(columns=[0,8])\n",
    "monk2 = monk2.applymap(str)\n",
    "monk2 = pd.get_dummies(monk2, prefix=[\"class\", \"a1\", \"a2\", \"a3\", \"a4\", \"a5\", \"a6\"])\n",
    "monk2 = monk2.drop(columns=['class_0', 'a1_3', 'a2_3', 'a3_2', 'a4_3', 'a5_4', 'a6_2'])\n",
    "monk2.to_csv('monk2-train.csv',index=False,sep=',')"
   ]
  },
  {
   "cell_type": "code",
   "execution_count": 35,
   "metadata": {},
   "outputs": [],
   "source": [
    "#monk3\n",
    "monk3 = pd.DataFrame(pd.read_csv('monks-problems/monks-3.train',header=None,delimiter=\" \"))\n",
    "monk3 = monk3.drop(columns=[0,8])\n",
    "monk3 = monk3.applymap(str)\n",
    "monk3 = pd.get_dummies(monk3, prefix=[\"class\", \"a1\", \"a2\", \"a3\", \"a4\", \"a5\", \"a6\"])\n",
    "monk3 = monk3.drop(columns=['class_0', 'a1_3', 'a2_3', 'a3_2', 'a4_3', 'a5_4', 'a6_2'])\n",
    "monk3.to_csv('monk3-train.csv',index=False,sep=',')"
   ]
  },
  {
   "cell_type": "code",
   "execution_count": null,
   "metadata": {},
   "outputs": [],
   "source": []
  }
 ],
 "metadata": {
  "kernelspec": {
   "display_name": "Python 3",
   "language": "python",
   "name": "python3"
  },
  "language_info": {
   "codemirror_mode": {
    "name": "ipython",
    "version": 3
   },
   "file_extension": ".py",
   "mimetype": "text/x-python",
   "name": "python",
   "nbconvert_exporter": "python",
   "pygments_lexer": "ipython3",
   "version": "3.7.0"
  }
 },
 "nbformat": 4,
 "nbformat_minor": 2
}
